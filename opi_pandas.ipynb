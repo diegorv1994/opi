{
 "cells": [
  {
   "cell_type": "code",
   "execution_count": 82,
   "metadata": {},
   "outputs": [],
   "source": [
    "import pandas as pd\n",
    "import warnings"
   ]
  },
  {
   "cell_type": "code",
   "execution_count": 83,
   "metadata": {},
   "outputs": [],
   "source": [
    "df=pd.read_csv(\"carpetas-de-investigacion-pgj-cdmx.csv\")"
   ]
  },
  {
   "cell_type": "code",
   "execution_count": 84,
   "metadata": {
    "scrolled": true
   },
   "outputs": [
    {
     "data": {
      "text/html": [
       "<div>\n",
       "<style scoped>\n",
       "    .dataframe tbody tr th:only-of-type {\n",
       "        vertical-align: middle;\n",
       "    }\n",
       "\n",
       "    .dataframe tbody tr th {\n",
       "        vertical-align: top;\n",
       "    }\n",
       "\n",
       "    .dataframe thead th {\n",
       "        text-align: right;\n",
       "    }\n",
       "</style>\n",
       "<table border=\"1\" class=\"dataframe\">\n",
       "  <thead>\n",
       "    <tr style=\"text-align: right;\">\n",
       "      <th></th>\n",
       "      <th>año_hechos</th>\n",
       "      <th>mes_hechos</th>\n",
       "      <th>fecha_hechos</th>\n",
       "      <th>delito</th>\n",
       "      <th>categoria_delito</th>\n",
       "      <th>fiscalía</th>\n",
       "      <th>agencia</th>\n",
       "      <th>unidad_investigacion</th>\n",
       "      <th>colonia_hechos</th>\n",
       "      <th>alcaldia_hechos</th>\n",
       "      <th>fecha_inicio</th>\n",
       "      <th>mes_inicio</th>\n",
       "      <th>ao_inicio</th>\n",
       "      <th>calle_hechos</th>\n",
       "      <th>calle_hechos2</th>\n",
       "      <th>longitud</th>\n",
       "      <th>latitud</th>\n",
       "      <th>Geopoint</th>\n",
       "    </tr>\n",
       "  </thead>\n",
       "  <tbody>\n",
       "    <tr>\n",
       "      <th>0</th>\n",
       "      <td>2016.0</td>\n",
       "      <td>Enero</td>\n",
       "      <td>2016-01-05 17:00:00</td>\n",
       "      <td>LESIONES CULPOSAS</td>\n",
       "      <td>DELITO DE BAJO IMPACTO</td>\n",
       "      <td>INVESTIGACIÓN EN GUSTAVO A. MADERO</td>\n",
       "      <td>GAM-6</td>\n",
       "      <td>UI-1CD</td>\n",
       "      <td>GRANJAS MODERNAS</td>\n",
       "      <td>GUSTAVO A MADERO</td>\n",
       "      <td>2016-01-05 18:35:37</td>\n",
       "      <td>Enero</td>\n",
       "      <td>2016</td>\n",
       "      <td>SAN JUAN DE ARAGON</td>\n",
       "      <td>CALLE ANZAR</td>\n",
       "      <td>-99.103527</td>\n",
       "      <td>19.481076</td>\n",
       "      <td>19.4810759998,-99.103527</td>\n",
       "    </tr>\n",
       "    <tr>\n",
       "      <th>1</th>\n",
       "      <td>2017.0</td>\n",
       "      <td>Noviembre</td>\n",
       "      <td>2017-11-01 14:00:00</td>\n",
       "      <td>ROBO DE VEHICULO DE SERVICIO PARTICULAR SIN VI...</td>\n",
       "      <td>ROBO DE VEHÍCULO CON Y SIN VIOLENCIA</td>\n",
       "      <td>INVESTIGACIÓN EN AZCAPOTZALCO</td>\n",
       "      <td>AZ-1</td>\n",
       "      <td>UI-1SD</td>\n",
       "      <td>NaN</td>\n",
       "      <td>TLALNEPANTLA DE BAZ</td>\n",
       "      <td>2017-11-01 16:45:20</td>\n",
       "      <td>Noviembre</td>\n",
       "      <td>2017</td>\n",
       "      <td>BENITO JUAREZ</td>\n",
       "      <td>MUNICIPIO DE TLALNEPANTLA, ESTADO DE MEXICO</td>\n",
       "      <td>NaN</td>\n",
       "      <td>NaN</td>\n",
       "      <td>NaN</td>\n",
       "    </tr>\n",
       "    <tr>\n",
       "      <th>2</th>\n",
       "      <td>2017.0</td>\n",
       "      <td>Noviembre</td>\n",
       "      <td>2017-11-01 16:40:00</td>\n",
       "      <td>ROBO A TRANSEUNTE EN VIA PUBLICA CON VIOLENCIA</td>\n",
       "      <td>ROBO A TRANSEUNTE EN VÍA PÚBLICA CON Y SIN VIO...</td>\n",
       "      <td>INVESTIGACIÓN EN IZTACALCO</td>\n",
       "      <td>IZC-2</td>\n",
       "      <td>UI-1SD</td>\n",
       "      <td>GABRIEL RAMOS MILLÁN SECCIÓN TLACOTAL</td>\n",
       "      <td>IZTACALCO</td>\n",
       "      <td>2017-11-01 16:56:04</td>\n",
       "      <td>Noviembre</td>\n",
       "      <td>2017</td>\n",
       "      <td>SUR 117</td>\n",
       "      <td>ORIENTE 100A</td>\n",
       "      <td>-99.106072</td>\n",
       "      <td>19.395398</td>\n",
       "      <td>19.3953976727,-99.1060723829</td>\n",
       "    </tr>\n",
       "    <tr>\n",
       "      <th>3</th>\n",
       "      <td>2015.0</td>\n",
       "      <td>Diciembre</td>\n",
       "      <td>2015-12-30 20:00:00</td>\n",
       "      <td>FRAUDE</td>\n",
       "      <td>DELITO DE BAJO IMPACTO</td>\n",
       "      <td>INVESTIGACIÓN EN IZTAPALAPA</td>\n",
       "      <td>IZP-8</td>\n",
       "      <td>UI-1CD</td>\n",
       "      <td>CONSEJO AGRARISTA MEXICANO</td>\n",
       "      <td>IZTAPALAPA</td>\n",
       "      <td>2016-01-05 21:12:42</td>\n",
       "      <td>Enero</td>\n",
       "      <td>2016</td>\n",
       "      <td>CUARTA CERRADA DE FRESNO</td>\n",
       "      <td>ENCINO (SIN REGISTRO DEL SAP)</td>\n",
       "      <td>-99.055887</td>\n",
       "      <td>19.322458</td>\n",
       "      <td>19.3224579998,-99.055887</td>\n",
       "    </tr>\n",
       "    <tr>\n",
       "      <th>4</th>\n",
       "      <td>2018.0</td>\n",
       "      <td>Mayo</td>\n",
       "      <td>2018-05-16 16:00:00</td>\n",
       "      <td>ROBO A REPARTIDOR CON VIOLENCIA</td>\n",
       "      <td>ROBO A REPARTIDOR CON Y SIN VIOLENCIA</td>\n",
       "      <td>INVESTIGACIÓN EN IZTAPALAPA</td>\n",
       "      <td>IZP-9</td>\n",
       "      <td>UI-2SD</td>\n",
       "      <td>DESARROLLO URBANO QUETZALCOATL</td>\n",
       "      <td>IZTAPALAPA</td>\n",
       "      <td>2018-05-22 10:44:45</td>\n",
       "      <td>Mayo</td>\n",
       "      <td>2018</td>\n",
       "      <td>TARASCO</td>\n",
       "      <td>ZAPOTECO</td>\n",
       "      <td>-99.042786</td>\n",
       "      <td>19.319141</td>\n",
       "      <td>19.3191405147,-99.0427862526</td>\n",
       "    </tr>\n",
       "  </tbody>\n",
       "</table>\n",
       "</div>"
      ],
      "text/plain": [
       "   año_hechos mes_hechos         fecha_hechos  \\\n",
       "0      2016.0      Enero  2016-01-05 17:00:00   \n",
       "1      2017.0  Noviembre  2017-11-01 14:00:00   \n",
       "2      2017.0  Noviembre  2017-11-01 16:40:00   \n",
       "3      2015.0  Diciembre  2015-12-30 20:00:00   \n",
       "4      2018.0       Mayo  2018-05-16 16:00:00   \n",
       "\n",
       "                                              delito  \\\n",
       "0                                  LESIONES CULPOSAS   \n",
       "1  ROBO DE VEHICULO DE SERVICIO PARTICULAR SIN VI...   \n",
       "2     ROBO A TRANSEUNTE EN VIA PUBLICA CON VIOLENCIA   \n",
       "3                                             FRAUDE   \n",
       "4                    ROBO A REPARTIDOR CON VIOLENCIA   \n",
       "\n",
       "                                    categoria_delito  \\\n",
       "0                             DELITO DE BAJO IMPACTO   \n",
       "1               ROBO DE VEHÍCULO CON Y SIN VIOLENCIA   \n",
       "2  ROBO A TRANSEUNTE EN VÍA PÚBLICA CON Y SIN VIO...   \n",
       "3                             DELITO DE BAJO IMPACTO   \n",
       "4              ROBO A REPARTIDOR CON Y SIN VIOLENCIA   \n",
       "\n",
       "                             fiscalía agencia unidad_investigacion  \\\n",
       "0  INVESTIGACIÓN EN GUSTAVO A. MADERO   GAM-6               UI-1CD   \n",
       "1       INVESTIGACIÓN EN AZCAPOTZALCO    AZ-1               UI-1SD   \n",
       "2          INVESTIGACIÓN EN IZTACALCO   IZC-2               UI-1SD   \n",
       "3         INVESTIGACIÓN EN IZTAPALAPA   IZP-8               UI-1CD   \n",
       "4         INVESTIGACIÓN EN IZTAPALAPA   IZP-9               UI-2SD   \n",
       "\n",
       "                          colonia_hechos      alcaldia_hechos  \\\n",
       "0                       GRANJAS MODERNAS     GUSTAVO A MADERO   \n",
       "1                                    NaN  TLALNEPANTLA DE BAZ   \n",
       "2  GABRIEL RAMOS MILLÁN SECCIÓN TLACOTAL            IZTACALCO   \n",
       "3             CONSEJO AGRARISTA MEXICANO           IZTAPALAPA   \n",
       "4         DESARROLLO URBANO QUETZALCOATL           IZTAPALAPA   \n",
       "\n",
       "          fecha_inicio mes_inicio  ao_inicio              calle_hechos  \\\n",
       "0  2016-01-05 18:35:37      Enero       2016        SAN JUAN DE ARAGON   \n",
       "1  2017-11-01 16:45:20  Noviembre       2017             BENITO JUAREZ   \n",
       "2  2017-11-01 16:56:04  Noviembre       2017                   SUR 117   \n",
       "3  2016-01-05 21:12:42      Enero       2016  CUARTA CERRADA DE FRESNO   \n",
       "4  2018-05-22 10:44:45       Mayo       2018                   TARASCO   \n",
       "\n",
       "                                 calle_hechos2   longitud    latitud  \\\n",
       "0                                  CALLE ANZAR -99.103527  19.481076   \n",
       "1  MUNICIPIO DE TLALNEPANTLA, ESTADO DE MEXICO        NaN        NaN   \n",
       "2                                 ORIENTE 100A -99.106072  19.395398   \n",
       "3                ENCINO (SIN REGISTRO DEL SAP) -99.055887  19.322458   \n",
       "4                                     ZAPOTECO -99.042786  19.319141   \n",
       "\n",
       "                       Geopoint  \n",
       "0      19.4810759998,-99.103527  \n",
       "1                           NaN  \n",
       "2  19.3953976727,-99.1060723829  \n",
       "3      19.3224579998,-99.055887  \n",
       "4  19.3191405147,-99.0427862526  "
      ]
     },
     "execution_count": 84,
     "metadata": {},
     "output_type": "execute_result"
    }
   ],
   "source": [
    "df.head()"
   ]
  },
  {
   "cell_type": "markdown",
   "metadata": {},
   "source": [
    "1) ¿Qué pruebas identificarías para asegurar la calidad de estos datos? No es necesario\n",
    "hacerlas. Sólo describe la prueba y qué te dice cada una."
   ]
  },
  {
   "cell_type": "markdown",
   "metadata": {},
   "source": [
    "1. Detección de duplicados: Es para que no haya registros duplicados\n",
    "2. Contar nulos en columnas: Es posible que haya columnas casi totalmente vacias\n",
    "3. Tipos de datos: Los tipos de datos deben ser consistentes, si por ejemplo una columna representa\n",
    "una cantidad el tipo de dato debe ser entero o decimal\n",
    "4. Distribuciones de los datos en cada columna: Es para notar outliyers\n",
    "5. Nombres de columnas estandarizados: Que los diferentes dataframes tengan\n",
    "la misma nomeclatura para nombrar columnas\n",
    "6. Presencia de columnas relevantes: Asegurarse de que columnas importantes para\n",
    "el análisis esten en los dataframes"
   ]
  },
  {
   "cell_type": "markdown",
   "metadata": {},
   "source": [
    "2) ¿Cuántos delitos registrados hay en la tabla?"
   ]
  },
  {
   "cell_type": "code",
   "execution_count": 85,
   "metadata": {},
   "outputs": [
    {
     "data": {
      "text/plain": [
       "0"
      ]
     },
     "execution_count": 85,
     "metadata": {},
     "output_type": "execute_result"
    }
   ],
   "source": [
    "df[\"delito\"].isnull().sum()"
   ]
  },
  {
   "cell_type": "code",
   "execution_count": 86,
   "metadata": {},
   "outputs": [
    {
     "data": {
      "text/plain": [
       "808871"
      ]
     },
     "execution_count": 86,
     "metadata": {},
     "output_type": "execute_result"
    }
   ],
   "source": [
    "len(df[\"delito\"])"
   ]
  },
  {
   "cell_type": "markdown",
   "metadata": {},
   "source": [
    "¿Qué rango de tiempo consideran los\n",
    "datos?"
   ]
  },
  {
   "cell_type": "code",
   "execution_count": 87,
   "metadata": {},
   "outputs": [],
   "source": [
    "lst=[]\n",
    "for i in list(df[\"año_hechos\"]):\n",
    "    if i not in lst and str(i)!=\"nan\":\n",
    "        lst.append(i)"
   ]
  },
  {
   "cell_type": "code",
   "execution_count": 88,
   "metadata": {},
   "outputs": [
    {
     "data": {
      "text/plain": [
       "'De 1906 a 2019'"
      ]
     },
     "execution_count": 88,
     "metadata": {},
     "output_type": "execute_result"
    }
   ],
   "source": [
    "\"De {} a {}\".format(int(min(lst)),int(max(lst)))"
   ]
  },
  {
   "cell_type": "code",
   "execution_count": 89,
   "metadata": {},
   "outputs": [],
   "source": [
    "cdmx=pd.read_csv(\"cuadrantes.csv\")"
   ]
  },
  {
   "cell_type": "code",
   "execution_count": 90,
   "metadata": {},
   "outputs": [],
   "source": [
    "cdmx[\"Alcaldía\"]=cdmx[\"Alcaldía\"].str.lower()"
   ]
  },
  {
   "cell_type": "code",
   "execution_count": 91,
   "metadata": {},
   "outputs": [],
   "source": [
    "warnings.filterwarnings(\"ignore\")\n",
    "for i in range(len(cdmx)):\n",
    "    if cdmx[\"Alcaldía\"][i]==\"magdalena contreras\":\n",
    "        cdmx[\"Alcaldía\"][i]=\"la magdalena contreras\"\n",
    "    if cdmx[\"Alcaldía\"][i]==\"cuajimalpa\":\n",
    "        cdmx[\"Alcaldía\"][i]=\"cuajimalpa de morelos\""
   ]
  },
  {
   "cell_type": "markdown",
   "metadata": {},
   "source": [
    "Faltan magdalena contreras y cuajimalpa"
   ]
  },
  {
   "cell_type": "code",
   "execution_count": 92,
   "metadata": {},
   "outputs": [],
   "source": [
    "alcaldias=[i.lower() for i in set(cdmx[\"Alcaldía\"])]"
   ]
  },
  {
   "cell_type": "code",
   "execution_count": 93,
   "metadata": {},
   "outputs": [
    {
     "data": {
      "text/plain": [
       "['alvaro obregon',\n",
       " 'azcapotzalco',\n",
       " 'benito juarez',\n",
       " 'coyoacan',\n",
       " 'cuajimalpa de morelos',\n",
       " 'cuauhtemoc',\n",
       " 'gustavo a madero',\n",
       " 'iztacalco',\n",
       " 'iztapalapa',\n",
       " 'la magdalena contreras',\n",
       " 'miguel hidalgo',\n",
       " 'milpa alta',\n",
       " 'tlahuac',\n",
       " 'tlalpan',\n",
       " 'venustiano carranza',\n",
       " 'xochimilco']"
      ]
     },
     "execution_count": 93,
     "metadata": {},
     "output_type": "execute_result"
    }
   ],
   "source": [
    "alcaldias.sort()\n",
    "alcaldias"
   ]
  },
  {
   "cell_type": "code",
   "execution_count": 94,
   "metadata": {},
   "outputs": [],
   "source": [
    "df[\"alcaldia_hechos\"]=df[\"alcaldia_hechos\"].str.lower()"
   ]
  },
  {
   "cell_type": "code",
   "execution_count": 95,
   "metadata": {},
   "outputs": [
    {
     "data": {
      "text/plain": [
       "cuauhtemoc                131397\n",
       "iztapalapa                119926\n",
       "gustavo a madero           80097\n",
       "benito juarez              70599\n",
       "coyoacan                   54235\n",
       "miguel hidalgo             53688\n",
       "alvaro obregon             52568\n",
       "venustiano carranza        46224\n",
       "tlalpan                    46179\n",
       "azcapotzalco               39435\n",
       "iztacalco                  34407\n",
       "xochimilco                 24639\n",
       "tlahuac                    18197\n",
       "la magdalena contreras     12064\n",
       "cuajimalpa de morelos      11393\n",
       "milpa alta                  5159\n",
       "nezahualcoyotl              1289\n",
       "tlalnepantla de baz          803\n",
       "ecatepec de morelos          723\n",
       "naucalpan de juarez          580\n",
       "Name: alcaldia_hechos, dtype: int64"
      ]
     },
     "execution_count": 95,
     "metadata": {},
     "output_type": "execute_result"
    }
   ],
   "source": [
    "df[\"alcaldia_hechos\"].value_counts().head(20)"
   ]
  },
  {
   "cell_type": "code",
   "execution_count": 96,
   "metadata": {},
   "outputs": [],
   "source": [
    "interseccion=[i for i in list(df[\"alcaldia_hechos\"]) if i in alcaldias]"
   ]
  },
  {
   "cell_type": "code",
   "execution_count": 97,
   "metadata": {},
   "outputs": [
    {
     "data": {
      "text/plain": [
       "800207"
      ]
     },
     "execution_count": 97,
     "metadata": {},
     "output_type": "execute_result"
    }
   ],
   "source": [
    "len(inter)"
   ]
  },
  {
   "cell_type": "code",
   "execution_count": 98,
   "metadata": {},
   "outputs": [
    {
     "data": {
      "text/plain": [
       "['alvaro obregon',\n",
       " 'azcapotzalco',\n",
       " 'benito juarez',\n",
       " 'coyoacan',\n",
       " 'cuajimalpa de morelos',\n",
       " 'cuauhtemoc',\n",
       " 'gustavo a madero',\n",
       " 'iztacalco',\n",
       " 'iztapalapa',\n",
       " 'la magdalena contreras',\n",
       " 'miguel hidalgo',\n",
       " 'milpa alta',\n",
       " 'tlahuac',\n",
       " 'tlalpan',\n",
       " 'venustiano carranza',\n",
       " 'xochimilco']"
      ]
     },
     "execution_count": 98,
     "metadata": {},
     "output_type": "execute_result"
    }
   ],
   "source": [
    "alcaldias_comun=list(set(inter))\n",
    "alcaldias_comun.sort()\n",
    "alcaldias_comun"
   ]
  },
  {
   "cell_type": "code",
   "execution_count": 99,
   "metadata": {},
   "outputs": [
    {
     "data": {
      "text/plain": [
       "['alvaro obregon',\n",
       " 'azcapotzalco',\n",
       " 'benito juarez',\n",
       " 'coyoacan',\n",
       " 'cuajimalpa de morelos',\n",
       " 'cuauhtemoc',\n",
       " 'gustavo a madero',\n",
       " 'iztacalco',\n",
       " 'iztapalapa',\n",
       " 'la magdalena contreras',\n",
       " 'miguel hidalgo',\n",
       " 'milpa alta',\n",
       " 'tlahuac',\n",
       " 'tlalpan',\n",
       " 'venustiano carranza',\n",
       " 'xochimilco']"
      ]
     },
     "execution_count": 99,
     "metadata": {},
     "output_type": "execute_result"
    }
   ],
   "source": [
    "alcaldias_comun"
   ]
  },
  {
   "cell_type": "code",
   "execution_count": 100,
   "metadata": {},
   "outputs": [],
   "source": [
    "df_cdmx=df.head(0)"
   ]
  },
  {
   "cell_type": "code",
   "execution_count": 101,
   "metadata": {},
   "outputs": [
    {
     "data": {
      "text/html": [
       "<div>\n",
       "<style scoped>\n",
       "    .dataframe tbody tr th:only-of-type {\n",
       "        vertical-align: middle;\n",
       "    }\n",
       "\n",
       "    .dataframe tbody tr th {\n",
       "        vertical-align: top;\n",
       "    }\n",
       "\n",
       "    .dataframe thead th {\n",
       "        text-align: right;\n",
       "    }\n",
       "</style>\n",
       "<table border=\"1\" class=\"dataframe\">\n",
       "  <thead>\n",
       "    <tr style=\"text-align: right;\">\n",
       "      <th></th>\n",
       "      <th>año_hechos</th>\n",
       "      <th>mes_hechos</th>\n",
       "      <th>fecha_hechos</th>\n",
       "      <th>delito</th>\n",
       "      <th>categoria_delito</th>\n",
       "      <th>fiscalía</th>\n",
       "      <th>agencia</th>\n",
       "      <th>unidad_investigacion</th>\n",
       "      <th>colonia_hechos</th>\n",
       "      <th>alcaldia_hechos</th>\n",
       "      <th>fecha_inicio</th>\n",
       "      <th>mes_inicio</th>\n",
       "      <th>ao_inicio</th>\n",
       "      <th>calle_hechos</th>\n",
       "      <th>calle_hechos2</th>\n",
       "      <th>longitud</th>\n",
       "      <th>latitud</th>\n",
       "      <th>Geopoint</th>\n",
       "    </tr>\n",
       "  </thead>\n",
       "  <tbody>\n",
       "  </tbody>\n",
       "</table>\n",
       "</div>"
      ],
      "text/plain": [
       "Empty DataFrame\n",
       "Columns: [año_hechos, mes_hechos, fecha_hechos, delito, categoria_delito, fiscalía, agencia, unidad_investigacion, colonia_hechos, alcaldia_hechos, fecha_inicio, mes_inicio, ao_inicio, calle_hechos, calle_hechos2, longitud, latitud, Geopoint]\n",
       "Index: []"
      ]
     },
     "execution_count": 101,
     "metadata": {},
     "output_type": "execute_result"
    }
   ],
   "source": [
    "df_cdmx"
   ]
  },
  {
   "cell_type": "code",
   "execution_count": 102,
   "metadata": {},
   "outputs": [
    {
     "data": {
      "text/plain": [
       "cuauhtemoc          131397\n",
       "iztapalapa          119926\n",
       "gustavo a madero     80097\n",
       "benito juarez        70599\n",
       "coyoacan             54235\n",
       "                     ...  \n",
       "garcia                   1\n",
       "soto la marina           1\n",
       "mier y noriega           1\n",
       "jaltipan                 1\n",
       "el fuerte                1\n",
       "Name: alcaldia_hechos, Length: 485, dtype: int64"
      ]
     },
     "execution_count": 102,
     "metadata": {},
     "output_type": "execute_result"
    }
   ],
   "source": [
    "df[\"alcaldia_hechos\"].value_counts()"
   ]
  },
  {
   "cell_type": "code",
   "execution_count": 103,
   "metadata": {},
   "outputs": [
    {
     "data": {
      "text/plain": [
       "['alvaro obregon',\n",
       " 'azcapotzalco',\n",
       " 'benito juarez',\n",
       " 'coyoacan',\n",
       " 'cuajimalpa de morelos',\n",
       " 'cuauhtemoc',\n",
       " 'gustavo a madero',\n",
       " 'iztacalco',\n",
       " 'iztapalapa',\n",
       " 'la magdalena contreras',\n",
       " 'miguel hidalgo',\n",
       " 'milpa alta',\n",
       " 'tlahuac',\n",
       " 'tlalpan',\n",
       " 'venustiano carranza',\n",
       " 'xochimilco']"
      ]
     },
     "execution_count": 103,
     "metadata": {},
     "output_type": "execute_result"
    }
   ],
   "source": [
    "alcaldias"
   ]
  },
  {
   "cell_type": "code",
   "execution_count": 104,
   "metadata": {},
   "outputs": [
    {
     "data": {
      "text/html": [
       "<div>\n",
       "<style scoped>\n",
       "    .dataframe tbody tr th:only-of-type {\n",
       "        vertical-align: middle;\n",
       "    }\n",
       "\n",
       "    .dataframe tbody tr th {\n",
       "        vertical-align: top;\n",
       "    }\n",
       "\n",
       "    .dataframe thead th {\n",
       "        text-align: right;\n",
       "    }\n",
       "</style>\n",
       "<table border=\"1\" class=\"dataframe\">\n",
       "  <thead>\n",
       "    <tr style=\"text-align: right;\">\n",
       "      <th></th>\n",
       "      <th>No_region</th>\n",
       "      <th>No_Cuadrante</th>\n",
       "      <th>Zona</th>\n",
       "      <th>Geo Shape</th>\n",
       "      <th>Geo Point</th>\n",
       "      <th>alcaldia_hechos</th>\n",
       "      <th>Sector</th>\n",
       "      <th>Clave_sect</th>\n",
       "    </tr>\n",
       "  </thead>\n",
       "  <tbody>\n",
       "    <tr>\n",
       "      <th>0</th>\n",
       "      <td>1</td>\n",
       "      <td>8</td>\n",
       "      <td>PONIENTE</td>\n",
       "      <td>{\"type\": \"Polygon\", \"coordinates\": [[[-99.2138...</td>\n",
       "      <td>19.3279411421,-99.2101175866</td>\n",
       "      <td>alvaro obregon</td>\n",
       "      <td>SAN ANGEL</td>\n",
       "      <td>3</td>\n",
       "    </tr>\n",
       "    <tr>\n",
       "      <th>1</th>\n",
       "      <td>1</td>\n",
       "      <td>10</td>\n",
       "      <td>PONIENTE</td>\n",
       "      <td>{\"type\": \"Polygon\", \"coordinates\": [[[-99.2137...</td>\n",
       "      <td>19.3163141213,-99.216257215</td>\n",
       "      <td>alvaro obregon</td>\n",
       "      <td>SAN ANGEL</td>\n",
       "      <td>3</td>\n",
       "    </tr>\n",
       "    <tr>\n",
       "      <th>2</th>\n",
       "      <td>1</td>\n",
       "      <td>4</td>\n",
       "      <td>CENTRO</td>\n",
       "      <td>{\"type\": \"Polygon\", \"coordinates\": [[[-99.1485...</td>\n",
       "      <td>19.4587306491,-99.1427404298</td>\n",
       "      <td>cuauhtemoc</td>\n",
       "      <td>TLATELOLCO</td>\n",
       "      <td>8</td>\n",
       "    </tr>\n",
       "    <tr>\n",
       "      <th>3</th>\n",
       "      <td>1</td>\n",
       "      <td>5</td>\n",
       "      <td>CENTRO</td>\n",
       "      <td>{\"type\": \"Polygon\", \"coordinates\": [[[-99.1424...</td>\n",
       "      <td>19.462120565,-99.1394016618</td>\n",
       "      <td>cuauhtemoc</td>\n",
       "      <td>TLATELOLCO</td>\n",
       "      <td>8</td>\n",
       "    </tr>\n",
       "    <tr>\n",
       "      <th>4</th>\n",
       "      <td>1</td>\n",
       "      <td>8</td>\n",
       "      <td>CENTRO</td>\n",
       "      <td>{\"type\": \"Polygon\", \"coordinates\": [[[-99.1296...</td>\n",
       "      <td>19.4544010993,-99.1268359933</td>\n",
       "      <td>cuauhtemoc</td>\n",
       "      <td>TLATELOLCO</td>\n",
       "      <td>8</td>\n",
       "    </tr>\n",
       "  </tbody>\n",
       "</table>\n",
       "</div>"
      ],
      "text/plain": [
       "   No_region  No_Cuadrante      Zona  \\\n",
       "0          1             8  PONIENTE   \n",
       "1          1            10  PONIENTE   \n",
       "2          1             4    CENTRO   \n",
       "3          1             5    CENTRO   \n",
       "4          1             8    CENTRO   \n",
       "\n",
       "                                           Geo Shape  \\\n",
       "0  {\"type\": \"Polygon\", \"coordinates\": [[[-99.2138...   \n",
       "1  {\"type\": \"Polygon\", \"coordinates\": [[[-99.2137...   \n",
       "2  {\"type\": \"Polygon\", \"coordinates\": [[[-99.1485...   \n",
       "3  {\"type\": \"Polygon\", \"coordinates\": [[[-99.1424...   \n",
       "4  {\"type\": \"Polygon\", \"coordinates\": [[[-99.1296...   \n",
       "\n",
       "                      Geo Point alcaldia_hechos      Sector  Clave_sect  \n",
       "0  19.3279411421,-99.2101175866  alvaro obregon   SAN ANGEL           3  \n",
       "1   19.3163141213,-99.216257215  alvaro obregon   SAN ANGEL           3  \n",
       "2  19.4587306491,-99.1427404298      cuauhtemoc  TLATELOLCO           8  \n",
       "3   19.462120565,-99.1394016618      cuauhtemoc  TLATELOLCO           8  \n",
       "4  19.4544010993,-99.1268359933      cuauhtemoc  TLATELOLCO           8  "
      ]
     },
     "execution_count": 104,
     "metadata": {},
     "output_type": "execute_result"
    }
   ],
   "source": [
    "cdmx=cdmx.rename(columns={\"Alcaldía\":\"alcaldia_hechos\"})\n",
    "cdmx.head()"
   ]
  },
  {
   "cell_type": "code",
   "execution_count": 105,
   "metadata": {},
   "outputs": [],
   "source": [
    "df_c=df[df.alcaldia_hechos.isin(alcaldias)]"
   ]
  },
  {
   "cell_type": "code",
   "execution_count": 106,
   "metadata": {},
   "outputs": [
    {
     "data": {
      "text/plain": [
       "(808871, 800207)"
      ]
     },
     "execution_count": 106,
     "metadata": {},
     "output_type": "execute_result"
    }
   ],
   "source": [
    "len(df),len(df_c)"
   ]
  },
  {
   "cell_type": "code",
   "execution_count": 107,
   "metadata": {},
   "outputs": [],
   "source": [
    "df=df_c"
   ]
  },
  {
   "cell_type": "markdown",
   "metadata": {},
   "source": [
    "3) ¿Cómo se distribuye el número de delitos en la CDMX? ¿Cuáles son los 5 delitos más\n",
    "frecuentes?"
   ]
  },
  {
   "cell_type": "code",
   "execution_count": 108,
   "metadata": {},
   "outputs": [
    {
     "data": {
      "text/plain": [
       "VIOLENCIA FAMILIAR                                 69007\n",
       "ROBO DE OBJETOS                                    51870\n",
       "ROBO A NEGOCIO SIN VIOLENCIA                       51396\n",
       "FRAUDE                                             44826\n",
       "DENUNCIA DE HECHOS                                 43613\n",
       "                                                   ...  \n",
       "CONTRA LA LEY GENERAL DE EXPLOSIVOS                    1\n",
       "ROBO A PASAJERO EN TREN SUBURBANO CON VIOLENCIA        1\n",
       "PROCREACION ASISTIDA                                   1\n",
       "EXHORTOS                                               1\n",
       "VIOLACION Y ROBO DE VEHICULO                           1\n",
       "Name: delito, Length: 273, dtype: int64"
      ]
     },
     "execution_count": 108,
     "metadata": {},
     "output_type": "execute_result"
    }
   ],
   "source": [
    "df[\"delito\"].value_counts()"
   ]
  },
  {
   "cell_type": "markdown",
   "metadata": {},
   "source": [
    "1. VIOLENCIA FAMILIAR\n",
    "2. ROBO DE OBJETOS\n",
    "3. ROBO A NEGOCIO SIN VIOLENCIA\n",
    "4. FRAUDE\n",
    "5. DENUNCIA DE HECHOS"
   ]
  },
  {
   "cell_type": "markdown",
   "metadata": {},
   "source": [
    "4) Identifica los delitos que van a la alza y a la baja en la CDMX en el último año (ten\n",
    "cuidado con los delitos con pocas ocurrencias)."
   ]
  },
  {
   "cell_type": "code",
   "execution_count": 109,
   "metadata": {},
   "outputs": [],
   "source": [
    "dict_2018=dict(df[df[\"año_hechos\"]==2018.0][\"delito\"].value_counts())"
   ]
  },
  {
   "cell_type": "code",
   "execution_count": 110,
   "metadata": {},
   "outputs": [],
   "source": [
    "dict_2019=dict(df[df[\"año_hechos\"]==2019.0][\"delito\"].value_counts())"
   ]
  },
  {
   "cell_type": "code",
   "execution_count": 111,
   "metadata": {},
   "outputs": [],
   "source": [
    "data_2018=pd.DataFrame(columns=[\"delito\",\"numero\"])\n",
    "data_2019=pd.DataFrame(columns=[\"delito\",\"numero\"])"
   ]
  },
  {
   "cell_type": "code",
   "execution_count": 112,
   "metadata": {},
   "outputs": [],
   "source": [
    "data_2018[\"delito\"]=dict_2018.keys()\n",
    "data_2018[\"numero\"]=dict_2018.values()\n",
    "data_2019[\"delito\"]=dict_2019.keys()\n",
    "data_2019[\"numero\"]=dict_2019.values()"
   ]
  },
  {
   "cell_type": "code",
   "execution_count": 113,
   "metadata": {},
   "outputs": [
    {
     "data": {
      "application/vnd.plotly.v1+json": {
       "config": {
        "plotlyServerURL": "https://plot.ly"
       },
       "data": [
        {
         "name": "delito 2018",
         "type": "scatter",
         "x": [
          "VIOLENCIA FAMILIAR",
          "ROBO A NEGOCIO SIN VIOLENCIA",
          "ROBO DE OBJETOS",
          "ROBO A TRANSEUNTE DE CELULAR CON VIOLENCIA",
          "FRAUDE",
          "DENUNCIA DE HECHOS",
          "AMENAZAS",
          "ROBO DE ACCESORIOS DE AUTO",
          "ROBO DE OBJETOS DEL INTERIOR DE UN VEHICULO",
          "ROBO A TRANSEUNTE EN VIA PUBLICA CON VIOLENCIA",
          "ROBO A TRANSEUNTE DE CELULAR SIN VIOLENCIA",
          "FALSIFICACION DE TITULOS AL PORTADOR Y DOCUMENTOS DE CREDITO PUBLICO",
          "ROBO A CASA HABITACION SIN VIOLENCIA",
          "ROBO DE VEHICULO DE SERVICIO PARTICULAR SIN VIOLENCIA",
          "NARCOMENUDEO POSESION SIMPLE",
          "ABUSO DE CONFIANZA",
          "DAÑO EN PROPIEDAD AJENA CULPOSA POR TRÁNSITO VEHICULAR A AUTOMOVIL",
          "ROBO A NEGOCIO CON VIOLENCIA",
          "DESPOJO",
          "ROBO A PASAJERO / CONDUCTOR DE VEHICULO CON VIOLENCIA",
          "LESIONES INTENCIONALES POR GOLPES",
          "DAÑO EN PROPIEDAD AJENA INTENCIONAL",
          "LESIONES CULPOSAS POR TRANSITO VEHICULAR EN COLISION",
          "ROBO DE VEHICULO DE SERVICIO PARTICULAR CON VIOLENCIA",
          "ABUSO SEXUAL",
          "USURPACIÓN DE IDENTIDAD",
          "ROBO DE DINERO",
          "LESIONES INTENCIONALES POR ARMA DE FUEGO",
          "DAÑO EN PROPIEDAD AJENA CULPOSA",
          "ABUSO DE AUTORIDAD",
          "ROBO DE VEHICULO DE PEDALES",
          "ROBO DE DOCUMENTOS",
          "ROBO A REPARTIDOR CON VIOLENCIA",
          "TENTATIVA DE EXTORSION",
          "ROBO A PASAJERO A BORDO DE TRANSPORTE PÚBLICO CON VIOLENCIA",
          "PERDIDA DE LA VIDA POR OTRAS CAUSAS",
          "ROBO A TRANSEUNTE EN VIA PUBLICA SIN VIOLENCIA",
          "FALSIFICACION DE DOCUMENTOS",
          "DAÑO EN PROPIEDAD AJENA INTENCIONAL A AUTOMOVIL",
          "LESIONES INTENCIONALES POR ARMA BLANCA",
          "SUSTRACCION DE MENORES",
          "ENCUBRIMIENTO",
          "ROBO DE MOTOCICLETA SIN VIOLENCIA",
          "LESIONES INTENCIONALES",
          "ROBO DE MOTOCICLETA CON VIOLENCIA",
          "NARCOMENUDEO POSESIÓN CON FINES DE VENTA, COMERCIO Y SUMINISTRO",
          "HOMICIDIO POR ARMA DE FUEGO",
          "ROBO A PASAJERO A BORDO DE METRO SIN VIOLENCIA",
          "ALLANAMIENTO DE MORADA",
          "ROBO DE VEHICULO DE SERVICIO PÚBLICO CON VIOLENCIA",
          "LA ADMINISTRACION DE JUSTICIA",
          "LESIONES CULPOSAS POR TRANSITO VEHICULAR",
          "DELITOS AMBIENTALES",
          "ABANDONO DE PERSONA",
          "NEGACION DEL SERVICIO PUBLICO",
          "LESIONES CULPOSAS",
          "QUEBRANTAMIENTO DE SELLOS",
          "ROBO DE PLACA DE AUTOMOVIL",
          "ROBO A PASAJERO A BORDO DE METROBUS SIN VIOLENCIA",
          "VIOLACION",
          "ROBO A PASAJERO A BORDO DE PESERO COLECTIVO CON VIOLENCIA",
          "ROBO DE VEHICULO DE SERVICIO PÚBLICO SIN VIOLENCIA",
          "ROBO DE OBJETOS A ESCUELA",
          "EXTORSION",
          "PRIVACION DE LA LIBERTAD PERSONAL",
          "DISCRIMINACION",
          "ROBO A CASA HABITACION CON VIOLENCIA",
          "DAÑO EN PROPIEDAD AJENA INTENCIONAL A BIENES INMUEBLES",
          "ROBO A REPARTIDOR SIN VIOLENCIA",
          "ACOSO SEXUAL",
          "FALSEDAD DE DECLARACIONES",
          "DAÑO EN PROPIEDAD AJENA INTENCIONAL A CASA HABITACION",
          "TENTATIVA DE ROBO",
          "PERDIDA DE LA VIDA POR SUICIDIO",
          "DAÑO EN PROPIEDAD AJENA CULPOSA POR TRÁNSITO VEHICULAR A BIENES INMUEBLES",
          "ROBO A TRANSEUNTE EN NEGOCIO CON VIOLENCIA",
          "TORTURA",
          "ROBO A TRANSEUNTE SALIENDO DEL BANCO CON VIOLENCIA",
          "USO DE DOCUMENTO FALSO",
          "INSOLVENCIA ALIMENTARIA",
          "USO INDEBIDO DE ATRIBUCIONES Y FACULTADES",
          "SECUESTRO EXPRESS (PARA COMETER ROBO O EXTORSIÓN)",
          "ROBO A PASAJERO / CONDUCTOR DE TAXI CON VIOLENCIA",
          "RESISTENCIA DE PARTICULARES (SE OPONGA O RESISTA)",
          "HOMICIDIO CULPOSO POR TRÁNSITO VEHICULAR (ATROPELLADO)",
          "PORTACION ARMA/PROHIB.",
          "COHECHO",
          "ROBO A PASAJERO A BORDO DE TRANSPORTE PÚBLICO SIN VIOLENCIA",
          "CONTRA FUNCIONARIOS PUBLICOS",
          "LESIONES CULPOSAS POR CAIDA",
          "EJERCICIO INDEBIDO DEL SERVIDOR PUBLICO",
          "HOMICIDIO CULPOSO POR TRÁNSITO VEHICULAR (COLISION)",
          "RESPONSABILIDAD PROFESIONAL",
          "MALTRATO ANIMAL",
          "ROBO A PASAJERO A BORDO DE TAXI CON VIOLENCIA",
          "POSESION DE VEHICULO ROBADO",
          "HOMICIDIO POR ARMA BLANCA",
          "CORRUPCION DE MENORES",
          "PORTACION DE ARMA DE FUEGO",
          "PERDIDA DE LA VIDA POR CAIDA",
          "ROBO DE ARMA",
          "PERDIDA DE LA VIDA POR PARO CARDIACO",
          "ROBO A PASAJERO A BORDO DE TAXI SIN VIOLENCIA",
          "ROBO A OFICINA PÚBLICA SIN VIOLENCIA",
          "ROBO DE ANIMALES",
          "PERDIDA DE LA VIDA POR ENFERMEDAD",
          "DELITOS ELECTORALES",
          "ABORTO",
          "DAÑO EN PROPIEDAD AJENA INTENCIONAL A NEGOCIO",
          "ROBO A PASAJERO A BORDO DE METRO CON VIOLENCIA",
          "HOMICIDIOS INTENCIONALES (OTROS)",
          "ROBO A TRANSEUNTE EN RESTAURANT CON VIOLENCIA",
          "DELITOS DE ABOGADOS PATRONOS Y LITIGANTES",
          "TRATA DE PERSONAS",
          "DISPAROS DE ARMA DE FUEGO",
          "HOMICIDIO POR GOLPES",
          "ATAQUE A LAS VIAS GENERALES DE COMUNICACIÓN",
          "VIOLACION EQUIPARADA",
          "ROBO A REPARTIDOR Y VEHICULO CON VIOLENCIA",
          "REVELACION DE SECRETOS",
          "TENTATIVA DE ROBO DE VEHICULO",
          "LESIONES CULPOSAS POR CAIDA DE VEHÍCULO EN MOVIMIENTO",
          "PORNOGRAFIA INFANTIL",
          "DESOBEDENCIA DE PARTICULARES",
          "ROBO A CASA HABITACION Y VEHICULO SIN VIOLENCIA",
          "PRIV. ILEGAL DE LA LIB. Y ROBO DE VEHICULO",
          "ROBO A PASAJERO A BORDO DE PESERO COLECTIVO SIN VIOLENCIA",
          "ROBO DE FLUIDOS",
          "LESIONES CULPOSAS POR QUEMADURAS",
          "TENTATIVA DE HOMICIDIO",
          "USURPACION DE PROFESION",
          "ROBO A PASAJERO A BORDO DE METROBUS CON VIOLENCIA",
          "HOMICIDIO CULPOSO POR ARMA DE FUEGO",
          "ROBO A TRANSPORTISTA Y VEHICULO PESADO CON VIOLENCIA",
          "ROBO DE ALHAJAS",
          "ROBO A CASA HABITACION Y VEHICULO CON VIOLENCIA",
          "USURPACION DE FUNCIONES",
          "HOMICIDIO CULPOSO POR TRÁNSITO VEHICULAR",
          "PERDIDA DE LA VIDA POR PRECIPITACION",
          "PERDIDA DE LA VIDA POR QUEMADURA",
          "INTIMIDACION",
          "ROBO DE VEHICULO DE SERVICIO DE TRANSPORTE SIN VIOLENCIA",
          "LESIONES CULPOSAS ACCIDENTE LABORAL",
          "OTROS CULPOSOS",
          "ROBO A TRANSEUNTE EN PARQUES Y MERCADOS CON VIOLENCIA",
          "FEMINICIDIO",
          "ROBO DE VEHICULO DE SERVICIO OFICIAL SIN VIOLENCIA",
          "ATAQUE A LAS VIAS DE COMUNICACION (DAÑO A VIAS O MEDIOS DE TRANSPORTE)",
          "ROBO DE VEHICULO DE SERVICIO DE TRANSPORTE CON VIOLENCIA",
          "ROBO A NEGOCIO Y VEHICULO CON VIOLENCIA",
          "ROBO A REPARTIDOR Y VEHICULO SIN VIOLENCIA",
          "DAÑO SUELO (ACTIVIDAD, INVASIÓN O EXTRACCIÓN)",
          "PERDIDA DE LA VIDA POR CONGESTION ALCOHOLICA",
          "TENTATIVA DE FRAUDE",
          "HOMICIDIO CULPOSO POR TRÁNSITO VEHICULAR (CAIDA)",
          "VIOLACION DE CORRESPONDENCIA",
          "ROBO A TRANSEUNTE SALIENDO DEL CAJERO CON VIOLENCIA",
          "PECULADO",
          "ROBO A PASAJERO EN RTP CON VIOLENCIA",
          "ROBO A PASAJERO EN TROLEBUS SIN VIOLENCIA",
          "PERDIDA DE LA VIDA POR SUICIDIO EN EL METRO",
          "COBRANZA ILEGITIMA",
          "ESTUPRO",
          "VIOLACION TUMULTUARIA",
          "EVASION DE PRESOS",
          "TENTATIVA DE SUICIDIO",
          "ROBO DE MAQUINARIA CON VIOLENCIA",
          "PERDIDA DE LA VIDA POR INTOXICACION",
          "PERDIDA DE LA VIDA POR AHOGAMIENTO",
          "ROBO A PASAJERO EN TREN LIGERO SIN VIOLENCIA",
          "TRAFICO DE INFLUENCIA",
          "ROBO A NEGOCIO Y VEHICULO SIN VIOLENCIA",
          "TENTATIVA DE VIOLACION",
          "ROBO A PASAJERO EN AUTOBÚS FORÁNEO CON VIOLENCIA",
          "ROBO A PASAJERO EN ECOBUS CON VIOLENCIA",
          "ROBO A TRANSPORTISTA Y VEHICULO PESADO SIN VIOLENCIA",
          "ROBO A TRANSEUNTE EN HOTEL CON VIOLENCIA",
          "VIOLACION EQUIPARADA POR CONOCIDO",
          "ROBO A PASAJERO EN TROLEBUS CON VIOLENCIA",
          "DESAPARICION FORZADA DE PERSONAS",
          "PERDIDA DE LA VIDA POR ACCIDENTE LABORAL",
          "ROBO DE VEHICULO DE SERVICIO OFICIAL CON VIOLENCIA",
          "OPOSICION A LA OBRA PUBLICA",
          "ROBO A TRANSEUNTE Y VEHICULO CON VIOLENCIA",
          "ROBO A SUCURSAL BANCARIA (ASALTO BANCARIO) CON VIOLENCIA",
          "VARIACION DE NOMBRE O DOMICILIO",
          "DDH OTRAS MATERIAS",
          "ROBO A TRANSEUNTE EN VIA PUBLICA (NOMINA) CON VIOLENCIA",
          "PERDIDA DE LA VIDA ASFIXIA POR ALIMENTOS/ LIQUIDOS",
          "HOMICIDIO CULPOSO FUERA DEL D.F (ATROPELLADO)",
          "PERDIDA DE LA VIDA POR DERRUMBE",
          "FALSIFICACION DE SELLOS, MARCAS, LLAVES Y OTROS",
          "ROBO A OFICINA PÚBLICA CON VIOLENCIA",
          "INHUMACIONES Y/O EXHUMACIONES",
          "BIGAMIA",
          "CONTRA EL ESTADO CIVIL",
          "USO INDEBIDO DE CONDECORACIONES UNIFORMES E INSIGNIAS",
          "ROBO A TRANSEUNTE EN TERMINAL DE PASAJEROS CON VIOLENCIA",
          "ROBO A PASAJERO EN ECOBUS SIN VIOLENCIA",
          "ROBO A SUCURSAL BANCARIA (SUPERMERCADO) SIN VIOLENCIA",
          "OPERACIONES CON RECURSOS DE PROCEDENCIA ILICITA",
          "PELIGRO DE CONTAGIO",
          "DAÑO EN PROPIEDAD AJENA INTENCIONAL A VIAS DE COMUNICACION",
          "PERSONAS EXTRAVIADAS",
          "SABOTAJE",
          "CONTAMINACIÓN O RESIDUOS",
          "ROBO DE MAQUINARIA SIN VIOLENCIA",
          "ROBO EN INTERIOR DE EMPRESA (NOMINA) SIN VIOLENCIA",
          "ROBO A PASAJERO A BORDO DE PESERO Y VEHICULO CON VIOLENCIA",
          "DAÑO EN PROPIEDAD AJENA CULPOSA POR TRÁNSITO VEHICULAR A VIAS DE COMUNICACION",
          "HOMICIDIO CULPOSO FUERA DEL D.F (COLISION)",
          "PLAGIO O SECUESTRO",
          "EXPLOTACIÓN DE MENOR O DISCAPACITADO",
          "OTROS DELITOS",
          "PERDIDA DE LA VIDA POR ASFIXIA",
          "PRIVACION DE LA LIBERTAD PERSONAL (REALIZAR ACTO SEXUAL)",
          "ROBO A PASAJERO EN TREN LIGERO CON VIOLENCIA",
          "CAMBIO DE USO DE SUELO",
          "REGULACIÓN URBANA",
          "DDH SIN DATOS",
          "LENOCINIO",
          "ROBO EN INTERIOR DE EMPRESA (NOMINA) CON VIOLENCIA",
          "TRAFICO DE INFANTES",
          "ENRIQUECIMIENTO ILICITO",
          "HOMICIDIO CULPOSO POR INSTRUMENTO PUNZO CORTANTE",
          "EXPOSICION DE MENORES",
          "ROBO A TRANSEUNTE EN CINE CON VIOLENCIA",
          "CALUMNIAS",
          "ATAQUES A LA PAZ PUBLICA",
          "ROBO A PASAJERO EN RTP SIN VIOLENCIA",
          "ROBO A SUCURSAL BANCARIA (SUPERMERCADO) CON VIOLENCIA",
          "ROBO DURANTE TRASLADO DE VALORES (NOMINA) SIN VIOLENCIA",
          "ROBO DE VEHICULO Y NOMINA CON VIOLENCIA",
          "LESIONES INTENCIONALES Y ROBO DE VEHICULO",
          "DDH RELACIONADAS",
          "DDH OFICIO COLABORACION",
          "DDH ANONIMAS",
          "TALA",
          "ENTREGA ILEGITIMA DE UN MENOR",
          "PARRICIDIO",
          "ROBO A PASAJERO EN AUTOBUS FORANEO SIN VIOLENCIA",
          "DDH FRVT",
          "VIOLACION DE LA INTIMIDAD",
          "ROBO DURANTE TRASLADO DE VALORES (NOMINA) CON VIOLENCIA",
          "HOMICIDIO POR AHORCAMIENTO",
          "ROBO A PASAJERO EN TREN SUBURBANO SIN VIOLENCIA",
          "DENUNCIA DE HECHOS POR ROBO DE CELULAR",
          "DIFAMACION",
          "ROBO A PASAJERO EN TREN SUBURBANO CON VIOLENCIA",
          "PERDIDA DE LA VIDA POR ENVENENAMIENTO",
          "GESTIÓN AMBIENTAL",
          "DELITOS CONTRA LA SALUD"
         ],
         "xaxis": "x",
         "y": [
          19856,
          15139,
          14458,
          13173,
          11886,
          11222,
          11045,
          10105,
          9222,
          8606,
          8509,
          7590,
          6971,
          5378,
          5045,
          3677,
          3627,
          3514,
          3507,
          3187,
          2866,
          2801,
          2583,
          2538,
          2452,
          2422,
          2081,
          1965,
          1902,
          1757,
          1682,
          1560,
          1529,
          1528,
          1394,
          1370,
          1241,
          1170,
          1121,
          1100,
          1065,
          1044,
          1013,
          963,
          943,
          919,
          907,
          870,
          813,
          774,
          765,
          764,
          760,
          673,
          671,
          669,
          652,
          643,
          642,
          620,
          614,
          592,
          586,
          559,
          553,
          502,
          481,
          475,
          456,
          444,
          394,
          375,
          373,
          369,
          368,
          346,
          332,
          322,
          321,
          312,
          302,
          282,
          276,
          267,
          263,
          260,
          255,
          245,
          240,
          235,
          225,
          216,
          214,
          210,
          195,
          189,
          189,
          177,
          167,
          159,
          132,
          128,
          128,
          125,
          119,
          114,
          111,
          111,
          107,
          107,
          104,
          103,
          99,
          99,
          98,
          98,
          95,
          94,
          93,
          93,
          92,
          90,
          84,
          79,
          77,
          76,
          76,
          71,
          67,
          64,
          62,
          62,
          59,
          59,
          58,
          56,
          52,
          46,
          43,
          43,
          42,
          42,
          41,
          40,
          39,
          37,
          36,
          31,
          30,
          30,
          29,
          28,
          28,
          28,
          27,
          26,
          25,
          25,
          25,
          23,
          23,
          23,
          22,
          21,
          20,
          19,
          19,
          17,
          17,
          16,
          16,
          15,
          14,
          14,
          13,
          13,
          13,
          12,
          12,
          11,
          11,
          9,
          9,
          8,
          8,
          8,
          8,
          8,
          7,
          7,
          7,
          7,
          7,
          7,
          7,
          7,
          6,
          6,
          6,
          6,
          6,
          6,
          5,
          5,
          5,
          5,
          5,
          5,
          5,
          4,
          4,
          4,
          4,
          3,
          3,
          3,
          3,
          2,
          2,
          2,
          2,
          2,
          2,
          2,
          2,
          2,
          2,
          2,
          2,
          2,
          2,
          1,
          1,
          1,
          1,
          1,
          1,
          1,
          1,
          1,
          1,
          1,
          1,
          1,
          1,
          1,
          1,
          1,
          1,
          1,
          1,
          1
         ],
         "yaxis": "y"
        },
        {
         "name": "delito 2019",
         "type": "scatter",
         "x": [
          "VIOLENCIA FAMILIAR",
          "ROBO A NEGOCIO SIN VIOLENCIA",
          "ROBO DE OBJETOS",
          "ROBO A TRANSEUNTE DE CELULAR CON VIOLENCIA",
          "FRAUDE",
          "DENUNCIA DE HECHOS",
          "AMENAZAS",
          "ROBO DE ACCESORIOS DE AUTO",
          "ROBO DE OBJETOS DEL INTERIOR DE UN VEHICULO",
          "ROBO A TRANSEUNTE EN VIA PUBLICA CON VIOLENCIA",
          "ROBO A TRANSEUNTE DE CELULAR SIN VIOLENCIA",
          "FALSIFICACION DE TITULOS AL PORTADOR Y DOCUMENTOS DE CREDITO PUBLICO",
          "ROBO A CASA HABITACION SIN VIOLENCIA",
          "ROBO DE VEHICULO DE SERVICIO PARTICULAR SIN VIOLENCIA",
          "NARCOMENUDEO POSESION SIMPLE",
          "ABUSO DE CONFIANZA",
          "DAÑO EN PROPIEDAD AJENA CULPOSA POR TRÁNSITO VEHICULAR A AUTOMOVIL",
          "ROBO A NEGOCIO CON VIOLENCIA",
          "DESPOJO",
          "ROBO A PASAJERO / CONDUCTOR DE VEHICULO CON VIOLENCIA",
          "LESIONES INTENCIONALES POR GOLPES",
          "DAÑO EN PROPIEDAD AJENA INTENCIONAL",
          "LESIONES CULPOSAS POR TRANSITO VEHICULAR EN COLISION",
          "ROBO DE VEHICULO DE SERVICIO PARTICULAR CON VIOLENCIA",
          "ABUSO SEXUAL",
          "USURPACIÓN DE IDENTIDAD",
          "ROBO DE DINERO",
          "LESIONES INTENCIONALES POR ARMA DE FUEGO",
          "DAÑO EN PROPIEDAD AJENA CULPOSA",
          "ABUSO DE AUTORIDAD",
          "ROBO DE VEHICULO DE PEDALES",
          "ROBO DE DOCUMENTOS",
          "ROBO A REPARTIDOR CON VIOLENCIA",
          "TENTATIVA DE EXTORSION",
          "ROBO A PASAJERO A BORDO DE TRANSPORTE PÚBLICO CON VIOLENCIA",
          "PERDIDA DE LA VIDA POR OTRAS CAUSAS",
          "ROBO A TRANSEUNTE EN VIA PUBLICA SIN VIOLENCIA",
          "FALSIFICACION DE DOCUMENTOS",
          "DAÑO EN PROPIEDAD AJENA INTENCIONAL A AUTOMOVIL",
          "LESIONES INTENCIONALES POR ARMA BLANCA",
          "SUSTRACCION DE MENORES",
          "ENCUBRIMIENTO",
          "ROBO DE MOTOCICLETA SIN VIOLENCIA",
          "LESIONES INTENCIONALES",
          "ROBO DE MOTOCICLETA CON VIOLENCIA",
          "NARCOMENUDEO POSESIÓN CON FINES DE VENTA, COMERCIO Y SUMINISTRO",
          "HOMICIDIO POR ARMA DE FUEGO",
          "ROBO A PASAJERO A BORDO DE METRO SIN VIOLENCIA",
          "ALLANAMIENTO DE MORADA",
          "ROBO DE VEHICULO DE SERVICIO PÚBLICO CON VIOLENCIA",
          "LA ADMINISTRACION DE JUSTICIA",
          "LESIONES CULPOSAS POR TRANSITO VEHICULAR",
          "DELITOS AMBIENTALES",
          "ABANDONO DE PERSONA",
          "NEGACION DEL SERVICIO PUBLICO",
          "LESIONES CULPOSAS",
          "QUEBRANTAMIENTO DE SELLOS",
          "ROBO DE PLACA DE AUTOMOVIL",
          "ROBO A PASAJERO A BORDO DE METROBUS SIN VIOLENCIA",
          "VIOLACION",
          "ROBO A PASAJERO A BORDO DE PESERO COLECTIVO CON VIOLENCIA",
          "ROBO DE VEHICULO DE SERVICIO PÚBLICO SIN VIOLENCIA",
          "ROBO DE OBJETOS A ESCUELA",
          "EXTORSION",
          "PRIVACION DE LA LIBERTAD PERSONAL",
          "DISCRIMINACION",
          "ROBO A CASA HABITACION CON VIOLENCIA",
          "DAÑO EN PROPIEDAD AJENA INTENCIONAL A BIENES INMUEBLES",
          "ROBO A REPARTIDOR SIN VIOLENCIA",
          "ACOSO SEXUAL",
          "FALSEDAD DE DECLARACIONES",
          "DAÑO EN PROPIEDAD AJENA INTENCIONAL A CASA HABITACION",
          "TENTATIVA DE ROBO",
          "PERDIDA DE LA VIDA POR SUICIDIO",
          "DAÑO EN PROPIEDAD AJENA CULPOSA POR TRÁNSITO VEHICULAR A BIENES INMUEBLES",
          "ROBO A TRANSEUNTE EN NEGOCIO CON VIOLENCIA",
          "TORTURA",
          "ROBO A TRANSEUNTE SALIENDO DEL BANCO CON VIOLENCIA",
          "USO DE DOCUMENTO FALSO",
          "INSOLVENCIA ALIMENTARIA",
          "USO INDEBIDO DE ATRIBUCIONES Y FACULTADES",
          "SECUESTRO EXPRESS (PARA COMETER ROBO O EXTORSIÓN)",
          "ROBO A PASAJERO / CONDUCTOR DE TAXI CON VIOLENCIA",
          "RESISTENCIA DE PARTICULARES (SE OPONGA O RESISTA)",
          "HOMICIDIO CULPOSO POR TRÁNSITO VEHICULAR (ATROPELLADO)",
          "PORTACION ARMA/PROHIB.",
          "COHECHO",
          "ROBO A PASAJERO A BORDO DE TRANSPORTE PÚBLICO SIN VIOLENCIA",
          "CONTRA FUNCIONARIOS PUBLICOS",
          "LESIONES CULPOSAS POR CAIDA",
          "EJERCICIO INDEBIDO DEL SERVIDOR PUBLICO",
          "HOMICIDIO CULPOSO POR TRÁNSITO VEHICULAR (COLISION)",
          "RESPONSABILIDAD PROFESIONAL",
          "MALTRATO ANIMAL",
          "ROBO A PASAJERO A BORDO DE TAXI CON VIOLENCIA",
          "POSESION DE VEHICULO ROBADO",
          "HOMICIDIO POR ARMA BLANCA",
          "CORRUPCION DE MENORES",
          "PORTACION DE ARMA DE FUEGO",
          "PERDIDA DE LA VIDA POR CAIDA",
          "ROBO DE ARMA",
          "PERDIDA DE LA VIDA POR PARO CARDIACO",
          "ROBO A PASAJERO A BORDO DE TAXI SIN VIOLENCIA",
          "ROBO A OFICINA PÚBLICA SIN VIOLENCIA",
          "ROBO DE ANIMALES",
          "PERDIDA DE LA VIDA POR ENFERMEDAD",
          "DELITOS ELECTORALES",
          "ABORTO",
          "DAÑO EN PROPIEDAD AJENA INTENCIONAL A NEGOCIO",
          "ROBO A PASAJERO A BORDO DE METRO CON VIOLENCIA",
          "HOMICIDIOS INTENCIONALES (OTROS)",
          "ROBO A TRANSEUNTE EN RESTAURANT CON VIOLENCIA",
          "DELITOS DE ABOGADOS PATRONOS Y LITIGANTES",
          "TRATA DE PERSONAS",
          "DISPAROS DE ARMA DE FUEGO",
          "HOMICIDIO POR GOLPES",
          "ATAQUE A LAS VIAS GENERALES DE COMUNICACIÓN",
          "VIOLACION EQUIPARADA",
          "ROBO A REPARTIDOR Y VEHICULO CON VIOLENCIA",
          "REVELACION DE SECRETOS",
          "TENTATIVA DE ROBO DE VEHICULO",
          "LESIONES CULPOSAS POR CAIDA DE VEHÍCULO EN MOVIMIENTO",
          "PORNOGRAFIA INFANTIL",
          "DESOBEDENCIA DE PARTICULARES",
          "ROBO A CASA HABITACION Y VEHICULO SIN VIOLENCIA",
          "PRIV. ILEGAL DE LA LIB. Y ROBO DE VEHICULO",
          "ROBO A PASAJERO A BORDO DE PESERO COLECTIVO SIN VIOLENCIA",
          "ROBO DE FLUIDOS",
          "LESIONES CULPOSAS POR QUEMADURAS",
          "TENTATIVA DE HOMICIDIO",
          "USURPACION DE PROFESION",
          "ROBO A PASAJERO A BORDO DE METROBUS CON VIOLENCIA",
          "HOMICIDIO CULPOSO POR ARMA DE FUEGO",
          "ROBO A TRANSPORTISTA Y VEHICULO PESADO CON VIOLENCIA",
          "ROBO DE ALHAJAS",
          "ROBO A CASA HABITACION Y VEHICULO CON VIOLENCIA",
          "USURPACION DE FUNCIONES",
          "HOMICIDIO CULPOSO POR TRÁNSITO VEHICULAR",
          "PERDIDA DE LA VIDA POR PRECIPITACION",
          "PERDIDA DE LA VIDA POR QUEMADURA",
          "INTIMIDACION",
          "ROBO DE VEHICULO DE SERVICIO DE TRANSPORTE SIN VIOLENCIA",
          "LESIONES CULPOSAS ACCIDENTE LABORAL",
          "OTROS CULPOSOS",
          "ROBO A TRANSEUNTE EN PARQUES Y MERCADOS CON VIOLENCIA",
          "FEMINICIDIO",
          "ROBO DE VEHICULO DE SERVICIO OFICIAL SIN VIOLENCIA",
          "ATAQUE A LAS VIAS DE COMUNICACION (DAÑO A VIAS O MEDIOS DE TRANSPORTE)",
          "ROBO DE VEHICULO DE SERVICIO DE TRANSPORTE CON VIOLENCIA",
          "ROBO A NEGOCIO Y VEHICULO CON VIOLENCIA",
          "ROBO A REPARTIDOR Y VEHICULO SIN VIOLENCIA",
          "DAÑO SUELO (ACTIVIDAD, INVASIÓN O EXTRACCIÓN)",
          "PERDIDA DE LA VIDA POR CONGESTION ALCOHOLICA",
          "TENTATIVA DE FRAUDE",
          "HOMICIDIO CULPOSO POR TRÁNSITO VEHICULAR (CAIDA)",
          "VIOLACION DE CORRESPONDENCIA",
          "ROBO A TRANSEUNTE SALIENDO DEL CAJERO CON VIOLENCIA",
          "PECULADO",
          "ROBO A PASAJERO EN RTP CON VIOLENCIA",
          "ROBO A PASAJERO EN TROLEBUS SIN VIOLENCIA",
          "PERDIDA DE LA VIDA POR SUICIDIO EN EL METRO",
          "COBRANZA ILEGITIMA",
          "ESTUPRO",
          "VIOLACION TUMULTUARIA",
          "EVASION DE PRESOS",
          "TENTATIVA DE SUICIDIO",
          "ROBO DE MAQUINARIA CON VIOLENCIA",
          "PERDIDA DE LA VIDA POR INTOXICACION",
          "PERDIDA DE LA VIDA POR AHOGAMIENTO",
          "ROBO A PASAJERO EN TREN LIGERO SIN VIOLENCIA",
          "TRAFICO DE INFLUENCIA",
          "ROBO A NEGOCIO Y VEHICULO SIN VIOLENCIA",
          "TENTATIVA DE VIOLACION",
          "ROBO A PASAJERO EN AUTOBÚS FORÁNEO CON VIOLENCIA",
          "ROBO A PASAJERO EN ECOBUS CON VIOLENCIA",
          "ROBO A TRANSPORTISTA Y VEHICULO PESADO SIN VIOLENCIA",
          "ROBO A TRANSEUNTE EN HOTEL CON VIOLENCIA",
          "VIOLACION EQUIPARADA POR CONOCIDO",
          "ROBO A PASAJERO EN TROLEBUS CON VIOLENCIA",
          "DESAPARICION FORZADA DE PERSONAS",
          "PERDIDA DE LA VIDA POR ACCIDENTE LABORAL",
          "ROBO DE VEHICULO DE SERVICIO OFICIAL CON VIOLENCIA",
          "OPOSICION A LA OBRA PUBLICA",
          "ROBO A TRANSEUNTE Y VEHICULO CON VIOLENCIA",
          "ROBO A SUCURSAL BANCARIA (ASALTO BANCARIO) CON VIOLENCIA",
          "VARIACION DE NOMBRE O DOMICILIO",
          "DDH OTRAS MATERIAS",
          "ROBO A TRANSEUNTE EN VIA PUBLICA (NOMINA) CON VIOLENCIA",
          "PERDIDA DE LA VIDA ASFIXIA POR ALIMENTOS/ LIQUIDOS",
          "HOMICIDIO CULPOSO FUERA DEL D.F (ATROPELLADO)",
          "PERDIDA DE LA VIDA POR DERRUMBE",
          "FALSIFICACION DE SELLOS, MARCAS, LLAVES Y OTROS",
          "ROBO A OFICINA PÚBLICA CON VIOLENCIA",
          "INHUMACIONES Y/O EXHUMACIONES",
          "BIGAMIA",
          "CONTRA EL ESTADO CIVIL",
          "USO INDEBIDO DE CONDECORACIONES UNIFORMES E INSIGNIAS",
          "ROBO A TRANSEUNTE EN TERMINAL DE PASAJEROS CON VIOLENCIA",
          "ROBO A PASAJERO EN ECOBUS SIN VIOLENCIA",
          "ROBO A SUCURSAL BANCARIA (SUPERMERCADO) SIN VIOLENCIA",
          "OPERACIONES CON RECURSOS DE PROCEDENCIA ILICITA",
          "PELIGRO DE CONTAGIO",
          "DAÑO EN PROPIEDAD AJENA INTENCIONAL A VIAS DE COMUNICACION",
          "PERSONAS EXTRAVIADAS",
          "SABOTAJE",
          "CONTAMINACIÓN O RESIDUOS",
          "ROBO DE MAQUINARIA SIN VIOLENCIA",
          "ROBO EN INTERIOR DE EMPRESA (NOMINA) SIN VIOLENCIA",
          "ROBO A PASAJERO A BORDO DE PESERO Y VEHICULO CON VIOLENCIA",
          "DAÑO EN PROPIEDAD AJENA CULPOSA POR TRÁNSITO VEHICULAR A VIAS DE COMUNICACION",
          "HOMICIDIO CULPOSO FUERA DEL D.F (COLISION)",
          "PLAGIO O SECUESTRO",
          "EXPLOTACIÓN DE MENOR O DISCAPACITADO",
          "OTROS DELITOS",
          "PERDIDA DE LA VIDA POR ASFIXIA",
          "PRIVACION DE LA LIBERTAD PERSONAL (REALIZAR ACTO SEXUAL)",
          "ROBO A PASAJERO EN TREN LIGERO CON VIOLENCIA",
          "CAMBIO DE USO DE SUELO",
          "REGULACIÓN URBANA",
          "DDH SIN DATOS",
          "LENOCINIO",
          "ROBO EN INTERIOR DE EMPRESA (NOMINA) CON VIOLENCIA",
          "TRAFICO DE INFANTES",
          "ENRIQUECIMIENTO ILICITO",
          "HOMICIDIO CULPOSO POR INSTRUMENTO PUNZO CORTANTE",
          "EXPOSICION DE MENORES",
          "ROBO A TRANSEUNTE EN CINE CON VIOLENCIA",
          "CALUMNIAS",
          "ATAQUES A LA PAZ PUBLICA",
          "ROBO A PASAJERO EN RTP SIN VIOLENCIA",
          "ROBO A SUCURSAL BANCARIA (SUPERMERCADO) CON VIOLENCIA",
          "ROBO DURANTE TRASLADO DE VALORES (NOMINA) SIN VIOLENCIA",
          "ROBO DE VEHICULO Y NOMINA CON VIOLENCIA",
          "LESIONES INTENCIONALES Y ROBO DE VEHICULO",
          "DDH RELACIONADAS",
          "DDH OFICIO COLABORACION",
          "DDH ANONIMAS",
          "TALA",
          "ENTREGA ILEGITIMA DE UN MENOR",
          "PARRICIDIO",
          "ROBO A PASAJERO EN AUTOBUS FORANEO SIN VIOLENCIA",
          "DDH FRVT",
          "VIOLACION DE LA INTIMIDAD",
          "ROBO DURANTE TRASLADO DE VALORES (NOMINA) CON VIOLENCIA",
          "HOMICIDIO POR AHORCAMIENTO",
          "ROBO A PASAJERO EN TREN SUBURBANO SIN VIOLENCIA",
          "DENUNCIA DE HECHOS POR ROBO DE CELULAR",
          "DIFAMACION",
          "ROBO A PASAJERO EN TREN SUBURBANO CON VIOLENCIA",
          "PERDIDA DE LA VIDA POR ENVENENAMIENTO",
          "GESTIÓN AMBIENTAL",
          "DELITOS CONTRA LA SALUD"
         ],
         "xaxis": "x",
         "y": [
          11342,
          7863,
          7167,
          6275,
          5670,
          4709,
          4322,
          3332,
          3082,
          2929,
          2735,
          2586,
          2117,
          2086,
          1762,
          1720,
          1644,
          1611,
          1593,
          1486,
          1359,
          1304,
          1199,
          1194,
          1104,
          1035,
          1014,
          971,
          900,
          842,
          786,
          731,
          696,
          665,
          660,
          647,
          642,
          632,
          615,
          580,
          552,
          517,
          515,
          489,
          483,
          478,
          469,
          452,
          443,
          438,
          436,
          406,
          403,
          395,
          394,
          389,
          341,
          338,
          331,
          326,
          324,
          321,
          309,
          295,
          266,
          264,
          254,
          247,
          241,
          236,
          221,
          220,
          215,
          200,
          196,
          190,
          182,
          180,
          174,
          162,
          160,
          154,
          152,
          150,
          149,
          146,
          140,
          139,
          137,
          135,
          133,
          129,
          128,
          125,
          111,
          107,
          103,
          96,
          95,
          91,
          87,
          85,
          85,
          84,
          77,
          77,
          75,
          72,
          63,
          63,
          62,
          62,
          61,
          60,
          59,
          59,
          59,
          59,
          58,
          56,
          55,
          54,
          54,
          54,
          53,
          46,
          45,
          44,
          41,
          41,
          40,
          40,
          39,
          38,
          36,
          32,
          27,
          26,
          25,
          24,
          23,
          23,
          23,
          21,
          21,
          20,
          19,
          19,
          19,
          16,
          16,
          15,
          15,
          14,
          14,
          14,
          14,
          14,
          14,
          13,
          13,
          13,
          13,
          13,
          13,
          13,
          12,
          12,
          12,
          11,
          11,
          10,
          10,
          10,
          10,
          9,
          9,
          8,
          8,
          8,
          7,
          7,
          7,
          7,
          6,
          6,
          6,
          5,
          5,
          5,
          5,
          5,
          4,
          4,
          4,
          4,
          4,
          4,
          4,
          4,
          3,
          3,
          3,
          3,
          3,
          3,
          3,
          3,
          3,
          3,
          3,
          2,
          2,
          2,
          2,
          2,
          2,
          2,
          2,
          2,
          2,
          2,
          2,
          1,
          1,
          1,
          1,
          1,
          1,
          1,
          1,
          1,
          1,
          1,
          1,
          1,
          1,
          1,
          1,
          1,
          1,
          1
         ],
         "yaxis": "y"
        }
       ],
       "layout": {
        "annotations": [
         {
          "font": {
           "size": 16
          },
          "showarrow": false,
          "text": "T",
          "x": 0.5,
          "xanchor": "center",
          "xref": "paper",
          "y": 1,
          "yanchor": "bottom",
          "yref": "paper"
         },
         {
          "font": {
           "size": 16
          },
          "showarrow": false,
          "text": "i",
          "x": 0.5,
          "xanchor": "center",
          "xref": "paper",
          "y": 0.4955,
          "yanchor": "bottom",
          "yref": "paper"
         }
        ],
        "margin": {
         "b": 50,
         "l": 30,
         "r": 10,
         "t": 25
        },
        "template": {
         "data": {
          "bar": [
           {
            "error_x": {
             "color": "#2a3f5f"
            },
            "error_y": {
             "color": "#2a3f5f"
            },
            "marker": {
             "line": {
              "color": "#E5ECF6",
              "width": 0.5
             }
            },
            "type": "bar"
           }
          ],
          "barpolar": [
           {
            "marker": {
             "line": {
              "color": "#E5ECF6",
              "width": 0.5
             }
            },
            "type": "barpolar"
           }
          ],
          "carpet": [
           {
            "aaxis": {
             "endlinecolor": "#2a3f5f",
             "gridcolor": "white",
             "linecolor": "white",
             "minorgridcolor": "white",
             "startlinecolor": "#2a3f5f"
            },
            "baxis": {
             "endlinecolor": "#2a3f5f",
             "gridcolor": "white",
             "linecolor": "white",
             "minorgridcolor": "white",
             "startlinecolor": "#2a3f5f"
            },
            "type": "carpet"
           }
          ],
          "choropleth": [
           {
            "colorbar": {
             "outlinewidth": 0,
             "ticks": ""
            },
            "type": "choropleth"
           }
          ],
          "contour": [
           {
            "colorbar": {
             "outlinewidth": 0,
             "ticks": ""
            },
            "colorscale": [
             [
              0,
              "#0d0887"
             ],
             [
              0.1111111111111111,
              "#46039f"
             ],
             [
              0.2222222222222222,
              "#7201a8"
             ],
             [
              0.3333333333333333,
              "#9c179e"
             ],
             [
              0.4444444444444444,
              "#bd3786"
             ],
             [
              0.5555555555555556,
              "#d8576b"
             ],
             [
              0.6666666666666666,
              "#ed7953"
             ],
             [
              0.7777777777777778,
              "#fb9f3a"
             ],
             [
              0.8888888888888888,
              "#fdca26"
             ],
             [
              1,
              "#f0f921"
             ]
            ],
            "type": "contour"
           }
          ],
          "contourcarpet": [
           {
            "colorbar": {
             "outlinewidth": 0,
             "ticks": ""
            },
            "type": "contourcarpet"
           }
          ],
          "heatmap": [
           {
            "colorbar": {
             "outlinewidth": 0,
             "ticks": ""
            },
            "colorscale": [
             [
              0,
              "#0d0887"
             ],
             [
              0.1111111111111111,
              "#46039f"
             ],
             [
              0.2222222222222222,
              "#7201a8"
             ],
             [
              0.3333333333333333,
              "#9c179e"
             ],
             [
              0.4444444444444444,
              "#bd3786"
             ],
             [
              0.5555555555555556,
              "#d8576b"
             ],
             [
              0.6666666666666666,
              "#ed7953"
             ],
             [
              0.7777777777777778,
              "#fb9f3a"
             ],
             [
              0.8888888888888888,
              "#fdca26"
             ],
             [
              1,
              "#f0f921"
             ]
            ],
            "type": "heatmap"
           }
          ],
          "heatmapgl": [
           {
            "colorbar": {
             "outlinewidth": 0,
             "ticks": ""
            },
            "colorscale": [
             [
              0,
              "#0d0887"
             ],
             [
              0.1111111111111111,
              "#46039f"
             ],
             [
              0.2222222222222222,
              "#7201a8"
             ],
             [
              0.3333333333333333,
              "#9c179e"
             ],
             [
              0.4444444444444444,
              "#bd3786"
             ],
             [
              0.5555555555555556,
              "#d8576b"
             ],
             [
              0.6666666666666666,
              "#ed7953"
             ],
             [
              0.7777777777777778,
              "#fb9f3a"
             ],
             [
              0.8888888888888888,
              "#fdca26"
             ],
             [
              1,
              "#f0f921"
             ]
            ],
            "type": "heatmapgl"
           }
          ],
          "histogram": [
           {
            "marker": {
             "colorbar": {
              "outlinewidth": 0,
              "ticks": ""
             }
            },
            "type": "histogram"
           }
          ],
          "histogram2d": [
           {
            "colorbar": {
             "outlinewidth": 0,
             "ticks": ""
            },
            "colorscale": [
             [
              0,
              "#0d0887"
             ],
             [
              0.1111111111111111,
              "#46039f"
             ],
             [
              0.2222222222222222,
              "#7201a8"
             ],
             [
              0.3333333333333333,
              "#9c179e"
             ],
             [
              0.4444444444444444,
              "#bd3786"
             ],
             [
              0.5555555555555556,
              "#d8576b"
             ],
             [
              0.6666666666666666,
              "#ed7953"
             ],
             [
              0.7777777777777778,
              "#fb9f3a"
             ],
             [
              0.8888888888888888,
              "#fdca26"
             ],
             [
              1,
              "#f0f921"
             ]
            ],
            "type": "histogram2d"
           }
          ],
          "histogram2dcontour": [
           {
            "colorbar": {
             "outlinewidth": 0,
             "ticks": ""
            },
            "colorscale": [
             [
              0,
              "#0d0887"
             ],
             [
              0.1111111111111111,
              "#46039f"
             ],
             [
              0.2222222222222222,
              "#7201a8"
             ],
             [
              0.3333333333333333,
              "#9c179e"
             ],
             [
              0.4444444444444444,
              "#bd3786"
             ],
             [
              0.5555555555555556,
              "#d8576b"
             ],
             [
              0.6666666666666666,
              "#ed7953"
             ],
             [
              0.7777777777777778,
              "#fb9f3a"
             ],
             [
              0.8888888888888888,
              "#fdca26"
             ],
             [
              1,
              "#f0f921"
             ]
            ],
            "type": "histogram2dcontour"
           }
          ],
          "mesh3d": [
           {
            "colorbar": {
             "outlinewidth": 0,
             "ticks": ""
            },
            "type": "mesh3d"
           }
          ],
          "parcoords": [
           {
            "line": {
             "colorbar": {
              "outlinewidth": 0,
              "ticks": ""
             }
            },
            "type": "parcoords"
           }
          ],
          "pie": [
           {
            "automargin": true,
            "type": "pie"
           }
          ],
          "scatter": [
           {
            "marker": {
             "colorbar": {
              "outlinewidth": 0,
              "ticks": ""
             }
            },
            "type": "scatter"
           }
          ],
          "scatter3d": [
           {
            "line": {
             "colorbar": {
              "outlinewidth": 0,
              "ticks": ""
             }
            },
            "marker": {
             "colorbar": {
              "outlinewidth": 0,
              "ticks": ""
             }
            },
            "type": "scatter3d"
           }
          ],
          "scattercarpet": [
           {
            "marker": {
             "colorbar": {
              "outlinewidth": 0,
              "ticks": ""
             }
            },
            "type": "scattercarpet"
           }
          ],
          "scattergeo": [
           {
            "marker": {
             "colorbar": {
              "outlinewidth": 0,
              "ticks": ""
             }
            },
            "type": "scattergeo"
           }
          ],
          "scattergl": [
           {
            "marker": {
             "colorbar": {
              "outlinewidth": 0,
              "ticks": ""
             }
            },
            "type": "scattergl"
           }
          ],
          "scattermapbox": [
           {
            "marker": {
             "colorbar": {
              "outlinewidth": 0,
              "ticks": ""
             }
            },
            "type": "scattermapbox"
           }
          ],
          "scatterpolar": [
           {
            "marker": {
             "colorbar": {
              "outlinewidth": 0,
              "ticks": ""
             }
            },
            "type": "scatterpolar"
           }
          ],
          "scatterpolargl": [
           {
            "marker": {
             "colorbar": {
              "outlinewidth": 0,
              "ticks": ""
             }
            },
            "type": "scatterpolargl"
           }
          ],
          "scatterternary": [
           {
            "marker": {
             "colorbar": {
              "outlinewidth": 0,
              "ticks": ""
             }
            },
            "type": "scatterternary"
           }
          ],
          "surface": [
           {
            "colorbar": {
             "outlinewidth": 0,
             "ticks": ""
            },
            "colorscale": [
             [
              0,
              "#0d0887"
             ],
             [
              0.1111111111111111,
              "#46039f"
             ],
             [
              0.2222222222222222,
              "#7201a8"
             ],
             [
              0.3333333333333333,
              "#9c179e"
             ],
             [
              0.4444444444444444,
              "#bd3786"
             ],
             [
              0.5555555555555556,
              "#d8576b"
             ],
             [
              0.6666666666666666,
              "#ed7953"
             ],
             [
              0.7777777777777778,
              "#fb9f3a"
             ],
             [
              0.8888888888888888,
              "#fdca26"
             ],
             [
              1,
              "#f0f921"
             ]
            ],
            "type": "surface"
           }
          ],
          "table": [
           {
            "cells": {
             "fill": {
              "color": "#EBF0F8"
             },
             "line": {
              "color": "white"
             }
            },
            "header": {
             "fill": {
              "color": "#C8D4E3"
             },
             "line": {
              "color": "white"
             }
            },
            "type": "table"
           }
          ]
         },
         "layout": {
          "annotationdefaults": {
           "arrowcolor": "#2a3f5f",
           "arrowhead": 0,
           "arrowwidth": 1
          },
          "coloraxis": {
           "colorbar": {
            "outlinewidth": 0,
            "ticks": ""
           }
          },
          "colorscale": {
           "diverging": [
            [
             0,
             "#8e0152"
            ],
            [
             0.1,
             "#c51b7d"
            ],
            [
             0.2,
             "#de77ae"
            ],
            [
             0.3,
             "#f1b6da"
            ],
            [
             0.4,
             "#fde0ef"
            ],
            [
             0.5,
             "#f7f7f7"
            ],
            [
             0.6,
             "#e6f5d0"
            ],
            [
             0.7,
             "#b8e186"
            ],
            [
             0.8,
             "#7fbc41"
            ],
            [
             0.9,
             "#4d9221"
            ],
            [
             1,
             "#276419"
            ]
           ],
           "sequential": [
            [
             0,
             "#0d0887"
            ],
            [
             0.1111111111111111,
             "#46039f"
            ],
            [
             0.2222222222222222,
             "#7201a8"
            ],
            [
             0.3333333333333333,
             "#9c179e"
            ],
            [
             0.4444444444444444,
             "#bd3786"
            ],
            [
             0.5555555555555556,
             "#d8576b"
            ],
            [
             0.6666666666666666,
             "#ed7953"
            ],
            [
             0.7777777777777778,
             "#fb9f3a"
            ],
            [
             0.8888888888888888,
             "#fdca26"
            ],
            [
             1,
             "#f0f921"
            ]
           ],
           "sequentialminus": [
            [
             0,
             "#0d0887"
            ],
            [
             0.1111111111111111,
             "#46039f"
            ],
            [
             0.2222222222222222,
             "#7201a8"
            ],
            [
             0.3333333333333333,
             "#9c179e"
            ],
            [
             0.4444444444444444,
             "#bd3786"
            ],
            [
             0.5555555555555556,
             "#d8576b"
            ],
            [
             0.6666666666666666,
             "#ed7953"
            ],
            [
             0.7777777777777778,
             "#fb9f3a"
            ],
            [
             0.8888888888888888,
             "#fdca26"
            ],
            [
             1,
             "#f0f921"
            ]
           ]
          },
          "colorway": [
           "#636efa",
           "#EF553B",
           "#00cc96",
           "#ab63fa",
           "#FFA15A",
           "#19d3f3",
           "#FF6692",
           "#B6E880",
           "#FF97FF",
           "#FECB52"
          ],
          "font": {
           "color": "#2a3f5f"
          },
          "geo": {
           "bgcolor": "white",
           "lakecolor": "white",
           "landcolor": "#E5ECF6",
           "showlakes": true,
           "showland": true,
           "subunitcolor": "white"
          },
          "hoverlabel": {
           "align": "left"
          },
          "hovermode": "closest",
          "mapbox": {
           "style": "light"
          },
          "paper_bgcolor": "white",
          "plot_bgcolor": "#E5ECF6",
          "polar": {
           "angularaxis": {
            "gridcolor": "white",
            "linecolor": "white",
            "ticks": ""
           },
           "bgcolor": "#E5ECF6",
           "radialaxis": {
            "gridcolor": "white",
            "linecolor": "white",
            "ticks": ""
           }
          },
          "scene": {
           "xaxis": {
            "backgroundcolor": "#E5ECF6",
            "gridcolor": "white",
            "gridwidth": 2,
            "linecolor": "white",
            "showbackground": true,
            "ticks": "",
            "zerolinecolor": "white"
           },
           "yaxis": {
            "backgroundcolor": "#E5ECF6",
            "gridcolor": "white",
            "gridwidth": 2,
            "linecolor": "white",
            "showbackground": true,
            "ticks": "",
            "zerolinecolor": "white"
           },
           "zaxis": {
            "backgroundcolor": "#E5ECF6",
            "gridcolor": "white",
            "gridwidth": 2,
            "linecolor": "white",
            "showbackground": true,
            "ticks": "",
            "zerolinecolor": "white"
           }
          },
          "shapedefaults": {
           "line": {
            "color": "#2a3f5f"
           }
          },
          "ternary": {
           "aaxis": {
            "gridcolor": "white",
            "linecolor": "white",
            "ticks": ""
           },
           "baxis": {
            "gridcolor": "white",
            "linecolor": "white",
            "ticks": ""
           },
           "bgcolor": "#E5ECF6",
           "caxis": {
            "gridcolor": "white",
            "linecolor": "white",
            "ticks": ""
           }
          },
          "title": {
           "x": 0.05
          },
          "xaxis": {
           "automargin": true,
           "gridcolor": "white",
           "linecolor": "white",
           "ticks": "",
           "title": {
            "standoff": 15
           },
           "zerolinecolor": "white",
           "zerolinewidth": 2
          },
          "yaxis": {
           "automargin": true,
           "gridcolor": "white",
           "linecolor": "white",
           "ticks": "",
           "title": {
            "standoff": 15
           },
           "zerolinecolor": "white",
           "zerolinewidth": 2
          }
         }
        },
        "xaxis": {
         "anchor": "y",
         "domain": [
          0,
          1
         ],
         "matches": "x2",
         "showticklabels": false
        },
        "xaxis2": {
         "anchor": "y2",
         "domain": [
          0,
          1
         ]
        },
        "yaxis": {
         "anchor": "x",
         "domain": [
          0.5045,
          1
         ]
        },
        "yaxis2": {
         "anchor": "x2",
         "domain": [
          0,
          0.4955
         ]
        }
       }
      },
      "text/html": [
       "<div>\n",
       "        \n",
       "        \n",
       "            <div id=\"23842f2a-90d1-49e9-a2d4-b3b762aef8d1\" class=\"plotly-graph-div\" style=\"height:525px; width:100%;\"></div>\n",
       "            <script type=\"text/javascript\">\n",
       "                require([\"plotly\"], function(Plotly) {\n",
       "                    window.PLOTLYENV=window.PLOTLYENV || {};\n",
       "                    \n",
       "                if (document.getElementById(\"23842f2a-90d1-49e9-a2d4-b3b762aef8d1\")) {\n",
       "                    Plotly.newPlot(\n",
       "                        '23842f2a-90d1-49e9-a2d4-b3b762aef8d1',\n",
       "                        [{\"name\": \"delito 2018\", \"type\": \"scatter\", \"x\": [\"VIOLENCIA FAMILIAR\", \"ROBO A NEGOCIO SIN VIOLENCIA\", \"ROBO DE OBJETOS\", \"ROBO A TRANSEUNTE DE CELULAR CON VIOLENCIA\", \"FRAUDE\", \"DENUNCIA DE HECHOS\", \"AMENAZAS\", \"ROBO DE ACCESORIOS DE AUTO\", \"ROBO DE OBJETOS DEL INTERIOR DE UN VEHICULO\", \"ROBO A TRANSEUNTE EN VIA PUBLICA CON VIOLENCIA\", \"ROBO A TRANSEUNTE DE CELULAR SIN VIOLENCIA\", \"FALSIFICACION DE TITULOS AL PORTADOR Y DOCUMENTOS DE CREDITO PUBLICO\", \"ROBO A CASA HABITACION SIN VIOLENCIA\", \"ROBO DE VEHICULO DE SERVICIO PARTICULAR SIN VIOLENCIA\", \"NARCOMENUDEO POSESION SIMPLE\", \"ABUSO DE CONFIANZA\", \"DA\\u00d1O EN PROPIEDAD AJENA CULPOSA POR TR\\u00c1NSITO VEHICULAR A AUTOMOVIL\", \"ROBO A NEGOCIO CON VIOLENCIA\", \"DESPOJO\", \"ROBO A PASAJERO / CONDUCTOR DE VEHICULO CON VIOLENCIA\", \"LESIONES INTENCIONALES POR GOLPES\", \"DA\\u00d1O EN PROPIEDAD AJENA INTENCIONAL\", \"LESIONES CULPOSAS POR TRANSITO VEHICULAR EN COLISION\", \"ROBO DE VEHICULO DE SERVICIO PARTICULAR CON VIOLENCIA\", \"ABUSO SEXUAL\", \"USURPACI\\u00d3N DE IDENTIDAD\", \"ROBO DE DINERO\", \"LESIONES INTENCIONALES POR ARMA DE FUEGO\", \"DA\\u00d1O EN PROPIEDAD AJENA CULPOSA\", \"ABUSO DE AUTORIDAD\", \"ROBO DE VEHICULO DE PEDALES\", \"ROBO DE DOCUMENTOS\", \"ROBO A REPARTIDOR CON VIOLENCIA\", \"TENTATIVA DE EXTORSION\", \"ROBO A PASAJERO A BORDO DE TRANSPORTE P\\u00daBLICO CON VIOLENCIA\", \"PERDIDA DE LA VIDA POR OTRAS CAUSAS\", \"ROBO A TRANSEUNTE EN VIA PUBLICA SIN VIOLENCIA\", \"FALSIFICACION DE DOCUMENTOS\", \"DA\\u00d1O EN PROPIEDAD AJENA INTENCIONAL A AUTOMOVIL\", \"LESIONES INTENCIONALES POR ARMA BLANCA\", \"SUSTRACCION DE MENORES\", \"ENCUBRIMIENTO\", \"ROBO DE MOTOCICLETA SIN VIOLENCIA\", \"LESIONES INTENCIONALES\", \"ROBO DE MOTOCICLETA CON VIOLENCIA\", \"NARCOMENUDEO POSESI\\u00d3N CON FINES DE VENTA, COMERCIO Y SUMINISTRO\", \"HOMICIDIO POR ARMA DE FUEGO\", \"ROBO A PASAJERO A BORDO DE METRO SIN VIOLENCIA\", \"ALLANAMIENTO DE MORADA\", \"ROBO DE VEHICULO DE SERVICIO P\\u00daBLICO CON VIOLENCIA\", \"LA ADMINISTRACION DE JUSTICIA\", \"LESIONES CULPOSAS POR TRANSITO VEHICULAR\", \"DELITOS AMBIENTALES\", \"ABANDONO DE PERSONA\", \"NEGACION DEL SERVICIO PUBLICO\", \"LESIONES CULPOSAS\", \"QUEBRANTAMIENTO DE SELLOS\", \"ROBO DE PLACA DE AUTOMOVIL\", \"ROBO A PASAJERO A BORDO DE METROBUS SIN VIOLENCIA\", \"VIOLACION\", \"ROBO A PASAJERO A BORDO DE PESERO COLECTIVO CON VIOLENCIA\", \"ROBO DE VEHICULO DE SERVICIO P\\u00daBLICO SIN VIOLENCIA\", \"ROBO DE OBJETOS A ESCUELA\", \"EXTORSION\", \"PRIVACION DE LA LIBERTAD PERSONAL\", \"DISCRIMINACION\", \"ROBO A CASA HABITACION CON VIOLENCIA\", \"DA\\u00d1O EN PROPIEDAD AJENA INTENCIONAL A BIENES INMUEBLES\", \"ROBO A REPARTIDOR SIN VIOLENCIA\", \"ACOSO SEXUAL\", \"FALSEDAD DE DECLARACIONES\", \"DA\\u00d1O EN PROPIEDAD AJENA INTENCIONAL A CASA HABITACION\", \"TENTATIVA DE ROBO\", \"PERDIDA DE LA VIDA POR SUICIDIO\", \"DA\\u00d1O EN PROPIEDAD AJENA CULPOSA POR TR\\u00c1NSITO VEHICULAR A BIENES INMUEBLES\", \"ROBO A TRANSEUNTE EN NEGOCIO CON VIOLENCIA\", \"TORTURA\", \"ROBO A TRANSEUNTE SALIENDO DEL BANCO CON VIOLENCIA\", \"USO DE DOCUMENTO FALSO\", \"INSOLVENCIA ALIMENTARIA\", \"USO INDEBIDO DE ATRIBUCIONES Y FACULTADES\", \"SECUESTRO EXPRESS (PARA COMETER ROBO O EXTORSI\\u00d3N)\", \"ROBO A PASAJERO / CONDUCTOR DE TAXI CON VIOLENCIA\", \"RESISTENCIA DE PARTICULARES (SE OPONGA O RESISTA)\", \"HOMICIDIO CULPOSO POR TR\\u00c1NSITO VEHICULAR (ATROPELLADO)\", \"PORTACION ARMA/PROHIB.\", \"COHECHO\", \"ROBO A PASAJERO A BORDO DE TRANSPORTE P\\u00daBLICO SIN VIOLENCIA\", \"CONTRA FUNCIONARIOS PUBLICOS\", \"LESIONES CULPOSAS POR CAIDA\", \"EJERCICIO INDEBIDO DEL SERVIDOR PUBLICO\", \"HOMICIDIO CULPOSO POR TR\\u00c1NSITO VEHICULAR (COLISION)\", \"RESPONSABILIDAD PROFESIONAL\", \"MALTRATO ANIMAL\", \"ROBO A PASAJERO A BORDO DE TAXI CON VIOLENCIA\", \"POSESION DE VEHICULO ROBADO\", \"HOMICIDIO POR ARMA BLANCA\", \"CORRUPCION DE MENORES\", \"PORTACION DE ARMA DE FUEGO\", \"PERDIDA DE LA VIDA POR CAIDA\", \"ROBO DE ARMA\", \"PERDIDA DE LA VIDA POR PARO CARDIACO\", \"ROBO A PASAJERO A BORDO DE TAXI SIN VIOLENCIA\", \"ROBO A OFICINA P\\u00daBLICA SIN VIOLENCIA\", \"ROBO DE ANIMALES\", \"PERDIDA DE LA VIDA POR ENFERMEDAD\", \"DELITOS ELECTORALES\", \"ABORTO\", \"DA\\u00d1O EN PROPIEDAD AJENA INTENCIONAL A NEGOCIO\", \"ROBO A PASAJERO A BORDO DE METRO CON VIOLENCIA\", \"HOMICIDIOS INTENCIONALES (OTROS)\", \"ROBO A TRANSEUNTE EN RESTAURANT CON VIOLENCIA\", \"DELITOS DE ABOGADOS PATRONOS Y LITIGANTES\", \"TRATA DE PERSONAS\", \"DISPAROS DE ARMA DE FUEGO\", \"HOMICIDIO POR GOLPES\", \"ATAQUE A LAS VIAS GENERALES DE COMUNICACI\\u00d3N\", \"VIOLACION EQUIPARADA\", \"ROBO A REPARTIDOR Y VEHICULO CON VIOLENCIA\", \"REVELACION DE SECRETOS\", \"TENTATIVA DE ROBO DE VEHICULO\", \"LESIONES CULPOSAS POR CAIDA DE VEH\\u00cdCULO EN MOVIMIENTO\", \"PORNOGRAFIA INFANTIL\", \"DESOBEDENCIA DE PARTICULARES\", \"ROBO A CASA HABITACION Y VEHICULO SIN VIOLENCIA\", \"PRIV. ILEGAL DE LA LIB. Y ROBO DE VEHICULO\", \"ROBO A PASAJERO A BORDO DE PESERO COLECTIVO SIN VIOLENCIA\", \"ROBO DE FLUIDOS\", \"LESIONES CULPOSAS POR QUEMADURAS\", \"TENTATIVA DE HOMICIDIO\", \"USURPACION DE PROFESION\", \"ROBO A PASAJERO A BORDO DE METROBUS CON VIOLENCIA\", \"HOMICIDIO CULPOSO POR ARMA DE FUEGO\", \"ROBO A TRANSPORTISTA Y VEHICULO PESADO CON VIOLENCIA\", \"ROBO DE ALHAJAS\", \"ROBO A CASA HABITACION Y VEHICULO CON VIOLENCIA\", \"USURPACION DE FUNCIONES\", \"HOMICIDIO CULPOSO POR TR\\u00c1NSITO VEHICULAR\", \"PERDIDA DE LA VIDA POR PRECIPITACION\", \"PERDIDA DE LA VIDA POR QUEMADURA\", \"INTIMIDACION\", \"ROBO DE VEHICULO DE SERVICIO DE TRANSPORTE SIN VIOLENCIA\", \"LESIONES CULPOSAS ACCIDENTE LABORAL\", \"OTROS CULPOSOS\", \"ROBO A TRANSEUNTE EN PARQUES Y MERCADOS CON VIOLENCIA\", \"FEMINICIDIO\", \"ROBO DE VEHICULO DE SERVICIO OFICIAL SIN VIOLENCIA\", \"ATAQUE A LAS VIAS DE COMUNICACION (DA\\u00d1O A VIAS O MEDIOS DE TRANSPORTE)\", \"ROBO DE VEHICULO DE SERVICIO DE TRANSPORTE CON VIOLENCIA\", \"ROBO A NEGOCIO Y VEHICULO CON VIOLENCIA\", \"ROBO A REPARTIDOR Y VEHICULO SIN VIOLENCIA\", \"DA\\u00d1O SUELO (ACTIVIDAD, INVASI\\u00d3N O EXTRACCI\\u00d3N)\", \"PERDIDA DE LA VIDA POR CONGESTION ALCOHOLICA\", \"TENTATIVA DE FRAUDE\", \"HOMICIDIO CULPOSO POR TR\\u00c1NSITO VEHICULAR (CAIDA)\", \"VIOLACION DE CORRESPONDENCIA\", \"ROBO A TRANSEUNTE SALIENDO DEL CAJERO CON VIOLENCIA\", \"PECULADO\", \"ROBO A PASAJERO EN RTP CON VIOLENCIA\", \"ROBO A PASAJERO EN TROLEBUS SIN VIOLENCIA\", \"PERDIDA DE LA VIDA POR SUICIDIO EN EL METRO\", \"COBRANZA ILEGITIMA\", \"ESTUPRO\", \"VIOLACION TUMULTUARIA\", \"EVASION DE PRESOS\", \"TENTATIVA DE SUICIDIO\", \"ROBO DE MAQUINARIA CON VIOLENCIA\", \"PERDIDA DE LA VIDA POR INTOXICACION\", \"PERDIDA DE LA VIDA POR AHOGAMIENTO\", \"ROBO A PASAJERO EN TREN LIGERO SIN VIOLENCIA\", \"TRAFICO DE INFLUENCIA\", \"ROBO A NEGOCIO Y VEHICULO SIN VIOLENCIA\", \"TENTATIVA DE VIOLACION\", \"ROBO A PASAJERO EN AUTOB\\u00daS FOR\\u00c1NEO CON VIOLENCIA\", \"ROBO A PASAJERO EN ECOBUS CON VIOLENCIA\", \"ROBO A TRANSPORTISTA Y VEHICULO PESADO SIN VIOLENCIA\", \"ROBO A TRANSEUNTE EN HOTEL CON VIOLENCIA\", \"VIOLACION EQUIPARADA POR CONOCIDO\", \"ROBO A PASAJERO EN TROLEBUS CON VIOLENCIA\", \"DESAPARICION FORZADA DE PERSONAS\", \"PERDIDA DE LA VIDA POR ACCIDENTE LABORAL\", \"ROBO DE VEHICULO DE SERVICIO OFICIAL CON VIOLENCIA\", \"OPOSICION A LA OBRA PUBLICA\", \"ROBO A TRANSEUNTE Y VEHICULO CON VIOLENCIA\", \"ROBO A SUCURSAL BANCARIA (ASALTO BANCARIO) CON VIOLENCIA\", \"VARIACION DE NOMBRE O DOMICILIO\", \"DDH OTRAS MATERIAS\", \"ROBO A TRANSEUNTE EN VIA PUBLICA (NOMINA) CON VIOLENCIA\", \"PERDIDA DE LA VIDA ASFIXIA POR ALIMENTOS/ LIQUIDOS\", \"HOMICIDIO CULPOSO FUERA DEL D.F (ATROPELLADO)\", \"PERDIDA DE LA VIDA POR DERRUMBE\", \"FALSIFICACION DE SELLOS, MARCAS, LLAVES Y OTROS\", \"ROBO A OFICINA P\\u00daBLICA CON VIOLENCIA\", \"INHUMACIONES Y/O EXHUMACIONES\", \"BIGAMIA\", \"CONTRA EL ESTADO CIVIL\", \"USO INDEBIDO DE CONDECORACIONES UNIFORMES E INSIGNIAS\", \"ROBO A TRANSEUNTE EN TERMINAL DE PASAJEROS CON VIOLENCIA\", \"ROBO A PASAJERO EN ECOBUS SIN VIOLENCIA\", \"ROBO A SUCURSAL BANCARIA (SUPERMERCADO) SIN VIOLENCIA\", \"OPERACIONES CON RECURSOS DE PROCEDENCIA ILICITA\", \"PELIGRO DE CONTAGIO\", \"DA\\u00d1O EN PROPIEDAD AJENA INTENCIONAL A VIAS DE COMUNICACION\", \"PERSONAS EXTRAVIADAS\", \"SABOTAJE\", \"CONTAMINACI\\u00d3N O RESIDUOS\", \"ROBO DE MAQUINARIA SIN VIOLENCIA\", \"ROBO EN INTERIOR DE EMPRESA (NOMINA) SIN VIOLENCIA\", \"ROBO A PASAJERO A BORDO DE PESERO Y VEHICULO CON VIOLENCIA\", \"DA\\u00d1O EN PROPIEDAD AJENA CULPOSA POR TR\\u00c1NSITO VEHICULAR A VIAS DE COMUNICACION\", \"HOMICIDIO CULPOSO FUERA DEL D.F (COLISION)\", \"PLAGIO O SECUESTRO\", \"EXPLOTACI\\u00d3N DE MENOR O DISCAPACITADO\", \"OTROS DELITOS\", \"PERDIDA DE LA VIDA POR ASFIXIA\", \"PRIVACION DE LA LIBERTAD PERSONAL (REALIZAR ACTO SEXUAL)\", \"ROBO A PASAJERO EN TREN LIGERO CON VIOLENCIA\", \"CAMBIO DE USO DE SUELO\", \"REGULACI\\u00d3N URBANA\", \"DDH SIN DATOS\", \"LENOCINIO\", \"ROBO EN INTERIOR DE EMPRESA (NOMINA) CON VIOLENCIA\", \"TRAFICO DE INFANTES\", \"ENRIQUECIMIENTO ILICITO\", \"HOMICIDIO CULPOSO POR INSTRUMENTO PUNZO CORTANTE\", \"EXPOSICION DE MENORES\", \"ROBO A TRANSEUNTE EN CINE CON VIOLENCIA\", \"CALUMNIAS\", \"ATAQUES A LA PAZ PUBLICA\", \"ROBO A PASAJERO EN RTP SIN VIOLENCIA\", \"ROBO A SUCURSAL BANCARIA (SUPERMERCADO) CON VIOLENCIA\", \"ROBO DURANTE TRASLADO DE VALORES (NOMINA) SIN VIOLENCIA\", \"ROBO DE VEHICULO Y NOMINA CON VIOLENCIA\", \"LESIONES INTENCIONALES Y ROBO DE VEHICULO\", \"DDH RELACIONADAS\", \"DDH OFICIO COLABORACION\", \"DDH ANONIMAS\", \"TALA\", \"ENTREGA ILEGITIMA DE UN MENOR\", \"PARRICIDIO\", \"ROBO A PASAJERO EN AUTOBUS FORANEO SIN VIOLENCIA\", \"DDH FRVT\", \"VIOLACION DE LA INTIMIDAD\", \"ROBO DURANTE TRASLADO DE VALORES (NOMINA) CON VIOLENCIA\", \"HOMICIDIO POR AHORCAMIENTO\", \"ROBO A PASAJERO EN TREN SUBURBANO SIN VIOLENCIA\", \"DENUNCIA DE HECHOS POR ROBO DE CELULAR\", \"DIFAMACION\", \"ROBO A PASAJERO EN TREN SUBURBANO CON VIOLENCIA\", \"PERDIDA DE LA VIDA POR ENVENENAMIENTO\", \"GESTI\\u00d3N AMBIENTAL\", \"DELITOS CONTRA LA SALUD\"], \"xaxis\": \"x\", \"y\": [19856, 15139, 14458, 13173, 11886, 11222, 11045, 10105, 9222, 8606, 8509, 7590, 6971, 5378, 5045, 3677, 3627, 3514, 3507, 3187, 2866, 2801, 2583, 2538, 2452, 2422, 2081, 1965, 1902, 1757, 1682, 1560, 1529, 1528, 1394, 1370, 1241, 1170, 1121, 1100, 1065, 1044, 1013, 963, 943, 919, 907, 870, 813, 774, 765, 764, 760, 673, 671, 669, 652, 643, 642, 620, 614, 592, 586, 559, 553, 502, 481, 475, 456, 444, 394, 375, 373, 369, 368, 346, 332, 322, 321, 312, 302, 282, 276, 267, 263, 260, 255, 245, 240, 235, 225, 216, 214, 210, 195, 189, 189, 177, 167, 159, 132, 128, 128, 125, 119, 114, 111, 111, 107, 107, 104, 103, 99, 99, 98, 98, 95, 94, 93, 93, 92, 90, 84, 79, 77, 76, 76, 71, 67, 64, 62, 62, 59, 59, 58, 56, 52, 46, 43, 43, 42, 42, 41, 40, 39, 37, 36, 31, 30, 30, 29, 28, 28, 28, 27, 26, 25, 25, 25, 23, 23, 23, 22, 21, 20, 19, 19, 17, 17, 16, 16, 15, 14, 14, 13, 13, 13, 12, 12, 11, 11, 9, 9, 8, 8, 8, 8, 8, 7, 7, 7, 7, 7, 7, 7, 7, 6, 6, 6, 6, 6, 6, 5, 5, 5, 5, 5, 5, 5, 4, 4, 4, 4, 3, 3, 3, 3, 2, 2, 2, 2, 2, 2, 2, 2, 2, 2, 2, 2, 2, 2, 1, 1, 1, 1, 1, 1, 1, 1, 1, 1, 1, 1, 1, 1, 1, 1, 1, 1, 1, 1, 1], \"yaxis\": \"y\"}, {\"name\": \"delito 2019\", \"type\": \"scatter\", \"x\": [\"VIOLENCIA FAMILIAR\", \"ROBO A NEGOCIO SIN VIOLENCIA\", \"ROBO DE OBJETOS\", \"ROBO A TRANSEUNTE DE CELULAR CON VIOLENCIA\", \"FRAUDE\", \"DENUNCIA DE HECHOS\", \"AMENAZAS\", \"ROBO DE ACCESORIOS DE AUTO\", \"ROBO DE OBJETOS DEL INTERIOR DE UN VEHICULO\", \"ROBO A TRANSEUNTE EN VIA PUBLICA CON VIOLENCIA\", \"ROBO A TRANSEUNTE DE CELULAR SIN VIOLENCIA\", \"FALSIFICACION DE TITULOS AL PORTADOR Y DOCUMENTOS DE CREDITO PUBLICO\", \"ROBO A CASA HABITACION SIN VIOLENCIA\", \"ROBO DE VEHICULO DE SERVICIO PARTICULAR SIN VIOLENCIA\", \"NARCOMENUDEO POSESION SIMPLE\", \"ABUSO DE CONFIANZA\", \"DA\\u00d1O EN PROPIEDAD AJENA CULPOSA POR TR\\u00c1NSITO VEHICULAR A AUTOMOVIL\", \"ROBO A NEGOCIO CON VIOLENCIA\", \"DESPOJO\", \"ROBO A PASAJERO / CONDUCTOR DE VEHICULO CON VIOLENCIA\", \"LESIONES INTENCIONALES POR GOLPES\", \"DA\\u00d1O EN PROPIEDAD AJENA INTENCIONAL\", \"LESIONES CULPOSAS POR TRANSITO VEHICULAR EN COLISION\", \"ROBO DE VEHICULO DE SERVICIO PARTICULAR CON VIOLENCIA\", \"ABUSO SEXUAL\", \"USURPACI\\u00d3N DE IDENTIDAD\", \"ROBO DE DINERO\", \"LESIONES INTENCIONALES POR ARMA DE FUEGO\", \"DA\\u00d1O EN PROPIEDAD AJENA CULPOSA\", \"ABUSO DE AUTORIDAD\", \"ROBO DE VEHICULO DE PEDALES\", \"ROBO DE DOCUMENTOS\", \"ROBO A REPARTIDOR CON VIOLENCIA\", \"TENTATIVA DE EXTORSION\", \"ROBO A PASAJERO A BORDO DE TRANSPORTE P\\u00daBLICO CON VIOLENCIA\", \"PERDIDA DE LA VIDA POR OTRAS CAUSAS\", \"ROBO A TRANSEUNTE EN VIA PUBLICA SIN VIOLENCIA\", \"FALSIFICACION DE DOCUMENTOS\", \"DA\\u00d1O EN PROPIEDAD AJENA INTENCIONAL A AUTOMOVIL\", \"LESIONES INTENCIONALES POR ARMA BLANCA\", \"SUSTRACCION DE MENORES\", \"ENCUBRIMIENTO\", \"ROBO DE MOTOCICLETA SIN VIOLENCIA\", \"LESIONES INTENCIONALES\", \"ROBO DE MOTOCICLETA CON VIOLENCIA\", \"NARCOMENUDEO POSESI\\u00d3N CON FINES DE VENTA, COMERCIO Y SUMINISTRO\", \"HOMICIDIO POR ARMA DE FUEGO\", \"ROBO A PASAJERO A BORDO DE METRO SIN VIOLENCIA\", \"ALLANAMIENTO DE MORADA\", \"ROBO DE VEHICULO DE SERVICIO P\\u00daBLICO CON VIOLENCIA\", \"LA ADMINISTRACION DE JUSTICIA\", \"LESIONES CULPOSAS POR TRANSITO VEHICULAR\", \"DELITOS AMBIENTALES\", \"ABANDONO DE PERSONA\", \"NEGACION DEL SERVICIO PUBLICO\", \"LESIONES CULPOSAS\", \"QUEBRANTAMIENTO DE SELLOS\", \"ROBO DE PLACA DE AUTOMOVIL\", \"ROBO A PASAJERO A BORDO DE METROBUS SIN VIOLENCIA\", \"VIOLACION\", \"ROBO A PASAJERO A BORDO DE PESERO COLECTIVO CON VIOLENCIA\", \"ROBO DE VEHICULO DE SERVICIO P\\u00daBLICO SIN VIOLENCIA\", \"ROBO DE OBJETOS A ESCUELA\", \"EXTORSION\", \"PRIVACION DE LA LIBERTAD PERSONAL\", \"DISCRIMINACION\", \"ROBO A CASA HABITACION CON VIOLENCIA\", \"DA\\u00d1O EN PROPIEDAD AJENA INTENCIONAL A BIENES INMUEBLES\", \"ROBO A REPARTIDOR SIN VIOLENCIA\", \"ACOSO SEXUAL\", \"FALSEDAD DE DECLARACIONES\", \"DA\\u00d1O EN PROPIEDAD AJENA INTENCIONAL A CASA HABITACION\", \"TENTATIVA DE ROBO\", \"PERDIDA DE LA VIDA POR SUICIDIO\", \"DA\\u00d1O EN PROPIEDAD AJENA CULPOSA POR TR\\u00c1NSITO VEHICULAR A BIENES INMUEBLES\", \"ROBO A TRANSEUNTE EN NEGOCIO CON VIOLENCIA\", \"TORTURA\", \"ROBO A TRANSEUNTE SALIENDO DEL BANCO CON VIOLENCIA\", \"USO DE DOCUMENTO FALSO\", \"INSOLVENCIA ALIMENTARIA\", \"USO INDEBIDO DE ATRIBUCIONES Y FACULTADES\", \"SECUESTRO EXPRESS (PARA COMETER ROBO O EXTORSI\\u00d3N)\", \"ROBO A PASAJERO / CONDUCTOR DE TAXI CON VIOLENCIA\", \"RESISTENCIA DE PARTICULARES (SE OPONGA O RESISTA)\", \"HOMICIDIO CULPOSO POR TR\\u00c1NSITO VEHICULAR (ATROPELLADO)\", \"PORTACION ARMA/PROHIB.\", \"COHECHO\", \"ROBO A PASAJERO A BORDO DE TRANSPORTE P\\u00daBLICO SIN VIOLENCIA\", \"CONTRA FUNCIONARIOS PUBLICOS\", \"LESIONES CULPOSAS POR CAIDA\", \"EJERCICIO INDEBIDO DEL SERVIDOR PUBLICO\", \"HOMICIDIO CULPOSO POR TR\\u00c1NSITO VEHICULAR (COLISION)\", \"RESPONSABILIDAD PROFESIONAL\", \"MALTRATO ANIMAL\", \"ROBO A PASAJERO A BORDO DE TAXI CON VIOLENCIA\", \"POSESION DE VEHICULO ROBADO\", \"HOMICIDIO POR ARMA BLANCA\", \"CORRUPCION DE MENORES\", \"PORTACION DE ARMA DE FUEGO\", \"PERDIDA DE LA VIDA POR CAIDA\", \"ROBO DE ARMA\", \"PERDIDA DE LA VIDA POR PARO CARDIACO\", \"ROBO A PASAJERO A BORDO DE TAXI SIN VIOLENCIA\", \"ROBO A OFICINA P\\u00daBLICA SIN VIOLENCIA\", \"ROBO DE ANIMALES\", \"PERDIDA DE LA VIDA POR ENFERMEDAD\", \"DELITOS ELECTORALES\", \"ABORTO\", \"DA\\u00d1O EN PROPIEDAD AJENA INTENCIONAL A NEGOCIO\", \"ROBO A PASAJERO A BORDO DE METRO CON VIOLENCIA\", \"HOMICIDIOS INTENCIONALES (OTROS)\", \"ROBO A TRANSEUNTE EN RESTAURANT CON VIOLENCIA\", \"DELITOS DE ABOGADOS PATRONOS Y LITIGANTES\", \"TRATA DE PERSONAS\", \"DISPAROS DE ARMA DE FUEGO\", \"HOMICIDIO POR GOLPES\", \"ATAQUE A LAS VIAS GENERALES DE COMUNICACI\\u00d3N\", \"VIOLACION EQUIPARADA\", \"ROBO A REPARTIDOR Y VEHICULO CON VIOLENCIA\", \"REVELACION DE SECRETOS\", \"TENTATIVA DE ROBO DE VEHICULO\", \"LESIONES CULPOSAS POR CAIDA DE VEH\\u00cdCULO EN MOVIMIENTO\", \"PORNOGRAFIA INFANTIL\", \"DESOBEDENCIA DE PARTICULARES\", \"ROBO A CASA HABITACION Y VEHICULO SIN VIOLENCIA\", \"PRIV. ILEGAL DE LA LIB. Y ROBO DE VEHICULO\", \"ROBO A PASAJERO A BORDO DE PESERO COLECTIVO SIN VIOLENCIA\", \"ROBO DE FLUIDOS\", \"LESIONES CULPOSAS POR QUEMADURAS\", \"TENTATIVA DE HOMICIDIO\", \"USURPACION DE PROFESION\", \"ROBO A PASAJERO A BORDO DE METROBUS CON VIOLENCIA\", \"HOMICIDIO CULPOSO POR ARMA DE FUEGO\", \"ROBO A TRANSPORTISTA Y VEHICULO PESADO CON VIOLENCIA\", \"ROBO DE ALHAJAS\", \"ROBO A CASA HABITACION Y VEHICULO CON VIOLENCIA\", \"USURPACION DE FUNCIONES\", \"HOMICIDIO CULPOSO POR TR\\u00c1NSITO VEHICULAR\", \"PERDIDA DE LA VIDA POR PRECIPITACION\", \"PERDIDA DE LA VIDA POR QUEMADURA\", \"INTIMIDACION\", \"ROBO DE VEHICULO DE SERVICIO DE TRANSPORTE SIN VIOLENCIA\", \"LESIONES CULPOSAS ACCIDENTE LABORAL\", \"OTROS CULPOSOS\", \"ROBO A TRANSEUNTE EN PARQUES Y MERCADOS CON VIOLENCIA\", \"FEMINICIDIO\", \"ROBO DE VEHICULO DE SERVICIO OFICIAL SIN VIOLENCIA\", \"ATAQUE A LAS VIAS DE COMUNICACION (DA\\u00d1O A VIAS O MEDIOS DE TRANSPORTE)\", \"ROBO DE VEHICULO DE SERVICIO DE TRANSPORTE CON VIOLENCIA\", \"ROBO A NEGOCIO Y VEHICULO CON VIOLENCIA\", \"ROBO A REPARTIDOR Y VEHICULO SIN VIOLENCIA\", \"DA\\u00d1O SUELO (ACTIVIDAD, INVASI\\u00d3N O EXTRACCI\\u00d3N)\", \"PERDIDA DE LA VIDA POR CONGESTION ALCOHOLICA\", \"TENTATIVA DE FRAUDE\", \"HOMICIDIO CULPOSO POR TR\\u00c1NSITO VEHICULAR (CAIDA)\", \"VIOLACION DE CORRESPONDENCIA\", \"ROBO A TRANSEUNTE SALIENDO DEL CAJERO CON VIOLENCIA\", \"PECULADO\", \"ROBO A PASAJERO EN RTP CON VIOLENCIA\", \"ROBO A PASAJERO EN TROLEBUS SIN VIOLENCIA\", \"PERDIDA DE LA VIDA POR SUICIDIO EN EL METRO\", \"COBRANZA ILEGITIMA\", \"ESTUPRO\", \"VIOLACION TUMULTUARIA\", \"EVASION DE PRESOS\", \"TENTATIVA DE SUICIDIO\", \"ROBO DE MAQUINARIA CON VIOLENCIA\", \"PERDIDA DE LA VIDA POR INTOXICACION\", \"PERDIDA DE LA VIDA POR AHOGAMIENTO\", \"ROBO A PASAJERO EN TREN LIGERO SIN VIOLENCIA\", \"TRAFICO DE INFLUENCIA\", \"ROBO A NEGOCIO Y VEHICULO SIN VIOLENCIA\", \"TENTATIVA DE VIOLACION\", \"ROBO A PASAJERO EN AUTOB\\u00daS FOR\\u00c1NEO CON VIOLENCIA\", \"ROBO A PASAJERO EN ECOBUS CON VIOLENCIA\", \"ROBO A TRANSPORTISTA Y VEHICULO PESADO SIN VIOLENCIA\", \"ROBO A TRANSEUNTE EN HOTEL CON VIOLENCIA\", \"VIOLACION EQUIPARADA POR CONOCIDO\", \"ROBO A PASAJERO EN TROLEBUS CON VIOLENCIA\", \"DESAPARICION FORZADA DE PERSONAS\", \"PERDIDA DE LA VIDA POR ACCIDENTE LABORAL\", \"ROBO DE VEHICULO DE SERVICIO OFICIAL CON VIOLENCIA\", \"OPOSICION A LA OBRA PUBLICA\", \"ROBO A TRANSEUNTE Y VEHICULO CON VIOLENCIA\", \"ROBO A SUCURSAL BANCARIA (ASALTO BANCARIO) CON VIOLENCIA\", \"VARIACION DE NOMBRE O DOMICILIO\", \"DDH OTRAS MATERIAS\", \"ROBO A TRANSEUNTE EN VIA PUBLICA (NOMINA) CON VIOLENCIA\", \"PERDIDA DE LA VIDA ASFIXIA POR ALIMENTOS/ LIQUIDOS\", \"HOMICIDIO CULPOSO FUERA DEL D.F (ATROPELLADO)\", \"PERDIDA DE LA VIDA POR DERRUMBE\", \"FALSIFICACION DE SELLOS, MARCAS, LLAVES Y OTROS\", \"ROBO A OFICINA P\\u00daBLICA CON VIOLENCIA\", \"INHUMACIONES Y/O EXHUMACIONES\", \"BIGAMIA\", \"CONTRA EL ESTADO CIVIL\", \"USO INDEBIDO DE CONDECORACIONES UNIFORMES E INSIGNIAS\", \"ROBO A TRANSEUNTE EN TERMINAL DE PASAJEROS CON VIOLENCIA\", \"ROBO A PASAJERO EN ECOBUS SIN VIOLENCIA\", \"ROBO A SUCURSAL BANCARIA (SUPERMERCADO) SIN VIOLENCIA\", \"OPERACIONES CON RECURSOS DE PROCEDENCIA ILICITA\", \"PELIGRO DE CONTAGIO\", \"DA\\u00d1O EN PROPIEDAD AJENA INTENCIONAL A VIAS DE COMUNICACION\", \"PERSONAS EXTRAVIADAS\", \"SABOTAJE\", \"CONTAMINACI\\u00d3N O RESIDUOS\", \"ROBO DE MAQUINARIA SIN VIOLENCIA\", \"ROBO EN INTERIOR DE EMPRESA (NOMINA) SIN VIOLENCIA\", \"ROBO A PASAJERO A BORDO DE PESERO Y VEHICULO CON VIOLENCIA\", \"DA\\u00d1O EN PROPIEDAD AJENA CULPOSA POR TR\\u00c1NSITO VEHICULAR A VIAS DE COMUNICACION\", \"HOMICIDIO CULPOSO FUERA DEL D.F (COLISION)\", \"PLAGIO O SECUESTRO\", \"EXPLOTACI\\u00d3N DE MENOR O DISCAPACITADO\", \"OTROS DELITOS\", \"PERDIDA DE LA VIDA POR ASFIXIA\", \"PRIVACION DE LA LIBERTAD PERSONAL (REALIZAR ACTO SEXUAL)\", \"ROBO A PASAJERO EN TREN LIGERO CON VIOLENCIA\", \"CAMBIO DE USO DE SUELO\", \"REGULACI\\u00d3N URBANA\", \"DDH SIN DATOS\", \"LENOCINIO\", \"ROBO EN INTERIOR DE EMPRESA (NOMINA) CON VIOLENCIA\", \"TRAFICO DE INFANTES\", \"ENRIQUECIMIENTO ILICITO\", \"HOMICIDIO CULPOSO POR INSTRUMENTO PUNZO CORTANTE\", \"EXPOSICION DE MENORES\", \"ROBO A TRANSEUNTE EN CINE CON VIOLENCIA\", \"CALUMNIAS\", \"ATAQUES A LA PAZ PUBLICA\", \"ROBO A PASAJERO EN RTP SIN VIOLENCIA\", \"ROBO A SUCURSAL BANCARIA (SUPERMERCADO) CON VIOLENCIA\", \"ROBO DURANTE TRASLADO DE VALORES (NOMINA) SIN VIOLENCIA\", \"ROBO DE VEHICULO Y NOMINA CON VIOLENCIA\", \"LESIONES INTENCIONALES Y ROBO DE VEHICULO\", \"DDH RELACIONADAS\", \"DDH OFICIO COLABORACION\", \"DDH ANONIMAS\", \"TALA\", \"ENTREGA ILEGITIMA DE UN MENOR\", \"PARRICIDIO\", \"ROBO A PASAJERO EN AUTOBUS FORANEO SIN VIOLENCIA\", \"DDH FRVT\", \"VIOLACION DE LA INTIMIDAD\", \"ROBO DURANTE TRASLADO DE VALORES (NOMINA) CON VIOLENCIA\", \"HOMICIDIO POR AHORCAMIENTO\", \"ROBO A PASAJERO EN TREN SUBURBANO SIN VIOLENCIA\", \"DENUNCIA DE HECHOS POR ROBO DE CELULAR\", \"DIFAMACION\", \"ROBO A PASAJERO EN TREN SUBURBANO CON VIOLENCIA\", \"PERDIDA DE LA VIDA POR ENVENENAMIENTO\", \"GESTI\\u00d3N AMBIENTAL\", \"DELITOS CONTRA LA SALUD\"], \"xaxis\": \"x\", \"y\": [11342, 7863, 7167, 6275, 5670, 4709, 4322, 3332, 3082, 2929, 2735, 2586, 2117, 2086, 1762, 1720, 1644, 1611, 1593, 1486, 1359, 1304, 1199, 1194, 1104, 1035, 1014, 971, 900, 842, 786, 731, 696, 665, 660, 647, 642, 632, 615, 580, 552, 517, 515, 489, 483, 478, 469, 452, 443, 438, 436, 406, 403, 395, 394, 389, 341, 338, 331, 326, 324, 321, 309, 295, 266, 264, 254, 247, 241, 236, 221, 220, 215, 200, 196, 190, 182, 180, 174, 162, 160, 154, 152, 150, 149, 146, 140, 139, 137, 135, 133, 129, 128, 125, 111, 107, 103, 96, 95, 91, 87, 85, 85, 84, 77, 77, 75, 72, 63, 63, 62, 62, 61, 60, 59, 59, 59, 59, 58, 56, 55, 54, 54, 54, 53, 46, 45, 44, 41, 41, 40, 40, 39, 38, 36, 32, 27, 26, 25, 24, 23, 23, 23, 21, 21, 20, 19, 19, 19, 16, 16, 15, 15, 14, 14, 14, 14, 14, 14, 13, 13, 13, 13, 13, 13, 13, 12, 12, 12, 11, 11, 10, 10, 10, 10, 9, 9, 8, 8, 8, 7, 7, 7, 7, 6, 6, 6, 5, 5, 5, 5, 5, 4, 4, 4, 4, 4, 4, 4, 4, 3, 3, 3, 3, 3, 3, 3, 3, 3, 3, 3, 2, 2, 2, 2, 2, 2, 2, 2, 2, 2, 2, 2, 1, 1, 1, 1, 1, 1, 1, 1, 1, 1, 1, 1, 1, 1, 1, 1, 1, 1, 1], \"yaxis\": \"y\"}],\n",
       "                        {\"annotations\": [{\"font\": {\"size\": 16}, \"showarrow\": false, \"text\": \"T\", \"x\": 0.5, \"xanchor\": \"center\", \"xref\": \"paper\", \"y\": 1.0, \"yanchor\": \"bottom\", \"yref\": \"paper\"}, {\"font\": {\"size\": 16}, \"showarrow\": false, \"text\": \"i\", \"x\": 0.5, \"xanchor\": \"center\", \"xref\": \"paper\", \"y\": 0.4955, \"yanchor\": \"bottom\", \"yref\": \"paper\"}], \"margin\": {\"b\": 50, \"l\": 30, \"r\": 10, \"t\": 25}, \"template\": {\"data\": {\"bar\": [{\"error_x\": {\"color\": \"#2a3f5f\"}, \"error_y\": {\"color\": \"#2a3f5f\"}, \"marker\": {\"line\": {\"color\": \"#E5ECF6\", \"width\": 0.5}}, \"type\": \"bar\"}], \"barpolar\": [{\"marker\": {\"line\": {\"color\": \"#E5ECF6\", \"width\": 0.5}}, \"type\": \"barpolar\"}], \"carpet\": [{\"aaxis\": {\"endlinecolor\": \"#2a3f5f\", \"gridcolor\": \"white\", \"linecolor\": \"white\", \"minorgridcolor\": \"white\", \"startlinecolor\": \"#2a3f5f\"}, \"baxis\": {\"endlinecolor\": \"#2a3f5f\", \"gridcolor\": \"white\", \"linecolor\": \"white\", \"minorgridcolor\": \"white\", \"startlinecolor\": \"#2a3f5f\"}, \"type\": \"carpet\"}], \"choropleth\": [{\"colorbar\": {\"outlinewidth\": 0, \"ticks\": \"\"}, \"type\": \"choropleth\"}], \"contour\": [{\"colorbar\": {\"outlinewidth\": 0, \"ticks\": \"\"}, \"colorscale\": [[0.0, \"#0d0887\"], [0.1111111111111111, \"#46039f\"], [0.2222222222222222, \"#7201a8\"], [0.3333333333333333, \"#9c179e\"], [0.4444444444444444, \"#bd3786\"], [0.5555555555555556, \"#d8576b\"], [0.6666666666666666, \"#ed7953\"], [0.7777777777777778, \"#fb9f3a\"], [0.8888888888888888, \"#fdca26\"], [1.0, \"#f0f921\"]], \"type\": \"contour\"}], \"contourcarpet\": [{\"colorbar\": {\"outlinewidth\": 0, \"ticks\": \"\"}, \"type\": \"contourcarpet\"}], \"heatmap\": [{\"colorbar\": {\"outlinewidth\": 0, \"ticks\": \"\"}, \"colorscale\": [[0.0, \"#0d0887\"], [0.1111111111111111, \"#46039f\"], [0.2222222222222222, \"#7201a8\"], [0.3333333333333333, \"#9c179e\"], [0.4444444444444444, \"#bd3786\"], [0.5555555555555556, \"#d8576b\"], [0.6666666666666666, \"#ed7953\"], [0.7777777777777778, \"#fb9f3a\"], [0.8888888888888888, \"#fdca26\"], [1.0, \"#f0f921\"]], \"type\": \"heatmap\"}], \"heatmapgl\": [{\"colorbar\": {\"outlinewidth\": 0, \"ticks\": \"\"}, \"colorscale\": [[0.0, \"#0d0887\"], [0.1111111111111111, \"#46039f\"], [0.2222222222222222, \"#7201a8\"], [0.3333333333333333, \"#9c179e\"], [0.4444444444444444, \"#bd3786\"], [0.5555555555555556, \"#d8576b\"], [0.6666666666666666, \"#ed7953\"], [0.7777777777777778, \"#fb9f3a\"], [0.8888888888888888, \"#fdca26\"], [1.0, \"#f0f921\"]], \"type\": \"heatmapgl\"}], \"histogram\": [{\"marker\": {\"colorbar\": {\"outlinewidth\": 0, \"ticks\": \"\"}}, \"type\": \"histogram\"}], \"histogram2d\": [{\"colorbar\": {\"outlinewidth\": 0, \"ticks\": \"\"}, \"colorscale\": [[0.0, \"#0d0887\"], [0.1111111111111111, \"#46039f\"], [0.2222222222222222, \"#7201a8\"], [0.3333333333333333, \"#9c179e\"], [0.4444444444444444, \"#bd3786\"], [0.5555555555555556, \"#d8576b\"], [0.6666666666666666, \"#ed7953\"], [0.7777777777777778, \"#fb9f3a\"], [0.8888888888888888, \"#fdca26\"], [1.0, \"#f0f921\"]], \"type\": \"histogram2d\"}], \"histogram2dcontour\": [{\"colorbar\": {\"outlinewidth\": 0, \"ticks\": \"\"}, \"colorscale\": [[0.0, \"#0d0887\"], [0.1111111111111111, \"#46039f\"], [0.2222222222222222, \"#7201a8\"], [0.3333333333333333, \"#9c179e\"], [0.4444444444444444, \"#bd3786\"], [0.5555555555555556, \"#d8576b\"], [0.6666666666666666, \"#ed7953\"], [0.7777777777777778, \"#fb9f3a\"], [0.8888888888888888, \"#fdca26\"], [1.0, \"#f0f921\"]], \"type\": \"histogram2dcontour\"}], \"mesh3d\": [{\"colorbar\": {\"outlinewidth\": 0, \"ticks\": \"\"}, \"type\": \"mesh3d\"}], \"parcoords\": [{\"line\": {\"colorbar\": {\"outlinewidth\": 0, \"ticks\": \"\"}}, \"type\": \"parcoords\"}], \"pie\": [{\"automargin\": true, \"type\": \"pie\"}], \"scatter\": [{\"marker\": {\"colorbar\": {\"outlinewidth\": 0, \"ticks\": \"\"}}, \"type\": \"scatter\"}], \"scatter3d\": [{\"line\": {\"colorbar\": {\"outlinewidth\": 0, \"ticks\": \"\"}}, \"marker\": {\"colorbar\": {\"outlinewidth\": 0, \"ticks\": \"\"}}, \"type\": \"scatter3d\"}], \"scattercarpet\": [{\"marker\": {\"colorbar\": {\"outlinewidth\": 0, \"ticks\": \"\"}}, \"type\": \"scattercarpet\"}], \"scattergeo\": [{\"marker\": {\"colorbar\": {\"outlinewidth\": 0, \"ticks\": \"\"}}, \"type\": \"scattergeo\"}], \"scattergl\": [{\"marker\": {\"colorbar\": {\"outlinewidth\": 0, \"ticks\": \"\"}}, \"type\": \"scattergl\"}], \"scattermapbox\": [{\"marker\": {\"colorbar\": {\"outlinewidth\": 0, \"ticks\": \"\"}}, \"type\": \"scattermapbox\"}], \"scatterpolar\": [{\"marker\": {\"colorbar\": {\"outlinewidth\": 0, \"ticks\": \"\"}}, \"type\": \"scatterpolar\"}], \"scatterpolargl\": [{\"marker\": {\"colorbar\": {\"outlinewidth\": 0, \"ticks\": \"\"}}, \"type\": \"scatterpolargl\"}], \"scatterternary\": [{\"marker\": {\"colorbar\": {\"outlinewidth\": 0, \"ticks\": \"\"}}, \"type\": \"scatterternary\"}], \"surface\": [{\"colorbar\": {\"outlinewidth\": 0, \"ticks\": \"\"}, \"colorscale\": [[0.0, \"#0d0887\"], [0.1111111111111111, \"#46039f\"], [0.2222222222222222, \"#7201a8\"], [0.3333333333333333, \"#9c179e\"], [0.4444444444444444, \"#bd3786\"], [0.5555555555555556, \"#d8576b\"], [0.6666666666666666, \"#ed7953\"], [0.7777777777777778, \"#fb9f3a\"], [0.8888888888888888, \"#fdca26\"], [1.0, \"#f0f921\"]], \"type\": \"surface\"}], \"table\": [{\"cells\": {\"fill\": {\"color\": \"#EBF0F8\"}, \"line\": {\"color\": \"white\"}}, \"header\": {\"fill\": {\"color\": \"#C8D4E3\"}, \"line\": {\"color\": \"white\"}}, \"type\": \"table\"}]}, \"layout\": {\"annotationdefaults\": {\"arrowcolor\": \"#2a3f5f\", \"arrowhead\": 0, \"arrowwidth\": 1}, \"coloraxis\": {\"colorbar\": {\"outlinewidth\": 0, \"ticks\": \"\"}}, \"colorscale\": {\"diverging\": [[0, \"#8e0152\"], [0.1, \"#c51b7d\"], [0.2, \"#de77ae\"], [0.3, \"#f1b6da\"], [0.4, \"#fde0ef\"], [0.5, \"#f7f7f7\"], [0.6, \"#e6f5d0\"], [0.7, \"#b8e186\"], [0.8, \"#7fbc41\"], [0.9, \"#4d9221\"], [1, \"#276419\"]], \"sequential\": [[0.0, \"#0d0887\"], [0.1111111111111111, \"#46039f\"], [0.2222222222222222, \"#7201a8\"], [0.3333333333333333, \"#9c179e\"], [0.4444444444444444, \"#bd3786\"], [0.5555555555555556, \"#d8576b\"], [0.6666666666666666, \"#ed7953\"], [0.7777777777777778, \"#fb9f3a\"], [0.8888888888888888, \"#fdca26\"], [1.0, \"#f0f921\"]], \"sequentialminus\": [[0.0, \"#0d0887\"], [0.1111111111111111, \"#46039f\"], [0.2222222222222222, \"#7201a8\"], [0.3333333333333333, \"#9c179e\"], [0.4444444444444444, \"#bd3786\"], [0.5555555555555556, \"#d8576b\"], [0.6666666666666666, \"#ed7953\"], [0.7777777777777778, \"#fb9f3a\"], [0.8888888888888888, \"#fdca26\"], [1.0, \"#f0f921\"]]}, \"colorway\": [\"#636efa\", \"#EF553B\", \"#00cc96\", \"#ab63fa\", \"#FFA15A\", \"#19d3f3\", \"#FF6692\", \"#B6E880\", \"#FF97FF\", \"#FECB52\"], \"font\": {\"color\": \"#2a3f5f\"}, \"geo\": {\"bgcolor\": \"white\", \"lakecolor\": \"white\", \"landcolor\": \"#E5ECF6\", \"showlakes\": true, \"showland\": true, \"subunitcolor\": \"white\"}, \"hoverlabel\": {\"align\": \"left\"}, \"hovermode\": \"closest\", \"mapbox\": {\"style\": \"light\"}, \"paper_bgcolor\": \"white\", \"plot_bgcolor\": \"#E5ECF6\", \"polar\": {\"angularaxis\": {\"gridcolor\": \"white\", \"linecolor\": \"white\", \"ticks\": \"\"}, \"bgcolor\": \"#E5ECF6\", \"radialaxis\": {\"gridcolor\": \"white\", \"linecolor\": \"white\", \"ticks\": \"\"}}, \"scene\": {\"xaxis\": {\"backgroundcolor\": \"#E5ECF6\", \"gridcolor\": \"white\", \"gridwidth\": 2, \"linecolor\": \"white\", \"showbackground\": true, \"ticks\": \"\", \"zerolinecolor\": \"white\"}, \"yaxis\": {\"backgroundcolor\": \"#E5ECF6\", \"gridcolor\": \"white\", \"gridwidth\": 2, \"linecolor\": \"white\", \"showbackground\": true, \"ticks\": \"\", \"zerolinecolor\": \"white\"}, \"zaxis\": {\"backgroundcolor\": \"#E5ECF6\", \"gridcolor\": \"white\", \"gridwidth\": 2, \"linecolor\": \"white\", \"showbackground\": true, \"ticks\": \"\", \"zerolinecolor\": \"white\"}}, \"shapedefaults\": {\"line\": {\"color\": \"#2a3f5f\"}}, \"ternary\": {\"aaxis\": {\"gridcolor\": \"white\", \"linecolor\": \"white\", \"ticks\": \"\"}, \"baxis\": {\"gridcolor\": \"white\", \"linecolor\": \"white\", \"ticks\": \"\"}, \"bgcolor\": \"#E5ECF6\", \"caxis\": {\"gridcolor\": \"white\", \"linecolor\": \"white\", \"ticks\": \"\"}}, \"title\": {\"x\": 0.05}, \"xaxis\": {\"automargin\": true, \"gridcolor\": \"white\", \"linecolor\": \"white\", \"ticks\": \"\", \"title\": {\"standoff\": 15}, \"zerolinecolor\": \"white\", \"zerolinewidth\": 2}, \"yaxis\": {\"automargin\": true, \"gridcolor\": \"white\", \"linecolor\": \"white\", \"ticks\": \"\", \"title\": {\"standoff\": 15}, \"zerolinecolor\": \"white\", \"zerolinewidth\": 2}}}, \"xaxis\": {\"anchor\": \"y\", \"domain\": [0.0, 1.0], \"matches\": \"x2\", \"showticklabels\": false}, \"xaxis2\": {\"anchor\": \"y2\", \"domain\": [0.0, 1.0]}, \"yaxis\": {\"anchor\": \"x\", \"domain\": [0.5045, 1.0]}, \"yaxis2\": {\"anchor\": \"x2\", \"domain\": [0.0, 0.4955]}},\n",
       "                        {\"responsive\": true}\n",
       "                    ).then(function(){\n",
       "                            \n",
       "var gd = document.getElementById('23842f2a-90d1-49e9-a2d4-b3b762aef8d1');\n",
       "var x = new MutationObserver(function (mutations, observer) {{\n",
       "        var display = window.getComputedStyle(gd).display;\n",
       "        if (!display || display === 'none') {{\n",
       "            console.log([gd, 'removed!']);\n",
       "            Plotly.purge(gd);\n",
       "            observer.disconnect();\n",
       "        }}\n",
       "}});\n",
       "\n",
       "// Listen for the removal of the full notebook cells\n",
       "var notebookContainer = gd.closest('#notebook-container');\n",
       "if (notebookContainer) {{\n",
       "    x.observe(notebookContainer, {childList: true});\n",
       "}}\n",
       "\n",
       "// Listen for the clearing of the current output cell\n",
       "var outputEl = gd.closest('.output');\n",
       "if (outputEl) {{\n",
       "    x.observe(outputEl, {childList: true});\n",
       "}}\n",
       "\n",
       "                        })\n",
       "                };\n",
       "                });\n",
       "            </script>\n",
       "        </div>"
      ]
     },
     "metadata": {},
     "output_type": "display_data"
    }
   ],
   "source": [
    "import plotly.tools as tls\n",
    "fig = tls.make_subplots( subplot_titles = (\"Title\"), rows = 2, cols= 1, shared_xaxes= True, \n",
    "                        vertical_spacing = 0.009, horizontal_spacing= 0.009 )\n",
    "fig[\"layout\"][\"margin\"]= {\"l\":30,\"r\" : 10, \"b\" : 50, \"t\" : 25}\n",
    "      \n",
    "fig.append_trace({\"x\": data_2018[\"delito\"], \"y\" :  data_2018[\"numero\"], \"type\" : \"scatter\", \"name\" : \"delito 2018\"},1,1)\n",
    "fig.append_trace({\"x\": data_2018[\"delito\"], \"y\" : data_2019[\"numero\"], \"type\" : \"scatter\", \"name\" : \"delito 2019\"},1,1)\n",
    "fig.write_image(\"tesla.webp\")\n",
    "fig.show()"
   ]
  },
  {
   "cell_type": "code",
   "execution_count": 114,
   "metadata": {},
   "outputs": [
    {
     "name": "stdout",
     "output_type": "stream",
     "text": [
      "DDH FDS 19 no hay referencia\n",
      "DDH REDES 16 no hay referencia\n",
      "DDH CERESO 13 no hay referencia\n",
      "ULTRAJES 3 no hay referencia\n",
      "COACCION DE SERVIDORES PUBLICOS 2 no hay referencia\n",
      "VIOLACION TUMULTUARIA EQUIPARADA POR CONOCIDO 1 no hay referencia\n",
      "ASOCIACION DELICTUOSA 1 no hay referencia\n",
      "VIOLACION EQUIPARADA Y ROBO DE VEHICULO 1 no hay referencia\n",
      "INTIMIDACION (EVITAR DENUNCIA, APORTE INFORMACIÓN O PRUEBAS) 1 no hay referencia\n",
      "CONTAGIO VENERERO 1 no hay referencia\n",
      "EXHORTOS 1 no hay referencia\n"
     ]
    }
   ],
   "source": [
    "resta_2019_2018={}\n",
    "porcentaje_2019_2018={}\n",
    "for delito in list(dict_2019.keys()):\n",
    "    try:\n",
    "        resta_2019_2018[delito]=dict_2019[delito]-dict_2018[delito]\n",
    "        porcentaje_2019_2018[delito]=round(((dict_2019[delito]-dict_2018[delito])/dict_2019[delito])*100,2)\n",
    "    except:\n",
    "        print(delito,dict_2019[delito],\"no hay referencia\")"
   ]
  },
  {
   "cell_type": "code",
   "execution_count": 115,
   "metadata": {},
   "outputs": [],
   "source": [
    "porcentaje=pd.DataFrame(columns=[\"delito\",\"porcentaje\"])"
   ]
  },
  {
   "cell_type": "code",
   "execution_count": 116,
   "metadata": {},
   "outputs": [],
   "source": [
    "porcentaje[\"delito\"]=porcentaje_2019_2018.keys()\n",
    "porcentaje[\"porcentaje\"]=porcentaje_2019_2018.values()"
   ]
  },
  {
   "cell_type": "code",
   "execution_count": 117,
   "metadata": {},
   "outputs": [],
   "source": [
    "ordenado=porcentaje.sort_values(by=\"porcentaje\",ascending=False)"
   ]
  },
  {
   "cell_type": "code",
   "execution_count": 118,
   "metadata": {},
   "outputs": [
    {
     "data": {
      "text/html": [
       "<div>\n",
       "<style scoped>\n",
       "    .dataframe tbody tr th:only-of-type {\n",
       "        vertical-align: middle;\n",
       "    }\n",
       "\n",
       "    .dataframe tbody tr th {\n",
       "        vertical-align: top;\n",
       "    }\n",
       "\n",
       "    .dataframe thead th {\n",
       "        text-align: right;\n",
       "    }\n",
       "</style>\n",
       "<table border=\"1\" class=\"dataframe\">\n",
       "  <thead>\n",
       "    <tr style=\"text-align: right;\">\n",
       "      <th></th>\n",
       "      <th>delito</th>\n",
       "      <th>porcentaje</th>\n",
       "    </tr>\n",
       "  </thead>\n",
       "  <tbody>\n",
       "    <tr>\n",
       "      <th>121</th>\n",
       "      <td>DDH RELACIONADAS</td>\n",
       "      <td>98.15</td>\n",
       "    </tr>\n",
       "    <tr>\n",
       "      <th>125</th>\n",
       "      <td>DDH FRVT</td>\n",
       "      <td>97.83</td>\n",
       "    </tr>\n",
       "    <tr>\n",
       "      <th>130</th>\n",
       "      <td>DDH ANONIMAS</td>\n",
       "      <td>97.50</td>\n",
       "    </tr>\n",
       "    <tr>\n",
       "      <th>80</th>\n",
       "      <td>PERSONAS EXTRAVIADAS</td>\n",
       "      <td>96.88</td>\n",
       "    </tr>\n",
       "    <tr>\n",
       "      <th>163</th>\n",
       "      <td>DDH OFICIO COLABORACION</td>\n",
       "      <td>91.67</td>\n",
       "    </tr>\n",
       "    <tr>\n",
       "      <th>...</th>\n",
       "      <td>...</td>\n",
       "      <td>...</td>\n",
       "    </tr>\n",
       "    <tr>\n",
       "      <th>209</th>\n",
       "      <td>ROBO DE VEHICULO DE SERVICIO DE TRANSPORTE CON...</td>\n",
       "      <td>-1400.00</td>\n",
       "    </tr>\n",
       "    <tr>\n",
       "      <th>204</th>\n",
       "      <td>HOMICIDIO CULPOSO POR TRÁNSITO VEHICULAR</td>\n",
       "      <td>-1433.33</td>\n",
       "    </tr>\n",
       "    <tr>\n",
       "      <th>34</th>\n",
       "      <td>DENUNCIA DE HECHOS</td>\n",
       "      <td>-1600.30</td>\n",
       "    </tr>\n",
       "    <tr>\n",
       "      <th>33</th>\n",
       "      <td>ROBO A TRANSEUNTE DE CELULAR CON VIOLENCIA</td>\n",
       "      <td>-1880.90</td>\n",
       "    </tr>\n",
       "    <tr>\n",
       "      <th>62</th>\n",
       "      <td>ROBO A TRANSEUNTE DE CELULAR SIN VIOLENCIA</td>\n",
       "      <td>-2653.72</td>\n",
       "    </tr>\n",
       "  </tbody>\n",
       "</table>\n",
       "<p>231 rows × 2 columns</p>\n",
       "</div>"
      ],
      "text/plain": [
       "                                                delito  porcentaje\n",
       "121                                   DDH RELACIONADAS       98.15\n",
       "125                                           DDH FRVT       97.83\n",
       "130                                       DDH ANONIMAS       97.50\n",
       "80                                PERSONAS EXTRAVIADAS       96.88\n",
       "163                            DDH OFICIO COLABORACION       91.67\n",
       "..                                                 ...         ...\n",
       "209  ROBO DE VEHICULO DE SERVICIO DE TRANSPORTE CON...    -1400.00\n",
       "204           HOMICIDIO CULPOSO POR TRÁNSITO VEHICULAR    -1433.33\n",
       "34                                  DENUNCIA DE HECHOS    -1600.30\n",
       "33          ROBO A TRANSEUNTE DE CELULAR CON VIOLENCIA    -1880.90\n",
       "62          ROBO A TRANSEUNTE DE CELULAR SIN VIOLENCIA    -2653.72\n",
       "\n",
       "[231 rows x 2 columns]"
      ]
     },
     "execution_count": 118,
     "metadata": {},
     "output_type": "execute_result"
    }
   ],
   "source": [
    "ordenado"
   ]
  },
  {
   "cell_type": "code",
   "execution_count": 119,
   "metadata": {},
   "outputs": [
    {
     "data": {
      "application/vnd.plotly.v1+json": {
       "config": {
        "plotlyServerURL": "https://plot.ly"
       },
       "data": [
        {
         "hovertemplate": "delito=%{x}<br>porcentaje=%{y}<extra></extra>",
         "legendgroup": "",
         "line": {
          "color": "#636efa",
          "dash": "solid"
         },
         "mode": "lines",
         "name": "",
         "orientation": "v",
         "showlegend": false,
         "type": "scatter",
         "x": [
          "DDH RELACIONADAS",
          "DDH FRVT",
          "DDH ANONIMAS",
          "PERSONAS EXTRAVIADAS",
          "DDH OFICIO COLABORACION",
          "PLAGIO O SECUESTRO",
          "DDH SIN DATOS",
          "DDH OTRAS MATERIAS",
          "GESTIÓN AMBIENTAL",
          "ROBO A PASAJERO EN TREN SUBURBANO SIN VIOLENCIA",
          "COBRANZA ILEGITIMA",
          "ROBO A TRANSEUNTE SALIENDO DEL CAJERO CON VIOLENCIA",
          "ROBO A PASAJERO EN AUTOBUS FORANEO SIN VIOLENCIA",
          "ROBO A SUCURSAL BANCARIA (SUPERMERCADO) CON VIOLENCIA",
          "ATAQUES A LA PAZ PUBLICA",
          "ROBO A PASAJERO A BORDO DE METRO CON VIOLENCIA",
          "LESIONES INTENCIONALES Y ROBO DE VEHICULO",
          "ROBO EN INTERIOR DE EMPRESA (NOMINA) CON VIOLENCIA",
          "HOMICIDIO POR AHORCAMIENTO",
          "ROBO A TRANSEUNTE EN PARQUES Y MERCADOS CON VIOLENCIA",
          "ROBO A PASAJERO A BORDO DE METRO SIN VIOLENCIA",
          "ROBO A PASAJERO EN RTP SIN VIOLENCIA",
          "OPERACIONES CON RECURSOS DE PROCEDENCIA ILICITA",
          "ROBO A PASAJERO EN TREN LIGERO SIN VIOLENCIA",
          "PORTACION DE ARMA DE FUEGO",
          "TENTATIVA DE SUICIDIO",
          "ROBO A SUCURSAL BANCARIA (ASALTO BANCARIO) CON VIOLENCIA",
          "ROBO A PASAJERO EN TROLEBUS CON VIOLENCIA",
          "ROBO A PASAJERO / CONDUCTOR DE TAXI CON VIOLENCIA",
          "ROBO A TRANSEUNTE EN HOTEL CON VIOLENCIA",
          "ROBO A PASAJERO A BORDO DE TAXI CON VIOLENCIA",
          "PERDIDA DE LA VIDA POR ACCIDENTE LABORAL",
          "DIFAMACION",
          "PERDIDA DE LA VIDA POR ASFIXIA",
          "REGULACIÓN URBANA",
          "ENTREGA ILEGITIMA DE UN MENOR",
          "PRIVACION DE LA LIBERTAD PERSONAL (REALIZAR ACTO SEXUAL)",
          "ROBO A PASAJERO A BORDO DE TAXI SIN VIOLENCIA",
          "TALA",
          "DENUNCIA DE HECHOS POR ROBO DE CELULAR",
          "ENRIQUECIMIENTO ILICITO",
          "ROBO A TRANSPORTISTA Y VEHICULO PESADO CON VIOLENCIA",
          "VIOLACION EQUIPARADA",
          "ROBO A PASAJERO A BORDO DE METROBUS CON VIOLENCIA",
          "ROBO A PASAJERO A BORDO DE PESERO COLECTIVO CON VIOLENCIA",
          "PRIVACION DE LA LIBERTAD PERSONAL",
          "POSESION DE VEHICULO ROBADO",
          "ROBO A PASAJERO EN RTP CON VIOLENCIA",
          "ACOSO SEXUAL",
          "FALSIFICACION DE SELLOS, MARCAS, LLAVES Y OTROS",
          "ROBO A REPARTIDOR CON VIOLENCIA",
          "ROBO A TRANSEUNTE EN VIA PUBLICA SIN VIOLENCIA",
          "ROBO A TRANSEUNTE EN VIA PUBLICA CON VIOLENCIA",
          "ROBO A TRANSEUNTE EN RESTAURANT CON VIOLENCIA",
          "ROBO A PASAJERO A BORDO DE PESERO COLECTIVO SIN VIOLENCIA",
          "ROBO EN INTERIOR DE EMPRESA (NOMINA) SIN VIOLENCIA",
          "CORRUPCION DE MENORES",
          "PERDIDA DE LA VIDA POR AHOGAMIENTO",
          "ROBO A OFICINA PÚBLICA SIN VIOLENCIA",
          "PORNOGRAFIA INFANTIL",
          "ROBO A NEGOCIO CON VIOLENCIA",
          "ROBO A TRANSEUNTE SALIENDO DEL BANCO CON VIOLENCIA",
          "ROBO DE MOTOCICLETA SIN VIOLENCIA",
          "EXTORSION",
          "ABUSO SEXUAL",
          "PERDIDA DE LA VIDA POR SUICIDIO",
          "VIOLACION",
          "PERDIDA DE LA VIDA ASFIXIA POR ALIMENTOS/ LIQUIDOS",
          "NEGACION DEL SERVICIO PUBLICO",
          "MALTRATO ANIMAL",
          "ROBO A CASA HABITACION CON VIOLENCIA",
          "ROBO A PASAJERO A BORDO DE TRANSPORTE PÚBLICO CON VIOLENCIA",
          "ROBO A PASAJERO A BORDO DE METROBUS SIN VIOLENCIA",
          "RESISTENCIA DE PARTICULARES (SE OPONGA O RESISTA)",
          "LESIONES CULPOSAS POR TRANSITO VEHICULAR",
          "LESIONES CULPOSAS POR QUEMADURAS",
          "ROBO A NEGOCIO Y VEHICULO SIN VIOLENCIA",
          "USO INDEBIDO DE CONDECORACIONES UNIFORMES E INSIGNIAS",
          "ROBO DE VEHICULO DE SERVICIO OFICIAL CON VIOLENCIA",
          "OTROS DELITOS",
          "ROBO A PASAJERO / CONDUCTOR DE VEHICULO CON VIOLENCIA",
          "TENTATIVA DE EXTORSION",
          "ROBO A PASAJERO A BORDO DE TRANSPORTE PÚBLICO SIN VIOLENCIA",
          "DAÑO EN PROPIEDAD AJENA INTENCIONAL A CASA HABITACION",
          "PERDIDA DE LA VIDA POR PARO CARDIACO",
          "ROBO A PASAJERO EN TROLEBUS SIN VIOLENCIA",
          "ABORTO",
          "ROBO A REPARTIDOR SIN VIOLENCIA",
          "HOMICIDIO POR GOLPES",
          "DISPAROS DE ARMA DE FUEGO",
          "PECULADO",
          "DESAPARICION FORZADA DE PERSONAS",
          "ROBO A REPARTIDOR Y VEHICULO CON VIOLENCIA",
          "TENTATIVA DE HOMICIDIO",
          "DAÑO EN PROPIEDAD AJENA INTENCIONAL A AUTOMOVIL",
          "ROBO DE VEHICULO DE SERVICIO PARTICULAR SIN VIOLENCIA",
          "VIOLACION TUMULTUARIA",
          "USURPACIÓN DE IDENTIDAD",
          "HOMICIDIO POR ARMA DE FUEGO",
          "ENCUBRIMIENTO",
          "DAÑO EN PROPIEDAD AJENA INTENCIONAL A VIAS DE COMUNICACION",
          "ROBO DE MAQUINARIA SIN VIOLENCIA",
          "COHECHO",
          "TRATA DE PERSONAS",
          "PORTACION ARMA/PROHIB.",
          "EJERCICIO INDEBIDO DEL SERVIDOR PUBLICO",
          "ESTUPRO",
          "LESIONES CULPOSAS POR CAIDA DE VEHÍCULO EN MOVIMIENTO",
          "PERDIDA DE LA VIDA POR INTOXICACION",
          "ROBO DE FLUIDOS",
          "ROBO A CASA HABITACION Y VEHICULO CON VIOLENCIA",
          "TENTATIVA DE VIOLACION",
          "ROBO A PASAJERO EN AUTOBÚS FORÁNEO CON VIOLENCIA",
          "ROBO A OFICINA PÚBLICA CON VIOLENCIA",
          "INHUMACIONES Y/O EXHUMACIONES",
          "VIOLENCIA FAMILIAR",
          "ROBO DE VEHICULO DE SERVICIO PÚBLICO SIN VIOLENCIA",
          "DAÑO EN PROPIEDAD AJENA INTENCIONAL A NEGOCIO",
          "AMENAZAS",
          "PERDIDA DE LA VIDA POR SUICIDIO EN EL METRO",
          "LESIONES INTENCIONALES POR GOLPES",
          "LESIONES INTENCIONALES POR ARMA BLANCA",
          "ALLANAMIENTO DE MORADA",
          "ROBO DE VEHICULO DE SERVICIO PARTICULAR CON VIOLENCIA",
          "PERDIDA DE LA VIDA POR CAIDA",
          "LESIONES CULPOSAS POR CAIDA",
          "ROBO A TRANSEUNTE EN NEGOCIO CON VIOLENCIA",
          "ROBO A NEGOCIO SIN VIOLENCIA",
          "HOMICIDIOS INTENCIONALES (OTROS)",
          "ROBO DE MOTOCICLETA CON VIOLENCIA",
          "HOMICIDIO CULPOSO POR TRÁNSITO VEHICULAR (CAIDA)",
          "HOMICIDIO CULPOSO POR TRÁNSITO VEHICULAR (COLISION)",
          "HOMICIDIO CULPOSO POR TRÁNSITO VEHICULAR (ATROPELLADO)",
          "ABUSO DE AUTORIDAD",
          "TENTATIVA DE ROBO",
          "HOMICIDIO POR ARMA BLANCA",
          "DAÑO EN PROPIEDAD AJENA INTENCIONAL A BIENES INMUEBLES",
          "ROBO DE PLACA DE AUTOMOVIL",
          "DISCRIMINACION",
          "ROBO DE VEHICULO DE SERVICIO PÚBLICO CON VIOLENCIA",
          "ROBO DE VEHICULO DE PEDALES",
          "PELIGRO DE CONTAGIO",
          "EXPLOTACIÓN DE MENOR O DISCAPACITADO",
          "CAMBIO DE USO DE SUELO",
          "DAÑO EN PROPIEDAD AJENA CULPOSA POR TRÁNSITO VEHICULAR A VIAS DE COMUNICACION",
          "ROBO DE ANIMALES",
          "NARCOMENUDEO POSESIÓN CON FINES DE VENTA, COMERCIO Y SUMINISTRO",
          "ABANDONO DE PERSONA",
          "DAÑO EN PROPIEDAD AJENA CULPOSA POR TRÁNSITO VEHICULAR A AUTOMOVIL",
          "PERDIDA DE LA VIDA POR ENFERMEDAD",
          "PERDIDA DE LA VIDA POR OTRAS CAUSAS",
          "ROBO A NEGOCIO Y VEHICULO CON VIOLENCIA",
          "PERDIDA DE LA VIDA POR PRECIPITACION",
          "TENTATIVA DE FRAUDE",
          "LESIONES CULPOSAS ACCIDENTE LABORAL",
          "USURPACION DE FUNCIONES",
          "DESPOJO",
          "ROBO DE OBJETOS A ESCUELA",
          "SUSTRACCION DE MENORES",
          "ROBO DE ARMA",
          "CONTRA FUNCIONARIOS PUBLICOS",
          "REVELACION DE SECRETOS",
          "TRAFICO DE INFLUENCIA",
          "LA ADMINISTRACION DE JUSTICIA",
          "PERDIDA DE LA VIDA POR DERRUMBE",
          "ROBO DE ACCESORIOS DE AUTO",
          "LESIONES CULPOSAS POR TRANSITO VEHICULAR EN COLISION",
          "DAÑO EN PROPIEDAD AJENA INTENCIONAL",
          "VIOLACION DE CORRESPONDENCIA",
          "ROBO A CASA HABITACION SIN VIOLENCIA",
          "TORTURA",
          "NARCOMENUDEO POSESION SIMPLE",
          "FALSIFICACION DE DOCUMENTOS",
          "ATAQUE A LAS VIAS GENERALES DE COMUNICACIÓN",
          "LESIONES INTENCIONALES POR ARMA DE FUEGO",
          "DAÑO EN PROPIEDAD AJENA CULPOSA POR TRÁNSITO VEHICULAR A BIENES INMUEBLES",
          "ROBO DE ALHAJAS",
          "FRAUDE",
          "ROBO DE OBJETOS",
          "TENTATIVA DE ROBO DE VEHICULO",
          "FEMINICIDIO",
          "ROBO A TRANSEUNTE EN VIA PUBLICA (NOMINA) CON VIOLENCIA",
          "ROBO DE MAQUINARIA CON VIOLENCIA",
          "FALSIFICACION DE TITULOS AL PORTADOR Y DOCUMENTOS DE CREDITO PUBLICO",
          "PRIV. ILEGAL DE LA LIB. Y ROBO DE VEHICULO",
          "DAÑO EN PROPIEDAD AJENA CULPOSA",
          "ROBO DE OBJETOS DEL INTERIOR DE UN VEHICULO",
          "VIOLACION EQUIPARADA POR CONOCIDO",
          "ROBO DE VEHICULO DE SERVICIO OFICIAL SIN VIOLENCIA",
          "ROBO A PASAJERO EN TREN LIGERO CON VIOLENCIA",
          "INSOLVENCIA ALIMENTARIA",
          "DESOBEDENCIA DE PARTICULARES",
          "FALSEDAD DE DECLARACIONES",
          "ABUSO DE CONFIANZA",
          "PERDIDA DE LA VIDA POR QUEMADURA",
          "INTIMIDACION",
          "EVASION DE PRESOS",
          "LESIONES CULPOSAS",
          "DELITOS AMBIENTALES",
          "BIGAMIA",
          "ROBO A CASA HABITACION Y VEHICULO SIN VIOLENCIA",
          "RESPONSABILIDAD PROFESIONAL",
          "ATAQUE A LAS VIAS DE COMUNICACION (DAÑO A VIAS O MEDIOS DE TRANSPORTE)",
          "ROBO DE DOCUMENTOS",
          "VARIACION DE NOMBRE O DOMICILIO",
          "PERDIDA DE LA VIDA POR CONGESTION ALCOHOLICA",
          "USURPACION DE PROFESION",
          "USO DE DOCUMENTO FALSO",
          "ROBO DE VEHICULO DE SERVICIO DE TRANSPORTE SIN VIOLENCIA",
          "QUEBRANTAMIENTO DE SELLOS",
          "SABOTAJE",
          "ROBO DE DINERO",
          "SECUESTRO EXPRESS (PARA COMETER ROBO O EXTORSIÓN)",
          "DELITOS DE ABOGADOS PATRONOS Y LITIGANTES",
          "DAÑO SUELO (ACTIVIDAD, INVASIÓN O EXTRACCIÓN)",
          "ROBO A REPARTIDOR Y VEHICULO SIN VIOLENCIA",
          "ROBO A TRANSEUNTE EN TERMINAL DE PASAJEROS CON VIOLENCIA",
          "ROBO A SUCURSAL BANCARIA (SUPERMERCADO) SIN VIOLENCIA",
          "ROBO A PASAJERO EN ECOBUS SIN VIOLENCIA",
          "ROBO A TRANSPORTISTA Y VEHICULO PESADO SIN VIOLENCIA",
          "HOMICIDIO CULPOSO POR ARMA DE FUEGO",
          "LESIONES INTENCIONALES",
          "ROBO A TRANSEUNTE Y VEHICULO CON VIOLENCIA",
          "OPOSICION A LA OBRA PUBLICA",
          "ROBO A PASAJERO EN ECOBUS CON VIOLENCIA",
          "USO INDEBIDO DE ATRIBUCIONES Y FACULTADES",
          "ROBO DE VEHICULO DE SERVICIO DE TRANSPORTE CON VIOLENCIA",
          "HOMICIDIO CULPOSO POR TRÁNSITO VEHICULAR",
          "DENUNCIA DE HECHOS",
          "ROBO A TRANSEUNTE DE CELULAR CON VIOLENCIA",
          "ROBO A TRANSEUNTE DE CELULAR SIN VIOLENCIA"
         ],
         "xaxis": "x",
         "y": [
          98.15,
          97.83,
          97.5,
          96.88,
          91.67,
          89.74,
          83.33,
          81.82,
          75,
          75,
          73.56,
          67.53,
          66.67,
          60,
          60,
          50.23,
          50,
          50,
          50,
          48,
          47.08,
          33.33,
          33.33,
          30.43,
          24.43,
          24,
          20,
          14.29,
          14.02,
          7.14,
          2.5,
          0,
          0,
          0,
          0,
          0,
          0,
          0,
          0,
          0,
          0,
          -1.72,
          -3.3,
          -3.33,
          -5.86,
          -6.96,
          -8.62,
          -8.7,
          -12.69,
          -16.67,
          -17.25,
          -19.9,
          -20.08,
          -21.18,
          -22.58,
          -25,
          -29.2,
          -30.77,
          -31.58,
          -35.48,
          -35.89,
          -36.44,
          -38.58,
          -38.71,
          -39.16,
          -39.77,
          -39.95,
          -40,
          -40.38,
          -40.94,
          -41.06,
          -43.56,
          -46.58,
          -46.7,
          -48.35,
          -48.89,
          -50,
          -50,
          -50,
          -50,
          -50.54,
          -50.69,
          -51.23,
          -51.82,
          -52.38,
          -53.33,
          -54.17,
          -54.58,
          -55.56,
          -55.56,
          -56.25,
          -57.14,
          -57.63,
          -60,
          -61.06,
          -61.4,
          -61.54,
          -62.99,
          -64.31,
          -65.19,
          -66.67,
          -66.67,
          -67.76,
          -67.8,
          -68.83,
          -69.17,
          -69.23,
          -69.81,
          -70,
          -73.17,
          -75,
          -75,
          -75,
          -75,
          -75,
          -75.07,
          -75.15,
          -75.41,
          -76.02,
          -76.92,
          -77.9,
          -78.86,
          -86.47,
          -86.75,
          -87.06,
          -88,
          -92.22,
          -92.53,
          -92.59,
          -92.84,
          -92.86,
          -94.59,
          -94.81,
          -95.22,
          -96.32,
          -96.88,
          -97.1,
          -97.24,
          -97.64,
          -98.97,
          -99.76,
          -100,
          -100,
          -100,
          -100,
          -101.69,
          -103.32,
          -107.72,
          -110.87,
          -111.11,
          -113.4,
          -114.29,
          -115,
          -115.38,
          -115.79,
          -116.67,
          -120.15,
          -120.3,
          -120.5,
          -123.73,
          -124.3,
          -126.83,
          -128.57,
          -131.12,
          -133.33,
          -133.8,
          -133.97,
          -134.59,
          -136.36,
          -138,
          -138.85,
          -141.85,
          -149.47,
          -150,
          -150,
          -152.05,
          -152.17,
          -152.41,
          -154.99,
          -155.56,
          -164.29,
          -166.67,
          -171.43,
          -177.51,
          -181.48,
          -193.97,
          -199.22,
          -200,
          -200,
          -200,
          -202.91,
          -203.85,
          -205.43,
          -206.67,
          -207.14,
          -223.08,
          -233.33,
          -241.33,
          -245.45,
          -250,
          -266.67,
          -282.14,
          -287.5,
          -294.94,
          -300,
          -300,
          -313.33,
          -316.88,
          -320,
          -334.67,
          -400,
          -412.56,
          -412.73,
          -421.05,
          -460,
          -480,
          -500,
          -500,
          -500,
          -550,
          -555.56,
          -587.86,
          -700,
          -800,
          -1200,
          -1338.1,
          -1400,
          -1433.33,
          -1600.3,
          -1880.9,
          -2653.72
         ],
         "yaxis": "y"
        }
       ],
       "layout": {
        "legend": {
         "tracegroupgap": 0
        },
        "template": {
         "data": {
          "bar": [
           {
            "error_x": {
             "color": "#2a3f5f"
            },
            "error_y": {
             "color": "#2a3f5f"
            },
            "marker": {
             "line": {
              "color": "#E5ECF6",
              "width": 0.5
             }
            },
            "type": "bar"
           }
          ],
          "barpolar": [
           {
            "marker": {
             "line": {
              "color": "#E5ECF6",
              "width": 0.5
             }
            },
            "type": "barpolar"
           }
          ],
          "carpet": [
           {
            "aaxis": {
             "endlinecolor": "#2a3f5f",
             "gridcolor": "white",
             "linecolor": "white",
             "minorgridcolor": "white",
             "startlinecolor": "#2a3f5f"
            },
            "baxis": {
             "endlinecolor": "#2a3f5f",
             "gridcolor": "white",
             "linecolor": "white",
             "minorgridcolor": "white",
             "startlinecolor": "#2a3f5f"
            },
            "type": "carpet"
           }
          ],
          "choropleth": [
           {
            "colorbar": {
             "outlinewidth": 0,
             "ticks": ""
            },
            "type": "choropleth"
           }
          ],
          "contour": [
           {
            "colorbar": {
             "outlinewidth": 0,
             "ticks": ""
            },
            "colorscale": [
             [
              0,
              "#0d0887"
             ],
             [
              0.1111111111111111,
              "#46039f"
             ],
             [
              0.2222222222222222,
              "#7201a8"
             ],
             [
              0.3333333333333333,
              "#9c179e"
             ],
             [
              0.4444444444444444,
              "#bd3786"
             ],
             [
              0.5555555555555556,
              "#d8576b"
             ],
             [
              0.6666666666666666,
              "#ed7953"
             ],
             [
              0.7777777777777778,
              "#fb9f3a"
             ],
             [
              0.8888888888888888,
              "#fdca26"
             ],
             [
              1,
              "#f0f921"
             ]
            ],
            "type": "contour"
           }
          ],
          "contourcarpet": [
           {
            "colorbar": {
             "outlinewidth": 0,
             "ticks": ""
            },
            "type": "contourcarpet"
           }
          ],
          "heatmap": [
           {
            "colorbar": {
             "outlinewidth": 0,
             "ticks": ""
            },
            "colorscale": [
             [
              0,
              "#0d0887"
             ],
             [
              0.1111111111111111,
              "#46039f"
             ],
             [
              0.2222222222222222,
              "#7201a8"
             ],
             [
              0.3333333333333333,
              "#9c179e"
             ],
             [
              0.4444444444444444,
              "#bd3786"
             ],
             [
              0.5555555555555556,
              "#d8576b"
             ],
             [
              0.6666666666666666,
              "#ed7953"
             ],
             [
              0.7777777777777778,
              "#fb9f3a"
             ],
             [
              0.8888888888888888,
              "#fdca26"
             ],
             [
              1,
              "#f0f921"
             ]
            ],
            "type": "heatmap"
           }
          ],
          "heatmapgl": [
           {
            "colorbar": {
             "outlinewidth": 0,
             "ticks": ""
            },
            "colorscale": [
             [
              0,
              "#0d0887"
             ],
             [
              0.1111111111111111,
              "#46039f"
             ],
             [
              0.2222222222222222,
              "#7201a8"
             ],
             [
              0.3333333333333333,
              "#9c179e"
             ],
             [
              0.4444444444444444,
              "#bd3786"
             ],
             [
              0.5555555555555556,
              "#d8576b"
             ],
             [
              0.6666666666666666,
              "#ed7953"
             ],
             [
              0.7777777777777778,
              "#fb9f3a"
             ],
             [
              0.8888888888888888,
              "#fdca26"
             ],
             [
              1,
              "#f0f921"
             ]
            ],
            "type": "heatmapgl"
           }
          ],
          "histogram": [
           {
            "marker": {
             "colorbar": {
              "outlinewidth": 0,
              "ticks": ""
             }
            },
            "type": "histogram"
           }
          ],
          "histogram2d": [
           {
            "colorbar": {
             "outlinewidth": 0,
             "ticks": ""
            },
            "colorscale": [
             [
              0,
              "#0d0887"
             ],
             [
              0.1111111111111111,
              "#46039f"
             ],
             [
              0.2222222222222222,
              "#7201a8"
             ],
             [
              0.3333333333333333,
              "#9c179e"
             ],
             [
              0.4444444444444444,
              "#bd3786"
             ],
             [
              0.5555555555555556,
              "#d8576b"
             ],
             [
              0.6666666666666666,
              "#ed7953"
             ],
             [
              0.7777777777777778,
              "#fb9f3a"
             ],
             [
              0.8888888888888888,
              "#fdca26"
             ],
             [
              1,
              "#f0f921"
             ]
            ],
            "type": "histogram2d"
           }
          ],
          "histogram2dcontour": [
           {
            "colorbar": {
             "outlinewidth": 0,
             "ticks": ""
            },
            "colorscale": [
             [
              0,
              "#0d0887"
             ],
             [
              0.1111111111111111,
              "#46039f"
             ],
             [
              0.2222222222222222,
              "#7201a8"
             ],
             [
              0.3333333333333333,
              "#9c179e"
             ],
             [
              0.4444444444444444,
              "#bd3786"
             ],
             [
              0.5555555555555556,
              "#d8576b"
             ],
             [
              0.6666666666666666,
              "#ed7953"
             ],
             [
              0.7777777777777778,
              "#fb9f3a"
             ],
             [
              0.8888888888888888,
              "#fdca26"
             ],
             [
              1,
              "#f0f921"
             ]
            ],
            "type": "histogram2dcontour"
           }
          ],
          "mesh3d": [
           {
            "colorbar": {
             "outlinewidth": 0,
             "ticks": ""
            },
            "type": "mesh3d"
           }
          ],
          "parcoords": [
           {
            "line": {
             "colorbar": {
              "outlinewidth": 0,
              "ticks": ""
             }
            },
            "type": "parcoords"
           }
          ],
          "pie": [
           {
            "automargin": true,
            "type": "pie"
           }
          ],
          "scatter": [
           {
            "marker": {
             "colorbar": {
              "outlinewidth": 0,
              "ticks": ""
             }
            },
            "type": "scatter"
           }
          ],
          "scatter3d": [
           {
            "line": {
             "colorbar": {
              "outlinewidth": 0,
              "ticks": ""
             }
            },
            "marker": {
             "colorbar": {
              "outlinewidth": 0,
              "ticks": ""
             }
            },
            "type": "scatter3d"
           }
          ],
          "scattercarpet": [
           {
            "marker": {
             "colorbar": {
              "outlinewidth": 0,
              "ticks": ""
             }
            },
            "type": "scattercarpet"
           }
          ],
          "scattergeo": [
           {
            "marker": {
             "colorbar": {
              "outlinewidth": 0,
              "ticks": ""
             }
            },
            "type": "scattergeo"
           }
          ],
          "scattergl": [
           {
            "marker": {
             "colorbar": {
              "outlinewidth": 0,
              "ticks": ""
             }
            },
            "type": "scattergl"
           }
          ],
          "scattermapbox": [
           {
            "marker": {
             "colorbar": {
              "outlinewidth": 0,
              "ticks": ""
             }
            },
            "type": "scattermapbox"
           }
          ],
          "scatterpolar": [
           {
            "marker": {
             "colorbar": {
              "outlinewidth": 0,
              "ticks": ""
             }
            },
            "type": "scatterpolar"
           }
          ],
          "scatterpolargl": [
           {
            "marker": {
             "colorbar": {
              "outlinewidth": 0,
              "ticks": ""
             }
            },
            "type": "scatterpolargl"
           }
          ],
          "scatterternary": [
           {
            "marker": {
             "colorbar": {
              "outlinewidth": 0,
              "ticks": ""
             }
            },
            "type": "scatterternary"
           }
          ],
          "surface": [
           {
            "colorbar": {
             "outlinewidth": 0,
             "ticks": ""
            },
            "colorscale": [
             [
              0,
              "#0d0887"
             ],
             [
              0.1111111111111111,
              "#46039f"
             ],
             [
              0.2222222222222222,
              "#7201a8"
             ],
             [
              0.3333333333333333,
              "#9c179e"
             ],
             [
              0.4444444444444444,
              "#bd3786"
             ],
             [
              0.5555555555555556,
              "#d8576b"
             ],
             [
              0.6666666666666666,
              "#ed7953"
             ],
             [
              0.7777777777777778,
              "#fb9f3a"
             ],
             [
              0.8888888888888888,
              "#fdca26"
             ],
             [
              1,
              "#f0f921"
             ]
            ],
            "type": "surface"
           }
          ],
          "table": [
           {
            "cells": {
             "fill": {
              "color": "#EBF0F8"
             },
             "line": {
              "color": "white"
             }
            },
            "header": {
             "fill": {
              "color": "#C8D4E3"
             },
             "line": {
              "color": "white"
             }
            },
            "type": "table"
           }
          ]
         },
         "layout": {
          "annotationdefaults": {
           "arrowcolor": "#2a3f5f",
           "arrowhead": 0,
           "arrowwidth": 1
          },
          "coloraxis": {
           "colorbar": {
            "outlinewidth": 0,
            "ticks": ""
           }
          },
          "colorscale": {
           "diverging": [
            [
             0,
             "#8e0152"
            ],
            [
             0.1,
             "#c51b7d"
            ],
            [
             0.2,
             "#de77ae"
            ],
            [
             0.3,
             "#f1b6da"
            ],
            [
             0.4,
             "#fde0ef"
            ],
            [
             0.5,
             "#f7f7f7"
            ],
            [
             0.6,
             "#e6f5d0"
            ],
            [
             0.7,
             "#b8e186"
            ],
            [
             0.8,
             "#7fbc41"
            ],
            [
             0.9,
             "#4d9221"
            ],
            [
             1,
             "#276419"
            ]
           ],
           "sequential": [
            [
             0,
             "#0d0887"
            ],
            [
             0.1111111111111111,
             "#46039f"
            ],
            [
             0.2222222222222222,
             "#7201a8"
            ],
            [
             0.3333333333333333,
             "#9c179e"
            ],
            [
             0.4444444444444444,
             "#bd3786"
            ],
            [
             0.5555555555555556,
             "#d8576b"
            ],
            [
             0.6666666666666666,
             "#ed7953"
            ],
            [
             0.7777777777777778,
             "#fb9f3a"
            ],
            [
             0.8888888888888888,
             "#fdca26"
            ],
            [
             1,
             "#f0f921"
            ]
           ],
           "sequentialminus": [
            [
             0,
             "#0d0887"
            ],
            [
             0.1111111111111111,
             "#46039f"
            ],
            [
             0.2222222222222222,
             "#7201a8"
            ],
            [
             0.3333333333333333,
             "#9c179e"
            ],
            [
             0.4444444444444444,
             "#bd3786"
            ],
            [
             0.5555555555555556,
             "#d8576b"
            ],
            [
             0.6666666666666666,
             "#ed7953"
            ],
            [
             0.7777777777777778,
             "#fb9f3a"
            ],
            [
             0.8888888888888888,
             "#fdca26"
            ],
            [
             1,
             "#f0f921"
            ]
           ]
          },
          "colorway": [
           "#636efa",
           "#EF553B",
           "#00cc96",
           "#ab63fa",
           "#FFA15A",
           "#19d3f3",
           "#FF6692",
           "#B6E880",
           "#FF97FF",
           "#FECB52"
          ],
          "font": {
           "color": "#2a3f5f"
          },
          "geo": {
           "bgcolor": "white",
           "lakecolor": "white",
           "landcolor": "#E5ECF6",
           "showlakes": true,
           "showland": true,
           "subunitcolor": "white"
          },
          "hoverlabel": {
           "align": "left"
          },
          "hovermode": "closest",
          "mapbox": {
           "style": "light"
          },
          "paper_bgcolor": "white",
          "plot_bgcolor": "#E5ECF6",
          "polar": {
           "angularaxis": {
            "gridcolor": "white",
            "linecolor": "white",
            "ticks": ""
           },
           "bgcolor": "#E5ECF6",
           "radialaxis": {
            "gridcolor": "white",
            "linecolor": "white",
            "ticks": ""
           }
          },
          "scene": {
           "xaxis": {
            "backgroundcolor": "#E5ECF6",
            "gridcolor": "white",
            "gridwidth": 2,
            "linecolor": "white",
            "showbackground": true,
            "ticks": "",
            "zerolinecolor": "white"
           },
           "yaxis": {
            "backgroundcolor": "#E5ECF6",
            "gridcolor": "white",
            "gridwidth": 2,
            "linecolor": "white",
            "showbackground": true,
            "ticks": "",
            "zerolinecolor": "white"
           },
           "zaxis": {
            "backgroundcolor": "#E5ECF6",
            "gridcolor": "white",
            "gridwidth": 2,
            "linecolor": "white",
            "showbackground": true,
            "ticks": "",
            "zerolinecolor": "white"
           }
          },
          "shapedefaults": {
           "line": {
            "color": "#2a3f5f"
           }
          },
          "ternary": {
           "aaxis": {
            "gridcolor": "white",
            "linecolor": "white",
            "ticks": ""
           },
           "baxis": {
            "gridcolor": "white",
            "linecolor": "white",
            "ticks": ""
           },
           "bgcolor": "#E5ECF6",
           "caxis": {
            "gridcolor": "white",
            "linecolor": "white",
            "ticks": ""
           }
          },
          "title": {
           "x": 0.05
          },
          "xaxis": {
           "automargin": true,
           "gridcolor": "white",
           "linecolor": "white",
           "ticks": "",
           "title": {
            "standoff": 15
           },
           "zerolinecolor": "white",
           "zerolinewidth": 2
          },
          "yaxis": {
           "automargin": true,
           "gridcolor": "white",
           "linecolor": "white",
           "ticks": "",
           "title": {
            "standoff": 15
           },
           "zerolinecolor": "white",
           "zerolinewidth": 2
          }
         }
        },
        "title": {
         "text": "cambio porcentual 2018-2019"
        },
        "xaxis": {
         "anchor": "y",
         "domain": [
          0,
          1
         ],
         "title": {
          "text": "delito"
         }
        },
        "yaxis": {
         "anchor": "x",
         "domain": [
          0,
          1
         ],
         "title": {
          "text": "porcentaje"
         }
        }
       }
      },
      "text/html": [
       "<div>\n",
       "        \n",
       "        \n",
       "            <div id=\"2cf5be5a-3f4e-4c8f-9e72-796ed64e067d\" class=\"plotly-graph-div\" style=\"height:525px; width:100%;\"></div>\n",
       "            <script type=\"text/javascript\">\n",
       "                require([\"plotly\"], function(Plotly) {\n",
       "                    window.PLOTLYENV=window.PLOTLYENV || {};\n",
       "                    \n",
       "                if (document.getElementById(\"2cf5be5a-3f4e-4c8f-9e72-796ed64e067d\")) {\n",
       "                    Plotly.newPlot(\n",
       "                        '2cf5be5a-3f4e-4c8f-9e72-796ed64e067d',\n",
       "                        [{\"hovertemplate\": \"delito=%{x}<br>porcentaje=%{y}<extra></extra>\", \"legendgroup\": \"\", \"line\": {\"color\": \"#636efa\", \"dash\": \"solid\"}, \"mode\": \"lines\", \"name\": \"\", \"orientation\": \"v\", \"showlegend\": false, \"type\": \"scatter\", \"x\": [\"DDH RELACIONADAS\", \"DDH FRVT\", \"DDH ANONIMAS\", \"PERSONAS EXTRAVIADAS\", \"DDH OFICIO COLABORACION\", \"PLAGIO O SECUESTRO\", \"DDH SIN DATOS\", \"DDH OTRAS MATERIAS\", \"GESTI\\u00d3N AMBIENTAL\", \"ROBO A PASAJERO EN TREN SUBURBANO SIN VIOLENCIA\", \"COBRANZA ILEGITIMA\", \"ROBO A TRANSEUNTE SALIENDO DEL CAJERO CON VIOLENCIA\", \"ROBO A PASAJERO EN AUTOBUS FORANEO SIN VIOLENCIA\", \"ROBO A SUCURSAL BANCARIA (SUPERMERCADO) CON VIOLENCIA\", \"ATAQUES A LA PAZ PUBLICA\", \"ROBO A PASAJERO A BORDO DE METRO CON VIOLENCIA\", \"LESIONES INTENCIONALES Y ROBO DE VEHICULO\", \"ROBO EN INTERIOR DE EMPRESA (NOMINA) CON VIOLENCIA\", \"HOMICIDIO POR AHORCAMIENTO\", \"ROBO A TRANSEUNTE EN PARQUES Y MERCADOS CON VIOLENCIA\", \"ROBO A PASAJERO A BORDO DE METRO SIN VIOLENCIA\", \"ROBO A PASAJERO EN RTP SIN VIOLENCIA\", \"OPERACIONES CON RECURSOS DE PROCEDENCIA ILICITA\", \"ROBO A PASAJERO EN TREN LIGERO SIN VIOLENCIA\", \"PORTACION DE ARMA DE FUEGO\", \"TENTATIVA DE SUICIDIO\", \"ROBO A SUCURSAL BANCARIA (ASALTO BANCARIO) CON VIOLENCIA\", \"ROBO A PASAJERO EN TROLEBUS CON VIOLENCIA\", \"ROBO A PASAJERO / CONDUCTOR DE TAXI CON VIOLENCIA\", \"ROBO A TRANSEUNTE EN HOTEL CON VIOLENCIA\", \"ROBO A PASAJERO A BORDO DE TAXI CON VIOLENCIA\", \"PERDIDA DE LA VIDA POR ACCIDENTE LABORAL\", \"DIFAMACION\", \"PERDIDA DE LA VIDA POR ASFIXIA\", \"REGULACI\\u00d3N URBANA\", \"ENTREGA ILEGITIMA DE UN MENOR\", \"PRIVACION DE LA LIBERTAD PERSONAL (REALIZAR ACTO SEXUAL)\", \"ROBO A PASAJERO A BORDO DE TAXI SIN VIOLENCIA\", \"TALA\", \"DENUNCIA DE HECHOS POR ROBO DE CELULAR\", \"ENRIQUECIMIENTO ILICITO\", \"ROBO A TRANSPORTISTA Y VEHICULO PESADO CON VIOLENCIA\", \"VIOLACION EQUIPARADA\", \"ROBO A PASAJERO A BORDO DE METROBUS CON VIOLENCIA\", \"ROBO A PASAJERO A BORDO DE PESERO COLECTIVO CON VIOLENCIA\", \"PRIVACION DE LA LIBERTAD PERSONAL\", \"POSESION DE VEHICULO ROBADO\", \"ROBO A PASAJERO EN RTP CON VIOLENCIA\", \"ACOSO SEXUAL\", \"FALSIFICACION DE SELLOS, MARCAS, LLAVES Y OTROS\", \"ROBO A REPARTIDOR CON VIOLENCIA\", \"ROBO A TRANSEUNTE EN VIA PUBLICA SIN VIOLENCIA\", \"ROBO A TRANSEUNTE EN VIA PUBLICA CON VIOLENCIA\", \"ROBO A TRANSEUNTE EN RESTAURANT CON VIOLENCIA\", \"ROBO A PASAJERO A BORDO DE PESERO COLECTIVO SIN VIOLENCIA\", \"ROBO EN INTERIOR DE EMPRESA (NOMINA) SIN VIOLENCIA\", \"CORRUPCION DE MENORES\", \"PERDIDA DE LA VIDA POR AHOGAMIENTO\", \"ROBO A OFICINA P\\u00daBLICA SIN VIOLENCIA\", \"PORNOGRAFIA INFANTIL\", \"ROBO A NEGOCIO CON VIOLENCIA\", \"ROBO A TRANSEUNTE SALIENDO DEL BANCO CON VIOLENCIA\", \"ROBO DE MOTOCICLETA SIN VIOLENCIA\", \"EXTORSION\", \"ABUSO SEXUAL\", \"PERDIDA DE LA VIDA POR SUICIDIO\", \"VIOLACION\", \"PERDIDA DE LA VIDA ASFIXIA POR ALIMENTOS/ LIQUIDOS\", \"NEGACION DEL SERVICIO PUBLICO\", \"MALTRATO ANIMAL\", \"ROBO A CASA HABITACION CON VIOLENCIA\", \"ROBO A PASAJERO A BORDO DE TRANSPORTE P\\u00daBLICO CON VIOLENCIA\", \"ROBO A PASAJERO A BORDO DE METROBUS SIN VIOLENCIA\", \"RESISTENCIA DE PARTICULARES (SE OPONGA O RESISTA)\", \"LESIONES CULPOSAS POR TRANSITO VEHICULAR\", \"LESIONES CULPOSAS POR QUEMADURAS\", \"ROBO A NEGOCIO Y VEHICULO SIN VIOLENCIA\", \"USO INDEBIDO DE CONDECORACIONES UNIFORMES E INSIGNIAS\", \"ROBO DE VEHICULO DE SERVICIO OFICIAL CON VIOLENCIA\", \"OTROS DELITOS\", \"ROBO A PASAJERO / CONDUCTOR DE VEHICULO CON VIOLENCIA\", \"TENTATIVA DE EXTORSION\", \"ROBO A PASAJERO A BORDO DE TRANSPORTE P\\u00daBLICO SIN VIOLENCIA\", \"DA\\u00d1O EN PROPIEDAD AJENA INTENCIONAL A CASA HABITACION\", \"PERDIDA DE LA VIDA POR PARO CARDIACO\", \"ROBO A PASAJERO EN TROLEBUS SIN VIOLENCIA\", \"ABORTO\", \"ROBO A REPARTIDOR SIN VIOLENCIA\", \"HOMICIDIO POR GOLPES\", \"DISPAROS DE ARMA DE FUEGO\", \"PECULADO\", \"DESAPARICION FORZADA DE PERSONAS\", \"ROBO A REPARTIDOR Y VEHICULO CON VIOLENCIA\", \"TENTATIVA DE HOMICIDIO\", \"DA\\u00d1O EN PROPIEDAD AJENA INTENCIONAL A AUTOMOVIL\", \"ROBO DE VEHICULO DE SERVICIO PARTICULAR SIN VIOLENCIA\", \"VIOLACION TUMULTUARIA\", \"USURPACI\\u00d3N DE IDENTIDAD\", \"HOMICIDIO POR ARMA DE FUEGO\", \"ENCUBRIMIENTO\", \"DA\\u00d1O EN PROPIEDAD AJENA INTENCIONAL A VIAS DE COMUNICACION\", \"ROBO DE MAQUINARIA SIN VIOLENCIA\", \"COHECHO\", \"TRATA DE PERSONAS\", \"PORTACION ARMA/PROHIB.\", \"EJERCICIO INDEBIDO DEL SERVIDOR PUBLICO\", \"ESTUPRO\", \"LESIONES CULPOSAS POR CAIDA DE VEH\\u00cdCULO EN MOVIMIENTO\", \"PERDIDA DE LA VIDA POR INTOXICACION\", \"ROBO DE FLUIDOS\", \"ROBO A CASA HABITACION Y VEHICULO CON VIOLENCIA\", \"TENTATIVA DE VIOLACION\", \"ROBO A PASAJERO EN AUTOB\\u00daS FOR\\u00c1NEO CON VIOLENCIA\", \"ROBO A OFICINA P\\u00daBLICA CON VIOLENCIA\", \"INHUMACIONES Y/O EXHUMACIONES\", \"VIOLENCIA FAMILIAR\", \"ROBO DE VEHICULO DE SERVICIO P\\u00daBLICO SIN VIOLENCIA\", \"DA\\u00d1O EN PROPIEDAD AJENA INTENCIONAL A NEGOCIO\", \"AMENAZAS\", \"PERDIDA DE LA VIDA POR SUICIDIO EN EL METRO\", \"LESIONES INTENCIONALES POR GOLPES\", \"LESIONES INTENCIONALES POR ARMA BLANCA\", \"ALLANAMIENTO DE MORADA\", \"ROBO DE VEHICULO DE SERVICIO PARTICULAR CON VIOLENCIA\", \"PERDIDA DE LA VIDA POR CAIDA\", \"LESIONES CULPOSAS POR CAIDA\", \"ROBO A TRANSEUNTE EN NEGOCIO CON VIOLENCIA\", \"ROBO A NEGOCIO SIN VIOLENCIA\", \"HOMICIDIOS INTENCIONALES (OTROS)\", \"ROBO DE MOTOCICLETA CON VIOLENCIA\", \"HOMICIDIO CULPOSO POR TR\\u00c1NSITO VEHICULAR (CAIDA)\", \"HOMICIDIO CULPOSO POR TR\\u00c1NSITO VEHICULAR (COLISION)\", \"HOMICIDIO CULPOSO POR TR\\u00c1NSITO VEHICULAR (ATROPELLADO)\", \"ABUSO DE AUTORIDAD\", \"TENTATIVA DE ROBO\", \"HOMICIDIO POR ARMA BLANCA\", \"DA\\u00d1O EN PROPIEDAD AJENA INTENCIONAL A BIENES INMUEBLES\", \"ROBO DE PLACA DE AUTOMOVIL\", \"DISCRIMINACION\", \"ROBO DE VEHICULO DE SERVICIO P\\u00daBLICO CON VIOLENCIA\", \"ROBO DE VEHICULO DE PEDALES\", \"PELIGRO DE CONTAGIO\", \"EXPLOTACI\\u00d3N DE MENOR O DISCAPACITADO\", \"CAMBIO DE USO DE SUELO\", \"DA\\u00d1O EN PROPIEDAD AJENA CULPOSA POR TR\\u00c1NSITO VEHICULAR A VIAS DE COMUNICACION\", \"ROBO DE ANIMALES\", \"NARCOMENUDEO POSESI\\u00d3N CON FINES DE VENTA, COMERCIO Y SUMINISTRO\", \"ABANDONO DE PERSONA\", \"DA\\u00d1O EN PROPIEDAD AJENA CULPOSA POR TR\\u00c1NSITO VEHICULAR A AUTOMOVIL\", \"PERDIDA DE LA VIDA POR ENFERMEDAD\", \"PERDIDA DE LA VIDA POR OTRAS CAUSAS\", \"ROBO A NEGOCIO Y VEHICULO CON VIOLENCIA\", \"PERDIDA DE LA VIDA POR PRECIPITACION\", \"TENTATIVA DE FRAUDE\", \"LESIONES CULPOSAS ACCIDENTE LABORAL\", \"USURPACION DE FUNCIONES\", \"DESPOJO\", \"ROBO DE OBJETOS A ESCUELA\", \"SUSTRACCION DE MENORES\", \"ROBO DE ARMA\", \"CONTRA FUNCIONARIOS PUBLICOS\", \"REVELACION DE SECRETOS\", \"TRAFICO DE INFLUENCIA\", \"LA ADMINISTRACION DE JUSTICIA\", \"PERDIDA DE LA VIDA POR DERRUMBE\", \"ROBO DE ACCESORIOS DE AUTO\", \"LESIONES CULPOSAS POR TRANSITO VEHICULAR EN COLISION\", \"DA\\u00d1O EN PROPIEDAD AJENA INTENCIONAL\", \"VIOLACION DE CORRESPONDENCIA\", \"ROBO A CASA HABITACION SIN VIOLENCIA\", \"TORTURA\", \"NARCOMENUDEO POSESION SIMPLE\", \"FALSIFICACION DE DOCUMENTOS\", \"ATAQUE A LAS VIAS GENERALES DE COMUNICACI\\u00d3N\", \"LESIONES INTENCIONALES POR ARMA DE FUEGO\", \"DA\\u00d1O EN PROPIEDAD AJENA CULPOSA POR TR\\u00c1NSITO VEHICULAR A BIENES INMUEBLES\", \"ROBO DE ALHAJAS\", \"FRAUDE\", \"ROBO DE OBJETOS\", \"TENTATIVA DE ROBO DE VEHICULO\", \"FEMINICIDIO\", \"ROBO A TRANSEUNTE EN VIA PUBLICA (NOMINA) CON VIOLENCIA\", \"ROBO DE MAQUINARIA CON VIOLENCIA\", \"FALSIFICACION DE TITULOS AL PORTADOR Y DOCUMENTOS DE CREDITO PUBLICO\", \"PRIV. ILEGAL DE LA LIB. Y ROBO DE VEHICULO\", \"DA\\u00d1O EN PROPIEDAD AJENA CULPOSA\", \"ROBO DE OBJETOS DEL INTERIOR DE UN VEHICULO\", \"VIOLACION EQUIPARADA POR CONOCIDO\", \"ROBO DE VEHICULO DE SERVICIO OFICIAL SIN VIOLENCIA\", \"ROBO A PASAJERO EN TREN LIGERO CON VIOLENCIA\", \"INSOLVENCIA ALIMENTARIA\", \"DESOBEDENCIA DE PARTICULARES\", \"FALSEDAD DE DECLARACIONES\", \"ABUSO DE CONFIANZA\", \"PERDIDA DE LA VIDA POR QUEMADURA\", \"INTIMIDACION\", \"EVASION DE PRESOS\", \"LESIONES CULPOSAS\", \"DELITOS AMBIENTALES\", \"BIGAMIA\", \"ROBO A CASA HABITACION Y VEHICULO SIN VIOLENCIA\", \"RESPONSABILIDAD PROFESIONAL\", \"ATAQUE A LAS VIAS DE COMUNICACION (DA\\u00d1O A VIAS O MEDIOS DE TRANSPORTE)\", \"ROBO DE DOCUMENTOS\", \"VARIACION DE NOMBRE O DOMICILIO\", \"PERDIDA DE LA VIDA POR CONGESTION ALCOHOLICA\", \"USURPACION DE PROFESION\", \"USO DE DOCUMENTO FALSO\", \"ROBO DE VEHICULO DE SERVICIO DE TRANSPORTE SIN VIOLENCIA\", \"QUEBRANTAMIENTO DE SELLOS\", \"SABOTAJE\", \"ROBO DE DINERO\", \"SECUESTRO EXPRESS (PARA COMETER ROBO O EXTORSI\\u00d3N)\", \"DELITOS DE ABOGADOS PATRONOS Y LITIGANTES\", \"DA\\u00d1O SUELO (ACTIVIDAD, INVASI\\u00d3N O EXTRACCI\\u00d3N)\", \"ROBO A REPARTIDOR Y VEHICULO SIN VIOLENCIA\", \"ROBO A TRANSEUNTE EN TERMINAL DE PASAJEROS CON VIOLENCIA\", \"ROBO A SUCURSAL BANCARIA (SUPERMERCADO) SIN VIOLENCIA\", \"ROBO A PASAJERO EN ECOBUS SIN VIOLENCIA\", \"ROBO A TRANSPORTISTA Y VEHICULO PESADO SIN VIOLENCIA\", \"HOMICIDIO CULPOSO POR ARMA DE FUEGO\", \"LESIONES INTENCIONALES\", \"ROBO A TRANSEUNTE Y VEHICULO CON VIOLENCIA\", \"OPOSICION A LA OBRA PUBLICA\", \"ROBO A PASAJERO EN ECOBUS CON VIOLENCIA\", \"USO INDEBIDO DE ATRIBUCIONES Y FACULTADES\", \"ROBO DE VEHICULO DE SERVICIO DE TRANSPORTE CON VIOLENCIA\", \"HOMICIDIO CULPOSO POR TR\\u00c1NSITO VEHICULAR\", \"DENUNCIA DE HECHOS\", \"ROBO A TRANSEUNTE DE CELULAR CON VIOLENCIA\", \"ROBO A TRANSEUNTE DE CELULAR SIN VIOLENCIA\"], \"xaxis\": \"x\", \"y\": [98.15, 97.83, 97.5, 96.88, 91.67, 89.74, 83.33, 81.82, 75.0, 75.0, 73.56, 67.53, 66.67, 60.0, 60.0, 50.23, 50.0, 50.0, 50.0, 48.0, 47.08, 33.33, 33.33, 30.43, 24.43, 24.0, 20.0, 14.29, 14.02, 7.14, 2.5, 0.0, 0.0, 0.0, 0.0, 0.0, 0.0, 0.0, 0.0, 0.0, 0.0, -1.72, -3.3, -3.33, -5.86, -6.96, -8.62, -8.7, -12.69, -16.67, -17.25, -19.9, -20.08, -21.18, -22.58, -25.0, -29.2, -30.77, -31.58, -35.48, -35.89, -36.44, -38.58, -38.71, -39.16, -39.77, -39.95, -40.0, -40.38, -40.94, -41.06, -43.56, -46.58, -46.7, -48.35, -48.89, -50.0, -50.0, -50.0, -50.0, -50.54, -50.69, -51.23, -51.82, -52.38, -53.33, -54.17, -54.58, -55.56, -55.56, -56.25, -57.14, -57.63, -60.0, -61.06, -61.4, -61.54, -62.99, -64.31, -65.19, -66.67, -66.67, -67.76, -67.8, -68.83, -69.17, -69.23, -69.81, -70.0, -73.17, -75.0, -75.0, -75.0, -75.0, -75.0, -75.07, -75.15, -75.41, -76.02, -76.92, -77.9, -78.86, -86.47, -86.75, -87.06, -88.0, -92.22, -92.53, -92.59, -92.84, -92.86, -94.59, -94.81, -95.22, -96.32, -96.88, -97.1, -97.24, -97.64, -98.97, -99.76, -100.0, -100.0, -100.0, -100.0, -101.69, -103.32, -107.72, -110.87, -111.11, -113.4, -114.29, -115.0, -115.38, -115.79, -116.67, -120.15, -120.3, -120.5, -123.73, -124.3, -126.83, -128.57, -131.12, -133.33, -133.8, -133.97, -134.59, -136.36, -138.0, -138.85, -141.85, -149.47, -150.0, -150.0, -152.05, -152.17, -152.41, -154.99, -155.56, -164.29, -166.67, -171.43, -177.51, -181.48, -193.97, -199.22, -200.0, -200.0, -200.0, -202.91, -203.85, -205.43, -206.67, -207.14, -223.08, -233.33, -241.33, -245.45, -250.0, -266.67, -282.14, -287.5, -294.94, -300.0, -300.0, -313.33, -316.88, -320.0, -334.67, -400.0, -412.56, -412.73, -421.05, -460.0, -480.0, -500.0, -500.0, -500.0, -550.0, -555.56, -587.86, -700.0, -800.0, -1200.0, -1338.1, -1400.0, -1433.33, -1600.3, -1880.9, -2653.72], \"yaxis\": \"y\"}],\n",
       "                        {\"legend\": {\"tracegroupgap\": 0}, \"template\": {\"data\": {\"bar\": [{\"error_x\": {\"color\": \"#2a3f5f\"}, \"error_y\": {\"color\": \"#2a3f5f\"}, \"marker\": {\"line\": {\"color\": \"#E5ECF6\", \"width\": 0.5}}, \"type\": \"bar\"}], \"barpolar\": [{\"marker\": {\"line\": {\"color\": \"#E5ECF6\", \"width\": 0.5}}, \"type\": \"barpolar\"}], \"carpet\": [{\"aaxis\": {\"endlinecolor\": \"#2a3f5f\", \"gridcolor\": \"white\", \"linecolor\": \"white\", \"minorgridcolor\": \"white\", \"startlinecolor\": \"#2a3f5f\"}, \"baxis\": {\"endlinecolor\": \"#2a3f5f\", \"gridcolor\": \"white\", \"linecolor\": \"white\", \"minorgridcolor\": \"white\", \"startlinecolor\": \"#2a3f5f\"}, \"type\": \"carpet\"}], \"choropleth\": [{\"colorbar\": {\"outlinewidth\": 0, \"ticks\": \"\"}, \"type\": \"choropleth\"}], \"contour\": [{\"colorbar\": {\"outlinewidth\": 0, \"ticks\": \"\"}, \"colorscale\": [[0.0, \"#0d0887\"], [0.1111111111111111, \"#46039f\"], [0.2222222222222222, \"#7201a8\"], [0.3333333333333333, \"#9c179e\"], [0.4444444444444444, \"#bd3786\"], [0.5555555555555556, \"#d8576b\"], [0.6666666666666666, \"#ed7953\"], [0.7777777777777778, \"#fb9f3a\"], [0.8888888888888888, \"#fdca26\"], [1.0, \"#f0f921\"]], \"type\": \"contour\"}], \"contourcarpet\": [{\"colorbar\": {\"outlinewidth\": 0, \"ticks\": \"\"}, \"type\": \"contourcarpet\"}], \"heatmap\": [{\"colorbar\": {\"outlinewidth\": 0, \"ticks\": \"\"}, \"colorscale\": [[0.0, \"#0d0887\"], [0.1111111111111111, \"#46039f\"], [0.2222222222222222, \"#7201a8\"], [0.3333333333333333, \"#9c179e\"], [0.4444444444444444, \"#bd3786\"], [0.5555555555555556, \"#d8576b\"], [0.6666666666666666, \"#ed7953\"], [0.7777777777777778, \"#fb9f3a\"], [0.8888888888888888, \"#fdca26\"], [1.0, \"#f0f921\"]], \"type\": \"heatmap\"}], \"heatmapgl\": [{\"colorbar\": {\"outlinewidth\": 0, \"ticks\": \"\"}, \"colorscale\": [[0.0, \"#0d0887\"], [0.1111111111111111, \"#46039f\"], [0.2222222222222222, \"#7201a8\"], [0.3333333333333333, \"#9c179e\"], [0.4444444444444444, \"#bd3786\"], [0.5555555555555556, \"#d8576b\"], [0.6666666666666666, \"#ed7953\"], [0.7777777777777778, \"#fb9f3a\"], [0.8888888888888888, \"#fdca26\"], [1.0, \"#f0f921\"]], \"type\": \"heatmapgl\"}], \"histogram\": [{\"marker\": {\"colorbar\": {\"outlinewidth\": 0, \"ticks\": \"\"}}, \"type\": \"histogram\"}], \"histogram2d\": [{\"colorbar\": {\"outlinewidth\": 0, \"ticks\": \"\"}, \"colorscale\": [[0.0, \"#0d0887\"], [0.1111111111111111, \"#46039f\"], [0.2222222222222222, \"#7201a8\"], [0.3333333333333333, \"#9c179e\"], [0.4444444444444444, \"#bd3786\"], [0.5555555555555556, \"#d8576b\"], [0.6666666666666666, \"#ed7953\"], [0.7777777777777778, \"#fb9f3a\"], [0.8888888888888888, \"#fdca26\"], [1.0, \"#f0f921\"]], \"type\": \"histogram2d\"}], \"histogram2dcontour\": [{\"colorbar\": {\"outlinewidth\": 0, \"ticks\": \"\"}, \"colorscale\": [[0.0, \"#0d0887\"], [0.1111111111111111, \"#46039f\"], [0.2222222222222222, \"#7201a8\"], [0.3333333333333333, \"#9c179e\"], [0.4444444444444444, \"#bd3786\"], [0.5555555555555556, \"#d8576b\"], [0.6666666666666666, \"#ed7953\"], [0.7777777777777778, \"#fb9f3a\"], [0.8888888888888888, \"#fdca26\"], [1.0, \"#f0f921\"]], \"type\": \"histogram2dcontour\"}], \"mesh3d\": [{\"colorbar\": {\"outlinewidth\": 0, \"ticks\": \"\"}, \"type\": \"mesh3d\"}], \"parcoords\": [{\"line\": {\"colorbar\": {\"outlinewidth\": 0, \"ticks\": \"\"}}, \"type\": \"parcoords\"}], \"pie\": [{\"automargin\": true, \"type\": \"pie\"}], \"scatter\": [{\"marker\": {\"colorbar\": {\"outlinewidth\": 0, \"ticks\": \"\"}}, \"type\": \"scatter\"}], \"scatter3d\": [{\"line\": {\"colorbar\": {\"outlinewidth\": 0, \"ticks\": \"\"}}, \"marker\": {\"colorbar\": {\"outlinewidth\": 0, \"ticks\": \"\"}}, \"type\": \"scatter3d\"}], \"scattercarpet\": [{\"marker\": {\"colorbar\": {\"outlinewidth\": 0, \"ticks\": \"\"}}, \"type\": \"scattercarpet\"}], \"scattergeo\": [{\"marker\": {\"colorbar\": {\"outlinewidth\": 0, \"ticks\": \"\"}}, \"type\": \"scattergeo\"}], \"scattergl\": [{\"marker\": {\"colorbar\": {\"outlinewidth\": 0, \"ticks\": \"\"}}, \"type\": \"scattergl\"}], \"scattermapbox\": [{\"marker\": {\"colorbar\": {\"outlinewidth\": 0, \"ticks\": \"\"}}, \"type\": \"scattermapbox\"}], \"scatterpolar\": [{\"marker\": {\"colorbar\": {\"outlinewidth\": 0, \"ticks\": \"\"}}, \"type\": \"scatterpolar\"}], \"scatterpolargl\": [{\"marker\": {\"colorbar\": {\"outlinewidth\": 0, \"ticks\": \"\"}}, \"type\": \"scatterpolargl\"}], \"scatterternary\": [{\"marker\": {\"colorbar\": {\"outlinewidth\": 0, \"ticks\": \"\"}}, \"type\": \"scatterternary\"}], \"surface\": [{\"colorbar\": {\"outlinewidth\": 0, \"ticks\": \"\"}, \"colorscale\": [[0.0, \"#0d0887\"], [0.1111111111111111, \"#46039f\"], [0.2222222222222222, \"#7201a8\"], [0.3333333333333333, \"#9c179e\"], [0.4444444444444444, \"#bd3786\"], [0.5555555555555556, \"#d8576b\"], [0.6666666666666666, \"#ed7953\"], [0.7777777777777778, \"#fb9f3a\"], [0.8888888888888888, \"#fdca26\"], [1.0, \"#f0f921\"]], \"type\": \"surface\"}], \"table\": [{\"cells\": {\"fill\": {\"color\": \"#EBF0F8\"}, \"line\": {\"color\": \"white\"}}, \"header\": {\"fill\": {\"color\": \"#C8D4E3\"}, \"line\": {\"color\": \"white\"}}, \"type\": \"table\"}]}, \"layout\": {\"annotationdefaults\": {\"arrowcolor\": \"#2a3f5f\", \"arrowhead\": 0, \"arrowwidth\": 1}, \"coloraxis\": {\"colorbar\": {\"outlinewidth\": 0, \"ticks\": \"\"}}, \"colorscale\": {\"diverging\": [[0, \"#8e0152\"], [0.1, \"#c51b7d\"], [0.2, \"#de77ae\"], [0.3, \"#f1b6da\"], [0.4, \"#fde0ef\"], [0.5, \"#f7f7f7\"], [0.6, \"#e6f5d0\"], [0.7, \"#b8e186\"], [0.8, \"#7fbc41\"], [0.9, \"#4d9221\"], [1, \"#276419\"]], \"sequential\": [[0.0, \"#0d0887\"], [0.1111111111111111, \"#46039f\"], [0.2222222222222222, \"#7201a8\"], [0.3333333333333333, \"#9c179e\"], [0.4444444444444444, \"#bd3786\"], [0.5555555555555556, \"#d8576b\"], [0.6666666666666666, \"#ed7953\"], [0.7777777777777778, \"#fb9f3a\"], [0.8888888888888888, \"#fdca26\"], [1.0, \"#f0f921\"]], \"sequentialminus\": [[0.0, \"#0d0887\"], [0.1111111111111111, \"#46039f\"], [0.2222222222222222, \"#7201a8\"], [0.3333333333333333, \"#9c179e\"], [0.4444444444444444, \"#bd3786\"], [0.5555555555555556, \"#d8576b\"], [0.6666666666666666, \"#ed7953\"], [0.7777777777777778, \"#fb9f3a\"], [0.8888888888888888, \"#fdca26\"], [1.0, \"#f0f921\"]]}, \"colorway\": [\"#636efa\", \"#EF553B\", \"#00cc96\", \"#ab63fa\", \"#FFA15A\", \"#19d3f3\", \"#FF6692\", \"#B6E880\", \"#FF97FF\", \"#FECB52\"], \"font\": {\"color\": \"#2a3f5f\"}, \"geo\": {\"bgcolor\": \"white\", \"lakecolor\": \"white\", \"landcolor\": \"#E5ECF6\", \"showlakes\": true, \"showland\": true, \"subunitcolor\": \"white\"}, \"hoverlabel\": {\"align\": \"left\"}, \"hovermode\": \"closest\", \"mapbox\": {\"style\": \"light\"}, \"paper_bgcolor\": \"white\", \"plot_bgcolor\": \"#E5ECF6\", \"polar\": {\"angularaxis\": {\"gridcolor\": \"white\", \"linecolor\": \"white\", \"ticks\": \"\"}, \"bgcolor\": \"#E5ECF6\", \"radialaxis\": {\"gridcolor\": \"white\", \"linecolor\": \"white\", \"ticks\": \"\"}}, \"scene\": {\"xaxis\": {\"backgroundcolor\": \"#E5ECF6\", \"gridcolor\": \"white\", \"gridwidth\": 2, \"linecolor\": \"white\", \"showbackground\": true, \"ticks\": \"\", \"zerolinecolor\": \"white\"}, \"yaxis\": {\"backgroundcolor\": \"#E5ECF6\", \"gridcolor\": \"white\", \"gridwidth\": 2, \"linecolor\": \"white\", \"showbackground\": true, \"ticks\": \"\", \"zerolinecolor\": \"white\"}, \"zaxis\": {\"backgroundcolor\": \"#E5ECF6\", \"gridcolor\": \"white\", \"gridwidth\": 2, \"linecolor\": \"white\", \"showbackground\": true, \"ticks\": \"\", \"zerolinecolor\": \"white\"}}, \"shapedefaults\": {\"line\": {\"color\": \"#2a3f5f\"}}, \"ternary\": {\"aaxis\": {\"gridcolor\": \"white\", \"linecolor\": \"white\", \"ticks\": \"\"}, \"baxis\": {\"gridcolor\": \"white\", \"linecolor\": \"white\", \"ticks\": \"\"}, \"bgcolor\": \"#E5ECF6\", \"caxis\": {\"gridcolor\": \"white\", \"linecolor\": \"white\", \"ticks\": \"\"}}, \"title\": {\"x\": 0.05}, \"xaxis\": {\"automargin\": true, \"gridcolor\": \"white\", \"linecolor\": \"white\", \"ticks\": \"\", \"title\": {\"standoff\": 15}, \"zerolinecolor\": \"white\", \"zerolinewidth\": 2}, \"yaxis\": {\"automargin\": true, \"gridcolor\": \"white\", \"linecolor\": \"white\", \"ticks\": \"\", \"title\": {\"standoff\": 15}, \"zerolinecolor\": \"white\", \"zerolinewidth\": 2}}}, \"title\": {\"text\": \"cambio porcentual 2018-2019\"}, \"xaxis\": {\"anchor\": \"y\", \"domain\": [0.0, 1.0], \"title\": {\"text\": \"delito\"}}, \"yaxis\": {\"anchor\": \"x\", \"domain\": [0.0, 1.0], \"title\": {\"text\": \"porcentaje\"}}},\n",
       "                        {\"responsive\": true}\n",
       "                    ).then(function(){\n",
       "                            \n",
       "var gd = document.getElementById('2cf5be5a-3f4e-4c8f-9e72-796ed64e067d');\n",
       "var x = new MutationObserver(function (mutations, observer) {{\n",
       "        var display = window.getComputedStyle(gd).display;\n",
       "        if (!display || display === 'none') {{\n",
       "            console.log([gd, 'removed!']);\n",
       "            Plotly.purge(gd);\n",
       "            observer.disconnect();\n",
       "        }}\n",
       "}});\n",
       "\n",
       "// Listen for the removal of the full notebook cells\n",
       "var notebookContainer = gd.closest('#notebook-container');\n",
       "if (notebookContainer) {{\n",
       "    x.observe(notebookContainer, {childList: true});\n",
       "}}\n",
       "\n",
       "// Listen for the clearing of the current output cell\n",
       "var outputEl = gd.closest('.output');\n",
       "if (outputEl) {{\n",
       "    x.observe(outputEl, {childList: true});\n",
       "}}\n",
       "\n",
       "                        })\n",
       "                };\n",
       "                });\n",
       "            </script>\n",
       "        </div>"
      ]
     },
     "metadata": {},
     "output_type": "display_data"
    }
   ],
   "source": [
    "import plotly.express as px\n",
    "\n",
    "df_x = ordenado\n",
    "fig = px.line(df_x, x=\"delito\", y=\"porcentaje\", title='cambio porcentual 2018-2019')\n",
    "fig.show()"
   ]
  },
  {
   "cell_type": "markdown",
   "metadata": {},
   "source": [
    "El robo a transeunte entre otros delitos hubo un decremento mayor a 700% debido a que ocurrieron con menor frecuencia en 2019 que en 2018 proporcionalmente."
   ]
  },
  {
   "cell_type": "markdown",
   "metadata": {},
   "source": [
    "De 2018 a 2019 ha disminuido VIOLENCIA FAMILIAR, ROBO A NEGOCIO SIN VIOLENCIA, ROBO A TRANSEUNTE EN VIA PUBLICA CON VIOLENCIA, entre muchos otros."
   ]
  },
  {
   "cell_type": "markdown",
   "metadata": {},
   "source": [
    "Delitos como DDH RELACIONADAS y DDH ANONIMAS aumentaron"
   ]
  },
  {
   "cell_type": "markdown",
   "metadata": {},
   "source": [
    "5) ¿Cuál es la alcaldía que más delitos tiene y cuál es la que menos?.¿Por qué crees que sea\n",
    "esto?"
   ]
  },
  {
   "cell_type": "code",
   "execution_count": 321,
   "metadata": {},
   "outputs": [],
   "source": [
    "dat=pd.DataFrame(df.groupby(\"alcaldia_hechos\")[\"delito\"].count())"
   ]
  },
  {
   "cell_type": "code",
   "execution_count": 322,
   "metadata": {},
   "outputs": [
    {
     "data": {
      "text/html": [
       "<div>\n",
       "<style scoped>\n",
       "    .dataframe tbody tr th:only-of-type {\n",
       "        vertical-align: middle;\n",
       "    }\n",
       "\n",
       "    .dataframe tbody tr th {\n",
       "        vertical-align: top;\n",
       "    }\n",
       "\n",
       "    .dataframe thead th {\n",
       "        text-align: right;\n",
       "    }\n",
       "</style>\n",
       "<table border=\"1\" class=\"dataframe\">\n",
       "  <thead>\n",
       "    <tr style=\"text-align: right;\">\n",
       "      <th></th>\n",
       "      <th>delito</th>\n",
       "    </tr>\n",
       "    <tr>\n",
       "      <th>alcaldia_hechos</th>\n",
       "      <th></th>\n",
       "    </tr>\n",
       "  </thead>\n",
       "  <tbody>\n",
       "    <tr>\n",
       "      <th>cuauhtemoc</th>\n",
       "      <td>131397</td>\n",
       "    </tr>\n",
       "  </tbody>\n",
       "</table>\n",
       "</div>"
      ],
      "text/plain": [
       "                 delito\n",
       "alcaldia_hechos        \n",
       "cuauhtemoc       131397"
      ]
     },
     "execution_count": 322,
     "metadata": {},
     "output_type": "execute_result"
    }
   ],
   "source": [
    "dat[dat[\"delito\"]==max(dat[\"delito\"])]"
   ]
  },
  {
   "cell_type": "markdown",
   "metadata": {},
   "source": [
    "La alcaldía que más delitos tiene es CUAUHTEMOC"
   ]
  },
  {
   "cell_type": "markdown",
   "metadata": {},
   "source": [
    "Según la UNAM la desigualdad social es el factor más determinante para la delincuencia y por esta razón la alcaldía CUAUHTEMOC es la más peligrosa\n",
    "http://www.pudh.unam.mx/perseo/la-desigualdad-el-factor-mas-determinante/"
   ]
  },
  {
   "cell_type": "code",
   "execution_count": 122,
   "metadata": {},
   "outputs": [
    {
     "data": {
      "text/html": [
       "<div>\n",
       "<style scoped>\n",
       "    .dataframe tbody tr th:only-of-type {\n",
       "        vertical-align: middle;\n",
       "    }\n",
       "\n",
       "    .dataframe tbody tr th {\n",
       "        vertical-align: top;\n",
       "    }\n",
       "\n",
       "    .dataframe thead th {\n",
       "        text-align: right;\n",
       "    }\n",
       "</style>\n",
       "<table border=\"1\" class=\"dataframe\">\n",
       "  <thead>\n",
       "    <tr style=\"text-align: right;\">\n",
       "      <th></th>\n",
       "      <th>delito</th>\n",
       "    </tr>\n",
       "    <tr>\n",
       "      <th>alcaldia_hechos</th>\n",
       "      <th></th>\n",
       "    </tr>\n",
       "  </thead>\n",
       "  <tbody>\n",
       "    <tr>\n",
       "      <th>milpa alta</th>\n",
       "      <td>5159</td>\n",
       "    </tr>\n",
       "  </tbody>\n",
       "</table>\n",
       "</div>"
      ],
      "text/plain": [
       "                 delito\n",
       "alcaldia_hechos        \n",
       "milpa alta         5159"
      ]
     },
     "execution_count": 122,
     "metadata": {},
     "output_type": "execute_result"
    }
   ],
   "source": [
    "dat[dat[\"delito\"]==min(dat[\"delito\"])]"
   ]
  },
  {
   "cell_type": "markdown",
   "metadata": {},
   "source": [
    "Las alcaldías que menos delitos tienen es milpa alta"
   ]
  },
  {
   "cell_type": "markdown",
   "metadata": {},
   "source": [
    "Debido a que hay menos desigualdad que en las demás delegaciones"
   ]
  },
  {
   "cell_type": "markdown",
   "metadata": {},
   "source": [
    "6) Dentro de cada alcaldía, cuáles son las tres colonias con más delitos"
   ]
  },
  {
   "cell_type": "code",
   "execution_count": 123,
   "metadata": {},
   "outputs": [
    {
     "data": {
      "text/plain": [
       "Index(['año_hechos', 'mes_hechos', 'fecha_hechos', 'delito',\n",
       "       'categoria_delito', 'fiscalía', 'agencia', 'unidad_investigacion',\n",
       "       'colonia_hechos', 'alcaldia_hechos', 'fecha_inicio', 'mes_inicio',\n",
       "       'ao_inicio', 'calle_hechos', 'calle_hechos2', 'longitud', 'latitud',\n",
       "       'Geopoint'],\n",
       "      dtype='object')"
      ]
     },
     "execution_count": 123,
     "metadata": {},
     "output_type": "execute_result"
    }
   ],
   "source": [
    "df[\"delito\"].isnull().sum()\n",
    "df.columns"
   ]
  },
  {
   "cell_type": "code",
   "execution_count": 124,
   "metadata": {},
   "outputs": [
    {
     "data": {
      "text/html": [
       "<div>\n",
       "<style scoped>\n",
       "    .dataframe tbody tr th:only-of-type {\n",
       "        vertical-align: middle;\n",
       "    }\n",
       "\n",
       "    .dataframe tbody tr th {\n",
       "        vertical-align: top;\n",
       "    }\n",
       "\n",
       "    .dataframe thead th {\n",
       "        text-align: right;\n",
       "    }\n",
       "</style>\n",
       "<table border=\"1\" class=\"dataframe\">\n",
       "  <thead>\n",
       "    <tr style=\"text-align: right;\">\n",
       "      <th></th>\n",
       "      <th>alcaldia_hechos</th>\n",
       "      <th>colonia_hechos</th>\n",
       "    </tr>\n",
       "  </thead>\n",
       "  <tbody>\n",
       "    <tr>\n",
       "      <th>0</th>\n",
       "      <td>gustavo a madero</td>\n",
       "      <td>GRANJAS MODERNAS</td>\n",
       "    </tr>\n",
       "    <tr>\n",
       "      <th>2</th>\n",
       "      <td>iztacalco</td>\n",
       "      <td>GABRIEL RAMOS MILLÁN SECCIÓN TLACOTAL</td>\n",
       "    </tr>\n",
       "    <tr>\n",
       "      <th>3</th>\n",
       "      <td>iztapalapa</td>\n",
       "      <td>CONSEJO AGRARISTA MEXICANO</td>\n",
       "    </tr>\n",
       "    <tr>\n",
       "      <th>4</th>\n",
       "      <td>iztapalapa</td>\n",
       "      <td>DESARROLLO URBANO QUETZALCOATL</td>\n",
       "    </tr>\n",
       "    <tr>\n",
       "      <th>5</th>\n",
       "      <td>iztacalco</td>\n",
       "      <td>INFONAVIT IZTACALCO</td>\n",
       "    </tr>\n",
       "  </tbody>\n",
       "</table>\n",
       "</div>"
      ],
      "text/plain": [
       "    alcaldia_hechos                         colonia_hechos\n",
       "0  gustavo a madero                       GRANJAS MODERNAS\n",
       "2         iztacalco  GABRIEL RAMOS MILLÁN SECCIÓN TLACOTAL\n",
       "3        iztapalapa             CONSEJO AGRARISTA MEXICANO\n",
       "4        iztapalapa         DESARROLLO URBANO QUETZALCOATL\n",
       "5         iztacalco                    INFONAVIT IZTACALCO"
      ]
     },
     "execution_count": 124,
     "metadata": {},
     "output_type": "execute_result"
    }
   ],
   "source": [
    "df[[\"alcaldia_hechos\",\"colonia_hechos\"]].head()"
   ]
  },
  {
   "cell_type": "code",
   "execution_count": 125,
   "metadata": {},
   "outputs": [],
   "source": [
    "colonias=list(set(df[df[\"colonia_hechos\"].notnull()][\"colonia_hechos\"]))"
   ]
  },
  {
   "cell_type": "code",
   "execution_count": 126,
   "metadata": {},
   "outputs": [
    {
     "data": {
      "text/plain": [
       "1632"
      ]
     },
     "execution_count": 126,
     "metadata": {},
     "output_type": "execute_result"
    }
   ],
   "source": [
    "len(colonias)"
   ]
  },
  {
   "cell_type": "code",
   "execution_count": 127,
   "metadata": {},
   "outputs": [],
   "source": [
    "alcaldias=list(set(df[df[\"alcaldia_hechos\"].notnull()][\"alcaldia_hechos\"]))"
   ]
  },
  {
   "cell_type": "code",
   "execution_count": 128,
   "metadata": {},
   "outputs": [
    {
     "data": {
      "text/plain": [
       "16"
      ]
     },
     "execution_count": 128,
     "metadata": {},
     "output_type": "execute_result"
    }
   ],
   "source": [
    "len(alcaldias)"
   ]
  },
  {
   "cell_type": "code",
   "execution_count": 129,
   "metadata": {},
   "outputs": [],
   "source": [
    "d={}"
   ]
  },
  {
   "cell_type": "code",
   "execution_count": 130,
   "metadata": {},
   "outputs": [],
   "source": [
    "for alcaldia in alcaldias:\n",
    "    d[alcaldia]=list(set(df[(df[\"alcaldia_hechos\"]==alcaldia) & (df[\"colonia_hechos\"].notnull())][\"colonia_hechos\"]))"
   ]
  },
  {
   "cell_type": "code",
   "execution_count": 131,
   "metadata": {},
   "outputs": [
    {
     "data": {
      "text/plain": [
       "['SANTA CRUZ',\n",
       " 'SAN BUENAVENTURA',\n",
       " 'COLEGIO MEXICO',\n",
       " 'ISSFAM',\n",
       " 'SAN NICOLÁS 2',\n",
       " 'FAROLES DEL PEDREGAL',\n",
       " 'PRADO COAPA 1A SECCIÓN',\n",
       " 'BOSQUES DEL PEDREGAL',\n",
       " 'TLALPAN CENTRO I',\n",
       " 'EQUIPAMIENTO FABRICA FISISA',\n",
       " 'LOMAS DEL PEDREGAL',\n",
       " 'VALLE DE TEPEPAN',\n",
       " 'LOMAS ALTAS DE PADIERNA SUR',\n",
       " 'LA NOPALERA',\n",
       " 'RESIDENCIAL VILLA COAPA SUPER MANZANA 8',\n",
       " 'A.M.S.A',\n",
       " 'HÉROES DE 1910',\n",
       " 'CHIMALLI',\n",
       " 'VERGEL DE COYOACÁN',\n",
       " 'RESIDENCIAL ACOXPA',\n",
       " 'GUADALUPE TLALPAN',\n",
       " 'RESIDENCIAL VILLA COAPA SUPER MANZANA 4',\n",
       " 'FOVISSSTE PERIFÉRICO',\n",
       " 'RINCÓN DE SAN JUAN',\n",
       " 'MESA DE LOS HORNOS',\n",
       " 'BELVEDERE AJUSCO',\n",
       " 'TORRES DE PADIERNA',\n",
       " 'LOMAS DEL PEDREGAL FRAMBOYANES',\n",
       " 'VALLE ESCONDIDO',\n",
       " 'PARQUE DEL PEDREGAL',\n",
       " 'ZACATÓN',\n",
       " 'CLUB DE GOLF MÉXICO',\n",
       " 'DIAMANTE',\n",
       " 'LOS CIPRESES',\n",
       " 'ZEDEC AMPLIACION PLAN DE AYALA',\n",
       " 'BARRIO EL CAPULÍN',\n",
       " 'VISTAS DEL PEDREGAL',\n",
       " 'TEPEXIMILPA SERVIMET',\n",
       " 'MIGUEL HIDALGO 4A SECCIÓN',\n",
       " 'PARAJE 38',\n",
       " 'MIGUEL HIDALGO 3A SECCIÓN',\n",
       " 'SAN JUAN TEPEXIMILPA',\n",
       " 'LAS TÓRTOLAS',\n",
       " 'ARENAL',\n",
       " 'PEDREGAL DE SAN NICOLÁS 1A SECCIÓN',\n",
       " 'EL METRO - BARRIO',\n",
       " '3 FUENTES',\n",
       " 'PROLONGACION LOS ANGELES',\n",
       " 'VILLA DEL SUR',\n",
       " 'EQUIPAMIENTO PREPARATORIA NUM. 5',\n",
       " 'TEMASTITITLA',\n",
       " 'VERANO',\n",
       " 'SANTÍSIMA TRINIDAD',\n",
       " 'SANTA ÚRSULA XITLA',\n",
       " 'VILLA TLALPAN',\n",
       " 'COLINAS DEL BOSQUE',\n",
       " 'RESIDENCIAL VILLA COAPA SUPER MANZANA 1',\n",
       " 'VIVEROS COATECTLÁN',\n",
       " 'SAN MIGUEL XICALCO',\n",
       " 'PEDREGAL DE SANTA ÚRSULA XITLA',\n",
       " 'LAS FLORES',\n",
       " 'PARQUE NACIONAL BOSQUE DEL PEDREGAL',\n",
       " 'CORRALES',\n",
       " 'LOMAS DE CUILOTEPEC',\n",
       " 'PERIFÉRICO',\n",
       " 'NARCISO MENDOZA SUPER MANZANA 6 VILLA COAPA',\n",
       " 'CHIMALCOYOTL',\n",
       " 'PRADOS AJUSCO',\n",
       " 'VILLA CUEMANCO INFONAVIT',\n",
       " 'GABRIEL RAMOS MILLÁN',\n",
       " 'VILLA CHARRA DEL PEDREGAL',\n",
       " 'MAGISTERIAL',\n",
       " 'SANTO TOMAS AJUSCO',\n",
       " 'RÓMULO SANCHEZ MIRELES',\n",
       " 'PEDREGAL DE AMINCO',\n",
       " 'OTRA',\n",
       " 'SAN PEDRO APÓSTOL',\n",
       " 'BARRIO SAN FERNANDO',\n",
       " 'PEÑA POBRE',\n",
       " 'BELISARIO DOMÍNGUEZ SECCIÓN XVI',\n",
       " 'MARÍA ESTHER ZUNO DE ECHEVERRÍA',\n",
       " 'RESIDENCIAL MIRAMONTES',\n",
       " 'REAL DEL SUR',\n",
       " 'MIRADOR DEL VALLE',\n",
       " 'TEQUIMILA',\n",
       " 'LOMAS DE TEPEMECATL',\n",
       " 'LOMAS HIDALGO',\n",
       " 'LOTERÍA NACIONAL',\n",
       " 'POLOTLAN',\n",
       " 'RANCHO LOS COLORINES',\n",
       " 'PEDREGAL DE SAN NICOLÁS 2A SECCIÓN',\n",
       " 'MIRADOR I',\n",
       " 'NARCISO MENDOZA SUPER MANZANA 2 VILLA COAPA',\n",
       " 'FUENTES DEL PEDREGAL',\n",
       " 'EL MIRADOR 1A SECCIÓN',\n",
       " 'PLAN DE AYALA',\n",
       " 'TLALCOLIGIA',\n",
       " 'CUCHILLA DE PADIERNA',\n",
       " 'FLORESTA COYOACÁN',\n",
       " 'MIGUEL HIDALGO 1A SECCIÓN',\n",
       " 'TENORIOS 2',\n",
       " 'LA MAGDALENA PETLACALCO',\n",
       " 'EL MIRADOR 3A SECCIÓN',\n",
       " 'SAN BARTOLO EL CHICO',\n",
       " 'JARDINES VILLA COAPA',\n",
       " 'ARENAL TEPEPAN',\n",
       " 'NARCISO MENDOZA SUPER MANZANA 3 VILLA COAPA',\n",
       " 'PARRES EL GUARDA',\n",
       " 'CANTERA',\n",
       " 'GUADALUPE',\n",
       " 'JARDINES DEL AJUSCO',\n",
       " 'RESIDENCIAL PEDREGAL PICACHO',\n",
       " 'BARRIO EL TRUENITO',\n",
       " 'CHICHICASPATL',\n",
       " 'ARBOLEDAS DEL SUR',\n",
       " 'EL BOSQUE - CONDOMINIO',\n",
       " 'LA GUADALUPANA',\n",
       " 'CRUZ DEL FAROL',\n",
       " 'SAN MIGUEL TOPILEJO',\n",
       " 'CANTERA PUENTE DE PIEDRA',\n",
       " 'GLORIETA DE VAQUERITOS',\n",
       " 'VERGEL DEL SUR',\n",
       " 'PEQUE?A TEPEXIMILPA',\n",
       " 'HACIENDA SAN JUAN',\n",
       " 'SAUZALES CEBADALES',\n",
       " 'INSURGENTES CUICUILCO',\n",
       " 'SECTOR 17',\n",
       " 'POTRERO ACOXPA',\n",
       " 'RINCONADA COAPA 2A SECCIÓN',\n",
       " 'POPULAR SANTA TERESA',\n",
       " 'SAN ANDRÉS TOTOLTEPEC',\n",
       " 'BARRIO LA LONJA',\n",
       " 'TECORRAL',\n",
       " 'BARRIO DE CARAMAGÜEY',\n",
       " 'DR. IGNACIO CHÁVEZ INFONAVIT',\n",
       " 'PUEBLO QUIETO',\n",
       " 'VILLA DEL PUENTE',\n",
       " 'EMILIO PORTES GIL',\n",
       " 'SAN PEDRO MÁRTIR',\n",
       " 'RESIDENCIAL HACIENDA COAPA',\n",
       " 'RINCÓN DEL PEDREGAL',\n",
       " 'PEDREGAL DE SAN NICOLÁS 3A SECCIÓN',\n",
       " 'LA JOYA',\n",
       " 'PEDREGAL DEL LAGO',\n",
       " 'SAN PEDRO MÁRTIR FOVISSSTE',\n",
       " 'BARRIO DEL NIÑO JESÚS',\n",
       " 'NARCISO MENDOZA SUPER MANZANA 5 VILLA COAPA',\n",
       " 'MIGUEL HIDALGO 2A SECCIÓN',\n",
       " 'VALLE VERDE',\n",
       " 'TLALPAN CENTRO II',\n",
       " 'NARCISO MENDOZA SUPER MANZANA 4 VILLA COAPA',\n",
       " 'SAN MIGUEL TOXIAC',\n",
       " 'PEDREGAL DE LAS ÁGUILAS',\n",
       " 'CUCHILLA TEPEXIMILPA',\n",
       " '2 DE OCTUBRE',\n",
       " 'TENORIOS FOVISSSTE',\n",
       " 'VILLA VALBADENA',\n",
       " 'SAN MIGUEL TEHUISCO',\n",
       " 'RINCONADA COAPA 1A SECCIÓN',\n",
       " 'DE SAN JUAN TLALPAN',\n",
       " 'FUENTES BROTANTES',\n",
       " 'TENORIOS 1',\n",
       " 'NUEVA ORIENTAL COAPA',\n",
       " 'COMUNEROS DE SANTA ÚRSULA',\n",
       " 'EL MIRADOR 2A SECCIÓN',\n",
       " 'PLAZA COAPA',\n",
       " 'LOMA BONITA',\n",
       " 'TORIELLO GUERRA',\n",
       " 'PRADO COAPA 3A SECCIÓN',\n",
       " 'LOS ARCOS',\n",
       " 'PEDREGAL DE SAN NICOLÁS 4A SECCIÓN',\n",
       " 'BARRIO LA FAMA',\n",
       " 'LOMAS DE PADIERNA',\n",
       " 'BELISARIO DOMÍNGUEZ',\n",
       " 'HÉROES DE PADIERNA',\n",
       " 'CHIMILLI',\n",
       " 'RESIDENCIAL VILLA PRADO COAPA',\n",
       " 'VILLA OLÍMPICA',\n",
       " 'TLAXCALTENCO LA MESA',\n",
       " 'CUMBRES DE TEPETONGO',\n",
       " 'PARAJE TETENCO',\n",
       " 'CAMISETAS - BARRIO',\n",
       " 'RINCONADA SANTA TERESA',\n",
       " 'CULTURA MAYA',\n",
       " 'EQUIPAMIENTO FABRICA FISISA I',\n",
       " 'TLALMILLE',\n",
       " 'GRANJAS COAPA',\n",
       " 'LOS VOLCANES',\n",
       " 'MIRADOR II',\n",
       " 'SOLIDARIDAD',\n",
       " 'SAN LORENZO HUIPULCO',\n",
       " 'VERGEL COAPA',\n",
       " 'EX HACIENDA SAN JUAN DE DIOS',\n",
       " 'OCOTLA',\n",
       " 'TEPETONGO',\n",
       " 'VILLA ROYALE',\n",
       " 'LOS ENCINOS',\n",
       " 'RINCONADA LAS HADAS',\n",
       " 'ISIDRO FABELA',\n",
       " 'ESPACIO ECOLOGICO CUICUILCO',\n",
       " 'TEXCALTENCO',\n",
       " 'ISIDRO FABELA SECCION CANTIL',\n",
       " 'VILLA LÁZARO CÁRDENAS',\n",
       " 'LA PRIMAVERA',\n",
       " 'VILLA CUEMANCO',\n",
       " 'PRADO COAPA 2A SECCIÓN',\n",
       " 'JARDINES EN LA MONTAÑA',\n",
       " 'SAN MIGUEL AJUSCO']"
      ]
     },
     "execution_count": 131,
     "metadata": {},
     "output_type": "execute_result"
    }
   ],
   "source": [
    "d[\"tlalpan\"]"
   ]
  },
  {
   "cell_type": "code",
   "execution_count": 132,
   "metadata": {},
   "outputs": [
    {
     "data": {
      "text/plain": [
       "dict_keys(['la magdalena contreras', 'miguel hidalgo', 'cuajimalpa de morelos', 'milpa alta', 'gustavo a madero', 'cuauhtemoc', 'venustiano carranza', 'iztacalco', 'alvaro obregon', 'tlahuac', 'benito juarez', 'coyoacan', 'xochimilco', 'iztapalapa', 'azcapotzalco', 'tlalpan'])"
      ]
     },
     "execution_count": 132,
     "metadata": {},
     "output_type": "execute_result"
    }
   ],
   "source": [
    "d.keys()"
   ]
  },
  {
   "cell_type": "code",
   "execution_count": 133,
   "metadata": {},
   "outputs": [
    {
     "data": {
      "text/plain": [
       "16"
      ]
     },
     "execution_count": 133,
     "metadata": {},
     "output_type": "execute_result"
    }
   ],
   "source": [
    "len(d.keys())"
   ]
  },
  {
   "cell_type": "code",
   "execution_count": 134,
   "metadata": {},
   "outputs": [
    {
     "data": {
      "text/html": [
       "<div>\n",
       "<style scoped>\n",
       "    .dataframe tbody tr th:only-of-type {\n",
       "        vertical-align: middle;\n",
       "    }\n",
       "\n",
       "    .dataframe tbody tr th {\n",
       "        vertical-align: top;\n",
       "    }\n",
       "\n",
       "    .dataframe thead th {\n",
       "        text-align: right;\n",
       "    }\n",
       "</style>\n",
       "<table border=\"1\" class=\"dataframe\">\n",
       "  <thead>\n",
       "    <tr style=\"text-align: right;\">\n",
       "      <th></th>\n",
       "      <th>año_hechos</th>\n",
       "      <th>mes_hechos</th>\n",
       "      <th>fecha_hechos</th>\n",
       "      <th>delito</th>\n",
       "      <th>categoria_delito</th>\n",
       "      <th>fiscalía</th>\n",
       "      <th>agencia</th>\n",
       "      <th>unidad_investigacion</th>\n",
       "      <th>colonia_hechos</th>\n",
       "      <th>alcaldia_hechos</th>\n",
       "      <th>fecha_inicio</th>\n",
       "      <th>mes_inicio</th>\n",
       "      <th>ao_inicio</th>\n",
       "      <th>calle_hechos</th>\n",
       "      <th>calle_hechos2</th>\n",
       "      <th>longitud</th>\n",
       "      <th>latitud</th>\n",
       "      <th>Geopoint</th>\n",
       "    </tr>\n",
       "  </thead>\n",
       "  <tbody>\n",
       "    <tr>\n",
       "      <th>0</th>\n",
       "      <td>2016.0</td>\n",
       "      <td>Enero</td>\n",
       "      <td>2016-01-05 17:00:00</td>\n",
       "      <td>LESIONES CULPOSAS</td>\n",
       "      <td>DELITO DE BAJO IMPACTO</td>\n",
       "      <td>INVESTIGACIÓN EN GUSTAVO A. MADERO</td>\n",
       "      <td>GAM-6</td>\n",
       "      <td>UI-1CD</td>\n",
       "      <td>GRANJAS MODERNAS</td>\n",
       "      <td>gustavo a madero</td>\n",
       "      <td>2016-01-05 18:35:37</td>\n",
       "      <td>Enero</td>\n",
       "      <td>2016</td>\n",
       "      <td>SAN JUAN DE ARAGON</td>\n",
       "      <td>CALLE ANZAR</td>\n",
       "      <td>-99.103527</td>\n",
       "      <td>19.481076</td>\n",
       "      <td>19.4810759998,-99.103527</td>\n",
       "    </tr>\n",
       "    <tr>\n",
       "      <th>2</th>\n",
       "      <td>2017.0</td>\n",
       "      <td>Noviembre</td>\n",
       "      <td>2017-11-01 16:40:00</td>\n",
       "      <td>ROBO A TRANSEUNTE EN VIA PUBLICA CON VIOLENCIA</td>\n",
       "      <td>ROBO A TRANSEUNTE EN VÍA PÚBLICA CON Y SIN VIO...</td>\n",
       "      <td>INVESTIGACIÓN EN IZTACALCO</td>\n",
       "      <td>IZC-2</td>\n",
       "      <td>UI-1SD</td>\n",
       "      <td>GABRIEL RAMOS MILLÁN SECCIÓN TLACOTAL</td>\n",
       "      <td>iztacalco</td>\n",
       "      <td>2017-11-01 16:56:04</td>\n",
       "      <td>Noviembre</td>\n",
       "      <td>2017</td>\n",
       "      <td>SUR 117</td>\n",
       "      <td>ORIENTE 100A</td>\n",
       "      <td>-99.106072</td>\n",
       "      <td>19.395398</td>\n",
       "      <td>19.3953976727,-99.1060723829</td>\n",
       "    </tr>\n",
       "    <tr>\n",
       "      <th>3</th>\n",
       "      <td>2015.0</td>\n",
       "      <td>Diciembre</td>\n",
       "      <td>2015-12-30 20:00:00</td>\n",
       "      <td>FRAUDE</td>\n",
       "      <td>DELITO DE BAJO IMPACTO</td>\n",
       "      <td>INVESTIGACIÓN EN IZTAPALAPA</td>\n",
       "      <td>IZP-8</td>\n",
       "      <td>UI-1CD</td>\n",
       "      <td>CONSEJO AGRARISTA MEXICANO</td>\n",
       "      <td>iztapalapa</td>\n",
       "      <td>2016-01-05 21:12:42</td>\n",
       "      <td>Enero</td>\n",
       "      <td>2016</td>\n",
       "      <td>CUARTA CERRADA DE FRESNO</td>\n",
       "      <td>ENCINO (SIN REGISTRO DEL SAP)</td>\n",
       "      <td>-99.055887</td>\n",
       "      <td>19.322458</td>\n",
       "      <td>19.3224579998,-99.055887</td>\n",
       "    </tr>\n",
       "    <tr>\n",
       "      <th>4</th>\n",
       "      <td>2018.0</td>\n",
       "      <td>Mayo</td>\n",
       "      <td>2018-05-16 16:00:00</td>\n",
       "      <td>ROBO A REPARTIDOR CON VIOLENCIA</td>\n",
       "      <td>ROBO A REPARTIDOR CON Y SIN VIOLENCIA</td>\n",
       "      <td>INVESTIGACIÓN EN IZTAPALAPA</td>\n",
       "      <td>IZP-9</td>\n",
       "      <td>UI-2SD</td>\n",
       "      <td>DESARROLLO URBANO QUETZALCOATL</td>\n",
       "      <td>iztapalapa</td>\n",
       "      <td>2018-05-22 10:44:45</td>\n",
       "      <td>Mayo</td>\n",
       "      <td>2018</td>\n",
       "      <td>TARASCO</td>\n",
       "      <td>ZAPOTECO</td>\n",
       "      <td>-99.042786</td>\n",
       "      <td>19.319141</td>\n",
       "      <td>19.3191405147,-99.0427862526</td>\n",
       "    </tr>\n",
       "    <tr>\n",
       "      <th>5</th>\n",
       "      <td>2018.0</td>\n",
       "      <td>Mayo</td>\n",
       "      <td>2018-05-21 20:40:00</td>\n",
       "      <td>ROBO A TRANSEUNTE DE CELULAR CON VIOLENCIA</td>\n",
       "      <td>DELITO DE BAJO IMPACTO</td>\n",
       "      <td>INVESTIGACIÓN EN CUAUHTEMOC</td>\n",
       "      <td>CUH-2</td>\n",
       "      <td>UI-2SD</td>\n",
       "      <td>INFONAVIT IZTACALCO</td>\n",
       "      <td>iztacalco</td>\n",
       "      <td>2018-05-22 10:52:18</td>\n",
       "      <td>Mayo</td>\n",
       "      <td>2018</td>\n",
       "      <td>FRANCISCO DEL PASO Y TRONCOSO</td>\n",
       "      <td>ISLA</td>\n",
       "      <td>-99.111563</td>\n",
       "      <td>19.386594</td>\n",
       "      <td>19.3865939284,-99.1115626682</td>\n",
       "    </tr>\n",
       "  </tbody>\n",
       "</table>\n",
       "</div>"
      ],
      "text/plain": [
       "   año_hechos mes_hechos         fecha_hechos  \\\n",
       "0      2016.0      Enero  2016-01-05 17:00:00   \n",
       "2      2017.0  Noviembre  2017-11-01 16:40:00   \n",
       "3      2015.0  Diciembre  2015-12-30 20:00:00   \n",
       "4      2018.0       Mayo  2018-05-16 16:00:00   \n",
       "5      2018.0       Mayo  2018-05-21 20:40:00   \n",
       "\n",
       "                                           delito  \\\n",
       "0                               LESIONES CULPOSAS   \n",
       "2  ROBO A TRANSEUNTE EN VIA PUBLICA CON VIOLENCIA   \n",
       "3                                          FRAUDE   \n",
       "4                 ROBO A REPARTIDOR CON VIOLENCIA   \n",
       "5      ROBO A TRANSEUNTE DE CELULAR CON VIOLENCIA   \n",
       "\n",
       "                                    categoria_delito  \\\n",
       "0                             DELITO DE BAJO IMPACTO   \n",
       "2  ROBO A TRANSEUNTE EN VÍA PÚBLICA CON Y SIN VIO...   \n",
       "3                             DELITO DE BAJO IMPACTO   \n",
       "4              ROBO A REPARTIDOR CON Y SIN VIOLENCIA   \n",
       "5                             DELITO DE BAJO IMPACTO   \n",
       "\n",
       "                             fiscalía agencia unidad_investigacion  \\\n",
       "0  INVESTIGACIÓN EN GUSTAVO A. MADERO   GAM-6               UI-1CD   \n",
       "2          INVESTIGACIÓN EN IZTACALCO   IZC-2               UI-1SD   \n",
       "3         INVESTIGACIÓN EN IZTAPALAPA   IZP-8               UI-1CD   \n",
       "4         INVESTIGACIÓN EN IZTAPALAPA   IZP-9               UI-2SD   \n",
       "5         INVESTIGACIÓN EN CUAUHTEMOC   CUH-2               UI-2SD   \n",
       "\n",
       "                          colonia_hechos   alcaldia_hechos  \\\n",
       "0                       GRANJAS MODERNAS  gustavo a madero   \n",
       "2  GABRIEL RAMOS MILLÁN SECCIÓN TLACOTAL         iztacalco   \n",
       "3             CONSEJO AGRARISTA MEXICANO        iztapalapa   \n",
       "4         DESARROLLO URBANO QUETZALCOATL        iztapalapa   \n",
       "5                    INFONAVIT IZTACALCO         iztacalco   \n",
       "\n",
       "          fecha_inicio mes_inicio  ao_inicio                   calle_hechos  \\\n",
       "0  2016-01-05 18:35:37      Enero       2016             SAN JUAN DE ARAGON   \n",
       "2  2017-11-01 16:56:04  Noviembre       2017                        SUR 117   \n",
       "3  2016-01-05 21:12:42      Enero       2016       CUARTA CERRADA DE FRESNO   \n",
       "4  2018-05-22 10:44:45       Mayo       2018                        TARASCO   \n",
       "5  2018-05-22 10:52:18       Mayo       2018  FRANCISCO DEL PASO Y TRONCOSO   \n",
       "\n",
       "                   calle_hechos2   longitud    latitud  \\\n",
       "0                    CALLE ANZAR -99.103527  19.481076   \n",
       "2                   ORIENTE 100A -99.106072  19.395398   \n",
       "3  ENCINO (SIN REGISTRO DEL SAP) -99.055887  19.322458   \n",
       "4                       ZAPOTECO -99.042786  19.319141   \n",
       "5                           ISLA -99.111563  19.386594   \n",
       "\n",
       "                       Geopoint  \n",
       "0      19.4810759998,-99.103527  \n",
       "2  19.3953976727,-99.1060723829  \n",
       "3      19.3224579998,-99.055887  \n",
       "4  19.3191405147,-99.0427862526  \n",
       "5  19.3865939284,-99.1115626682  "
      ]
     },
     "execution_count": 134,
     "metadata": {},
     "output_type": "execute_result"
    }
   ],
   "source": [
    "df.head(5)"
   ]
  },
  {
   "cell_type": "code",
   "execution_count": 135,
   "metadata": {},
   "outputs": [],
   "source": [
    "delitos=[]\n",
    "for alcaldia in list(d.keys()):\n",
    "    for colonia in d[alcaldia]:\n",
    "        numero=len(df[(df[\"alcaldia_hechos\"]==alcaldia) & (df[\"colonia_hechos\"]==colonia)][\"colonia_hechos\"])\n",
    "        delitos.append((alcaldia,colonia,numero))"
   ]
  },
  {
   "cell_type": "code",
   "execution_count": 138,
   "metadata": {},
   "outputs": [],
   "source": [
    "delitos_alcaldia=pd.DataFrame(delitos,columns=[\"alcaldia\",\"colonia\",\"numero de delitos\"])"
   ]
  },
  {
   "cell_type": "code",
   "execution_count": 139,
   "metadata": {},
   "outputs": [
    {
     "data": {
      "text/html": [
       "<div>\n",
       "<style scoped>\n",
       "    .dataframe tbody tr th:only-of-type {\n",
       "        vertical-align: middle;\n",
       "    }\n",
       "\n",
       "    .dataframe tbody tr th {\n",
       "        vertical-align: top;\n",
       "    }\n",
       "\n",
       "    .dataframe thead th {\n",
       "        text-align: right;\n",
       "    }\n",
       "</style>\n",
       "<table border=\"1\" class=\"dataframe\">\n",
       "  <thead>\n",
       "    <tr style=\"text-align: right;\">\n",
       "      <th></th>\n",
       "      <th>alcaldia</th>\n",
       "      <th>colonia</th>\n",
       "      <th>numero de delitos</th>\n",
       "    </tr>\n",
       "  </thead>\n",
       "  <tbody>\n",
       "    <tr>\n",
       "      <th>0</th>\n",
       "      <td>la magdalena contreras</td>\n",
       "      <td>AMPLIACIÓN POTRERILLO</td>\n",
       "      <td>80</td>\n",
       "    </tr>\n",
       "    <tr>\n",
       "      <th>1</th>\n",
       "      <td>la magdalena contreras</td>\n",
       "      <td>SAN JERÓNIMO LÍDICE</td>\n",
       "      <td>1452</td>\n",
       "    </tr>\n",
       "    <tr>\n",
       "      <th>2</th>\n",
       "      <td>la magdalena contreras</td>\n",
       "      <td>VISTA HERMOSA</td>\n",
       "      <td>70</td>\n",
       "    </tr>\n",
       "    <tr>\n",
       "      <th>3</th>\n",
       "      <td>la magdalena contreras</td>\n",
       "      <td>LOMAS DE SAN BERNABÉ</td>\n",
       "      <td>335</td>\n",
       "    </tr>\n",
       "    <tr>\n",
       "      <th>4</th>\n",
       "      <td>la magdalena contreras</td>\n",
       "      <td>EL ROSAL</td>\n",
       "      <td>332</td>\n",
       "    </tr>\n",
       "    <tr>\n",
       "      <th>...</th>\n",
       "      <td>...</td>\n",
       "      <td>...</td>\n",
       "      <td>...</td>\n",
       "    </tr>\n",
       "    <tr>\n",
       "      <th>1737</th>\n",
       "      <td>tlalpan</td>\n",
       "      <td>LA PRIMAVERA</td>\n",
       "      <td>126</td>\n",
       "    </tr>\n",
       "    <tr>\n",
       "      <th>1738</th>\n",
       "      <td>tlalpan</td>\n",
       "      <td>VILLA CUEMANCO</td>\n",
       "      <td>90</td>\n",
       "    </tr>\n",
       "    <tr>\n",
       "      <th>1739</th>\n",
       "      <td>tlalpan</td>\n",
       "      <td>PRADO COAPA 2A SECCIÓN</td>\n",
       "      <td>180</td>\n",
       "    </tr>\n",
       "    <tr>\n",
       "      <th>1740</th>\n",
       "      <td>tlalpan</td>\n",
       "      <td>JARDINES EN LA MONTAÑA</td>\n",
       "      <td>473</td>\n",
       "    </tr>\n",
       "    <tr>\n",
       "      <th>1741</th>\n",
       "      <td>tlalpan</td>\n",
       "      <td>SAN MIGUEL AJUSCO</td>\n",
       "      <td>838</td>\n",
       "    </tr>\n",
       "  </tbody>\n",
       "</table>\n",
       "<p>1742 rows × 3 columns</p>\n",
       "</div>"
      ],
      "text/plain": [
       "                    alcaldia                 colonia  numero de delitos\n",
       "0     la magdalena contreras   AMPLIACIÓN POTRERILLO                 80\n",
       "1     la magdalena contreras     SAN JERÓNIMO LÍDICE               1452\n",
       "2     la magdalena contreras           VISTA HERMOSA                 70\n",
       "3     la magdalena contreras    LOMAS DE SAN BERNABÉ                335\n",
       "4     la magdalena contreras                EL ROSAL                332\n",
       "...                      ...                     ...                ...\n",
       "1737                 tlalpan            LA PRIMAVERA                126\n",
       "1738                 tlalpan          VILLA CUEMANCO                 90\n",
       "1739                 tlalpan  PRADO COAPA 2A SECCIÓN                180\n",
       "1740                 tlalpan  JARDINES EN LA MONTAÑA                473\n",
       "1741                 tlalpan       SAN MIGUEL AJUSCO                838\n",
       "\n",
       "[1742 rows x 3 columns]"
      ]
     },
     "execution_count": 139,
     "metadata": {},
     "output_type": "execute_result"
    }
   ],
   "source": [
    "delitos_alcaldia"
   ]
  },
  {
   "cell_type": "code",
   "execution_count": 140,
   "metadata": {},
   "outputs": [],
   "source": [
    "colonias_peligrosas=pd.DataFrame(columns=[\"alcaldia\",\"colonia\",\"numero de delitos\"])"
   ]
  },
  {
   "cell_type": "code",
   "execution_count": 141,
   "metadata": {},
   "outputs": [],
   "source": [
    "for alcaldia in alcaldias:\n",
    "    colonias_peligrosas=colonias_peligrosas.append(delitos_alcaldia[delitos_alcaldia[\"alcaldia\"]==alcaldia].sort_values(by=\"numero de delitos\",ascending=False).head(3))"
   ]
  },
  {
   "cell_type": "code",
   "execution_count": 142,
   "metadata": {},
   "outputs": [],
   "source": [
    "colonias_peligrosas.columns=[\"alcaldia\",\"colonias más peligrosas\",\"numero de delitos\"]\n",
    "colonias_peligrosas.index=[i for i in range(len(colonias_peligrosas))]"
   ]
  },
  {
   "cell_type": "code",
   "execution_count": 143,
   "metadata": {},
   "outputs": [
    {
     "data": {
      "text/html": [
       "<div>\n",
       "<style scoped>\n",
       "    .dataframe tbody tr th:only-of-type {\n",
       "        vertical-align: middle;\n",
       "    }\n",
       "\n",
       "    .dataframe tbody tr th {\n",
       "        vertical-align: top;\n",
       "    }\n",
       "\n",
       "    .dataframe thead th {\n",
       "        text-align: right;\n",
       "    }\n",
       "</style>\n",
       "<table border=\"1\" class=\"dataframe\">\n",
       "  <thead>\n",
       "    <tr style=\"text-align: right;\">\n",
       "      <th></th>\n",
       "      <th>alcaldia</th>\n",
       "      <th>colonias más peligrosas</th>\n",
       "      <th>numero de delitos</th>\n",
       "    </tr>\n",
       "  </thead>\n",
       "  <tbody>\n",
       "    <tr>\n",
       "      <th>0</th>\n",
       "      <td>la magdalena contreras</td>\n",
       "      <td>SAN JERÓNIMO LÍDICE</td>\n",
       "      <td>1452</td>\n",
       "    </tr>\n",
       "    <tr>\n",
       "      <th>1</th>\n",
       "      <td>la magdalena contreras</td>\n",
       "      <td>SAN NICOLÁS TOTOLAPAN</td>\n",
       "      <td>1008</td>\n",
       "    </tr>\n",
       "    <tr>\n",
       "      <th>2</th>\n",
       "      <td>la magdalena contreras</td>\n",
       "      <td>SAN BERNABÉ OCOTEPEC</td>\n",
       "      <td>672</td>\n",
       "    </tr>\n",
       "    <tr>\n",
       "      <th>3</th>\n",
       "      <td>miguel hidalgo</td>\n",
       "      <td>POLANCO</td>\n",
       "      <td>7131</td>\n",
       "    </tr>\n",
       "    <tr>\n",
       "      <th>4</th>\n",
       "      <td>miguel hidalgo</td>\n",
       "      <td>ANAHUAC</td>\n",
       "      <td>3796</td>\n",
       "    </tr>\n",
       "    <tr>\n",
       "      <th>5</th>\n",
       "      <td>miguel hidalgo</td>\n",
       "      <td>LOMAS DE CHAPULTEPEC I SECCIÓN</td>\n",
       "      <td>3196</td>\n",
       "    </tr>\n",
       "    <tr>\n",
       "      <th>6</th>\n",
       "      <td>cuajimalpa de morelos</td>\n",
       "      <td>CUAJIMALPA</td>\n",
       "      <td>1693</td>\n",
       "    </tr>\n",
       "    <tr>\n",
       "      <th>7</th>\n",
       "      <td>cuajimalpa de morelos</td>\n",
       "      <td>LOMAS DE SANTA FE</td>\n",
       "      <td>1655</td>\n",
       "    </tr>\n",
       "    <tr>\n",
       "      <th>8</th>\n",
       "      <td>cuajimalpa de morelos</td>\n",
       "      <td>SAN JOSÉ DE LOS CEDROS</td>\n",
       "      <td>1008</td>\n",
       "    </tr>\n",
       "    <tr>\n",
       "      <th>9</th>\n",
       "      <td>milpa alta</td>\n",
       "      <td>CRUZTITLA (SAN ANTONIO TECOMITL)</td>\n",
       "      <td>390</td>\n",
       "    </tr>\n",
       "    <tr>\n",
       "      <th>10</th>\n",
       "      <td>milpa alta</td>\n",
       "      <td>SANTA MARTHA (VILLA MILPA ALTA)</td>\n",
       "      <td>342</td>\n",
       "    </tr>\n",
       "    <tr>\n",
       "      <th>11</th>\n",
       "      <td>milpa alta</td>\n",
       "      <td>SAN MIGUEL (SAN PABLO OZTOTEPEC)</td>\n",
       "      <td>340</td>\n",
       "    </tr>\n",
       "    <tr>\n",
       "      <th>12</th>\n",
       "      <td>gustavo a madero</td>\n",
       "      <td>LINDAVISTA</td>\n",
       "      <td>3737</td>\n",
       "    </tr>\n",
       "    <tr>\n",
       "      <th>13</th>\n",
       "      <td>gustavo a madero</td>\n",
       "      <td>GUADALUPE TEPEYAC</td>\n",
       "      <td>3208</td>\n",
       "    </tr>\n",
       "    <tr>\n",
       "      <th>14</th>\n",
       "      <td>gustavo a madero</td>\n",
       "      <td>SAN FELIPE DE JESÚS</td>\n",
       "      <td>2284</td>\n",
       "    </tr>\n",
       "    <tr>\n",
       "      <th>15</th>\n",
       "      <td>cuauhtemoc</td>\n",
       "      <td>CENTRO</td>\n",
       "      <td>28751</td>\n",
       "    </tr>\n",
       "    <tr>\n",
       "      <th>16</th>\n",
       "      <td>cuauhtemoc</td>\n",
       "      <td>DOCTORES</td>\n",
       "      <td>16657</td>\n",
       "    </tr>\n",
       "    <tr>\n",
       "      <th>17</th>\n",
       "      <td>cuauhtemoc</td>\n",
       "      <td>ROMA NORTE</td>\n",
       "      <td>10403</td>\n",
       "    </tr>\n",
       "    <tr>\n",
       "      <th>18</th>\n",
       "      <td>venustiano carranza</td>\n",
       "      <td>JARDÍN BALBUENA</td>\n",
       "      <td>4464</td>\n",
       "    </tr>\n",
       "    <tr>\n",
       "      <th>19</th>\n",
       "      <td>venustiano carranza</td>\n",
       "      <td>MOCTEZUMA 2A SECCIÓN</td>\n",
       "      <td>3549</td>\n",
       "    </tr>\n",
       "    <tr>\n",
       "      <th>20</th>\n",
       "      <td>venustiano carranza</td>\n",
       "      <td>ZONA CENTRO</td>\n",
       "      <td>3060</td>\n",
       "    </tr>\n",
       "    <tr>\n",
       "      <th>21</th>\n",
       "      <td>iztacalco</td>\n",
       "      <td>AGRÍCOLA ORIENTAL</td>\n",
       "      <td>6663</td>\n",
       "    </tr>\n",
       "    <tr>\n",
       "      <th>22</th>\n",
       "      <td>iztacalco</td>\n",
       "      <td>AGRÍCOLA PANTITLAN</td>\n",
       "      <td>5476</td>\n",
       "    </tr>\n",
       "    <tr>\n",
       "      <th>23</th>\n",
       "      <td>iztacalco</td>\n",
       "      <td>GRANJAS MÉXICO</td>\n",
       "      <td>3604</td>\n",
       "    </tr>\n",
       "    <tr>\n",
       "      <th>24</th>\n",
       "      <td>alvaro obregon</td>\n",
       "      <td>JARDINES DEL PEDREGAL</td>\n",
       "      <td>2335</td>\n",
       "    </tr>\n",
       "    <tr>\n",
       "      <th>25</th>\n",
       "      <td>alvaro obregon</td>\n",
       "      <td>SAN ANGEL</td>\n",
       "      <td>2019</td>\n",
       "    </tr>\n",
       "    <tr>\n",
       "      <th>26</th>\n",
       "      <td>alvaro obregon</td>\n",
       "      <td>ZEDEC SANTA FE</td>\n",
       "      <td>1843</td>\n",
       "    </tr>\n",
       "    <tr>\n",
       "      <th>27</th>\n",
       "      <td>tlahuac</td>\n",
       "      <td>DEL MAR</td>\n",
       "      <td>1121</td>\n",
       "    </tr>\n",
       "    <tr>\n",
       "      <th>28</th>\n",
       "      <td>tlahuac</td>\n",
       "      <td>MIGUEL HIDALGO</td>\n",
       "      <td>1058</td>\n",
       "    </tr>\n",
       "    <tr>\n",
       "      <th>29</th>\n",
       "      <td>tlahuac</td>\n",
       "      <td>SAN FRANCISCO TLALTENCO</td>\n",
       "      <td>881</td>\n",
       "    </tr>\n",
       "    <tr>\n",
       "      <th>30</th>\n",
       "      <td>benito juarez</td>\n",
       "      <td>DEL VALLE CENTRO</td>\n",
       "      <td>12644</td>\n",
       "    </tr>\n",
       "    <tr>\n",
       "      <th>31</th>\n",
       "      <td>benito juarez</td>\n",
       "      <td>NARVARTE</td>\n",
       "      <td>9317</td>\n",
       "    </tr>\n",
       "    <tr>\n",
       "      <th>32</th>\n",
       "      <td>benito juarez</td>\n",
       "      <td>PORTALES SUR</td>\n",
       "      <td>4587</td>\n",
       "    </tr>\n",
       "    <tr>\n",
       "      <th>33</th>\n",
       "      <td>coyoacan</td>\n",
       "      <td>PEDREGAL DE SANTO DOMINGO</td>\n",
       "      <td>4434</td>\n",
       "    </tr>\n",
       "    <tr>\n",
       "      <th>34</th>\n",
       "      <td>coyoacan</td>\n",
       "      <td>AJUSCO</td>\n",
       "      <td>2377</td>\n",
       "    </tr>\n",
       "    <tr>\n",
       "      <th>35</th>\n",
       "      <td>coyoacan</td>\n",
       "      <td>DEL CARMEN</td>\n",
       "      <td>2348</td>\n",
       "    </tr>\n",
       "    <tr>\n",
       "      <th>36</th>\n",
       "      <td>xochimilco</td>\n",
       "      <td>SAN GREGORIO ATLAPULCO</td>\n",
       "      <td>1607</td>\n",
       "    </tr>\n",
       "    <tr>\n",
       "      <th>37</th>\n",
       "      <td>xochimilco</td>\n",
       "      <td>SANTIAGO TEPALCATLALPAN</td>\n",
       "      <td>1301</td>\n",
       "    </tr>\n",
       "    <tr>\n",
       "      <th>38</th>\n",
       "      <td>xochimilco</td>\n",
       "      <td>SANTA CRUZ ACALPIXCA - PUEBLO</td>\n",
       "      <td>1223</td>\n",
       "    </tr>\n",
       "    <tr>\n",
       "      <th>39</th>\n",
       "      <td>iztapalapa</td>\n",
       "      <td>CENTRAL DE ABASTO</td>\n",
       "      <td>5264</td>\n",
       "    </tr>\n",
       "    <tr>\n",
       "      <th>40</th>\n",
       "      <td>iztapalapa</td>\n",
       "      <td>LOMAS DE SAN LORENZO</td>\n",
       "      <td>3060</td>\n",
       "    </tr>\n",
       "    <tr>\n",
       "      <th>41</th>\n",
       "      <td>iztapalapa</td>\n",
       "      <td>DESARROLLO URBANO QUETZALCOATL</td>\n",
       "      <td>2990</td>\n",
       "    </tr>\n",
       "    <tr>\n",
       "      <th>42</th>\n",
       "      <td>azcapotzalco</td>\n",
       "      <td>EL ROSARIO</td>\n",
       "      <td>2820</td>\n",
       "    </tr>\n",
       "    <tr>\n",
       "      <th>43</th>\n",
       "      <td>azcapotzalco</td>\n",
       "      <td>INDUSTRIAL VALLEJO</td>\n",
       "      <td>1930</td>\n",
       "    </tr>\n",
       "    <tr>\n",
       "      <th>44</th>\n",
       "      <td>azcapotzalco</td>\n",
       "      <td>CENTRO DE AZCAPOTZALCO</td>\n",
       "      <td>1796</td>\n",
       "    </tr>\n",
       "    <tr>\n",
       "      <th>45</th>\n",
       "      <td>tlalpan</td>\n",
       "      <td>SAN ANDRÉS TOTOLTEPEC</td>\n",
       "      <td>3000</td>\n",
       "    </tr>\n",
       "    <tr>\n",
       "      <th>46</th>\n",
       "      <td>tlalpan</td>\n",
       "      <td>TLALPAN CENTRO I</td>\n",
       "      <td>1832</td>\n",
       "    </tr>\n",
       "    <tr>\n",
       "      <th>47</th>\n",
       "      <td>tlalpan</td>\n",
       "      <td>HÉROES DE PADIERNA</td>\n",
       "      <td>1798</td>\n",
       "    </tr>\n",
       "  </tbody>\n",
       "</table>\n",
       "</div>"
      ],
      "text/plain": [
       "                  alcaldia           colonias más peligrosas numero de delitos\n",
       "0   la magdalena contreras               SAN JERÓNIMO LÍDICE              1452\n",
       "1   la magdalena contreras             SAN NICOLÁS TOTOLAPAN              1008\n",
       "2   la magdalena contreras              SAN BERNABÉ OCOTEPEC               672\n",
       "3           miguel hidalgo                           POLANCO              7131\n",
       "4           miguel hidalgo                           ANAHUAC              3796\n",
       "5           miguel hidalgo    LOMAS DE CHAPULTEPEC I SECCIÓN              3196\n",
       "6    cuajimalpa de morelos                        CUAJIMALPA              1693\n",
       "7    cuajimalpa de morelos                 LOMAS DE SANTA FE              1655\n",
       "8    cuajimalpa de morelos            SAN JOSÉ DE LOS CEDROS              1008\n",
       "9               milpa alta  CRUZTITLA (SAN ANTONIO TECOMITL)               390\n",
       "10              milpa alta   SANTA MARTHA (VILLA MILPA ALTA)               342\n",
       "11              milpa alta  SAN MIGUEL (SAN PABLO OZTOTEPEC)               340\n",
       "12        gustavo a madero                        LINDAVISTA              3737\n",
       "13        gustavo a madero                 GUADALUPE TEPEYAC              3208\n",
       "14        gustavo a madero               SAN FELIPE DE JESÚS              2284\n",
       "15              cuauhtemoc                            CENTRO             28751\n",
       "16              cuauhtemoc                          DOCTORES             16657\n",
       "17              cuauhtemoc                        ROMA NORTE             10403\n",
       "18     venustiano carranza                   JARDÍN BALBUENA              4464\n",
       "19     venustiano carranza              MOCTEZUMA 2A SECCIÓN              3549\n",
       "20     venustiano carranza                       ZONA CENTRO              3060\n",
       "21               iztacalco                 AGRÍCOLA ORIENTAL              6663\n",
       "22               iztacalco                AGRÍCOLA PANTITLAN              5476\n",
       "23               iztacalco                    GRANJAS MÉXICO              3604\n",
       "24          alvaro obregon             JARDINES DEL PEDREGAL              2335\n",
       "25          alvaro obregon                         SAN ANGEL              2019\n",
       "26          alvaro obregon                    ZEDEC SANTA FE              1843\n",
       "27                 tlahuac                           DEL MAR              1121\n",
       "28                 tlahuac                    MIGUEL HIDALGO              1058\n",
       "29                 tlahuac           SAN FRANCISCO TLALTENCO               881\n",
       "30           benito juarez                  DEL VALLE CENTRO             12644\n",
       "31           benito juarez                          NARVARTE              9317\n",
       "32           benito juarez                      PORTALES SUR              4587\n",
       "33                coyoacan         PEDREGAL DE SANTO DOMINGO              4434\n",
       "34                coyoacan                            AJUSCO              2377\n",
       "35                coyoacan                        DEL CARMEN              2348\n",
       "36              xochimilco            SAN GREGORIO ATLAPULCO              1607\n",
       "37              xochimilco           SANTIAGO TEPALCATLALPAN              1301\n",
       "38              xochimilco     SANTA CRUZ ACALPIXCA - PUEBLO              1223\n",
       "39              iztapalapa                 CENTRAL DE ABASTO              5264\n",
       "40              iztapalapa              LOMAS DE SAN LORENZO              3060\n",
       "41              iztapalapa    DESARROLLO URBANO QUETZALCOATL              2990\n",
       "42            azcapotzalco                        EL ROSARIO              2820\n",
       "43            azcapotzalco                INDUSTRIAL VALLEJO              1930\n",
       "44            azcapotzalco            CENTRO DE AZCAPOTZALCO              1796\n",
       "45                 tlalpan             SAN ANDRÉS TOTOLTEPEC              3000\n",
       "46                 tlalpan                  TLALPAN CENTRO I              1832\n",
       "47                 tlalpan                HÉROES DE PADIERNA              1798"
      ]
     },
     "execution_count": 143,
     "metadata": {},
     "output_type": "execute_result"
    }
   ],
   "source": [
    "colonias_peligrosas"
   ]
  },
  {
   "cell_type": "markdown",
   "metadata": {},
   "source": [
    "En la tabla anterior se observa cuáles son las tres colonias con más delitos dentro de cada alcaldía"
   ]
  },
  {
   "cell_type": "markdown",
   "metadata": {},
   "source": [
    "7) ¿Existe alguna tendencia estacional en la ocurrencia de delitos (mes, semana, día de la\n",
    "semana, quincenas)?"
   ]
  },
  {
   "cell_type": "code",
   "execution_count": 144,
   "metadata": {},
   "outputs": [],
   "source": [
    "df_tiempo=df[[\"año_hechos\",\"mes_hechos\",\"fecha_hechos\",\"delito\"]]"
   ]
  },
  {
   "cell_type": "code",
   "execution_count": 145,
   "metadata": {},
   "outputs": [
    {
     "data": {
      "text/plain": [
       "186"
      ]
     },
     "execution_count": 145,
     "metadata": {},
     "output_type": "execute_result"
    }
   ],
   "source": [
    "df_tiempo[\"fecha_hechos\"].isnull().sum()"
   ]
  },
  {
   "cell_type": "code",
   "execution_count": 146,
   "metadata": {},
   "outputs": [],
   "source": [
    "df_tiempo=df_tiempo.dropna()"
   ]
  },
  {
   "cell_type": "code",
   "execution_count": 147,
   "metadata": {},
   "outputs": [
    {
     "data": {
      "text/plain": [
       "año_hechos      0\n",
       "mes_hechos      0\n",
       "fecha_hechos    0\n",
       "delito          0\n",
       "dtype: int64"
      ]
     },
     "execution_count": 147,
     "metadata": {},
     "output_type": "execute_result"
    }
   ],
   "source": [
    "df_tiempo.isnull().sum()"
   ]
  },
  {
   "cell_type": "code",
   "execution_count": 148,
   "metadata": {},
   "outputs": [],
   "source": [
    "fechas_sucia=list(df_tiempo[\"fecha_hechos\"])"
   ]
  },
  {
   "cell_type": "code",
   "execution_count": 149,
   "metadata": {},
   "outputs": [],
   "source": [
    "fecha_limpia=[str(i).split(\" \")[0] for i in fechas_sucia]"
   ]
  },
  {
   "cell_type": "code",
   "execution_count": 150,
   "metadata": {},
   "outputs": [],
   "source": [
    "import datetime\n",
    "dia=[]\n",
    "for fecha in fecha_limpia:\n",
    "    year, month, day = (int(x) for x in fecha.split('-'))    \n",
    "    ans = datetime.date(year, month, day)\n",
    "    dia.append(ans.strftime(\"%A\"))"
   ]
  },
  {
   "cell_type": "code",
   "execution_count": 151,
   "metadata": {},
   "outputs": [],
   "source": [
    "dia_del_mes=[str(i).split(\"-\")[2] for i in fecha_limpia]"
   ]
  },
  {
   "cell_type": "code",
   "execution_count": 214,
   "metadata": {},
   "outputs": [],
   "source": [
    "df_tiempo[\"dia de la semana\"]=dia"
   ]
  },
  {
   "cell_type": "code",
   "execution_count": 234,
   "metadata": {},
   "outputs": [],
   "source": [
    "df_tiempo[\"dia del mes\"]=dia_del_mes"
   ]
  },
  {
   "cell_type": "code",
   "execution_count": 235,
   "metadata": {},
   "outputs": [],
   "source": [
    "dias_mes=df_tiempo.groupby(\"dia del mes\")[\"delito\"].count()"
   ]
  },
  {
   "cell_type": "code",
   "execution_count": 236,
   "metadata": {},
   "outputs": [],
   "source": [
    "dias_mes=pd.DataFrame(dias_mes)"
   ]
  },
  {
   "cell_type": "code",
   "execution_count": 237,
   "metadata": {},
   "outputs": [
    {
     "data": {
      "text/html": [
       "<div>\n",
       "<style scoped>\n",
       "    .dataframe tbody tr th:only-of-type {\n",
       "        vertical-align: middle;\n",
       "    }\n",
       "\n",
       "    .dataframe tbody tr th {\n",
       "        vertical-align: top;\n",
       "    }\n",
       "\n",
       "    .dataframe thead th {\n",
       "        text-align: right;\n",
       "    }\n",
       "</style>\n",
       "<table border=\"1\" class=\"dataframe\">\n",
       "  <thead>\n",
       "    <tr style=\"text-align: right;\">\n",
       "      <th></th>\n",
       "      <th>delito</th>\n",
       "    </tr>\n",
       "    <tr>\n",
       "      <th>dia del mes</th>\n",
       "      <th></th>\n",
       "    </tr>\n",
       "  </thead>\n",
       "  <tbody>\n",
       "    <tr>\n",
       "      <th>01</th>\n",
       "      <td>30834</td>\n",
       "    </tr>\n",
       "    <tr>\n",
       "      <th>02</th>\n",
       "      <td>25724</td>\n",
       "    </tr>\n",
       "    <tr>\n",
       "      <th>03</th>\n",
       "      <td>26292</td>\n",
       "    </tr>\n",
       "    <tr>\n",
       "      <th>04</th>\n",
       "      <td>26631</td>\n",
       "    </tr>\n",
       "    <tr>\n",
       "      <th>05</th>\n",
       "      <td>26964</td>\n",
       "    </tr>\n",
       "  </tbody>\n",
       "</table>\n",
       "</div>"
      ],
      "text/plain": [
       "             delito\n",
       "dia del mes        \n",
       "01            30834\n",
       "02            25724\n",
       "03            26292\n",
       "04            26631\n",
       "05            26964"
      ]
     },
     "execution_count": 237,
     "metadata": {},
     "output_type": "execute_result"
    }
   ],
   "source": [
    "dias_mes.head()"
   ]
  },
  {
   "cell_type": "code",
   "execution_count": 238,
   "metadata": {},
   "outputs": [],
   "source": [
    "dias_mes[\"dia\"]=dias_mes.index\n",
    "dias_mes.index=[i for i in range(len(dias_mes))]"
   ]
  },
  {
   "cell_type": "code",
   "execution_count": 239,
   "metadata": {},
   "outputs": [],
   "source": [
    "plantilla=pd.DataFrame(columns=[\"dia\",\"delito\"])"
   ]
  },
  {
   "cell_type": "code",
   "execution_count": 240,
   "metadata": {},
   "outputs": [],
   "source": [
    "dias_mes=plantilla.append(dias_mes)"
   ]
  },
  {
   "cell_type": "code",
   "execution_count": 242,
   "metadata": {},
   "outputs": [
    {
     "data": {
      "application/vnd.plotly.v1+json": {
       "config": {
        "plotlyServerURL": "https://plot.ly"
       },
       "data": [
        {
         "hovertemplate": "dia=%{x}<br>delito=%{y}<extra></extra>",
         "legendgroup": "",
         "line": {
          "color": "#636efa",
          "dash": "solid"
         },
         "mode": "lines",
         "name": "",
         "orientation": "v",
         "showlegend": false,
         "type": "scatter",
         "x": [
          "01",
          "02",
          "03",
          "04",
          "05",
          "06",
          "07",
          "08",
          "09",
          "10",
          "11",
          "12",
          "13",
          "14",
          "15",
          "16",
          "17",
          "18",
          "19",
          "20",
          "21",
          "22",
          "23",
          "24",
          "25",
          "26",
          "27",
          "28",
          "29",
          "30",
          "31"
         ],
         "xaxis": "x",
         "y": [
          30834,
          25724,
          26292,
          26631,
          26964,
          25665,
          26502,
          26455,
          25504,
          26645,
          25925,
          26212,
          25873,
          26124,
          29775,
          26314,
          26241,
          26149,
          25779,
          26817,
          25343,
          26463,
          26154,
          24996,
          25400,
          25830,
          25914,
          25755,
          23341,
          23834,
          14566
         ],
         "yaxis": "y"
        }
       ],
       "layout": {
        "legend": {
         "tracegroupgap": 0
        },
        "template": {
         "data": {
          "bar": [
           {
            "error_x": {
             "color": "#2a3f5f"
            },
            "error_y": {
             "color": "#2a3f5f"
            },
            "marker": {
             "line": {
              "color": "#E5ECF6",
              "width": 0.5
             }
            },
            "type": "bar"
           }
          ],
          "barpolar": [
           {
            "marker": {
             "line": {
              "color": "#E5ECF6",
              "width": 0.5
             }
            },
            "type": "barpolar"
           }
          ],
          "carpet": [
           {
            "aaxis": {
             "endlinecolor": "#2a3f5f",
             "gridcolor": "white",
             "linecolor": "white",
             "minorgridcolor": "white",
             "startlinecolor": "#2a3f5f"
            },
            "baxis": {
             "endlinecolor": "#2a3f5f",
             "gridcolor": "white",
             "linecolor": "white",
             "minorgridcolor": "white",
             "startlinecolor": "#2a3f5f"
            },
            "type": "carpet"
           }
          ],
          "choropleth": [
           {
            "colorbar": {
             "outlinewidth": 0,
             "ticks": ""
            },
            "type": "choropleth"
           }
          ],
          "contour": [
           {
            "colorbar": {
             "outlinewidth": 0,
             "ticks": ""
            },
            "colorscale": [
             [
              0,
              "#0d0887"
             ],
             [
              0.1111111111111111,
              "#46039f"
             ],
             [
              0.2222222222222222,
              "#7201a8"
             ],
             [
              0.3333333333333333,
              "#9c179e"
             ],
             [
              0.4444444444444444,
              "#bd3786"
             ],
             [
              0.5555555555555556,
              "#d8576b"
             ],
             [
              0.6666666666666666,
              "#ed7953"
             ],
             [
              0.7777777777777778,
              "#fb9f3a"
             ],
             [
              0.8888888888888888,
              "#fdca26"
             ],
             [
              1,
              "#f0f921"
             ]
            ],
            "type": "contour"
           }
          ],
          "contourcarpet": [
           {
            "colorbar": {
             "outlinewidth": 0,
             "ticks": ""
            },
            "type": "contourcarpet"
           }
          ],
          "heatmap": [
           {
            "colorbar": {
             "outlinewidth": 0,
             "ticks": ""
            },
            "colorscale": [
             [
              0,
              "#0d0887"
             ],
             [
              0.1111111111111111,
              "#46039f"
             ],
             [
              0.2222222222222222,
              "#7201a8"
             ],
             [
              0.3333333333333333,
              "#9c179e"
             ],
             [
              0.4444444444444444,
              "#bd3786"
             ],
             [
              0.5555555555555556,
              "#d8576b"
             ],
             [
              0.6666666666666666,
              "#ed7953"
             ],
             [
              0.7777777777777778,
              "#fb9f3a"
             ],
             [
              0.8888888888888888,
              "#fdca26"
             ],
             [
              1,
              "#f0f921"
             ]
            ],
            "type": "heatmap"
           }
          ],
          "heatmapgl": [
           {
            "colorbar": {
             "outlinewidth": 0,
             "ticks": ""
            },
            "colorscale": [
             [
              0,
              "#0d0887"
             ],
             [
              0.1111111111111111,
              "#46039f"
             ],
             [
              0.2222222222222222,
              "#7201a8"
             ],
             [
              0.3333333333333333,
              "#9c179e"
             ],
             [
              0.4444444444444444,
              "#bd3786"
             ],
             [
              0.5555555555555556,
              "#d8576b"
             ],
             [
              0.6666666666666666,
              "#ed7953"
             ],
             [
              0.7777777777777778,
              "#fb9f3a"
             ],
             [
              0.8888888888888888,
              "#fdca26"
             ],
             [
              1,
              "#f0f921"
             ]
            ],
            "type": "heatmapgl"
           }
          ],
          "histogram": [
           {
            "marker": {
             "colorbar": {
              "outlinewidth": 0,
              "ticks": ""
             }
            },
            "type": "histogram"
           }
          ],
          "histogram2d": [
           {
            "colorbar": {
             "outlinewidth": 0,
             "ticks": ""
            },
            "colorscale": [
             [
              0,
              "#0d0887"
             ],
             [
              0.1111111111111111,
              "#46039f"
             ],
             [
              0.2222222222222222,
              "#7201a8"
             ],
             [
              0.3333333333333333,
              "#9c179e"
             ],
             [
              0.4444444444444444,
              "#bd3786"
             ],
             [
              0.5555555555555556,
              "#d8576b"
             ],
             [
              0.6666666666666666,
              "#ed7953"
             ],
             [
              0.7777777777777778,
              "#fb9f3a"
             ],
             [
              0.8888888888888888,
              "#fdca26"
             ],
             [
              1,
              "#f0f921"
             ]
            ],
            "type": "histogram2d"
           }
          ],
          "histogram2dcontour": [
           {
            "colorbar": {
             "outlinewidth": 0,
             "ticks": ""
            },
            "colorscale": [
             [
              0,
              "#0d0887"
             ],
             [
              0.1111111111111111,
              "#46039f"
             ],
             [
              0.2222222222222222,
              "#7201a8"
             ],
             [
              0.3333333333333333,
              "#9c179e"
             ],
             [
              0.4444444444444444,
              "#bd3786"
             ],
             [
              0.5555555555555556,
              "#d8576b"
             ],
             [
              0.6666666666666666,
              "#ed7953"
             ],
             [
              0.7777777777777778,
              "#fb9f3a"
             ],
             [
              0.8888888888888888,
              "#fdca26"
             ],
             [
              1,
              "#f0f921"
             ]
            ],
            "type": "histogram2dcontour"
           }
          ],
          "mesh3d": [
           {
            "colorbar": {
             "outlinewidth": 0,
             "ticks": ""
            },
            "type": "mesh3d"
           }
          ],
          "parcoords": [
           {
            "line": {
             "colorbar": {
              "outlinewidth": 0,
              "ticks": ""
             }
            },
            "type": "parcoords"
           }
          ],
          "pie": [
           {
            "automargin": true,
            "type": "pie"
           }
          ],
          "scatter": [
           {
            "marker": {
             "colorbar": {
              "outlinewidth": 0,
              "ticks": ""
             }
            },
            "type": "scatter"
           }
          ],
          "scatter3d": [
           {
            "line": {
             "colorbar": {
              "outlinewidth": 0,
              "ticks": ""
             }
            },
            "marker": {
             "colorbar": {
              "outlinewidth": 0,
              "ticks": ""
             }
            },
            "type": "scatter3d"
           }
          ],
          "scattercarpet": [
           {
            "marker": {
             "colorbar": {
              "outlinewidth": 0,
              "ticks": ""
             }
            },
            "type": "scattercarpet"
           }
          ],
          "scattergeo": [
           {
            "marker": {
             "colorbar": {
              "outlinewidth": 0,
              "ticks": ""
             }
            },
            "type": "scattergeo"
           }
          ],
          "scattergl": [
           {
            "marker": {
             "colorbar": {
              "outlinewidth": 0,
              "ticks": ""
             }
            },
            "type": "scattergl"
           }
          ],
          "scattermapbox": [
           {
            "marker": {
             "colorbar": {
              "outlinewidth": 0,
              "ticks": ""
             }
            },
            "type": "scattermapbox"
           }
          ],
          "scatterpolar": [
           {
            "marker": {
             "colorbar": {
              "outlinewidth": 0,
              "ticks": ""
             }
            },
            "type": "scatterpolar"
           }
          ],
          "scatterpolargl": [
           {
            "marker": {
             "colorbar": {
              "outlinewidth": 0,
              "ticks": ""
             }
            },
            "type": "scatterpolargl"
           }
          ],
          "scatterternary": [
           {
            "marker": {
             "colorbar": {
              "outlinewidth": 0,
              "ticks": ""
             }
            },
            "type": "scatterternary"
           }
          ],
          "surface": [
           {
            "colorbar": {
             "outlinewidth": 0,
             "ticks": ""
            },
            "colorscale": [
             [
              0,
              "#0d0887"
             ],
             [
              0.1111111111111111,
              "#46039f"
             ],
             [
              0.2222222222222222,
              "#7201a8"
             ],
             [
              0.3333333333333333,
              "#9c179e"
             ],
             [
              0.4444444444444444,
              "#bd3786"
             ],
             [
              0.5555555555555556,
              "#d8576b"
             ],
             [
              0.6666666666666666,
              "#ed7953"
             ],
             [
              0.7777777777777778,
              "#fb9f3a"
             ],
             [
              0.8888888888888888,
              "#fdca26"
             ],
             [
              1,
              "#f0f921"
             ]
            ],
            "type": "surface"
           }
          ],
          "table": [
           {
            "cells": {
             "fill": {
              "color": "#EBF0F8"
             },
             "line": {
              "color": "white"
             }
            },
            "header": {
             "fill": {
              "color": "#C8D4E3"
             },
             "line": {
              "color": "white"
             }
            },
            "type": "table"
           }
          ]
         },
         "layout": {
          "annotationdefaults": {
           "arrowcolor": "#2a3f5f",
           "arrowhead": 0,
           "arrowwidth": 1
          },
          "coloraxis": {
           "colorbar": {
            "outlinewidth": 0,
            "ticks": ""
           }
          },
          "colorscale": {
           "diverging": [
            [
             0,
             "#8e0152"
            ],
            [
             0.1,
             "#c51b7d"
            ],
            [
             0.2,
             "#de77ae"
            ],
            [
             0.3,
             "#f1b6da"
            ],
            [
             0.4,
             "#fde0ef"
            ],
            [
             0.5,
             "#f7f7f7"
            ],
            [
             0.6,
             "#e6f5d0"
            ],
            [
             0.7,
             "#b8e186"
            ],
            [
             0.8,
             "#7fbc41"
            ],
            [
             0.9,
             "#4d9221"
            ],
            [
             1,
             "#276419"
            ]
           ],
           "sequential": [
            [
             0,
             "#0d0887"
            ],
            [
             0.1111111111111111,
             "#46039f"
            ],
            [
             0.2222222222222222,
             "#7201a8"
            ],
            [
             0.3333333333333333,
             "#9c179e"
            ],
            [
             0.4444444444444444,
             "#bd3786"
            ],
            [
             0.5555555555555556,
             "#d8576b"
            ],
            [
             0.6666666666666666,
             "#ed7953"
            ],
            [
             0.7777777777777778,
             "#fb9f3a"
            ],
            [
             0.8888888888888888,
             "#fdca26"
            ],
            [
             1,
             "#f0f921"
            ]
           ],
           "sequentialminus": [
            [
             0,
             "#0d0887"
            ],
            [
             0.1111111111111111,
             "#46039f"
            ],
            [
             0.2222222222222222,
             "#7201a8"
            ],
            [
             0.3333333333333333,
             "#9c179e"
            ],
            [
             0.4444444444444444,
             "#bd3786"
            ],
            [
             0.5555555555555556,
             "#d8576b"
            ],
            [
             0.6666666666666666,
             "#ed7953"
            ],
            [
             0.7777777777777778,
             "#fb9f3a"
            ],
            [
             0.8888888888888888,
             "#fdca26"
            ],
            [
             1,
             "#f0f921"
            ]
           ]
          },
          "colorway": [
           "#636efa",
           "#EF553B",
           "#00cc96",
           "#ab63fa",
           "#FFA15A",
           "#19d3f3",
           "#FF6692",
           "#B6E880",
           "#FF97FF",
           "#FECB52"
          ],
          "font": {
           "color": "#2a3f5f"
          },
          "geo": {
           "bgcolor": "white",
           "lakecolor": "white",
           "landcolor": "#E5ECF6",
           "showlakes": true,
           "showland": true,
           "subunitcolor": "white"
          },
          "hoverlabel": {
           "align": "left"
          },
          "hovermode": "closest",
          "mapbox": {
           "style": "light"
          },
          "paper_bgcolor": "white",
          "plot_bgcolor": "#E5ECF6",
          "polar": {
           "angularaxis": {
            "gridcolor": "white",
            "linecolor": "white",
            "ticks": ""
           },
           "bgcolor": "#E5ECF6",
           "radialaxis": {
            "gridcolor": "white",
            "linecolor": "white",
            "ticks": ""
           }
          },
          "scene": {
           "xaxis": {
            "backgroundcolor": "#E5ECF6",
            "gridcolor": "white",
            "gridwidth": 2,
            "linecolor": "white",
            "showbackground": true,
            "ticks": "",
            "zerolinecolor": "white"
           },
           "yaxis": {
            "backgroundcolor": "#E5ECF6",
            "gridcolor": "white",
            "gridwidth": 2,
            "linecolor": "white",
            "showbackground": true,
            "ticks": "",
            "zerolinecolor": "white"
           },
           "zaxis": {
            "backgroundcolor": "#E5ECF6",
            "gridcolor": "white",
            "gridwidth": 2,
            "linecolor": "white",
            "showbackground": true,
            "ticks": "",
            "zerolinecolor": "white"
           }
          },
          "shapedefaults": {
           "line": {
            "color": "#2a3f5f"
           }
          },
          "ternary": {
           "aaxis": {
            "gridcolor": "white",
            "linecolor": "white",
            "ticks": ""
           },
           "baxis": {
            "gridcolor": "white",
            "linecolor": "white",
            "ticks": ""
           },
           "bgcolor": "#E5ECF6",
           "caxis": {
            "gridcolor": "white",
            "linecolor": "white",
            "ticks": ""
           }
          },
          "title": {
           "x": 0.05
          },
          "xaxis": {
           "automargin": true,
           "gridcolor": "white",
           "linecolor": "white",
           "ticks": "",
           "title": {
            "standoff": 15
           },
           "zerolinecolor": "white",
           "zerolinewidth": 2
          },
          "yaxis": {
           "automargin": true,
           "gridcolor": "white",
           "linecolor": "white",
           "ticks": "",
           "title": {
            "standoff": 15
           },
           "zerolinecolor": "white",
           "zerolinewidth": 2
          }
         }
        },
        "title": {
         "text": "numero de delitos por dia"
        },
        "xaxis": {
         "anchor": "y",
         "domain": [
          0,
          1
         ],
         "title": {
          "text": "dia"
         }
        },
        "yaxis": {
         "anchor": "x",
         "domain": [
          0,
          1
         ],
         "title": {
          "text": "delito"
         }
        }
       }
      },
      "text/html": [
       "<div>\n",
       "        \n",
       "        \n",
       "            <div id=\"93ba7f23-1f01-43db-83f4-da10637d50ad\" class=\"plotly-graph-div\" style=\"height:525px; width:100%;\"></div>\n",
       "            <script type=\"text/javascript\">\n",
       "                require([\"plotly\"], function(Plotly) {\n",
       "                    window.PLOTLYENV=window.PLOTLYENV || {};\n",
       "                    \n",
       "                if (document.getElementById(\"93ba7f23-1f01-43db-83f4-da10637d50ad\")) {\n",
       "                    Plotly.newPlot(\n",
       "                        '93ba7f23-1f01-43db-83f4-da10637d50ad',\n",
       "                        [{\"hovertemplate\": \"dia=%{x}<br>delito=%{y}<extra></extra>\", \"legendgroup\": \"\", \"line\": {\"color\": \"#636efa\", \"dash\": \"solid\"}, \"mode\": \"lines\", \"name\": \"\", \"orientation\": \"v\", \"showlegend\": false, \"type\": \"scatter\", \"x\": [\"01\", \"02\", \"03\", \"04\", \"05\", \"06\", \"07\", \"08\", \"09\", \"10\", \"11\", \"12\", \"13\", \"14\", \"15\", \"16\", \"17\", \"18\", \"19\", \"20\", \"21\", \"22\", \"23\", \"24\", \"25\", \"26\", \"27\", \"28\", \"29\", \"30\", \"31\"], \"xaxis\": \"x\", \"y\": [30834, 25724, 26292, 26631, 26964, 25665, 26502, 26455, 25504, 26645, 25925, 26212, 25873, 26124, 29775, 26314, 26241, 26149, 25779, 26817, 25343, 26463, 26154, 24996, 25400, 25830, 25914, 25755, 23341, 23834, 14566], \"yaxis\": \"y\"}],\n",
       "                        {\"legend\": {\"tracegroupgap\": 0}, \"template\": {\"data\": {\"bar\": [{\"error_x\": {\"color\": \"#2a3f5f\"}, \"error_y\": {\"color\": \"#2a3f5f\"}, \"marker\": {\"line\": {\"color\": \"#E5ECF6\", \"width\": 0.5}}, \"type\": \"bar\"}], \"barpolar\": [{\"marker\": {\"line\": {\"color\": \"#E5ECF6\", \"width\": 0.5}}, \"type\": \"barpolar\"}], \"carpet\": [{\"aaxis\": {\"endlinecolor\": \"#2a3f5f\", \"gridcolor\": \"white\", \"linecolor\": \"white\", \"minorgridcolor\": \"white\", \"startlinecolor\": \"#2a3f5f\"}, \"baxis\": {\"endlinecolor\": \"#2a3f5f\", \"gridcolor\": \"white\", \"linecolor\": \"white\", \"minorgridcolor\": \"white\", \"startlinecolor\": \"#2a3f5f\"}, \"type\": \"carpet\"}], \"choropleth\": [{\"colorbar\": {\"outlinewidth\": 0, \"ticks\": \"\"}, \"type\": \"choropleth\"}], \"contour\": [{\"colorbar\": {\"outlinewidth\": 0, \"ticks\": \"\"}, \"colorscale\": [[0.0, \"#0d0887\"], [0.1111111111111111, \"#46039f\"], [0.2222222222222222, \"#7201a8\"], [0.3333333333333333, \"#9c179e\"], [0.4444444444444444, \"#bd3786\"], [0.5555555555555556, \"#d8576b\"], [0.6666666666666666, \"#ed7953\"], [0.7777777777777778, \"#fb9f3a\"], [0.8888888888888888, \"#fdca26\"], [1.0, \"#f0f921\"]], \"type\": \"contour\"}], \"contourcarpet\": [{\"colorbar\": {\"outlinewidth\": 0, \"ticks\": \"\"}, \"type\": \"contourcarpet\"}], \"heatmap\": [{\"colorbar\": {\"outlinewidth\": 0, \"ticks\": \"\"}, \"colorscale\": [[0.0, \"#0d0887\"], [0.1111111111111111, \"#46039f\"], [0.2222222222222222, \"#7201a8\"], [0.3333333333333333, \"#9c179e\"], [0.4444444444444444, \"#bd3786\"], [0.5555555555555556, \"#d8576b\"], [0.6666666666666666, \"#ed7953\"], [0.7777777777777778, \"#fb9f3a\"], [0.8888888888888888, \"#fdca26\"], [1.0, \"#f0f921\"]], \"type\": \"heatmap\"}], \"heatmapgl\": [{\"colorbar\": {\"outlinewidth\": 0, \"ticks\": \"\"}, \"colorscale\": [[0.0, \"#0d0887\"], [0.1111111111111111, \"#46039f\"], [0.2222222222222222, \"#7201a8\"], [0.3333333333333333, \"#9c179e\"], [0.4444444444444444, \"#bd3786\"], [0.5555555555555556, \"#d8576b\"], [0.6666666666666666, \"#ed7953\"], [0.7777777777777778, \"#fb9f3a\"], [0.8888888888888888, \"#fdca26\"], [1.0, \"#f0f921\"]], \"type\": \"heatmapgl\"}], \"histogram\": [{\"marker\": {\"colorbar\": {\"outlinewidth\": 0, \"ticks\": \"\"}}, \"type\": \"histogram\"}], \"histogram2d\": [{\"colorbar\": {\"outlinewidth\": 0, \"ticks\": \"\"}, \"colorscale\": [[0.0, \"#0d0887\"], [0.1111111111111111, \"#46039f\"], [0.2222222222222222, \"#7201a8\"], [0.3333333333333333, \"#9c179e\"], [0.4444444444444444, \"#bd3786\"], [0.5555555555555556, \"#d8576b\"], [0.6666666666666666, \"#ed7953\"], [0.7777777777777778, \"#fb9f3a\"], [0.8888888888888888, \"#fdca26\"], [1.0, \"#f0f921\"]], \"type\": \"histogram2d\"}], \"histogram2dcontour\": [{\"colorbar\": {\"outlinewidth\": 0, \"ticks\": \"\"}, \"colorscale\": [[0.0, \"#0d0887\"], [0.1111111111111111, \"#46039f\"], [0.2222222222222222, \"#7201a8\"], [0.3333333333333333, \"#9c179e\"], [0.4444444444444444, \"#bd3786\"], [0.5555555555555556, \"#d8576b\"], [0.6666666666666666, \"#ed7953\"], [0.7777777777777778, \"#fb9f3a\"], [0.8888888888888888, \"#fdca26\"], [1.0, \"#f0f921\"]], \"type\": \"histogram2dcontour\"}], \"mesh3d\": [{\"colorbar\": {\"outlinewidth\": 0, \"ticks\": \"\"}, \"type\": \"mesh3d\"}], \"parcoords\": [{\"line\": {\"colorbar\": {\"outlinewidth\": 0, \"ticks\": \"\"}}, \"type\": \"parcoords\"}], \"pie\": [{\"automargin\": true, \"type\": \"pie\"}], \"scatter\": [{\"marker\": {\"colorbar\": {\"outlinewidth\": 0, \"ticks\": \"\"}}, \"type\": \"scatter\"}], \"scatter3d\": [{\"line\": {\"colorbar\": {\"outlinewidth\": 0, \"ticks\": \"\"}}, \"marker\": {\"colorbar\": {\"outlinewidth\": 0, \"ticks\": \"\"}}, \"type\": \"scatter3d\"}], \"scattercarpet\": [{\"marker\": {\"colorbar\": {\"outlinewidth\": 0, \"ticks\": \"\"}}, \"type\": \"scattercarpet\"}], \"scattergeo\": [{\"marker\": {\"colorbar\": {\"outlinewidth\": 0, \"ticks\": \"\"}}, \"type\": \"scattergeo\"}], \"scattergl\": [{\"marker\": {\"colorbar\": {\"outlinewidth\": 0, \"ticks\": \"\"}}, \"type\": \"scattergl\"}], \"scattermapbox\": [{\"marker\": {\"colorbar\": {\"outlinewidth\": 0, \"ticks\": \"\"}}, \"type\": \"scattermapbox\"}], \"scatterpolar\": [{\"marker\": {\"colorbar\": {\"outlinewidth\": 0, \"ticks\": \"\"}}, \"type\": \"scatterpolar\"}], \"scatterpolargl\": [{\"marker\": {\"colorbar\": {\"outlinewidth\": 0, \"ticks\": \"\"}}, \"type\": \"scatterpolargl\"}], \"scatterternary\": [{\"marker\": {\"colorbar\": {\"outlinewidth\": 0, \"ticks\": \"\"}}, \"type\": \"scatterternary\"}], \"surface\": [{\"colorbar\": {\"outlinewidth\": 0, \"ticks\": \"\"}, \"colorscale\": [[0.0, \"#0d0887\"], [0.1111111111111111, \"#46039f\"], [0.2222222222222222, \"#7201a8\"], [0.3333333333333333, \"#9c179e\"], [0.4444444444444444, \"#bd3786\"], [0.5555555555555556, \"#d8576b\"], [0.6666666666666666, \"#ed7953\"], [0.7777777777777778, \"#fb9f3a\"], [0.8888888888888888, \"#fdca26\"], [1.0, \"#f0f921\"]], \"type\": \"surface\"}], \"table\": [{\"cells\": {\"fill\": {\"color\": \"#EBF0F8\"}, \"line\": {\"color\": \"white\"}}, \"header\": {\"fill\": {\"color\": \"#C8D4E3\"}, \"line\": {\"color\": \"white\"}}, \"type\": \"table\"}]}, \"layout\": {\"annotationdefaults\": {\"arrowcolor\": \"#2a3f5f\", \"arrowhead\": 0, \"arrowwidth\": 1}, \"coloraxis\": {\"colorbar\": {\"outlinewidth\": 0, \"ticks\": \"\"}}, \"colorscale\": {\"diverging\": [[0, \"#8e0152\"], [0.1, \"#c51b7d\"], [0.2, \"#de77ae\"], [0.3, \"#f1b6da\"], [0.4, \"#fde0ef\"], [0.5, \"#f7f7f7\"], [0.6, \"#e6f5d0\"], [0.7, \"#b8e186\"], [0.8, \"#7fbc41\"], [0.9, \"#4d9221\"], [1, \"#276419\"]], \"sequential\": [[0.0, \"#0d0887\"], [0.1111111111111111, \"#46039f\"], [0.2222222222222222, \"#7201a8\"], [0.3333333333333333, \"#9c179e\"], [0.4444444444444444, \"#bd3786\"], [0.5555555555555556, \"#d8576b\"], [0.6666666666666666, \"#ed7953\"], [0.7777777777777778, \"#fb9f3a\"], [0.8888888888888888, \"#fdca26\"], [1.0, \"#f0f921\"]], \"sequentialminus\": [[0.0, \"#0d0887\"], [0.1111111111111111, \"#46039f\"], [0.2222222222222222, \"#7201a8\"], [0.3333333333333333, \"#9c179e\"], [0.4444444444444444, \"#bd3786\"], [0.5555555555555556, \"#d8576b\"], [0.6666666666666666, \"#ed7953\"], [0.7777777777777778, \"#fb9f3a\"], [0.8888888888888888, \"#fdca26\"], [1.0, \"#f0f921\"]]}, \"colorway\": [\"#636efa\", \"#EF553B\", \"#00cc96\", \"#ab63fa\", \"#FFA15A\", \"#19d3f3\", \"#FF6692\", \"#B6E880\", \"#FF97FF\", \"#FECB52\"], \"font\": {\"color\": \"#2a3f5f\"}, \"geo\": {\"bgcolor\": \"white\", \"lakecolor\": \"white\", \"landcolor\": \"#E5ECF6\", \"showlakes\": true, \"showland\": true, \"subunitcolor\": \"white\"}, \"hoverlabel\": {\"align\": \"left\"}, \"hovermode\": \"closest\", \"mapbox\": {\"style\": \"light\"}, \"paper_bgcolor\": \"white\", \"plot_bgcolor\": \"#E5ECF6\", \"polar\": {\"angularaxis\": {\"gridcolor\": \"white\", \"linecolor\": \"white\", \"ticks\": \"\"}, \"bgcolor\": \"#E5ECF6\", \"radialaxis\": {\"gridcolor\": \"white\", \"linecolor\": \"white\", \"ticks\": \"\"}}, \"scene\": {\"xaxis\": {\"backgroundcolor\": \"#E5ECF6\", \"gridcolor\": \"white\", \"gridwidth\": 2, \"linecolor\": \"white\", \"showbackground\": true, \"ticks\": \"\", \"zerolinecolor\": \"white\"}, \"yaxis\": {\"backgroundcolor\": \"#E5ECF6\", \"gridcolor\": \"white\", \"gridwidth\": 2, \"linecolor\": \"white\", \"showbackground\": true, \"ticks\": \"\", \"zerolinecolor\": \"white\"}, \"zaxis\": {\"backgroundcolor\": \"#E5ECF6\", \"gridcolor\": \"white\", \"gridwidth\": 2, \"linecolor\": \"white\", \"showbackground\": true, \"ticks\": \"\", \"zerolinecolor\": \"white\"}}, \"shapedefaults\": {\"line\": {\"color\": \"#2a3f5f\"}}, \"ternary\": {\"aaxis\": {\"gridcolor\": \"white\", \"linecolor\": \"white\", \"ticks\": \"\"}, \"baxis\": {\"gridcolor\": \"white\", \"linecolor\": \"white\", \"ticks\": \"\"}, \"bgcolor\": \"#E5ECF6\", \"caxis\": {\"gridcolor\": \"white\", \"linecolor\": \"white\", \"ticks\": \"\"}}, \"title\": {\"x\": 0.05}, \"xaxis\": {\"automargin\": true, \"gridcolor\": \"white\", \"linecolor\": \"white\", \"ticks\": \"\", \"title\": {\"standoff\": 15}, \"zerolinecolor\": \"white\", \"zerolinewidth\": 2}, \"yaxis\": {\"automargin\": true, \"gridcolor\": \"white\", \"linecolor\": \"white\", \"ticks\": \"\", \"title\": {\"standoff\": 15}, \"zerolinecolor\": \"white\", \"zerolinewidth\": 2}}}, \"title\": {\"text\": \"numero de delitos por dia\"}, \"xaxis\": {\"anchor\": \"y\", \"domain\": [0.0, 1.0], \"title\": {\"text\": \"dia\"}}, \"yaxis\": {\"anchor\": \"x\", \"domain\": [0.0, 1.0], \"title\": {\"text\": \"delito\"}}},\n",
       "                        {\"responsive\": true}\n",
       "                    ).then(function(){\n",
       "                            \n",
       "var gd = document.getElementById('93ba7f23-1f01-43db-83f4-da10637d50ad');\n",
       "var x = new MutationObserver(function (mutations, observer) {{\n",
       "        var display = window.getComputedStyle(gd).display;\n",
       "        if (!display || display === 'none') {{\n",
       "            console.log([gd, 'removed!']);\n",
       "            Plotly.purge(gd);\n",
       "            observer.disconnect();\n",
       "        }}\n",
       "}});\n",
       "\n",
       "// Listen for the removal of the full notebook cells\n",
       "var notebookContainer = gd.closest('#notebook-container');\n",
       "if (notebookContainer) {{\n",
       "    x.observe(notebookContainer, {childList: true});\n",
       "}}\n",
       "\n",
       "// Listen for the clearing of the current output cell\n",
       "var outputEl = gd.closest('.output');\n",
       "if (outputEl) {{\n",
       "    x.observe(outputEl, {childList: true});\n",
       "}}\n",
       "\n",
       "                        })\n",
       "                };\n",
       "                });\n",
       "            </script>\n",
       "        </div>"
      ]
     },
     "metadata": {},
     "output_type": "display_data"
    }
   ],
   "source": [
    "df_x = dias_mes\n",
    "fig = px.line(df_x, x=\"dia\", y=\"delito\", title='numero de delitos por dia')\n",
    "fig.show()"
   ]
  },
  {
   "cell_type": "markdown",
   "metadata": {},
   "source": [
    "El día 31 disminuyen y el el día 1 y 15 aumentan los delitos"
   ]
  },
  {
   "cell_type": "code",
   "execution_count": 243,
   "metadata": {},
   "outputs": [
    {
     "data": {
      "text/plain": [
       "{'Friday': 125203,\n",
       " 'Monday': 119652,\n",
       " 'Saturday': 104218,\n",
       " 'Sunday': 93161,\n",
       " 'Thursday': 118719,\n",
       " 'Tuesday': 118942,\n",
       " 'Wednesday': 120126}"
      ]
     },
     "execution_count": 243,
     "metadata": {},
     "output_type": "execute_result"
    }
   ],
   "source": [
    "dict(df_tiempo.groupby(\"dia de la semana\")[\"delito\"].count())"
   ]
  },
  {
   "cell_type": "code",
   "execution_count": 248,
   "metadata": {},
   "outputs": [],
   "source": [
    "dias_semana=dict({'Lunes': 119652,'Martes': 118942,'Miercoles': 120126,\n",
    "                 'Jueves': 118719,'Viernes': 125203,'Sabado': 104218,'Domingo': 93161})"
   ]
  },
  {
   "cell_type": "code",
   "execution_count": 249,
   "metadata": {},
   "outputs": [],
   "source": [
    "dias_semana_ordenada=pd.DataFrame(columns=[\"dia\",\"delito\"])"
   ]
  },
  {
   "cell_type": "code",
   "execution_count": 252,
   "metadata": {},
   "outputs": [],
   "source": [
    "dias_semana_ordenada[\"dia\"]=dias_semana.keys()\n",
    "dias_semana_ordenada[\"delito\"]=dias_semana.values()"
   ]
  },
  {
   "cell_type": "code",
   "execution_count": 253,
   "metadata": {},
   "outputs": [
    {
     "data": {
      "application/vnd.plotly.v1+json": {
       "config": {
        "plotlyServerURL": "https://plot.ly"
       },
       "data": [
        {
         "hovertemplate": "dia=%{x}<br>delito=%{y}<extra></extra>",
         "legendgroup": "",
         "line": {
          "color": "#636efa",
          "dash": "solid"
         },
         "mode": "lines",
         "name": "",
         "orientation": "v",
         "showlegend": false,
         "type": "scatter",
         "x": [
          "Lunes",
          "Martes",
          "Miercoles",
          "Jueves",
          "Viernes",
          "Sabado",
          "Domingo"
         ],
         "xaxis": "x",
         "y": [
          119652,
          118942,
          120126,
          118719,
          125203,
          104218,
          93161
         ],
         "yaxis": "y"
        }
       ],
       "layout": {
        "legend": {
         "tracegroupgap": 0
        },
        "template": {
         "data": {
          "bar": [
           {
            "error_x": {
             "color": "#2a3f5f"
            },
            "error_y": {
             "color": "#2a3f5f"
            },
            "marker": {
             "line": {
              "color": "#E5ECF6",
              "width": 0.5
             }
            },
            "type": "bar"
           }
          ],
          "barpolar": [
           {
            "marker": {
             "line": {
              "color": "#E5ECF6",
              "width": 0.5
             }
            },
            "type": "barpolar"
           }
          ],
          "carpet": [
           {
            "aaxis": {
             "endlinecolor": "#2a3f5f",
             "gridcolor": "white",
             "linecolor": "white",
             "minorgridcolor": "white",
             "startlinecolor": "#2a3f5f"
            },
            "baxis": {
             "endlinecolor": "#2a3f5f",
             "gridcolor": "white",
             "linecolor": "white",
             "minorgridcolor": "white",
             "startlinecolor": "#2a3f5f"
            },
            "type": "carpet"
           }
          ],
          "choropleth": [
           {
            "colorbar": {
             "outlinewidth": 0,
             "ticks": ""
            },
            "type": "choropleth"
           }
          ],
          "contour": [
           {
            "colorbar": {
             "outlinewidth": 0,
             "ticks": ""
            },
            "colorscale": [
             [
              0,
              "#0d0887"
             ],
             [
              0.1111111111111111,
              "#46039f"
             ],
             [
              0.2222222222222222,
              "#7201a8"
             ],
             [
              0.3333333333333333,
              "#9c179e"
             ],
             [
              0.4444444444444444,
              "#bd3786"
             ],
             [
              0.5555555555555556,
              "#d8576b"
             ],
             [
              0.6666666666666666,
              "#ed7953"
             ],
             [
              0.7777777777777778,
              "#fb9f3a"
             ],
             [
              0.8888888888888888,
              "#fdca26"
             ],
             [
              1,
              "#f0f921"
             ]
            ],
            "type": "contour"
           }
          ],
          "contourcarpet": [
           {
            "colorbar": {
             "outlinewidth": 0,
             "ticks": ""
            },
            "type": "contourcarpet"
           }
          ],
          "heatmap": [
           {
            "colorbar": {
             "outlinewidth": 0,
             "ticks": ""
            },
            "colorscale": [
             [
              0,
              "#0d0887"
             ],
             [
              0.1111111111111111,
              "#46039f"
             ],
             [
              0.2222222222222222,
              "#7201a8"
             ],
             [
              0.3333333333333333,
              "#9c179e"
             ],
             [
              0.4444444444444444,
              "#bd3786"
             ],
             [
              0.5555555555555556,
              "#d8576b"
             ],
             [
              0.6666666666666666,
              "#ed7953"
             ],
             [
              0.7777777777777778,
              "#fb9f3a"
             ],
             [
              0.8888888888888888,
              "#fdca26"
             ],
             [
              1,
              "#f0f921"
             ]
            ],
            "type": "heatmap"
           }
          ],
          "heatmapgl": [
           {
            "colorbar": {
             "outlinewidth": 0,
             "ticks": ""
            },
            "colorscale": [
             [
              0,
              "#0d0887"
             ],
             [
              0.1111111111111111,
              "#46039f"
             ],
             [
              0.2222222222222222,
              "#7201a8"
             ],
             [
              0.3333333333333333,
              "#9c179e"
             ],
             [
              0.4444444444444444,
              "#bd3786"
             ],
             [
              0.5555555555555556,
              "#d8576b"
             ],
             [
              0.6666666666666666,
              "#ed7953"
             ],
             [
              0.7777777777777778,
              "#fb9f3a"
             ],
             [
              0.8888888888888888,
              "#fdca26"
             ],
             [
              1,
              "#f0f921"
             ]
            ],
            "type": "heatmapgl"
           }
          ],
          "histogram": [
           {
            "marker": {
             "colorbar": {
              "outlinewidth": 0,
              "ticks": ""
             }
            },
            "type": "histogram"
           }
          ],
          "histogram2d": [
           {
            "colorbar": {
             "outlinewidth": 0,
             "ticks": ""
            },
            "colorscale": [
             [
              0,
              "#0d0887"
             ],
             [
              0.1111111111111111,
              "#46039f"
             ],
             [
              0.2222222222222222,
              "#7201a8"
             ],
             [
              0.3333333333333333,
              "#9c179e"
             ],
             [
              0.4444444444444444,
              "#bd3786"
             ],
             [
              0.5555555555555556,
              "#d8576b"
             ],
             [
              0.6666666666666666,
              "#ed7953"
             ],
             [
              0.7777777777777778,
              "#fb9f3a"
             ],
             [
              0.8888888888888888,
              "#fdca26"
             ],
             [
              1,
              "#f0f921"
             ]
            ],
            "type": "histogram2d"
           }
          ],
          "histogram2dcontour": [
           {
            "colorbar": {
             "outlinewidth": 0,
             "ticks": ""
            },
            "colorscale": [
             [
              0,
              "#0d0887"
             ],
             [
              0.1111111111111111,
              "#46039f"
             ],
             [
              0.2222222222222222,
              "#7201a8"
             ],
             [
              0.3333333333333333,
              "#9c179e"
             ],
             [
              0.4444444444444444,
              "#bd3786"
             ],
             [
              0.5555555555555556,
              "#d8576b"
             ],
             [
              0.6666666666666666,
              "#ed7953"
             ],
             [
              0.7777777777777778,
              "#fb9f3a"
             ],
             [
              0.8888888888888888,
              "#fdca26"
             ],
             [
              1,
              "#f0f921"
             ]
            ],
            "type": "histogram2dcontour"
           }
          ],
          "mesh3d": [
           {
            "colorbar": {
             "outlinewidth": 0,
             "ticks": ""
            },
            "type": "mesh3d"
           }
          ],
          "parcoords": [
           {
            "line": {
             "colorbar": {
              "outlinewidth": 0,
              "ticks": ""
             }
            },
            "type": "parcoords"
           }
          ],
          "pie": [
           {
            "automargin": true,
            "type": "pie"
           }
          ],
          "scatter": [
           {
            "marker": {
             "colorbar": {
              "outlinewidth": 0,
              "ticks": ""
             }
            },
            "type": "scatter"
           }
          ],
          "scatter3d": [
           {
            "line": {
             "colorbar": {
              "outlinewidth": 0,
              "ticks": ""
             }
            },
            "marker": {
             "colorbar": {
              "outlinewidth": 0,
              "ticks": ""
             }
            },
            "type": "scatter3d"
           }
          ],
          "scattercarpet": [
           {
            "marker": {
             "colorbar": {
              "outlinewidth": 0,
              "ticks": ""
             }
            },
            "type": "scattercarpet"
           }
          ],
          "scattergeo": [
           {
            "marker": {
             "colorbar": {
              "outlinewidth": 0,
              "ticks": ""
             }
            },
            "type": "scattergeo"
           }
          ],
          "scattergl": [
           {
            "marker": {
             "colorbar": {
              "outlinewidth": 0,
              "ticks": ""
             }
            },
            "type": "scattergl"
           }
          ],
          "scattermapbox": [
           {
            "marker": {
             "colorbar": {
              "outlinewidth": 0,
              "ticks": ""
             }
            },
            "type": "scattermapbox"
           }
          ],
          "scatterpolar": [
           {
            "marker": {
             "colorbar": {
              "outlinewidth": 0,
              "ticks": ""
             }
            },
            "type": "scatterpolar"
           }
          ],
          "scatterpolargl": [
           {
            "marker": {
             "colorbar": {
              "outlinewidth": 0,
              "ticks": ""
             }
            },
            "type": "scatterpolargl"
           }
          ],
          "scatterternary": [
           {
            "marker": {
             "colorbar": {
              "outlinewidth": 0,
              "ticks": ""
             }
            },
            "type": "scatterternary"
           }
          ],
          "surface": [
           {
            "colorbar": {
             "outlinewidth": 0,
             "ticks": ""
            },
            "colorscale": [
             [
              0,
              "#0d0887"
             ],
             [
              0.1111111111111111,
              "#46039f"
             ],
             [
              0.2222222222222222,
              "#7201a8"
             ],
             [
              0.3333333333333333,
              "#9c179e"
             ],
             [
              0.4444444444444444,
              "#bd3786"
             ],
             [
              0.5555555555555556,
              "#d8576b"
             ],
             [
              0.6666666666666666,
              "#ed7953"
             ],
             [
              0.7777777777777778,
              "#fb9f3a"
             ],
             [
              0.8888888888888888,
              "#fdca26"
             ],
             [
              1,
              "#f0f921"
             ]
            ],
            "type": "surface"
           }
          ],
          "table": [
           {
            "cells": {
             "fill": {
              "color": "#EBF0F8"
             },
             "line": {
              "color": "white"
             }
            },
            "header": {
             "fill": {
              "color": "#C8D4E3"
             },
             "line": {
              "color": "white"
             }
            },
            "type": "table"
           }
          ]
         },
         "layout": {
          "annotationdefaults": {
           "arrowcolor": "#2a3f5f",
           "arrowhead": 0,
           "arrowwidth": 1
          },
          "coloraxis": {
           "colorbar": {
            "outlinewidth": 0,
            "ticks": ""
           }
          },
          "colorscale": {
           "diverging": [
            [
             0,
             "#8e0152"
            ],
            [
             0.1,
             "#c51b7d"
            ],
            [
             0.2,
             "#de77ae"
            ],
            [
             0.3,
             "#f1b6da"
            ],
            [
             0.4,
             "#fde0ef"
            ],
            [
             0.5,
             "#f7f7f7"
            ],
            [
             0.6,
             "#e6f5d0"
            ],
            [
             0.7,
             "#b8e186"
            ],
            [
             0.8,
             "#7fbc41"
            ],
            [
             0.9,
             "#4d9221"
            ],
            [
             1,
             "#276419"
            ]
           ],
           "sequential": [
            [
             0,
             "#0d0887"
            ],
            [
             0.1111111111111111,
             "#46039f"
            ],
            [
             0.2222222222222222,
             "#7201a8"
            ],
            [
             0.3333333333333333,
             "#9c179e"
            ],
            [
             0.4444444444444444,
             "#bd3786"
            ],
            [
             0.5555555555555556,
             "#d8576b"
            ],
            [
             0.6666666666666666,
             "#ed7953"
            ],
            [
             0.7777777777777778,
             "#fb9f3a"
            ],
            [
             0.8888888888888888,
             "#fdca26"
            ],
            [
             1,
             "#f0f921"
            ]
           ],
           "sequentialminus": [
            [
             0,
             "#0d0887"
            ],
            [
             0.1111111111111111,
             "#46039f"
            ],
            [
             0.2222222222222222,
             "#7201a8"
            ],
            [
             0.3333333333333333,
             "#9c179e"
            ],
            [
             0.4444444444444444,
             "#bd3786"
            ],
            [
             0.5555555555555556,
             "#d8576b"
            ],
            [
             0.6666666666666666,
             "#ed7953"
            ],
            [
             0.7777777777777778,
             "#fb9f3a"
            ],
            [
             0.8888888888888888,
             "#fdca26"
            ],
            [
             1,
             "#f0f921"
            ]
           ]
          },
          "colorway": [
           "#636efa",
           "#EF553B",
           "#00cc96",
           "#ab63fa",
           "#FFA15A",
           "#19d3f3",
           "#FF6692",
           "#B6E880",
           "#FF97FF",
           "#FECB52"
          ],
          "font": {
           "color": "#2a3f5f"
          },
          "geo": {
           "bgcolor": "white",
           "lakecolor": "white",
           "landcolor": "#E5ECF6",
           "showlakes": true,
           "showland": true,
           "subunitcolor": "white"
          },
          "hoverlabel": {
           "align": "left"
          },
          "hovermode": "closest",
          "mapbox": {
           "style": "light"
          },
          "paper_bgcolor": "white",
          "plot_bgcolor": "#E5ECF6",
          "polar": {
           "angularaxis": {
            "gridcolor": "white",
            "linecolor": "white",
            "ticks": ""
           },
           "bgcolor": "#E5ECF6",
           "radialaxis": {
            "gridcolor": "white",
            "linecolor": "white",
            "ticks": ""
           }
          },
          "scene": {
           "xaxis": {
            "backgroundcolor": "#E5ECF6",
            "gridcolor": "white",
            "gridwidth": 2,
            "linecolor": "white",
            "showbackground": true,
            "ticks": "",
            "zerolinecolor": "white"
           },
           "yaxis": {
            "backgroundcolor": "#E5ECF6",
            "gridcolor": "white",
            "gridwidth": 2,
            "linecolor": "white",
            "showbackground": true,
            "ticks": "",
            "zerolinecolor": "white"
           },
           "zaxis": {
            "backgroundcolor": "#E5ECF6",
            "gridcolor": "white",
            "gridwidth": 2,
            "linecolor": "white",
            "showbackground": true,
            "ticks": "",
            "zerolinecolor": "white"
           }
          },
          "shapedefaults": {
           "line": {
            "color": "#2a3f5f"
           }
          },
          "ternary": {
           "aaxis": {
            "gridcolor": "white",
            "linecolor": "white",
            "ticks": ""
           },
           "baxis": {
            "gridcolor": "white",
            "linecolor": "white",
            "ticks": ""
           },
           "bgcolor": "#E5ECF6",
           "caxis": {
            "gridcolor": "white",
            "linecolor": "white",
            "ticks": ""
           }
          },
          "title": {
           "x": 0.05
          },
          "xaxis": {
           "automargin": true,
           "gridcolor": "white",
           "linecolor": "white",
           "ticks": "",
           "title": {
            "standoff": 15
           },
           "zerolinecolor": "white",
           "zerolinewidth": 2
          },
          "yaxis": {
           "automargin": true,
           "gridcolor": "white",
           "linecolor": "white",
           "ticks": "",
           "title": {
            "standoff": 15
           },
           "zerolinecolor": "white",
           "zerolinewidth": 2
          }
         }
        },
        "title": {
         "text": "numero de delitos por dia"
        },
        "xaxis": {
         "anchor": "y",
         "domain": [
          0,
          1
         ],
         "title": {
          "text": "dia"
         }
        },
        "yaxis": {
         "anchor": "x",
         "domain": [
          0,
          1
         ],
         "title": {
          "text": "delito"
         }
        }
       }
      },
      "text/html": [
       "<div>\n",
       "        \n",
       "        \n",
       "            <div id=\"b5de1667-f7d2-4205-86d2-8aba449385e8\" class=\"plotly-graph-div\" style=\"height:525px; width:100%;\"></div>\n",
       "            <script type=\"text/javascript\">\n",
       "                require([\"plotly\"], function(Plotly) {\n",
       "                    window.PLOTLYENV=window.PLOTLYENV || {};\n",
       "                    \n",
       "                if (document.getElementById(\"b5de1667-f7d2-4205-86d2-8aba449385e8\")) {\n",
       "                    Plotly.newPlot(\n",
       "                        'b5de1667-f7d2-4205-86d2-8aba449385e8',\n",
       "                        [{\"hovertemplate\": \"dia=%{x}<br>delito=%{y}<extra></extra>\", \"legendgroup\": \"\", \"line\": {\"color\": \"#636efa\", \"dash\": \"solid\"}, \"mode\": \"lines\", \"name\": \"\", \"orientation\": \"v\", \"showlegend\": false, \"type\": \"scatter\", \"x\": [\"Lunes\", \"Martes\", \"Miercoles\", \"Jueves\", \"Viernes\", \"Sabado\", \"Domingo\"], \"xaxis\": \"x\", \"y\": [119652, 118942, 120126, 118719, 125203, 104218, 93161], \"yaxis\": \"y\"}],\n",
       "                        {\"legend\": {\"tracegroupgap\": 0}, \"template\": {\"data\": {\"bar\": [{\"error_x\": {\"color\": \"#2a3f5f\"}, \"error_y\": {\"color\": \"#2a3f5f\"}, \"marker\": {\"line\": {\"color\": \"#E5ECF6\", \"width\": 0.5}}, \"type\": \"bar\"}], \"barpolar\": [{\"marker\": {\"line\": {\"color\": \"#E5ECF6\", \"width\": 0.5}}, \"type\": \"barpolar\"}], \"carpet\": [{\"aaxis\": {\"endlinecolor\": \"#2a3f5f\", \"gridcolor\": \"white\", \"linecolor\": \"white\", \"minorgridcolor\": \"white\", \"startlinecolor\": \"#2a3f5f\"}, \"baxis\": {\"endlinecolor\": \"#2a3f5f\", \"gridcolor\": \"white\", \"linecolor\": \"white\", \"minorgridcolor\": \"white\", \"startlinecolor\": \"#2a3f5f\"}, \"type\": \"carpet\"}], \"choropleth\": [{\"colorbar\": {\"outlinewidth\": 0, \"ticks\": \"\"}, \"type\": \"choropleth\"}], \"contour\": [{\"colorbar\": {\"outlinewidth\": 0, \"ticks\": \"\"}, \"colorscale\": [[0.0, \"#0d0887\"], [0.1111111111111111, \"#46039f\"], [0.2222222222222222, \"#7201a8\"], [0.3333333333333333, \"#9c179e\"], [0.4444444444444444, \"#bd3786\"], [0.5555555555555556, \"#d8576b\"], [0.6666666666666666, \"#ed7953\"], [0.7777777777777778, \"#fb9f3a\"], [0.8888888888888888, \"#fdca26\"], [1.0, \"#f0f921\"]], \"type\": \"contour\"}], \"contourcarpet\": [{\"colorbar\": {\"outlinewidth\": 0, \"ticks\": \"\"}, \"type\": \"contourcarpet\"}], \"heatmap\": [{\"colorbar\": {\"outlinewidth\": 0, \"ticks\": \"\"}, \"colorscale\": [[0.0, \"#0d0887\"], [0.1111111111111111, \"#46039f\"], [0.2222222222222222, \"#7201a8\"], [0.3333333333333333, \"#9c179e\"], [0.4444444444444444, \"#bd3786\"], [0.5555555555555556, \"#d8576b\"], [0.6666666666666666, \"#ed7953\"], [0.7777777777777778, \"#fb9f3a\"], [0.8888888888888888, \"#fdca26\"], [1.0, \"#f0f921\"]], \"type\": \"heatmap\"}], \"heatmapgl\": [{\"colorbar\": {\"outlinewidth\": 0, \"ticks\": \"\"}, \"colorscale\": [[0.0, \"#0d0887\"], [0.1111111111111111, \"#46039f\"], [0.2222222222222222, \"#7201a8\"], [0.3333333333333333, \"#9c179e\"], [0.4444444444444444, \"#bd3786\"], [0.5555555555555556, \"#d8576b\"], [0.6666666666666666, \"#ed7953\"], [0.7777777777777778, \"#fb9f3a\"], [0.8888888888888888, \"#fdca26\"], [1.0, \"#f0f921\"]], \"type\": \"heatmapgl\"}], \"histogram\": [{\"marker\": {\"colorbar\": {\"outlinewidth\": 0, \"ticks\": \"\"}}, \"type\": \"histogram\"}], \"histogram2d\": [{\"colorbar\": {\"outlinewidth\": 0, \"ticks\": \"\"}, \"colorscale\": [[0.0, \"#0d0887\"], [0.1111111111111111, \"#46039f\"], [0.2222222222222222, \"#7201a8\"], [0.3333333333333333, \"#9c179e\"], [0.4444444444444444, \"#bd3786\"], [0.5555555555555556, \"#d8576b\"], [0.6666666666666666, \"#ed7953\"], [0.7777777777777778, \"#fb9f3a\"], [0.8888888888888888, \"#fdca26\"], [1.0, \"#f0f921\"]], \"type\": \"histogram2d\"}], \"histogram2dcontour\": [{\"colorbar\": {\"outlinewidth\": 0, \"ticks\": \"\"}, \"colorscale\": [[0.0, \"#0d0887\"], [0.1111111111111111, \"#46039f\"], [0.2222222222222222, \"#7201a8\"], [0.3333333333333333, \"#9c179e\"], [0.4444444444444444, \"#bd3786\"], [0.5555555555555556, \"#d8576b\"], [0.6666666666666666, \"#ed7953\"], [0.7777777777777778, \"#fb9f3a\"], [0.8888888888888888, \"#fdca26\"], [1.0, \"#f0f921\"]], \"type\": \"histogram2dcontour\"}], \"mesh3d\": [{\"colorbar\": {\"outlinewidth\": 0, \"ticks\": \"\"}, \"type\": \"mesh3d\"}], \"parcoords\": [{\"line\": {\"colorbar\": {\"outlinewidth\": 0, \"ticks\": \"\"}}, \"type\": \"parcoords\"}], \"pie\": [{\"automargin\": true, \"type\": \"pie\"}], \"scatter\": [{\"marker\": {\"colorbar\": {\"outlinewidth\": 0, \"ticks\": \"\"}}, \"type\": \"scatter\"}], \"scatter3d\": [{\"line\": {\"colorbar\": {\"outlinewidth\": 0, \"ticks\": \"\"}}, \"marker\": {\"colorbar\": {\"outlinewidth\": 0, \"ticks\": \"\"}}, \"type\": \"scatter3d\"}], \"scattercarpet\": [{\"marker\": {\"colorbar\": {\"outlinewidth\": 0, \"ticks\": \"\"}}, \"type\": \"scattercarpet\"}], \"scattergeo\": [{\"marker\": {\"colorbar\": {\"outlinewidth\": 0, \"ticks\": \"\"}}, \"type\": \"scattergeo\"}], \"scattergl\": [{\"marker\": {\"colorbar\": {\"outlinewidth\": 0, \"ticks\": \"\"}}, \"type\": \"scattergl\"}], \"scattermapbox\": [{\"marker\": {\"colorbar\": {\"outlinewidth\": 0, \"ticks\": \"\"}}, \"type\": \"scattermapbox\"}], \"scatterpolar\": [{\"marker\": {\"colorbar\": {\"outlinewidth\": 0, \"ticks\": \"\"}}, \"type\": \"scatterpolar\"}], \"scatterpolargl\": [{\"marker\": {\"colorbar\": {\"outlinewidth\": 0, \"ticks\": \"\"}}, \"type\": \"scatterpolargl\"}], \"scatterternary\": [{\"marker\": {\"colorbar\": {\"outlinewidth\": 0, \"ticks\": \"\"}}, \"type\": \"scatterternary\"}], \"surface\": [{\"colorbar\": {\"outlinewidth\": 0, \"ticks\": \"\"}, \"colorscale\": [[0.0, \"#0d0887\"], [0.1111111111111111, \"#46039f\"], [0.2222222222222222, \"#7201a8\"], [0.3333333333333333, \"#9c179e\"], [0.4444444444444444, \"#bd3786\"], [0.5555555555555556, \"#d8576b\"], [0.6666666666666666, \"#ed7953\"], [0.7777777777777778, \"#fb9f3a\"], [0.8888888888888888, \"#fdca26\"], [1.0, \"#f0f921\"]], \"type\": \"surface\"}], \"table\": [{\"cells\": {\"fill\": {\"color\": \"#EBF0F8\"}, \"line\": {\"color\": \"white\"}}, \"header\": {\"fill\": {\"color\": \"#C8D4E3\"}, \"line\": {\"color\": \"white\"}}, \"type\": \"table\"}]}, \"layout\": {\"annotationdefaults\": {\"arrowcolor\": \"#2a3f5f\", \"arrowhead\": 0, \"arrowwidth\": 1}, \"coloraxis\": {\"colorbar\": {\"outlinewidth\": 0, \"ticks\": \"\"}}, \"colorscale\": {\"diverging\": [[0, \"#8e0152\"], [0.1, \"#c51b7d\"], [0.2, \"#de77ae\"], [0.3, \"#f1b6da\"], [0.4, \"#fde0ef\"], [0.5, \"#f7f7f7\"], [0.6, \"#e6f5d0\"], [0.7, \"#b8e186\"], [0.8, \"#7fbc41\"], [0.9, \"#4d9221\"], [1, \"#276419\"]], \"sequential\": [[0.0, \"#0d0887\"], [0.1111111111111111, \"#46039f\"], [0.2222222222222222, \"#7201a8\"], [0.3333333333333333, \"#9c179e\"], [0.4444444444444444, \"#bd3786\"], [0.5555555555555556, \"#d8576b\"], [0.6666666666666666, \"#ed7953\"], [0.7777777777777778, \"#fb9f3a\"], [0.8888888888888888, \"#fdca26\"], [1.0, \"#f0f921\"]], \"sequentialminus\": [[0.0, \"#0d0887\"], [0.1111111111111111, \"#46039f\"], [0.2222222222222222, \"#7201a8\"], [0.3333333333333333, \"#9c179e\"], [0.4444444444444444, \"#bd3786\"], [0.5555555555555556, \"#d8576b\"], [0.6666666666666666, \"#ed7953\"], [0.7777777777777778, \"#fb9f3a\"], [0.8888888888888888, \"#fdca26\"], [1.0, \"#f0f921\"]]}, \"colorway\": [\"#636efa\", \"#EF553B\", \"#00cc96\", \"#ab63fa\", \"#FFA15A\", \"#19d3f3\", \"#FF6692\", \"#B6E880\", \"#FF97FF\", \"#FECB52\"], \"font\": {\"color\": \"#2a3f5f\"}, \"geo\": {\"bgcolor\": \"white\", \"lakecolor\": \"white\", \"landcolor\": \"#E5ECF6\", \"showlakes\": true, \"showland\": true, \"subunitcolor\": \"white\"}, \"hoverlabel\": {\"align\": \"left\"}, \"hovermode\": \"closest\", \"mapbox\": {\"style\": \"light\"}, \"paper_bgcolor\": \"white\", \"plot_bgcolor\": \"#E5ECF6\", \"polar\": {\"angularaxis\": {\"gridcolor\": \"white\", \"linecolor\": \"white\", \"ticks\": \"\"}, \"bgcolor\": \"#E5ECF6\", \"radialaxis\": {\"gridcolor\": \"white\", \"linecolor\": \"white\", \"ticks\": \"\"}}, \"scene\": {\"xaxis\": {\"backgroundcolor\": \"#E5ECF6\", \"gridcolor\": \"white\", \"gridwidth\": 2, \"linecolor\": \"white\", \"showbackground\": true, \"ticks\": \"\", \"zerolinecolor\": \"white\"}, \"yaxis\": {\"backgroundcolor\": \"#E5ECF6\", \"gridcolor\": \"white\", \"gridwidth\": 2, \"linecolor\": \"white\", \"showbackground\": true, \"ticks\": \"\", \"zerolinecolor\": \"white\"}, \"zaxis\": {\"backgroundcolor\": \"#E5ECF6\", \"gridcolor\": \"white\", \"gridwidth\": 2, \"linecolor\": \"white\", \"showbackground\": true, \"ticks\": \"\", \"zerolinecolor\": \"white\"}}, \"shapedefaults\": {\"line\": {\"color\": \"#2a3f5f\"}}, \"ternary\": {\"aaxis\": {\"gridcolor\": \"white\", \"linecolor\": \"white\", \"ticks\": \"\"}, \"baxis\": {\"gridcolor\": \"white\", \"linecolor\": \"white\", \"ticks\": \"\"}, \"bgcolor\": \"#E5ECF6\", \"caxis\": {\"gridcolor\": \"white\", \"linecolor\": \"white\", \"ticks\": \"\"}}, \"title\": {\"x\": 0.05}, \"xaxis\": {\"automargin\": true, \"gridcolor\": \"white\", \"linecolor\": \"white\", \"ticks\": \"\", \"title\": {\"standoff\": 15}, \"zerolinecolor\": \"white\", \"zerolinewidth\": 2}, \"yaxis\": {\"automargin\": true, \"gridcolor\": \"white\", \"linecolor\": \"white\", \"ticks\": \"\", \"title\": {\"standoff\": 15}, \"zerolinecolor\": \"white\", \"zerolinewidth\": 2}}}, \"title\": {\"text\": \"numero de delitos por dia\"}, \"xaxis\": {\"anchor\": \"y\", \"domain\": [0.0, 1.0], \"title\": {\"text\": \"dia\"}}, \"yaxis\": {\"anchor\": \"x\", \"domain\": [0.0, 1.0], \"title\": {\"text\": \"delito\"}}},\n",
       "                        {\"responsive\": true}\n",
       "                    ).then(function(){\n",
       "                            \n",
       "var gd = document.getElementById('b5de1667-f7d2-4205-86d2-8aba449385e8');\n",
       "var x = new MutationObserver(function (mutations, observer) {{\n",
       "        var display = window.getComputedStyle(gd).display;\n",
       "        if (!display || display === 'none') {{\n",
       "            console.log([gd, 'removed!']);\n",
       "            Plotly.purge(gd);\n",
       "            observer.disconnect();\n",
       "        }}\n",
       "}});\n",
       "\n",
       "// Listen for the removal of the full notebook cells\n",
       "var notebookContainer = gd.closest('#notebook-container');\n",
       "if (notebookContainer) {{\n",
       "    x.observe(notebookContainer, {childList: true});\n",
       "}}\n",
       "\n",
       "// Listen for the clearing of the current output cell\n",
       "var outputEl = gd.closest('.output');\n",
       "if (outputEl) {{\n",
       "    x.observe(outputEl, {childList: true});\n",
       "}}\n",
       "\n",
       "                        })\n",
       "                };\n",
       "                });\n",
       "            </script>\n",
       "        </div>"
      ]
     },
     "metadata": {},
     "output_type": "display_data"
    }
   ],
   "source": [
    "df_x = dias_semana_ordenada\n",
    "fig = px.line(df_x, x=\"dia\", y=\"delito\", title='numero de delitos por dia')\n",
    "fig.show()"
   ]
  },
  {
   "cell_type": "markdown",
   "metadata": {},
   "source": [
    "En comparación con los demás días los sábados y domingos son menos preligrosos. El viernes es el día más peligroso."
   ]
  },
  {
   "cell_type": "code",
   "execution_count": 273,
   "metadata": {},
   "outputs": [],
   "source": [
    "año_delito=df_tiempo.groupby(\"año_hechos\")[\"delito\"].count()"
   ]
  },
  {
   "cell_type": "code",
   "execution_count": 274,
   "metadata": {},
   "outputs": [],
   "source": [
    "año_delito=pd.DataFrame(año_delito)\n",
    "año_delito[\"año\"]=año_delito.index\n",
    "año_delito.index=[i for i in range(len(año_delito))]"
   ]
  },
  {
   "cell_type": "code",
   "execution_count": 275,
   "metadata": {},
   "outputs": [],
   "source": [
    "plantilla=pd.DataFrame(columns=[\"año\",\"delito\"])"
   ]
  },
  {
   "cell_type": "code",
   "execution_count": 276,
   "metadata": {},
   "outputs": [],
   "source": [
    "año_delito=plantilla.append(año_delito)"
   ]
  },
  {
   "cell_type": "code",
   "execution_count": 279,
   "metadata": {},
   "outputs": [
    {
     "data": {
      "application/vnd.plotly.v1+json": {
       "config": {
        "plotlyServerURL": "https://plot.ly"
       },
       "data": [
        {
         "hovertemplate": "año=%{x}<br>delito=%{y}<extra></extra>",
         "legendgroup": "",
         "line": {
          "color": "#636efa",
          "dash": "solid"
         },
         "mode": "lines",
         "name": "",
         "orientation": "h",
         "showlegend": false,
         "type": "scatter",
         "x": [
          1906,
          1915,
          1930,
          1942,
          1954,
          1955,
          1956,
          1957,
          1958,
          1960,
          1962,
          1964,
          1965,
          1966,
          1968,
          1969,
          1970,
          1971,
          1972,
          1973,
          1974,
          1975,
          1976,
          1977,
          1978,
          1979,
          1980,
          1981,
          1982,
          1983,
          1984,
          1985,
          1986,
          1987,
          1988,
          1989,
          1990,
          1991,
          1992,
          1993,
          1994,
          1995,
          1996,
          1997,
          1998,
          1999,
          2000,
          2001,
          2002,
          2003,
          2004,
          2005,
          2006,
          2007,
          2008,
          2009,
          2010,
          2011,
          2012,
          2013,
          2014,
          2015,
          2016,
          2017,
          2018,
          2019
         ],
         "xaxis": "x",
         "y": [
          1,
          2,
          1,
          1,
          1,
          2,
          2,
          1,
          1,
          1,
          1,
          2,
          1,
          2,
          1,
          3,
          2,
          2,
          5,
          1,
          2,
          3,
          3,
          1,
          3,
          1,
          3,
          4,
          3,
          10,
          11,
          6,
          4,
          12,
          4,
          16,
          17,
          10,
          20,
          17,
          15,
          15,
          21,
          30,
          32,
          30,
          55,
          150,
          50,
          79,
          111,
          141,
          194,
          243,
          345,
          362,
          651,
          816,
          1221,
          1840,
          3736,
          15088,
          192180,
          223035,
          246998,
          112400
         ],
         "yaxis": "y"
        }
       ],
       "layout": {
        "legend": {
         "tracegroupgap": 0
        },
        "template": {
         "data": {
          "bar": [
           {
            "error_x": {
             "color": "#2a3f5f"
            },
            "error_y": {
             "color": "#2a3f5f"
            },
            "marker": {
             "line": {
              "color": "#E5ECF6",
              "width": 0.5
             }
            },
            "type": "bar"
           }
          ],
          "barpolar": [
           {
            "marker": {
             "line": {
              "color": "#E5ECF6",
              "width": 0.5
             }
            },
            "type": "barpolar"
           }
          ],
          "carpet": [
           {
            "aaxis": {
             "endlinecolor": "#2a3f5f",
             "gridcolor": "white",
             "linecolor": "white",
             "minorgridcolor": "white",
             "startlinecolor": "#2a3f5f"
            },
            "baxis": {
             "endlinecolor": "#2a3f5f",
             "gridcolor": "white",
             "linecolor": "white",
             "minorgridcolor": "white",
             "startlinecolor": "#2a3f5f"
            },
            "type": "carpet"
           }
          ],
          "choropleth": [
           {
            "colorbar": {
             "outlinewidth": 0,
             "ticks": ""
            },
            "type": "choropleth"
           }
          ],
          "contour": [
           {
            "colorbar": {
             "outlinewidth": 0,
             "ticks": ""
            },
            "colorscale": [
             [
              0,
              "#0d0887"
             ],
             [
              0.1111111111111111,
              "#46039f"
             ],
             [
              0.2222222222222222,
              "#7201a8"
             ],
             [
              0.3333333333333333,
              "#9c179e"
             ],
             [
              0.4444444444444444,
              "#bd3786"
             ],
             [
              0.5555555555555556,
              "#d8576b"
             ],
             [
              0.6666666666666666,
              "#ed7953"
             ],
             [
              0.7777777777777778,
              "#fb9f3a"
             ],
             [
              0.8888888888888888,
              "#fdca26"
             ],
             [
              1,
              "#f0f921"
             ]
            ],
            "type": "contour"
           }
          ],
          "contourcarpet": [
           {
            "colorbar": {
             "outlinewidth": 0,
             "ticks": ""
            },
            "type": "contourcarpet"
           }
          ],
          "heatmap": [
           {
            "colorbar": {
             "outlinewidth": 0,
             "ticks": ""
            },
            "colorscale": [
             [
              0,
              "#0d0887"
             ],
             [
              0.1111111111111111,
              "#46039f"
             ],
             [
              0.2222222222222222,
              "#7201a8"
             ],
             [
              0.3333333333333333,
              "#9c179e"
             ],
             [
              0.4444444444444444,
              "#bd3786"
             ],
             [
              0.5555555555555556,
              "#d8576b"
             ],
             [
              0.6666666666666666,
              "#ed7953"
             ],
             [
              0.7777777777777778,
              "#fb9f3a"
             ],
             [
              0.8888888888888888,
              "#fdca26"
             ],
             [
              1,
              "#f0f921"
             ]
            ],
            "type": "heatmap"
           }
          ],
          "heatmapgl": [
           {
            "colorbar": {
             "outlinewidth": 0,
             "ticks": ""
            },
            "colorscale": [
             [
              0,
              "#0d0887"
             ],
             [
              0.1111111111111111,
              "#46039f"
             ],
             [
              0.2222222222222222,
              "#7201a8"
             ],
             [
              0.3333333333333333,
              "#9c179e"
             ],
             [
              0.4444444444444444,
              "#bd3786"
             ],
             [
              0.5555555555555556,
              "#d8576b"
             ],
             [
              0.6666666666666666,
              "#ed7953"
             ],
             [
              0.7777777777777778,
              "#fb9f3a"
             ],
             [
              0.8888888888888888,
              "#fdca26"
             ],
             [
              1,
              "#f0f921"
             ]
            ],
            "type": "heatmapgl"
           }
          ],
          "histogram": [
           {
            "marker": {
             "colorbar": {
              "outlinewidth": 0,
              "ticks": ""
             }
            },
            "type": "histogram"
           }
          ],
          "histogram2d": [
           {
            "colorbar": {
             "outlinewidth": 0,
             "ticks": ""
            },
            "colorscale": [
             [
              0,
              "#0d0887"
             ],
             [
              0.1111111111111111,
              "#46039f"
             ],
             [
              0.2222222222222222,
              "#7201a8"
             ],
             [
              0.3333333333333333,
              "#9c179e"
             ],
             [
              0.4444444444444444,
              "#bd3786"
             ],
             [
              0.5555555555555556,
              "#d8576b"
             ],
             [
              0.6666666666666666,
              "#ed7953"
             ],
             [
              0.7777777777777778,
              "#fb9f3a"
             ],
             [
              0.8888888888888888,
              "#fdca26"
             ],
             [
              1,
              "#f0f921"
             ]
            ],
            "type": "histogram2d"
           }
          ],
          "histogram2dcontour": [
           {
            "colorbar": {
             "outlinewidth": 0,
             "ticks": ""
            },
            "colorscale": [
             [
              0,
              "#0d0887"
             ],
             [
              0.1111111111111111,
              "#46039f"
             ],
             [
              0.2222222222222222,
              "#7201a8"
             ],
             [
              0.3333333333333333,
              "#9c179e"
             ],
             [
              0.4444444444444444,
              "#bd3786"
             ],
             [
              0.5555555555555556,
              "#d8576b"
             ],
             [
              0.6666666666666666,
              "#ed7953"
             ],
             [
              0.7777777777777778,
              "#fb9f3a"
             ],
             [
              0.8888888888888888,
              "#fdca26"
             ],
             [
              1,
              "#f0f921"
             ]
            ],
            "type": "histogram2dcontour"
           }
          ],
          "mesh3d": [
           {
            "colorbar": {
             "outlinewidth": 0,
             "ticks": ""
            },
            "type": "mesh3d"
           }
          ],
          "parcoords": [
           {
            "line": {
             "colorbar": {
              "outlinewidth": 0,
              "ticks": ""
             }
            },
            "type": "parcoords"
           }
          ],
          "pie": [
           {
            "automargin": true,
            "type": "pie"
           }
          ],
          "scatter": [
           {
            "marker": {
             "colorbar": {
              "outlinewidth": 0,
              "ticks": ""
             }
            },
            "type": "scatter"
           }
          ],
          "scatter3d": [
           {
            "line": {
             "colorbar": {
              "outlinewidth": 0,
              "ticks": ""
             }
            },
            "marker": {
             "colorbar": {
              "outlinewidth": 0,
              "ticks": ""
             }
            },
            "type": "scatter3d"
           }
          ],
          "scattercarpet": [
           {
            "marker": {
             "colorbar": {
              "outlinewidth": 0,
              "ticks": ""
             }
            },
            "type": "scattercarpet"
           }
          ],
          "scattergeo": [
           {
            "marker": {
             "colorbar": {
              "outlinewidth": 0,
              "ticks": ""
             }
            },
            "type": "scattergeo"
           }
          ],
          "scattergl": [
           {
            "marker": {
             "colorbar": {
              "outlinewidth": 0,
              "ticks": ""
             }
            },
            "type": "scattergl"
           }
          ],
          "scattermapbox": [
           {
            "marker": {
             "colorbar": {
              "outlinewidth": 0,
              "ticks": ""
             }
            },
            "type": "scattermapbox"
           }
          ],
          "scatterpolar": [
           {
            "marker": {
             "colorbar": {
              "outlinewidth": 0,
              "ticks": ""
             }
            },
            "type": "scatterpolar"
           }
          ],
          "scatterpolargl": [
           {
            "marker": {
             "colorbar": {
              "outlinewidth": 0,
              "ticks": ""
             }
            },
            "type": "scatterpolargl"
           }
          ],
          "scatterternary": [
           {
            "marker": {
             "colorbar": {
              "outlinewidth": 0,
              "ticks": ""
             }
            },
            "type": "scatterternary"
           }
          ],
          "surface": [
           {
            "colorbar": {
             "outlinewidth": 0,
             "ticks": ""
            },
            "colorscale": [
             [
              0,
              "#0d0887"
             ],
             [
              0.1111111111111111,
              "#46039f"
             ],
             [
              0.2222222222222222,
              "#7201a8"
             ],
             [
              0.3333333333333333,
              "#9c179e"
             ],
             [
              0.4444444444444444,
              "#bd3786"
             ],
             [
              0.5555555555555556,
              "#d8576b"
             ],
             [
              0.6666666666666666,
              "#ed7953"
             ],
             [
              0.7777777777777778,
              "#fb9f3a"
             ],
             [
              0.8888888888888888,
              "#fdca26"
             ],
             [
              1,
              "#f0f921"
             ]
            ],
            "type": "surface"
           }
          ],
          "table": [
           {
            "cells": {
             "fill": {
              "color": "#EBF0F8"
             },
             "line": {
              "color": "white"
             }
            },
            "header": {
             "fill": {
              "color": "#C8D4E3"
             },
             "line": {
              "color": "white"
             }
            },
            "type": "table"
           }
          ]
         },
         "layout": {
          "annotationdefaults": {
           "arrowcolor": "#2a3f5f",
           "arrowhead": 0,
           "arrowwidth": 1
          },
          "coloraxis": {
           "colorbar": {
            "outlinewidth": 0,
            "ticks": ""
           }
          },
          "colorscale": {
           "diverging": [
            [
             0,
             "#8e0152"
            ],
            [
             0.1,
             "#c51b7d"
            ],
            [
             0.2,
             "#de77ae"
            ],
            [
             0.3,
             "#f1b6da"
            ],
            [
             0.4,
             "#fde0ef"
            ],
            [
             0.5,
             "#f7f7f7"
            ],
            [
             0.6,
             "#e6f5d0"
            ],
            [
             0.7,
             "#b8e186"
            ],
            [
             0.8,
             "#7fbc41"
            ],
            [
             0.9,
             "#4d9221"
            ],
            [
             1,
             "#276419"
            ]
           ],
           "sequential": [
            [
             0,
             "#0d0887"
            ],
            [
             0.1111111111111111,
             "#46039f"
            ],
            [
             0.2222222222222222,
             "#7201a8"
            ],
            [
             0.3333333333333333,
             "#9c179e"
            ],
            [
             0.4444444444444444,
             "#bd3786"
            ],
            [
             0.5555555555555556,
             "#d8576b"
            ],
            [
             0.6666666666666666,
             "#ed7953"
            ],
            [
             0.7777777777777778,
             "#fb9f3a"
            ],
            [
             0.8888888888888888,
             "#fdca26"
            ],
            [
             1,
             "#f0f921"
            ]
           ],
           "sequentialminus": [
            [
             0,
             "#0d0887"
            ],
            [
             0.1111111111111111,
             "#46039f"
            ],
            [
             0.2222222222222222,
             "#7201a8"
            ],
            [
             0.3333333333333333,
             "#9c179e"
            ],
            [
             0.4444444444444444,
             "#bd3786"
            ],
            [
             0.5555555555555556,
             "#d8576b"
            ],
            [
             0.6666666666666666,
             "#ed7953"
            ],
            [
             0.7777777777777778,
             "#fb9f3a"
            ],
            [
             0.8888888888888888,
             "#fdca26"
            ],
            [
             1,
             "#f0f921"
            ]
           ]
          },
          "colorway": [
           "#636efa",
           "#EF553B",
           "#00cc96",
           "#ab63fa",
           "#FFA15A",
           "#19d3f3",
           "#FF6692",
           "#B6E880",
           "#FF97FF",
           "#FECB52"
          ],
          "font": {
           "color": "#2a3f5f"
          },
          "geo": {
           "bgcolor": "white",
           "lakecolor": "white",
           "landcolor": "#E5ECF6",
           "showlakes": true,
           "showland": true,
           "subunitcolor": "white"
          },
          "hoverlabel": {
           "align": "left"
          },
          "hovermode": "closest",
          "mapbox": {
           "style": "light"
          },
          "paper_bgcolor": "white",
          "plot_bgcolor": "#E5ECF6",
          "polar": {
           "angularaxis": {
            "gridcolor": "white",
            "linecolor": "white",
            "ticks": ""
           },
           "bgcolor": "#E5ECF6",
           "radialaxis": {
            "gridcolor": "white",
            "linecolor": "white",
            "ticks": ""
           }
          },
          "scene": {
           "xaxis": {
            "backgroundcolor": "#E5ECF6",
            "gridcolor": "white",
            "gridwidth": 2,
            "linecolor": "white",
            "showbackground": true,
            "ticks": "",
            "zerolinecolor": "white"
           },
           "yaxis": {
            "backgroundcolor": "#E5ECF6",
            "gridcolor": "white",
            "gridwidth": 2,
            "linecolor": "white",
            "showbackground": true,
            "ticks": "",
            "zerolinecolor": "white"
           },
           "zaxis": {
            "backgroundcolor": "#E5ECF6",
            "gridcolor": "white",
            "gridwidth": 2,
            "linecolor": "white",
            "showbackground": true,
            "ticks": "",
            "zerolinecolor": "white"
           }
          },
          "shapedefaults": {
           "line": {
            "color": "#2a3f5f"
           }
          },
          "ternary": {
           "aaxis": {
            "gridcolor": "white",
            "linecolor": "white",
            "ticks": ""
           },
           "baxis": {
            "gridcolor": "white",
            "linecolor": "white",
            "ticks": ""
           },
           "bgcolor": "#E5ECF6",
           "caxis": {
            "gridcolor": "white",
            "linecolor": "white",
            "ticks": ""
           }
          },
          "title": {
           "x": 0.05
          },
          "xaxis": {
           "automargin": true,
           "gridcolor": "white",
           "linecolor": "white",
           "ticks": "",
           "title": {
            "standoff": 15
           },
           "zerolinecolor": "white",
           "zerolinewidth": 2
          },
          "yaxis": {
           "automargin": true,
           "gridcolor": "white",
           "linecolor": "white",
           "ticks": "",
           "title": {
            "standoff": 15
           },
           "zerolinecolor": "white",
           "zerolinewidth": 2
          }
         }
        },
        "title": {
         "text": "numero de delitos por dia"
        },
        "xaxis": {
         "anchor": "y",
         "domain": [
          0,
          1
         ],
         "title": {
          "text": "año"
         }
        },
        "yaxis": {
         "anchor": "x",
         "domain": [
          0,
          1
         ],
         "title": {
          "text": "delito"
         }
        }
       }
      },
      "text/html": [
       "<div>\n",
       "        \n",
       "        \n",
       "            <div id=\"3cac05cf-5453-44e9-a02b-724a4eda4731\" class=\"plotly-graph-div\" style=\"height:525px; width:100%;\"></div>\n",
       "            <script type=\"text/javascript\">\n",
       "                require([\"plotly\"], function(Plotly) {\n",
       "                    window.PLOTLYENV=window.PLOTLYENV || {};\n",
       "                    \n",
       "                if (document.getElementById(\"3cac05cf-5453-44e9-a02b-724a4eda4731\")) {\n",
       "                    Plotly.newPlot(\n",
       "                        '3cac05cf-5453-44e9-a02b-724a4eda4731',\n",
       "                        [{\"hovertemplate\": \"a\\u00f1o=%{x}<br>delito=%{y}<extra></extra>\", \"legendgroup\": \"\", \"line\": {\"color\": \"#636efa\", \"dash\": \"solid\"}, \"mode\": \"lines\", \"name\": \"\", \"orientation\": \"h\", \"showlegend\": false, \"type\": \"scatter\", \"x\": [1906.0, 1915.0, 1930.0, 1942.0, 1954.0, 1955.0, 1956.0, 1957.0, 1958.0, 1960.0, 1962.0, 1964.0, 1965.0, 1966.0, 1968.0, 1969.0, 1970.0, 1971.0, 1972.0, 1973.0, 1974.0, 1975.0, 1976.0, 1977.0, 1978.0, 1979.0, 1980.0, 1981.0, 1982.0, 1983.0, 1984.0, 1985.0, 1986.0, 1987.0, 1988.0, 1989.0, 1990.0, 1991.0, 1992.0, 1993.0, 1994.0, 1995.0, 1996.0, 1997.0, 1998.0, 1999.0, 2000.0, 2001.0, 2002.0, 2003.0, 2004.0, 2005.0, 2006.0, 2007.0, 2008.0, 2009.0, 2010.0, 2011.0, 2012.0, 2013.0, 2014.0, 2015.0, 2016.0, 2017.0, 2018.0, 2019.0], \"xaxis\": \"x\", \"y\": [1, 2, 1, 1, 1, 2, 2, 1, 1, 1, 1, 2, 1, 2, 1, 3, 2, 2, 5, 1, 2, 3, 3, 1, 3, 1, 3, 4, 3, 10, 11, 6, 4, 12, 4, 16, 17, 10, 20, 17, 15, 15, 21, 30, 32, 30, 55, 150, 50, 79, 111, 141, 194, 243, 345, 362, 651, 816, 1221, 1840, 3736, 15088, 192180, 223035, 246998, 112400], \"yaxis\": \"y\"}],\n",
       "                        {\"legend\": {\"tracegroupgap\": 0}, \"template\": {\"data\": {\"bar\": [{\"error_x\": {\"color\": \"#2a3f5f\"}, \"error_y\": {\"color\": \"#2a3f5f\"}, \"marker\": {\"line\": {\"color\": \"#E5ECF6\", \"width\": 0.5}}, \"type\": \"bar\"}], \"barpolar\": [{\"marker\": {\"line\": {\"color\": \"#E5ECF6\", \"width\": 0.5}}, \"type\": \"barpolar\"}], \"carpet\": [{\"aaxis\": {\"endlinecolor\": \"#2a3f5f\", \"gridcolor\": \"white\", \"linecolor\": \"white\", \"minorgridcolor\": \"white\", \"startlinecolor\": \"#2a3f5f\"}, \"baxis\": {\"endlinecolor\": \"#2a3f5f\", \"gridcolor\": \"white\", \"linecolor\": \"white\", \"minorgridcolor\": \"white\", \"startlinecolor\": \"#2a3f5f\"}, \"type\": \"carpet\"}], \"choropleth\": [{\"colorbar\": {\"outlinewidth\": 0, \"ticks\": \"\"}, \"type\": \"choropleth\"}], \"contour\": [{\"colorbar\": {\"outlinewidth\": 0, \"ticks\": \"\"}, \"colorscale\": [[0.0, \"#0d0887\"], [0.1111111111111111, \"#46039f\"], [0.2222222222222222, \"#7201a8\"], [0.3333333333333333, \"#9c179e\"], [0.4444444444444444, \"#bd3786\"], [0.5555555555555556, \"#d8576b\"], [0.6666666666666666, \"#ed7953\"], [0.7777777777777778, \"#fb9f3a\"], [0.8888888888888888, \"#fdca26\"], [1.0, \"#f0f921\"]], \"type\": \"contour\"}], \"contourcarpet\": [{\"colorbar\": {\"outlinewidth\": 0, \"ticks\": \"\"}, \"type\": \"contourcarpet\"}], \"heatmap\": [{\"colorbar\": {\"outlinewidth\": 0, \"ticks\": \"\"}, \"colorscale\": [[0.0, \"#0d0887\"], [0.1111111111111111, \"#46039f\"], [0.2222222222222222, \"#7201a8\"], [0.3333333333333333, \"#9c179e\"], [0.4444444444444444, \"#bd3786\"], [0.5555555555555556, \"#d8576b\"], [0.6666666666666666, \"#ed7953\"], [0.7777777777777778, \"#fb9f3a\"], [0.8888888888888888, \"#fdca26\"], [1.0, \"#f0f921\"]], \"type\": \"heatmap\"}], \"heatmapgl\": [{\"colorbar\": {\"outlinewidth\": 0, \"ticks\": \"\"}, \"colorscale\": [[0.0, \"#0d0887\"], [0.1111111111111111, \"#46039f\"], [0.2222222222222222, \"#7201a8\"], [0.3333333333333333, \"#9c179e\"], [0.4444444444444444, \"#bd3786\"], [0.5555555555555556, \"#d8576b\"], [0.6666666666666666, \"#ed7953\"], [0.7777777777777778, \"#fb9f3a\"], [0.8888888888888888, \"#fdca26\"], [1.0, \"#f0f921\"]], \"type\": \"heatmapgl\"}], \"histogram\": [{\"marker\": {\"colorbar\": {\"outlinewidth\": 0, \"ticks\": \"\"}}, \"type\": \"histogram\"}], \"histogram2d\": [{\"colorbar\": {\"outlinewidth\": 0, \"ticks\": \"\"}, \"colorscale\": [[0.0, \"#0d0887\"], [0.1111111111111111, \"#46039f\"], [0.2222222222222222, \"#7201a8\"], [0.3333333333333333, \"#9c179e\"], [0.4444444444444444, \"#bd3786\"], [0.5555555555555556, \"#d8576b\"], [0.6666666666666666, \"#ed7953\"], [0.7777777777777778, \"#fb9f3a\"], [0.8888888888888888, \"#fdca26\"], [1.0, \"#f0f921\"]], \"type\": \"histogram2d\"}], \"histogram2dcontour\": [{\"colorbar\": {\"outlinewidth\": 0, \"ticks\": \"\"}, \"colorscale\": [[0.0, \"#0d0887\"], [0.1111111111111111, \"#46039f\"], [0.2222222222222222, \"#7201a8\"], [0.3333333333333333, \"#9c179e\"], [0.4444444444444444, \"#bd3786\"], [0.5555555555555556, \"#d8576b\"], [0.6666666666666666, \"#ed7953\"], [0.7777777777777778, \"#fb9f3a\"], [0.8888888888888888, \"#fdca26\"], [1.0, \"#f0f921\"]], \"type\": \"histogram2dcontour\"}], \"mesh3d\": [{\"colorbar\": {\"outlinewidth\": 0, \"ticks\": \"\"}, \"type\": \"mesh3d\"}], \"parcoords\": [{\"line\": {\"colorbar\": {\"outlinewidth\": 0, \"ticks\": \"\"}}, \"type\": \"parcoords\"}], \"pie\": [{\"automargin\": true, \"type\": \"pie\"}], \"scatter\": [{\"marker\": {\"colorbar\": {\"outlinewidth\": 0, \"ticks\": \"\"}}, \"type\": \"scatter\"}], \"scatter3d\": [{\"line\": {\"colorbar\": {\"outlinewidth\": 0, \"ticks\": \"\"}}, \"marker\": {\"colorbar\": {\"outlinewidth\": 0, \"ticks\": \"\"}}, \"type\": \"scatter3d\"}], \"scattercarpet\": [{\"marker\": {\"colorbar\": {\"outlinewidth\": 0, \"ticks\": \"\"}}, \"type\": \"scattercarpet\"}], \"scattergeo\": [{\"marker\": {\"colorbar\": {\"outlinewidth\": 0, \"ticks\": \"\"}}, \"type\": \"scattergeo\"}], \"scattergl\": [{\"marker\": {\"colorbar\": {\"outlinewidth\": 0, \"ticks\": \"\"}}, \"type\": \"scattergl\"}], \"scattermapbox\": [{\"marker\": {\"colorbar\": {\"outlinewidth\": 0, \"ticks\": \"\"}}, \"type\": \"scattermapbox\"}], \"scatterpolar\": [{\"marker\": {\"colorbar\": {\"outlinewidth\": 0, \"ticks\": \"\"}}, \"type\": \"scatterpolar\"}], \"scatterpolargl\": [{\"marker\": {\"colorbar\": {\"outlinewidth\": 0, \"ticks\": \"\"}}, \"type\": \"scatterpolargl\"}], \"scatterternary\": [{\"marker\": {\"colorbar\": {\"outlinewidth\": 0, \"ticks\": \"\"}}, \"type\": \"scatterternary\"}], \"surface\": [{\"colorbar\": {\"outlinewidth\": 0, \"ticks\": \"\"}, \"colorscale\": [[0.0, \"#0d0887\"], [0.1111111111111111, \"#46039f\"], [0.2222222222222222, \"#7201a8\"], [0.3333333333333333, \"#9c179e\"], [0.4444444444444444, \"#bd3786\"], [0.5555555555555556, \"#d8576b\"], [0.6666666666666666, \"#ed7953\"], [0.7777777777777778, \"#fb9f3a\"], [0.8888888888888888, \"#fdca26\"], [1.0, \"#f0f921\"]], \"type\": \"surface\"}], \"table\": [{\"cells\": {\"fill\": {\"color\": \"#EBF0F8\"}, \"line\": {\"color\": \"white\"}}, \"header\": {\"fill\": {\"color\": \"#C8D4E3\"}, \"line\": {\"color\": \"white\"}}, \"type\": \"table\"}]}, \"layout\": {\"annotationdefaults\": {\"arrowcolor\": \"#2a3f5f\", \"arrowhead\": 0, \"arrowwidth\": 1}, \"coloraxis\": {\"colorbar\": {\"outlinewidth\": 0, \"ticks\": \"\"}}, \"colorscale\": {\"diverging\": [[0, \"#8e0152\"], [0.1, \"#c51b7d\"], [0.2, \"#de77ae\"], [0.3, \"#f1b6da\"], [0.4, \"#fde0ef\"], [0.5, \"#f7f7f7\"], [0.6, \"#e6f5d0\"], [0.7, \"#b8e186\"], [0.8, \"#7fbc41\"], [0.9, \"#4d9221\"], [1, \"#276419\"]], \"sequential\": [[0.0, \"#0d0887\"], [0.1111111111111111, \"#46039f\"], [0.2222222222222222, \"#7201a8\"], [0.3333333333333333, \"#9c179e\"], [0.4444444444444444, \"#bd3786\"], [0.5555555555555556, \"#d8576b\"], [0.6666666666666666, \"#ed7953\"], [0.7777777777777778, \"#fb9f3a\"], [0.8888888888888888, \"#fdca26\"], [1.0, \"#f0f921\"]], \"sequentialminus\": [[0.0, \"#0d0887\"], [0.1111111111111111, \"#46039f\"], [0.2222222222222222, \"#7201a8\"], [0.3333333333333333, \"#9c179e\"], [0.4444444444444444, \"#bd3786\"], [0.5555555555555556, \"#d8576b\"], [0.6666666666666666, \"#ed7953\"], [0.7777777777777778, \"#fb9f3a\"], [0.8888888888888888, \"#fdca26\"], [1.0, \"#f0f921\"]]}, \"colorway\": [\"#636efa\", \"#EF553B\", \"#00cc96\", \"#ab63fa\", \"#FFA15A\", \"#19d3f3\", \"#FF6692\", \"#B6E880\", \"#FF97FF\", \"#FECB52\"], \"font\": {\"color\": \"#2a3f5f\"}, \"geo\": {\"bgcolor\": \"white\", \"lakecolor\": \"white\", \"landcolor\": \"#E5ECF6\", \"showlakes\": true, \"showland\": true, \"subunitcolor\": \"white\"}, \"hoverlabel\": {\"align\": \"left\"}, \"hovermode\": \"closest\", \"mapbox\": {\"style\": \"light\"}, \"paper_bgcolor\": \"white\", \"plot_bgcolor\": \"#E5ECF6\", \"polar\": {\"angularaxis\": {\"gridcolor\": \"white\", \"linecolor\": \"white\", \"ticks\": \"\"}, \"bgcolor\": \"#E5ECF6\", \"radialaxis\": {\"gridcolor\": \"white\", \"linecolor\": \"white\", \"ticks\": \"\"}}, \"scene\": {\"xaxis\": {\"backgroundcolor\": \"#E5ECF6\", \"gridcolor\": \"white\", \"gridwidth\": 2, \"linecolor\": \"white\", \"showbackground\": true, \"ticks\": \"\", \"zerolinecolor\": \"white\"}, \"yaxis\": {\"backgroundcolor\": \"#E5ECF6\", \"gridcolor\": \"white\", \"gridwidth\": 2, \"linecolor\": \"white\", \"showbackground\": true, \"ticks\": \"\", \"zerolinecolor\": \"white\"}, \"zaxis\": {\"backgroundcolor\": \"#E5ECF6\", \"gridcolor\": \"white\", \"gridwidth\": 2, \"linecolor\": \"white\", \"showbackground\": true, \"ticks\": \"\", \"zerolinecolor\": \"white\"}}, \"shapedefaults\": {\"line\": {\"color\": \"#2a3f5f\"}}, \"ternary\": {\"aaxis\": {\"gridcolor\": \"white\", \"linecolor\": \"white\", \"ticks\": \"\"}, \"baxis\": {\"gridcolor\": \"white\", \"linecolor\": \"white\", \"ticks\": \"\"}, \"bgcolor\": \"#E5ECF6\", \"caxis\": {\"gridcolor\": \"white\", \"linecolor\": \"white\", \"ticks\": \"\"}}, \"title\": {\"x\": 0.05}, \"xaxis\": {\"automargin\": true, \"gridcolor\": \"white\", \"linecolor\": \"white\", \"ticks\": \"\", \"title\": {\"standoff\": 15}, \"zerolinecolor\": \"white\", \"zerolinewidth\": 2}, \"yaxis\": {\"automargin\": true, \"gridcolor\": \"white\", \"linecolor\": \"white\", \"ticks\": \"\", \"title\": {\"standoff\": 15}, \"zerolinecolor\": \"white\", \"zerolinewidth\": 2}}}, \"title\": {\"text\": \"numero de delitos por dia\"}, \"xaxis\": {\"anchor\": \"y\", \"domain\": [0.0, 1.0], \"title\": {\"text\": \"a\\u00f1o\"}}, \"yaxis\": {\"anchor\": \"x\", \"domain\": [0.0, 1.0], \"title\": {\"text\": \"delito\"}}},\n",
       "                        {\"responsive\": true}\n",
       "                    ).then(function(){\n",
       "                            \n",
       "var gd = document.getElementById('3cac05cf-5453-44e9-a02b-724a4eda4731');\n",
       "var x = new MutationObserver(function (mutations, observer) {{\n",
       "        var display = window.getComputedStyle(gd).display;\n",
       "        if (!display || display === 'none') {{\n",
       "            console.log([gd, 'removed!']);\n",
       "            Plotly.purge(gd);\n",
       "            observer.disconnect();\n",
       "        }}\n",
       "}});\n",
       "\n",
       "// Listen for the removal of the full notebook cells\n",
       "var notebookContainer = gd.closest('#notebook-container');\n",
       "if (notebookContainer) {{\n",
       "    x.observe(notebookContainer, {childList: true});\n",
       "}}\n",
       "\n",
       "// Listen for the clearing of the current output cell\n",
       "var outputEl = gd.closest('.output');\n",
       "if (outputEl) {{\n",
       "    x.observe(outputEl, {childList: true});\n",
       "}}\n",
       "\n",
       "                        })\n",
       "                };\n",
       "                });\n",
       "            </script>\n",
       "        </div>"
      ]
     },
     "metadata": {},
     "output_type": "display_data"
    }
   ],
   "source": [
    "df_x = año_delito\n",
    "fig = px.line(df_x, x=\"año\", y=\"delito\", title='numero de delitos por dia')\n",
    "fig.show()"
   ]
  },
  {
   "cell_type": "markdown",
   "metadata": {},
   "source": [
    "El año más violento fue le 2019 y disminuyeron los delitos en el 2020"
   ]
  },
  {
   "cell_type": "code",
   "execution_count": 281,
   "metadata": {},
   "outputs": [],
   "source": [
    "meses=dict(df_tiempo.groupby(\"mes_hechos\")[\"delito\"].count())"
   ]
  },
  {
   "cell_type": "code",
   "execution_count": 282,
   "metadata": {},
   "outputs": [],
   "source": [
    "meses=dict({'Enero': 72462,'Febrero': 71203,'Marzo': 77024,'Abril': 73488,'Mayo': 78756,\n",
    "            'Junio': 71995,'Julio': 56517,'Agosto': 59329,'Septiembre': 58521,\n",
    "            'Octubre': 62970,'Noviembre': 59255,'Diciembre': 58501})"
   ]
  },
  {
   "cell_type": "code",
   "execution_count": 283,
   "metadata": {},
   "outputs": [],
   "source": [
    "meses_ordenados=pd.DataFrame(columns=[\"mes\",\"numero\"])\n",
    "meses_ordenados[\"mes\"]=meses.keys()\n",
    "meses_ordenados[\"numero\"]=meses.values()"
   ]
  },
  {
   "cell_type": "code",
   "execution_count": 284,
   "metadata": {},
   "outputs": [
    {
     "data": {
      "application/vnd.plotly.v1+json": {
       "config": {
        "plotlyServerURL": "https://plot.ly"
       },
       "data": [
        {
         "hovertemplate": "mes=%{x}<br>numero=%{y}<extra></extra>",
         "legendgroup": "",
         "line": {
          "color": "#636efa",
          "dash": "solid"
         },
         "mode": "lines",
         "name": "",
         "orientation": "v",
         "showlegend": false,
         "type": "scatter",
         "x": [
          "Enero",
          "Febrero",
          "Marzo",
          "Abril",
          "Mayo",
          "Junio",
          "Julio",
          "Agosto",
          "Septiembre",
          "Octubre",
          "Noviembre",
          "Diciembre"
         ],
         "xaxis": "x",
         "y": [
          72462,
          71203,
          77024,
          73488,
          78756,
          71995,
          56517,
          59329,
          58521,
          62970,
          59255,
          58501
         ],
         "yaxis": "y"
        }
       ],
       "layout": {
        "legend": {
         "tracegroupgap": 0
        },
        "template": {
         "data": {
          "bar": [
           {
            "error_x": {
             "color": "#2a3f5f"
            },
            "error_y": {
             "color": "#2a3f5f"
            },
            "marker": {
             "line": {
              "color": "#E5ECF6",
              "width": 0.5
             }
            },
            "type": "bar"
           }
          ],
          "barpolar": [
           {
            "marker": {
             "line": {
              "color": "#E5ECF6",
              "width": 0.5
             }
            },
            "type": "barpolar"
           }
          ],
          "carpet": [
           {
            "aaxis": {
             "endlinecolor": "#2a3f5f",
             "gridcolor": "white",
             "linecolor": "white",
             "minorgridcolor": "white",
             "startlinecolor": "#2a3f5f"
            },
            "baxis": {
             "endlinecolor": "#2a3f5f",
             "gridcolor": "white",
             "linecolor": "white",
             "minorgridcolor": "white",
             "startlinecolor": "#2a3f5f"
            },
            "type": "carpet"
           }
          ],
          "choropleth": [
           {
            "colorbar": {
             "outlinewidth": 0,
             "ticks": ""
            },
            "type": "choropleth"
           }
          ],
          "contour": [
           {
            "colorbar": {
             "outlinewidth": 0,
             "ticks": ""
            },
            "colorscale": [
             [
              0,
              "#0d0887"
             ],
             [
              0.1111111111111111,
              "#46039f"
             ],
             [
              0.2222222222222222,
              "#7201a8"
             ],
             [
              0.3333333333333333,
              "#9c179e"
             ],
             [
              0.4444444444444444,
              "#bd3786"
             ],
             [
              0.5555555555555556,
              "#d8576b"
             ],
             [
              0.6666666666666666,
              "#ed7953"
             ],
             [
              0.7777777777777778,
              "#fb9f3a"
             ],
             [
              0.8888888888888888,
              "#fdca26"
             ],
             [
              1,
              "#f0f921"
             ]
            ],
            "type": "contour"
           }
          ],
          "contourcarpet": [
           {
            "colorbar": {
             "outlinewidth": 0,
             "ticks": ""
            },
            "type": "contourcarpet"
           }
          ],
          "heatmap": [
           {
            "colorbar": {
             "outlinewidth": 0,
             "ticks": ""
            },
            "colorscale": [
             [
              0,
              "#0d0887"
             ],
             [
              0.1111111111111111,
              "#46039f"
             ],
             [
              0.2222222222222222,
              "#7201a8"
             ],
             [
              0.3333333333333333,
              "#9c179e"
             ],
             [
              0.4444444444444444,
              "#bd3786"
             ],
             [
              0.5555555555555556,
              "#d8576b"
             ],
             [
              0.6666666666666666,
              "#ed7953"
             ],
             [
              0.7777777777777778,
              "#fb9f3a"
             ],
             [
              0.8888888888888888,
              "#fdca26"
             ],
             [
              1,
              "#f0f921"
             ]
            ],
            "type": "heatmap"
           }
          ],
          "heatmapgl": [
           {
            "colorbar": {
             "outlinewidth": 0,
             "ticks": ""
            },
            "colorscale": [
             [
              0,
              "#0d0887"
             ],
             [
              0.1111111111111111,
              "#46039f"
             ],
             [
              0.2222222222222222,
              "#7201a8"
             ],
             [
              0.3333333333333333,
              "#9c179e"
             ],
             [
              0.4444444444444444,
              "#bd3786"
             ],
             [
              0.5555555555555556,
              "#d8576b"
             ],
             [
              0.6666666666666666,
              "#ed7953"
             ],
             [
              0.7777777777777778,
              "#fb9f3a"
             ],
             [
              0.8888888888888888,
              "#fdca26"
             ],
             [
              1,
              "#f0f921"
             ]
            ],
            "type": "heatmapgl"
           }
          ],
          "histogram": [
           {
            "marker": {
             "colorbar": {
              "outlinewidth": 0,
              "ticks": ""
             }
            },
            "type": "histogram"
           }
          ],
          "histogram2d": [
           {
            "colorbar": {
             "outlinewidth": 0,
             "ticks": ""
            },
            "colorscale": [
             [
              0,
              "#0d0887"
             ],
             [
              0.1111111111111111,
              "#46039f"
             ],
             [
              0.2222222222222222,
              "#7201a8"
             ],
             [
              0.3333333333333333,
              "#9c179e"
             ],
             [
              0.4444444444444444,
              "#bd3786"
             ],
             [
              0.5555555555555556,
              "#d8576b"
             ],
             [
              0.6666666666666666,
              "#ed7953"
             ],
             [
              0.7777777777777778,
              "#fb9f3a"
             ],
             [
              0.8888888888888888,
              "#fdca26"
             ],
             [
              1,
              "#f0f921"
             ]
            ],
            "type": "histogram2d"
           }
          ],
          "histogram2dcontour": [
           {
            "colorbar": {
             "outlinewidth": 0,
             "ticks": ""
            },
            "colorscale": [
             [
              0,
              "#0d0887"
             ],
             [
              0.1111111111111111,
              "#46039f"
             ],
             [
              0.2222222222222222,
              "#7201a8"
             ],
             [
              0.3333333333333333,
              "#9c179e"
             ],
             [
              0.4444444444444444,
              "#bd3786"
             ],
             [
              0.5555555555555556,
              "#d8576b"
             ],
             [
              0.6666666666666666,
              "#ed7953"
             ],
             [
              0.7777777777777778,
              "#fb9f3a"
             ],
             [
              0.8888888888888888,
              "#fdca26"
             ],
             [
              1,
              "#f0f921"
             ]
            ],
            "type": "histogram2dcontour"
           }
          ],
          "mesh3d": [
           {
            "colorbar": {
             "outlinewidth": 0,
             "ticks": ""
            },
            "type": "mesh3d"
           }
          ],
          "parcoords": [
           {
            "line": {
             "colorbar": {
              "outlinewidth": 0,
              "ticks": ""
             }
            },
            "type": "parcoords"
           }
          ],
          "pie": [
           {
            "automargin": true,
            "type": "pie"
           }
          ],
          "scatter": [
           {
            "marker": {
             "colorbar": {
              "outlinewidth": 0,
              "ticks": ""
             }
            },
            "type": "scatter"
           }
          ],
          "scatter3d": [
           {
            "line": {
             "colorbar": {
              "outlinewidth": 0,
              "ticks": ""
             }
            },
            "marker": {
             "colorbar": {
              "outlinewidth": 0,
              "ticks": ""
             }
            },
            "type": "scatter3d"
           }
          ],
          "scattercarpet": [
           {
            "marker": {
             "colorbar": {
              "outlinewidth": 0,
              "ticks": ""
             }
            },
            "type": "scattercarpet"
           }
          ],
          "scattergeo": [
           {
            "marker": {
             "colorbar": {
              "outlinewidth": 0,
              "ticks": ""
             }
            },
            "type": "scattergeo"
           }
          ],
          "scattergl": [
           {
            "marker": {
             "colorbar": {
              "outlinewidth": 0,
              "ticks": ""
             }
            },
            "type": "scattergl"
           }
          ],
          "scattermapbox": [
           {
            "marker": {
             "colorbar": {
              "outlinewidth": 0,
              "ticks": ""
             }
            },
            "type": "scattermapbox"
           }
          ],
          "scatterpolar": [
           {
            "marker": {
             "colorbar": {
              "outlinewidth": 0,
              "ticks": ""
             }
            },
            "type": "scatterpolar"
           }
          ],
          "scatterpolargl": [
           {
            "marker": {
             "colorbar": {
              "outlinewidth": 0,
              "ticks": ""
             }
            },
            "type": "scatterpolargl"
           }
          ],
          "scatterternary": [
           {
            "marker": {
             "colorbar": {
              "outlinewidth": 0,
              "ticks": ""
             }
            },
            "type": "scatterternary"
           }
          ],
          "surface": [
           {
            "colorbar": {
             "outlinewidth": 0,
             "ticks": ""
            },
            "colorscale": [
             [
              0,
              "#0d0887"
             ],
             [
              0.1111111111111111,
              "#46039f"
             ],
             [
              0.2222222222222222,
              "#7201a8"
             ],
             [
              0.3333333333333333,
              "#9c179e"
             ],
             [
              0.4444444444444444,
              "#bd3786"
             ],
             [
              0.5555555555555556,
              "#d8576b"
             ],
             [
              0.6666666666666666,
              "#ed7953"
             ],
             [
              0.7777777777777778,
              "#fb9f3a"
             ],
             [
              0.8888888888888888,
              "#fdca26"
             ],
             [
              1,
              "#f0f921"
             ]
            ],
            "type": "surface"
           }
          ],
          "table": [
           {
            "cells": {
             "fill": {
              "color": "#EBF0F8"
             },
             "line": {
              "color": "white"
             }
            },
            "header": {
             "fill": {
              "color": "#C8D4E3"
             },
             "line": {
              "color": "white"
             }
            },
            "type": "table"
           }
          ]
         },
         "layout": {
          "annotationdefaults": {
           "arrowcolor": "#2a3f5f",
           "arrowhead": 0,
           "arrowwidth": 1
          },
          "coloraxis": {
           "colorbar": {
            "outlinewidth": 0,
            "ticks": ""
           }
          },
          "colorscale": {
           "diverging": [
            [
             0,
             "#8e0152"
            ],
            [
             0.1,
             "#c51b7d"
            ],
            [
             0.2,
             "#de77ae"
            ],
            [
             0.3,
             "#f1b6da"
            ],
            [
             0.4,
             "#fde0ef"
            ],
            [
             0.5,
             "#f7f7f7"
            ],
            [
             0.6,
             "#e6f5d0"
            ],
            [
             0.7,
             "#b8e186"
            ],
            [
             0.8,
             "#7fbc41"
            ],
            [
             0.9,
             "#4d9221"
            ],
            [
             1,
             "#276419"
            ]
           ],
           "sequential": [
            [
             0,
             "#0d0887"
            ],
            [
             0.1111111111111111,
             "#46039f"
            ],
            [
             0.2222222222222222,
             "#7201a8"
            ],
            [
             0.3333333333333333,
             "#9c179e"
            ],
            [
             0.4444444444444444,
             "#bd3786"
            ],
            [
             0.5555555555555556,
             "#d8576b"
            ],
            [
             0.6666666666666666,
             "#ed7953"
            ],
            [
             0.7777777777777778,
             "#fb9f3a"
            ],
            [
             0.8888888888888888,
             "#fdca26"
            ],
            [
             1,
             "#f0f921"
            ]
           ],
           "sequentialminus": [
            [
             0,
             "#0d0887"
            ],
            [
             0.1111111111111111,
             "#46039f"
            ],
            [
             0.2222222222222222,
             "#7201a8"
            ],
            [
             0.3333333333333333,
             "#9c179e"
            ],
            [
             0.4444444444444444,
             "#bd3786"
            ],
            [
             0.5555555555555556,
             "#d8576b"
            ],
            [
             0.6666666666666666,
             "#ed7953"
            ],
            [
             0.7777777777777778,
             "#fb9f3a"
            ],
            [
             0.8888888888888888,
             "#fdca26"
            ],
            [
             1,
             "#f0f921"
            ]
           ]
          },
          "colorway": [
           "#636efa",
           "#EF553B",
           "#00cc96",
           "#ab63fa",
           "#FFA15A",
           "#19d3f3",
           "#FF6692",
           "#B6E880",
           "#FF97FF",
           "#FECB52"
          ],
          "font": {
           "color": "#2a3f5f"
          },
          "geo": {
           "bgcolor": "white",
           "lakecolor": "white",
           "landcolor": "#E5ECF6",
           "showlakes": true,
           "showland": true,
           "subunitcolor": "white"
          },
          "hoverlabel": {
           "align": "left"
          },
          "hovermode": "closest",
          "mapbox": {
           "style": "light"
          },
          "paper_bgcolor": "white",
          "plot_bgcolor": "#E5ECF6",
          "polar": {
           "angularaxis": {
            "gridcolor": "white",
            "linecolor": "white",
            "ticks": ""
           },
           "bgcolor": "#E5ECF6",
           "radialaxis": {
            "gridcolor": "white",
            "linecolor": "white",
            "ticks": ""
           }
          },
          "scene": {
           "xaxis": {
            "backgroundcolor": "#E5ECF6",
            "gridcolor": "white",
            "gridwidth": 2,
            "linecolor": "white",
            "showbackground": true,
            "ticks": "",
            "zerolinecolor": "white"
           },
           "yaxis": {
            "backgroundcolor": "#E5ECF6",
            "gridcolor": "white",
            "gridwidth": 2,
            "linecolor": "white",
            "showbackground": true,
            "ticks": "",
            "zerolinecolor": "white"
           },
           "zaxis": {
            "backgroundcolor": "#E5ECF6",
            "gridcolor": "white",
            "gridwidth": 2,
            "linecolor": "white",
            "showbackground": true,
            "ticks": "",
            "zerolinecolor": "white"
           }
          },
          "shapedefaults": {
           "line": {
            "color": "#2a3f5f"
           }
          },
          "ternary": {
           "aaxis": {
            "gridcolor": "white",
            "linecolor": "white",
            "ticks": ""
           },
           "baxis": {
            "gridcolor": "white",
            "linecolor": "white",
            "ticks": ""
           },
           "bgcolor": "#E5ECF6",
           "caxis": {
            "gridcolor": "white",
            "linecolor": "white",
            "ticks": ""
           }
          },
          "title": {
           "x": 0.05
          },
          "xaxis": {
           "automargin": true,
           "gridcolor": "white",
           "linecolor": "white",
           "ticks": "",
           "title": {
            "standoff": 15
           },
           "zerolinecolor": "white",
           "zerolinewidth": 2
          },
          "yaxis": {
           "automargin": true,
           "gridcolor": "white",
           "linecolor": "white",
           "ticks": "",
           "title": {
            "standoff": 15
           },
           "zerolinecolor": "white",
           "zerolinewidth": 2
          }
         }
        },
        "title": {
         "text": "numero de delitos por mes"
        },
        "xaxis": {
         "anchor": "y",
         "domain": [
          0,
          1
         ],
         "title": {
          "text": "mes"
         }
        },
        "yaxis": {
         "anchor": "x",
         "domain": [
          0,
          1
         ],
         "title": {
          "text": "numero"
         }
        }
       }
      },
      "text/html": [
       "<div>\n",
       "        \n",
       "        \n",
       "            <div id=\"491eaf2d-1080-4eae-83db-aa53027c1a8b\" class=\"plotly-graph-div\" style=\"height:525px; width:100%;\"></div>\n",
       "            <script type=\"text/javascript\">\n",
       "                require([\"plotly\"], function(Plotly) {\n",
       "                    window.PLOTLYENV=window.PLOTLYENV || {};\n",
       "                    \n",
       "                if (document.getElementById(\"491eaf2d-1080-4eae-83db-aa53027c1a8b\")) {\n",
       "                    Plotly.newPlot(\n",
       "                        '491eaf2d-1080-4eae-83db-aa53027c1a8b',\n",
       "                        [{\"hovertemplate\": \"mes=%{x}<br>numero=%{y}<extra></extra>\", \"legendgroup\": \"\", \"line\": {\"color\": \"#636efa\", \"dash\": \"solid\"}, \"mode\": \"lines\", \"name\": \"\", \"orientation\": \"v\", \"showlegend\": false, \"type\": \"scatter\", \"x\": [\"Enero\", \"Febrero\", \"Marzo\", \"Abril\", \"Mayo\", \"Junio\", \"Julio\", \"Agosto\", \"Septiembre\", \"Octubre\", \"Noviembre\", \"Diciembre\"], \"xaxis\": \"x\", \"y\": [72462, 71203, 77024, 73488, 78756, 71995, 56517, 59329, 58521, 62970, 59255, 58501], \"yaxis\": \"y\"}],\n",
       "                        {\"legend\": {\"tracegroupgap\": 0}, \"template\": {\"data\": {\"bar\": [{\"error_x\": {\"color\": \"#2a3f5f\"}, \"error_y\": {\"color\": \"#2a3f5f\"}, \"marker\": {\"line\": {\"color\": \"#E5ECF6\", \"width\": 0.5}}, \"type\": \"bar\"}], \"barpolar\": [{\"marker\": {\"line\": {\"color\": \"#E5ECF6\", \"width\": 0.5}}, \"type\": \"barpolar\"}], \"carpet\": [{\"aaxis\": {\"endlinecolor\": \"#2a3f5f\", \"gridcolor\": \"white\", \"linecolor\": \"white\", \"minorgridcolor\": \"white\", \"startlinecolor\": \"#2a3f5f\"}, \"baxis\": {\"endlinecolor\": \"#2a3f5f\", \"gridcolor\": \"white\", \"linecolor\": \"white\", \"minorgridcolor\": \"white\", \"startlinecolor\": \"#2a3f5f\"}, \"type\": \"carpet\"}], \"choropleth\": [{\"colorbar\": {\"outlinewidth\": 0, \"ticks\": \"\"}, \"type\": \"choropleth\"}], \"contour\": [{\"colorbar\": {\"outlinewidth\": 0, \"ticks\": \"\"}, \"colorscale\": [[0.0, \"#0d0887\"], [0.1111111111111111, \"#46039f\"], [0.2222222222222222, \"#7201a8\"], [0.3333333333333333, \"#9c179e\"], [0.4444444444444444, \"#bd3786\"], [0.5555555555555556, \"#d8576b\"], [0.6666666666666666, \"#ed7953\"], [0.7777777777777778, \"#fb9f3a\"], [0.8888888888888888, \"#fdca26\"], [1.0, \"#f0f921\"]], \"type\": \"contour\"}], \"contourcarpet\": [{\"colorbar\": {\"outlinewidth\": 0, \"ticks\": \"\"}, \"type\": \"contourcarpet\"}], \"heatmap\": [{\"colorbar\": {\"outlinewidth\": 0, \"ticks\": \"\"}, \"colorscale\": [[0.0, \"#0d0887\"], [0.1111111111111111, \"#46039f\"], [0.2222222222222222, \"#7201a8\"], [0.3333333333333333, \"#9c179e\"], [0.4444444444444444, \"#bd3786\"], [0.5555555555555556, \"#d8576b\"], [0.6666666666666666, \"#ed7953\"], [0.7777777777777778, \"#fb9f3a\"], [0.8888888888888888, \"#fdca26\"], [1.0, \"#f0f921\"]], \"type\": \"heatmap\"}], \"heatmapgl\": [{\"colorbar\": {\"outlinewidth\": 0, \"ticks\": \"\"}, \"colorscale\": [[0.0, \"#0d0887\"], [0.1111111111111111, \"#46039f\"], [0.2222222222222222, \"#7201a8\"], [0.3333333333333333, \"#9c179e\"], [0.4444444444444444, \"#bd3786\"], [0.5555555555555556, \"#d8576b\"], [0.6666666666666666, \"#ed7953\"], [0.7777777777777778, \"#fb9f3a\"], [0.8888888888888888, \"#fdca26\"], [1.0, \"#f0f921\"]], \"type\": \"heatmapgl\"}], \"histogram\": [{\"marker\": {\"colorbar\": {\"outlinewidth\": 0, \"ticks\": \"\"}}, \"type\": \"histogram\"}], \"histogram2d\": [{\"colorbar\": {\"outlinewidth\": 0, \"ticks\": \"\"}, \"colorscale\": [[0.0, \"#0d0887\"], [0.1111111111111111, \"#46039f\"], [0.2222222222222222, \"#7201a8\"], [0.3333333333333333, \"#9c179e\"], [0.4444444444444444, \"#bd3786\"], [0.5555555555555556, \"#d8576b\"], [0.6666666666666666, \"#ed7953\"], [0.7777777777777778, \"#fb9f3a\"], [0.8888888888888888, \"#fdca26\"], [1.0, \"#f0f921\"]], \"type\": \"histogram2d\"}], \"histogram2dcontour\": [{\"colorbar\": {\"outlinewidth\": 0, \"ticks\": \"\"}, \"colorscale\": [[0.0, \"#0d0887\"], [0.1111111111111111, \"#46039f\"], [0.2222222222222222, \"#7201a8\"], [0.3333333333333333, \"#9c179e\"], [0.4444444444444444, \"#bd3786\"], [0.5555555555555556, \"#d8576b\"], [0.6666666666666666, \"#ed7953\"], [0.7777777777777778, \"#fb9f3a\"], [0.8888888888888888, \"#fdca26\"], [1.0, \"#f0f921\"]], \"type\": \"histogram2dcontour\"}], \"mesh3d\": [{\"colorbar\": {\"outlinewidth\": 0, \"ticks\": \"\"}, \"type\": \"mesh3d\"}], \"parcoords\": [{\"line\": {\"colorbar\": {\"outlinewidth\": 0, \"ticks\": \"\"}}, \"type\": \"parcoords\"}], \"pie\": [{\"automargin\": true, \"type\": \"pie\"}], \"scatter\": [{\"marker\": {\"colorbar\": {\"outlinewidth\": 0, \"ticks\": \"\"}}, \"type\": \"scatter\"}], \"scatter3d\": [{\"line\": {\"colorbar\": {\"outlinewidth\": 0, \"ticks\": \"\"}}, \"marker\": {\"colorbar\": {\"outlinewidth\": 0, \"ticks\": \"\"}}, \"type\": \"scatter3d\"}], \"scattercarpet\": [{\"marker\": {\"colorbar\": {\"outlinewidth\": 0, \"ticks\": \"\"}}, \"type\": \"scattercarpet\"}], \"scattergeo\": [{\"marker\": {\"colorbar\": {\"outlinewidth\": 0, \"ticks\": \"\"}}, \"type\": \"scattergeo\"}], \"scattergl\": [{\"marker\": {\"colorbar\": {\"outlinewidth\": 0, \"ticks\": \"\"}}, \"type\": \"scattergl\"}], \"scattermapbox\": [{\"marker\": {\"colorbar\": {\"outlinewidth\": 0, \"ticks\": \"\"}}, \"type\": \"scattermapbox\"}], \"scatterpolar\": [{\"marker\": {\"colorbar\": {\"outlinewidth\": 0, \"ticks\": \"\"}}, \"type\": \"scatterpolar\"}], \"scatterpolargl\": [{\"marker\": {\"colorbar\": {\"outlinewidth\": 0, \"ticks\": \"\"}}, \"type\": \"scatterpolargl\"}], \"scatterternary\": [{\"marker\": {\"colorbar\": {\"outlinewidth\": 0, \"ticks\": \"\"}}, \"type\": \"scatterternary\"}], \"surface\": [{\"colorbar\": {\"outlinewidth\": 0, \"ticks\": \"\"}, \"colorscale\": [[0.0, \"#0d0887\"], [0.1111111111111111, \"#46039f\"], [0.2222222222222222, \"#7201a8\"], [0.3333333333333333, \"#9c179e\"], [0.4444444444444444, \"#bd3786\"], [0.5555555555555556, \"#d8576b\"], [0.6666666666666666, \"#ed7953\"], [0.7777777777777778, \"#fb9f3a\"], [0.8888888888888888, \"#fdca26\"], [1.0, \"#f0f921\"]], \"type\": \"surface\"}], \"table\": [{\"cells\": {\"fill\": {\"color\": \"#EBF0F8\"}, \"line\": {\"color\": \"white\"}}, \"header\": {\"fill\": {\"color\": \"#C8D4E3\"}, \"line\": {\"color\": \"white\"}}, \"type\": \"table\"}]}, \"layout\": {\"annotationdefaults\": {\"arrowcolor\": \"#2a3f5f\", \"arrowhead\": 0, \"arrowwidth\": 1}, \"coloraxis\": {\"colorbar\": {\"outlinewidth\": 0, \"ticks\": \"\"}}, \"colorscale\": {\"diverging\": [[0, \"#8e0152\"], [0.1, \"#c51b7d\"], [0.2, \"#de77ae\"], [0.3, \"#f1b6da\"], [0.4, \"#fde0ef\"], [0.5, \"#f7f7f7\"], [0.6, \"#e6f5d0\"], [0.7, \"#b8e186\"], [0.8, \"#7fbc41\"], [0.9, \"#4d9221\"], [1, \"#276419\"]], \"sequential\": [[0.0, \"#0d0887\"], [0.1111111111111111, \"#46039f\"], [0.2222222222222222, \"#7201a8\"], [0.3333333333333333, \"#9c179e\"], [0.4444444444444444, \"#bd3786\"], [0.5555555555555556, \"#d8576b\"], [0.6666666666666666, \"#ed7953\"], [0.7777777777777778, \"#fb9f3a\"], [0.8888888888888888, \"#fdca26\"], [1.0, \"#f0f921\"]], \"sequentialminus\": [[0.0, \"#0d0887\"], [0.1111111111111111, \"#46039f\"], [0.2222222222222222, \"#7201a8\"], [0.3333333333333333, \"#9c179e\"], [0.4444444444444444, \"#bd3786\"], [0.5555555555555556, \"#d8576b\"], [0.6666666666666666, \"#ed7953\"], [0.7777777777777778, \"#fb9f3a\"], [0.8888888888888888, \"#fdca26\"], [1.0, \"#f0f921\"]]}, \"colorway\": [\"#636efa\", \"#EF553B\", \"#00cc96\", \"#ab63fa\", \"#FFA15A\", \"#19d3f3\", \"#FF6692\", \"#B6E880\", \"#FF97FF\", \"#FECB52\"], \"font\": {\"color\": \"#2a3f5f\"}, \"geo\": {\"bgcolor\": \"white\", \"lakecolor\": \"white\", \"landcolor\": \"#E5ECF6\", \"showlakes\": true, \"showland\": true, \"subunitcolor\": \"white\"}, \"hoverlabel\": {\"align\": \"left\"}, \"hovermode\": \"closest\", \"mapbox\": {\"style\": \"light\"}, \"paper_bgcolor\": \"white\", \"plot_bgcolor\": \"#E5ECF6\", \"polar\": {\"angularaxis\": {\"gridcolor\": \"white\", \"linecolor\": \"white\", \"ticks\": \"\"}, \"bgcolor\": \"#E5ECF6\", \"radialaxis\": {\"gridcolor\": \"white\", \"linecolor\": \"white\", \"ticks\": \"\"}}, \"scene\": {\"xaxis\": {\"backgroundcolor\": \"#E5ECF6\", \"gridcolor\": \"white\", \"gridwidth\": 2, \"linecolor\": \"white\", \"showbackground\": true, \"ticks\": \"\", \"zerolinecolor\": \"white\"}, \"yaxis\": {\"backgroundcolor\": \"#E5ECF6\", \"gridcolor\": \"white\", \"gridwidth\": 2, \"linecolor\": \"white\", \"showbackground\": true, \"ticks\": \"\", \"zerolinecolor\": \"white\"}, \"zaxis\": {\"backgroundcolor\": \"#E5ECF6\", \"gridcolor\": \"white\", \"gridwidth\": 2, \"linecolor\": \"white\", \"showbackground\": true, \"ticks\": \"\", \"zerolinecolor\": \"white\"}}, \"shapedefaults\": {\"line\": {\"color\": \"#2a3f5f\"}}, \"ternary\": {\"aaxis\": {\"gridcolor\": \"white\", \"linecolor\": \"white\", \"ticks\": \"\"}, \"baxis\": {\"gridcolor\": \"white\", \"linecolor\": \"white\", \"ticks\": \"\"}, \"bgcolor\": \"#E5ECF6\", \"caxis\": {\"gridcolor\": \"white\", \"linecolor\": \"white\", \"ticks\": \"\"}}, \"title\": {\"x\": 0.05}, \"xaxis\": {\"automargin\": true, \"gridcolor\": \"white\", \"linecolor\": \"white\", \"ticks\": \"\", \"title\": {\"standoff\": 15}, \"zerolinecolor\": \"white\", \"zerolinewidth\": 2}, \"yaxis\": {\"automargin\": true, \"gridcolor\": \"white\", \"linecolor\": \"white\", \"ticks\": \"\", \"title\": {\"standoff\": 15}, \"zerolinecolor\": \"white\", \"zerolinewidth\": 2}}}, \"title\": {\"text\": \"numero de delitos por mes\"}, \"xaxis\": {\"anchor\": \"y\", \"domain\": [0.0, 1.0], \"title\": {\"text\": \"mes\"}}, \"yaxis\": {\"anchor\": \"x\", \"domain\": [0.0, 1.0], \"title\": {\"text\": \"numero\"}}},\n",
       "                        {\"responsive\": true}\n",
       "                    ).then(function(){\n",
       "                            \n",
       "var gd = document.getElementById('491eaf2d-1080-4eae-83db-aa53027c1a8b');\n",
       "var x = new MutationObserver(function (mutations, observer) {{\n",
       "        var display = window.getComputedStyle(gd).display;\n",
       "        if (!display || display === 'none') {{\n",
       "            console.log([gd, 'removed!']);\n",
       "            Plotly.purge(gd);\n",
       "            observer.disconnect();\n",
       "        }}\n",
       "}});\n",
       "\n",
       "// Listen for the removal of the full notebook cells\n",
       "var notebookContainer = gd.closest('#notebook-container');\n",
       "if (notebookContainer) {{\n",
       "    x.observe(notebookContainer, {childList: true});\n",
       "}}\n",
       "\n",
       "// Listen for the clearing of the current output cell\n",
       "var outputEl = gd.closest('.output');\n",
       "if (outputEl) {{\n",
       "    x.observe(outputEl, {childList: true});\n",
       "}}\n",
       "\n",
       "                        })\n",
       "                };\n",
       "                });\n",
       "            </script>\n",
       "        </div>"
      ]
     },
     "metadata": {},
     "output_type": "display_data"
    }
   ],
   "source": [
    "import plotly.express as px\n",
    "\n",
    "df_x = meses_ordenados\n",
    "fig = px.line(df_x, x=\"mes\", y=\"numero\", title='numero de delitos por mes')\n",
    "fig.show()"
   ]
  },
  {
   "cell_type": "markdown",
   "metadata": {},
   "source": [
    "Marzo y mayo son los meses más peligrosos y Julio y Diciembre los más seguros"
   ]
  },
  {
   "cell_type": "markdown",
   "metadata": {},
   "source": [
    "8) ¿Cuales son los delitos que más caracterizan a cada alcaldía? Es decir, delitos que\n",
    "suceden con mayor frecuencia en una alcaldía y con menor frecuencia en las demás."
   ]
  },
  {
   "cell_type": "code",
   "execution_count": 74,
   "metadata": {},
   "outputs": [],
   "source": [
    "df_del=df[[\"alcaldia_hechos\",\"delito\"]].dropna()"
   ]
  },
  {
   "cell_type": "code",
   "execution_count": 75,
   "metadata": {},
   "outputs": [
    {
     "data": {
      "text/html": [
       "<div>\n",
       "<style scoped>\n",
       "    .dataframe tbody tr th:only-of-type {\n",
       "        vertical-align: middle;\n",
       "    }\n",
       "\n",
       "    .dataframe tbody tr th {\n",
       "        vertical-align: top;\n",
       "    }\n",
       "\n",
       "    .dataframe thead th {\n",
       "        text-align: right;\n",
       "    }\n",
       "</style>\n",
       "<table border=\"1\" class=\"dataframe\">\n",
       "  <thead>\n",
       "    <tr style=\"text-align: right;\">\n",
       "      <th></th>\n",
       "      <th>alcaldia</th>\n",
       "      <th>tipo de delito</th>\n",
       "      <th>numero de delitos</th>\n",
       "    </tr>\n",
       "  </thead>\n",
       "  <tbody>\n",
       "  </tbody>\n",
       "</table>\n",
       "</div>"
      ],
      "text/plain": [
       "Empty DataFrame\n",
       "Columns: [alcaldia, tipo de delito, numero de delitos]\n",
       "Index: []"
      ]
     },
     "execution_count": 75,
     "metadata": {},
     "output_type": "execute_result"
    }
   ],
   "source": [
    "tipo=pd.DataFrame(columns=[\"alcaldia\",\"tipo de delito\",\"numero de delitos\"])\n",
    "tipo"
   ]
  },
  {
   "cell_type": "code",
   "execution_count": 76,
   "metadata": {},
   "outputs": [],
   "source": [
    "for alcaldia in alcaldias:\n",
    "    h=pd.DataFrame(df_del[df_del[\"alcaldia_hechos\"]==alcaldia][\"delito\"].value_counts().head(5))\n",
    "    h[\"tipo de delito\"]=h.index\n",
    "    h[\"alcaldia\"]=alcaldia\n",
    "    h=h[[\"alcaldia\",\"tipo de delito\",\"delito\"]]\n",
    "    h.columns=[\"alcaldia\",\"tipo de delito\",\"numero de delitos\"]\n",
    "    h.index=[i for i in range(len(h))]\n",
    "    tipo=tipo.append(h)"
   ]
  },
  {
   "cell_type": "code",
   "execution_count": 77,
   "metadata": {},
   "outputs": [
    {
     "data": {
      "text/html": [
       "<div>\n",
       "<style scoped>\n",
       "    .dataframe tbody tr th:only-of-type {\n",
       "        vertical-align: middle;\n",
       "    }\n",
       "\n",
       "    .dataframe tbody tr th {\n",
       "        vertical-align: top;\n",
       "    }\n",
       "\n",
       "    .dataframe thead th {\n",
       "        text-align: right;\n",
       "    }\n",
       "</style>\n",
       "<table border=\"1\" class=\"dataframe\">\n",
       "  <thead>\n",
       "    <tr style=\"text-align: right;\">\n",
       "      <th></th>\n",
       "      <th>alcaldia</th>\n",
       "      <th>tipo de delito</th>\n",
       "      <th>numero de delitos</th>\n",
       "    </tr>\n",
       "  </thead>\n",
       "  <tbody>\n",
       "    <tr>\n",
       "      <th>0</th>\n",
       "      <td>xochimilco</td>\n",
       "      <td>VIOLENCIA FAMILIAR</td>\n",
       "      <td>3506</td>\n",
       "    </tr>\n",
       "    <tr>\n",
       "      <th>1</th>\n",
       "      <td>xochimilco</td>\n",
       "      <td>AMENAZAS</td>\n",
       "      <td>1581</td>\n",
       "    </tr>\n",
       "    <tr>\n",
       "      <th>2</th>\n",
       "      <td>xochimilco</td>\n",
       "      <td>ROBO A TRANSEUNTE EN VIA PUBLICA CON VIOLENCIA</td>\n",
       "      <td>1262</td>\n",
       "    </tr>\n",
       "    <tr>\n",
       "      <th>3</th>\n",
       "      <td>xochimilco</td>\n",
       "      <td>ROBO A CASA HABITACION SIN VIOLENCIA</td>\n",
       "      <td>1114</td>\n",
       "    </tr>\n",
       "    <tr>\n",
       "      <th>4</th>\n",
       "      <td>xochimilco</td>\n",
       "      <td>ROBO DE VEHICULO DE SERVICIO PARTICULAR SIN VI...</td>\n",
       "      <td>1053</td>\n",
       "    </tr>\n",
       "    <tr>\n",
       "      <th>...</th>\n",
       "      <td>...</td>\n",
       "      <td>...</td>\n",
       "      <td>...</td>\n",
       "    </tr>\n",
       "    <tr>\n",
       "      <th>0</th>\n",
       "      <td>iztacalco</td>\n",
       "      <td>VIOLENCIA FAMILIAR</td>\n",
       "      <td>4348</td>\n",
       "    </tr>\n",
       "    <tr>\n",
       "      <th>1</th>\n",
       "      <td>iztacalco</td>\n",
       "      <td>DENUNCIA DE HECHOS</td>\n",
       "      <td>1988</td>\n",
       "    </tr>\n",
       "    <tr>\n",
       "      <th>2</th>\n",
       "      <td>iztacalco</td>\n",
       "      <td>ROBO DE OBJETOS</td>\n",
       "      <td>1919</td>\n",
       "    </tr>\n",
       "    <tr>\n",
       "      <th>3</th>\n",
       "      <td>iztacalco</td>\n",
       "      <td>ROBO A TRANSEUNTE DE CELULAR CON VIOLENCIA</td>\n",
       "      <td>1738</td>\n",
       "    </tr>\n",
       "    <tr>\n",
       "      <th>4</th>\n",
       "      <td>iztacalco</td>\n",
       "      <td>AMENAZAS</td>\n",
       "      <td>1633</td>\n",
       "    </tr>\n",
       "  </tbody>\n",
       "</table>\n",
       "<p>80 rows × 3 columns</p>\n",
       "</div>"
      ],
      "text/plain": [
       "      alcaldia                                     tipo de delito  \\\n",
       "0   xochimilco                                 VIOLENCIA FAMILIAR   \n",
       "1   xochimilco                                           AMENAZAS   \n",
       "2   xochimilco     ROBO A TRANSEUNTE EN VIA PUBLICA CON VIOLENCIA   \n",
       "3   xochimilco               ROBO A CASA HABITACION SIN VIOLENCIA   \n",
       "4   xochimilco  ROBO DE VEHICULO DE SERVICIO PARTICULAR SIN VI...   \n",
       "..         ...                                                ...   \n",
       "0    iztacalco                                 VIOLENCIA FAMILIAR   \n",
       "1    iztacalco                                 DENUNCIA DE HECHOS   \n",
       "2    iztacalco                                    ROBO DE OBJETOS   \n",
       "3    iztacalco         ROBO A TRANSEUNTE DE CELULAR CON VIOLENCIA   \n",
       "4    iztacalco                                           AMENAZAS   \n",
       "\n",
       "   numero de delitos  \n",
       "0               3506  \n",
       "1               1581  \n",
       "2               1262  \n",
       "3               1114  \n",
       "4               1053  \n",
       "..               ...  \n",
       "0               4348  \n",
       "1               1988  \n",
       "2               1919  \n",
       "3               1738  \n",
       "4               1633  \n",
       "\n",
       "[80 rows x 3 columns]"
      ]
     },
     "execution_count": 77,
     "metadata": {},
     "output_type": "execute_result"
    }
   ],
   "source": [
    "tipo"
   ]
  },
  {
   "cell_type": "markdown",
   "metadata": {},
   "source": [
    "En la tabla anterior se muestra los delitos que más caracterizan a cada alcaldia"
   ]
  },
  {
   "cell_type": "markdown",
   "metadata": {},
   "source": [
    "9) Calcula el número de homicidios dolosos por cada 100 mil habitantes anual para cada\n",
    "Área Geoestadística Básica (AGEB) del INEGI. (hint: no importa que el dato de\n",
    "población no esté actualizado).\n",
    "\n",
    "\n",
    "a) Pinta un mapa con este indicador. Describe los resultados."
   ]
  },
  {
   "cell_type": "code",
   "execution_count": 287,
   "metadata": {},
   "outputs": [
    {
     "name": "stdout",
     "output_type": "stream",
     "text": [
      "09a.cpg   09cd.cpg   09ent.shp  09fm.shx   09l.shx    09mun.shx  09sil.shp\r\n",
      "09a.dbf   09cd.dbf   09ent.shx  09l.dbf    09m.cpg    09sia.cpg  09sil.shx\r\n",
      "09a.prj   09cd.prj   09e.prj    09lpr.cpg  09m.dbf    09sia.dbf  09sip.cpg\r\n",
      "09ar.dbf  09cd.shp   09e.shp    09lpr.dbf  09m.prj    09sia.prj  09sip.dbf\r\n",
      "09ar.prj  09cd.shx   09e.shx    09l.prj    09m.shp    09sia.shp  09sip.prj\r\n",
      "09ar.shp  09e.cpg    09fm.cpg   09lpr.prj  09m.shx    09sia.shx  09sip.shp\r\n",
      "09ar.shx  09e.dbf    09fm.dbf   09lpr.shp  09mun.dbf  09sil.cpg  09sip.shx\r\n",
      "09a.shp   09ent.dbf  09fm.prj   09lpr.shx  09mun.prj  09sil.dbf\r\n",
      "09a.shx   09ent.prj  09fm.shp   09l.shp    09mun.shp  09sil.prj\r\n"
     ]
    }
   ],
   "source": [
    "ls 'conjunto de datos'"
   ]
  },
  {
   "cell_type": "code",
   "execution_count": 304,
   "metadata": {},
   "outputs": [],
   "source": [
    "from os import listdir\n",
    "from os.path import isfile, join\n",
    "mypath=\"conjunto de datos/\"\n",
    "onlyfiles = [f for f in listdir(mypath) if isfile(join(mypath, f))]"
   ]
  },
  {
   "cell_type": "code",
   "execution_count": 313,
   "metadata": {},
   "outputs": [
    {
     "data": {
      "text/plain": [
       "['09ent.shx', '09sia.prj', '09mun.dbf', '09a.cpg', '09mun.shp']"
      ]
     },
     "execution_count": 313,
     "metadata": {},
     "output_type": "execute_result"
    }
   ],
   "source": [
    "onlyfiles[0:5]"
   ]
  },
  {
   "cell_type": "code",
   "execution_count": 314,
   "metadata": {},
   "outputs": [
    {
     "name": "stdout",
     "output_type": "stream",
     "text": [
      "<pycrs.elements.cs.ProjCS object at 0x7fd37c02a2d0>\n"
     ]
    }
   ],
   "source": [
    "import pycrs\n",
    "crs = pycrs.load.from_file(\"conjunto de datos/09sia.prj\")\n",
    "print(crs)"
   ]
  },
  {
   "cell_type": "code",
   "execution_count": 319,
   "metadata": {},
   "outputs": [
    {
     "name": "stdout",
     "output_type": "stream",
     "text": [
      "OrderedDict([('CVE_ENT', '09'), ('CVE_MUN', '002'), ('CVEGEO', '09002'), ('NOMGEO', 'Azcapotzalco')])\n",
      "OrderedDict([('CVE_ENT', '09'), ('CVE_MUN', '003'), ('CVEGEO', '09003'), ('NOMGEO', 'Coyoacán')])\n",
      "OrderedDict([('CVE_ENT', '09'), ('CVE_MUN', '004'), ('CVEGEO', '09004'), ('NOMGEO', 'Cuajimalpa de Morelos')])\n",
      "OrderedDict([('CVE_ENT', '09'), ('CVE_MUN', '005'), ('CVEGEO', '09005'), ('NOMGEO', 'Gustavo A. Madero')])\n",
      "OrderedDict([('CVE_ENT', '09'), ('CVE_MUN', '006'), ('CVEGEO', '09006'), ('NOMGEO', 'Iztacalco')])\n",
      "OrderedDict([('CVE_ENT', '09'), ('CVE_MUN', '007'), ('CVEGEO', '09007'), ('NOMGEO', 'Iztapalapa')])\n",
      "OrderedDict([('CVE_ENT', '09'), ('CVE_MUN', '008'), ('CVEGEO', '09008'), ('NOMGEO', 'La Magdalena Contreras')])\n",
      "OrderedDict([('CVE_ENT', '09'), ('CVE_MUN', '009'), ('CVEGEO', '09009'), ('NOMGEO', 'Milpa Alta')])\n",
      "OrderedDict([('CVE_ENT', '09'), ('CVE_MUN', '010'), ('CVEGEO', '09010'), ('NOMGEO', 'Álvaro Obregón')])\n",
      "OrderedDict([('CVE_ENT', '09'), ('CVE_MUN', '011'), ('CVEGEO', '09011'), ('NOMGEO', 'Tláhuac')])\n",
      "OrderedDict([('CVE_ENT', '09'), ('CVE_MUN', '012'), ('CVEGEO', '09012'), ('NOMGEO', 'Tlalpan')])\n",
      "OrderedDict([('CVE_ENT', '09'), ('CVE_MUN', '013'), ('CVEGEO', '09013'), ('NOMGEO', 'Xochimilco')])\n",
      "OrderedDict([('CVE_ENT', '09'), ('CVE_MUN', '014'), ('CVEGEO', '09014'), ('NOMGEO', 'Benito Juárez')])\n",
      "OrderedDict([('CVE_ENT', '09'), ('CVE_MUN', '015'), ('CVEGEO', '09015'), ('NOMGEO', 'Cuauhtémoc')])\n",
      "OrderedDict([('CVE_ENT', '09'), ('CVE_MUN', '016'), ('CVEGEO', '09016'), ('NOMGEO', 'Miguel Hidalgo')])\n",
      "OrderedDict([('CVE_ENT', '09'), ('CVE_MUN', '017'), ('CVEGEO', '09017'), ('NOMGEO', 'Venustiano Carranza')])\n",
      "OrderedDict([('CVE_ENT', '09'), ('CVE_MUN', '002'), ('CVE_LOC', '0001'), ('CVE_AGEB', '0557'), ('CVE_MZA', '007'), ('CVE_FT', '5'), ('CVE_VIAL', '00576'), ('CVE_SEG', '00001'), ('NOMVIAL', '12'), ('TIPOVIAL', 'Calle')])\n",
      "OrderedDict([('CVE_ENT', '09'), ('CVE_MUN', '002'), ('CVE_LOC', '0001'), ('CVE_AGEB', '0557'), ('CVE_MZA', '026'), ('CVE_FT', '3'), ('CVE_VIAL', '00494'), ('CVE_SEG', '00009'), ('NOMVIAL', '10'), ('TIPOVIAL', 'Calle')])\n",
      "OrderedDict([('CVE_ENT', '09'), ('CVE_MUN', '002'), ('CVE_LOC', '0001'), ('CVE_AGEB', '0843'), ('CVE_MZA', '020'), ('CVE_FT', '2'), ('CVE_VIAL', '00460'), ('CVE_SEG', '00009'), ('NOMVIAL', 'Artemisa'), ('TIPOVIAL', 'Calle')])\n",
      "OrderedDict([('CVE_ENT', '09'), ('CVE_MUN', '002'), ('CVE_LOC', '0001'), ('CVE_AGEB', '0025'), ('CVE_MZA', '008'), ('CVE_FT', '2'), ('CVE_VIAL', '00015'), ('CVE_SEG', '00008'), ('NOMVIAL', 'Ninguno'), ('TIPOVIAL', 'Calle')])\n",
      "OrderedDict([('CVE_ENT', '09'), ('CVE_MUN', '002'), ('CVE_LOC', '0001'), ('CVE_AGEB', '0025'), ('CVE_MZA', '008'), ('CVE_FT', '3'), ('CVE_VIAL', '00038'), ('CVE_SEG', '00001'), ('NOMVIAL', 'Ninguno'), ('TIPOVIAL', 'Calle')])\n",
      "OrderedDict([('CVE_ENT', '09'), ('CVE_MUN', '002'), ('CVE_LOC', '0001'), ('CVE_AGEB', '0025'), ('CVE_MZA', '008'), ('CVE_FT', '4'), ('CVE_VIAL', '00014'), ('CVE_SEG', '00007'), ('NOMVIAL', 'Mercaderes'), ('TIPOVIAL', 'Calle')])\n",
      "OrderedDict([('CVE_ENT', '09'), ('CVE_MUN', '002'), ('CVE_LOC', '0001'), ('CVE_AGEB', '0025'), ('CVE_MZA', '009'), ('CVE_FT', '2'), ('CVE_VIAL', '00038'), ('CVE_SEG', '00001'), ('NOMVIAL', 'Ninguno'), ('TIPOVIAL', 'Calle')])\n",
      "OrderedDict([('CVE_ENT', '09'), ('CVE_MUN', '002'), ('CVE_LOC', '0001'), ('CVE_AGEB', '0025'), ('CVE_MZA', '018'), ('CVE_FT', '2'), ('CVE_VIAL', '00036'), ('CVE_SEG', '00001'), ('NOMVIAL', 'Ninguno'), ('TIPOVIAL', 'Calle')])\n",
      "OrderedDict([('CVEGEO', '0900400540157800'), ('CVE_ENT', '09'), ('CVE_MUN', '004'), ('CVE_AGEB', '0157'), ('CVE_LOC', '0054'), ('PLANO', 'C'), ('CVE_MZA', '800'), ('NOMGEO', 'Puerto las Cruces (Monte las Cruces)')])\n",
      "OrderedDict([('CVEGEO', '0900400550157800'), ('CVE_ENT', '09'), ('CVE_MUN', '004'), ('CVE_AGEB', '0157'), ('CVE_LOC', '0055'), ('PLANO', 'N'), ('CVE_MZA', '800'), ('NOMGEO', 'Teopazulco')])\n",
      "OrderedDict([('CVEGEO', '0900400560157800'), ('CVE_ENT', '09'), ('CVE_MUN', '004'), ('CVE_AGEB', '0157'), ('CVE_LOC', '0056'), ('PLANO', 'N'), ('CVE_MZA', '800'), ('NOMGEO', 'Valle de las Monjas')])\n",
      "OrderedDict([('CVE_ENT', '09'), ('CVE_MUN', '002'), ('CVE_LOC', '0001'), ('NOMLOC', 'Azcapotzalco'), ('TIPO', 'Urbana')])\n",
      "OrderedDict([('CVE_ENT', '09'), ('CVE_MUN', '003'), ('CVE_LOC', '0001'), ('NOMLOC', 'Coyoacán'), ('TIPO', 'Urbana')])\n",
      "OrderedDict([('CVE_ENT', '09'), ('CVE_MUN', '004'), ('CVE_LOC', '0001'), ('NOMLOC', 'Cuajimalpa de Morelos'), ('TIPO', 'Urbana')])\n",
      "OrderedDict([('CVE_ENT', '09'), ('CVE_MUN', '004'), ('CVE_LOC', '0010'), ('NOMLOC', 'Cruz Blanca'), ('TIPO', 'Rural')])\n",
      "OrderedDict([('CVE_ENT', '09'), ('CVE_MUN', '004'), ('CVE_LOC', '0020'), ('NOMLOC', 'San Lorenzo Acopilco'), ('TIPO', 'Urbana')])\n",
      "OrderedDict([('CVE_ENT', '09'), ('CVE_MUN', '004'), ('CVE_LOC', '0050'), ('NOMLOC', 'La Venta'), ('TIPO', 'Rural')])\n",
      "OrderedDict([('CVE_ENT', '09'), ('CVE_MUN', '004'), ('CVE_LOC', '0063'), ('NOMLOC', 'Santa Rosa'), ('TIPO', 'Rural')])\n",
      "OrderedDict([('CVE_ENT', '09'), ('CVE_MUN', '005'), ('CVE_LOC', '0001'), ('NOMLOC', 'Gustavo A. Madero'), ('TIPO', 'Urbana')])\n",
      "OrderedDict([('CVE_ENT', '09'), ('CVE_MUN', '006'), ('CVE_LOC', '0001'), ('NOMLOC', 'Iztacalco'), ('TIPO', 'Urbana')])\n",
      "OrderedDict([('CVE_ENT', '09'), ('CVE_MUN', '007'), ('CVE_LOC', '0001'), ('NOMLOC', 'Iztapalapa'), ('TIPO', 'Urbana')])\n",
      "OrderedDict([('CVE_ENT', '09'), ('CVE_MUN', '008'), ('CVE_LOC', '0001'), ('NOMLOC', 'La Magdalena Contreras'), ('TIPO', 'Urbana')])\n",
      "OrderedDict([('CVE_ENT', '09'), ('CVE_MUN', '009'), ('CVE_LOC', '0001'), ('NOMLOC', 'Villa Milpa Alta'), ('TIPO', 'Urbana')])\n",
      "OrderedDict([('CVE_ENT', '09'), ('CVE_MUN', '009'), ('CVE_LOC', '0011'), ('NOMLOC', 'San Antonio Tecómitl'), ('TIPO', 'Urbana')])\n",
      "OrderedDict([('CVE_ENT', '09'), ('CVE_MUN', '009'), ('CVE_LOC', '0015'), ('NOMLOC', 'San Bartolomé Xicomulco'), ('TIPO', 'Urbana')])\n",
      "OrderedDict([('CVE_ENT', '09'), ('CVE_MUN', '009'), ('CVE_LOC', '0017'), ('NOMLOC', 'San Francisco Tecoxpa'), ('TIPO', 'Urbana')])\n",
      "OrderedDict([('CVE_ENT', '09'), ('CVE_MUN', '009'), ('CVE_LOC', '0024'), ('NOMLOC', 'San Pablo Oztotepec'), ('TIPO', 'Urbana')])\n",
      "OrderedDict([('CVE_ENT', '09'), ('CVE_MUN', '009'), ('CVE_LOC', '0029'), ('NOMLOC', 'San Pedro Atocpan'), ('TIPO', 'Urbana')])\n",
      "OrderedDict([('CVE_ENT', '09'), ('CVE_MUN', '009'), ('CVE_LOC', '0033'), ('NOMLOC', 'San Salvador Cuauhtenco'), ('TIPO', 'Urbana')])\n",
      "OrderedDict([('CVE_ENT', '09'), ('CVE_MUN', '009'), ('CVE_LOC', '0036'), ('NOMLOC', 'Santa Ana Tlacotenco'), ('TIPO', 'Urbana')])\n",
      "OrderedDict([('CVE_ENT', '09'), ('CVE_MUN', '009'), ('CVE_LOC', '0037'), ('NOMLOC', 'Cruztitla'), ('TIPO', 'Rural')])\n",
      "OrderedDict([('CVE_ENT', '09'), ('CVE_MUN', '009'), ('CVE_LOC', '0152'), ('NOMLOC', 'San Lorenzo Tlacoyucan'), ('TIPO', 'Urbana')])\n",
      "OrderedDict([('CVE_ENT', '09'), ('CVE_MUN', '009'), ('CVE_LOC', '0167'), ('NOMLOC', 'Tepetenco'), ('TIPO', 'Rural')])\n",
      "OrderedDict([('CVE_ENT', '09'), ('CVE_MUN', '009'), ('CVE_LOC', '0168'), ('NOMLOC', 'San Isidro Cuatepec'), ('TIPO', 'Rural')])\n",
      "OrderedDict([('CVE_ENT', '09'), ('CVE_MUN', '009'), ('CVE_LOC', '0171'), ('NOMLOC', 'Tlacaxatl (Barrio Xochitepec)'), ('TIPO', 'Rural')])\n",
      "OrderedDict([('CVE_ENT', '09'), ('CVE_MUN', '009'), ('CVE_LOC', '0174'), ('NOMLOC', 'Mecalco'), ('TIPO', 'Rural')])\n",
      "OrderedDict([('CVE_ENT', '09'), ('CVE_MUN', '009'), ('CVE_LOC', '0187'), ('NOMLOC', 'Santa Catarina (Piedra Blanca)'), ('TIPO', 'Rural')])\n",
      "OrderedDict([('CVE_ENT', '09'), ('CVE_MUN', '009'), ('CVE_LOC', '0188'), ('NOMLOC', 'Cuauhtetec'), ('TIPO', 'Rural')])\n",
      "OrderedDict([('CVE_ENT', '09'), ('CVE_MUN', '009'), ('CVE_LOC', '0211'), ('NOMLOC', 'Olla de Piedra'), ('TIPO', 'Rural')])\n",
      "OrderedDict([('CVE_ENT', '09'), ('CVE_MUN', '009'), ('CVE_LOC', '0285'), ('NOMLOC', 'Tuzanco (Prolongación Mina)'), ('TIPO', 'Rural')])\n",
      "OrderedDict([('CVE_ENT', '09'), ('CVE_MUN', '009'), ('CVE_LOC', '0292'), ('NOMLOC', 'Joyas Parte Alta'), ('TIPO', 'Rural')])\n",
      "OrderedDict([('CVE_ENT', '09'), ('CVE_MUN', '009'), ('CVE_LOC', '0300'), ('NOMLOC', 'San Nicolás Tetelco'), ('TIPO', 'Urbana')])\n",
      "OrderedDict([('CVE_ENT', '09'), ('CVE_MUN', '010'), ('CVE_LOC', '0001'), ('NOMLOC', 'Álvaro Obregón'), ('TIPO', 'Urbana')])\n",
      "OrderedDict([('CVE_ENT', '09'), ('CVE_MUN', '011'), ('CVE_LOC', '0001'), ('NOMLOC', 'Tláhuac'), ('TIPO', 'Urbana')])\n",
      "OrderedDict([('CVE_ENT', '09'), ('CVE_MUN', '011'), ('CVE_LOC', '0011'), ('NOMLOC', 'San Andrés Mixquic'), ('TIPO', 'Urbana')])\n",
      "OrderedDict([('CVE_ENT', '09'), ('CVE_MUN', '011'), ('CVE_LOC', '0021'), ('NOMLOC', 'San Juan Ixtayopan'), ('TIPO', 'Urbana')])\n",
      "OrderedDict([('CVE_ENT', '09'), ('CVE_MUN', '011'), ('CVE_LOC', '0024'), ('NOMLOC', 'San Nicolás Tetelco'), ('TIPO', 'Urbana')])\n",
      "OrderedDict([('CVE_ENT', '09'), ('CVE_MUN', '011'), ('CVE_LOC', '0026'), ('NOMLOC', 'Santa Catarina Yecahuitzotl'), ('TIPO', 'Urbana')])\n",
      "OrderedDict([('CVE_ENT', '09'), ('CVE_MUN', '011'), ('CVE_LOC', '0104'), ('NOMLOC', 'San Ignacio de Loyola'), ('TIPO', 'Rural')])\n",
      "OrderedDict([('CVE_ENT', '09'), ('CVE_MUN', '011'), ('CVE_LOC', '0140'), ('NOMLOC', 'El Paraíso (Mecoxtla)'), ('TIPO', 'Rural')])\n",
      "OrderedDict([('CVE_ENT', '09'), ('CVE_MUN', '011'), ('CVE_LOC', '0142'), ('NOMLOC', 'Ampliación San Miguel'), ('TIPO', 'Rural')])\n",
      "OrderedDict([('CVE_ENT', '09'), ('CVE_MUN', '012'), ('CVE_LOC', '0001'), ('NOMLOC', 'Tlalpan'), ('TIPO', 'Urbana')])\n",
      "OrderedDict([('CVE_ENT', '09'), ('CVE_MUN', '012'), ('CVE_LOC', '0019'), ('NOMLOC', 'Parres (El Guarda)'), ('TIPO', 'Urbana')])\n",
      "OrderedDict([('CVE_ENT', '09'), ('CVE_MUN', '012'), ('CVE_LOC', '0026'), ('NOMLOC', 'San Miguel Ajusco'), ('TIPO', 'Urbana')])\n",
      "OrderedDict([('CVE_ENT', '09'), ('CVE_MUN', '012'), ('CVE_LOC', '0027'), ('NOMLOC', 'San Miguel Topilejo'), ('TIPO', 'Urbana')])\n",
      "OrderedDict([('CVE_ENT', '09'), ('CVE_MUN', '012'), ('CVE_LOC', '0124'), ('NOMLOC', 'Héroes de 1910'), ('TIPO', 'Rural')])\n",
      "OrderedDict([('CVE_ENT', '09'), ('CVE_MUN', '012'), ('CVE_LOC', '0135'), ('NOMLOC', 'Lomas de Tepemecatl'), ('TIPO', 'Rural')])\n",
      "OrderedDict([('CVE_ENT', '09'), ('CVE_MUN', '012'), ('CVE_LOC', '0282'), ('NOMLOC', 'Ocotla Chico'), ('TIPO', 'Rural')])\n",
      "OrderedDict([('CVE_ENT', '09'), ('CVE_MUN', '012'), ('CVE_LOC', '0290'), ('NOMLOC', 'La Herradura'), ('TIPO', 'Rural')])\n",
      "OrderedDict([('CVE_ENT', '09'), ('CVE_MUN', '012'), ('CVE_LOC', '0300'), ('NOMLOC', 'Colonia San Juan'), ('TIPO', 'Rural')])\n",
      "OrderedDict([('CVE_ENT', '09'), ('CVE_MUN', '012'), ('CVE_LOC', '0301'), ('NOMLOC', 'Colonia Aguayoto'), ('TIPO', 'Rural')])\n",
      "OrderedDict([('CVE_ENT', '09'), ('CVE_MUN', '012'), ('CVE_LOC', '0396'), ('NOMLOC', 'Tezontitla'), ('TIPO', 'Rural')])\n",
      "OrderedDict([('CVE_ENT', '09'), ('CVE_MUN', '013'), ('CVE_LOC', '0001'), ('NOMLOC', 'Xochimilco'), ('TIPO', 'Urbana')])\n",
      "OrderedDict([('CVE_ENT', '09'), ('CVE_MUN', '013'), ('CVE_LOC', '0118'), ('NOMLOC', 'Barrio San Antonio (Cruz Monte)'), ('TIPO', 'Rural')])\n",
      "OrderedDict([('CVE_ENT', '09'), ('CVE_MUN', '013'), ('CVE_LOC', '0137'), ('NOMLOC', 'Tlachiultepec de Ahuayucan (Las Malvinas)'), ('TIPO', 'Rural')])\n",
      "OrderedDict([('CVE_ENT', '09'), ('CVE_MUN', '013'), ('CVE_LOC', '0143'), ('NOMLOC', 'Tlalatlaco'), ('TIPO', 'Rural')])\n",
      "OrderedDict([('CVE_ENT', '09'), ('CVE_MUN', '013'), ('CVE_LOC', '0146'), ('NOMLOC', 'Tlatzala (Cuayuca)'), ('TIPO', 'Rural')])\n",
      "OrderedDict([('CVE_ENT', '09'), ('CVE_MUN', '013'), ('CVE_LOC', '0160'), ('NOMLOC', 'Tochuca (San Salvador)'), ('TIPO', 'Rural')])\n",
      "OrderedDict([('CVE_ENT', '09'), ('CVE_MUN', '013'), ('CVE_LOC', '0162'), ('NOMLOC', 'Pepelaxtla'), ('TIPO', 'Rural')])\n",
      "OrderedDict([('CVE_ENT', '09'), ('CVE_MUN', '013'), ('CVE_LOC', '0181'), ('NOMLOC', 'Ocotitla Tepachuxiac'), ('TIPO', 'Rural')])\n",
      "OrderedDict([('CVE_ENT', '09'), ('CVE_MUN', '013'), ('CVE_LOC', '0184'), ('NOMLOC', 'Atotle'), ('TIPO', 'Rural')])\n",
      "OrderedDict([('CVE_ENT', '09'), ('CVE_MUN', '013'), ('CVE_LOC', '0231'), ('NOMLOC', 'Tecanco'), ('TIPO', 'Rural')])\n",
      "OrderedDict([('CVE_ENT', '09'), ('CVE_MUN', '013'), ('CVE_LOC', '0234'), ('NOMLOC', 'Barrio Nochicala'), ('TIPO', 'Rural')])\n",
      "OrderedDict([('CVE_ENT', '09'), ('CVE_MUN', '014'), ('CVE_LOC', '0001'), ('NOMLOC', 'Benito Juárez'), ('TIPO', 'Urbana')])\n",
      "OrderedDict([('CVE_ENT', '09'), ('CVE_MUN', '015'), ('CVE_LOC', '0001'), ('NOMLOC', 'Cuauhtémoc'), ('TIPO', 'Urbana')])\n",
      "OrderedDict([('CVE_ENT', '09'), ('CVE_MUN', '016'), ('CVE_LOC', '0001'), ('NOMLOC', 'Miguel Hidalgo'), ('TIPO', 'Urbana')])\n",
      "OrderedDict([('CVE_ENT', '09'), ('CVE_MUN', '017'), ('CVE_LOC', '0001'), ('NOMLOC', 'Venustiano Carranza'), ('TIPO', 'Urbana')])\n",
      "OrderedDict([('CVE_ENT', '09'), ('NOM_ENT', 'Ciudad de México'), ('CVE_GEO', '09')])\n",
      "OrderedDict([('CVE_ENT', '09'), ('CVE_MUN', '002'), ('CVE_LOC', '0001'), ('CVE_AGEB', '1165'), ('CVE_MZA', '014'), ('CVE_SERV', '1'), ('NOMBRE', 'Ninguno'), ('GEOGRAFICO', 'Templo'), ('TIPO', 'No Aplica'), ('CONDICION', 'No Aplica')])\n",
      "OrderedDict([('CVE_ENT', '09'), ('CVE_MUN', '002'), ('CVE_LOC', '0001'), ('CVE_AGEB', '1165'), ('CVE_MZA', '013'), ('CVE_SERV', '1'), ('NOMBRE', 'Ninguno'), ('GEOGRAFICO', 'Escuela'), ('TIPO', 'No Disponible'), ('CONDICION', 'No Aplica')])\n",
      "OrderedDict([('CVE_ENT', '09'), ('CVE_MUN', '002'), ('CVE_LOC', '0001'), ('CVE_AGEB', '1146'), ('CVE_MZA', '013'), ('CVE_SERV', '1'), ('NOMBRE', 'Ninguno'), ('GEOGRAFICO', 'Escuela'), ('TIPO', 'No Disponible'), ('CONDICION', 'No Aplica')])\n",
      "OrderedDict([('CVE_ENT', '09'), ('CVE_MUN', '002'), ('CVE_LOC', '0001'), ('CVE_AGEB', '1146'), ('CVE_MZA', '013'), ('CVE_SERV', '2'), ('NOMBRE', 'Ninguno'), ('GEOGRAFICO', 'Escuela'), ('TIPO', 'No Disponible'), ('CONDICION', 'No Aplica')])\n"
     ]
    },
    {
     "name": "stdout",
     "output_type": "stream",
     "text": [
      "OrderedDict([('CVE_ENT', '09'), ('CVE_LOC', '0001'), ('CVE_MUN', '002'), ('CVE_AGEB', '0148')])\n",
      "OrderedDict([('CVE_ENT', '09'), ('CVE_LOC', '0001'), ('CVE_MUN', '002'), ('CVE_AGEB', '0190')])\n",
      "OrderedDict([('CVE_ENT', '09'), ('CVE_LOC', '0001'), ('CVE_MUN', '002'), ('CVE_AGEB', '0932')])\n",
      "OrderedDict([('CVE_ENT', '09'), ('CVE_LOC', '0001'), ('CVE_MUN', '002'), ('CVE_AGEB', '0237')])\n",
      "OrderedDict([('CVE_ENT', '09'), ('CVE_LOC', '0001'), ('CVE_MUN', '002'), ('CVE_AGEB', '0595')])\n",
      "OrderedDict([('CVE_ENT', '09'), ('CVE_LOC', '0001'), ('CVE_MUN', '002'), ('CVE_AGEB', '0608')])\n",
      "OrderedDict([('CVE_ENT', '09'), ('CVE_LOC', '0001'), ('CVE_MUN', '002'), ('CVE_AGEB', '0612')])\n",
      "OrderedDict([('CVE_ENT', '09'), ('CVE_LOC', '0001'), ('CVE_MUN', '002'), ('CVE_AGEB', '0627')])\n",
      "OrderedDict([('CVE_ENT', '09'), ('CVE_LOC', '0001'), ('CVE_MUN', '002'), ('CVE_AGEB', '1038')])\n",
      "OrderedDict([('CVE_ENT', '09'), ('CVE_LOC', '0001'), ('CVE_MUN', '002'), ('CVE_AGEB', '1076')])\n",
      "OrderedDict([('CVE_ENT', '09'), ('CVE_LOC', '0001'), ('CVE_MUN', '002'), ('CVE_AGEB', '1080')])\n",
      "OrderedDict([('CVE_ENT', '09'), ('CVE_LOC', '0001'), ('CVE_MUN', '002'), ('CVE_AGEB', '1165')])\n",
      "OrderedDict([('CVE_ENT', '09'), ('CVE_LOC', '0001'), ('CVE_MUN', '002'), ('CVE_AGEB', '1042')])\n",
      "OrderedDict([('CVE_ENT', '09'), ('CVE_LOC', '0001'), ('CVE_MUN', '002'), ('CVE_AGEB', '0665')])\n",
      "OrderedDict([('CVE_ENT', '09'), ('CVE_LOC', '0001'), ('CVE_MUN', '002'), ('CVE_AGEB', '0010')])\n",
      "OrderedDict([('CVE_ENT', '09'), ('CVE_LOC', '0001'), ('CVE_MUN', '002'), ('CVE_AGEB', '0025')])\n",
      "OrderedDict([('CVE_ENT', '09'), ('CVE_LOC', '0001'), ('CVE_MUN', '002'), ('CVE_AGEB', '003A')])\n",
      "OrderedDict([('CVE_ENT', '09'), ('CVE_LOC', '0001'), ('CVE_MUN', '002'), ('CVE_AGEB', '1150')])\n",
      "OrderedDict([('CVE_ENT', '09'), ('CVE_LOC', '0001'), ('CVE_MUN', '002'), ('CVE_AGEB', '1023')])\n",
      "OrderedDict([('CVE_ENT', '09'), ('CVE_LOC', '0001'), ('CVE_MUN', '002'), ('CVE_AGEB', '0684')])\n",
      "OrderedDict([('CVE_ENT', '09'), ('CVE_LOC', '0001'), ('CVE_MUN', '002'), ('CVE_AGEB', '0913')])\n",
      "OrderedDict([('CVE_ENT', '09'), ('CVE_LOC', '0001'), ('CVE_MUN', '002'), ('CVE_AGEB', '0928')])\n",
      "OrderedDict([('CVE_ENT', '09'), ('CVE_LOC', '0001'), ('CVE_MUN', '002'), ('CVE_AGEB', '0044')])\n",
      "OrderedDict([('CVE_ENT', '09'), ('CVE_LOC', '0001'), ('CVE_MUN', '002'), ('CVE_AGEB', '081A')])\n",
      "OrderedDict([('CVE_ENT', '09'), ('CVE_LOC', '0001'), ('CVE_MUN', '002'), ('CVE_AGEB', '010A')])\n",
      "OrderedDict([('CVE_ENT', '09'), ('CVE_LOC', '0001'), ('CVE_MUN', '002'), ('CVE_AGEB', '0167')])\n",
      "OrderedDict([('CVE_ENT', '09'), ('CVE_LOC', '0001'), ('CVE_MUN', '002'), ('CVE_AGEB', '0097')])\n",
      "OrderedDict([('CVE_ENT', '09'), ('CVE_LOC', '0001'), ('CVE_MUN', '002'), ('CVE_AGEB', '0114')])\n",
      "OrderedDict([('CVE_ENT', '09'), ('CVE_LOC', '0001'), ('CVE_MUN', '002'), ('CVE_AGEB', '0186')])\n",
      "OrderedDict([('CVE_ENT', '09'), ('CVE_LOC', '0001'), ('CVE_MUN', '002'), ('CVE_AGEB', '0260')])\n",
      "OrderedDict([('CVE_ENT', '09'), ('CVE_LOC', '0001'), ('CVE_MUN', '002'), ('CVE_AGEB', '0415')])\n",
      "OrderedDict([('CVE_ENT', '09'), ('CVE_LOC', '0001'), ('CVE_MUN', '002'), ('CVE_AGEB', '0472')])\n",
      "OrderedDict([('CVE_ENT', '09'), ('CVE_LOC', '0001'), ('CVE_MUN', '002'), ('CVE_AGEB', '0542')])\n",
      "OrderedDict([('CVE_ENT', '09'), ('CVE_LOC', '0001'), ('CVE_MUN', '002'), ('CVE_AGEB', '0580')])\n",
      "OrderedDict([('CVE_ENT', '09'), ('CVE_LOC', '0001'), ('CVE_MUN', '002'), ('CVE_AGEB', '0650')])\n",
      "OrderedDict([('CVE_ENT', '09'), ('CVE_LOC', '0001'), ('CVE_MUN', '002'), ('CVE_AGEB', '067A')])\n",
      "OrderedDict([('CVE_ENT', '09'), ('CVE_LOC', '0001'), ('CVE_MUN', '002'), ('CVE_AGEB', '0769')])\n",
      "OrderedDict([('CVE_ENT', '09'), ('CVE_LOC', '0001'), ('CVE_MUN', '002'), ('CVE_AGEB', '0788')])\n",
      "OrderedDict([('CVE_ENT', '09'), ('CVE_LOC', '0001'), ('CVE_MUN', '002'), ('CVE_AGEB', '0792')])\n",
      "OrderedDict([('CVE_ENT', '09'), ('CVE_LOC', '0001'), ('CVE_MUN', '002'), ('CVE_AGEB', '0824')])\n",
      "OrderedDict([('CVE_ENT', '09'), ('CVE_LOC', '0001'), ('CVE_MUN', '002'), ('CVE_AGEB', '0858')])\n",
      "OrderedDict([('CVE_ENT', '09'), ('CVE_LOC', '0001'), ('CVE_MUN', '002'), ('CVE_AGEB', '0877')])\n",
      "OrderedDict([('CVE_ENT', '09'), ('CVE_LOC', '0001'), ('CVE_MUN', '002'), ('CVE_AGEB', '0881')])\n",
      "OrderedDict([('CVE_ENT', '09'), ('CVE_LOC', '0001'), ('CVE_MUN', '002'), ('CVE_AGEB', '1057')])\n",
      "OrderedDict([('CVE_ENT', '09'), ('CVE_LOC', '0001'), ('CVE_MUN', '002'), ('CVE_AGEB', '1061')])\n",
      "OrderedDict([('CVE_ENT', '09'), ('CVE_LOC', '0001'), ('CVE_MUN', '002'), ('CVE_AGEB', '1112')])\n",
      "OrderedDict([('CVE_ENT', '09'), ('CVE_LOC', '0001'), ('CVE_MUN', '002'), ('CVE_AGEB', '117A')])\n",
      "OrderedDict([('CVE_ENT', '09'), ('CVE_LOC', '0001'), ('CVE_MUN', '002'), ('CVE_AGEB', '0843')])\n",
      "OrderedDict([('CVE_ENT', '09'), ('CVE_LOC', '0001'), ('CVE_MUN', '002'), ('CVE_AGEB', '0966')])\n",
      "OrderedDict([('CVE_ENT', '09'), ('CVE_LOC', '0001'), ('CVE_MUN', '002'), ('CVE_AGEB', '0379')])\n",
      "OrderedDict([('CVE_ENT', '09'), ('CVE_LOC', '0001'), ('CVE_MUN', '002'), ('CVE_AGEB', '0398')])\n",
      "OrderedDict([('CVE_ENT', '09'), ('CVE_LOC', '0001'), ('CVE_MUN', '002'), ('CVE_AGEB', '0275')])\n",
      "OrderedDict([('CVE_ENT', '09'), ('CVE_LOC', '0001'), ('CVE_MUN', '002'), ('CVE_AGEB', '028A')])\n",
      "OrderedDict([('CVE_ENT', '09'), ('CVE_LOC', '0001'), ('CVE_MUN', '002'), ('CVE_AGEB', '0294')])\n",
      "OrderedDict([('CVE_ENT', '09'), ('CVE_LOC', '0001'), ('CVE_MUN', '002'), ('CVE_AGEB', '0307')])\n",
      "OrderedDict([('CVE_ENT', '09'), ('CVE_LOC', '0001'), ('CVE_MUN', '002'), ('CVE_AGEB', '0311')])\n",
      "OrderedDict([('CVE_ENT', '09'), ('CVE_LOC', '0001'), ('CVE_MUN', '002'), ('CVE_AGEB', '0326')])\n",
      "OrderedDict([('CVE_ENT', '09'), ('CVE_LOC', '0001'), ('CVE_MUN', '002'), ('CVE_AGEB', '0330')])\n",
      "OrderedDict([('CVE_ENT', '09'), ('CVE_LOC', '0001'), ('CVE_MUN', '002'), ('CVE_AGEB', '0345')])\n",
      "OrderedDict([('CVE_ENT', '09'), ('CVE_LOC', '0001'), ('CVE_MUN', '002'), ('CVE_AGEB', '035A')])\n",
      "OrderedDict([('CVE_ENT', '09'), ('CVE_LOC', '0001'), ('CVE_MUN', '002'), ('CVE_AGEB', '0468')])\n",
      "OrderedDict([('CVE_ENT', '09'), ('CVE_LOC', '0001'), ('CVE_MUN', '002'), ('CVE_AGEB', '0487')])\n",
      "OrderedDict([('CVE_ENT', '09'), ('CVE_LOC', '0001'), ('CVE_MUN', '002'), ('CVE_AGEB', '0491')])\n",
      "OrderedDict([('CVE_ENT', '09'), ('CVE_LOC', '0001'), ('CVE_MUN', '002'), ('CVE_AGEB', '0504')])\n",
      "OrderedDict([('CVE_ENT', '09'), ('CVE_LOC', '0001'), ('CVE_MUN', '002'), ('CVE_AGEB', '0519')])\n",
      "OrderedDict([('CVE_ENT', '09'), ('CVE_LOC', '0001'), ('CVE_MUN', '002'), ('CVE_AGEB', '1127')])\n",
      "OrderedDict([('CVE_ENT', '09'), ('CVE_LOC', '0001'), ('CVE_MUN', '002'), ('CVE_AGEB', '0171')])\n",
      "OrderedDict([('CVE_ENT', '09'), ('CVE_LOC', '0001'), ('CVE_MUN', '002'), ('CVE_AGEB', '0364')])\n",
      "OrderedDict([('CVE_ENT', '09'), ('CVE_LOC', '0001'), ('CVE_MUN', '002'), ('CVE_AGEB', '0383')])\n",
      "OrderedDict([('CVE_ENT', '09'), ('CVE_LOC', '0001'), ('CVE_MUN', '002'), ('CVE_AGEB', '0561')])\n",
      "OrderedDict([('CVE_ENT', '09'), ('CVE_LOC', '0001'), ('CVE_MUN', '002'), ('CVE_AGEB', '0576')])\n",
      "OrderedDict([('CVE_ENT', '09'), ('CVE_LOC', '0001'), ('CVE_MUN', '002'), ('CVE_AGEB', '0947')])\n",
      "OrderedDict([('CVE_ENT', '09'), ('CVE_LOC', '0001'), ('CVE_MUN', '002'), ('CVE_AGEB', '0896')])\n",
      "OrderedDict([('CVE_ENT', '09'), ('CVE_LOC', '0001'), ('CVE_MUN', '002'), ('CVE_AGEB', '1184')])\n",
      "OrderedDict([('CVE_ENT', '09'), ('CVE_LOC', '0001'), ('CVE_MUN', '002'), ('CVE_AGEB', '0256')])\n",
      "OrderedDict([('CVE_ENT', '09'), ('CVE_LOC', '0001'), ('CVE_MUN', '002'), ('CVE_AGEB', '0129')])\n",
      "OrderedDict([('CVE_ENT', '09'), ('CVE_LOC', '0001'), ('CVE_MUN', '002'), ('CVE_AGEB', '0133')])\n",
      "OrderedDict([('CVE_ENT', '09'), ('CVE_LOC', '0001'), ('CVE_MUN', '002'), ('CVE_AGEB', '0203')])\n",
      "OrderedDict([('CVE_ENT', '09'), ('CVE_LOC', '0001'), ('CVE_MUN', '002'), ('CVE_AGEB', '0218')])\n",
      "OrderedDict([('CVE_ENT', '09'), ('CVE_LOC', '0001'), ('CVE_MUN', '002'), ('CVE_AGEB', '0222')])\n",
      "OrderedDict([('CVE_ENT', '09'), ('CVE_LOC', '0001'), ('CVE_MUN', '002'), ('CVE_AGEB', '0400')])\n",
      "OrderedDict([('CVE_ENT', '09'), ('CVE_LOC', '0001'), ('CVE_MUN', '002'), ('CVE_AGEB', '0434')])\n",
      "OrderedDict([('CVE_ENT', '09'), ('CVE_LOC', '0001'), ('CVE_MUN', '002'), ('CVE_AGEB', '0449')])\n",
      "OrderedDict([('CVE_ENT', '09'), ('CVE_LOC', '0001'), ('CVE_MUN', '002'), ('CVE_AGEB', '0557')])\n",
      "OrderedDict([('CVE_ENT', '09'), ('CVE_LOC', '0001'), ('CVE_MUN', '002'), ('CVE_AGEB', '0631')])\n",
      "OrderedDict([('CVE_ENT', '09'), ('CVE_LOC', '0001'), ('CVE_MUN', '002'), ('CVE_AGEB', '0699')])\n",
      "OrderedDict([('CVE_ENT', '09'), ('CVE_LOC', '0001'), ('CVE_MUN', '002'), ('CVE_AGEB', '0701')])\n",
      "OrderedDict([('CVE_ENT', '09'), ('CVE_LOC', '0001'), ('CVE_MUN', '002'), ('CVE_AGEB', '0716')])\n",
      "OrderedDict([('CVE_ENT', '09'), ('CVE_LOC', '0001'), ('CVE_MUN', '002'), ('CVE_AGEB', '0720')])\n",
      "OrderedDict([('CVE_ENT', '09'), ('CVE_LOC', '0001'), ('CVE_MUN', '002'), ('CVE_AGEB', '074A')])\n",
      "OrderedDict([('CVE_ENT', '09'), ('CVE_LOC', '0001'), ('CVE_MUN', '002'), ('CVE_AGEB', '0754')])\n",
      "OrderedDict([('CVE_ENT', '09'), ('CVE_LOC', '0001'), ('CVE_MUN', '002'), ('CVE_AGEB', '0773')])\n",
      "OrderedDict([('CVE_ENT', '09'), ('CVE_LOC', '0001'), ('CVE_MUN', '002'), ('CVE_AGEB', '0805')])\n",
      "OrderedDict([('CVE_ENT', '09'), ('CVE_LOC', '0001'), ('CVE_MUN', '002'), ('CVE_AGEB', '0839')])\n",
      "OrderedDict([('CVE_ENT', '09'), ('CVE_LOC', '0001'), ('CVE_MUN', '002'), ('CVE_AGEB', '0909')])\n",
      "OrderedDict([('CVE_ENT', '09'), ('CVE_LOC', '0001'), ('CVE_MUN', '002'), ('CVE_AGEB', '0985')])\n",
      "OrderedDict([('CVE_ENT', '09'), ('CVE_LOC', '0001'), ('CVE_MUN', '002'), ('CVE_AGEB', '1004')])\n",
      "OrderedDict([('CVE_ENT', '09'), ('CVE_LOC', '0001'), ('CVE_MUN', '002'), ('CVE_AGEB', '1019')])\n",
      "OrderedDict([('CVE_ENT', '09'), ('CVE_LOC', '0001'), ('CVE_MUN', '002'), ('CVE_AGEB', '1095')])\n",
      "OrderedDict([('CVE_ENT', '09'), ('CVE_LOC', '0001'), ('CVE_MUN', '002'), ('CVE_AGEB', '0970')])\n",
      "OrderedDict([('CVE_ENT', '09'), ('CVE_LOC', '0001'), ('CVE_MUN', '002'), ('CVE_AGEB', '099A')])\n",
      "OrderedDict([('CVE_ENT', '09'), ('CVE_LOC', '0001'), ('CVE_MUN', '002'), ('CVE_AGEB', '1131')])\n",
      "OrderedDict([('CVE_ENT', '09'), ('CVE_LOC', '0001'), ('CVE_MUN', '002'), ('CVE_AGEB', '1146')])\n",
      "OrderedDict([('CVE_ENT', '09'), ('CVE_LOC', '0001'), ('CVE_MUN', '003'), ('CVE_AGEB', '1783')])\n",
      "OrderedDict([('CVE_ENT', '09'), ('CVE_LOC', '0001'), ('CVE_MUN', '003'), ('CVE_AGEB', '0357')])\n",
      "OrderedDict([('CVE_ENT', '09'), ('CVE_LOC', '0001'), ('CVE_MUN', '003'), ('CVE_AGEB', '0361')])\n",
      "OrderedDict([('CVE_ENT', '09'), ('CVE_LOC', '0001'), ('CVE_MUN', '003'), ('CVE_AGEB', '0728')])\n",
      "OrderedDict([('CVE_ENT', '09'), ('CVE_LOC', '0001'), ('CVE_MUN', '003'), ('CVE_AGEB', '054A')])\n",
      "OrderedDict([('CVE_ENT', '09'), ('CVE_LOC', '0001'), ('CVE_MUN', '003'), ('CVE_AGEB', '0111')])\n",
      "OrderedDict([('CVE_ENT', '09'), ('CVE_LOC', '0001'), ('CVE_MUN', '003'), ('CVE_AGEB', '1092')])\n",
      "OrderedDict([('CVE_ENT', '09'), ('CVE_LOC', '0001'), ('CVE_MUN', '003'), ('CVE_AGEB', '0906')])\n",
      "OrderedDict([('CVE_ENT', '09'), ('CVE_LOC', '0001'), ('CVE_MUN', '003'), ('CVE_AGEB', '1425')])\n",
      "OrderedDict([('CVE_ENT', '09'), ('CVE_LOC', '0001'), ('CVE_MUN', '003'), ('CVE_AGEB', '1444')])\n",
      "OrderedDict([('CVE_ENT', '09'), ('CVE_LOC', '0001'), ('CVE_MUN', '003'), ('CVE_AGEB', '0770')])\n",
      "OrderedDict([('CVE_ENT', '09'), ('CVE_LOC', '0001'), ('CVE_MUN', '003'), ('CVE_AGEB', '0018')])\n",
      "OrderedDict([('CVE_ENT', '09'), ('CVE_LOC', '0001'), ('CVE_MUN', '003'), ('CVE_AGEB', '1105')])\n",
      "OrderedDict([('CVE_ENT', '09'), ('CVE_LOC', '0001'), ('CVE_MUN', '003'), ('CVE_AGEB', '1618')])\n",
      "OrderedDict([('CVE_ENT', '09'), ('CVE_LOC', '0001'), ('CVE_MUN', '003'), ('CVE_AGEB', '1073')])\n",
      "OrderedDict([('CVE_ENT', '09'), ('CVE_LOC', '0001'), ('CVE_MUN', '003'), ('CVE_AGEB', '0037')])\n",
      "OrderedDict([('CVE_ENT', '09'), ('CVE_LOC', '0001'), ('CVE_MUN', '003'), ('CVE_AGEB', '1660')])\n",
      "OrderedDict([('CVE_ENT', '09'), ('CVE_LOC', '0001'), ('CVE_MUN', '003'), ('CVE_AGEB', '1694')])\n",
      "OrderedDict([('CVE_ENT', '09'), ('CVE_LOC', '0001'), ('CVE_MUN', '003'), ('CVE_AGEB', '1730')])\n",
      "OrderedDict([('CVE_ENT', '09'), ('CVE_LOC', '0001'), ('CVE_MUN', '003'), ('CVE_AGEB', '175A')])\n",
      "OrderedDict([('CVE_ENT', '09'), ('CVE_LOC', '0001'), ('CVE_MUN', '003'), ('CVE_AGEB', '1764')])\n",
      "OrderedDict([('CVE_ENT', '09'), ('CVE_LOC', '0001'), ('CVE_MUN', '003'), ('CVE_AGEB', '1779')])\n",
      "OrderedDict([('CVE_ENT', '09'), ('CVE_LOC', '0001'), ('CVE_MUN', '003'), ('CVE_AGEB', '1798')])\n",
      "OrderedDict([('CVE_ENT', '09'), ('CVE_LOC', '0001'), ('CVE_MUN', '003'), ('CVE_AGEB', '0060')])\n",
      "OrderedDict([('CVE_ENT', '09'), ('CVE_LOC', '0001'), ('CVE_MUN', '003'), ('CVE_AGEB', '1139')])\n",
      "OrderedDict([('CVE_ENT', '09'), ('CVE_LOC', '0001'), ('CVE_MUN', '003'), ('CVE_AGEB', '0022')])\n",
      "OrderedDict([('CVE_ENT', '09'), ('CVE_LOC', '0001'), ('CVE_MUN', '003'), ('CVE_AGEB', '0041')])\n",
      "OrderedDict([('CVE_ENT', '09'), ('CVE_LOC', '0001'), ('CVE_MUN', '003'), ('CVE_AGEB', '008A')])\n",
      "OrderedDict([('CVE_ENT', '09'), ('CVE_LOC', '0001'), ('CVE_MUN', '003'), ('CVE_AGEB', '0075')])\n",
      "OrderedDict([('CVE_ENT', '09'), ('CVE_LOC', '0001'), ('CVE_MUN', '003'), ('CVE_AGEB', '0713')])\n",
      "OrderedDict([('CVE_ENT', '09'), ('CVE_LOC', '0001'), ('CVE_MUN', '003'), ('CVE_AGEB', '1124')])\n",
      "OrderedDict([('CVE_ENT', '09'), ('CVE_LOC', '0001'), ('CVE_MUN', '003'), ('CVE_AGEB', '0094')])\n",
      "OrderedDict([('CVE_ENT', '09'), ('CVE_LOC', '0001'), ('CVE_MUN', '003'), ('CVE_AGEB', '0107')])\n",
      "OrderedDict([('CVE_ENT', '09'), ('CVE_LOC', '0001'), ('CVE_MUN', '003'), ('CVE_AGEB', '0130')])\n",
      "OrderedDict([('CVE_ENT', '09'), ('CVE_LOC', '0001'), ('CVE_MUN', '003'), ('CVE_AGEB', '015A')])\n",
      "OrderedDict([('CVE_ENT', '09'), ('CVE_LOC', '0001'), ('CVE_MUN', '003'), ('CVE_AGEB', '0179')])\n",
      "OrderedDict([('CVE_ENT', '09'), ('CVE_LOC', '0001'), ('CVE_MUN', '003'), ('CVE_AGEB', '0234')])\n",
      "OrderedDict([('CVE_ENT', '09'), ('CVE_LOC', '0001'), ('CVE_MUN', '003'), ('CVE_AGEB', '1228')])\n",
      "OrderedDict([('CVE_ENT', '09'), ('CVE_LOC', '0001'), ('CVE_MUN', '003'), ('CVE_AGEB', '0412')])\n",
      "OrderedDict([('CVE_ENT', '09'), ('CVE_LOC', '0001'), ('CVE_MUN', '003'), ('CVE_AGEB', '1641')])\n",
      "OrderedDict([('CVE_ENT', '09'), ('CVE_LOC', '0001'), ('CVE_MUN', '003'), ('CVE_AGEB', '1656')])\n",
      "OrderedDict([('CVE_ENT', '09'), ('CVE_LOC', '0001'), ('CVE_MUN', '003'), ('CVE_AGEB', '168A')])\n",
      "OrderedDict([('CVE_ENT', '09'), ('CVE_LOC', '0001'), ('CVE_MUN', '003'), ('CVE_AGEB', '1707')])\n",
      "OrderedDict([('CVE_ENT', '09'), ('CVE_LOC', '0001'), ('CVE_MUN', '003'), ('CVE_AGEB', '1726')])\n",
      "OrderedDict([('CVE_ENT', '09'), ('CVE_LOC', '0001'), ('CVE_MUN', '003'), ('CVE_AGEB', '1745')])\n",
      "OrderedDict([('CVE_ENT', '09'), ('CVE_LOC', '0001'), ('CVE_MUN', '003'), ('CVE_AGEB', '1317')])\n",
      "OrderedDict([('CVE_ENT', '09'), ('CVE_LOC', '0001'), ('CVE_MUN', '003'), ('CVE_AGEB', '1478')])\n",
      "OrderedDict([('CVE_ENT', '09'), ('CVE_LOC', '0001'), ('CVE_MUN', '003'), ('CVE_AGEB', '1143')])\n",
      "OrderedDict([('CVE_ENT', '09'), ('CVE_LOC', '0001'), ('CVE_MUN', '003'), ('CVE_AGEB', '1529')])\n",
      "OrderedDict([('CVE_ENT', '09'), ('CVE_LOC', '0001'), ('CVE_MUN', '003'), ('CVE_AGEB', '1675')])\n",
      "OrderedDict([('CVE_ENT', '09'), ('CVE_LOC', '0001'), ('CVE_MUN', '003'), ('CVE_AGEB', '0164')])\n",
      "OrderedDict([('CVE_ENT', '09'), ('CVE_LOC', '0001'), ('CVE_MUN', '003'), ('CVE_AGEB', '0183')])\n",
      "OrderedDict([('CVE_ENT', '09'), ('CVE_LOC', '0001'), ('CVE_MUN', '003'), ('CVE_AGEB', '0198')])\n",
      "OrderedDict([('CVE_ENT', '09'), ('CVE_LOC', '0001'), ('CVE_MUN', '003'), ('CVE_AGEB', '0200')])\n",
      "OrderedDict([('CVE_ENT', '09'), ('CVE_LOC', '0001'), ('CVE_MUN', '003'), ('CVE_AGEB', '0215')])\n",
      "OrderedDict([('CVE_ENT', '09'), ('CVE_LOC', '0001'), ('CVE_MUN', '003'), ('CVE_AGEB', '022A')])\n",
      "OrderedDict([('CVE_ENT', '09'), ('CVE_LOC', '0001'), ('CVE_MUN', '003'), ('CVE_AGEB', '0249')])\n",
      "OrderedDict([('CVE_ENT', '09'), ('CVE_LOC', '0001'), ('CVE_MUN', '003'), ('CVE_AGEB', '0268')])\n",
      "OrderedDict([('CVE_ENT', '09'), ('CVE_LOC', '0001'), ('CVE_MUN', '003'), ('CVE_AGEB', '0380')])\n",
      "OrderedDict([('CVE_ENT', '09'), ('CVE_LOC', '0001'), ('CVE_MUN', '003'), ('CVE_AGEB', '0395')])\n",
      "OrderedDict([('CVE_ENT', '09'), ('CVE_LOC', '0001'), ('CVE_MUN', '003'), ('CVE_AGEB', '0408')])\n",
      "OrderedDict([('CVE_ENT', '09'), ('CVE_LOC', '0001'), ('CVE_MUN', '003'), ('CVE_AGEB', '0535')])\n",
      "OrderedDict([('CVE_ENT', '09'), ('CVE_LOC', '0001'), ('CVE_MUN', '003'), ('CVE_AGEB', '0821')])\n",
      "OrderedDict([('CVE_ENT', '09'), ('CVE_LOC', '0001'), ('CVE_MUN', '003'), ('CVE_AGEB', '0836')])\n",
      "OrderedDict([('CVE_ENT', '09'), ('CVE_LOC', '0001'), ('CVE_MUN', '003'), ('CVE_AGEB', '0840')])\n",
      "OrderedDict([('CVE_ENT', '09'), ('CVE_LOC', '0001'), ('CVE_MUN', '003'), ('CVE_AGEB', '0855')])\n",
      "OrderedDict([('CVE_ENT', '09'), ('CVE_LOC', '0001'), ('CVE_MUN', '003'), ('CVE_AGEB', '0889')])\n",
      "OrderedDict([('CVE_ENT', '09'), ('CVE_LOC', '0001'), ('CVE_MUN', '003'), ('CVE_AGEB', '0893')])\n",
      "OrderedDict([('CVE_ENT', '09'), ('CVE_LOC', '0001'), ('CVE_MUN', '003'), ('CVE_AGEB', '093A')])\n",
      "OrderedDict([('CVE_ENT', '09'), ('CVE_LOC', '0001'), ('CVE_MUN', '003'), ('CVE_AGEB', '1020')])\n",
      "OrderedDict([('CVE_ENT', '09'), ('CVE_LOC', '0001'), ('CVE_MUN', '003'), ('CVE_AGEB', '129A')])\n",
      "OrderedDict([('CVE_ENT', '09'), ('CVE_LOC', '0001'), ('CVE_MUN', '003'), ('CVE_AGEB', '136A')])\n",
      "OrderedDict([('CVE_ENT', '09'), ('CVE_LOC', '0001'), ('CVE_MUN', '003'), ('CVE_AGEB', '1374')])\n",
      "OrderedDict([('CVE_ENT', '09'), ('CVE_LOC', '0001'), ('CVE_MUN', '003'), ('CVE_AGEB', '1389')])\n",
      "OrderedDict([('CVE_ENT', '09'), ('CVE_LOC', '0001'), ('CVE_MUN', '003'), ('CVE_AGEB', '1393')])\n",
      "OrderedDict([('CVE_ENT', '09'), ('CVE_LOC', '0001'), ('CVE_MUN', '003'), ('CVE_AGEB', '1406')])\n",
      "OrderedDict([('CVE_ENT', '09'), ('CVE_LOC', '0001'), ('CVE_MUN', '003'), ('CVE_AGEB', '143A')])\n",
      "OrderedDict([('CVE_ENT', '09'), ('CVE_LOC', '0001'), ('CVE_MUN', '003'), ('CVE_AGEB', '150A')])\n",
      "OrderedDict([('CVE_ENT', '09'), ('CVE_LOC', '0001'), ('CVE_MUN', '003'), ('CVE_AGEB', '1514')])\n",
      "OrderedDict([('CVE_ENT', '09'), ('CVE_LOC', '0001'), ('CVE_MUN', '003'), ('CVE_AGEB', '1533')])\n",
      "OrderedDict([('CVE_ENT', '09'), ('CVE_LOC', '0001'), ('CVE_MUN', '003'), ('CVE_AGEB', '1548')])\n",
      "OrderedDict([('CVE_ENT', '09'), ('CVE_LOC', '0001'), ('CVE_MUN', '003'), ('CVE_AGEB', '1552')])\n",
      "OrderedDict([('CVE_ENT', '09'), ('CVE_LOC', '0001'), ('CVE_MUN', '003'), ('CVE_AGEB', '1567')])\n",
      "OrderedDict([('CVE_ENT', '09'), ('CVE_LOC', '0001'), ('CVE_MUN', '003'), ('CVE_AGEB', '1571')])\n",
      "OrderedDict([('CVE_ENT', '09'), ('CVE_LOC', '0001'), ('CVE_MUN', '003'), ('CVE_AGEB', '1586')])\n",
      "OrderedDict([('CVE_ENT', '09'), ('CVE_LOC', '0001'), ('CVE_MUN', '003'), ('CVE_AGEB', '1590')])\n",
      "OrderedDict([('CVE_ENT', '09'), ('CVE_LOC', '0001'), ('CVE_MUN', '003'), ('CVE_AGEB', '1482')])\n",
      "OrderedDict([('CVE_ENT', '09'), ('CVE_LOC', '0001'), ('CVE_MUN', '003'), ('CVE_AGEB', '0516')])\n",
      "OrderedDict([('CVE_ENT', '09'), ('CVE_LOC', '0001'), ('CVE_MUN', '003'), ('CVE_AGEB', '0145')])\n",
      "OrderedDict([('CVE_ENT', '09'), ('CVE_LOC', '0001'), ('CVE_MUN', '003'), ('CVE_AGEB', '0287')])\n",
      "OrderedDict([('CVE_ENT', '09'), ('CVE_LOC', '0001'), ('CVE_MUN', '003'), ('CVE_AGEB', '0291')])\n",
      "OrderedDict([('CVE_ENT', '09'), ('CVE_LOC', '0001'), ('CVE_MUN', '003'), ('CVE_AGEB', '0304')])\n",
      "OrderedDict([('CVE_ENT', '09'), ('CVE_LOC', '0001'), ('CVE_MUN', '003'), ('CVE_AGEB', '0319')])\n",
      "OrderedDict([('CVE_ENT', '09'), ('CVE_LOC', '0001'), ('CVE_MUN', '003'), ('CVE_AGEB', '0323')])\n",
      "OrderedDict([('CVE_ENT', '09'), ('CVE_LOC', '0001'), ('CVE_MUN', '003'), ('CVE_AGEB', '0342')])\n",
      "OrderedDict([('CVE_ENT', '09'), ('CVE_LOC', '0001'), ('CVE_MUN', '003'), ('CVE_AGEB', '0376')])\n",
      "OrderedDict([('CVE_ENT', '09'), ('CVE_LOC', '0001'), ('CVE_MUN', '003'), ('CVE_AGEB', '1336')])\n",
      "OrderedDict([('CVE_ENT', '09'), ('CVE_LOC', '0001'), ('CVE_MUN', '003'), ('CVE_AGEB', '0427')])\n",
      "OrderedDict([('CVE_ENT', '09'), ('CVE_LOC', '0001'), ('CVE_MUN', '003'), ('CVE_AGEB', '0959')])\n",
      "OrderedDict([('CVE_ENT', '09'), ('CVE_LOC', '0001'), ('CVE_MUN', '003'), ('CVE_AGEB', '0431')])\n",
      "OrderedDict([('CVE_ENT', '09'), ('CVE_LOC', '0001'), ('CVE_MUN', '003'), ('CVE_AGEB', '0446')])\n",
      "OrderedDict([('CVE_ENT', '09'), ('CVE_LOC', '0001'), ('CVE_MUN', '003'), ('CVE_AGEB', '0450')])\n",
      "OrderedDict([('CVE_ENT', '09'), ('CVE_LOC', '0001'), ('CVE_MUN', '003'), ('CVE_AGEB', '0465')])\n",
      "OrderedDict([('CVE_ENT', '09'), ('CVE_LOC', '0001'), ('CVE_MUN', '003'), ('CVE_AGEB', '0484')])\n",
      "OrderedDict([('CVE_ENT', '09'), ('CVE_LOC', '0001'), ('CVE_MUN', '003'), ('CVE_AGEB', '0499')])\n",
      "OrderedDict([('CVE_ENT', '09'), ('CVE_LOC', '0001'), ('CVE_MUN', '003'), ('CVE_AGEB', '0501')])\n",
      "OrderedDict([('CVE_ENT', '09'), ('CVE_LOC', '0001'), ('CVE_MUN', '003'), ('CVE_AGEB', '0520')])\n",
      "OrderedDict([('CVE_ENT', '09'), ('CVE_LOC', '0001'), ('CVE_MUN', '003'), ('CVE_AGEB', '0696')])\n",
      "OrderedDict([('CVE_ENT', '09'), ('CVE_LOC', '0001'), ('CVE_MUN', '003'), ('CVE_AGEB', '0963')])\n",
      "OrderedDict([('CVE_ENT', '09'), ('CVE_LOC', '0001'), ('CVE_MUN', '003'), ('CVE_AGEB', '0978')])\n",
      "OrderedDict([('CVE_ENT', '09'), ('CVE_LOC', '0001'), ('CVE_MUN', '003'), ('CVE_AGEB', '0785')])\n",
      "OrderedDict([('CVE_ENT', '09'), ('CVE_LOC', '0001'), ('CVE_MUN', '003'), ('CVE_AGEB', '1162')])\n",
      "OrderedDict([('CVE_ENT', '09'), ('CVE_LOC', '0001'), ('CVE_MUN', '003'), ('CVE_AGEB', '1232')])\n",
      "OrderedDict([('CVE_ENT', '09'), ('CVE_LOC', '0001'), ('CVE_MUN', '003'), ('CVE_AGEB', '1247')])\n",
      "OrderedDict([('CVE_ENT', '09'), ('CVE_LOC', '0001'), ('CVE_MUN', '003'), ('CVE_AGEB', '1251')])\n",
      "OrderedDict([('CVE_ENT', '09'), ('CVE_LOC', '0001'), ('CVE_MUN', '003'), ('CVE_AGEB', '1266')])\n",
      "OrderedDict([('CVE_ENT', '09'), ('CVE_LOC', '0001'), ('CVE_MUN', '003'), ('CVE_AGEB', '1270')])\n",
      "OrderedDict([('CVE_ENT', '09'), ('CVE_LOC', '0001'), ('CVE_MUN', '003'), ('CVE_AGEB', '1285')])\n",
      "OrderedDict([('CVE_ENT', '09'), ('CVE_LOC', '0001'), ('CVE_MUN', '003'), ('CVE_AGEB', '1321')])\n",
      "OrderedDict([('CVE_ENT', '09'), ('CVE_LOC', '0001'), ('CVE_MUN', '003'), ('CVE_AGEB', '0554')])\n",
      "OrderedDict([('CVE_ENT', '09'), ('CVE_LOC', '0001'), ('CVE_MUN', '003'), ('CVE_AGEB', '0573')])\n",
      "OrderedDict([('CVE_ENT', '09'), ('CVE_LOC', '0001'), ('CVE_MUN', '003'), ('CVE_AGEB', '061A')])\n",
      "OrderedDict([('CVE_ENT', '09'), ('CVE_LOC', '0001'), ('CVE_MUN', '003'), ('CVE_AGEB', '0709')])\n",
      "OrderedDict([('CVE_ENT', '09'), ('CVE_LOC', '0001'), ('CVE_MUN', '003'), ('CVE_AGEB', '0605')])\n",
      "OrderedDict([('CVE_ENT', '09'), ('CVE_LOC', '0001'), ('CVE_MUN', '003'), ('CVE_AGEB', '0624')])\n",
      "OrderedDict([('CVE_ENT', '09'), ('CVE_LOC', '0001'), ('CVE_MUN', '003'), ('CVE_AGEB', '0639')])\n",
      "OrderedDict([('CVE_ENT', '09'), ('CVE_LOC', '0001'), ('CVE_MUN', '003'), ('CVE_AGEB', '0643')])\n",
      "OrderedDict([('CVE_ENT', '09'), ('CVE_LOC', '0001'), ('CVE_MUN', '003'), ('CVE_AGEB', '1213')])\n",
      "OrderedDict([('CVE_ENT', '09'), ('CVE_LOC', '0001'), ('CVE_MUN', '003'), ('CVE_AGEB', '0658')])\n",
      "OrderedDict([('CVE_ENT', '09'), ('CVE_LOC', '0001'), ('CVE_MUN', '003'), ('CVE_AGEB', '0662')])\n",
      "OrderedDict([('CVE_ENT', '09'), ('CVE_LOC', '0001'), ('CVE_MUN', '003'), ('CVE_AGEB', '079A')])\n",
      "OrderedDict([('CVE_ENT', '09'), ('CVE_LOC', '0001'), ('CVE_MUN', '003'), ('CVE_AGEB', '086A')])\n",
      "OrderedDict([('CVE_ENT', '09'), ('CVE_LOC', '0001'), ('CVE_MUN', '003'), ('CVE_AGEB', '0802')])\n",
      "OrderedDict([('CVE_ENT', '09'), ('CVE_LOC', '0001'), ('CVE_MUN', '003'), ('CVE_AGEB', '0817')])\n",
      "OrderedDict([('CVE_ENT', '09'), ('CVE_LOC', '0001'), ('CVE_MUN', '003'), ('CVE_AGEB', '0982')])\n",
      "OrderedDict([('CVE_ENT', '09'), ('CVE_LOC', '0001'), ('CVE_MUN', '003'), ('CVE_AGEB', '0997')])\n",
      "OrderedDict([('CVE_ENT', '09'), ('CVE_LOC', '0001'), ('CVE_MUN', '003'), ('CVE_AGEB', '1001')])\n",
      "OrderedDict([('CVE_ENT', '09'), ('CVE_LOC', '0001'), ('CVE_MUN', '003'), ('CVE_AGEB', '1016')])\n",
      "OrderedDict([('CVE_ENT', '09'), ('CVE_LOC', '0001'), ('CVE_MUN', '003'), ('CVE_AGEB', '1069')])\n",
      "OrderedDict([('CVE_ENT', '09'), ('CVE_LOC', '0001'), ('CVE_MUN', '003'), ('CVE_AGEB', '1410')])\n",
      "OrderedDict([('CVE_ENT', '09'), ('CVE_LOC', '0001'), ('CVE_MUN', '003'), ('CVE_AGEB', '1340')])\n",
      "OrderedDict([('CVE_ENT', '09'), ('CVE_LOC', '0001'), ('CVE_MUN', '003'), ('CVE_AGEB', '1355')])\n",
      "OrderedDict([('CVE_ENT', '09'), ('CVE_LOC', '0001'), ('CVE_MUN', '003'), ('CVE_AGEB', '1459')])\n",
      "OrderedDict([('CVE_ENT', '09'), ('CVE_LOC', '0001'), ('CVE_MUN', '003'), ('CVE_AGEB', '1497')])\n",
      "OrderedDict([('CVE_ENT', '09'), ('CVE_LOC', '0001'), ('CVE_MUN', '003'), ('CVE_AGEB', '1463')])\n",
      "OrderedDict([('CVE_ENT', '09'), ('CVE_LOC', '0001'), ('CVE_MUN', '003'), ('CVE_AGEB', '1622')])\n",
      "OrderedDict([('CVE_ENT', '09'), ('CVE_LOC', '0001'), ('CVE_MUN', '003'), ('CVE_AGEB', '1637')])\n",
      "OrderedDict([('CVE_ENT', '09'), ('CVE_LOC', '0001'), ('CVE_MUN', '003'), ('CVE_AGEB', '0126')])\n",
      "OrderedDict([('CVE_ENT', '09'), ('CVE_LOC', '0001'), ('CVE_MUN', '003'), ('CVE_AGEB', '0588')])\n",
      "OrderedDict([('CVE_ENT', '09'), ('CVE_LOC', '0001'), ('CVE_MUN', '003'), ('CVE_AGEB', '0056')])\n",
      "OrderedDict([('CVE_ENT', '09'), ('CVE_LOC', '0001'), ('CVE_MUN', '003'), ('CVE_AGEB', '1302')])\n",
      "OrderedDict([('CVE_ENT', '09'), ('CVE_LOC', '0001'), ('CVE_MUN', '003'), ('CVE_AGEB', '0272')])\n",
      "OrderedDict([('CVE_ENT', '09'), ('CVE_LOC', '0001'), ('CVE_MUN', '003'), ('CVE_AGEB', '0677')])\n",
      "OrderedDict([('CVE_ENT', '09'), ('CVE_LOC', '0001'), ('CVE_MUN', '003'), ('CVE_AGEB', '0681')])\n",
      "OrderedDict([('CVE_ENT', '09'), ('CVE_LOC', '0001'), ('CVE_MUN', '003'), ('CVE_AGEB', '1158')])\n",
      "OrderedDict([('CVE_ENT', '09'), ('CVE_LOC', '0001'), ('CVE_MUN', '003'), ('CVE_AGEB', '1181')])\n",
      "OrderedDict([('CVE_ENT', '09'), ('CVE_LOC', '0001'), ('CVE_MUN', '004'), ('CVE_AGEB', '0049')])\n",
      "OrderedDict([('CVE_ENT', '09'), ('CVE_LOC', '0001'), ('CVE_MUN', '004'), ('CVE_AGEB', '0119')])\n",
      "OrderedDict([('CVE_ENT', '09'), ('CVE_LOC', '0001'), ('CVE_MUN', '004'), ('CVE_AGEB', '0123')])\n",
      "OrderedDict([('CVE_ENT', '09'), ('CVE_LOC', '0001'), ('CVE_MUN', '004'), ('CVE_AGEB', '0138')])\n",
      "OrderedDict([('CVE_ENT', '09'), ('CVE_LOC', '0001'), ('CVE_MUN', '004'), ('CVE_AGEB', '0176')])\n",
      "OrderedDict([('CVE_ENT', '09'), ('CVE_LOC', '0001'), ('CVE_MUN', '004'), ('CVE_AGEB', '0227')])\n",
      "OrderedDict([('CVE_ENT', '09'), ('CVE_LOC', '0020'), ('CVE_MUN', '004'), ('CVE_AGEB', '0388')])\n",
      "OrderedDict([('CVE_ENT', '09'), ('CVE_LOC', '0001'), ('CVE_MUN', '004'), ('CVE_AGEB', '0250')])\n",
      "OrderedDict([('CVE_ENT', '09'), ('CVE_LOC', '0001'), ('CVE_MUN', '004'), ('CVE_AGEB', '0299')])\n",
      "OrderedDict([('CVE_ENT', '09'), ('CVE_LOC', '0001'), ('CVE_MUN', '004'), ('CVE_AGEB', '0320')])\n",
      "OrderedDict([('CVE_ENT', '09'), ('CVE_LOC', '0001'), ('CVE_MUN', '004'), ('CVE_AGEB', '0369')])\n",
      "OrderedDict([('CVE_ENT', '09'), ('CVE_LOC', '0001'), ('CVE_MUN', '004'), ('CVE_AGEB', '0373')])\n",
      "OrderedDict([('CVE_ENT', '09'), ('CVE_LOC', '0001'), ('CVE_MUN', '004'), ('CVE_AGEB', '0405')])\n",
      "OrderedDict([('CVE_ENT', '09'), ('CVE_LOC', '0020'), ('CVE_MUN', '004'), ('CVE_AGEB', '0246')])\n",
      "OrderedDict([('CVE_ENT', '09'), ('CVE_LOC', '0020'), ('CVE_MUN', '004'), ('CVE_AGEB', '0316')])\n",
      "OrderedDict([('CVE_ENT', '09'), ('CVE_LOC', '0001'), ('CVE_MUN', '004'), ('CVE_AGEB', '002A')])\n",
      "OrderedDict([('CVE_ENT', '09'), ('CVE_LOC', '0001'), ('CVE_MUN', '004'), ('CVE_AGEB', '0231')])\n",
      "OrderedDict([('CVE_ENT', '09'), ('CVE_LOC', '0001'), ('CVE_MUN', '004'), ('CVE_AGEB', '0053')])\n",
      "OrderedDict([('CVE_ENT', '09'), ('CVE_LOC', '0001'), ('CVE_MUN', '004'), ('CVE_AGEB', '0208')])\n",
      "OrderedDict([('CVE_ENT', '09'), ('CVE_LOC', '0001'), ('CVE_MUN', '004'), ('CVE_AGEB', '0301')])\n",
      "OrderedDict([('CVE_ENT', '09'), ('CVE_LOC', '0001'), ('CVE_MUN', '004'), ('CVE_AGEB', '0180')])\n",
      "OrderedDict([('CVE_ENT', '09'), ('CVE_LOC', '0001'), ('CVE_MUN', '004'), ('CVE_AGEB', '0195')])\n",
      "OrderedDict([('CVE_ENT', '09'), ('CVE_LOC', '0001'), ('CVE_MUN', '004'), ('CVE_AGEB', '0392')])\n",
      "OrderedDict([('CVE_ENT', '09'), ('CVE_LOC', '0001'), ('CVE_MUN', '004'), ('CVE_AGEB', '034A')])\n",
      "OrderedDict([('CVE_ENT', '09'), ('CVE_LOC', '0001'), ('CVE_MUN', '004'), ('CVE_AGEB', '041A')])\n",
      "OrderedDict([('CVE_ENT', '09'), ('CVE_LOC', '0001'), ('CVE_MUN', '004'), ('CVE_AGEB', '0104')])\n",
      "OrderedDict([('CVE_ENT', '09'), ('CVE_LOC', '0001'), ('CVE_MUN', '004'), ('CVE_AGEB', '0072')])\n",
      "OrderedDict([('CVE_ENT', '09'), ('CVE_LOC', '0001'), ('CVE_MUN', '004'), ('CVE_AGEB', '0212')])\n",
      "OrderedDict([('CVE_ENT', '09'), ('CVE_LOC', '0001'), ('CVE_MUN', '004'), ('CVE_AGEB', '027A')])\n",
      "OrderedDict([('CVE_ENT', '09'), ('CVE_LOC', '0001'), ('CVE_MUN', '004'), ('CVE_AGEB', '0354')])\n",
      "OrderedDict([('CVE_ENT', '09'), ('CVE_LOC', '0001'), ('CVE_MUN', '004'), ('CVE_AGEB', '0091')])\n",
      "OrderedDict([('CVE_ENT', '09'), ('CVE_LOC', '0001'), ('CVE_MUN', '005'), ('CVE_AGEB', '3360')])\n",
      "OrderedDict([('CVE_ENT', '09'), ('CVE_LOC', '0001'), ('CVE_MUN', '005'), ('CVE_AGEB', '3411')])\n",
      "OrderedDict([('CVE_ENT', '09'), ('CVE_LOC', '0001'), ('CVE_MUN', '005'), ('CVE_AGEB', '0366')])\n",
      "OrderedDict([('CVE_ENT', '09'), ('CVE_LOC', '0001'), ('CVE_MUN', '005'), ('CVE_AGEB', '014A')])\n",
      "OrderedDict([('CVE_ENT', '09'), ('CVE_LOC', '0001'), ('CVE_MUN', '005'), ('CVE_AGEB', '0703')])\n",
      "OrderedDict([('CVE_ENT', '09'), ('CVE_LOC', '0001'), ('CVE_MUN', '005'), ('CVE_AGEB', '0436')])\n",
      "OrderedDict([('CVE_ENT', '09'), ('CVE_LOC', '0001'), ('CVE_MUN', '005'), ('CVE_AGEB', '2502')])\n",
      "OrderedDict([('CVE_ENT', '09'), ('CVE_LOC', '0001'), ('CVE_MUN', '005'), ('CVE_AGEB', '2536')])\n",
      "OrderedDict([('CVE_ENT', '09'), ('CVE_LOC', '0001'), ('CVE_MUN', '005'), ('CVE_AGEB', '2305')])\n",
      "OrderedDict([('CVE_ENT', '09'), ('CVE_LOC', '0001'), ('CVE_MUN', '005'), ('CVE_AGEB', '0277')])\n",
      "OrderedDict([('CVE_ENT', '09'), ('CVE_LOC', '0001'), ('CVE_MUN', '005'), ('CVE_AGEB', '3286')])\n",
      "OrderedDict([('CVE_ENT', '09'), ('CVE_LOC', '0001'), ('CVE_MUN', '005'), ('CVE_AGEB', '1171')])\n",
      "OrderedDict([('CVE_ENT', '09'), ('CVE_LOC', '0001'), ('CVE_MUN', '005'), ('CVE_AGEB', '1167')])\n",
      "OrderedDict([('CVE_ENT', '09'), ('CVE_LOC', '0001'), ('CVE_MUN', '005'), ('CVE_AGEB', '3356')])\n",
      "OrderedDict([('CVE_ENT', '09'), ('CVE_LOC', '0001'), ('CVE_MUN', '005'), ('CVE_AGEB', '2998')])\n",
      "OrderedDict([('CVE_ENT', '09'), ('CVE_LOC', '0001'), ('CVE_MUN', '005'), ('CVE_AGEB', '0421')])\n",
      "OrderedDict([('CVE_ENT', '09'), ('CVE_LOC', '0001'), ('CVE_MUN', '005'), ('CVE_AGEB', '085A')])\n",
      "OrderedDict([('CVE_ENT', '09'), ('CVE_LOC', '0001'), ('CVE_MUN', '005'), ('CVE_AGEB', '1716')])\n",
      "OrderedDict([('CVE_ENT', '09'), ('CVE_LOC', '0001'), ('CVE_MUN', '005'), ('CVE_AGEB', '0493')])\n",
      "OrderedDict([('CVE_ENT', '09'), ('CVE_LOC', '0001'), ('CVE_MUN', '005'), ('CVE_AGEB', '174A')])\n",
      "OrderedDict([('CVE_ENT', '09'), ('CVE_LOC', '0001'), ('CVE_MUN', '005'), ('CVE_AGEB', '2042')])\n",
      "OrderedDict([('CVE_ENT', '09'), ('CVE_LOC', '0001'), ('CVE_MUN', '005'), ('CVE_AGEB', '2288')])\n",
      "OrderedDict([('CVE_ENT', '09'), ('CVE_LOC', '0001'), ('CVE_MUN', '005'), ('CVE_AGEB', '2343')])\n",
      "OrderedDict([('CVE_ENT', '09'), ('CVE_LOC', '0001'), ('CVE_MUN', '005'), ('CVE_AGEB', '2466')])\n",
      "OrderedDict([('CVE_ENT', '09'), ('CVE_LOC', '0001'), ('CVE_MUN', '005'), ('CVE_AGEB', '2574')])\n",
      "OrderedDict([('CVE_ENT', '09'), ('CVE_LOC', '0001'), ('CVE_MUN', '005'), ('CVE_AGEB', '1542')])\n",
      "OrderedDict([('CVE_ENT', '09'), ('CVE_LOC', '0001'), ('CVE_MUN', '005'), ('CVE_AGEB', '1773')])\n",
      "OrderedDict([('CVE_ENT', '09'), ('CVE_LOC', '0001'), ('CVE_MUN', '005'), ('CVE_AGEB', '2038')])\n",
      "OrderedDict([('CVE_ENT', '09'), ('CVE_LOC', '0001'), ('CVE_MUN', '005'), ('CVE_AGEB', '0173')])\n",
      "OrderedDict([('CVE_ENT', '09'), ('CVE_LOC', '0001'), ('CVE_MUN', '005'), ('CVE_AGEB', '3159')])\n",
      "OrderedDict([('CVE_ENT', '09'), ('CVE_LOC', '0001'), ('CVE_MUN', '005'), ('CVE_AGEB', '0489')])\n",
      "OrderedDict([('CVE_ENT', '09'), ('CVE_LOC', '0001'), ('CVE_MUN', '005'), ('CVE_AGEB', '0154')])\n",
      "OrderedDict([('CVE_ENT', '09'), ('CVE_LOC', '0001'), ('CVE_MUN', '005'), ('CVE_AGEB', '2593')])\n",
      "OrderedDict([('CVE_ENT', '09'), ('CVE_LOC', '0001'), ('CVE_MUN', '005'), ('CVE_AGEB', '3229')])\n",
      "OrderedDict([('CVE_ENT', '09'), ('CVE_LOC', '0001'), ('CVE_MUN', '005'), ('CVE_AGEB', '3318')])\n",
      "OrderedDict([('CVE_ENT', '09'), ('CVE_LOC', '0001'), ('CVE_MUN', '005'), ('CVE_AGEB', '2184')])\n",
      "OrderedDict([('CVE_ENT', '09'), ('CVE_LOC', '0001'), ('CVE_MUN', '005'), ('CVE_AGEB', '2964')])\n",
      "OrderedDict([('CVE_ENT', '09'), ('CVE_LOC', '0001'), ('CVE_MUN', '005'), ('CVE_AGEB', '2979')])\n",
      "OrderedDict([('CVE_ENT', '09'), ('CVE_LOC', '0001'), ('CVE_MUN', '005'), ('CVE_AGEB', '2894')])\n",
      "OrderedDict([('CVE_ENT', '09'), ('CVE_LOC', '0001'), ('CVE_MUN', '005'), ('CVE_AGEB', '2983')])\n",
      "OrderedDict([('CVE_ENT', '09'), ('CVE_LOC', '0001'), ('CVE_MUN', '005'), ('CVE_AGEB', '0385')])\n",
      "OrderedDict([('CVE_ENT', '09'), ('CVE_LOC', '0001'), ('CVE_MUN', '005'), ('CVE_AGEB', '039A')])\n",
      "OrderedDict([('CVE_ENT', '09'), ('CVE_LOC', '0001'), ('CVE_MUN', '005'), ('CVE_AGEB', '0417')])\n",
      "OrderedDict([('CVE_ENT', '09'), ('CVE_LOC', '0001'), ('CVE_MUN', '005'), ('CVE_AGEB', '1222')])\n",
      "OrderedDict([('CVE_ENT', '09'), ('CVE_LOC', '0001'), ('CVE_MUN', '005'), ('CVE_AGEB', '1557')])\n",
      "OrderedDict([('CVE_ENT', '09'), ('CVE_LOC', '0001'), ('CVE_MUN', '005'), ('CVE_AGEB', '1720')])\n",
      "OrderedDict([('CVE_ENT', '09'), ('CVE_LOC', '0001'), ('CVE_MUN', '005'), ('CVE_AGEB', '3017')])\n",
      "OrderedDict([('CVE_ENT', '09'), ('CVE_LOC', '0001'), ('CVE_MUN', '005'), ('CVE_AGEB', '1735')])\n",
      "OrderedDict([('CVE_ENT', '09'), ('CVE_LOC', '0001'), ('CVE_MUN', '005'), ('CVE_AGEB', '1769')])\n",
      "OrderedDict([('CVE_ENT', '09'), ('CVE_LOC', '0001'), ('CVE_MUN', '005'), ('CVE_AGEB', '2273')])\n",
      "OrderedDict([('CVE_ENT', '09'), ('CVE_LOC', '0001'), ('CVE_MUN', '005'), ('CVE_AGEB', '2381')])\n",
      "OrderedDict([('CVE_ENT', '09'), ('CVE_LOC', '0001'), ('CVE_MUN', '005'), ('CVE_AGEB', '2485')])\n",
      "OrderedDict([('CVE_ENT', '09'), ('CVE_LOC', '0001'), ('CVE_MUN', '005'), ('CVE_AGEB', '3144')])\n",
      "OrderedDict([('CVE_ENT', '09'), ('CVE_LOC', '0001'), ('CVE_MUN', '005'), ('CVE_AGEB', '2714')])\n",
      "OrderedDict([('CVE_ENT', '09'), ('CVE_LOC', '0001'), ('CVE_MUN', '005'), ('CVE_AGEB', '231A')])\n",
      "OrderedDict([('CVE_ENT', '09'), ('CVE_LOC', '0001'), ('CVE_MUN', '005'), ('CVE_AGEB', '2292')])\n",
      "OrderedDict([('CVE_ENT', '09'), ('CVE_LOC', '0001'), ('CVE_MUN', '005'), ('CVE_AGEB', '2165')])\n",
      "OrderedDict([('CVE_ENT', '09'), ('CVE_LOC', '0001'), ('CVE_MUN', '005'), ('CVE_AGEB', '2428')])\n",
      "OrderedDict([('CVE_ENT', '09'), ('CVE_LOC', '0001'), ('CVE_MUN', '005'), ('CVE_AGEB', '2470')])\n",
      "OrderedDict([('CVE_ENT', '09'), ('CVE_LOC', '0001'), ('CVE_MUN', '005'), ('CVE_AGEB', '0883')])\n",
      "OrderedDict([('CVE_ENT', '09'), ('CVE_LOC', '0001'), ('CVE_MUN', '005'), ('CVE_AGEB', '1699')])\n",
      "OrderedDict([('CVE_ENT', '09'), ('CVE_LOC', '0001'), ('CVE_MUN', '005'), ('CVE_AGEB', '3125')])\n",
      "OrderedDict([('CVE_ENT', '09'), ('CVE_LOC', '0001'), ('CVE_MUN', '005'), ('CVE_AGEB', '2396')])\n",
      "OrderedDict([('CVE_ENT', '09'), ('CVE_LOC', '0001'), ('CVE_MUN', '005'), ('CVE_AGEB', '0012')])\n",
      "OrderedDict([('CVE_ENT', '09'), ('CVE_LOC', '0001'), ('CVE_MUN', '005'), ('CVE_AGEB', '0027')])\n",
      "OrderedDict([('CVE_ENT', '09'), ('CVE_LOC', '0001'), ('CVE_MUN', '005'), ('CVE_AGEB', '3267')])\n",
      "OrderedDict([('CVE_ENT', '09'), ('CVE_LOC', '0001'), ('CVE_MUN', '005'), ('CVE_AGEB', '3271')])\n",
      "OrderedDict([('CVE_ENT', '09'), ('CVE_LOC', '0001'), ('CVE_MUN', '005'), ('CVE_AGEB', '3290')])\n",
      "OrderedDict([('CVE_ENT', '09'), ('CVE_LOC', '0001'), ('CVE_MUN', '005'), ('CVE_AGEB', '3407')])\n",
      "OrderedDict([('CVE_ENT', '09'), ('CVE_LOC', '0001'), ('CVE_MUN', '005'), ('CVE_AGEB', '2771')])\n",
      "OrderedDict([('CVE_ENT', '09'), ('CVE_LOC', '0001'), ('CVE_MUN', '005'), ('CVE_AGEB', '1650')])\n",
      "OrderedDict([('CVE_ENT', '09'), ('CVE_LOC', '0001'), ('CVE_MUN', '005'), ('CVE_AGEB', '2790')])\n",
      "OrderedDict([('CVE_ENT', '09'), ('CVE_LOC', '0001'), ('CVE_MUN', '005'), ('CVE_AGEB', '0258')])\n",
      "OrderedDict([('CVE_ENT', '09'), ('CVE_LOC', '0001'), ('CVE_MUN', '005'), ('CVE_AGEB', '0262')])\n",
      "OrderedDict([('CVE_ENT', '09'), ('CVE_LOC', '0001'), ('CVE_MUN', '005'), ('CVE_AGEB', '0309')])\n",
      "OrderedDict([('CVE_ENT', '09'), ('CVE_LOC', '0001'), ('CVE_MUN', '005'), ('CVE_AGEB', '0845')])\n",
      "OrderedDict([('CVE_ENT', '09'), ('CVE_LOC', '0001'), ('CVE_MUN', '005'), ('CVE_AGEB', '0879')])\n",
      "OrderedDict([('CVE_ENT', '09'), ('CVE_LOC', '0001'), ('CVE_MUN', '005'), ('CVE_AGEB', '0987')])\n",
      "OrderedDict([('CVE_ENT', '09'), ('CVE_LOC', '0001'), ('CVE_MUN', '005'), ('CVE_AGEB', '1006')])\n",
      "OrderedDict([('CVE_ENT', '09'), ('CVE_LOC', '0001'), ('CVE_MUN', '005'), ('CVE_AGEB', '1025')])\n",
      "OrderedDict([('CVE_ENT', '09'), ('CVE_LOC', '0001'), ('CVE_MUN', '005'), ('CVE_AGEB', '103A')])\n",
      "OrderedDict([('CVE_ENT', '09'), ('CVE_LOC', '0001'), ('CVE_MUN', '005'), ('CVE_AGEB', '1044')])\n",
      "OrderedDict([('CVE_ENT', '09'), ('CVE_LOC', '0001'), ('CVE_MUN', '005'), ('CVE_AGEB', '1059')])\n",
      "OrderedDict([('CVE_ENT', '09'), ('CVE_LOC', '0001'), ('CVE_MUN', '005'), ('CVE_AGEB', '1078')])\n",
      "OrderedDict([('CVE_ENT', '09'), ('CVE_LOC', '0001'), ('CVE_MUN', '005'), ('CVE_AGEB', '1097')])\n",
      "OrderedDict([('CVE_ENT', '09'), ('CVE_LOC', '0001'), ('CVE_MUN', '005'), ('CVE_AGEB', '110A')])\n",
      "OrderedDict([('CVE_ENT', '09'), ('CVE_LOC', '0001'), ('CVE_MUN', '005'), ('CVE_AGEB', '1129')])\n",
      "OrderedDict([('CVE_ENT', '09'), ('CVE_LOC', '0001'), ('CVE_MUN', '005'), ('CVE_AGEB', '1133')])\n",
      "OrderedDict([('CVE_ENT', '09'), ('CVE_LOC', '0001'), ('CVE_MUN', '005'), ('CVE_AGEB', '1186')])\n",
      "OrderedDict([('CVE_ENT', '09'), ('CVE_LOC', '0001'), ('CVE_MUN', '005'), ('CVE_AGEB', '1190')])\n",
      "OrderedDict([('CVE_ENT', '09'), ('CVE_LOC', '0001'), ('CVE_MUN', '005'), ('CVE_AGEB', '1218')])\n",
      "OrderedDict([('CVE_ENT', '09'), ('CVE_LOC', '0001'), ('CVE_MUN', '005'), ('CVE_AGEB', '1241')])\n",
      "OrderedDict([('CVE_ENT', '09'), ('CVE_LOC', '0001'), ('CVE_MUN', '005'), ('CVE_AGEB', '1260')])\n",
      "OrderedDict([('CVE_ENT', '09'), ('CVE_LOC', '0001'), ('CVE_MUN', '005'), ('CVE_AGEB', '1275')])\n",
      "OrderedDict([('CVE_ENT', '09'), ('CVE_LOC', '0001'), ('CVE_MUN', '005'), ('CVE_AGEB', '128A')])\n",
      "OrderedDict([('CVE_ENT', '09'), ('CVE_LOC', '0001'), ('CVE_MUN', '005'), ('CVE_AGEB', '1294')])\n",
      "OrderedDict([('CVE_ENT', '09'), ('CVE_LOC', '0001'), ('CVE_MUN', '005'), ('CVE_AGEB', '1307')])\n",
      "OrderedDict([('CVE_ENT', '09'), ('CVE_LOC', '0001'), ('CVE_MUN', '005'), ('CVE_AGEB', '1311')])\n",
      "OrderedDict([('CVE_ENT', '09'), ('CVE_LOC', '0001'), ('CVE_MUN', '005'), ('CVE_AGEB', '1326')])\n",
      "OrderedDict([('CVE_ENT', '09'), ('CVE_LOC', '0001'), ('CVE_MUN', '005'), ('CVE_AGEB', '1345')])\n",
      "OrderedDict([('CVE_ENT', '09'), ('CVE_LOC', '0001'), ('CVE_MUN', '005'), ('CVE_AGEB', '135A')])\n",
      "OrderedDict([('CVE_ENT', '09'), ('CVE_LOC', '0001'), ('CVE_MUN', '005'), ('CVE_AGEB', '1379')])\n",
      "OrderedDict([('CVE_ENT', '09'), ('CVE_LOC', '0001'), ('CVE_MUN', '005'), ('CVE_AGEB', '1398')])\n",
      "OrderedDict([('CVE_ENT', '09'), ('CVE_LOC', '0001'), ('CVE_MUN', '005'), ('CVE_AGEB', '142A')])\n",
      "OrderedDict([('CVE_ENT', '09'), ('CVE_LOC', '0001'), ('CVE_MUN', '005'), ('CVE_AGEB', '1468')])\n",
      "OrderedDict([('CVE_ENT', '09'), ('CVE_LOC', '0001'), ('CVE_MUN', '005'), ('CVE_AGEB', '1472')])\n",
      "OrderedDict([('CVE_ENT', '09'), ('CVE_LOC', '0001'), ('CVE_MUN', '005'), ('CVE_AGEB', '1487')])\n",
      "OrderedDict([('CVE_ENT', '09'), ('CVE_LOC', '0001'), ('CVE_MUN', '005'), ('CVE_AGEB', '1504')])\n",
      "OrderedDict([('CVE_ENT', '09'), ('CVE_LOC', '0001'), ('CVE_MUN', '005'), ('CVE_AGEB', '1523')])\n",
      "OrderedDict([('CVE_ENT', '09'), ('CVE_LOC', '0001'), ('CVE_MUN', '005'), ('CVE_AGEB', '1538')])\n",
      "OrderedDict([('CVE_ENT', '09'), ('CVE_LOC', '0001'), ('CVE_MUN', '005'), ('CVE_AGEB', '1561')])\n",
      "OrderedDict([('CVE_ENT', '09'), ('CVE_LOC', '0001'), ('CVE_MUN', '005'), ('CVE_AGEB', '1576')])\n",
      "OrderedDict([('CVE_ENT', '09'), ('CVE_LOC', '0001'), ('CVE_MUN', '005'), ('CVE_AGEB', '1580')])\n",
      "OrderedDict([('CVE_ENT', '09'), ('CVE_LOC', '0001'), ('CVE_MUN', '005'), ('CVE_AGEB', '1595')])\n",
      "OrderedDict([('CVE_ENT', '09'), ('CVE_LOC', '0001'), ('CVE_MUN', '005'), ('CVE_AGEB', '1608')])\n",
      "OrderedDict([('CVE_ENT', '09'), ('CVE_LOC', '0001'), ('CVE_MUN', '005'), ('CVE_AGEB', '1627')])\n",
      "OrderedDict([('CVE_ENT', '09'), ('CVE_LOC', '0001'), ('CVE_MUN', '005'), ('CVE_AGEB', '1631')])\n",
      "OrderedDict([('CVE_ENT', '09'), ('CVE_LOC', '0001'), ('CVE_MUN', '005'), ('CVE_AGEB', '1646')])\n",
      "OrderedDict([('CVE_ENT', '09'), ('CVE_LOC', '0001'), ('CVE_MUN', '005'), ('CVE_AGEB', '2339')])\n",
      "OrderedDict([('CVE_ENT', '09'), ('CVE_LOC', '0001'), ('CVE_MUN', '005'), ('CVE_AGEB', '1665')])\n",
      "OrderedDict([('CVE_ENT', '09'), ('CVE_LOC', '0001'), ('CVE_MUN', '005'), ('CVE_AGEB', '167A')])\n",
      "OrderedDict([('CVE_ENT', '09'), ('CVE_LOC', '0001'), ('CVE_MUN', '005'), ('CVE_AGEB', '1684')])\n",
      "OrderedDict([('CVE_ENT', '09'), ('CVE_LOC', '0001'), ('CVE_MUN', '005'), ('CVE_AGEB', '1701')])\n",
      "OrderedDict([('CVE_ENT', '09'), ('CVE_LOC', '0001'), ('CVE_MUN', '005'), ('CVE_AGEB', '3214')])\n",
      "OrderedDict([('CVE_ENT', '09'), ('CVE_LOC', '0001'), ('CVE_MUN', '005'), ('CVE_AGEB', '1788')])\n",
      "OrderedDict([('CVE_ENT', '09'), ('CVE_LOC', '0001'), ('CVE_MUN', '005'), ('CVE_AGEB', '1792')])\n",
      "OrderedDict([('CVE_ENT', '09'), ('CVE_LOC', '0001'), ('CVE_MUN', '005'), ('CVE_AGEB', '0050')])\n",
      "OrderedDict([('CVE_ENT', '09'), ('CVE_LOC', '0001'), ('CVE_MUN', '005'), ('CVE_AGEB', '2023')])\n",
      "OrderedDict([('CVE_ENT', '09'), ('CVE_LOC', '0001'), ('CVE_MUN', '005'), ('CVE_AGEB', '0898')])\n",
      "OrderedDict([('CVE_ENT', '09'), ('CVE_LOC', '0001'), ('CVE_MUN', '005'), ('CVE_AGEB', '0243')])\n",
      "OrderedDict([('CVE_ENT', '09'), ('CVE_LOC', '0001'), ('CVE_MUN', '005'), ('CVE_AGEB', '2076')])\n",
      "OrderedDict([('CVE_ENT', '09'), ('CVE_LOC', '0001'), ('CVE_MUN', '005'), ('CVE_AGEB', '2095')])\n",
      "OrderedDict([('CVE_ENT', '09'), ('CVE_LOC', '0001'), ('CVE_MUN', '005'), ('CVE_AGEB', '2108')])\n",
      "OrderedDict([('CVE_ENT', '09'), ('CVE_LOC', '0001'), ('CVE_MUN', '005'), ('CVE_AGEB', '2127')])\n",
      "OrderedDict([('CVE_ENT', '09'), ('CVE_LOC', '0001'), ('CVE_MUN', '005'), ('CVE_AGEB', '2146')])\n",
      "OrderedDict([('CVE_ENT', '09'), ('CVE_LOC', '0001'), ('CVE_MUN', '005'), ('CVE_AGEB', '2150')])\n",
      "OrderedDict([('CVE_ENT', '09'), ('CVE_LOC', '0001'), ('CVE_MUN', '005'), ('CVE_AGEB', '217A')])\n",
      "OrderedDict([('CVE_ENT', '09'), ('CVE_LOC', '0001'), ('CVE_MUN', '005'), ('CVE_AGEB', '2201')])\n",
      "OrderedDict([('CVE_ENT', '09'), ('CVE_LOC', '0001'), ('CVE_MUN', '005'), ('CVE_AGEB', '2220')])\n",
      "OrderedDict([('CVE_ENT', '09'), ('CVE_LOC', '0001'), ('CVE_MUN', '005'), ('CVE_AGEB', '2235')])\n",
      "OrderedDict([('CVE_ENT', '09'), ('CVE_LOC', '0001'), ('CVE_MUN', '005'), ('CVE_AGEB', '2377')])\n",
      "OrderedDict([('CVE_ENT', '09'), ('CVE_LOC', '0001'), ('CVE_MUN', '005'), ('CVE_AGEB', '2803')])\n",
      "OrderedDict([('CVE_ENT', '09'), ('CVE_LOC', '0001'), ('CVE_MUN', '005'), ('CVE_AGEB', '2729')])\n",
      "OrderedDict([('CVE_ENT', '09'), ('CVE_LOC', '0001'), ('CVE_MUN', '005'), ('CVE_AGEB', '0510')])\n",
      "OrderedDict([('CVE_ENT', '09'), ('CVE_LOC', '0001'), ('CVE_MUN', '005'), ('CVE_AGEB', '1970')])\n",
      "OrderedDict([('CVE_ENT', '09'), ('CVE_LOC', '0001'), ('CVE_MUN', '005'), ('CVE_AGEB', '0991')])\n",
      "OrderedDict([('CVE_ENT', '09'), ('CVE_LOC', '0001'), ('CVE_MUN', '005'), ('CVE_AGEB', '0506')])\n",
      "OrderedDict([('CVE_ENT', '09'), ('CVE_LOC', '0001'), ('CVE_MUN', '005'), ('CVE_AGEB', '0953')])\n",
      "OrderedDict([('CVE_ENT', '09'), ('CVE_LOC', '0001'), ('CVE_MUN', '005'), ('CVE_AGEB', '0968')])\n",
      "OrderedDict([('CVE_ENT', '09'), ('CVE_LOC', '0001'), ('CVE_MUN', '005'), ('CVE_AGEB', '092A')])\n",
      "OrderedDict([('CVE_ENT', '09'), ('CVE_LOC', '0001'), ('CVE_MUN', '005'), ('CVE_AGEB', '0934')])\n",
      "OrderedDict([('CVE_ENT', '09'), ('CVE_LOC', '0001'), ('CVE_MUN', '005'), ('CVE_AGEB', '0949')])\n",
      "OrderedDict([('CVE_ENT', '09'), ('CVE_LOC', '0001'), ('CVE_MUN', '005'), ('CVE_AGEB', '1932')])\n",
      "OrderedDict([('CVE_ENT', '09'), ('CVE_LOC', '0001'), ('CVE_MUN', '005'), ('CVE_AGEB', '1951')])\n",
      "OrderedDict([('CVE_ENT', '09'), ('CVE_LOC', '0001'), ('CVE_MUN', '005'), ('CVE_AGEB', '2216')])\n",
      "OrderedDict([('CVE_ENT', '09'), ('CVE_LOC', '0001'), ('CVE_MUN', '005'), ('CVE_AGEB', '2131')])\n",
      "OrderedDict([('CVE_ENT', '09'), ('CVE_LOC', '0001'), ('CVE_MUN', '005'), ('CVE_AGEB', '3430')])\n",
      "OrderedDict([('CVE_ENT', '09'), ('CVE_LOC', '0001'), ('CVE_MUN', '005'), ('CVE_AGEB', '0135')])\n",
      "OrderedDict([('CVE_ENT', '09'), ('CVE_LOC', '0001'), ('CVE_MUN', '005'), ('CVE_AGEB', '0169')])\n",
      "OrderedDict([('CVE_ENT', '09'), ('CVE_LOC', '0001'), ('CVE_MUN', '005'), ('CVE_AGEB', '0188')])\n",
      "OrderedDict([('CVE_ENT', '09'), ('CVE_LOC', '0001'), ('CVE_MUN', '005'), ('CVE_AGEB', '0192')])\n",
      "OrderedDict([('CVE_ENT', '09'), ('CVE_LOC', '0001'), ('CVE_MUN', '005'), ('CVE_AGEB', '2786')])\n",
      "OrderedDict([('CVE_ENT', '09'), ('CVE_LOC', '0001'), ('CVE_MUN', '005'), ('CVE_AGEB', '0205')])\n",
      "OrderedDict([('CVE_ENT', '09'), ('CVE_LOC', '0001'), ('CVE_MUN', '005'), ('CVE_AGEB', '0224')])\n",
      "OrderedDict([('CVE_ENT', '09'), ('CVE_LOC', '0001'), ('CVE_MUN', '005'), ('CVE_AGEB', '0525')])\n",
      "OrderedDict([('CVE_ENT', '09'), ('CVE_LOC', '0001'), ('CVE_MUN', '005'), ('CVE_AGEB', '0559')])\n",
      "OrderedDict([('CVE_ENT', '09'), ('CVE_LOC', '0001'), ('CVE_MUN', '005'), ('CVE_AGEB', '0563')])\n",
      "OrderedDict([('CVE_ENT', '09'), ('CVE_LOC', '0001'), ('CVE_MUN', '005'), ('CVE_AGEB', '0737')])\n",
      "OrderedDict([('CVE_ENT', '09'), ('CVE_LOC', '0001'), ('CVE_MUN', '005'), ('CVE_AGEB', '0582')])\n",
      "OrderedDict([('CVE_ENT', '09'), ('CVE_LOC', '0001'), ('CVE_MUN', '005'), ('CVE_AGEB', '0597')])\n",
      "OrderedDict([('CVE_ENT', '09'), ('CVE_LOC', '0001'), ('CVE_MUN', '005'), ('CVE_AGEB', '060A')])\n",
      "OrderedDict([('CVE_ENT', '09'), ('CVE_LOC', '0001'), ('CVE_MUN', '005'), ('CVE_AGEB', '0614')])\n",
      "OrderedDict([('CVE_ENT', '09'), ('CVE_LOC', '0001'), ('CVE_MUN', '005'), ('CVE_AGEB', '0629')])\n",
      "OrderedDict([('CVE_ENT', '09'), ('CVE_LOC', '0001'), ('CVE_MUN', '005'), ('CVE_AGEB', '0633')])\n",
      "OrderedDict([('CVE_ENT', '09'), ('CVE_LOC', '0001'), ('CVE_MUN', '005'), ('CVE_AGEB', '1082')])\n",
      "OrderedDict([('CVE_ENT', '09'), ('CVE_LOC', '0001'), ('CVE_MUN', '005'), ('CVE_AGEB', '0667')])\n",
      "OrderedDict([('CVE_ENT', '09'), ('CVE_LOC', '0001'), ('CVE_MUN', '005'), ('CVE_AGEB', '0671')])\n",
      "OrderedDict([('CVE_ENT', '09'), ('CVE_LOC', '0001'), ('CVE_MUN', '005'), ('CVE_AGEB', '0718')])\n",
      "OrderedDict([('CVE_ENT', '09'), ('CVE_LOC', '0001'), ('CVE_MUN', '005'), ('CVE_AGEB', '0722')])\n",
      "OrderedDict([('CVE_ENT', '09'), ('CVE_LOC', '0001'), ('CVE_MUN', '005'), ('CVE_AGEB', '0741')])\n",
      "OrderedDict([('CVE_ENT', '09'), ('CVE_LOC', '0001'), ('CVE_MUN', '005'), ('CVE_AGEB', '0972')])\n",
      "OrderedDict([('CVE_ENT', '09'), ('CVE_LOC', '0001'), ('CVE_MUN', '005'), ('CVE_AGEB', '0756')])\n",
      "OrderedDict([('CVE_ENT', '09'), ('CVE_LOC', '0001'), ('CVE_MUN', '005'), ('CVE_AGEB', '0760')])\n",
      "OrderedDict([('CVE_ENT', '09'), ('CVE_LOC', '0001'), ('CVE_MUN', '005'), ('CVE_AGEB', '0775')])\n",
      "OrderedDict([('CVE_ENT', '09'), ('CVE_LOC', '0001'), ('CVE_MUN', '005'), ('CVE_AGEB', '078A')])\n",
      "OrderedDict([('CVE_ENT', '09'), ('CVE_LOC', '0001'), ('CVE_MUN', '005'), ('CVE_AGEB', '0794')])\n",
      "OrderedDict([('CVE_ENT', '09'), ('CVE_LOC', '0001'), ('CVE_MUN', '005'), ('CVE_AGEB', '0811')])\n",
      "OrderedDict([('CVE_ENT', '09'), ('CVE_LOC', '0001'), ('CVE_MUN', '005'), ('CVE_AGEB', '0826')])\n",
      "OrderedDict([('CVE_ENT', '09'), ('CVE_LOC', '0001'), ('CVE_MUN', '005'), ('CVE_AGEB', '0830')])\n",
      "OrderedDict([('CVE_ENT', '09'), ('CVE_LOC', '0001'), ('CVE_MUN', '005'), ('CVE_AGEB', '1805')])\n",
      "OrderedDict([('CVE_ENT', '09'), ('CVE_LOC', '0001'), ('CVE_MUN', '005'), ('CVE_AGEB', '181A')])\n",
      "OrderedDict([('CVE_ENT', '09'), ('CVE_LOC', '0001'), ('CVE_MUN', '005'), ('CVE_AGEB', '1824')])\n",
      "OrderedDict([('CVE_ENT', '09'), ('CVE_LOC', '0001'), ('CVE_MUN', '005'), ('CVE_AGEB', '1839')])\n",
      "OrderedDict([('CVE_ENT', '09'), ('CVE_LOC', '0001'), ('CVE_MUN', '005'), ('CVE_AGEB', '1843')])\n",
      "OrderedDict([('CVE_ENT', '09'), ('CVE_LOC', '0001'), ('CVE_MUN', '005'), ('CVE_AGEB', '1858')])\n",
      "OrderedDict([('CVE_ENT', '09'), ('CVE_LOC', '0001'), ('CVE_MUN', '005'), ('CVE_AGEB', '1862')])\n",
      "OrderedDict([('CVE_ENT', '09'), ('CVE_LOC', '0001'), ('CVE_MUN', '005'), ('CVE_AGEB', '1881')])\n",
      "OrderedDict([('CVE_ENT', '09'), ('CVE_LOC', '0001'), ('CVE_MUN', '005'), ('CVE_AGEB', '1896')])\n",
      "OrderedDict([('CVE_ENT', '09'), ('CVE_LOC', '0001'), ('CVE_MUN', '005'), ('CVE_AGEB', '1909')])\n",
      "OrderedDict([('CVE_ENT', '09'), ('CVE_LOC', '0001'), ('CVE_MUN', '005'), ('CVE_AGEB', '1913')])\n",
      "OrderedDict([('CVE_ENT', '09'), ('CVE_LOC', '0001'), ('CVE_MUN', '005'), ('CVE_AGEB', '1928')])\n",
      "OrderedDict([('CVE_ENT', '09'), ('CVE_LOC', '0001'), ('CVE_MUN', '005'), ('CVE_AGEB', '199A')])\n",
      "OrderedDict([('CVE_ENT', '09'), ('CVE_LOC', '0001'), ('CVE_MUN', '005'), ('CVE_AGEB', '3093')])\n",
      "OrderedDict([('CVE_ENT', '09'), ('CVE_LOC', '0001'), ('CVE_MUN', '005'), ('CVE_AGEB', '313A')])\n",
      "OrderedDict([('CVE_ENT', '09'), ('CVE_LOC', '0001'), ('CVE_MUN', '005'), ('CVE_AGEB', '3163')])\n",
      "OrderedDict([('CVE_ENT', '09'), ('CVE_LOC', '0001'), ('CVE_MUN', '005'), ('CVE_AGEB', '3178')])\n",
      "OrderedDict([('CVE_ENT', '09'), ('CVE_LOC', '0001'), ('CVE_MUN', '005'), ('CVE_AGEB', '3182')])\n",
      "OrderedDict([('CVE_ENT', '09'), ('CVE_LOC', '0001'), ('CVE_MUN', '005'), ('CVE_AGEB', '3197')])\n",
      "OrderedDict([('CVE_ENT', '09'), ('CVE_LOC', '0001'), ('CVE_MUN', '005'), ('CVE_AGEB', '320A')])\n",
      "OrderedDict([('CVE_ENT', '09'), ('CVE_LOC', '0001'), ('CVE_MUN', '005'), ('CVE_AGEB', '1985')])\n",
      "OrderedDict([('CVE_ENT', '09'), ('CVE_LOC', '0001'), ('CVE_MUN', '005'), ('CVE_AGEB', '2269')])\n",
      "OrderedDict([('CVE_ENT', '09'), ('CVE_LOC', '0001'), ('CVE_MUN', '005'), ('CVE_AGEB', '2362')])\n",
      "OrderedDict([('CVE_ENT', '09'), ('CVE_LOC', '0001'), ('CVE_MUN', '005'), ('CVE_AGEB', '295A')])\n",
      "OrderedDict([('CVE_ENT', '09'), ('CVE_LOC', '0001'), ('CVE_MUN', '005'), ('CVE_AGEB', '2112')])\n",
      "OrderedDict([('CVE_ENT', '09'), ('CVE_LOC', '0001'), ('CVE_MUN', '005'), ('CVE_AGEB', '2358')])\n",
      "OrderedDict([('CVE_ENT', '09'), ('CVE_LOC', '0001'), ('CVE_MUN', '005'), ('CVE_AGEB', '2447')])\n",
      "OrderedDict([('CVE_ENT', '09'), ('CVE_LOC', '0001'), ('CVE_MUN', '005'), ('CVE_AGEB', '2409')])\n",
      "OrderedDict([('CVE_ENT', '09'), ('CVE_LOC', '0001'), ('CVE_MUN', '005'), ('CVE_AGEB', '2752')])\n",
      "OrderedDict([('CVE_ENT', '09'), ('CVE_LOC', '0001'), ('CVE_MUN', '005'), ('CVE_AGEB', '3233')])\n",
      "OrderedDict([('CVE_ENT', '09'), ('CVE_LOC', '0001'), ('CVE_MUN', '005'), ('CVE_AGEB', '3248')])\n",
      "OrderedDict([('CVE_ENT', '09'), ('CVE_LOC', '0001'), ('CVE_MUN', '005'), ('CVE_AGEB', '3252')])\n",
      "OrderedDict([('CVE_ENT', '09'), ('CVE_LOC', '0001'), ('CVE_MUN', '005'), ('CVE_AGEB', '3303')])\n",
      "OrderedDict([('CVE_ENT', '09'), ('CVE_LOC', '0001'), ('CVE_MUN', '005'), ('CVE_AGEB', '3322')])\n",
      "OrderedDict([('CVE_ENT', '09'), ('CVE_LOC', '0001'), ('CVE_MUN', '005'), ('CVE_AGEB', '3341')])\n",
      "OrderedDict([('CVE_ENT', '09'), ('CVE_LOC', '0001'), ('CVE_MUN', '005'), ('CVE_AGEB', '3375')])\n",
      "OrderedDict([('CVE_ENT', '09'), ('CVE_LOC', '0001'), ('CVE_MUN', '005'), ('CVE_AGEB', '338A')])\n",
      "OrderedDict([('CVE_ENT', '09'), ('CVE_LOC', '0001'), ('CVE_MUN', '005'), ('CVE_AGEB', '3394')])\n",
      "OrderedDict([('CVE_ENT', '09'), ('CVE_LOC', '0001'), ('CVE_MUN', '005'), ('CVE_AGEB', '2767')])\n",
      "OrderedDict([('CVE_ENT', '09'), ('CVE_LOC', '0001'), ('CVE_MUN', '005'), ('CVE_AGEB', '0440')])\n",
      "OrderedDict([('CVE_ENT', '09'), ('CVE_LOC', '0001'), ('CVE_MUN', '005'), ('CVE_AGEB', '0455')])\n",
      "OrderedDict([('CVE_ENT', '09'), ('CVE_LOC', '0001'), ('CVE_MUN', '005'), ('CVE_AGEB', '1152')])\n",
      "OrderedDict([('CVE_ENT', '09'), ('CVE_LOC', '0001'), ('CVE_MUN', '005'), ('CVE_AGEB', '1148')])\n",
      "OrderedDict([('CVE_ENT', '09'), ('CVE_LOC', '0001'), ('CVE_MUN', '005'), ('CVE_AGEB', '2837')])\n",
      "OrderedDict([('CVE_ENT', '09'), ('CVE_LOC', '0001'), ('CVE_MUN', '005'), ('CVE_AGEB', '2841')])\n",
      "OrderedDict([('CVE_ENT', '09'), ('CVE_LOC', '0001'), ('CVE_MUN', '005'), ('CVE_AGEB', '2856')])\n",
      "OrderedDict([('CVE_ENT', '09'), ('CVE_LOC', '0001'), ('CVE_MUN', '005'), ('CVE_AGEB', '2860')])\n",
      "OrderedDict([('CVE_ENT', '09'), ('CVE_LOC', '0001'), ('CVE_MUN', '005'), ('CVE_AGEB', '2907')])\n",
      "OrderedDict([('CVE_ENT', '09'), ('CVE_LOC', '0001'), ('CVE_MUN', '005'), ('CVE_AGEB', '2930')])\n",
      "OrderedDict([('CVE_ENT', '09'), ('CVE_LOC', '0001'), ('CVE_MUN', '005'), ('CVE_AGEB', '288A')])\n",
      "OrderedDict([('CVE_ENT', '09'), ('CVE_LOC', '0001'), ('CVE_MUN', '005'), ('CVE_AGEB', '0313')])\n",
      "OrderedDict([('CVE_ENT', '09'), ('CVE_LOC', '0001'), ('CVE_MUN', '005'), ('CVE_AGEB', '0328')])\n",
      "OrderedDict([('CVE_ENT', '09'), ('CVE_LOC', '0001'), ('CVE_MUN', '005'), ('CVE_AGEB', '0332')])\n",
      "OrderedDict([('CVE_ENT', '09'), ('CVE_LOC', '0001'), ('CVE_MUN', '005'), ('CVE_AGEB', '0402')])\n",
      "OrderedDict([('CVE_ENT', '09'), ('CVE_LOC', '0001'), ('CVE_MUN', '005'), ('CVE_AGEB', '0370')])\n",
      "OrderedDict([('CVE_ENT', '09'), ('CVE_LOC', '0001'), ('CVE_MUN', '005'), ('CVE_AGEB', '0864')])\n",
      "OrderedDict([('CVE_ENT', '09'), ('CVE_LOC', '0001'), ('CVE_MUN', '005'), ('CVE_AGEB', '1237')])\n",
      "OrderedDict([('CVE_ENT', '09'), ('CVE_LOC', '0001'), ('CVE_MUN', '005'), ('CVE_AGEB', '1203')])\n",
      "OrderedDict([('CVE_ENT', '09'), ('CVE_LOC', '0001'), ('CVE_MUN', '005'), ('CVE_AGEB', '1364')])\n",
      "OrderedDict([('CVE_ENT', '09'), ('CVE_LOC', '0001'), ('CVE_MUN', '005'), ('CVE_AGEB', '1383')])\n",
      "OrderedDict([('CVE_ENT', '09'), ('CVE_LOC', '0001'), ('CVE_MUN', '005'), ('CVE_AGEB', '1415')])\n",
      "OrderedDict([('CVE_ENT', '09'), ('CVE_LOC', '0001'), ('CVE_MUN', '005'), ('CVE_AGEB', '1434')])\n",
      "OrderedDict([('CVE_ENT', '09'), ('CVE_LOC', '0001'), ('CVE_MUN', '005'), ('CVE_AGEB', '1449')])\n",
      "OrderedDict([('CVE_ENT', '09'), ('CVE_LOC', '0001'), ('CVE_MUN', '005'), ('CVE_AGEB', '1453')])\n",
      "OrderedDict([('CVE_ENT', '09'), ('CVE_LOC', '0001'), ('CVE_MUN', '005'), ('CVE_AGEB', '1612')])\n",
      "OrderedDict([('CVE_ENT', '09'), ('CVE_LOC', '0001'), ('CVE_MUN', '005'), ('CVE_AGEB', '3110')])\n",
      "OrderedDict([('CVE_ENT', '09'), ('CVE_LOC', '0001'), ('CVE_MUN', '005'), ('CVE_AGEB', '1754')])\n",
      "OrderedDict([('CVE_ENT', '09'), ('CVE_LOC', '0001'), ('CVE_MUN', '005'), ('CVE_AGEB', '2019')])\n",
      "OrderedDict([('CVE_ENT', '09'), ('CVE_LOC', '0001'), ('CVE_MUN', '005'), ('CVE_AGEB', '2199')])\n",
      "OrderedDict([('CVE_ENT', '09'), ('CVE_LOC', '0001'), ('CVE_MUN', '005'), ('CVE_AGEB', '2057')])\n",
      "OrderedDict([('CVE_ENT', '09'), ('CVE_LOC', '0001'), ('CVE_MUN', '005'), ('CVE_AGEB', '2324')])\n",
      "OrderedDict([('CVE_ENT', '09'), ('CVE_LOC', '0001'), ('CVE_MUN', '005'), ('CVE_AGEB', '2451')])\n",
      "OrderedDict([('CVE_ENT', '09'), ('CVE_LOC', '0001'), ('CVE_MUN', '005'), ('CVE_AGEB', '2682')])\n",
      "OrderedDict([('CVE_ENT', '09'), ('CVE_LOC', '0001'), ('CVE_MUN', '005'), ('CVE_AGEB', '2697')])\n",
      "OrderedDict([('CVE_ENT', '09'), ('CVE_LOC', '0001'), ('CVE_MUN', '005'), ('CVE_AGEB', '263A')])\n",
      "OrderedDict([('CVE_ENT', '09'), ('CVE_LOC', '0001'), ('CVE_MUN', '005'), ('CVE_AGEB', '2644')])\n",
      "OrderedDict([('CVE_ENT', '09'), ('CVE_LOC', '0001'), ('CVE_MUN', '005'), ('CVE_AGEB', '2659')])\n",
      "OrderedDict([('CVE_ENT', '09'), ('CVE_LOC', '0001'), ('CVE_MUN', '005'), ('CVE_AGEB', '2663')])\n",
      "OrderedDict([('CVE_ENT', '09'), ('CVE_LOC', '0001'), ('CVE_MUN', '005'), ('CVE_AGEB', '2678')])\n",
      "OrderedDict([('CVE_ENT', '09'), ('CVE_LOC', '0001'), ('CVE_MUN', '005'), ('CVE_AGEB', '270A')])\n",
      "OrderedDict([('CVE_ENT', '09'), ('CVE_LOC', '0001'), ('CVE_MUN', '005'), ('CVE_AGEB', '2875')])\n",
      "OrderedDict([('CVE_ENT', '09'), ('CVE_LOC', '0001'), ('CVE_MUN', '005'), ('CVE_AGEB', '2733')])\n",
      "OrderedDict([('CVE_ENT', '09'), ('CVE_LOC', '0001'), ('CVE_MUN', '005'), ('CVE_AGEB', '2748')])\n",
      "OrderedDict([('CVE_ENT', '09'), ('CVE_LOC', '0001'), ('CVE_MUN', '005'), ('CVE_AGEB', '0351')])\n",
      "OrderedDict([('CVE_ENT', '09'), ('CVE_LOC', '0001'), ('CVE_MUN', '005'), ('CVE_AGEB', '0915')])\n",
      "OrderedDict([('CVE_ENT', '09'), ('CVE_LOC', '0001'), ('CVE_MUN', '005'), ('CVE_AGEB', '1400')])\n",
      "OrderedDict([('CVE_ENT', '09'), ('CVE_LOC', '0001'), ('CVE_MUN', '005'), ('CVE_AGEB', '3426')])\n",
      "OrderedDict([('CVE_ENT', '09'), ('CVE_LOC', '0001'), ('CVE_MUN', '005'), ('CVE_AGEB', '1114')])\n",
      "OrderedDict([('CVE_ENT', '09'), ('CVE_LOC', '0001'), ('CVE_MUN', '005'), ('CVE_AGEB', '1256')])\n",
      "OrderedDict([('CVE_ENT', '09'), ('CVE_LOC', '0001'), ('CVE_MUN', '005'), ('CVE_AGEB', '3337')])\n",
      "OrderedDict([('CVE_ENT', '09'), ('CVE_LOC', '0001'), ('CVE_MUN', '005'), ('CVE_AGEB', '1330')])\n",
      "OrderedDict([('CVE_ENT', '09'), ('CVE_LOC', '0001'), ('CVE_MUN', '005'), ('CVE_AGEB', '0281')])\n",
      "OrderedDict([('CVE_ENT', '09'), ('CVE_LOC', '0001'), ('CVE_MUN', '005'), ('CVE_AGEB', '2822')])\n",
      "OrderedDict([('CVE_ENT', '09'), ('CVE_LOC', '0001'), ('CVE_MUN', '005'), ('CVE_AGEB', '2061')])\n",
      "OrderedDict([('CVE_ENT', '09'), ('CVE_LOC', '0001'), ('CVE_MUN', '005'), ('CVE_AGEB', '0296')])\n",
      "OrderedDict([('CVE_ENT', '09'), ('CVE_LOC', '0001'), ('CVE_MUN', '005'), ('CVE_AGEB', '1063')])\n",
      "OrderedDict([('CVE_ENT', '09'), ('CVE_LOC', '0001'), ('CVE_MUN', '005'), ('CVE_AGEB', '0900')])\n",
      "OrderedDict([('CVE_ENT', '09'), ('CVE_LOC', '0001'), ('CVE_MUN', '005'), ('CVE_AGEB', '0474')])\n",
      "OrderedDict([('CVE_ENT', '09'), ('CVE_LOC', '0001'), ('CVE_MUN', '005'), ('CVE_AGEB', '0084')])\n",
      "OrderedDict([('CVE_ENT', '09'), ('CVE_LOC', '0001'), ('CVE_MUN', '005'), ('CVE_AGEB', '0099')])\n",
      "OrderedDict([('CVE_ENT', '09'), ('CVE_LOC', '0001'), ('CVE_MUN', '005'), ('CVE_AGEB', '0101')])\n",
      "OrderedDict([('CVE_ENT', '09'), ('CVE_LOC', '0001'), ('CVE_MUN', '005'), ('CVE_AGEB', '2610')])\n",
      "OrderedDict([('CVE_ENT', '09'), ('CVE_LOC', '0001'), ('CVE_MUN', '005'), ('CVE_AGEB', '2625')])\n",
      "OrderedDict([('CVE_ENT', '09'), ('CVE_LOC', '0001'), ('CVE_MUN', '005'), ('CVE_AGEB', '2606')])\n",
      "OrderedDict([('CVE_ENT', '09'), ('CVE_LOC', '0001'), ('CVE_MUN', '005'), ('CVE_AGEB', '3055')])\n",
      "OrderedDict([('CVE_ENT', '09'), ('CVE_LOC', '0001'), ('CVE_MUN', '005'), ('CVE_AGEB', '306A')])\n",
      "OrderedDict([('CVE_ENT', '09'), ('CVE_LOC', '0001'), ('CVE_MUN', '005'), ('CVE_AGEB', '3074')])\n",
      "OrderedDict([('CVE_ENT', '09'), ('CVE_LOC', '0001'), ('CVE_MUN', '005'), ('CVE_AGEB', '3089')])\n",
      "OrderedDict([('CVE_ENT', '09'), ('CVE_LOC', '0001'), ('CVE_MUN', '005'), ('CVE_AGEB', '3445')])\n",
      "OrderedDict([('CVE_ENT', '09'), ('CVE_LOC', '0001'), ('CVE_MUN', '005'), ('CVE_AGEB', '2432')])\n",
      "OrderedDict([('CVE_ENT', '09'), ('CVE_LOC', '0001'), ('CVE_MUN', '005'), ('CVE_AGEB', '2004')])\n",
      "OrderedDict([('CVE_ENT', '09'), ('CVE_LOC', '0001'), ('CVE_MUN', '005'), ('CVE_AGEB', '224A')])\n",
      "OrderedDict([('CVE_ENT', '09'), ('CVE_LOC', '0001'), ('CVE_MUN', '005'), ('CVE_AGEB', '2080')])\n",
      "OrderedDict([('CVE_ENT', '09'), ('CVE_LOC', '0001'), ('CVE_MUN', '005'), ('CVE_AGEB', '1877')])\n",
      "OrderedDict([('CVE_ENT', '09'), ('CVE_LOC', '0001'), ('CVE_MUN', '005'), ('CVE_AGEB', '2945')])\n",
      "OrderedDict([('CVE_ENT', '09'), ('CVE_LOC', '0001'), ('CVE_MUN', '005'), ('CVE_AGEB', '2254')])\n",
      "OrderedDict([('CVE_ENT', '09'), ('CVE_LOC', '0001'), ('CVE_MUN', '005'), ('CVE_AGEB', '0807')])\n",
      "OrderedDict([('CVE_ENT', '09'), ('CVE_LOC', '0001'), ('CVE_MUN', '006'), ('CVE_AGEB', '0185')])\n",
      "OrderedDict([('CVE_ENT', '09'), ('CVE_LOC', '0001'), ('CVE_MUN', '006'), ('CVE_AGEB', '0147')])\n",
      "OrderedDict([('CVE_ENT', '09'), ('CVE_LOC', '0001'), ('CVE_MUN', '006'), ('CVE_AGEB', '0950')])\n",
      "OrderedDict([('CVE_ENT', '09'), ('CVE_LOC', '0001'), ('CVE_MUN', '006'), ('CVE_AGEB', '001A')])\n",
      "OrderedDict([('CVE_ENT', '09'), ('CVE_LOC', '0001'), ('CVE_MUN', '006'), ('CVE_AGEB', '0024')])\n",
      "OrderedDict([('CVE_ENT', '09'), ('CVE_LOC', '0001'), ('CVE_MUN', '006'), ('CVE_AGEB', '0927')])\n",
      "OrderedDict([('CVE_ENT', '09'), ('CVE_LOC', '0001'), ('CVE_MUN', '006'), ('CVE_AGEB', '0999')])\n",
      "OrderedDict([('CVE_ENT', '09'), ('CVE_LOC', '0001'), ('CVE_MUN', '006'), ('CVE_AGEB', '0058')])\n",
      "OrderedDict([('CVE_ENT', '09'), ('CVE_LOC', '0001'), ('CVE_MUN', '006'), ('CVE_AGEB', '0109')])\n",
      "OrderedDict([('CVE_ENT', '09'), ('CVE_LOC', '0001'), ('CVE_MUN', '006'), ('CVE_AGEB', '0128')])\n",
      "OrderedDict([('CVE_ENT', '09'), ('CVE_LOC', '0001'), ('CVE_MUN', '006'), ('CVE_AGEB', '0132')])\n",
      "OrderedDict([('CVE_ENT', '09'), ('CVE_LOC', '0001'), ('CVE_MUN', '006'), ('CVE_AGEB', '0151')])\n",
      "OrderedDict([('CVE_ENT', '09'), ('CVE_LOC', '0001'), ('CVE_MUN', '006'), ('CVE_AGEB', '0166')])\n",
      "OrderedDict([('CVE_ENT', '09'), ('CVE_LOC', '0001'), ('CVE_MUN', '006'), ('CVE_AGEB', '0039')])\n",
      "OrderedDict([('CVE_ENT', '09'), ('CVE_LOC', '0001'), ('CVE_MUN', '006'), ('CVE_AGEB', '0217')])\n",
      "OrderedDict([('CVE_ENT', '09'), ('CVE_LOC', '0001'), ('CVE_MUN', '006'), ('CVE_AGEB', '0221')])\n",
      "OrderedDict([('CVE_ENT', '09'), ('CVE_LOC', '0001'), ('CVE_MUN', '006'), ('CVE_AGEB', '0236')])\n",
      "OrderedDict([('CVE_ENT', '09'), ('CVE_LOC', '0001'), ('CVE_MUN', '006'), ('CVE_AGEB', '0965')])\n",
      "OrderedDict([('CVE_ENT', '09'), ('CVE_LOC', '0001'), ('CVE_MUN', '006'), ('CVE_AGEB', '0240')])\n",
      "OrderedDict([('CVE_ENT', '09'), ('CVE_LOC', '0001'), ('CVE_MUN', '006'), ('CVE_AGEB', '0255')])\n",
      "OrderedDict([('CVE_ENT', '09'), ('CVE_LOC', '0001'), ('CVE_MUN', '006'), ('CVE_AGEB', '0274')])\n",
      "OrderedDict([('CVE_ENT', '09'), ('CVE_LOC', '0001'), ('CVE_MUN', '006'), ('CVE_AGEB', '0378')])\n",
      "OrderedDict([('CVE_ENT', '09'), ('CVE_LOC', '0001'), ('CVE_MUN', '006'), ('CVE_AGEB', '0490')])\n",
      "OrderedDict([('CVE_ENT', '09'), ('CVE_LOC', '0001'), ('CVE_MUN', '006'), ('CVE_AGEB', '0503')])\n",
      "OrderedDict([('CVE_ENT', '09'), ('CVE_LOC', '0001'), ('CVE_MUN', '006'), ('CVE_AGEB', '0518')])\n",
      "OrderedDict([('CVE_ENT', '09'), ('CVE_LOC', '0001'), ('CVE_MUN', '006'), ('CVE_AGEB', '0537')])\n",
      "OrderedDict([('CVE_ENT', '09'), ('CVE_LOC', '0001'), ('CVE_MUN', '006'), ('CVE_AGEB', '0541')])\n",
      "OrderedDict([('CVE_ENT', '09'), ('CVE_LOC', '0001'), ('CVE_MUN', '006'), ('CVE_AGEB', '0749')])\n",
      "OrderedDict([('CVE_ENT', '09'), ('CVE_LOC', '0001'), ('CVE_MUN', '006'), ('CVE_AGEB', '0804')])\n",
      "OrderedDict([('CVE_ENT', '09'), ('CVE_LOC', '0001'), ('CVE_MUN', '006'), ('CVE_AGEB', '0876')])\n",
      "OrderedDict([('CVE_ENT', '09'), ('CVE_LOC', '0001'), ('CVE_MUN', '006'), ('CVE_AGEB', '0931')])\n",
      "OrderedDict([('CVE_ENT', '09'), ('CVE_LOC', '0001'), ('CVE_MUN', '006'), ('CVE_AGEB', '0946')])\n",
      "OrderedDict([('CVE_ENT', '09'), ('CVE_LOC', '0001'), ('CVE_MUN', '006'), ('CVE_AGEB', '097A')])\n",
      "OrderedDict([('CVE_ENT', '09'), ('CVE_LOC', '0001'), ('CVE_MUN', '006'), ('CVE_AGEB', '0984')])\n",
      "OrderedDict([('CVE_ENT', '09'), ('CVE_LOC', '0001'), ('CVE_MUN', '006'), ('CVE_AGEB', '1003')])\n",
      "OrderedDict([('CVE_ENT', '09'), ('CVE_LOC', '0001'), ('CVE_MUN', '006'), ('CVE_AGEB', '1018')])\n",
      "OrderedDict([('CVE_ENT', '09'), ('CVE_LOC', '0001'), ('CVE_MUN', '006'), ('CVE_AGEB', '1022')])\n",
      "OrderedDict([('CVE_ENT', '09'), ('CVE_LOC', '0001'), ('CVE_MUN', '006'), ('CVE_AGEB', '1037')])\n",
      "OrderedDict([('CVE_ENT', '09'), ('CVE_LOC', '0001'), ('CVE_MUN', '006'), ('CVE_AGEB', '1056')])\n",
      "OrderedDict([('CVE_ENT', '09'), ('CVE_LOC', '0001'), ('CVE_MUN', '006'), ('CVE_AGEB', '1060')])\n",
      "OrderedDict([('CVE_ENT', '09'), ('CVE_LOC', '0001'), ('CVE_MUN', '006'), ('CVE_AGEB', '1075')])\n",
      "OrderedDict([('CVE_ENT', '09'), ('CVE_LOC', '0001'), ('CVE_MUN', '006'), ('CVE_AGEB', '108A')])\n",
      "OrderedDict([('CVE_ENT', '09'), ('CVE_LOC', '0001'), ('CVE_MUN', '006'), ('CVE_AGEB', '115A')])\n",
      "OrderedDict([('CVE_ENT', '09'), ('CVE_LOC', '0001'), ('CVE_MUN', '006'), ('CVE_AGEB', '1198')])\n",
      "OrderedDict([('CVE_ENT', '09'), ('CVE_LOC', '0001'), ('CVE_MUN', '006'), ('CVE_AGEB', '0626')])\n",
      "OrderedDict([('CVE_ENT', '09'), ('CVE_LOC', '0001'), ('CVE_MUN', '006'), ('CVE_AGEB', '0414')])\n",
      "OrderedDict([('CVE_ENT', '09'), ('CVE_LOC', '0001'), ('CVE_MUN', '006'), ('CVE_AGEB', '0683')])\n",
      "OrderedDict([('CVE_ENT', '09'), ('CVE_LOC', '0001'), ('CVE_MUN', '006'), ('CVE_AGEB', '0486')])\n",
      "OrderedDict([('CVE_ENT', '09'), ('CVE_LOC', '0001'), ('CVE_MUN', '006'), ('CVE_AGEB', '0043')])\n",
      "OrderedDict([('CVE_ENT', '09'), ('CVE_LOC', '0001'), ('CVE_MUN', '006'), ('CVE_AGEB', '0077')])\n",
      "OrderedDict([('CVE_ENT', '09'), ('CVE_LOC', '0001'), ('CVE_MUN', '006'), ('CVE_AGEB', '0081')])\n",
      "OrderedDict([('CVE_ENT', '09'), ('CVE_LOC', '0001'), ('CVE_MUN', '006'), ('CVE_AGEB', '0096')])\n",
      "OrderedDict([('CVE_ENT', '09'), ('CVE_LOC', '0001'), ('CVE_MUN', '006'), ('CVE_AGEB', '0344')])\n",
      "OrderedDict([('CVE_ENT', '09'), ('CVE_LOC', '0001'), ('CVE_MUN', '006'), ('CVE_AGEB', '0359')])\n",
      "OrderedDict([('CVE_ENT', '09'), ('CVE_LOC', '0001'), ('CVE_MUN', '006'), ('CVE_AGEB', '0363')])\n",
      "OrderedDict([('CVE_ENT', '09'), ('CVE_LOC', '0001'), ('CVE_MUN', '006'), ('CVE_AGEB', '0452')])\n",
      "OrderedDict([('CVE_ENT', '09'), ('CVE_LOC', '0001'), ('CVE_MUN', '006'), ('CVE_AGEB', '0467')])\n",
      "OrderedDict([('CVE_ENT', '09'), ('CVE_LOC', '0001'), ('CVE_MUN', '006'), ('CVE_AGEB', '0471')])\n",
      "OrderedDict([('CVE_ENT', '09'), ('CVE_LOC', '0001'), ('CVE_MUN', '006'), ('CVE_AGEB', '0522')])\n",
      "OrderedDict([('CVE_ENT', '09'), ('CVE_LOC', '0001'), ('CVE_MUN', '006'), ('CVE_AGEB', '058A')])\n",
      "OrderedDict([('CVE_ENT', '09'), ('CVE_LOC', '0001'), ('CVE_MUN', '006'), ('CVE_AGEB', '0607')])\n",
      "OrderedDict([('CVE_ENT', '09'), ('CVE_LOC', '0001'), ('CVE_MUN', '006'), ('CVE_AGEB', '0611')])\n",
      "OrderedDict([('CVE_ENT', '09'), ('CVE_LOC', '0001'), ('CVE_MUN', '006'), ('CVE_AGEB', '0630')])\n",
      "OrderedDict([('CVE_ENT', '09'), ('CVE_LOC', '0001'), ('CVE_MUN', '006'), ('CVE_AGEB', '0664')])\n",
      "OrderedDict([('CVE_ENT', '09'), ('CVE_LOC', '0001'), ('CVE_MUN', '006'), ('CVE_AGEB', '0698')])\n",
      "OrderedDict([('CVE_ENT', '09'), ('CVE_LOC', '0001'), ('CVE_MUN', '006'), ('CVE_AGEB', '0700')])\n",
      "OrderedDict([('CVE_ENT', '09'), ('CVE_LOC', '0001'), ('CVE_MUN', '006'), ('CVE_AGEB', '0715')])\n",
      "OrderedDict([('CVE_ENT', '09'), ('CVE_LOC', '0001'), ('CVE_MUN', '006'), ('CVE_AGEB', '072A')])\n",
      "OrderedDict([('CVE_ENT', '09'), ('CVE_LOC', '0001'), ('CVE_MUN', '006'), ('CVE_AGEB', '0734')])\n",
      "OrderedDict([('CVE_ENT', '09'), ('CVE_LOC', '0001'), ('CVE_MUN', '006'), ('CVE_AGEB', '0787')])\n",
      "OrderedDict([('CVE_ENT', '09'), ('CVE_LOC', '0001'), ('CVE_MUN', '006'), ('CVE_AGEB', '0791')])\n",
      "OrderedDict([('CVE_ENT', '09'), ('CVE_LOC', '0001'), ('CVE_MUN', '006'), ('CVE_AGEB', '0823')])\n",
      "OrderedDict([('CVE_ENT', '09'), ('CVE_LOC', '0001'), ('CVE_MUN', '006'), ('CVE_AGEB', '0838')])\n",
      "OrderedDict([('CVE_ENT', '09'), ('CVE_LOC', '0001'), ('CVE_MUN', '006'), ('CVE_AGEB', '0842')])\n",
      "OrderedDict([('CVE_ENT', '09'), ('CVE_LOC', '0001'), ('CVE_MUN', '006'), ('CVE_AGEB', '0880')])\n",
      "OrderedDict([('CVE_ENT', '09'), ('CVE_LOC', '0001'), ('CVE_MUN', '006'), ('CVE_AGEB', '0895')])\n",
      "OrderedDict([('CVE_ENT', '09'), ('CVE_LOC', '0001'), ('CVE_MUN', '006'), ('CVE_AGEB', '0908')])\n",
      "OrderedDict([('CVE_ENT', '09'), ('CVE_LOC', '0001'), ('CVE_MUN', '006'), ('CVE_AGEB', '1111')])\n",
      "OrderedDict([('CVE_ENT', '09'), ('CVE_LOC', '0001'), ('CVE_MUN', '006'), ('CVE_AGEB', '1126')])\n",
      "OrderedDict([('CVE_ENT', '09'), ('CVE_LOC', '0001'), ('CVE_MUN', '006'), ('CVE_AGEB', '1130')])\n",
      "OrderedDict([('CVE_ENT', '09'), ('CVE_LOC', '0001'), ('CVE_MUN', '006'), ('CVE_AGEB', '1179')])\n",
      "OrderedDict([('CVE_ENT', '09'), ('CVE_LOC', '0001'), ('CVE_MUN', '006'), ('CVE_AGEB', '1183')])\n",
      "OrderedDict([('CVE_ENT', '09'), ('CVE_LOC', '0001'), ('CVE_MUN', '006'), ('CVE_AGEB', '1200')])\n",
      "OrderedDict([('CVE_ENT', '09'), ('CVE_LOC', '0001'), ('CVE_MUN', '006'), ('CVE_AGEB', '0170')])\n",
      "OrderedDict([('CVE_ENT', '09'), ('CVE_LOC', '0001'), ('CVE_MUN', '006'), ('CVE_AGEB', '0556')])\n",
      "OrderedDict([('CVE_ENT', '09'), ('CVE_LOC', '0001'), ('CVE_MUN', '006'), ('CVE_AGEB', '0448')])\n",
      "OrderedDict([('CVE_ENT', '09'), ('CVE_LOC', '0001'), ('CVE_MUN', '006'), ('CVE_AGEB', '0645')])\n",
      "OrderedDict([('CVE_ENT', '09'), ('CVE_LOC', '0001'), ('CVE_MUN', '006'), ('CVE_AGEB', '065A')])\n",
      "OrderedDict([('CVE_ENT', '09'), ('CVE_LOC', '0001'), ('CVE_MUN', '006'), ('CVE_AGEB', '0289')])\n",
      "OrderedDict([('CVE_ENT', '09'), ('CVE_LOC', '0001'), ('CVE_MUN', '006'), ('CVE_AGEB', '019A')])\n",
      "OrderedDict([('CVE_ENT', '09'), ('CVE_LOC', '0001'), ('CVE_MUN', '006'), ('CVE_AGEB', '0202')])\n",
      "OrderedDict([('CVE_ENT', '09'), ('CVE_LOC', '0001'), ('CVE_MUN', '006'), ('CVE_AGEB', '026A')])\n",
      "OrderedDict([('CVE_ENT', '09'), ('CVE_LOC', '0001'), ('CVE_MUN', '006'), ('CVE_AGEB', '0293')])\n",
      "OrderedDict([('CVE_ENT', '09'), ('CVE_LOC', '0001'), ('CVE_MUN', '006'), ('CVE_AGEB', '0679')])\n",
      "OrderedDict([('CVE_ENT', '09'), ('CVE_LOC', '0001'), ('CVE_MUN', '006'), ('CVE_AGEB', '0310')])\n",
      "OrderedDict([('CVE_ENT', '09'), ('CVE_LOC', '0001'), ('CVE_MUN', '006'), ('CVE_AGEB', '0325')])\n",
      "OrderedDict([('CVE_ENT', '09'), ('CVE_LOC', '0001'), ('CVE_MUN', '006'), ('CVE_AGEB', '033A')])\n",
      "OrderedDict([('CVE_ENT', '09'), ('CVE_LOC', '0001'), ('CVE_MUN', '006'), ('CVE_AGEB', '0382')])\n",
      "OrderedDict([('CVE_ENT', '09'), ('CVE_LOC', '0001'), ('CVE_MUN', '006'), ('CVE_AGEB', '0397')])\n",
      "OrderedDict([('CVE_ENT', '09'), ('CVE_LOC', '0001'), ('CVE_MUN', '006'), ('CVE_AGEB', '0429')])\n",
      "OrderedDict([('CVE_ENT', '09'), ('CVE_LOC', '0001'), ('CVE_MUN', '006'), ('CVE_AGEB', '0433')])\n",
      "OrderedDict([('CVE_ENT', '09'), ('CVE_LOC', '0001'), ('CVE_MUN', '006'), ('CVE_AGEB', '0575')])\n",
      "OrderedDict([('CVE_ENT', '09'), ('CVE_LOC', '0001'), ('CVE_MUN', '006'), ('CVE_AGEB', '0594')])\n",
      "OrderedDict([('CVE_ENT', '09'), ('CVE_LOC', '0001'), ('CVE_MUN', '006'), ('CVE_AGEB', '0753')])\n",
      "OrderedDict([('CVE_ENT', '09'), ('CVE_LOC', '0001'), ('CVE_MUN', '006'), ('CVE_AGEB', '0768')])\n",
      "OrderedDict([('CVE_ENT', '09'), ('CVE_LOC', '0001'), ('CVE_MUN', '006'), ('CVE_AGEB', '0772')])\n",
      "OrderedDict([('CVE_ENT', '09'), ('CVE_LOC', '0001'), ('CVE_MUN', '006'), ('CVE_AGEB', '1164')])\n",
      "OrderedDict([('CVE_ENT', '09'), ('CVE_LOC', '0001'), ('CVE_MUN', '006'), ('CVE_AGEB', '1041')])\n",
      "OrderedDict([('CVE_ENT', '09'), ('CVE_LOC', '0001'), ('CVE_MUN', '006'), ('CVE_AGEB', '1094')])\n",
      "OrderedDict([('CVE_ENT', '09'), ('CVE_LOC', '0001'), ('CVE_MUN', '006'), ('CVE_AGEB', '1107')])\n",
      "OrderedDict([('CVE_ENT', '09'), ('CVE_LOC', '0001'), ('CVE_MUN', '007'), ('CVE_AGEB', '0638')])\n",
      "OrderedDict([('CVE_ENT', '09'), ('CVE_LOC', '0001'), ('CVE_MUN', '007'), ('CVE_AGEB', '2121')])\n",
      "OrderedDict([('CVE_ENT', '09'), ('CVE_LOC', '0001'), ('CVE_MUN', '007'), ('CVE_AGEB', '0271')])\n",
      "OrderedDict([('CVE_ENT', '09'), ('CVE_LOC', '0001'), ('CVE_MUN', '007'), ('CVE_AGEB', '0623')])\n",
      "OrderedDict([('CVE_ENT', '09'), ('CVE_LOC', '0001'), ('CVE_MUN', '007'), ('CVE_AGEB', '0479')])\n",
      "OrderedDict([('CVE_ENT', '09'), ('CVE_LOC', '0001'), ('CVE_MUN', '007'), ('CVE_AGEB', '2723')])\n",
      "OrderedDict([('CVE_ENT', '09'), ('CVE_LOC', '0001'), ('CVE_MUN', '007'), ('CVE_AGEB', '4274')])\n",
      "OrderedDict([('CVE_ENT', '09'), ('CVE_LOC', '0001'), ('CVE_MUN', '007'), ('CVE_AGEB', '2795')])\n",
      "OrderedDict([('CVE_ENT', '09'), ('CVE_LOC', '0001'), ('CVE_MUN', '007'), ('CVE_AGEB', '4698')])\n",
      "OrderedDict([('CVE_ENT', '09'), ('CVE_LOC', '0001'), ('CVE_MUN', '007'), ('CVE_AGEB', '4842')])\n",
      "OrderedDict([('CVE_ENT', '09'), ('CVE_LOC', '0001'), ('CVE_MUN', '007'), ('CVE_AGEB', '5291')])\n",
      "OrderedDict([('CVE_ENT', '09'), ('CVE_LOC', '0001'), ('CVE_MUN', '007'), ('CVE_AGEB', '2051')])\n",
      "OrderedDict([('CVE_ENT', '09'), ('CVE_LOC', '0001'), ('CVE_MUN', '007'), ('CVE_AGEB', '1458')])\n",
      "OrderedDict([('CVE_ENT', '09'), ('CVE_LOC', '0001'), ('CVE_MUN', '007'), ('CVE_AGEB', '1462')])\n",
      "OrderedDict([('CVE_ENT', '09'), ('CVE_LOC', '0001'), ('CVE_MUN', '007'), ('CVE_AGEB', '3897')])\n",
      "OrderedDict([('CVE_ENT', '09'), ('CVE_LOC', '0001'), ('CVE_MUN', '007'), ('CVE_AGEB', '1585')])\n",
      "OrderedDict([('CVE_ENT', '09'), ('CVE_LOC', '0001'), ('CVE_MUN', '007'), ('CVE_AGEB', '1180')])\n",
      "OrderedDict([('CVE_ENT', '09'), ('CVE_LOC', '0001'), ('CVE_MUN', '007'), ('CVE_AGEB', '1195')])\n",
      "OrderedDict([('CVE_ENT', '09'), ('CVE_LOC', '0001'), ('CVE_MUN', '007'), ('CVE_AGEB', '0500')])\n",
      "OrderedDict([('CVE_ENT', '09'), ('CVE_LOC', '0001'), ('CVE_MUN', '007'), ('CVE_AGEB', '0515')])\n",
      "OrderedDict([('CVE_ENT', '09'), ('CVE_LOC', '0001'), ('CVE_MUN', '007'), ('CVE_AGEB', '369A')])\n",
      "OrderedDict([('CVE_ENT', '09'), ('CVE_LOC', '0001'), ('CVE_MUN', '007'), ('CVE_AGEB', '440A')])\n",
      "OrderedDict([('CVE_ENT', '09'), ('CVE_LOC', '0001'), ('CVE_MUN', '007'), ('CVE_AGEB', '3581')])\n",
      "OrderedDict([('CVE_ENT', '09'), ('CVE_LOC', '0001'), ('CVE_MUN', '007'), ('CVE_AGEB', '0642')])\n",
      "OrderedDict([('CVE_ENT', '09'), ('CVE_LOC', '0001'), ('CVE_MUN', '007'), ('CVE_AGEB', '3632')])\n",
      "OrderedDict([('CVE_ENT', '09'), ('CVE_LOC', '0001'), ('CVE_MUN', '007'), ('CVE_AGEB', '1852')])\n",
      "OrderedDict([('CVE_ENT', '09'), ('CVE_LOC', '0001'), ('CVE_MUN', '007'), ('CVE_AGEB', '1867')])\n",
      "OrderedDict([('CVE_ENT', '09'), ('CVE_LOC', '0001'), ('CVE_MUN', '007'), ('CVE_AGEB', '1941')])\n",
      "OrderedDict([('CVE_ENT', '09'), ('CVE_LOC', '0001'), ('CVE_MUN', '007'), ('CVE_AGEB', '0229')])\n",
      "OrderedDict([('CVE_ENT', '09'), ('CVE_LOC', '0001'), ('CVE_MUN', '007'), ('CVE_AGEB', '2371')])\n",
      "OrderedDict([('CVE_ENT', '09'), ('CVE_LOC', '0001'), ('CVE_MUN', '007'), ('CVE_AGEB', '2386')])\n",
      "OrderedDict([('CVE_ENT', '09'), ('CVE_LOC', '0001'), ('CVE_MUN', '007'), ('CVE_AGEB', '0017')])\n",
      "OrderedDict([('CVE_ENT', '09'), ('CVE_LOC', '0001'), ('CVE_MUN', '007'), ('CVE_AGEB', '0888')])\n",
      "OrderedDict([('CVE_ENT', '09'), ('CVE_LOC', '0001'), ('CVE_MUN', '007'), ('CVE_AGEB', '1176')])\n",
      "OrderedDict([('CVE_ENT', '09'), ('CVE_LOC', '0001'), ('CVE_MUN', '007'), ('CVE_AGEB', '0924')])\n",
      "OrderedDict([('CVE_ENT', '09'), ('CVE_LOC', '0001'), ('CVE_MUN', '007'), ('CVE_AGEB', '4397')])\n",
      "OrderedDict([('CVE_ENT', '09'), ('CVE_LOC', '0001'), ('CVE_MUN', '007'), ('CVE_AGEB', '3100')])\n",
      "OrderedDict([('CVE_ENT', '09'), ('CVE_LOC', '0001'), ('CVE_MUN', '007'), ('CVE_AGEB', '4575')])\n",
      "OrderedDict([('CVE_ENT', '09'), ('CVE_LOC', '0001'), ('CVE_MUN', '007'), ('CVE_AGEB', '0680')])\n",
      "OrderedDict([('CVE_ENT', '09'), ('CVE_LOC', '0001'), ('CVE_MUN', '007'), ('CVE_AGEB', '0695')])\n",
      "OrderedDict([('CVE_ENT', '09'), ('CVE_LOC', '0001'), ('CVE_MUN', '007'), ('CVE_AGEB', '0727')])\n",
      "OrderedDict([('CVE_ENT', '09'), ('CVE_LOC', '0001'), ('CVE_MUN', '007'), ('CVE_AGEB', '3064')])\n",
      "OrderedDict([('CVE_ENT', '09'), ('CVE_LOC', '0001'), ('CVE_MUN', '007'), ('CVE_AGEB', '4147')])\n",
      "OrderedDict([('CVE_ENT', '09'), ('CVE_LOC', '0001'), ('CVE_MUN', '007'), ('CVE_AGEB', '1015')])\n",
      "OrderedDict([('CVE_ENT', '09'), ('CVE_LOC', '0001'), ('CVE_MUN', '007'), ('CVE_AGEB', '5427')])\n",
      "OrderedDict([('CVE_ENT', '09'), ('CVE_LOC', '0001'), ('CVE_MUN', '007'), ('CVE_AGEB', '3079')])\n",
      "OrderedDict([('CVE_ENT', '09'), ('CVE_LOC', '0001'), ('CVE_MUN', '007'), ('CVE_AGEB', '3115')])\n",
      "OrderedDict([('CVE_ENT', '09'), ('CVE_LOC', '0001'), ('CVE_MUN', '007'), ('CVE_AGEB', '2174')])\n",
      "OrderedDict([('CVE_ENT', '09'), ('CVE_LOC', '0001'), ('CVE_MUN', '007'), ('CVE_AGEB', '2189')])\n",
      "OrderedDict([('CVE_ENT', '09'), ('CVE_LOC', '0001'), ('CVE_MUN', '007'), ('CVE_AGEB', '2390')])\n",
      "OrderedDict([('CVE_ENT', '09'), ('CVE_LOC', '0001'), ('CVE_MUN', '007'), ('CVE_AGEB', '2403')])\n",
      "OrderedDict([('CVE_ENT', '09'), ('CVE_LOC', '0001'), ('CVE_MUN', '007'), ('CVE_AGEB', '2456')])\n",
      "OrderedDict([('CVE_ENT', '09'), ('CVE_LOC', '0001'), ('CVE_MUN', '007'), ('CVE_AGEB', '3083')])\n",
      "OrderedDict([('CVE_ENT', '09'), ('CVE_LOC', '0001'), ('CVE_MUN', '007'), ('CVE_AGEB', '0939')])\n",
      "OrderedDict([('CVE_ENT', '09'), ('CVE_LOC', '0001'), ('CVE_MUN', '007'), ('CVE_AGEB', '0981')])\n",
      "OrderedDict([('CVE_ENT', '09'), ('CVE_LOC', '0001'), ('CVE_MUN', '007'), ('CVE_AGEB', '1049')])\n",
      "OrderedDict([('CVE_ENT', '09'), ('CVE_LOC', '0001'), ('CVE_MUN', '007'), ('CVE_AGEB', '0021')])\n",
      "OrderedDict([('CVE_ENT', '09'), ('CVE_LOC', '0001'), ('CVE_MUN', '007'), ('CVE_AGEB', '0055')])\n",
      "OrderedDict([('CVE_ENT', '09'), ('CVE_LOC', '0001'), ('CVE_MUN', '007'), ('CVE_AGEB', '006A')])\n",
      "OrderedDict([('CVE_ENT', '09'), ('CVE_LOC', '0001'), ('CVE_MUN', '007'), ('CVE_AGEB', '0089')])\n",
      "OrderedDict([('CVE_ENT', '09'), ('CVE_LOC', '0001'), ('CVE_MUN', '007'), ('CVE_AGEB', '0093')])\n",
      "OrderedDict([('CVE_ENT', '09'), ('CVE_LOC', '0001'), ('CVE_MUN', '007'), ('CVE_AGEB', '0106')])\n",
      "OrderedDict([('CVE_ENT', '09'), ('CVE_LOC', '0001'), ('CVE_MUN', '007'), ('CVE_AGEB', '0178')])\n",
      "OrderedDict([('CVE_ENT', '09'), ('CVE_LOC', '0001'), ('CVE_MUN', '007'), ('CVE_AGEB', '0182')])\n",
      "OrderedDict([('CVE_ENT', '09'), ('CVE_LOC', '0001'), ('CVE_MUN', '007'), ('CVE_AGEB', '0214')])\n",
      "OrderedDict([('CVE_ENT', '09'), ('CVE_LOC', '0001'), ('CVE_MUN', '007'), ('CVE_AGEB', '0318')])\n",
      "OrderedDict([('CVE_ENT', '09'), ('CVE_LOC', '0001'), ('CVE_MUN', '007'), ('CVE_AGEB', '0322')])\n",
      "OrderedDict([('CVE_ENT', '09'), ('CVE_LOC', '0001'), ('CVE_MUN', '007'), ('CVE_AGEB', '0356')])\n",
      "OrderedDict([('CVE_ENT', '09'), ('CVE_LOC', '0001'), ('CVE_MUN', '007'), ('CVE_AGEB', '0375')])\n",
      "OrderedDict([('CVE_ENT', '09'), ('CVE_LOC', '0001'), ('CVE_MUN', '007'), ('CVE_AGEB', '0483')])\n",
      "OrderedDict([('CVE_ENT', '09'), ('CVE_LOC', '0001'), ('CVE_MUN', '007'), ('CVE_AGEB', '0498')])\n",
      "OrderedDict([('CVE_ENT', '09'), ('CVE_LOC', '0001'), ('CVE_MUN', '007'), ('CVE_AGEB', '0801')])\n",
      "OrderedDict([('CVE_ENT', '09'), ('CVE_LOC', '0001'), ('CVE_MUN', '007'), ('CVE_AGEB', '0892')])\n",
      "OrderedDict([('CVE_ENT', '09'), ('CVE_LOC', '0001'), ('CVE_MUN', '007'), ('CVE_AGEB', '134A')])\n",
      "OrderedDict([('CVE_ENT', '09'), ('CVE_LOC', '0001'), ('CVE_MUN', '007'), ('CVE_AGEB', '1354')])\n",
      "OrderedDict([('CVE_ENT', '09'), ('CVE_LOC', '0001'), ('CVE_MUN', '007'), ('CVE_AGEB', '3134')])\n",
      "OrderedDict([('CVE_ENT', '09'), ('CVE_LOC', '0001'), ('CVE_MUN', '007'), ('CVE_AGEB', '3346')])\n",
      "OrderedDict([('CVE_ENT', '09'), ('CVE_LOC', '0001'), ('CVE_MUN', '007'), ('CVE_AGEB', '3420')])\n",
      "OrderedDict([('CVE_ENT', '09'), ('CVE_LOC', '0001'), ('CVE_MUN', '007'), ('CVE_AGEB', '3492')])\n",
      "OrderedDict([('CVE_ENT', '09'), ('CVE_LOC', '0001'), ('CVE_MUN', '007'), ('CVE_AGEB', '3539')])\n",
      "OrderedDict([('CVE_ENT', '09'), ('CVE_LOC', '0001'), ('CVE_MUN', '007'), ('CVE_AGEB', '4289')])\n",
      "OrderedDict([('CVE_ENT', '09'), ('CVE_LOC', '0001'), ('CVE_MUN', '007'), ('CVE_AGEB', '4325')])\n",
      "OrderedDict([('CVE_ENT', '09'), ('CVE_LOC', '0001'), ('CVE_MUN', '007'), ('CVE_AGEB', '4344')])\n",
      "OrderedDict([('CVE_ENT', '09'), ('CVE_LOC', '0001'), ('CVE_MUN', '007'), ('CVE_AGEB', '4359')])\n",
      "OrderedDict([('CVE_ENT', '09'), ('CVE_LOC', '0001'), ('CVE_MUN', '007'), ('CVE_AGEB', '5408')])\n",
      "OrderedDict([('CVE_ENT', '09'), ('CVE_LOC', '0001'), ('CVE_MUN', '007'), ('CVE_AGEB', '4363')])\n",
      "OrderedDict([('CVE_ENT', '09'), ('CVE_LOC', '0001'), ('CVE_MUN', '007'), ('CVE_AGEB', '5107')])\n",
      "OrderedDict([('CVE_ENT', '09'), ('CVE_LOC', '0001'), ('CVE_MUN', '007'), ('CVE_AGEB', '515A')])\n",
      "OrderedDict([('CVE_ENT', '09'), ('CVE_LOC', '0001'), ('CVE_MUN', '007'), ('CVE_AGEB', '5338')])\n",
      "OrderedDict([('CVE_ENT', '09'), ('CVE_LOC', '0001'), ('CVE_MUN', '007'), ('CVE_AGEB', '5380')])\n",
      "OrderedDict([('CVE_ENT', '09'), ('CVE_LOC', '0001'), ('CVE_MUN', '007'), ('CVE_AGEB', '5516')])\n",
      "OrderedDict([('CVE_ENT', '09'), ('CVE_LOC', '0001'), ('CVE_MUN', '007'), ('CVE_AGEB', '5395')])\n",
      "OrderedDict([('CVE_ENT', '09'), ('CVE_LOC', '0001'), ('CVE_MUN', '007'), ('CVE_AGEB', '0337')])\n",
      "OrderedDict([('CVE_ENT', '09'), ('CVE_LOC', '0001'), ('CVE_MUN', '007'), ('CVE_AGEB', '1833')])\n",
      "OrderedDict([('CVE_ENT', '09'), ('CVE_LOC', '0001'), ('CVE_MUN', '007'), ('CVE_AGEB', '0553')])\n",
      "OrderedDict([('CVE_ENT', '09'), ('CVE_LOC', '0001'), ('CVE_MUN', '007'), ('CVE_AGEB', '0568')])\n",
      "OrderedDict([('CVE_ENT', '09'), ('CVE_LOC', '0001'), ('CVE_MUN', '007'), ('CVE_AGEB', '0572')])\n",
      "OrderedDict([('CVE_ENT', '09'), ('CVE_LOC', '0001'), ('CVE_MUN', '007'), ('CVE_AGEB', '0587')])\n",
      "OrderedDict([('CVE_ENT', '09'), ('CVE_LOC', '0001'), ('CVE_MUN', '007'), ('CVE_AGEB', '0619')])\n",
      "OrderedDict([('CVE_ENT', '09'), ('CVE_LOC', '0001'), ('CVE_MUN', '007'), ('CVE_AGEB', '0676')])\n",
      "OrderedDict([('CVE_ENT', '09'), ('CVE_LOC', '0001'), ('CVE_MUN', '007'), ('CVE_AGEB', '0708')])\n",
      "OrderedDict([('CVE_ENT', '09'), ('CVE_LOC', '0001'), ('CVE_MUN', '007'), ('CVE_AGEB', '3613')])\n",
      "OrderedDict([('CVE_ENT', '09'), ('CVE_LOC', '0001'), ('CVE_MUN', '007'), ('CVE_AGEB', '3628')])\n",
      "OrderedDict([('CVE_ENT', '09'), ('CVE_LOC', '0001'), ('CVE_MUN', '007'), ('CVE_AGEB', '3789')])\n",
      "OrderedDict([('CVE_ENT', '09'), ('CVE_LOC', '0001'), ('CVE_MUN', '007'), ('CVE_AGEB', '3844')])\n",
      "OrderedDict([('CVE_ENT', '09'), ('CVE_LOC', '0001'), ('CVE_MUN', '007'), ('CVE_AGEB', '4999')])\n",
      "OrderedDict([('CVE_ENT', '09'), ('CVE_LOC', '0001'), ('CVE_MUN', '007'), ('CVE_AGEB', '5003')])\n",
      "OrderedDict([('CVE_ENT', '09'), ('CVE_LOC', '0001'), ('CVE_MUN', '007'), ('CVE_AGEB', '5037')])\n",
      "OrderedDict([('CVE_ENT', '09'), ('CVE_LOC', '0001'), ('CVE_MUN', '007'), ('CVE_AGEB', '522A')])\n",
      "OrderedDict([('CVE_ENT', '09'), ('CVE_LOC', '0001'), ('CVE_MUN', '007'), ('CVE_AGEB', '5554')])\n",
      "OrderedDict([('CVE_ENT', '09'), ('CVE_LOC', '0001'), ('CVE_MUN', '007'), ('CVE_AGEB', '5592')])\n",
      "OrderedDict([('CVE_ENT', '09'), ('CVE_LOC', '0001'), ('CVE_MUN', '007'), ('CVE_AGEB', '5605')])\n",
      "OrderedDict([('CVE_ENT', '09'), ('CVE_LOC', '0001'), ('CVE_MUN', '007'), ('CVE_AGEB', '561A')])\n",
      "OrderedDict([('CVE_ENT', '09'), ('CVE_LOC', '0001'), ('CVE_MUN', '007'), ('CVE_AGEB', '5624')])\n",
      "OrderedDict([('CVE_ENT', '09'), ('CVE_LOC', '0001'), ('CVE_MUN', '007'), ('CVE_AGEB', '5925')])\n",
      "OrderedDict([('CVE_ENT', '09'), ('CVE_LOC', '0001'), ('CVE_MUN', '007'), ('CVE_AGEB', '0765')])\n",
      "OrderedDict([('CVE_ENT', '09'), ('CVE_LOC', '0001'), ('CVE_MUN', '007'), ('CVE_AGEB', '2831')])\n",
      "OrderedDict([('CVE_ENT', '09'), ('CVE_LOC', '0001'), ('CVE_MUN', '007'), ('CVE_AGEB', '5681')])\n",
      "OrderedDict([('CVE_ENT', '09'), ('CVE_LOC', '0001'), ('CVE_MUN', '007'), ('CVE_AGEB', '4128')])\n",
      "OrderedDict([('CVE_ENT', '09'), ('CVE_LOC', '0001'), ('CVE_MUN', '007'), ('CVE_AGEB', '5696')])\n",
      "OrderedDict([('CVE_ENT', '09'), ('CVE_LOC', '0001'), ('CVE_MUN', '007'), ('CVE_AGEB', '5910')])\n",
      "OrderedDict([('CVE_ENT', '09'), ('CVE_LOC', '0001'), ('CVE_MUN', '007'), ('CVE_AGEB', '5249')])\n",
      "OrderedDict([('CVE_ENT', '09'), ('CVE_LOC', '0001'), ('CVE_MUN', '007'), ('CVE_AGEB', '5713')])\n",
      "OrderedDict([('CVE_ENT', '09'), ('CVE_LOC', '0001'), ('CVE_MUN', '007'), ('CVE_AGEB', '5732')])\n",
      "OrderedDict([('CVE_ENT', '09'), ('CVE_LOC', '0001'), ('CVE_MUN', '007'), ('CVE_AGEB', '5766')])\n",
      "OrderedDict([('CVE_ENT', '09'), ('CVE_LOC', '0001'), ('CVE_MUN', '007'), ('CVE_AGEB', '5770')])\n",
      "OrderedDict([('CVE_ENT', '09'), ('CVE_LOC', '0001'), ('CVE_MUN', '007'), ('CVE_AGEB', '579A')])\n",
      "OrderedDict([('CVE_ENT', '09'), ('CVE_LOC', '0001'), ('CVE_MUN', '007'), ('CVE_AGEB', '2668')])\n",
      "OrderedDict([('CVE_ENT', '09'), ('CVE_LOC', '0001'), ('CVE_MUN', '007'), ('CVE_AGEB', '0958')])\n",
      "OrderedDict([('CVE_ENT', '09'), ('CVE_LOC', '0001'), ('CVE_MUN', '007'), ('CVE_AGEB', '1000')])\n",
      "OrderedDict([('CVE_ENT', '09'), ('CVE_LOC', '0001'), ('CVE_MUN', '007'), ('CVE_AGEB', '1053')])\n",
      "OrderedDict([('CVE_ENT', '09'), ('CVE_LOC', '0001'), ('CVE_MUN', '007'), ('CVE_AGEB', '1087')])\n",
      "OrderedDict([('CVE_ENT', '09'), ('CVE_LOC', '0001'), ('CVE_MUN', '007'), ('CVE_AGEB', '4039')])\n",
      "OrderedDict([('CVE_ENT', '09'), ('CVE_LOC', '0001'), ('CVE_MUN', '007'), ('CVE_AGEB', '3596')])\n",
      "OrderedDict([('CVE_ENT', '09'), ('CVE_LOC', '0001'), ('CVE_MUN', '007'), ('CVE_AGEB', '3651')])\n",
      "OrderedDict([('CVE_ENT', '09'), ('CVE_LOC', '0001'), ('CVE_MUN', '007'), ('CVE_AGEB', '3666')])\n",
      "OrderedDict([('CVE_ENT', '09'), ('CVE_LOC', '0001'), ('CVE_MUN', '007'), ('CVE_AGEB', '3670')])\n",
      "OrderedDict([('CVE_ENT', '09'), ('CVE_LOC', '0001'), ('CVE_MUN', '007'), ('CVE_AGEB', '3702')])\n",
      "OrderedDict([('CVE_ENT', '09'), ('CVE_LOC', '0001'), ('CVE_MUN', '007'), ('CVE_AGEB', '3721')])\n",
      "OrderedDict([('CVE_ENT', '09'), ('CVE_LOC', '0001'), ('CVE_MUN', '007'), ('CVE_AGEB', '3740')])\n",
      "OrderedDict([('CVE_ENT', '09'), ('CVE_LOC', '0001'), ('CVE_MUN', '007'), ('CVE_AGEB', '3774')])\n",
      "OrderedDict([('CVE_ENT', '09'), ('CVE_LOC', '0001'), ('CVE_MUN', '007'), ('CVE_AGEB', '3859')])\n",
      "OrderedDict([('CVE_ENT', '09'), ('CVE_LOC', '0001'), ('CVE_MUN', '007'), ('CVE_AGEB', '3863')])\n",
      "OrderedDict([('CVE_ENT', '09'), ('CVE_LOC', '0001'), ('CVE_MUN', '007'), ('CVE_AGEB', '3967')])\n",
      "OrderedDict([('CVE_ENT', '09'), ('CVE_LOC', '0001'), ('CVE_MUN', '007'), ('CVE_AGEB', '3971')])\n",
      "OrderedDict([('CVE_ENT', '09'), ('CVE_LOC', '0001'), ('CVE_MUN', '007'), ('CVE_AGEB', '3986')])\n",
      "OrderedDict([('CVE_ENT', '09'), ('CVE_LOC', '0001'), ('CVE_MUN', '007'), ('CVE_AGEB', '3990')])\n",
      "OrderedDict([('CVE_ENT', '09'), ('CVE_LOC', '0001'), ('CVE_MUN', '007'), ('CVE_AGEB', '4043')])\n",
      "OrderedDict([('CVE_ENT', '09'), ('CVE_LOC', '0001'), ('CVE_MUN', '007'), ('CVE_AGEB', '4058')])\n",
      "OrderedDict([('CVE_ENT', '09'), ('CVE_LOC', '0001'), ('CVE_MUN', '007'), ('CVE_AGEB', '4448')])\n",
      "OrderedDict([('CVE_ENT', '09'), ('CVE_LOC', '0001'), ('CVE_MUN', '007'), ('CVE_AGEB', '383A')])\n",
      "OrderedDict([('CVE_ENT', '09'), ('CVE_LOC', '0001'), ('CVE_MUN', '007'), ('CVE_AGEB', '4077')])\n",
      "OrderedDict([('CVE_ENT', '09'), ('CVE_LOC', '0001'), ('CVE_MUN', '007'), ('CVE_AGEB', '472A')])\n",
      "OrderedDict([('CVE_ENT', '09'), ('CVE_LOC', '0001'), ('CVE_MUN', '007'), ('CVE_AGEB', '4768')])\n",
      "OrderedDict([('CVE_ENT', '09'), ('CVE_LOC', '0001'), ('CVE_MUN', '007'), ('CVE_AGEB', '4838')])\n",
      "OrderedDict([('CVE_ENT', '09'), ('CVE_LOC', '0001'), ('CVE_MUN', '007'), ('CVE_AGEB', '4857')])\n",
      "OrderedDict([('CVE_ENT', '09'), ('CVE_LOC', '0001'), ('CVE_MUN', '007'), ('CVE_AGEB', '4861')])\n",
      "OrderedDict([('CVE_ENT', '09'), ('CVE_LOC', '0001'), ('CVE_MUN', '007'), ('CVE_AGEB', '4772')])\n",
      "OrderedDict([('CVE_ENT', '09'), ('CVE_LOC', '0001'), ('CVE_MUN', '007'), ('CVE_AGEB', '5018')])\n",
      "OrderedDict([('CVE_ENT', '09'), ('CVE_LOC', '0001'), ('CVE_MUN', '007'), ('CVE_AGEB', '4876')])\n",
      "OrderedDict([('CVE_ENT', '09'), ('CVE_LOC', '0001'), ('CVE_MUN', '007'), ('CVE_AGEB', '4895')])\n",
      "OrderedDict([('CVE_ENT', '09'), ('CVE_LOC', '0001'), ('CVE_MUN', '007'), ('CVE_AGEB', '4908')])\n",
      "OrderedDict([('CVE_ENT', '09'), ('CVE_LOC', '0001'), ('CVE_MUN', '007'), ('CVE_AGEB', '4880')])\n",
      "OrderedDict([('CVE_ENT', '09'), ('CVE_LOC', '0001'), ('CVE_MUN', '007'), ('CVE_AGEB', '4912')])\n",
      "OrderedDict([('CVE_ENT', '09'), ('CVE_LOC', '0001'), ('CVE_MUN', '007'), ('CVE_AGEB', '4931')])\n",
      "OrderedDict([('CVE_ENT', '09'), ('CVE_LOC', '0001'), ('CVE_MUN', '007'), ('CVE_AGEB', '4946')])\n",
      "OrderedDict([('CVE_ENT', '09'), ('CVE_LOC', '0001'), ('CVE_MUN', '007'), ('CVE_AGEB', '4965')])\n",
      "OrderedDict([('CVE_ENT', '09'), ('CVE_LOC', '0001'), ('CVE_MUN', '007'), ('CVE_AGEB', '497A')])\n",
      "OrderedDict([('CVE_ENT', '09'), ('CVE_LOC', '0001'), ('CVE_MUN', '007'), ('CVE_AGEB', '4984')])\n",
      "OrderedDict([('CVE_ENT', '09'), ('CVE_LOC', '0001'), ('CVE_MUN', '007'), ('CVE_AGEB', '5200')])\n",
      "OrderedDict([('CVE_ENT', '09'), ('CVE_LOC', '0001'), ('CVE_MUN', '007'), ('CVE_AGEB', '1104')])\n",
      "OrderedDict([('CVE_ENT', '09'), ('CVE_LOC', '0001'), ('CVE_MUN', '007'), ('CVE_AGEB', '1123')])\n",
      "OrderedDict([('CVE_ENT', '09'), ('CVE_LOC', '0001'), ('CVE_MUN', '007'), ('CVE_AGEB', '5215')])\n",
      "OrderedDict([('CVE_ENT', '09'), ('CVE_LOC', '0001'), ('CVE_MUN', '007'), ('CVE_AGEB', '5272')])\n",
      "OrderedDict([('CVE_ENT', '09'), ('CVE_LOC', '0001'), ('CVE_MUN', '007'), ('CVE_AGEB', '4503')])\n",
      "OrderedDict([('CVE_ENT', '09'), ('CVE_LOC', '0001'), ('CVE_MUN', '007'), ('CVE_AGEB', '5253')])\n",
      "OrderedDict([('CVE_ENT', '09'), ('CVE_LOC', '0001'), ('CVE_MUN', '007'), ('CVE_AGEB', '5268')])\n",
      "OrderedDict([('CVE_ENT', '09'), ('CVE_LOC', '0001'), ('CVE_MUN', '007'), ('CVE_AGEB', '5287')])\n",
      "OrderedDict([('CVE_ENT', '09'), ('CVE_LOC', '0001'), ('CVE_MUN', '007'), ('CVE_AGEB', '5304')])\n",
      "OrderedDict([('CVE_ENT', '09'), ('CVE_LOC', '0001'), ('CVE_MUN', '007'), ('CVE_AGEB', '5319')])\n",
      "OrderedDict([('CVE_ENT', '09'), ('CVE_LOC', '0001'), ('CVE_MUN', '007'), ('CVE_AGEB', '5465')])\n",
      "OrderedDict([('CVE_ENT', '09'), ('CVE_LOC', '0001'), ('CVE_MUN', '007'), ('CVE_AGEB', '5569')])\n",
      "OrderedDict([('CVE_ENT', '09'), ('CVE_LOC', '0001'), ('CVE_MUN', '007'), ('CVE_AGEB', '5573')])\n",
      "OrderedDict([('CVE_ENT', '09'), ('CVE_LOC', '0001'), ('CVE_MUN', '007'), ('CVE_AGEB', '5588')])\n",
      "OrderedDict([('CVE_ENT', '09'), ('CVE_LOC', '0001'), ('CVE_MUN', '007'), ('CVE_AGEB', '5639')])\n",
      "OrderedDict([('CVE_ENT', '09'), ('CVE_LOC', '0001'), ('CVE_MUN', '007'), ('CVE_AGEB', '5643')])\n",
      "OrderedDict([('CVE_ENT', '09'), ('CVE_LOC', '0001'), ('CVE_MUN', '007'), ('CVE_AGEB', '5658')])\n",
      "OrderedDict([('CVE_ENT', '09'), ('CVE_LOC', '0001'), ('CVE_MUN', '007'), ('CVE_AGEB', '5662')])\n",
      "OrderedDict([('CVE_ENT', '09'), ('CVE_LOC', '0001'), ('CVE_MUN', '007'), ('CVE_AGEB', '5677')])\n",
      "OrderedDict([('CVE_ENT', '09'), ('CVE_LOC', '0001'), ('CVE_MUN', '007'), ('CVE_AGEB', '5709')])\n",
      "OrderedDict([('CVE_ENT', '09'), ('CVE_LOC', '0001'), ('CVE_MUN', '007'), ('CVE_AGEB', '5728')])\n",
      "OrderedDict([('CVE_ENT', '09'), ('CVE_LOC', '0001'), ('CVE_MUN', '007'), ('CVE_AGEB', '5751')])\n",
      "OrderedDict([('CVE_ENT', '09'), ('CVE_LOC', '0001'), ('CVE_MUN', '007'), ('CVE_AGEB', '5817')])\n",
      "OrderedDict([('CVE_ENT', '09'), ('CVE_LOC', '0001'), ('CVE_MUN', '007'), ('CVE_AGEB', '586A')])\n",
      "OrderedDict([('CVE_ENT', '09'), ('CVE_LOC', '0001'), ('CVE_MUN', '007'), ('CVE_AGEB', '5821')])\n",
      "OrderedDict([('CVE_ENT', '09'), ('CVE_LOC', '0001'), ('CVE_MUN', '007'), ('CVE_AGEB', '5836')])\n",
      "OrderedDict([('CVE_ENT', '09'), ('CVE_LOC', '0001'), ('CVE_MUN', '007'), ('CVE_AGEB', '5840')])\n",
      "OrderedDict([('CVE_ENT', '09'), ('CVE_LOC', '0001'), ('CVE_MUN', '007'), ('CVE_AGEB', '4734')])\n",
      "OrderedDict([('CVE_ENT', '09'), ('CVE_LOC', '0001'), ('CVE_MUN', '007'), ('CVE_AGEB', '4715')])\n",
      "OrderedDict([('CVE_ENT', '09'), ('CVE_LOC', '0001'), ('CVE_MUN', '007'), ('CVE_AGEB', '1301')])\n",
      "OrderedDict([('CVE_ENT', '09'), ('CVE_LOC', '0001'), ('CVE_MUN', '007'), ('CVE_AGEB', '1091')])\n",
      "OrderedDict([('CVE_ENT', '09'), ('CVE_LOC', '0001'), ('CVE_MUN', '007'), ('CVE_AGEB', '1246')])\n",
      "OrderedDict([('CVE_ENT', '09'), ('CVE_LOC', '0001'), ('CVE_MUN', '007'), ('CVE_AGEB', '1369')])\n",
      "OrderedDict([('CVE_ENT', '09'), ('CVE_LOC', '0001'), ('CVE_MUN', '007'), ('CVE_AGEB', '2691')])\n",
      "OrderedDict([('CVE_ENT', '09'), ('CVE_LOC', '0001'), ('CVE_MUN', '007'), ('CVE_AGEB', '1636')])\n",
      "OrderedDict([('CVE_ENT', '09'), ('CVE_LOC', '0001'), ('CVE_MUN', '007'), ('CVE_AGEB', '465A')])\n",
      "OrderedDict([('CVE_ENT', '09'), ('CVE_LOC', '0001'), ('CVE_MUN', '007'), ('CVE_AGEB', '1640')])\n",
      "OrderedDict([('CVE_ENT', '09'), ('CVE_LOC', '0001'), ('CVE_MUN', '007'), ('CVE_AGEB', '1655')])\n",
      "OrderedDict([('CVE_ENT', '09'), ('CVE_LOC', '0001'), ('CVE_MUN', '007'), ('CVE_AGEB', '166A')])\n",
      "OrderedDict([('CVE_ENT', '09'), ('CVE_LOC', '0001'), ('CVE_MUN', '007'), ('CVE_AGEB', '1674')])\n",
      "OrderedDict([('CVE_ENT', '09'), ('CVE_LOC', '0001'), ('CVE_MUN', '007'), ('CVE_AGEB', '1689')])\n",
      "OrderedDict([('CVE_ENT', '09'), ('CVE_LOC', '0001'), ('CVE_MUN', '007'), ('CVE_AGEB', '1693')])\n",
      "OrderedDict([('CVE_ENT', '09'), ('CVE_LOC', '0001'), ('CVE_MUN', '007'), ('CVE_AGEB', '1706')])\n",
      "OrderedDict([('CVE_ENT', '09'), ('CVE_LOC', '0001'), ('CVE_MUN', '007'), ('CVE_AGEB', '1710')])\n",
      "OrderedDict([('CVE_ENT', '09'), ('CVE_LOC', '0001'), ('CVE_MUN', '007'), ('CVE_AGEB', '1763')])\n",
      "OrderedDict([('CVE_ENT', '09'), ('CVE_LOC', '0001'), ('CVE_MUN', '007'), ('CVE_AGEB', '1960')])\n",
      "OrderedDict([('CVE_ENT', '09'), ('CVE_LOC', '0001'), ('CVE_MUN', '007'), ('CVE_AGEB', '1975')])\n",
      "OrderedDict([('CVE_ENT', '09'), ('CVE_LOC', '0001'), ('CVE_MUN', '007'), ('CVE_AGEB', '0657')])\n",
      "OrderedDict([('CVE_ENT', '09'), ('CVE_LOC', '0001'), ('CVE_MUN', '007'), ('CVE_AGEB', '198A')])\n",
      "OrderedDict([('CVE_ENT', '09'), ('CVE_LOC', '0001'), ('CVE_MUN', '007'), ('CVE_AGEB', '2653')])\n",
      "OrderedDict([('CVE_ENT', '09'), ('CVE_LOC', '0001'), ('CVE_MUN', '007'), ('CVE_AGEB', '4560')])\n",
      "OrderedDict([('CVE_ENT', '09'), ('CVE_LOC', '0001'), ('CVE_MUN', '007'), ('CVE_AGEB', '287A')])\n",
      "OrderedDict([('CVE_ENT', '09'), ('CVE_LOC', '0001'), ('CVE_MUN', '007'), ('CVE_AGEB', '2884')])\n",
      "OrderedDict([('CVE_ENT', '09'), ('CVE_LOC', '0001'), ('CVE_MUN', '007'), ('CVE_AGEB', '2899')])\n",
      "OrderedDict([('CVE_ENT', '09'), ('CVE_LOC', '0001'), ('CVE_MUN', '007'), ('CVE_AGEB', '4452')])\n",
      "OrderedDict([('CVE_ENT', '09'), ('CVE_LOC', '0001'), ('CVE_MUN', '007'), ('CVE_AGEB', '2901')])\n",
      "OrderedDict([('CVE_ENT', '09'), ('CVE_LOC', '0001'), ('CVE_MUN', '007'), ('CVE_AGEB', '2920')])\n",
      "OrderedDict([('CVE_ENT', '09'), ('CVE_LOC', '0001'), ('CVE_MUN', '007'), ('CVE_AGEB', '2935')])\n",
      "OrderedDict([('CVE_ENT', '09'), ('CVE_LOC', '0001'), ('CVE_MUN', '007'), ('CVE_AGEB', '294A')])\n",
      "OrderedDict([('CVE_ENT', '09'), ('CVE_LOC', '0001'), ('CVE_MUN', '007'), ('CVE_AGEB', '2954')])\n",
      "OrderedDict([('CVE_ENT', '09'), ('CVE_LOC', '0001'), ('CVE_MUN', '007'), ('CVE_AGEB', '2969')])\n",
      "OrderedDict([('CVE_ENT', '09'), ('CVE_LOC', '0001'), ('CVE_MUN', '007'), ('CVE_AGEB', '2973')])\n",
      "OrderedDict([('CVE_ENT', '09'), ('CVE_LOC', '0001'), ('CVE_MUN', '007'), ('CVE_AGEB', '3030')])\n",
      "OrderedDict([('CVE_ENT', '09'), ('CVE_LOC', '0001'), ('CVE_MUN', '007'), ('CVE_AGEB', '3045')])\n",
      "OrderedDict([('CVE_ENT', '09'), ('CVE_LOC', '0001'), ('CVE_MUN', '007'), ('CVE_AGEB', '5855')])\n",
      "OrderedDict([('CVE_ENT', '09'), ('CVE_LOC', '0001'), ('CVE_MUN', '007'), ('CVE_AGEB', '1138')])\n",
      "OrderedDict([('CVE_ENT', '09'), ('CVE_LOC', '0001'), ('CVE_MUN', '007'), ('CVE_AGEB', '1142')])\n",
      "OrderedDict([('CVE_ENT', '09'), ('CVE_LOC', '0001'), ('CVE_MUN', '007'), ('CVE_AGEB', '1157')])\n",
      "OrderedDict([('CVE_ENT', '09'), ('CVE_LOC', '0001'), ('CVE_MUN', '007'), ('CVE_AGEB', '1208')])\n",
      "OrderedDict([('CVE_ENT', '09'), ('CVE_LOC', '0001'), ('CVE_MUN', '007'), ('CVE_AGEB', '1227')])\n",
      "OrderedDict([('CVE_ENT', '09'), ('CVE_LOC', '0001'), ('CVE_MUN', '007'), ('CVE_AGEB', '1250')])\n",
      "OrderedDict([('CVE_ENT', '09'), ('CVE_LOC', '0001'), ('CVE_MUN', '007'), ('CVE_AGEB', '3577')])\n",
      "OrderedDict([('CVE_ENT', '09'), ('CVE_LOC', '0001'), ('CVE_MUN', '007'), ('CVE_AGEB', '1509')])\n",
      "OrderedDict([('CVE_ENT', '09'), ('CVE_LOC', '0001'), ('CVE_MUN', '007'), ('CVE_AGEB', '0233')])\n",
      "OrderedDict([('CVE_ENT', '09'), ('CVE_LOC', '0001'), ('CVE_MUN', '007'), ('CVE_AGEB', '1513')])\n",
      "OrderedDict([('CVE_ENT', '09'), ('CVE_LOC', '0001'), ('CVE_MUN', '007'), ('CVE_AGEB', '159A')])\n",
      "OrderedDict([('CVE_ENT', '09'), ('CVE_LOC', '0001'), ('CVE_MUN', '007'), ('CVE_AGEB', '1566')])\n",
      "OrderedDict([('CVE_ENT', '09'), ('CVE_LOC', '0001'), ('CVE_MUN', '007'), ('CVE_AGEB', '1621')])\n",
      "OrderedDict([('CVE_ENT', '09'), ('CVE_LOC', '0001'), ('CVE_MUN', '007'), ('CVE_AGEB', '5906')])\n",
      "OrderedDict([('CVE_ENT', '09'), ('CVE_LOC', '0001'), ('CVE_MUN', '007'), ('CVE_AGEB', '4429')])\n",
      "OrderedDict([('CVE_ENT', '09'), ('CVE_LOC', '0001'), ('CVE_MUN', '007'), ('CVE_AGEB', '5056')])\n",
      "OrderedDict([('CVE_ENT', '09'), ('CVE_LOC', '0001'), ('CVE_MUN', '007'), ('CVE_AGEB', '4556')])\n",
      "OrderedDict([('CVE_ENT', '09'), ('CVE_LOC', '0001'), ('CVE_MUN', '007'), ('CVE_AGEB', '5802')])\n",
      "OrderedDict([('CVE_ENT', '09'), ('CVE_LOC', '0001'), ('CVE_MUN', '007'), ('CVE_AGEB', '1814')])\n",
      "OrderedDict([('CVE_ENT', '09'), ('CVE_LOC', '0001'), ('CVE_MUN', '007'), ('CVE_AGEB', '1890')])\n",
      "OrderedDict([('CVE_ENT', '09'), ('CVE_LOC', '0001'), ('CVE_MUN', '007'), ('CVE_AGEB', '1918')])\n",
      "OrderedDict([('CVE_ENT', '09'), ('CVE_LOC', '0001'), ('CVE_MUN', '007'), ('CVE_AGEB', '1848')])\n",
      "OrderedDict([('CVE_ENT', '09'), ('CVE_LOC', '0001'), ('CVE_MUN', '007'), ('CVE_AGEB', '2140')])\n",
      "OrderedDict([('CVE_ENT', '09'), ('CVE_LOC', '0001'), ('CVE_MUN', '007'), ('CVE_AGEB', '2155')])\n",
      "OrderedDict([('CVE_ENT', '09'), ('CVE_LOC', '0001'), ('CVE_MUN', '007'), ('CVE_AGEB', '216A')])\n",
      "OrderedDict([('CVE_ENT', '09'), ('CVE_LOC', '0001'), ('CVE_MUN', '007'), ('CVE_AGEB', '2460')])\n",
      "OrderedDict([('CVE_ENT', '09'), ('CVE_LOC', '0001'), ('CVE_MUN', '007'), ('CVE_AGEB', '2475')])\n",
      "OrderedDict([('CVE_ENT', '09'), ('CVE_LOC', '0001'), ('CVE_MUN', '007'), ('CVE_AGEB', '2494')])\n",
      "OrderedDict([('CVE_ENT', '09'), ('CVE_LOC', '0001'), ('CVE_MUN', '007'), ('CVE_AGEB', '2507')])\n",
      "OrderedDict([('CVE_ENT', '09'), ('CVE_LOC', '0001'), ('CVE_MUN', '007'), ('CVE_AGEB', '1034')])\n",
      "OrderedDict([('CVE_ENT', '09'), ('CVE_LOC', '0001'), ('CVE_MUN', '007'), ('CVE_AGEB', '2511')])\n",
      "OrderedDict([('CVE_ENT', '09'), ('CVE_LOC', '0001'), ('CVE_MUN', '007'), ('CVE_AGEB', '2526')])\n",
      "OrderedDict([('CVE_ENT', '09'), ('CVE_LOC', '0001'), ('CVE_MUN', '007'), ('CVE_AGEB', '2530')])\n",
      "OrderedDict([('CVE_ENT', '09'), ('CVE_LOC', '0001'), ('CVE_MUN', '007'), ('CVE_AGEB', '2545')])\n",
      "OrderedDict([('CVE_ENT', '09'), ('CVE_LOC', '0001'), ('CVE_MUN', '007'), ('CVE_AGEB', '255A')])\n",
      "OrderedDict([('CVE_ENT', '09'), ('CVE_LOC', '0001'), ('CVE_MUN', '007'), ('CVE_AGEB', '2757')])\n",
      "OrderedDict([('CVE_ENT', '09'), ('CVE_LOC', '0001'), ('CVE_MUN', '007'), ('CVE_AGEB', '4062')])\n",
      "OrderedDict([('CVE_ENT', '09'), ('CVE_LOC', '0001'), ('CVE_MUN', '007'), ('CVE_AGEB', '2564')])\n",
      "OrderedDict([('CVE_ENT', '09'), ('CVE_LOC', '0001'), ('CVE_MUN', '007'), ('CVE_AGEB', '2579')])\n",
      "OrderedDict([('CVE_ENT', '09'), ('CVE_LOC', '0001'), ('CVE_MUN', '007'), ('CVE_AGEB', '2600')])\n",
      "OrderedDict([('CVE_ENT', '09'), ('CVE_LOC', '0001'), ('CVE_MUN', '007'), ('CVE_AGEB', '2615')])\n",
      "OrderedDict([('CVE_ENT', '09'), ('CVE_LOC', '0001'), ('CVE_MUN', '007'), ('CVE_AGEB', '1994')])\n",
      "OrderedDict([('CVE_ENT', '09'), ('CVE_LOC', '0001'), ('CVE_MUN', '007'), ('CVE_AGEB', '2047')])\n",
      "OrderedDict([('CVE_ENT', '09'), ('CVE_LOC', '0001'), ('CVE_MUN', '007'), ('CVE_AGEB', '2070')])\n",
      "OrderedDict([('CVE_ENT', '09'), ('CVE_LOC', '0001'), ('CVE_MUN', '007'), ('CVE_AGEB', '2085')])\n",
      "OrderedDict([('CVE_ENT', '09'), ('CVE_LOC', '0001'), ('CVE_MUN', '007'), ('CVE_AGEB', '209A')])\n",
      "OrderedDict([('CVE_ENT', '09'), ('CVE_LOC', '0001'), ('CVE_MUN', '007'), ('CVE_AGEB', '2102')])\n",
      "OrderedDict([('CVE_ENT', '09'), ('CVE_LOC', '0001'), ('CVE_MUN', '007'), ('CVE_AGEB', '4113')])\n",
      "OrderedDict([('CVE_ENT', '09'), ('CVE_LOC', '0001'), ('CVE_MUN', '007'), ('CVE_AGEB', '5484')])\n",
      "OrderedDict([('CVE_ENT', '09'), ('CVE_LOC', '0001'), ('CVE_MUN', '007'), ('CVE_AGEB', '4471')])\n",
      "OrderedDict([('CVE_ENT', '09'), ('CVE_LOC', '0001'), ('CVE_MUN', '007'), ('CVE_AGEB', '0252')])\n",
      "OrderedDict([('CVE_ENT', '09'), ('CVE_LOC', '0001'), ('CVE_MUN', '007'), ('CVE_AGEB', '0074')])\n",
      "OrderedDict([('CVE_ENT', '09'), ('CVE_LOC', '0001'), ('CVE_MUN', '007'), ('CVE_AGEB', '376A')])\n",
      "OrderedDict([('CVE_ENT', '09'), ('CVE_LOC', '0001'), ('CVE_MUN', '007'), ('CVE_AGEB', '4537')])\n",
      "OrderedDict([('CVE_ENT', '09'), ('CVE_LOC', '0001'), ('CVE_MUN', '007'), ('CVE_AGEB', '0360')])\n",
      "OrderedDict([('CVE_ENT', '09'), ('CVE_LOC', '0001'), ('CVE_MUN', '007'), ('CVE_AGEB', '4541')])\n",
      "OrderedDict([('CVE_ENT', '09'), ('CVE_LOC', '0001'), ('CVE_MUN', '007'), ('CVE_AGEB', '2117')])\n",
      "OrderedDict([('CVE_ENT', '09'), ('CVE_LOC', '0001'), ('CVE_MUN', '007'), ('CVE_AGEB', '3717')])\n",
      "OrderedDict([('CVE_ENT', '09'), ('CVE_LOC', '0001'), ('CVE_MUN', '007'), ('CVE_AGEB', '0943')])\n",
      "OrderedDict([('CVE_ENT', '09'), ('CVE_LOC', '0001'), ('CVE_MUN', '007'), ('CVE_AGEB', '0591')])\n",
      "OrderedDict([('CVE_ENT', '09'), ('CVE_LOC', '0001'), ('CVE_MUN', '007'), ('CVE_AGEB', '1335')])\n",
      "OrderedDict([('CVE_ENT', '09'), ('CVE_LOC', '0001'), ('CVE_MUN', '007'), ('CVE_AGEB', '1496')])\n",
      "OrderedDict([('CVE_ENT', '09'), ('CVE_LOC', '0001'), ('CVE_MUN', '007'), ('CVE_AGEB', '3026')])\n",
      "OrderedDict([('CVE_ENT', '09'), ('CVE_LOC', '0001'), ('CVE_MUN', '007'), ('CVE_AGEB', '0731')])\n",
      "OrderedDict([('CVE_ENT', '09'), ('CVE_LOC', '0001'), ('CVE_MUN', '007'), ('CVE_AGEB', '4594')])\n",
      "OrderedDict([('CVE_ENT', '09'), ('CVE_LOC', '0001'), ('CVE_MUN', '007'), ('CVE_AGEB', '4645')])\n",
      "OrderedDict([('CVE_ENT', '09'), ('CVE_LOC', '0001'), ('CVE_MUN', '007'), ('CVE_AGEB', '4683')])\n",
      "OrderedDict([('CVE_ENT', '09'), ('CVE_LOC', '0001'), ('CVE_MUN', '007'), ('CVE_AGEB', '0962')])\n",
      "OrderedDict([('CVE_ENT', '09'), ('CVE_LOC', '0001'), ('CVE_MUN', '007'), ('CVE_AGEB', '0784')])\n",
      "OrderedDict([('CVE_ENT', '09'), ('CVE_LOC', '0001'), ('CVE_MUN', '007'), ('CVE_AGEB', '0816')])\n",
      "OrderedDict([('CVE_ENT', '09'), ('CVE_LOC', '0001'), ('CVE_MUN', '007'), ('CVE_AGEB', '0820')])\n",
      "OrderedDict([('CVE_ENT', '09'), ('CVE_LOC', '0001'), ('CVE_MUN', '007'), ('CVE_AGEB', '0835')])\n",
      "OrderedDict([('CVE_ENT', '09'), ('CVE_LOC', '0001'), ('CVE_MUN', '007'), ('CVE_AGEB', '084A')])\n",
      "OrderedDict([('CVE_ENT', '09'), ('CVE_LOC', '0001'), ('CVE_MUN', '007'), ('CVE_AGEB', '0854')])\n",
      "OrderedDict([('CVE_ENT', '09'), ('CVE_LOC', '0001'), ('CVE_MUN', '007'), ('CVE_AGEB', '1284')])\n",
      "OrderedDict([('CVE_ENT', '09'), ('CVE_LOC', '0001'), ('CVE_MUN', '007'), ('CVE_AGEB', '141A')])\n",
      "OrderedDict([('CVE_ENT', '09'), ('CVE_LOC', '0001'), ('CVE_MUN', '007'), ('CVE_AGEB', '1424')])\n",
      "OrderedDict([('CVE_ENT', '09'), ('CVE_LOC', '0001'), ('CVE_MUN', '007'), ('CVE_AGEB', '1439')])\n",
      "OrderedDict([('CVE_ENT', '09'), ('CVE_LOC', '0001'), ('CVE_MUN', '007'), ('CVE_AGEB', '1477')])\n",
      "OrderedDict([('CVE_ENT', '09'), ('CVE_LOC', '0001'), ('CVE_MUN', '007'), ('CVE_AGEB', '1481')])\n",
      "OrderedDict([('CVE_ENT', '09'), ('CVE_LOC', '0001'), ('CVE_MUN', '007'), ('CVE_AGEB', '2687')])\n",
      "OrderedDict([('CVE_ENT', '09'), ('CVE_LOC', '0001'), ('CVE_MUN', '007'), ('CVE_AGEB', '2704')])\n",
      "OrderedDict([('CVE_ENT', '09'), ('CVE_LOC', '0001'), ('CVE_MUN', '007'), ('CVE_AGEB', '2719')])\n",
      "OrderedDict([('CVE_ENT', '09'), ('CVE_LOC', '0001'), ('CVE_MUN', '007'), ('CVE_AGEB', '2776')])\n",
      "OrderedDict([('CVE_ENT', '09'), ('CVE_LOC', '0001'), ('CVE_MUN', '007'), ('CVE_AGEB', '2780')])\n",
      "OrderedDict([('CVE_ENT', '09'), ('CVE_LOC', '0001'), ('CVE_MUN', '007'), ('CVE_AGEB', '1443')])\n",
      "OrderedDict([('CVE_ENT', '09'), ('CVE_LOC', '0001'), ('CVE_MUN', '007'), ('CVE_AGEB', '2808')])\n",
      "OrderedDict([('CVE_ENT', '09'), ('CVE_LOC', '0001'), ('CVE_MUN', '007'), ('CVE_AGEB', '2812')])\n",
      "OrderedDict([('CVE_ENT', '09'), ('CVE_LOC', '0001'), ('CVE_MUN', '007'), ('CVE_AGEB', '2846')])\n",
      "OrderedDict([('CVE_ENT', '09'), ('CVE_LOC', '0001'), ('CVE_MUN', '007'), ('CVE_AGEB', '2850')])\n",
      "OrderedDict([('CVE_ENT', '09'), ('CVE_LOC', '0001'), ('CVE_MUN', '007'), ('CVE_AGEB', '4679')])\n",
      "OrderedDict([('CVE_ENT', '09'), ('CVE_LOC', '0001'), ('CVE_MUN', '007'), ('CVE_AGEB', '3153')])\n",
      "OrderedDict([('CVE_ENT', '09'), ('CVE_LOC', '0001'), ('CVE_MUN', '007'), ('CVE_AGEB', '3204')])\n",
      "OrderedDict([('CVE_ENT', '09'), ('CVE_LOC', '0001'), ('CVE_MUN', '007'), ('CVE_AGEB', '3219')])\n",
      "OrderedDict([('CVE_ENT', '09'), ('CVE_LOC', '0001'), ('CVE_MUN', '007'), ('CVE_AGEB', '3223')])\n",
      "OrderedDict([('CVE_ENT', '09'), ('CVE_LOC', '0001'), ('CVE_MUN', '007'), ('CVE_AGEB', '3238')])\n",
      "OrderedDict([('CVE_ENT', '09'), ('CVE_LOC', '0001'), ('CVE_MUN', '007'), ('CVE_AGEB', '3242')])\n",
      "OrderedDict([('CVE_ENT', '09'), ('CVE_LOC', '0001'), ('CVE_MUN', '007'), ('CVE_AGEB', '3257')])\n",
      "OrderedDict([('CVE_ENT', '09'), ('CVE_LOC', '0001'), ('CVE_MUN', '007'), ('CVE_AGEB', '3276')])\n",
      "OrderedDict([('CVE_ENT', '09'), ('CVE_LOC', '0001'), ('CVE_MUN', '007'), ('CVE_AGEB', '3327')])\n",
      "OrderedDict([('CVE_ENT', '09'), ('CVE_LOC', '0001'), ('CVE_MUN', '007'), ('CVE_AGEB', '351A')])\n",
      "OrderedDict([('CVE_ENT', '09'), ('CVE_LOC', '0001'), ('CVE_MUN', '007'), ('CVE_AGEB', '3558')])\n",
      "OrderedDict([('CVE_ENT', '09'), ('CVE_LOC', '0001'), ('CVE_MUN', '007'), ('CVE_AGEB', '4081')])\n",
      "OrderedDict([('CVE_ENT', '09'), ('CVE_LOC', '0001'), ('CVE_MUN', '007'), ('CVE_AGEB', '4096')])\n",
      "OrderedDict([('CVE_ENT', '09'), ('CVE_LOC', '0001'), ('CVE_MUN', '007'), ('CVE_AGEB', '4109')])\n",
      "OrderedDict([('CVE_ENT', '09'), ('CVE_LOC', '0001'), ('CVE_MUN', '007'), ('CVE_AGEB', '4151')])\n",
      "OrderedDict([('CVE_ENT', '09'), ('CVE_LOC', '0001'), ('CVE_MUN', '007'), ('CVE_AGEB', '4166')])\n",
      "OrderedDict([('CVE_ENT', '09'), ('CVE_LOC', '0001'), ('CVE_MUN', '007'), ('CVE_AGEB', '4170')])\n",
      "OrderedDict([('CVE_ENT', '09'), ('CVE_LOC', '0001'), ('CVE_MUN', '007'), ('CVE_AGEB', '4185')])\n",
      "OrderedDict([('CVE_ENT', '09'), ('CVE_LOC', '0001'), ('CVE_MUN', '007'), ('CVE_AGEB', '419A')])\n",
      "OrderedDict([('CVE_ENT', '09'), ('CVE_LOC', '0001'), ('CVE_MUN', '007'), ('CVE_AGEB', '4202')])\n",
      "OrderedDict([('CVE_ENT', '09'), ('CVE_LOC', '0001'), ('CVE_MUN', '007'), ('CVE_AGEB', '4217')])\n",
      "OrderedDict([('CVE_ENT', '09'), ('CVE_LOC', '0001'), ('CVE_MUN', '007'), ('CVE_AGEB', '4236')])\n",
      "OrderedDict([('CVE_ENT', '09'), ('CVE_LOC', '0001'), ('CVE_MUN', '007'), ('CVE_AGEB', '4240')])\n",
      "OrderedDict([('CVE_ENT', '09'), ('CVE_LOC', '0001'), ('CVE_MUN', '007'), ('CVE_AGEB', '426A')])\n",
      "OrderedDict([('CVE_ENT', '09'), ('CVE_LOC', '0001'), ('CVE_MUN', '007'), ('CVE_AGEB', '5075')])\n",
      "OrderedDict([('CVE_ENT', '09'), ('CVE_LOC', '0001'), ('CVE_MUN', '007'), ('CVE_AGEB', '508A')])\n",
      "OrderedDict([('CVE_ENT', '09'), ('CVE_LOC', '0001'), ('CVE_MUN', '007'), ('CVE_AGEB', '5094')])\n",
      "OrderedDict([('CVE_ENT', '09'), ('CVE_LOC', '0001'), ('CVE_MUN', '007'), ('CVE_AGEB', '5111')])\n",
      "OrderedDict([('CVE_ENT', '09'), ('CVE_LOC', '0001'), ('CVE_MUN', '007'), ('CVE_AGEB', '5126')])\n",
      "OrderedDict([('CVE_ENT', '09'), ('CVE_LOC', '0001'), ('CVE_MUN', '007'), ('CVE_AGEB', '5130')])\n",
      "OrderedDict([('CVE_ENT', '09'), ('CVE_LOC', '0001'), ('CVE_MUN', '007'), ('CVE_AGEB', '5145')])\n",
      "OrderedDict([('CVE_ENT', '09'), ('CVE_LOC', '0001'), ('CVE_MUN', '007'), ('CVE_AGEB', '5179')])\n",
      "OrderedDict([('CVE_ENT', '09'), ('CVE_LOC', '0001'), ('CVE_MUN', '007'), ('CVE_AGEB', '5450')])\n",
      "OrderedDict([('CVE_ENT', '09'), ('CVE_LOC', '0001'), ('CVE_MUN', '007'), ('CVE_AGEB', '5198')])\n",
      "OrderedDict([('CVE_ENT', '09'), ('CVE_LOC', '0001'), ('CVE_MUN', '007'), ('CVE_AGEB', '5431')])\n",
      "OrderedDict([('CVE_ENT', '09'), ('CVE_LOC', '0001'), ('CVE_MUN', '007'), ('CVE_AGEB', '5446')])\n",
      "OrderedDict([('CVE_ENT', '09'), ('CVE_LOC', '0001'), ('CVE_MUN', '007'), ('CVE_AGEB', '547A')])\n",
      "OrderedDict([('CVE_ENT', '09'), ('CVE_LOC', '0001'), ('CVE_MUN', '007'), ('CVE_AGEB', '1299')])\n",
      "OrderedDict([('CVE_ENT', '09'), ('CVE_LOC', '0001'), ('CVE_MUN', '007'), ('CVE_AGEB', '1778')])\n",
      "OrderedDict([('CVE_ENT', '09'), ('CVE_LOC', '0001'), ('CVE_MUN', '007'), ('CVE_AGEB', '3647')])\n",
      "OrderedDict([('CVE_ENT', '09'), ('CVE_LOC', '0001'), ('CVE_MUN', '007'), ('CVE_AGEB', '3810')])\n",
      "OrderedDict([('CVE_ENT', '09'), ('CVE_LOC', '0001'), ('CVE_MUN', '007'), ('CVE_AGEB', '0036')])\n",
      "OrderedDict([('CVE_ENT', '09'), ('CVE_LOC', '0001'), ('CVE_MUN', '007'), ('CVE_AGEB', '038A')])\n",
      "OrderedDict([('CVE_ENT', '09'), ('CVE_LOC', '0001'), ('CVE_MUN', '007'), ('CVE_AGEB', '0534')])\n",
      "OrderedDict([('CVE_ENT', '09'), ('CVE_LOC', '0001'), ('CVE_MUN', '007'), ('CVE_AGEB', '0604')])\n",
      "OrderedDict([('CVE_ENT', '09'), ('CVE_LOC', '0001'), ('CVE_MUN', '007'), ('CVE_AGEB', '091A')])\n",
      "OrderedDict([('CVE_ENT', '09'), ('CVE_LOC', '0001'), ('CVE_MUN', '007'), ('CVE_AGEB', '0977')])\n",
      "OrderedDict([('CVE_ENT', '09'), ('CVE_LOC', '0001'), ('CVE_MUN', '007'), ('CVE_AGEB', '3825')])\n",
      "OrderedDict([('CVE_ENT', '09'), ('CVE_LOC', '0001'), ('CVE_MUN', '007'), ('CVE_AGEB', '390A')])\n",
      "OrderedDict([('CVE_ENT', '09'), ('CVE_LOC', '0001'), ('CVE_MUN', '007'), ('CVE_AGEB', '3914')])\n",
      "OrderedDict([('CVE_ENT', '09'), ('CVE_LOC', '0001'), ('CVE_MUN', '007'), ('CVE_AGEB', '4749')])\n",
      "OrderedDict([('CVE_ENT', '09'), ('CVE_LOC', '0001'), ('CVE_MUN', '007'), ('CVE_AGEB', '4927')])\n",
      "OrderedDict([('CVE_ENT', '09'), ('CVE_LOC', '0001'), ('CVE_MUN', '007'), ('CVE_AGEB', '3806')])\n",
      "OrderedDict([('CVE_ENT', '09'), ('CVE_LOC', '0001'), ('CVE_MUN', '007'), ('CVE_AGEB', '1388')])\n",
      "OrderedDict([('CVE_ENT', '09'), ('CVE_LOC', '0001'), ('CVE_MUN', '007'), ('CVE_AGEB', '5785')])\n",
      "OrderedDict([('CVE_ENT', '09'), ('CVE_LOC', '0001'), ('CVE_MUN', '007'), ('CVE_AGEB', '5893')])\n",
      "OrderedDict([('CVE_ENT', '09'), ('CVE_LOC', '0001'), ('CVE_MUN', '007'), ('CVE_AGEB', '2988')])\n",
      "OrderedDict([('CVE_ENT', '09'), ('CVE_LOC', '0001'), ('CVE_MUN', '007'), ('CVE_AGEB', '305A')])\n",
      "OrderedDict([('CVE_ENT', '09'), ('CVE_LOC', '0001'), ('CVE_MUN', '007'), ('CVE_AGEB', '3793')])\n",
      "OrderedDict([('CVE_ENT', '09'), ('CVE_LOC', '0001'), ('CVE_MUN', '007'), ('CVE_AGEB', '401A')])\n",
      "OrderedDict([('CVE_ENT', '09'), ('CVE_LOC', '0001'), ('CVE_MUN', '007'), ('CVE_AGEB', '4024')])\n",
      "OrderedDict([('CVE_ENT', '09'), ('CVE_LOC', '0001'), ('CVE_MUN', '007'), ('CVE_AGEB', '4804')])\n",
      "OrderedDict([('CVE_ENT', '09'), ('CVE_LOC', '0001'), ('CVE_MUN', '007'), ('CVE_AGEB', '5499')])\n",
      "OrderedDict([('CVE_ENT', '09'), ('CVE_LOC', '0001'), ('CVE_MUN', '007'), ('CVE_AGEB', '5501')])\n",
      "OrderedDict([('CVE_ENT', '09'), ('CVE_LOC', '0001'), ('CVE_MUN', '007'), ('CVE_AGEB', '5520')])\n",
      "OrderedDict([('CVE_ENT', '09'), ('CVE_LOC', '0001'), ('CVE_MUN', '007'), ('CVE_AGEB', '0905')])\n",
      "OrderedDict([('CVE_ENT', '09'), ('CVE_LOC', '0001'), ('CVE_MUN', '007'), ('CVE_AGEB', '262A')])\n",
      "OrderedDict([('CVE_ENT', '09'), ('CVE_LOC', '0001'), ('CVE_MUN', '007'), ('CVE_AGEB', '2634')])\n",
      "OrderedDict([('CVE_ENT', '09'), ('CVE_LOC', '0001'), ('CVE_MUN', '007'), ('CVE_AGEB', '2649')])\n",
      "OrderedDict([('CVE_ENT', '09'), ('CVE_LOC', '0001'), ('CVE_MUN', '007'), ('CVE_AGEB', '4611')])\n",
      "OrderedDict([('CVE_ENT', '09'), ('CVE_LOC', '0001'), ('CVE_MUN', '007'), ('CVE_AGEB', '3562')])\n",
      "OrderedDict([('CVE_ENT', '09'), ('CVE_LOC', '0001'), ('CVE_MUN', '007'), ('CVE_AGEB', '5412')])\n",
      "OrderedDict([('CVE_ENT', '09'), ('CVE_LOC', '0001'), ('CVE_MUN', '007'), ('CVE_AGEB', '5889')])\n",
      "OrderedDict([('CVE_ENT', '09'), ('CVE_LOC', '0001'), ('CVE_MUN', '007'), ('CVE_AGEB', '593A')])\n",
      "OrderedDict([('CVE_ENT', '09'), ('CVE_LOC', '0001'), ('CVE_MUN', '007'), ('CVE_AGEB', '5376')])\n",
      "OrderedDict([('CVE_ENT', '09'), ('CVE_LOC', '0001'), ('CVE_MUN', '007'), ('CVE_AGEB', '4293')])\n",
      "OrderedDict([('CVE_ENT', '09'), ('CVE_LOC', '0001'), ('CVE_MUN', '007'), ('CVE_AGEB', '2206')])\n",
      "OrderedDict([('CVE_ENT', '09'), ('CVE_LOC', '0001'), ('CVE_MUN', '007'), ('CVE_AGEB', '2193')])\n",
      "OrderedDict([('CVE_ENT', '09'), ('CVE_LOC', '0001'), ('CVE_MUN', '007'), ('CVE_AGEB', '5874')])\n",
      "OrderedDict([('CVE_ENT', '09'), ('CVE_LOC', '0001'), ('CVE_MUN', '007'), ('CVE_AGEB', '2437')])\n",
      "OrderedDict([('CVE_ENT', '09'), ('CVE_LOC', '0001'), ('CVE_MUN', '007'), ('CVE_AGEB', '2441')])\n",
      "OrderedDict([('CVE_ENT', '09'), ('CVE_LOC', '0001'), ('CVE_MUN', '007'), ('CVE_AGEB', '3295')])\n",
      "OrderedDict([('CVE_ENT', '09'), ('CVE_LOC', '0001'), ('CVE_MUN', '007'), ('CVE_AGEB', '4522')])\n",
      "OrderedDict([('CVE_ENT', '09'), ('CVE_LOC', '0001'), ('CVE_MUN', '007'), ('CVE_AGEB', '4791')])\n",
      "OrderedDict([('CVE_ENT', '09'), ('CVE_LOC', '0001'), ('CVE_MUN', '007'), ('CVE_AGEB', '5183')])\n",
      "OrderedDict([('CVE_ENT', '09'), ('CVE_LOC', '0001'), ('CVE_MUN', '007'), ('CVE_AGEB', '1316')])\n",
      "OrderedDict([('CVE_ENT', '09'), ('CVE_LOC', '0001'), ('CVE_MUN', '007'), ('CVE_AGEB', '0040')])\n",
      "OrderedDict([('CVE_ENT', '09'), ('CVE_LOC', '0001'), ('CVE_MUN', '007'), ('CVE_AGEB', '0110')])\n",
      "OrderedDict([('CVE_ENT', '09'), ('CVE_LOC', '0001'), ('CVE_MUN', '007'), ('CVE_AGEB', '013A')])\n",
      "OrderedDict([('CVE_ENT', '09'), ('CVE_LOC', '0001'), ('CVE_MUN', '007'), ('CVE_AGEB', '0144')])\n",
      "OrderedDict([('CVE_ENT', '09'), ('CVE_LOC', '0001'), ('CVE_MUN', '007'), ('CVE_AGEB', '0197')])\n",
      "OrderedDict([('CVE_ENT', '09'), ('CVE_LOC', '0001'), ('CVE_MUN', '007'), ('CVE_AGEB', '0248')])\n",
      "OrderedDict([('CVE_ENT', '09'), ('CVE_LOC', '0001'), ('CVE_MUN', '007'), ('CVE_AGEB', '0286')])\n",
      "OrderedDict([('CVE_ENT', '09'), ('CVE_LOC', '0001'), ('CVE_MUN', '007'), ('CVE_AGEB', '0290')])\n",
      "OrderedDict([('CVE_ENT', '09'), ('CVE_LOC', '0001'), ('CVE_MUN', '007'), ('CVE_AGEB', '0303')])\n",
      "OrderedDict([('CVE_ENT', '09'), ('CVE_LOC', '0001'), ('CVE_MUN', '007'), ('CVE_AGEB', '0407')])\n",
      "OrderedDict([('CVE_ENT', '09'), ('CVE_LOC', '0001'), ('CVE_MUN', '007'), ('CVE_AGEB', '0411')])\n",
      "OrderedDict([('CVE_ENT', '09'), ('CVE_LOC', '0001'), ('CVE_MUN', '007'), ('CVE_AGEB', '0426')])\n",
      "OrderedDict([('CVE_ENT', '09'), ('CVE_LOC', '0001'), ('CVE_MUN', '007'), ('CVE_AGEB', '0445')])\n",
      "OrderedDict([('CVE_ENT', '09'), ('CVE_LOC', '0001'), ('CVE_MUN', '007'), ('CVE_AGEB', '0464')])\n",
      "OrderedDict([('CVE_ENT', '09'), ('CVE_LOC', '0001'), ('CVE_MUN', '007'), ('CVE_AGEB', '5747')])\n",
      "OrderedDict([('CVE_ENT', '09'), ('CVE_LOC', '0001'), ('CVE_MUN', '007'), ('CVE_AGEB', '5535')])\n",
      "OrderedDict([('CVE_ENT', '09'), ('CVE_LOC', '0001'), ('CVE_MUN', '007'), ('CVE_AGEB', '554A')])\n",
      "OrderedDict([('CVE_ENT', '09'), ('CVE_LOC', '0001'), ('CVE_MUN', '007'), ('CVE_AGEB', '0746')])\n",
      "OrderedDict([('CVE_ENT', '09'), ('CVE_LOC', '0001'), ('CVE_MUN', '007'), ('CVE_AGEB', '0750')])\n",
      "OrderedDict([('CVE_ENT', '09'), ('CVE_LOC', '0001'), ('CVE_MUN', '007'), ('CVE_AGEB', '077A')])\n",
      "OrderedDict([('CVE_ENT', '09'), ('CVE_LOC', '0001'), ('CVE_MUN', '007'), ('CVE_AGEB', '1265')])\n",
      "OrderedDict([('CVE_ENT', '09'), ('CVE_LOC', '0001'), ('CVE_MUN', '007'), ('CVE_AGEB', '127A')])\n",
      "OrderedDict([('CVE_ENT', '09'), ('CVE_LOC', '0001'), ('CVE_MUN', '007'), ('CVE_AGEB', '2672')])\n",
      "OrderedDict([('CVE_ENT', '09'), ('CVE_LOC', '0001'), ('CVE_MUN', '007'), ('CVE_AGEB', '3149')])\n",
      "OrderedDict([('CVE_ENT', '09'), ('CVE_LOC', '0001'), ('CVE_MUN', '007'), ('CVE_AGEB', '3365')])\n",
      "OrderedDict([('CVE_ENT', '09'), ('CVE_LOC', '0001'), ('CVE_MUN', '007'), ('CVE_AGEB', '337A')])\n",
      "OrderedDict([('CVE_ENT', '09'), ('CVE_LOC', '0001'), ('CVE_MUN', '007'), ('CVE_AGEB', '3401')])\n",
      "OrderedDict([('CVE_ENT', '09'), ('CVE_LOC', '0001'), ('CVE_MUN', '007'), ('CVE_AGEB', '4433')])\n",
      "OrderedDict([('CVE_ENT', '09'), ('CVE_LOC', '0001'), ('CVE_MUN', '007'), ('CVE_AGEB', '3488')])\n",
      "OrderedDict([('CVE_ENT', '09'), ('CVE_LOC', '0001'), ('CVE_MUN', '007'), ('CVE_AGEB', '3505')])\n",
      "OrderedDict([('CVE_ENT', '09'), ('CVE_LOC', '0001'), ('CVE_MUN', '007'), ('CVE_AGEB', '4306')])\n",
      "OrderedDict([('CVE_ENT', '09'), ('CVE_LOC', '0001'), ('CVE_MUN', '007'), ('CVE_AGEB', '4310')])\n",
      "OrderedDict([('CVE_ENT', '09'), ('CVE_LOC', '0001'), ('CVE_MUN', '007'), ('CVE_AGEB', '433A')])\n",
      "OrderedDict([('CVE_ENT', '09'), ('CVE_LOC', '0001'), ('CVE_MUN', '007'), ('CVE_AGEB', '4382')])\n",
      "OrderedDict([('CVE_ENT', '09'), ('CVE_LOC', '0001'), ('CVE_MUN', '007'), ('CVE_AGEB', '4414')])\n",
      "OrderedDict([('CVE_ENT', '09'), ('CVE_LOC', '0001'), ('CVE_MUN', '007'), ('CVE_AGEB', '3755')])\n",
      "OrderedDict([('CVE_ENT', '09'), ('CVE_LOC', '0001'), ('CVE_MUN', '007'), ('CVE_AGEB', '4664')])\n",
      "OrderedDict([('CVE_ENT', '09'), ('CVE_LOC', '0001'), ('CVE_MUN', '007'), ('CVE_AGEB', '5041')])\n",
      "OrderedDict([('CVE_ENT', '09'), ('CVE_LOC', '0001'), ('CVE_MUN', '007'), ('CVE_AGEB', '5060')])\n",
      "OrderedDict([('CVE_ENT', '09'), ('CVE_LOC', '0001'), ('CVE_MUN', '007'), ('CVE_AGEB', '5323')])\n",
      "OrderedDict([('CVE_ENT', '09'), ('CVE_LOC', '0001'), ('CVE_MUN', '007'), ('CVE_AGEB', '5342')])\n",
      "OrderedDict([('CVE_ENT', '09'), ('CVE_LOC', '0001'), ('CVE_MUN', '007'), ('CVE_AGEB', '5357')])\n",
      "OrderedDict([('CVE_ENT', '09'), ('CVE_LOC', '0001'), ('CVE_MUN', '007'), ('CVE_AGEB', '5361')])\n",
      "OrderedDict([('CVE_ENT', '09'), ('CVE_LOC', '0001'), ('CVE_MUN', '007'), ('CVE_AGEB', '4467')])\n",
      "OrderedDict([('CVE_ENT', '09'), ('CVE_LOC', '0001'), ('CVE_MUN', '007'), ('CVE_AGEB', '2738')])\n",
      "OrderedDict([('CVE_ENT', '09'), ('CVE_LOC', '0001'), ('CVE_MUN', '007'), ('CVE_AGEB', '1759')])\n",
      "OrderedDict([('CVE_ENT', '09'), ('CVE_LOC', '0001'), ('CVE_MUN', '008'), ('CVE_AGEB', '0086')])\n",
      "OrderedDict([('CVE_ENT', '09'), ('CVE_LOC', '0001'), ('CVE_MUN', '008'), ('CVE_AGEB', '0387')])\n",
      "OrderedDict([('CVE_ENT', '09'), ('CVE_LOC', '0001'), ('CVE_MUN', '008'), ('CVE_AGEB', '0438')])\n",
      "OrderedDict([('CVE_ENT', '09'), ('CVE_LOC', '0001'), ('CVE_MUN', '008'), ('CVE_AGEB', '0461')])\n",
      "OrderedDict([('CVE_ENT', '09'), ('CVE_LOC', '0001'), ('CVE_MUN', '008'), ('CVE_AGEB', '0599')])\n",
      "OrderedDict([('CVE_ENT', '09'), ('CVE_LOC', '0001'), ('CVE_MUN', '008'), ('CVE_AGEB', '0527')])\n",
      "OrderedDict([('CVE_ENT', '09'), ('CVE_LOC', '0001'), ('CVE_MUN', '008'), ('CVE_AGEB', '0508')])\n",
      "OrderedDict([('CVE_ENT', '09'), ('CVE_LOC', '0001'), ('CVE_MUN', '008'), ('CVE_AGEB', '0194')])\n",
      "OrderedDict([('CVE_ENT', '09'), ('CVE_LOC', '0001'), ('CVE_MUN', '008'), ('CVE_AGEB', '0476')])\n",
      "OrderedDict([('CVE_ENT', '09'), ('CVE_LOC', '0001'), ('CVE_MUN', '008'), ('CVE_AGEB', '0584')])\n",
      "OrderedDict([('CVE_ENT', '09'), ('CVE_LOC', '0001'), ('CVE_MUN', '008'), ('CVE_AGEB', '0052')])\n",
      "OrderedDict([('CVE_ENT', '09'), ('CVE_LOC', '0001'), ('CVE_MUN', '008'), ('CVE_AGEB', '0014')])\n",
      "OrderedDict([('CVE_ENT', '09'), ('CVE_LOC', '0001'), ('CVE_MUN', '008'), ('CVE_AGEB', '0048')])\n",
      "OrderedDict([('CVE_ENT', '09'), ('CVE_LOC', '0001'), ('CVE_MUN', '008'), ('CVE_AGEB', '0090')])\n",
      "OrderedDict([('CVE_ENT', '09'), ('CVE_LOC', '0001'), ('CVE_MUN', '008'), ('CVE_AGEB', '0103')])\n",
      "OrderedDict([('CVE_ENT', '09'), ('CVE_LOC', '0001'), ('CVE_MUN', '008'), ('CVE_AGEB', '0334')])\n",
      "OrderedDict([('CVE_ENT', '09'), ('CVE_LOC', '0001'), ('CVE_MUN', '008'), ('CVE_AGEB', '0118')])\n",
      "OrderedDict([('CVE_ENT', '09'), ('CVE_LOC', '0001'), ('CVE_MUN', '008'), ('CVE_AGEB', '0156')])\n",
      "OrderedDict([('CVE_ENT', '09'), ('CVE_LOC', '0001'), ('CVE_MUN', '008'), ('CVE_AGEB', '0283')])\n",
      "OrderedDict([('CVE_ENT', '09'), ('CVE_LOC', '0001'), ('CVE_MUN', '008'), ('CVE_AGEB', '0349')])\n",
      "OrderedDict([('CVE_ENT', '09'), ('CVE_LOC', '0001'), ('CVE_MUN', '008'), ('CVE_AGEB', '0353')])\n",
      "OrderedDict([('CVE_ENT', '09'), ('CVE_LOC', '0001'), ('CVE_MUN', '008'), ('CVE_AGEB', '0512')])\n",
      "OrderedDict([('CVE_ENT', '09'), ('CVE_LOC', '0001'), ('CVE_MUN', '008'), ('CVE_AGEB', '0175')])\n",
      "OrderedDict([('CVE_ENT', '09'), ('CVE_LOC', '0001'), ('CVE_MUN', '008'), ('CVE_AGEB', '018A')])\n",
      "OrderedDict([('CVE_ENT', '09'), ('CVE_LOC', '0001'), ('CVE_MUN', '008'), ('CVE_AGEB', '0207')])\n",
      "OrderedDict([('CVE_ENT', '09'), ('CVE_LOC', '0001'), ('CVE_MUN', '008'), ('CVE_AGEB', '0211')])\n",
      "OrderedDict([('CVE_ENT', '09'), ('CVE_LOC', '0001'), ('CVE_MUN', '008'), ('CVE_AGEB', '0230')])\n",
      "OrderedDict([('CVE_ENT', '09'), ('CVE_LOC', '0001'), ('CVE_MUN', '008'), ('CVE_AGEB', '0245')])\n",
      "OrderedDict([('CVE_ENT', '09'), ('CVE_LOC', '0001'), ('CVE_MUN', '008'), ('CVE_AGEB', '025A')])\n",
      "OrderedDict([('CVE_ENT', '09'), ('CVE_LOC', '0001'), ('CVE_MUN', '008'), ('CVE_AGEB', '0264')])\n",
      "OrderedDict([('CVE_ENT', '09'), ('CVE_LOC', '0001'), ('CVE_MUN', '008'), ('CVE_AGEB', '0298')])\n",
      "OrderedDict([('CVE_ENT', '09'), ('CVE_LOC', '0001'), ('CVE_MUN', '008'), ('CVE_AGEB', '0300')])\n",
      "OrderedDict([('CVE_ENT', '09'), ('CVE_LOC', '0001'), ('CVE_MUN', '008'), ('CVE_AGEB', '0315')])\n",
      "OrderedDict([('CVE_ENT', '09'), ('CVE_LOC', '0001'), ('CVE_MUN', '008'), ('CVE_AGEB', '032A')])\n",
      "OrderedDict([('CVE_ENT', '09'), ('CVE_LOC', '0001'), ('CVE_MUN', '008'), ('CVE_AGEB', '0531')])\n",
      "OrderedDict([('CVE_ENT', '09'), ('CVE_LOC', '0001'), ('CVE_MUN', '008'), ('CVE_AGEB', '0546')])\n",
      "OrderedDict([('CVE_ENT', '09'), ('CVE_LOC', '0001'), ('CVE_MUN', '008'), ('CVE_AGEB', '0071')])\n",
      "OrderedDict([('CVE_ENT', '09'), ('CVE_LOC', '0001'), ('CVE_MUN', '008'), ('CVE_AGEB', '0495')])\n",
      "OrderedDict([('CVE_ENT', '09'), ('CVE_LOC', '0001'), ('CVE_MUN', '008'), ('CVE_AGEB', '0067')])\n",
      "OrderedDict([('CVE_ENT', '09'), ('CVE_LOC', '0001'), ('CVE_MUN', '008'), ('CVE_AGEB', '0029')])\n",
      "OrderedDict([('CVE_ENT', '09'), ('CVE_LOC', '0001'), ('CVE_MUN', '008'), ('CVE_AGEB', '0033')])\n",
      "OrderedDict([('CVE_ENT', '09'), ('CVE_LOC', '0001'), ('CVE_MUN', '008'), ('CVE_AGEB', '0137')])\n",
      "OrderedDict([('CVE_ENT', '09'), ('CVE_LOC', '0001'), ('CVE_MUN', '008'), ('CVE_AGEB', '0122')])\n",
      "OrderedDict([('CVE_ENT', '09'), ('CVE_LOC', '0001'), ('CVE_MUN', '008'), ('CVE_AGEB', '0141')])\n",
      "OrderedDict([('CVE_ENT', '09'), ('CVE_LOC', '0001'), ('CVE_MUN', '008'), ('CVE_AGEB', '0160')])\n",
      "OrderedDict([('CVE_ENT', '09'), ('CVE_LOC', '0001'), ('CVE_MUN', '008'), ('CVE_AGEB', '0226')])\n",
      "OrderedDict([('CVE_ENT', '09'), ('CVE_LOC', '0001'), ('CVE_MUN', '008'), ('CVE_AGEB', '0404')])\n",
      "OrderedDict([('CVE_ENT', '09'), ('CVE_LOC', '0001'), ('CVE_MUN', '008'), ('CVE_AGEB', '0423')])\n",
      "OrderedDict([('CVE_ENT', '09'), ('CVE_LOC', '0001'), ('CVE_MUN', '008'), ('CVE_AGEB', '0457')])\n",
      "OrderedDict([('CVE_ENT', '09'), ('CVE_LOC', '0001'), ('CVE_MUN', '008'), ('CVE_AGEB', '0550')])\n",
      "OrderedDict([('CVE_ENT', '09'), ('CVE_LOC', '0001'), ('CVE_MUN', '008'), ('CVE_AGEB', '0565')])\n",
      "OrderedDict([('CVE_ENT', '09'), ('CVE_LOC', '0001'), ('CVE_MUN', '008'), ('CVE_AGEB', '057A')])\n",
      "OrderedDict([('CVE_ENT', '09'), ('CVE_LOC', '0300'), ('CVE_MUN', '009'), ('CVE_AGEB', '0647')])\n",
      "OrderedDict([('CVE_ENT', '09'), ('CVE_LOC', '0011'), ('CVE_MUN', '009'), ('CVE_AGEB', '0401')])\n",
      "OrderedDict([('CVE_ENT', '09'), ('CVE_LOC', '0300'), ('CVE_MUN', '009'), ('CVE_AGEB', '0632')])\n",
      "OrderedDict([('CVE_ENT', '09'), ('CVE_LOC', '0001'), ('CVE_MUN', '009'), ('CVE_AGEB', '0026')])\n",
      "OrderedDict([('CVE_ENT', '09'), ('CVE_LOC', '0001'), ('CVE_MUN', '009'), ('CVE_AGEB', '0505')])\n",
      "OrderedDict([('CVE_ENT', '09'), ('CVE_LOC', '0033'), ('CVE_MUN', '009'), ('CVE_AGEB', '0488')])\n",
      "OrderedDict([('CVE_ENT', '09'), ('CVE_LOC', '0011'), ('CVE_MUN', '009'), ('CVE_AGEB', '0416')])\n",
      "OrderedDict([('CVE_ENT', '09'), ('CVE_LOC', '0011'), ('CVE_MUN', '009'), ('CVE_AGEB', '0420')])\n",
      "OrderedDict([('CVE_ENT', '09'), ('CVE_LOC', '0011'), ('CVE_MUN', '009'), ('CVE_AGEB', '0435')])\n",
      "OrderedDict([('CVE_ENT', '09'), ('CVE_LOC', '0011'), ('CVE_MUN', '009'), ('CVE_AGEB', '051A')])\n",
      "OrderedDict([('CVE_ENT', '09'), ('CVE_LOC', '0017'), ('CVE_MUN', '009'), ('CVE_AGEB', '0365')])\n",
      "OrderedDict([('CVE_ENT', '09'), ('CVE_LOC', '0017'), ('CVE_MUN', '009'), ('CVE_AGEB', '037A')])\n",
      "OrderedDict([('CVE_ENT', '09'), ('CVE_LOC', '0017'), ('CVE_MUN', '009'), ('CVE_AGEB', '0384')])\n",
      "OrderedDict([('CVE_ENT', '09'), ('CVE_LOC', '0017'), ('CVE_MUN', '009'), ('CVE_AGEB', '0399')])\n",
      "OrderedDict([('CVE_ENT', '09'), ('CVE_LOC', '0152'), ('CVE_MUN', '009'), ('CVE_AGEB', '0628')])\n",
      "OrderedDict([('CVE_ENT', '09'), ('CVE_LOC', '0033'), ('CVE_MUN', '009'), ('CVE_AGEB', '0350')])\n",
      "OrderedDict([('CVE_ENT', '09'), ('CVE_LOC', '0036'), ('CVE_MUN', '009'), ('CVE_AGEB', '0223')])\n",
      "OrderedDict([('CVE_ENT', '09'), ('CVE_LOC', '0036'), ('CVE_MUN', '009'), ('CVE_AGEB', '0242')])\n",
      "OrderedDict([('CVE_ENT', '09'), ('CVE_LOC', '0152'), ('CVE_MUN', '009'), ('CVE_AGEB', '0613')])\n",
      "OrderedDict([('CVE_ENT', '09'), ('CVE_LOC', '0015'), ('CVE_MUN', '009'), ('CVE_AGEB', '012A')])\n",
      "OrderedDict([('CVE_ENT', '09'), ('CVE_LOC', '0024'), ('CVE_MUN', '009'), ('CVE_AGEB', '0577')])\n",
      "OrderedDict([('CVE_ENT', '09'), ('CVE_LOC', '0024'), ('CVE_MUN', '009'), ('CVE_AGEB', '0581')])\n",
      "OrderedDict([('CVE_ENT', '09'), ('CVE_LOC', '0029'), ('CVE_MUN', '009'), ('CVE_AGEB', '0609')])\n",
      "OrderedDict([('CVE_ENT', '09'), ('CVE_LOC', '0001'), ('CVE_MUN', '009'), ('CVE_AGEB', '0562')])\n",
      "OrderedDict([('CVE_ENT', '09'), ('CVE_LOC', '0001'), ('CVE_MUN', '009'), ('CVE_AGEB', '0312')])\n",
      "OrderedDict([('CVE_ENT', '09'), ('CVE_LOC', '0024'), ('CVE_MUN', '009'), ('CVE_AGEB', '0651')])\n",
      "OrderedDict([('CVE_ENT', '09'), ('CVE_LOC', '0001'), ('CVE_MUN', '009'), ('CVE_AGEB', '0331')])\n",
      "OrderedDict([('CVE_ENT', '09'), ('CVE_LOC', '0001'), ('CVE_MUN', '009'), ('CVE_AGEB', '0492')])\n",
      "OrderedDict([('CVE_ENT', '09'), ('CVE_LOC', '0029'), ('CVE_MUN', '009'), ('CVE_AGEB', '044A')])\n",
      "OrderedDict([('CVE_ENT', '09'), ('CVE_LOC', '0029'), ('CVE_MUN', '009'), ('CVE_AGEB', '0454')])\n",
      "OrderedDict([('CVE_ENT', '09'), ('CVE_LOC', '0029'), ('CVE_MUN', '009'), ('CVE_AGEB', '0469')])\n",
      "OrderedDict([('CVE_ENT', '09'), ('CVE_LOC', '0029'), ('CVE_MUN', '009'), ('CVE_AGEB', '0473')])\n",
      "OrderedDict([('CVE_ENT', '09'), ('CVE_LOC', '0033'), ('CVE_MUN', '009'), ('CVE_AGEB', '0346')])\n",
      "OrderedDict([('CVE_ENT', '09'), ('CVE_LOC', '0001'), ('CVE_MUN', '009'), ('CVE_AGEB', '0308')])\n",
      "OrderedDict([('CVE_ENT', '09'), ('CVE_LOC', '0001'), ('CVE_MUN', '009'), ('CVE_AGEB', '0327')])\n",
      "OrderedDict([('CVE_ENT', '09'), ('CVE_LOC', '0011'), ('CVE_MUN', '009'), ('CVE_AGEB', '0543')])\n",
      "OrderedDict([('CVE_ENT', '09'), ('CVE_LOC', '0017'), ('CVE_MUN', '009'), ('CVE_AGEB', '0558')])\n",
      "OrderedDict([('CVE_ENT', '09'), ('CVE_LOC', '0024'), ('CVE_MUN', '009'), ('CVE_AGEB', '0191')])\n",
      "OrderedDict([('CVE_ENT', '09'), ('CVE_LOC', '0024'), ('CVE_MUN', '009'), ('CVE_AGEB', '0204')])\n",
      "OrderedDict([('CVE_ENT', '09'), ('CVE_LOC', '0024'), ('CVE_MUN', '009'), ('CVE_AGEB', '0219')])\n",
      "OrderedDict([('CVE_ENT', '09'), ('CVE_LOC', '0036'), ('CVE_MUN', '009'), ('CVE_AGEB', '0238')])\n",
      "OrderedDict([('CVE_ENT', '09'), ('CVE_LOC', '0024'), ('CVE_MUN', '009'), ('CVE_AGEB', '0596')])\n",
      "OrderedDict([('CVE_ENT', '09'), ('CVE_LOC', '0001'), ('CVE_MUN', '010'), ('CVE_AGEB', '1720')])\n",
      "OrderedDict([('CVE_ENT', '09'), ('CVE_LOC', '0001'), ('CVE_MUN', '010'), ('CVE_AGEB', '135A')])\n",
      "OrderedDict([('CVE_ENT', '09'), ('CVE_LOC', '0001'), ('CVE_MUN', '010'), ('CVE_AGEB', '1716')])\n",
      "OrderedDict([('CVE_ENT', '09'), ('CVE_LOC', '0001'), ('CVE_MUN', '010'), ('CVE_AGEB', '2150')])\n",
      "OrderedDict([('CVE_ENT', '09'), ('CVE_LOC', '0001'), ('CVE_MUN', '010'), ('CVE_AGEB', '1133')])\n",
      "OrderedDict([('CVE_ENT', '09'), ('CVE_LOC', '0001'), ('CVE_MUN', '010'), ('CVE_AGEB', '1241')])\n",
      "OrderedDict([('CVE_ENT', '09'), ('CVE_LOC', '0001'), ('CVE_MUN', '010'), ('CVE_AGEB', '1218')])\n",
      "OrderedDict([('CVE_ENT', '09'), ('CVE_LOC', '0001'), ('CVE_MUN', '010'), ('CVE_AGEB', '1237')])\n",
      "OrderedDict([('CVE_ENT', '09'), ('CVE_LOC', '0001'), ('CVE_MUN', '010'), ('CVE_AGEB', '1307')])\n",
      "OrderedDict([('CVE_ENT', '09'), ('CVE_LOC', '0001'), ('CVE_MUN', '010'), ('CVE_AGEB', '1379')])\n",
      "OrderedDict([('CVE_ENT', '09'), ('CVE_LOC', '0001'), ('CVE_MUN', '010'), ('CVE_AGEB', '0281')])\n",
      "OrderedDict([('CVE_ENT', '09'), ('CVE_LOC', '0001'), ('CVE_MUN', '010'), ('CVE_AGEB', '1858')])\n",
      "OrderedDict([('CVE_ENT', '09'), ('CVE_LOC', '0001'), ('CVE_MUN', '010'), ('CVE_AGEB', '1580')])\n",
      "OrderedDict([('CVE_ENT', '09'), ('CVE_LOC', '0001'), ('CVE_MUN', '010'), ('CVE_AGEB', '2199')])\n",
      "OrderedDict([('CVE_ENT', '09'), ('CVE_LOC', '0001'), ('CVE_MUN', '010'), ('CVE_AGEB', '2269')])\n",
      "OrderedDict([('CVE_ENT', '09'), ('CVE_LOC', '0001'), ('CVE_MUN', '010'), ('CVE_AGEB', '2273')])\n",
      "OrderedDict([('CVE_ENT', '09'), ('CVE_LOC', '0001'), ('CVE_MUN', '010'), ('CVE_AGEB', '1330')])\n",
      "OrderedDict([('CVE_ENT', '09'), ('CVE_LOC', '0001'), ('CVE_MUN', '010'), ('CVE_AGEB', '0489')])\n",
      "OrderedDict([('CVE_ENT', '09'), ('CVE_LOC', '0001'), ('CVE_MUN', '010'), ('CVE_AGEB', '181A')])\n",
      "OrderedDict([('CVE_ENT', '09'), ('CVE_LOC', '0001'), ('CVE_MUN', '010'), ('CVE_AGEB', '1472')])\n",
      "OrderedDict([('CVE_ENT', '09'), ('CVE_LOC', '0001'), ('CVE_MUN', '010'), ('CVE_AGEB', '1684')])\n",
      "OrderedDict([('CVE_ENT', '09'), ('CVE_LOC', '0001'), ('CVE_MUN', '010'), ('CVE_AGEB', '1665')])\n",
      "OrderedDict([('CVE_ENT', '09'), ('CVE_LOC', '0001'), ('CVE_MUN', '010'), ('CVE_AGEB', '1468')])\n",
      "OrderedDict([('CVE_ENT', '09'), ('CVE_LOC', '0001'), ('CVE_MUN', '010'), ('CVE_AGEB', '0309')])\n",
      "OrderedDict([('CVE_ENT', '09'), ('CVE_LOC', '0001'), ('CVE_MUN', '010'), ('CVE_AGEB', '0578')])\n",
      "OrderedDict([('CVE_ENT', '09'), ('CVE_LOC', '0001'), ('CVE_MUN', '010'), ('CVE_AGEB', '0597')])\n",
      "OrderedDict([('CVE_ENT', '09'), ('CVE_LOC', '0001'), ('CVE_MUN', '010'), ('CVE_AGEB', '0686')])\n",
      "OrderedDict([('CVE_ENT', '09'), ('CVE_LOC', '0001'), ('CVE_MUN', '010'), ('CVE_AGEB', '0690')])\n",
      "OrderedDict([('CVE_ENT', '09'), ('CVE_LOC', '0001'), ('CVE_MUN', '010'), ('CVE_AGEB', '0915')])\n",
      "OrderedDict([('CVE_ENT', '09'), ('CVE_LOC', '0001'), ('CVE_MUN', '010'), ('CVE_AGEB', '1754')])\n",
      "OrderedDict([('CVE_ENT', '09'), ('CVE_LOC', '0001'), ('CVE_MUN', '010'), ('CVE_AGEB', '0648')])\n",
      "OrderedDict([('CVE_ENT', '09'), ('CVE_LOC', '0001'), ('CVE_MUN', '010'), ('CVE_AGEB', '2216')])\n",
      "OrderedDict([('CVE_ENT', '09'), ('CVE_LOC', '0001'), ('CVE_MUN', '010'), ('CVE_AGEB', '1699')])\n",
      "OrderedDict([('CVE_ENT', '09'), ('CVE_LOC', '0001'), ('CVE_MUN', '010'), ('CVE_AGEB', '1275')])\n",
      "OrderedDict([('CVE_ENT', '09'), ('CVE_LOC', '0001'), ('CVE_MUN', '010'), ('CVE_AGEB', '1260')])\n",
      "OrderedDict([('CVE_ENT', '09'), ('CVE_LOC', '0001'), ('CVE_MUN', '010'), ('CVE_AGEB', '0065')])\n",
      "OrderedDict([('CVE_ENT', '09'), ('CVE_LOC', '0001'), ('CVE_MUN', '010'), ('CVE_AGEB', '1063')])\n",
      "OrderedDict([('CVE_ENT', '09'), ('CVE_LOC', '0001'), ('CVE_MUN', '010'), ('CVE_AGEB', '1542')])\n",
      "OrderedDict([('CVE_ENT', '09'), ('CVE_LOC', '0001'), ('CVE_MUN', '010'), ('CVE_AGEB', '2358')])\n",
      "OrderedDict([('CVE_ENT', '09'), ('CVE_LOC', '0001'), ('CVE_MUN', '010'), ('CVE_AGEB', '2057')])\n",
      "OrderedDict([('CVE_ENT', '09'), ('CVE_LOC', '0001'), ('CVE_MUN', '010'), ('CVE_AGEB', '2201')])\n",
      "OrderedDict([('CVE_ENT', '09'), ('CVE_LOC', '0001'), ('CVE_MUN', '010'), ('CVE_AGEB', '2061')])\n",
      "OrderedDict([('CVE_ENT', '09'), ('CVE_LOC', '0001'), ('CVE_MUN', '010'), ('CVE_AGEB', '1222')])\n",
      "OrderedDict([('CVE_ENT', '09'), ('CVE_LOC', '0001'), ('CVE_MUN', '010'), ('CVE_AGEB', '128A')])\n",
      "OrderedDict([('CVE_ENT', '09'), ('CVE_LOC', '0001'), ('CVE_MUN', '010'), ('CVE_AGEB', '1364')])\n",
      "OrderedDict([('CVE_ENT', '09'), ('CVE_LOC', '0001'), ('CVE_MUN', '010'), ('CVE_AGEB', '0027')])\n",
      "OrderedDict([('CVE_ENT', '09'), ('CVE_LOC', '0001'), ('CVE_MUN', '010'), ('CVE_AGEB', '0031')])\n",
      "OrderedDict([('CVE_ENT', '09'), ('CVE_LOC', '0001'), ('CVE_MUN', '010'), ('CVE_AGEB', '0135')])\n",
      "OrderedDict([('CVE_ENT', '09'), ('CVE_LOC', '0001'), ('CVE_MUN', '010'), ('CVE_AGEB', '0987')])\n",
      "OrderedDict([('CVE_ENT', '09'), ('CVE_LOC', '0001'), ('CVE_MUN', '010'), ('CVE_AGEB', '0991')])\n",
      "OrderedDict([('CVE_ENT', '09'), ('CVE_LOC', '0001'), ('CVE_MUN', '010'), ('CVE_AGEB', '1006')])\n",
      "OrderedDict([('CVE_ENT', '09'), ('CVE_LOC', '0001'), ('CVE_MUN', '010'), ('CVE_AGEB', '1769')])\n",
      "OrderedDict([('CVE_ENT', '09'), ('CVE_LOC', '0001'), ('CVE_MUN', '010'), ('CVE_AGEB', '2042')])\n",
      "OrderedDict([('CVE_ENT', '09'), ('CVE_LOC', '0001'), ('CVE_MUN', '010'), ('CVE_AGEB', '0718')])\n",
      "OrderedDict([('CVE_ENT', '09'), ('CVE_LOC', '0001'), ('CVE_MUN', '010'), ('CVE_AGEB', '1951')])\n",
      "OrderedDict([('CVE_ENT', '09'), ('CVE_LOC', '0001'), ('CVE_MUN', '010'), ('CVE_AGEB', '0012')])\n",
      "OrderedDict([('CVE_ENT', '09'), ('CVE_LOC', '0001'), ('CVE_MUN', '010'), ('CVE_AGEB', '021A')])\n",
      "OrderedDict([('CVE_ENT', '09'), ('CVE_LOC', '0001'), ('CVE_MUN', '010'), ('CVE_AGEB', '1044')])\n",
      "OrderedDict([('CVE_ENT', '09'), ('CVE_LOC', '0001'), ('CVE_MUN', '010'), ('CVE_AGEB', '0525')])\n",
      "OrderedDict([('CVE_ENT', '09'), ('CVE_LOC', '0001'), ('CVE_MUN', '010'), ('CVE_AGEB', '1129')])\n",
      "OrderedDict([('CVE_ENT', '09'), ('CVE_LOC', '0001'), ('CVE_MUN', '010'), ('CVE_AGEB', '053A')])\n",
      "OrderedDict([('CVE_ENT', '09'), ('CVE_LOC', '0001'), ('CVE_MUN', '010'), ('CVE_AGEB', '1970')])\n",
      "OrderedDict([('CVE_ENT', '09'), ('CVE_LOC', '0001'), ('CVE_MUN', '010'), ('CVE_AGEB', '0544')])\n",
      "OrderedDict([('CVE_ENT', '09'), ('CVE_LOC', '0001'), ('CVE_MUN', '010'), ('CVE_AGEB', '0811')])\n",
      "OrderedDict([('CVE_ENT', '09'), ('CVE_LOC', '0001'), ('CVE_MUN', '010'), ('CVE_AGEB', '0826')])\n",
      "OrderedDict([('CVE_ENT', '09'), ('CVE_LOC', '0001'), ('CVE_MUN', '010'), ('CVE_AGEB', '0830')])\n",
      "OrderedDict([('CVE_ENT', '09'), ('CVE_LOC', '0001'), ('CVE_MUN', '010'), ('CVE_AGEB', '0845')])\n",
      "OrderedDict([('CVE_ENT', '09'), ('CVE_LOC', '0001'), ('CVE_MUN', '010'), ('CVE_AGEB', '1010')])\n",
      "OrderedDict([('CVE_ENT', '09'), ('CVE_LOC', '0001'), ('CVE_MUN', '010'), ('CVE_AGEB', '0722')])\n",
      "OrderedDict([('CVE_ENT', '09'), ('CVE_LOC', '0001'), ('CVE_MUN', '010'), ('CVE_AGEB', '103A')])\n",
      "OrderedDict([('CVE_ENT', '09'), ('CVE_LOC', '0001'), ('CVE_MUN', '010'), ('CVE_AGEB', '0614')])\n",
      "OrderedDict([('CVE_ENT', '09'), ('CVE_LOC', '0001'), ('CVE_MUN', '010'), ('CVE_AGEB', '2362')])\n",
      "OrderedDict([('CVE_ENT', '09'), ('CVE_LOC', '0001'), ('CVE_MUN', '010'), ('CVE_AGEB', '0629')])\n",
      "OrderedDict([('CVE_ENT', '09'), ('CVE_LOC', '0001'), ('CVE_MUN', '010'), ('CVE_AGEB', '1881')])\n",
      "OrderedDict([('CVE_ENT', '09'), ('CVE_LOC', '0001'), ('CVE_MUN', '010'), ('CVE_AGEB', '1913')])\n",
      "OrderedDict([('CVE_ENT', '09'), ('CVE_LOC', '0001'), ('CVE_MUN', '010'), ('CVE_AGEB', '1928')])\n",
      "OrderedDict([('CVE_ENT', '09'), ('CVE_LOC', '0001'), ('CVE_MUN', '010'), ('CVE_AGEB', '1966')])\n",
      "OrderedDict([('CVE_ENT', '09'), ('CVE_LOC', '0001'), ('CVE_MUN', '010'), ('CVE_AGEB', '199A')])\n",
      "OrderedDict([('CVE_ENT', '09'), ('CVE_LOC', '0001'), ('CVE_MUN', '010'), ('CVE_AGEB', '2004')])\n",
      "OrderedDict([('CVE_ENT', '09'), ('CVE_LOC', '0001'), ('CVE_MUN', '010'), ('CVE_AGEB', '2019')])\n",
      "OrderedDict([('CVE_ENT', '09'), ('CVE_LOC', '0001'), ('CVE_MUN', '010'), ('CVE_AGEB', '2023')])\n",
      "OrderedDict([('CVE_ENT', '09'), ('CVE_LOC', '0001'), ('CVE_MUN', '010'), ('CVE_AGEB', '2038')])\n",
      "OrderedDict([('CVE_ENT', '09'), ('CVE_LOC', '0001'), ('CVE_MUN', '010'), ('CVE_AGEB', '2131')])\n",
      "OrderedDict([('CVE_ENT', '09'), ('CVE_LOC', '0001'), ('CVE_MUN', '010'), ('CVE_AGEB', '2165')])\n",
      "OrderedDict([('CVE_ENT', '09'), ('CVE_LOC', '0001'), ('CVE_MUN', '010'), ('CVE_AGEB', '2184')])\n",
      "OrderedDict([('CVE_ENT', '09'), ('CVE_LOC', '0001'), ('CVE_MUN', '010'), ('CVE_AGEB', '0084')])\n",
      "OrderedDict([('CVE_ENT', '09'), ('CVE_LOC', '0001'), ('CVE_MUN', '010'), ('CVE_AGEB', '2220')])\n",
      "OrderedDict([('CVE_ENT', '09'), ('CVE_LOC', '0001'), ('CVE_MUN', '010'), ('CVE_AGEB', '2235')])\n",
      "OrderedDict([('CVE_ENT', '09'), ('CVE_LOC', '0001'), ('CVE_MUN', '010'), ('CVE_AGEB', '224A')])\n",
      "OrderedDict([('CVE_ENT', '09'), ('CVE_LOC', '0001'), ('CVE_MUN', '010'), ('CVE_AGEB', '2254')])\n",
      "OrderedDict([('CVE_ENT', '09'), ('CVE_LOC', '0001'), ('CVE_MUN', '010'), ('CVE_AGEB', '2292')])\n",
      "OrderedDict([('CVE_ENT', '09'), ('CVE_LOC', '0001'), ('CVE_MUN', '010'), ('CVE_AGEB', '231A')])\n",
      "OrderedDict([('CVE_ENT', '09'), ('CVE_LOC', '0001'), ('CVE_MUN', '010'), ('CVE_AGEB', '2324')])\n",
      "OrderedDict([('CVE_ENT', '09'), ('CVE_LOC', '0001'), ('CVE_MUN', '010'), ('CVE_AGEB', '2339')])\n",
      "OrderedDict([('CVE_ENT', '09'), ('CVE_LOC', '0001'), ('CVE_MUN', '010'), ('CVE_AGEB', '1114')])\n",
      "OrderedDict([('CVE_ENT', '09'), ('CVE_LOC', '0001'), ('CVE_MUN', '010'), ('CVE_AGEB', '1078')])\n",
      "OrderedDict([('CVE_ENT', '09'), ('CVE_LOC', '0001'), ('CVE_MUN', '010'), ('CVE_AGEB', '2288')])\n",
      "OrderedDict([('CVE_ENT', '09'), ('CVE_LOC', '0001'), ('CVE_MUN', '010'), ('CVE_AGEB', '110A')])\n",
      "OrderedDict([('CVE_ENT', '09'), ('CVE_LOC', '0001'), ('CVE_MUN', '010'), ('CVE_AGEB', '1190')])\n",
      "OrderedDict([('CVE_ENT', '09'), ('CVE_LOC', '0001'), ('CVE_MUN', '010'), ('CVE_AGEB', '1203')])\n",
      "OrderedDict([('CVE_ENT', '09'), ('CVE_LOC', '0001'), ('CVE_MUN', '010'), ('CVE_AGEB', '0563')])\n",
      "OrderedDict([('CVE_ENT', '09'), ('CVE_LOC', '0001'), ('CVE_MUN', '010'), ('CVE_AGEB', '1148')])\n",
      "OrderedDict([('CVE_ENT', '09'), ('CVE_LOC', '0001'), ('CVE_MUN', '010'), ('CVE_AGEB', '167A')])\n",
      "OrderedDict([('CVE_ENT', '09'), ('CVE_LOC', '0001'), ('CVE_MUN', '010'), ('CVE_AGEB', '1519')])\n",
      "OrderedDict([('CVE_ENT', '09'), ('CVE_LOC', '0001'), ('CVE_MUN', '010'), ('CVE_AGEB', '1523')])\n",
      "OrderedDict([('CVE_ENT', '09'), ('CVE_LOC', '0001'), ('CVE_MUN', '010'), ('CVE_AGEB', '1627')])\n",
      "OrderedDict([('CVE_ENT', '09'), ('CVE_LOC', '0001'), ('CVE_MUN', '010'), ('CVE_AGEB', '1631')])\n",
      "OrderedDict([('CVE_ENT', '09'), ('CVE_LOC', '0001'), ('CVE_MUN', '010'), ('CVE_AGEB', '1646')])\n",
      "OrderedDict([('CVE_ENT', '09'), ('CVE_LOC', '0001'), ('CVE_MUN', '010'), ('CVE_AGEB', '1650')])\n",
      "OrderedDict([('CVE_ENT', '09'), ('CVE_LOC', '0001'), ('CVE_MUN', '010'), ('CVE_AGEB', '0046')])\n",
      "OrderedDict([('CVE_ENT', '09'), ('CVE_LOC', '0001'), ('CVE_MUN', '010'), ('CVE_AGEB', '0050')])\n",
      "OrderedDict([('CVE_ENT', '09'), ('CVE_LOC', '0001'), ('CVE_MUN', '010'), ('CVE_AGEB', '0101')])\n",
      "OrderedDict([('CVE_ENT', '09'), ('CVE_LOC', '0001'), ('CVE_MUN', '010'), ('CVE_AGEB', '0116')])\n",
      "OrderedDict([('CVE_ENT', '09'), ('CVE_LOC', '0001'), ('CVE_MUN', '010'), ('CVE_AGEB', '0493')])\n",
      "OrderedDict([('CVE_ENT', '09'), ('CVE_LOC', '0001'), ('CVE_MUN', '010'), ('CVE_AGEB', '0169')])\n",
      "OrderedDict([('CVE_ENT', '09'), ('CVE_LOC', '0001'), ('CVE_MUN', '010'), ('CVE_AGEB', '0173')])\n",
      "OrderedDict([('CVE_ENT', '09'), ('CVE_LOC', '0001'), ('CVE_MUN', '010'), ('CVE_AGEB', '0188')])\n",
      "OrderedDict([('CVE_ENT', '09'), ('CVE_LOC', '0001'), ('CVE_MUN', '010'), ('CVE_AGEB', '0224')])\n",
      "OrderedDict([('CVE_ENT', '09'), ('CVE_LOC', '0001'), ('CVE_MUN', '010'), ('CVE_AGEB', '0239')])\n",
      "OrderedDict([('CVE_ENT', '09'), ('CVE_LOC', '0001'), ('CVE_MUN', '010'), ('CVE_AGEB', '0421')])\n",
      "OrderedDict([('CVE_ENT', '09'), ('CVE_LOC', '0001'), ('CVE_MUN', '010'), ('CVE_AGEB', '0807')])\n",
      "OrderedDict([('CVE_ENT', '09'), ('CVE_LOC', '0001'), ('CVE_MUN', '010'), ('CVE_AGEB', '0243')])\n",
      "OrderedDict([('CVE_ENT', '09'), ('CVE_LOC', '0001'), ('CVE_MUN', '010'), ('CVE_AGEB', '0258')])\n",
      "OrderedDict([('CVE_ENT', '09'), ('CVE_LOC', '0001'), ('CVE_MUN', '010'), ('CVE_AGEB', '0262')])\n",
      "OrderedDict([('CVE_ENT', '09'), ('CVE_LOC', '0001'), ('CVE_MUN', '010'), ('CVE_AGEB', '0277')])\n",
      "OrderedDict([('CVE_ENT', '09'), ('CVE_LOC', '0001'), ('CVE_MUN', '010'), ('CVE_AGEB', '0192')])\n",
      "OrderedDict([('CVE_ENT', '09'), ('CVE_LOC', '0001'), ('CVE_MUN', '010'), ('CVE_AGEB', '0506')])\n",
      "OrderedDict([('CVE_ENT', '09'), ('CVE_LOC', '0001'), ('CVE_MUN', '010'), ('CVE_AGEB', '0313')])\n",
      "OrderedDict([('CVE_ENT', '09'), ('CVE_LOC', '0001'), ('CVE_MUN', '010'), ('CVE_AGEB', '0328')])\n",
      "OrderedDict([('CVE_ENT', '09'), ('CVE_LOC', '0001'), ('CVE_MUN', '010'), ('CVE_AGEB', '0332')])\n",
      "OrderedDict([('CVE_ENT', '09'), ('CVE_LOC', '0001'), ('CVE_MUN', '010'), ('CVE_AGEB', '0347')])\n",
      "OrderedDict([('CVE_ENT', '09'), ('CVE_LOC', '0001'), ('CVE_MUN', '010'), ('CVE_AGEB', '0351')])\n",
      "OrderedDict([('CVE_ENT', '09'), ('CVE_LOC', '0001'), ('CVE_MUN', '010'), ('CVE_AGEB', '0370')])\n",
      "OrderedDict([('CVE_ENT', '09'), ('CVE_LOC', '0001'), ('CVE_MUN', '010'), ('CVE_AGEB', '0440')])\n",
      "OrderedDict([('CVE_ENT', '09'), ('CVE_LOC', '0001'), ('CVE_MUN', '010'), ('CVE_AGEB', '0474')])\n",
      "OrderedDict([('CVE_ENT', '09'), ('CVE_LOC', '0001'), ('CVE_MUN', '010'), ('CVE_AGEB', '0296')])\n",
      "OrderedDict([('CVE_ENT', '09'), ('CVE_LOC', '0001'), ('CVE_MUN', '010'), ('CVE_AGEB', '060A')])\n",
      "OrderedDict([('CVE_ENT', '09'), ('CVE_LOC', '0001'), ('CVE_MUN', '010'), ('CVE_AGEB', '0667')])\n",
      "OrderedDict([('CVE_ENT', '09'), ('CVE_LOC', '0001'), ('CVE_MUN', '010'), ('CVE_AGEB', '0671')])\n",
      "OrderedDict([('CVE_ENT', '09'), ('CVE_LOC', '0001'), ('CVE_MUN', '010'), ('CVE_AGEB', '0737')])\n",
      "OrderedDict([('CVE_ENT', '09'), ('CVE_LOC', '0001'), ('CVE_MUN', '010'), ('CVE_AGEB', '0741')])\n",
      "OrderedDict([('CVE_ENT', '09'), ('CVE_LOC', '0001'), ('CVE_MUN', '010'), ('CVE_AGEB', '0559')])\n",
      "OrderedDict([('CVE_ENT', '09'), ('CVE_LOC', '0001'), ('CVE_MUN', '010'), ('CVE_AGEB', '0756')])\n",
      "OrderedDict([('CVE_ENT', '09'), ('CVE_LOC', '0001'), ('CVE_MUN', '010'), ('CVE_AGEB', '0760')])\n",
      "OrderedDict([('CVE_ENT', '09'), ('CVE_LOC', '0001'), ('CVE_MUN', '010'), ('CVE_AGEB', '0775')])\n",
      "OrderedDict([('CVE_ENT', '09'), ('CVE_LOC', '0001'), ('CVE_MUN', '010'), ('CVE_AGEB', '092A')])\n",
      "OrderedDict([('CVE_ENT', '09'), ('CVE_LOC', '0001'), ('CVE_MUN', '010'), ('CVE_AGEB', '0949')])\n",
      "OrderedDict([('CVE_ENT', '09'), ('CVE_LOC', '0001'), ('CVE_MUN', '010'), ('CVE_AGEB', '0953')])\n",
      "OrderedDict([('CVE_ENT', '09'), ('CVE_LOC', '0001'), ('CVE_MUN', '010'), ('CVE_AGEB', '0968')])\n",
      "OrderedDict([('CVE_ENT', '09'), ('CVE_LOC', '0001'), ('CVE_MUN', '010'), ('CVE_AGEB', '0972')])\n",
      "OrderedDict([('CVE_ENT', '09'), ('CVE_LOC', '0001'), ('CVE_MUN', '010'), ('CVE_AGEB', '1843')])\n",
      "OrderedDict([('CVE_ENT', '09'), ('CVE_LOC', '0001'), ('CVE_MUN', '010'), ('CVE_AGEB', '2146')])\n",
      "OrderedDict([('CVE_ENT', '09'), ('CVE_LOC', '0001'), ('CVE_MUN', '010'), ('CVE_AGEB', '0385')])\n",
      "OrderedDict([('CVE_ENT', '09'), ('CVE_LOC', '0001'), ('CVE_MUN', '010'), ('CVE_AGEB', '0633')])\n",
      "OrderedDict([('CVE_ENT', '09'), ('CVE_LOC', '0001'), ('CVE_MUN', '010'), ('CVE_AGEB', '1453')])\n",
      "OrderedDict([('CVE_ENT', '09'), ('CVE_LOC', '0001'), ('CVE_MUN', '010'), ('CVE_AGEB', '1059')])\n",
      "OrderedDict([('CVE_ENT', '09'), ('CVE_LOC', '0001'), ('CVE_MUN', '010'), ('CVE_AGEB', '0205')])\n",
      "OrderedDict([('CVE_ENT', '09'), ('CVE_LOC', '0001'), ('CVE_MUN', '010'), ('CVE_AGEB', '1792')])\n",
      "OrderedDict([('CVE_ENT', '09'), ('CVE_LOC', '0001'), ('CVE_MUN', '010'), ('CVE_AGEB', '2377')])\n",
      "OrderedDict([('CVE_ENT', '09'), ('CVE_LOC', '0001'), ('CVE_MUN', '010'), ('CVE_AGEB', '2343')])\n",
      "OrderedDict([('CVE_ENT', '09'), ('CVE_LOC', '0001'), ('CVE_MUN', '010'), ('CVE_AGEB', '2381')])\n",
      "OrderedDict([('CVE_ENT', '09'), ('CVE_LOC', '0001'), ('CVE_MUN', '010'), ('CVE_AGEB', '1824')])\n",
      "OrderedDict([('CVE_ENT', '09'), ('CVE_LOC', '0001'), ('CVE_MUN', '010'), ('CVE_AGEB', '174A')])\n",
      "OrderedDict([('CVE_ENT', '09'), ('CVE_LOC', '0001'), ('CVE_MUN', '010'), ('CVE_AGEB', '1735')])\n",
      "OrderedDict([('CVE_ENT', '09'), ('CVE_LOC', '0001'), ('CVE_MUN', '010'), ('CVE_AGEB', '0510')])\n",
      "OrderedDict([('CVE_ENT', '09'), ('CVE_LOC', '0001'), ('CVE_MUN', '010'), ('CVE_AGEB', '1932')])\n",
      "OrderedDict([('CVE_ENT', '09'), ('CVE_LOC', '0001'), ('CVE_MUN', '010'), ('CVE_AGEB', '1947')])\n",
      "OrderedDict([('CVE_ENT', '09'), ('CVE_LOC', '0001'), ('CVE_MUN', '010'), ('CVE_AGEB', '2080')])\n",
      "OrderedDict([('CVE_ENT', '09'), ('CVE_LOC', '0001'), ('CVE_MUN', '010'), ('CVE_AGEB', '2108')])\n",
      "OrderedDict([('CVE_ENT', '09'), ('CVE_LOC', '0001'), ('CVE_MUN', '010'), ('CVE_AGEB', '2095')])\n",
      "OrderedDict([('CVE_ENT', '09'), ('CVE_LOC', '0001'), ('CVE_MUN', '010'), ('CVE_AGEB', '2112')])\n",
      "OrderedDict([('CVE_ENT', '09'), ('CVE_LOC', '0001'), ('CVE_MUN', '010'), ('CVE_AGEB', '2305')])\n",
      "OrderedDict([('CVE_ENT', '09'), ('CVE_LOC', '0001'), ('CVE_MUN', '010'), ('CVE_AGEB', '1171')])\n",
      "OrderedDict([('CVE_ENT', '09'), ('CVE_LOC', '0001'), ('CVE_MUN', '010'), ('CVE_AGEB', '1152')])\n",
      "OrderedDict([('CVE_ENT', '09'), ('CVE_LOC', '0001'), ('CVE_MUN', '010'), ('CVE_AGEB', '1186')])\n",
      "OrderedDict([('CVE_ENT', '09'), ('CVE_LOC', '0001'), ('CVE_MUN', '010'), ('CVE_AGEB', '078A')])\n",
      "OrderedDict([('CVE_ENT', '09'), ('CVE_LOC', '0001'), ('CVE_MUN', '010'), ('CVE_AGEB', '1595')])\n",
      "OrderedDict([('CVE_ENT', '09'), ('CVE_LOC', '0001'), ('CVE_MUN', '010'), ('CVE_AGEB', '1294')])\n",
      "OrderedDict([('CVE_ENT', '09'), ('CVE_LOC', '0001'), ('CVE_MUN', '010'), ('CVE_AGEB', '1487')])\n",
      "OrderedDict([('CVE_ENT', '09'), ('CVE_LOC', '0001'), ('CVE_MUN', '010'), ('CVE_AGEB', '0794')])\n",
      "OrderedDict([('CVE_ENT', '09'), ('CVE_LOC', '0001'), ('CVE_MUN', '010'), ('CVE_AGEB', '1985')])\n",
      "OrderedDict([('CVE_ENT', '09'), ('CVE_LOC', '0001'), ('CVE_MUN', '010'), ('CVE_AGEB', '1345')])\n",
      "OrderedDict([('CVE_ENT', '09'), ('CVE_LOC', '0001'), ('CVE_MUN', '010'), ('CVE_AGEB', '1557')])\n",
      "OrderedDict([('CVE_ENT', '09'), ('CVE_LOC', '0001'), ('CVE_MUN', '010'), ('CVE_AGEB', '1561')])\n",
      "OrderedDict([('CVE_ENT', '09'), ('CVE_LOC', '0001'), ('CVE_MUN', '010'), ('CVE_AGEB', '1434')])\n",
      "OrderedDict([('CVE_ENT', '09'), ('CVE_LOC', '0001'), ('CVE_MUN', '010'), ('CVE_AGEB', '0417')])\n",
      "OrderedDict([('CVE_ENT', '09'), ('CVE_LOC', '0001'), ('CVE_MUN', '010'), ('CVE_AGEB', '0455')])\n",
      "OrderedDict([('CVE_ENT', '09'), ('CVE_LOC', '0001'), ('CVE_MUN', '010'), ('CVE_AGEB', '014A')])\n",
      "OrderedDict([('CVE_ENT', '09'), ('CVE_LOC', '0001'), ('CVE_MUN', '010'), ('CVE_AGEB', '0703')])\n",
      "OrderedDict([('CVE_ENT', '09'), ('CVE_LOC', '0001'), ('CVE_MUN', '010'), ('CVE_AGEB', '0864')])\n",
      "OrderedDict([('CVE_ENT', '09'), ('CVE_LOC', '0001'), ('CVE_MUN', '010'), ('CVE_AGEB', '0898')])\n",
      "OrderedDict([('CVE_ENT', '09'), ('CVE_LOC', '0001'), ('CVE_MUN', '010'), ('CVE_AGEB', '0900')])\n",
      "OrderedDict([('CVE_ENT', '09'), ('CVE_LOC', '0001'), ('CVE_MUN', '010'), ('CVE_AGEB', '1025')])\n",
      "OrderedDict([('CVE_ENT', '09'), ('CVE_LOC', '0001'), ('CVE_MUN', '010'), ('CVE_AGEB', '1773')])\n",
      "OrderedDict([('CVE_ENT', '09'), ('CVE_LOC', '0001'), ('CVE_MUN', '010'), ('CVE_AGEB', '1805')])\n",
      "OrderedDict([('CVE_ENT', '09'), ('CVE_LOC', '0001'), ('CVE_MUN', '010'), ('CVE_AGEB', '1788')])\n",
      "OrderedDict([('CVE_ENT', '09'), ('CVE_LOC', '0001'), ('CVE_MUN', '010'), ('CVE_AGEB', '1839')])\n",
      "OrderedDict([('CVE_ENT', '09'), ('CVE_LOC', '0001'), ('CVE_MUN', '010'), ('CVE_AGEB', '2076')])\n",
      "OrderedDict([('CVE_ENT', '09'), ('CVE_LOC', '0001'), ('CVE_MUN', '010'), ('CVE_AGEB', '0099')])\n",
      "OrderedDict([('CVE_ENT', '09'), ('CVE_LOC', '0001'), ('CVE_MUN', '011'), ('CVE_AGEB', '1323')])\n",
      "OrderedDict([('CVE_ENT', '09'), ('CVE_LOC', '0001'), ('CVE_MUN', '011'), ('CVE_AGEB', '1446')])\n",
      "OrderedDict([('CVE_ENT', '09'), ('CVE_LOC', '0001'), ('CVE_MUN', '011'), ('CVE_AGEB', '108A')])\n",
      "OrderedDict([('CVE_ENT', '09'), ('CVE_LOC', '0001'), ('CVE_MUN', '011'), ('CVE_AGEB', '0132')])\n",
      "OrderedDict([('CVE_ENT', '09'), ('CVE_LOC', '0001'), ('CVE_MUN', '011'), ('CVE_AGEB', '0452')])\n",
      "OrderedDict([('CVE_ENT', '09'), ('CVE_LOC', '0001'), ('CVE_MUN', '011'), ('CVE_AGEB', '0594')])\n",
      "OrderedDict([('CVE_ENT', '09'), ('CVE_LOC', '0001'), ('CVE_MUN', '011'), ('CVE_AGEB', '0772')])\n",
      "OrderedDict([('CVE_ENT', '09'), ('CVE_LOC', '0001'), ('CVE_MUN', '011'), ('CVE_AGEB', '0819')])\n",
      "OrderedDict([('CVE_ENT', '09'), ('CVE_LOC', '0001'), ('CVE_MUN', '011'), ('CVE_AGEB', '1111')])\n",
      "OrderedDict([('CVE_ENT', '09'), ('CVE_LOC', '0021'), ('CVE_MUN', '011'), ('CVE_AGEB', '1516')])\n",
      "OrderedDict([('CVE_ENT', '09'), ('CVE_LOC', '0001'), ('CVE_MUN', '011'), ('CVE_AGEB', '1357')])\n",
      "OrderedDict([('CVE_ENT', '09'), ('CVE_LOC', '0001'), ('CVE_MUN', '011'), ('CVE_AGEB', '1376')])\n",
      "OrderedDict([('CVE_ENT', '09'), ('CVE_LOC', '0001'), ('CVE_MUN', '011'), ('CVE_AGEB', '1380')])\n",
      "OrderedDict([('CVE_ENT', '09'), ('CVE_LOC', '0001'), ('CVE_MUN', '011'), ('CVE_AGEB', '1412')])\n",
      "OrderedDict([('CVE_ENT', '09'), ('CVE_LOC', '0021'), ('CVE_MUN', '011'), ('CVE_AGEB', '0787')])\n",
      "OrderedDict([('CVE_ENT', '09'), ('CVE_LOC', '0001'), ('CVE_MUN', '011'), ('CVE_AGEB', '1499')])\n",
      "OrderedDict([('CVE_ENT', '09'), ('CVE_LOC', '0001'), ('CVE_MUN', '011'), ('CVE_AGEB', '154A')])\n",
      "OrderedDict([('CVE_ENT', '09'), ('CVE_LOC', '0011'), ('CVE_MUN', '011'), ('CVE_AGEB', '072A')])\n",
      "OrderedDict([('CVE_ENT', '09'), ('CVE_LOC', '0011'), ('CVE_MUN', '011'), ('CVE_AGEB', '1041')])\n",
      "OrderedDict([('CVE_ENT', '09'), ('CVE_LOC', '0021'), ('CVE_MUN', '011'), ('CVE_AGEB', '1003')])\n",
      "OrderedDict([('CVE_ENT', '09'), ('CVE_LOC', '0021'), ('CVE_MUN', '011'), ('CVE_AGEB', '1018')])\n",
      "OrderedDict([('CVE_ENT', '09'), ('CVE_LOC', '0021'), ('CVE_MUN', '011'), ('CVE_AGEB', '115A')])\n",
      "OrderedDict([('CVE_ENT', '09'), ('CVE_LOC', '0024'), ('CVE_MUN', '011'), ('CVE_AGEB', '0734')])\n",
      "OrderedDict([('CVE_ENT', '09'), ('CVE_LOC', '0001'), ('CVE_MUN', '011'), ('CVE_AGEB', '1395')])\n",
      "OrderedDict([('CVE_ENT', '09'), ('CVE_LOC', '0024'), ('CVE_MUN', '011'), ('CVE_AGEB', '1408')])\n",
      "OrderedDict([('CVE_ENT', '09'), ('CVE_LOC', '0011'), ('CVE_MUN', '011'), ('CVE_AGEB', '1037')])\n",
      "OrderedDict([('CVE_ENT', '09'), ('CVE_LOC', '0026'), ('CVE_MUN', '011'), ('CVE_AGEB', '0965')])\n",
      "OrderedDict([('CVE_ENT', '09'), ('CVE_LOC', '0026'), ('CVE_MUN', '011'), ('CVE_AGEB', '097A')])\n",
      "OrderedDict([('CVE_ENT', '09'), ('CVE_LOC', '0026'), ('CVE_MUN', '011'), ('CVE_AGEB', '1164')])\n",
      "OrderedDict([('CVE_ENT', '09'), ('CVE_LOC', '0001'), ('CVE_MUN', '011'), ('CVE_AGEB', '0768')])\n",
      "OrderedDict([('CVE_ENT', '09'), ('CVE_LOC', '0001'), ('CVE_MUN', '011'), ('CVE_AGEB', '040A')])\n",
      "OrderedDict([('CVE_ENT', '09'), ('CVE_LOC', '0001'), ('CVE_MUN', '011'), ('CVE_AGEB', '1075')])\n",
      "OrderedDict([('CVE_ENT', '09'), ('CVE_LOC', '0001'), ('CVE_MUN', '011'), ('CVE_AGEB', '0310')])\n",
      "OrderedDict([('CVE_ENT', '09'), ('CVE_LOC', '0001'), ('CVE_MUN', '011'), ('CVE_AGEB', '1427')])\n",
      "OrderedDict([('CVE_ENT', '09'), ('CVE_LOC', '0001'), ('CVE_MUN', '011'), ('CVE_AGEB', '1361')])\n",
      "OrderedDict([('CVE_ENT', '09'), ('CVE_LOC', '0001'), ('CVE_MUN', '011'), ('CVE_AGEB', '0630')])\n",
      "OrderedDict([('CVE_ENT', '09'), ('CVE_LOC', '0001'), ('CVE_MUN', '011'), ('CVE_AGEB', '0823')])\n",
      "OrderedDict([('CVE_ENT', '09'), ('CVE_LOC', '0001'), ('CVE_MUN', '011'), ('CVE_AGEB', '0999')])\n",
      "OrderedDict([('CVE_ENT', '09'), ('CVE_LOC', '0001'), ('CVE_MUN', '011'), ('CVE_AGEB', '0058')])\n",
      "OrderedDict([('CVE_ENT', '09'), ('CVE_LOC', '0001'), ('CVE_MUN', '011'), ('CVE_AGEB', '0151')])\n",
      "OrderedDict([('CVE_ENT', '09'), ('CVE_LOC', '0001'), ('CVE_MUN', '011'), ('CVE_AGEB', '1056')])\n",
      "OrderedDict([('CVE_ENT', '09'), ('CVE_LOC', '0001'), ('CVE_MUN', '011'), ('CVE_AGEB', '0185')])\n",
      "OrderedDict([('CVE_ENT', '09'), ('CVE_LOC', '0001'), ('CVE_MUN', '011'), ('CVE_AGEB', '0325')])\n",
      "OrderedDict([('CVE_ENT', '09'), ('CVE_LOC', '0001'), ('CVE_MUN', '011'), ('CVE_AGEB', '0344')])\n",
      "OrderedDict([('CVE_ENT', '09'), ('CVE_LOC', '0001'), ('CVE_MUN', '011'), ('CVE_AGEB', '001A')])\n",
      "OrderedDict([('CVE_ENT', '09'), ('CVE_LOC', '0001'), ('CVE_MUN', '011'), ('CVE_AGEB', '0607')])\n",
      "OrderedDict([('CVE_ENT', '09'), ('CVE_LOC', '0001'), ('CVE_MUN', '011'), ('CVE_AGEB', '0753')])\n",
      "OrderedDict([('CVE_ENT', '09'), ('CVE_LOC', '0001'), ('CVE_MUN', '011'), ('CVE_AGEB', '0804')])\n",
      "OrderedDict([('CVE_ENT', '09'), ('CVE_LOC', '0001'), ('CVE_MUN', '011'), ('CVE_AGEB', '0984')])\n",
      "OrderedDict([('CVE_ENT', '09'), ('CVE_LOC', '0001'), ('CVE_MUN', '011'), ('CVE_AGEB', '1094')])\n",
      "OrderedDict([('CVE_ENT', '09'), ('CVE_LOC', '0001'), ('CVE_MUN', '011'), ('CVE_AGEB', '122A')])\n",
      "OrderedDict([('CVE_ENT', '09'), ('CVE_LOC', '0001'), ('CVE_MUN', '011'), ('CVE_AGEB', '1249')])\n",
      "OrderedDict([('CVE_ENT', '09'), ('CVE_LOC', '0001'), ('CVE_MUN', '011'), ('CVE_AGEB', '1253')])\n",
      "OrderedDict([('CVE_ENT', '09'), ('CVE_LOC', '0001'), ('CVE_MUN', '011'), ('CVE_AGEB', '1287')])\n",
      "OrderedDict([('CVE_ENT', '09'), ('CVE_LOC', '0001'), ('CVE_MUN', '011'), ('CVE_AGEB', '1304')])\n",
      "OrderedDict([('CVE_ENT', '09'), ('CVE_LOC', '0001'), ('CVE_MUN', '011'), ('CVE_AGEB', '1338')])\n",
      "OrderedDict([('CVE_ENT', '09'), ('CVE_LOC', '0001'), ('CVE_MUN', '011'), ('CVE_AGEB', '1431')])\n",
      "OrderedDict([('CVE_ENT', '09'), ('CVE_LOC', '0001'), ('CVE_MUN', '011'), ('CVE_AGEB', '1465')])\n",
      "OrderedDict([('CVE_ENT', '09'), ('CVE_LOC', '0001'), ('CVE_MUN', '011'), ('CVE_AGEB', '147A')])\n",
      "OrderedDict([('CVE_ENT', '09'), ('CVE_LOC', '0001'), ('CVE_MUN', '011'), ('CVE_AGEB', '1484')])\n",
      "OrderedDict([('CVE_ENT', '09'), ('CVE_LOC', '0001'), ('CVE_MUN', '011'), ('CVE_AGEB', '1450')])\n",
      "OrderedDict([('CVE_ENT', '09'), ('CVE_LOC', '0001'), ('CVE_MUN', '011'), ('CVE_AGEB', '1535')])\n",
      "OrderedDict([('CVE_ENT', '09'), ('CVE_LOC', '0001'), ('CVE_MUN', '011'), ('CVE_AGEB', '0077')])\n",
      "OrderedDict([('CVE_ENT', '09'), ('CVE_LOC', '0001'), ('CVE_MUN', '011'), ('CVE_AGEB', '0414')])\n",
      "OrderedDict([('CVE_ENT', '09'), ('CVE_LOC', '0024'), ('CVE_MUN', '011'), ('CVE_AGEB', '0749')])\n",
      "OrderedDict([('CVE_ENT', '09'), ('CVE_LOC', '0001'), ('CVE_MUN', '011'), ('CVE_AGEB', '0626')])\n",
      "OrderedDict([('CVE_ENT', '09'), ('CVE_LOC', '0001'), ('CVE_MUN', '011'), ('CVE_AGEB', '0274')])\n",
      "OrderedDict([('CVE_ENT', '09'), ('CVE_LOC', '0001'), ('CVE_MUN', '011'), ('CVE_AGEB', '026A')])\n",
      "OrderedDict([('CVE_ENT', '09'), ('CVE_LOC', '0001'), ('CVE_MUN', '011'), ('CVE_AGEB', '0679')])\n",
      "OrderedDict([('CVE_ENT', '09'), ('CVE_LOC', '0001'), ('CVE_MUN', '011'), ('CVE_AGEB', '0240')])\n",
      "OrderedDict([('CVE_ENT', '09'), ('CVE_LOC', '0001'), ('CVE_MUN', '011'), ('CVE_AGEB', '0166')])\n",
      "OrderedDict([('CVE_ENT', '09'), ('CVE_LOC', '0001'), ('CVE_MUN', '011'), ('CVE_AGEB', '0170')])\n",
      "OrderedDict([('CVE_ENT', '09'), ('CVE_LOC', '0001'), ('CVE_MUN', '011'), ('CVE_AGEB', '0927')])\n",
      "OrderedDict([('CVE_ENT', '09'), ('CVE_LOC', '0001'), ('CVE_MUN', '011'), ('CVE_AGEB', '0202')])\n",
      "OrderedDict([('CVE_ENT', '09'), ('CVE_LOC', '0001'), ('CVE_MUN', '011'), ('CVE_AGEB', '0217')])\n",
      "OrderedDict([('CVE_ENT', '09'), ('CVE_LOC', '0001'), ('CVE_MUN', '011'), ('CVE_AGEB', '0397')])\n",
      "OrderedDict([('CVE_ENT', '09'), ('CVE_LOC', '0001'), ('CVE_MUN', '011'), ('CVE_AGEB', '065A')])\n",
      "OrderedDict([('CVE_ENT', '09'), ('CVE_LOC', '0001'), ('CVE_MUN', '011'), ('CVE_AGEB', '0306')])\n",
      "OrderedDict([('CVE_ENT', '09'), ('CVE_LOC', '0001'), ('CVE_MUN', '011'), ('CVE_AGEB', '0645')])\n",
      "OrderedDict([('CVE_ENT', '09'), ('CVE_LOC', '0024'), ('CVE_MUN', '011'), ('CVE_AGEB', '1520')])\n",
      "OrderedDict([('CVE_ENT', '09'), ('CVE_LOC', '0001'), ('CVE_MUN', '011'), ('CVE_AGEB', '0289')])\n",
      "OrderedDict([('CVE_ENT', '09'), ('CVE_LOC', '0001'), ('CVE_MUN', '011'), ('CVE_AGEB', '0043')])\n",
      "OrderedDict([('CVE_ENT', '09'), ('CVE_LOC', '0024'), ('CVE_MUN', '011'), ('CVE_AGEB', '1183')])\n",
      "OrderedDict([('CVE_ENT', '09'), ('CVE_LOC', '0001'), ('CVE_MUN', '011'), ('CVE_AGEB', '0664')])\n",
      "OrderedDict([('CVE_ENT', '09'), ('CVE_LOC', '0001'), ('CVE_MUN', '011'), ('CVE_AGEB', '0039')])\n",
      "OrderedDict([('CVE_ENT', '09'), ('CVE_LOC', '0001'), ('CVE_MUN', '011'), ('CVE_AGEB', '0113')])\n",
      "OrderedDict([('CVE_ENT', '09'), ('CVE_LOC', '0001'), ('CVE_MUN', '011'), ('CVE_AGEB', '0096')])\n",
      "OrderedDict([('CVE_ENT', '09'), ('CVE_LOC', '0001'), ('CVE_MUN', '011'), ('CVE_AGEB', '0128')])\n",
      "OrderedDict([('CVE_ENT', '09'), ('CVE_LOC', '0001'), ('CVE_MUN', '011'), ('CVE_AGEB', '0382')])\n",
      "OrderedDict([('CVE_ENT', '09'), ('CVE_LOC', '0001'), ('CVE_MUN', '011'), ('CVE_AGEB', '0147')])\n",
      "OrderedDict([('CVE_ENT', '09'), ('CVE_LOC', '0001'), ('CVE_MUN', '011'), ('CVE_AGEB', '0359')])\n",
      "OrderedDict([('CVE_ENT', '09'), ('CVE_LOC', '0001'), ('CVE_MUN', '011'), ('CVE_AGEB', '0363')])\n",
      "OrderedDict([('CVE_ENT', '09'), ('CVE_LOC', '0001'), ('CVE_MUN', '011'), ('CVE_AGEB', '0378')])\n",
      "OrderedDict([('CVE_ENT', '09'), ('CVE_LOC', '0001'), ('CVE_MUN', '011'), ('CVE_AGEB', '0575')])\n",
      "OrderedDict([('CVE_ENT', '09'), ('CVE_LOC', '0001'), ('CVE_MUN', '011'), ('CVE_AGEB', '0433')])\n",
      "OrderedDict([('CVE_ENT', '09'), ('CVE_LOC', '0001'), ('CVE_MUN', '011'), ('CVE_AGEB', '0448')])\n",
      "OrderedDict([('CVE_ENT', '09'), ('CVE_LOC', '0001'), ('CVE_MUN', '011'), ('CVE_AGEB', '0950')])\n",
      "OrderedDict([('CVE_ENT', '09'), ('CVE_LOC', '0001'), ('CVE_MUN', '011'), ('CVE_AGEB', '1342')])\n",
      "OrderedDict([('CVE_ENT', '09'), ('CVE_LOC', '0001'), ('CVE_MUN', '011'), ('CVE_AGEB', '1145')])\n",
      "OrderedDict([('CVE_ENT', '09'), ('CVE_LOC', '0001'), ('CVE_MUN', '011'), ('CVE_AGEB', '1234')])\n",
      "OrderedDict([('CVE_ENT', '09'), ('CVE_LOC', '0001'), ('CVE_MUN', '011'), ('CVE_AGEB', '0931')])\n",
      "OrderedDict([('CVE_ENT', '09'), ('CVE_LOC', '0001'), ('CVE_MUN', '011'), ('CVE_AGEB', '0946')])\n",
      "OrderedDict([('CVE_ENT', '09'), ('CVE_LOC', '0001'), ('CVE_MUN', '011'), ('CVE_AGEB', '1272')])\n",
      "OrderedDict([('CVE_ENT', '09'), ('CVE_LOC', '0001'), ('CVE_MUN', '011'), ('CVE_AGEB', '1291')])\n",
      "OrderedDict([('CVE_ENT', '09'), ('CVE_LOC', '0001'), ('CVE_MUN', '011'), ('CVE_AGEB', '1319')])\n",
      "OrderedDict([('CVE_ENT', '09'), ('CVE_LOC', '0001'), ('CVE_MUN', '011'), ('CVE_AGEB', '1268')])\n",
      "OrderedDict([('CVE_ENT', '09'), ('CVE_LOC', '0021'), ('CVE_MUN', '011'), ('CVE_AGEB', '0791')])\n",
      "OrderedDict([('CVE_ENT', '09'), ('CVE_LOC', '0021'), ('CVE_MUN', '011'), ('CVE_AGEB', '1022')])\n",
      "OrderedDict([('CVE_ENT', '09'), ('CVE_LOC', '0026'), ('CVE_MUN', '011'), ('CVE_AGEB', '1501')])\n",
      "OrderedDict([('CVE_ENT', '09'), ('CVE_LOC', '0001'), ('CVE_MUN', '011'), ('CVE_AGEB', '0255')])\n",
      "OrderedDict([('CVE_ENT', '09'), ('CVE_LOC', '0001'), ('CVE_MUN', '012'), ('CVE_AGEB', '0604')])\n",
      "OrderedDict([('CVE_ENT', '09'), ('CVE_LOC', '0001'), ('CVE_MUN', '012'), ('CVE_AGEB', '1072')])\n",
      "OrderedDict([('CVE_ENT', '09'), ('CVE_LOC', '0001'), ('CVE_MUN', '012'), ('CVE_AGEB', '1424')])\n",
      "OrderedDict([('CVE_ENT', '09'), ('CVE_LOC', '0001'), ('CVE_MUN', '012'), ('CVE_AGEB', '0498')])\n",
      "OrderedDict([('CVE_ENT', '09'), ('CVE_LOC', '0001'), ('CVE_MUN', '012'), ('CVE_AGEB', '0125')])\n",
      "OrderedDict([('CVE_ENT', '09'), ('CVE_LOC', '0001'), ('CVE_MUN', '012'), ('CVE_AGEB', '0445')])\n",
      "OrderedDict([('CVE_ENT', '09'), ('CVE_LOC', '0001'), ('CVE_MUN', '012'), ('CVE_AGEB', '0074')])\n",
      "OrderedDict([('CVE_ENT', '09'), ('CVE_LOC', '0001'), ('CVE_MUN', '012'), ('CVE_AGEB', '0159')])\n",
      "OrderedDict([('CVE_ENT', '09'), ('CVE_LOC', '0001'), ('CVE_MUN', '012'), ('CVE_AGEB', '045A')])\n",
      "OrderedDict([('CVE_ENT', '09'), ('CVE_LOC', '0001'), ('CVE_MUN', '012'), ('CVE_AGEB', '0411')])\n",
      "OrderedDict([('CVE_ENT', '09'), ('CVE_LOC', '0001'), ('CVE_MUN', '012'), ('CVE_AGEB', '0017')])\n",
      "OrderedDict([('CVE_ENT', '09'), ('CVE_LOC', '0001'), ('CVE_MUN', '012'), ('CVE_AGEB', '0214')])\n",
      "OrderedDict([('CVE_ENT', '09'), ('CVE_LOC', '0001'), ('CVE_MUN', '012'), ('CVE_AGEB', '077A')])\n",
      "OrderedDict([('CVE_ENT', '09'), ('CVE_LOC', '0001'), ('CVE_MUN', '012'), ('CVE_AGEB', '0267')])\n",
      "OrderedDict([('CVE_ENT', '09'), ('CVE_LOC', '0001'), ('CVE_MUN', '012'), ('CVE_AGEB', '0303')])\n",
      "OrderedDict([('CVE_ENT', '09'), ('CVE_LOC', '0001'), ('CVE_MUN', '012'), ('CVE_AGEB', '2066')])\n",
      "OrderedDict([('CVE_ENT', '09'), ('CVE_LOC', '0001'), ('CVE_MUN', '012'), ('CVE_AGEB', '198A')])\n",
      "OrderedDict([('CVE_ENT', '09'), ('CVE_LOC', '0001'), ('CVE_MUN', '012'), ('CVE_AGEB', '2174')])\n",
      "OrderedDict([('CVE_ENT', '09'), ('CVE_LOC', '0001'), ('CVE_MUN', '012'), ('CVE_AGEB', '1994')])\n",
      "OrderedDict([('CVE_ENT', '09'), ('CVE_LOC', '0001'), ('CVE_MUN', '012'), ('CVE_AGEB', '0500')])\n",
      "OrderedDict([('CVE_ENT', '09'), ('CVE_LOC', '0001'), ('CVE_MUN', '012'), ('CVE_AGEB', '0981')])\n",
      "OrderedDict([('CVE_ENT', '09'), ('CVE_LOC', '0001'), ('CVE_MUN', '012'), ('CVE_AGEB', '1000')])\n",
      "OrderedDict([('CVE_ENT', '09'), ('CVE_LOC', '0001'), ('CVE_MUN', '012'), ('CVE_AGEB', '216A')])\n",
      "OrderedDict([('CVE_ENT', '09'), ('CVE_LOC', '0001'), ('CVE_MUN', '012'), ('CVE_AGEB', '1496')])\n",
      "OrderedDict([('CVE_ENT', '09'), ('CVE_LOC', '0001'), ('CVE_MUN', '012'), ('CVE_AGEB', '1509')])\n",
      "OrderedDict([('CVE_ENT', '09'), ('CVE_LOC', '0001'), ('CVE_MUN', '012'), ('CVE_AGEB', '020A')])\n",
      "OrderedDict([('CVE_ENT', '09'), ('CVE_LOC', '0001'), ('CVE_MUN', '012'), ('CVE_AGEB', '0021')])\n",
      "OrderedDict([('CVE_ENT', '09'), ('CVE_LOC', '0001'), ('CVE_MUN', '012'), ('CVE_AGEB', '0106')])\n",
      "OrderedDict([('CVE_ENT', '09'), ('CVE_LOC', '0001'), ('CVE_MUN', '012'), ('CVE_AGEB', '013A')])\n",
      "OrderedDict([('CVE_ENT', '09'), ('CVE_LOC', '0001'), ('CVE_MUN', '012'), ('CVE_AGEB', '0182')])\n",
      "OrderedDict([('CVE_ENT', '09'), ('CVE_LOC', '0001'), ('CVE_MUN', '012'), ('CVE_AGEB', '0197')])\n",
      "OrderedDict([('CVE_ENT', '09'), ('CVE_LOC', '0001'), ('CVE_MUN', '012'), ('CVE_AGEB', '0040')])\n",
      "OrderedDict([('CVE_ENT', '09'), ('CVE_LOC', '0027'), ('CVE_MUN', '012'), ('CVE_AGEB', '1763')])\n",
      "OrderedDict([('CVE_ENT', '09'), ('CVE_LOC', '0001'), ('CVE_MUN', '012'), ('CVE_AGEB', '2070')])\n",
      "OrderedDict([('CVE_ENT', '09'), ('CVE_LOC', '0001'), ('CVE_MUN', '012'), ('CVE_AGEB', '1068')])\n",
      "OrderedDict([('CVE_ENT', '09'), ('CVE_LOC', '0001'), ('CVE_MUN', '012'), ('CVE_AGEB', '2121')])\n",
      "OrderedDict([('CVE_ENT', '09'), ('CVE_LOC', '0027'), ('CVE_MUN', '012'), ('CVE_AGEB', '1782')])\n",
      "OrderedDict([('CVE_ENT', '09'), ('CVE_LOC', '0027'), ('CVE_MUN', '012'), ('CVE_AGEB', '1797')])\n",
      "OrderedDict([('CVE_ENT', '09'), ('CVE_LOC', '0027'), ('CVE_MUN', '012'), ('CVE_AGEB', '180A')])\n",
      "OrderedDict([('CVE_ENT', '09'), ('CVE_LOC', '0001'), ('CVE_MUN', '012'), ('CVE_AGEB', '1975')])\n",
      "OrderedDict([('CVE_ENT', '09'), ('CVE_LOC', '0001'), ('CVE_MUN', '012'), ('CVE_AGEB', '1388')])\n",
      "OrderedDict([('CVE_ENT', '09'), ('CVE_LOC', '0001'), ('CVE_MUN', '012'), ('CVE_AGEB', '1956')])\n",
      "OrderedDict([('CVE_ENT', '09'), ('CVE_LOC', '0001'), ('CVE_MUN', '012'), ('CVE_AGEB', '0430')])\n",
      "OrderedDict([('CVE_ENT', '09'), ('CVE_LOC', '0001'), ('CVE_MUN', '012'), ('CVE_AGEB', '1918')])\n",
      "OrderedDict([('CVE_ENT', '09'), ('CVE_LOC', '0001'), ('CVE_MUN', '012'), ('CVE_AGEB', '2206')])\n",
      "OrderedDict([('CVE_ENT', '09'), ('CVE_LOC', '0001'), ('CVE_MUN', '012'), ('CVE_AGEB', '2155')])\n",
      "OrderedDict([('CVE_ENT', '09'), ('CVE_LOC', '0001'), ('CVE_MUN', '012'), ('CVE_AGEB', '2352')])\n",
      "OrderedDict([('CVE_ENT', '09'), ('CVE_LOC', '0001'), ('CVE_MUN', '012'), ('CVE_AGEB', '2441')])\n",
      "OrderedDict([('CVE_ENT', '09'), ('CVE_LOC', '0001'), ('CVE_MUN', '012'), ('CVE_AGEB', '2456')])\n",
      "OrderedDict([('CVE_ENT', '09'), ('CVE_LOC', '0001'), ('CVE_MUN', '012'), ('CVE_AGEB', '0479')])\n",
      "OrderedDict([('CVE_ENT', '09'), ('CVE_LOC', '0001'), ('CVE_MUN', '012'), ('CVE_AGEB', '2386')])\n",
      "OrderedDict([('CVE_ENT', '09'), ('CVE_LOC', '0026'), ('CVE_MUN', '012'), ('CVE_AGEB', '2314')])\n",
      "OrderedDict([('CVE_ENT', '09'), ('CVE_LOC', '0026'), ('CVE_MUN', '012'), ('CVE_AGEB', '2437')])\n",
      "OrderedDict([('CVE_ENT', '09'), ('CVE_LOC', '0001'), ('CVE_MUN', '012'), ('CVE_AGEB', '1937')])\n",
      "OrderedDict([('CVE_ENT', '09'), ('CVE_LOC', '0001'), ('CVE_MUN', '012'), ('CVE_AGEB', '2193')])\n",
      "OrderedDict([('CVE_ENT', '09'), ('CVE_LOC', '0001'), ('CVE_MUN', '012'), ('CVE_AGEB', '038A')])\n",
      "OrderedDict([('CVE_ENT', '09'), ('CVE_LOC', '0001'), ('CVE_MUN', '012'), ('CVE_AGEB', '0483')])\n",
      "OrderedDict([('CVE_ENT', '09'), ('CVE_LOC', '0001'), ('CVE_MUN', '012'), ('CVE_AGEB', '0712')])\n",
      "OrderedDict([('CVE_ENT', '09'), ('CVE_LOC', '0001'), ('CVE_MUN', '012'), ('CVE_AGEB', '0943')])\n",
      "OrderedDict([('CVE_ENT', '09'), ('CVE_LOC', '0001'), ('CVE_MUN', '012'), ('CVE_AGEB', '0962')])\n",
      "OrderedDict([('CVE_ENT', '09'), ('CVE_LOC', '0001'), ('CVE_MUN', '012'), ('CVE_AGEB', '0568')])\n",
      "OrderedDict([('CVE_ENT', '09'), ('CVE_LOC', '0001'), ('CVE_MUN', '012'), ('CVE_AGEB', '0642')])\n",
      "OrderedDict([('CVE_ENT', '09'), ('CVE_LOC', '0001'), ('CVE_MUN', '012'), ('CVE_AGEB', '0407')])\n",
      "OrderedDict([('CVE_ENT', '09'), ('CVE_LOC', '0001'), ('CVE_MUN', '012'), ('CVE_AGEB', '0426')])\n",
      "OrderedDict([('CVE_ENT', '09'), ('CVE_LOC', '0001'), ('CVE_MUN', '012'), ('CVE_AGEB', '0572')])\n",
      "OrderedDict([('CVE_ENT', '09'), ('CVE_LOC', '0001'), ('CVE_MUN', '012'), ('CVE_AGEB', '0549')])\n",
      "OrderedDict([('CVE_ENT', '09'), ('CVE_LOC', '0001'), ('CVE_MUN', '012'), ('CVE_AGEB', '0731')])\n",
      "OrderedDict([('CVE_ENT', '09'), ('CVE_LOC', '0001'), ('CVE_MUN', '012'), ('CVE_AGEB', '0765')])\n",
      "OrderedDict([('CVE_ENT', '09'), ('CVE_LOC', '0001'), ('CVE_MUN', '012'), ('CVE_AGEB', '0816')])\n",
      "OrderedDict([('CVE_ENT', '09'), ('CVE_LOC', '0001'), ('CVE_MUN', '012'), ('CVE_AGEB', '0820')])\n",
      "OrderedDict([('CVE_ENT', '09'), ('CVE_LOC', '0001'), ('CVE_MUN', '012'), ('CVE_AGEB', '0835')])\n",
      "OrderedDict([('CVE_ENT', '09'), ('CVE_LOC', '0001'), ('CVE_MUN', '012'), ('CVE_AGEB', '084A')])\n",
      "OrderedDict([('CVE_ENT', '09'), ('CVE_LOC', '0001'), ('CVE_MUN', '012'), ('CVE_AGEB', '0854')])\n",
      "OrderedDict([('CVE_ENT', '09'), ('CVE_LOC', '0001'), ('CVE_MUN', '012'), ('CVE_AGEB', '0869')])\n",
      "OrderedDict([('CVE_ENT', '09'), ('CVE_LOC', '0001'), ('CVE_MUN', '012'), ('CVE_AGEB', '0888')])\n",
      "OrderedDict([('CVE_ENT', '09'), ('CVE_LOC', '0001'), ('CVE_MUN', '012'), ('CVE_AGEB', '0892')])\n",
      "OrderedDict([('CVE_ENT', '09'), ('CVE_LOC', '0001'), ('CVE_MUN', '012'), ('CVE_AGEB', '091A')])\n",
      "OrderedDict([('CVE_ENT', '09'), ('CVE_LOC', '0001'), ('CVE_MUN', '012'), ('CVE_AGEB', '0375')])\n",
      "OrderedDict([('CVE_ENT', '09'), ('CVE_LOC', '0001'), ('CVE_MUN', '012'), ('CVE_AGEB', '1640')])\n",
      "OrderedDict([('CVE_ENT', '09'), ('CVE_LOC', '0026'), ('CVE_MUN', '012'), ('CVE_AGEB', '248A')])\n",
      "OrderedDict([('CVE_ENT', '09'), ('CVE_LOC', '0001'), ('CVE_MUN', '012'), ('CVE_AGEB', '0623')])\n",
      "OrderedDict([('CVE_ENT', '09'), ('CVE_LOC', '0001'), ('CVE_MUN', '012'), ('CVE_AGEB', '0638')])\n",
      "OrderedDict([('CVE_ENT', '09'), ('CVE_LOC', '0001'), ('CVE_MUN', '012'), ('CVE_AGEB', '0657')])\n",
      "OrderedDict([('CVE_ENT', '09'), ('CVE_LOC', '0001'), ('CVE_MUN', '012'), ('CVE_AGEB', '0661')])\n",
      "OrderedDict([('CVE_ENT', '09'), ('CVE_LOC', '0001'), ('CVE_MUN', '012'), ('CVE_AGEB', '0676')])\n",
      "OrderedDict([('CVE_ENT', '09'), ('CVE_LOC', '0001'), ('CVE_MUN', '012'), ('CVE_AGEB', '0680')])\n",
      "OrderedDict([('CVE_ENT', '09'), ('CVE_LOC', '0001'), ('CVE_MUN', '012'), ('CVE_AGEB', '0695')])\n",
      "OrderedDict([('CVE_ENT', '09'), ('CVE_LOC', '0001'), ('CVE_MUN', '012'), ('CVE_AGEB', '0727')])\n",
      "OrderedDict([('CVE_ENT', '09'), ('CVE_LOC', '0001'), ('CVE_MUN', '012'), ('CVE_AGEB', '0939')])\n",
      "OrderedDict([('CVE_ENT', '09'), ('CVE_LOC', '0001'), ('CVE_MUN', '012'), ('CVE_AGEB', '0977')])\n",
      "OrderedDict([('CVE_ENT', '09'), ('CVE_LOC', '0001'), ('CVE_MUN', '012'), ('CVE_AGEB', '1015')])\n",
      "OrderedDict([('CVE_ENT', '09'), ('CVE_LOC', '0001'), ('CVE_MUN', '012'), ('CVE_AGEB', '0996')])\n",
      "OrderedDict([('CVE_ENT', '09'), ('CVE_LOC', '0001'), ('CVE_MUN', '012'), ('CVE_AGEB', '102A')])\n",
      "OrderedDict([('CVE_ENT', '09'), ('CVE_LOC', '0027'), ('CVE_MUN', '012'), ('CVE_AGEB', '2422')])\n",
      "OrderedDict([('CVE_ENT', '09'), ('CVE_LOC', '0001'), ('CVE_MUN', '012'), ('CVE_AGEB', '1034')])\n",
      "OrderedDict([('CVE_ENT', '09'), ('CVE_LOC', '0001'), ('CVE_MUN', '012'), ('CVE_AGEB', '1157')])\n",
      "OrderedDict([('CVE_ENT', '09'), ('CVE_LOC', '0001'), ('CVE_MUN', '012'), ('CVE_AGEB', '1547')])\n",
      "OrderedDict([('CVE_ENT', '09'), ('CVE_LOC', '0001'), ('CVE_MUN', '012'), ('CVE_AGEB', '1087')])\n",
      "OrderedDict([('CVE_ENT', '09'), ('CVE_LOC', '0001'), ('CVE_MUN', '012'), ('CVE_AGEB', '1091')])\n",
      "OrderedDict([('CVE_ENT', '09'), ('CVE_LOC', '0001'), ('CVE_MUN', '012'), ('CVE_AGEB', '1104')])\n",
      "OrderedDict([('CVE_ENT', '09'), ('CVE_LOC', '0001'), ('CVE_MUN', '012'), ('CVE_AGEB', '1119')])\n",
      "OrderedDict([('CVE_ENT', '09'), ('CVE_LOC', '0001'), ('CVE_MUN', '012'), ('CVE_AGEB', '1566')])\n",
      "OrderedDict([('CVE_ENT', '09'), ('CVE_LOC', '0001'), ('CVE_MUN', '012'), ('CVE_AGEB', '0089')])\n",
      "OrderedDict([('CVE_ENT', '09'), ('CVE_LOC', '0001'), ('CVE_MUN', '012'), ('CVE_AGEB', '1176')])\n",
      "OrderedDict([('CVE_ENT', '09'), ('CVE_LOC', '0001'), ('CVE_MUN', '012'), ('CVE_AGEB', '1513')])\n",
      "OrderedDict([('CVE_ENT', '09'), ('CVE_LOC', '0001'), ('CVE_MUN', '012'), ('CVE_AGEB', '2013')])\n",
      "OrderedDict([('CVE_ENT', '09'), ('CVE_LOC', '0001'), ('CVE_MUN', '012'), ('CVE_AGEB', '2047')])\n",
      "OrderedDict([('CVE_ENT', '09'), ('CVE_LOC', '0001'), ('CVE_MUN', '012'), ('CVE_AGEB', '1049')])\n",
      "OrderedDict([('CVE_ENT', '09'), ('CVE_LOC', '0001'), ('CVE_MUN', '012'), ('CVE_AGEB', '2051')])\n",
      "OrderedDict([('CVE_ENT', '09'), ('CVE_LOC', '0001'), ('CVE_MUN', '012'), ('CVE_AGEB', '1481')])\n",
      "OrderedDict([('CVE_ENT', '09'), ('CVE_LOC', '0026'), ('CVE_MUN', '012'), ('CVE_AGEB', '2403')])\n",
      "OrderedDict([('CVE_ENT', '09'), ('CVE_LOC', '0001'), ('CVE_MUN', '012'), ('CVE_AGEB', '0905')])\n",
      "OrderedDict([('CVE_ENT', '09'), ('CVE_LOC', '0001'), ('CVE_MUN', '012'), ('CVE_AGEB', '2136')])\n",
      "OrderedDict([('CVE_ENT', '09'), ('CVE_LOC', '0001'), ('CVE_MUN', '012'), ('CVE_AGEB', '2140')])\n",
      "OrderedDict([('CVE_ENT', '09'), ('CVE_LOC', '0001'), ('CVE_MUN', '012'), ('CVE_AGEB', '2333')])\n",
      "OrderedDict([('CVE_ENT', '09'), ('CVE_LOC', '0026'), ('CVE_MUN', '012'), ('CVE_AGEB', '1706')])\n",
      "OrderedDict([('CVE_ENT', '09'), ('CVE_LOC', '0026'), ('CVE_MUN', '012'), ('CVE_AGEB', '1710')])\n",
      "OrderedDict([('CVE_ENT', '09'), ('CVE_LOC', '0026'), ('CVE_MUN', '012'), ('CVE_AGEB', '2297')])\n",
      "OrderedDict([('CVE_ENT', '09'), ('CVE_LOC', '0026'), ('CVE_MUN', '012'), ('CVE_AGEB', '2329')])\n",
      "OrderedDict([('CVE_ENT', '09'), ('CVE_LOC', '0026'), ('CVE_MUN', '012'), ('CVE_AGEB', '2390')])\n",
      "OrderedDict([('CVE_ENT', '09'), ('CVE_LOC', '0026'), ('CVE_MUN', '012'), ('CVE_AGEB', '2418')])\n",
      "OrderedDict([('CVE_ENT', '09'), ('CVE_LOC', '0001'), ('CVE_MUN', '012'), ('CVE_AGEB', '1960')])\n",
      "OrderedDict([('CVE_ENT', '09'), ('CVE_LOC', '0001'), ('CVE_MUN', '012'), ('CVE_AGEB', '1462')])\n",
      "OrderedDict([('CVE_ENT', '09'), ('CVE_LOC', '0026'), ('CVE_MUN', '012'), ('CVE_AGEB', '1693')])\n",
      "OrderedDict([('CVE_ENT', '09'), ('CVE_LOC', '0001'), ('CVE_MUN', '012'), ('CVE_AGEB', '2263')])\n",
      "OrderedDict([('CVE_ENT', '09'), ('CVE_LOC', '0001'), ('CVE_MUN', '012'), ('CVE_AGEB', '1759')])\n",
      "OrderedDict([('CVE_ENT', '09'), ('CVE_LOC', '0001'), ('CVE_MUN', '012'), ('CVE_AGEB', '1477')])\n",
      "OrderedDict([('CVE_ENT', '09'), ('CVE_LOC', '0001'), ('CVE_MUN', '012'), ('CVE_AGEB', '223A')])\n",
      "OrderedDict([('CVE_ENT', '09'), ('CVE_LOC', '0001'), ('CVE_MUN', '012'), ('CVE_AGEB', '2244')])\n",
      "OrderedDict([('CVE_ENT', '09'), ('CVE_LOC', '0001'), ('CVE_MUN', '012'), ('CVE_AGEB', '052A')])\n",
      "OrderedDict([('CVE_ENT', '09'), ('CVE_LOC', '0019'), ('CVE_MUN', '012'), ('CVE_AGEB', '2475')])\n",
      "OrderedDict([('CVE_ENT', '09'), ('CVE_LOC', '0001'), ('CVE_MUN', '012'), ('CVE_AGEB', '2278')])\n",
      "OrderedDict([('CVE_ENT', '09'), ('CVE_LOC', '0001'), ('CVE_MUN', '012'), ('CVE_AGEB', '1890')])\n",
      "OrderedDict([('CVE_ENT', '09'), ('CVE_LOC', '0001'), ('CVE_MUN', '012'), ('CVE_AGEB', '0534')])\n",
      "OrderedDict([('CVE_ENT', '09'), ('CVE_LOC', '0001'), ('CVE_MUN', '012'), ('CVE_AGEB', '2225')])\n",
      "OrderedDict([('CVE_ENT', '09'), ('CVE_LOC', '0001'), ('CVE_MUN', '012'), ('CVE_AGEB', '1212')])\n",
      "OrderedDict([('CVE_ENT', '09'), ('CVE_LOC', '0001'), ('CVE_MUN', '012'), ('CVE_AGEB', '2367')])\n",
      "OrderedDict([('CVE_ENT', '09'), ('CVE_LOC', '0001'), ('CVE_MUN', '012'), ('CVE_AGEB', '1299')])\n",
      "OrderedDict([('CVE_ENT', '09'), ('CVE_LOC', '0001'), ('CVE_MUN', '012'), ('CVE_AGEB', '1903')])\n",
      "OrderedDict([('CVE_ENT', '09'), ('CVE_LOC', '0001'), ('CVE_MUN', '012'), ('CVE_AGEB', '1316')])\n",
      "OrderedDict([('CVE_ENT', '09'), ('CVE_LOC', '0001'), ('CVE_MUN', '012'), ('CVE_AGEB', '1195')])\n",
      "OrderedDict([('CVE_ENT', '09'), ('CVE_LOC', '0001'), ('CVE_MUN', '012'), ('CVE_AGEB', '1369')])\n",
      "OrderedDict([('CVE_ENT', '09'), ('CVE_LOC', '0001'), ('CVE_MUN', '012'), ('CVE_AGEB', '1439')])\n",
      "OrderedDict([('CVE_ENT', '09'), ('CVE_LOC', '0001'), ('CVE_MUN', '012'), ('CVE_AGEB', '1443')])\n",
      "OrderedDict([('CVE_ENT', '09'), ('CVE_LOC', '0001'), ('CVE_MUN', '012'), ('CVE_AGEB', '1585')])\n",
      "OrderedDict([('CVE_ENT', '09'), ('CVE_LOC', '0001'), ('CVE_MUN', '012'), ('CVE_AGEB', '2348')])\n",
      "OrderedDict([('CVE_ENT', '09'), ('CVE_LOC', '0026'), ('CVE_MUN', '012'), ('CVE_AGEB', '1674')])\n",
      "OrderedDict([('CVE_ENT', '09'), ('CVE_LOC', '0001'), ('CVE_MUN', '012'), ('CVE_AGEB', '1655')])\n",
      "OrderedDict([('CVE_ENT', '09'), ('CVE_LOC', '0001'), ('CVE_MUN', '012'), ('CVE_AGEB', '159A')])\n",
      "OrderedDict([('CVE_ENT', '09'), ('CVE_LOC', '0001'), ('CVE_MUN', '012'), ('CVE_AGEB', '1602')])\n",
      "OrderedDict([('CVE_ENT', '09'), ('CVE_LOC', '0001'), ('CVE_MUN', '012'), ('CVE_AGEB', '1636')])\n",
      "OrderedDict([('CVE_ENT', '09'), ('CVE_LOC', '0001'), ('CVE_MUN', '012'), ('CVE_AGEB', '1617')])\n",
      "OrderedDict([('CVE_ENT', '09'), ('CVE_LOC', '0001'), ('CVE_MUN', '012'), ('CVE_AGEB', '2009')])\n",
      "OrderedDict([('CVE_ENT', '09'), ('CVE_LOC', '0001'), ('CVE_MUN', '012'), ('CVE_AGEB', '1621')])\n",
      "OrderedDict([('CVE_ENT', '09'), ('CVE_LOC', '0026'), ('CVE_MUN', '012'), ('CVE_AGEB', '1532')])\n",
      "OrderedDict([('CVE_ENT', '09'), ('CVE_LOC', '0001'), ('CVE_MUN', '012'), ('CVE_AGEB', '0784')])\n",
      "OrderedDict([('CVE_ENT', '09'), ('CVE_LOC', '0001'), ('CVE_MUN', '012'), ('CVE_AGEB', '2210')])\n",
      "OrderedDict([('CVE_ENT', '09'), ('CVE_LOC', '0026'), ('CVE_MUN', '012'), ('CVE_AGEB', '166A')])\n",
      "OrderedDict([('CVE_ENT', '09'), ('CVE_LOC', '0001'), ('CVE_MUN', '012'), ('CVE_AGEB', '0464')])\n",
      "OrderedDict([('CVE_ENT', '09'), ('CVE_LOC', '0001'), ('CVE_MUN', '012'), ('CVE_AGEB', '0515')])\n",
      "OrderedDict([('CVE_ENT', '09'), ('CVE_LOC', '0001'), ('CVE_MUN', '012'), ('CVE_AGEB', '0708')])\n",
      "OrderedDict([('CVE_ENT', '09'), ('CVE_LOC', '0001'), ('CVE_MUN', '012'), ('CVE_AGEB', '0163')])\n",
      "OrderedDict([('CVE_ENT', '09'), ('CVE_LOC', '0001'), ('CVE_MUN', '012'), ('CVE_AGEB', '0746')])\n",
      "OrderedDict([('CVE_ENT', '09'), ('CVE_LOC', '0001'), ('CVE_MUN', '012'), ('CVE_AGEB', '0750')])\n",
      "OrderedDict([('CVE_ENT', '09'), ('CVE_LOC', '0001'), ('CVE_MUN', '012'), ('CVE_AGEB', '0801')])\n",
      "OrderedDict([('CVE_ENT', '09'), ('CVE_LOC', '0001'), ('CVE_MUN', '012'), ('CVE_AGEB', '0229')])\n",
      "OrderedDict([('CVE_ENT', '09'), ('CVE_LOC', '0001'), ('CVE_MUN', '012'), ('CVE_AGEB', '0248')])\n",
      "OrderedDict([('CVE_ENT', '09'), ('CVE_LOC', '0001'), ('CVE_MUN', '012'), ('CVE_AGEB', '0337')])\n",
      "OrderedDict([('CVE_ENT', '09'), ('CVE_LOC', '0001'), ('CVE_MUN', '012'), ('CVE_AGEB', '0341')])\n",
      "OrderedDict([('CVE_ENT', '09'), ('CVE_LOC', '0001'), ('CVE_MUN', '012'), ('CVE_AGEB', '0360')])\n",
      "OrderedDict([('CVE_ENT', '09'), ('CVE_LOC', '0001'), ('CVE_MUN', '012'), ('CVE_AGEB', '0233')])\n",
      "OrderedDict([('CVE_ENT', '09'), ('CVE_LOC', '0026'), ('CVE_MUN', '012'), ('CVE_AGEB', '1689')])\n",
      "OrderedDict([('CVE_ENT', '09'), ('CVE_LOC', '0001'), ('CVE_MUN', '012'), ('CVE_AGEB', '0619')])\n",
      "OrderedDict([('CVE_ENT', '09'), ('CVE_LOC', '0001'), ('CVE_MUN', '012'), ('CVE_AGEB', '0799')])\n",
      "OrderedDict([('CVE_ENT', '09'), ('CVE_LOC', '0001'), ('CVE_MUN', '012'), ('CVE_AGEB', '0553')])\n",
      "OrderedDict([('CVE_ENT', '09'), ('CVE_LOC', '0001'), ('CVE_MUN', '012'), ('CVE_AGEB', '0587')])\n",
      "OrderedDict([('CVE_ENT', '09'), ('CVE_LOC', '0001'), ('CVE_MUN', '012'), ('CVE_AGEB', '0591')])\n",
      "OrderedDict([('CVE_ENT', '09'), ('CVE_LOC', '0001'), ('CVE_MUN', '012'), ('CVE_AGEB', '0924')])\n",
      "OrderedDict([('CVE_ENT', '09'), ('CVE_LOC', '0001'), ('CVE_MUN', '012'), ('CVE_AGEB', '0958')])\n",
      "OrderedDict([('CVE_ENT', '09'), ('CVE_LOC', '0001'), ('CVE_MUN', '012'), ('CVE_AGEB', '1123')])\n",
      "OrderedDict([('CVE_ENT', '09'), ('CVE_LOC', '0001'), ('CVE_MUN', '012'), ('CVE_AGEB', '1142')])\n",
      "OrderedDict([('CVE_ENT', '09'), ('CVE_LOC', '0001'), ('CVE_MUN', '012'), ('CVE_AGEB', '1161')])\n",
      "OrderedDict([('CVE_ENT', '09'), ('CVE_LOC', '0001'), ('CVE_MUN', '012'), ('CVE_AGEB', '0318')])\n",
      "OrderedDict([('CVE_ENT', '09'), ('CVE_LOC', '0001'), ('CVE_MUN', '012'), ('CVE_AGEB', '0322')])\n",
      "OrderedDict([('CVE_ENT', '09'), ('CVE_LOC', '0001'), ('CVE_MUN', '012'), ('CVE_AGEB', '0093')])\n",
      "OrderedDict([('CVE_ENT', '09'), ('CVE_LOC', '0001'), ('CVE_MUN', '012'), ('CVE_AGEB', '0144')])\n",
      "OrderedDict([('CVE_ENT', '09'), ('CVE_LOC', '0001'), ('CVE_MUN', '012'), ('CVE_AGEB', '0178')])\n",
      "OrderedDict([('CVE_ENT', '09'), ('CVE_LOC', '0001'), ('CVE_MUN', '012'), ('CVE_AGEB', '1570')])\n",
      "OrderedDict([('CVE_ENT', '09'), ('CVE_LOC', '0001'), ('CVE_MUN', '012'), ('CVE_AGEB', '1053')])\n",
      "OrderedDict([('CVE_ENT', '09'), ('CVE_LOC', '0001'), ('CVE_MUN', '012'), ('CVE_AGEB', '2085')])\n",
      "OrderedDict([('CVE_ENT', '09'), ('CVE_LOC', '0001'), ('CVE_MUN', '012'), ('CVE_AGEB', '2259')])\n",
      "OrderedDict([('CVE_ENT', '09'), ('CVE_LOC', '0027'), ('CVE_MUN', '012'), ('CVE_AGEB', '1778')])\n",
      "OrderedDict([('CVE_ENT', '09'), ('CVE_LOC', '0027'), ('CVE_MUN', '012'), ('CVE_AGEB', '2028')])\n",
      "OrderedDict([('CVE_ENT', '09'), ('CVE_LOC', '0027'), ('CVE_MUN', '012'), ('CVE_AGEB', '2032')])\n",
      "OrderedDict([('CVE_ENT', '09'), ('CVE_LOC', '0027'), ('CVE_MUN', '012'), ('CVE_AGEB', '230A')])\n",
      "OrderedDict([('CVE_ENT', '09'), ('CVE_LOC', '0001'), ('CVE_MUN', '012'), ('CVE_AGEB', '1458')])\n",
      "OrderedDict([('CVE_ENT', '09'), ('CVE_LOC', '0001'), ('CVE_MUN', '012'), ('CVE_AGEB', '2102')])\n",
      "OrderedDict([('CVE_ENT', '09'), ('CVE_LOC', '0001'), ('CVE_MUN', '012'), ('CVE_AGEB', '1941')])\n",
      "OrderedDict([('CVE_ENT', '09'), ('CVE_LOC', '0001'), ('CVE_MUN', '012'), ('CVE_AGEB', '2282')])\n",
      "OrderedDict([('CVE_ENT', '09'), ('CVE_LOC', '0001'), ('CVE_MUN', '012'), ('CVE_AGEB', '173A')])\n",
      "OrderedDict([('CVE_ENT', '09'), ('CVE_LOC', '0001'), ('CVE_MUN', '012'), ('CVE_AGEB', '1922')])\n",
      "OrderedDict([('CVE_ENT', '09'), ('CVE_LOC', '0001'), ('CVE_MUN', '012'), ('CVE_AGEB', '2189')])\n",
      "OrderedDict([('CVE_ENT', '09'), ('CVE_LOC', '0001'), ('CVE_MUN', '012'), ('CVE_AGEB', '2371')])\n",
      "OrderedDict([('CVE_ENT', '09'), ('CVE_LOC', '0001'), ('CVE_MUN', '012'), ('CVE_AGEB', '1744')])\n",
      "OrderedDict([('CVE_ENT', '09'), ('CVE_LOC', '0019'), ('CVE_MUN', '012'), ('CVE_AGEB', '2460')])\n",
      "OrderedDict([('CVE_ENT', '09'), ('CVE_LOC', '0026'), ('CVE_MUN', '012'), ('CVE_AGEB', '1528')])\n",
      "OrderedDict([('CVE_ENT', '09'), ('CVE_LOC', '0001'), ('CVE_MUN', '012'), ('CVE_AGEB', '0394')])\n",
      "OrderedDict([('CVE_ENT', '09'), ('CVE_LOC', '0001'), ('CVE_MUN', '013'), ('CVE_AGEB', '0885')])\n",
      "OrderedDict([('CVE_ENT', '09'), ('CVE_LOC', '0001'), ('CVE_MUN', '013'), ('CVE_AGEB', '1277')])\n",
      "OrderedDict([('CVE_ENT', '09'), ('CVE_LOC', '0001'), ('CVE_MUN', '013'), ('CVE_AGEB', '057A')])\n",
      "OrderedDict([('CVE_ENT', '09'), ('CVE_LOC', '0001'), ('CVE_MUN', '013'), ('CVE_AGEB', '071A')])\n",
      "OrderedDict([('CVE_ENT', '09'), ('CVE_LOC', '0001'), ('CVE_MUN', '013'), ('CVE_AGEB', '0052')])\n",
      "OrderedDict([('CVE_ENT', '09'), ('CVE_LOC', '0001'), ('CVE_MUN', '013'), ('CVE_AGEB', '0067')])\n",
      "OrderedDict([('CVE_ENT', '09'), ('CVE_LOC', '0001'), ('CVE_MUN', '013'), ('CVE_AGEB', '0527')])\n",
      "OrderedDict([('CVE_ENT', '09'), ('CVE_LOC', '0001'), ('CVE_MUN', '013'), ('CVE_AGEB', '0550')])\n",
      "OrderedDict([('CVE_ENT', '09'), ('CVE_LOC', '0001'), ('CVE_MUN', '013'), ('CVE_AGEB', '0565')])\n",
      "OrderedDict([('CVE_ENT', '09'), ('CVE_LOC', '0001'), ('CVE_MUN', '013'), ('CVE_AGEB', '0599')])\n",
      "OrderedDict([('CVE_ENT', '09'), ('CVE_LOC', '0001'), ('CVE_MUN', '013'), ('CVE_AGEB', '0029')])\n",
      "OrderedDict([('CVE_ENT', '09'), ('CVE_LOC', '0001'), ('CVE_MUN', '013'), ('CVE_AGEB', '1313')])\n",
      "OrderedDict([('CVE_ENT', '09'), ('CVE_LOC', '0001'), ('CVE_MUN', '013'), ('CVE_AGEB', '0014')])\n",
      "OrderedDict([('CVE_ENT', '09'), ('CVE_LOC', '0001'), ('CVE_MUN', '013'), ('CVE_AGEB', '0601')])\n",
      "OrderedDict([('CVE_ENT', '09'), ('CVE_LOC', '0001'), ('CVE_MUN', '013'), ('CVE_AGEB', '064A')])\n",
      "OrderedDict([('CVE_ENT', '09'), ('CVE_LOC', '0001'), ('CVE_MUN', '013'), ('CVE_AGEB', '0654')])\n",
      "OrderedDict([('CVE_ENT', '09'), ('CVE_LOC', '0001'), ('CVE_MUN', '013'), ('CVE_AGEB', '0813')])\n",
      "OrderedDict([('CVE_ENT', '09'), ('CVE_LOC', '0001'), ('CVE_MUN', '013'), ('CVE_AGEB', '0809')])\n",
      "OrderedDict([('CVE_ENT', '09'), ('CVE_LOC', '0001'), ('CVE_MUN', '013'), ('CVE_AGEB', '0851')])\n",
      "OrderedDict([('CVE_ENT', '09'), ('CVE_LOC', '0001'), ('CVE_MUN', '013'), ('CVE_AGEB', '1243')])\n",
      "OrderedDict([('CVE_ENT', '09'), ('CVE_LOC', '0001'), ('CVE_MUN', '013'), ('CVE_AGEB', '0917')])\n",
      "OrderedDict([('CVE_ENT', '09'), ('CVE_LOC', '0001'), ('CVE_MUN', '013'), ('CVE_AGEB', '1224')])\n",
      "OrderedDict([('CVE_ENT', '09'), ('CVE_LOC', '0001'), ('CVE_MUN', '013'), ('CVE_AGEB', '1173')])\n",
      "OrderedDict([('CVE_ENT', '09'), ('CVE_LOC', '0001'), ('CVE_MUN', '013'), ('CVE_AGEB', '1205')])\n",
      "OrderedDict([('CVE_ENT', '09'), ('CVE_LOC', '0001'), ('CVE_MUN', '013'), ('CVE_AGEB', '1455')])\n",
      "OrderedDict([('CVE_ENT', '09'), ('CVE_LOC', '0001'), ('CVE_MUN', '013'), ('CVE_AGEB', '1474')])\n",
      "OrderedDict([('CVE_ENT', '09'), ('CVE_LOC', '0001'), ('CVE_MUN', '013'), ('CVE_AGEB', '089A')])\n",
      "OrderedDict([('CVE_ENT', '09'), ('CVE_LOC', '0001'), ('CVE_MUN', '013'), ('CVE_AGEB', '1192')])\n",
      "OrderedDict([('CVE_ENT', '09'), ('CVE_LOC', '0001'), ('CVE_MUN', '013'), ('CVE_AGEB', '0739')])\n",
      "OrderedDict([('CVE_ENT', '09'), ('CVE_LOC', '0001'), ('CVE_MUN', '013'), ('CVE_AGEB', '0758')])\n",
      "OrderedDict([('CVE_ENT', '09'), ('CVE_LOC', '0001'), ('CVE_MUN', '013'), ('CVE_AGEB', '0461')])\n",
      "OrderedDict([('CVE_ENT', '09'), ('CVE_LOC', '0001'), ('CVE_MUN', '013'), ('CVE_AGEB', '1031')])\n",
      "OrderedDict([('CVE_ENT', '09'), ('CVE_LOC', '0001'), ('CVE_MUN', '013'), ('CVE_AGEB', '018A')])\n",
      "OrderedDict([('CVE_ENT', '09'), ('CVE_LOC', '0001'), ('CVE_MUN', '013'), ('CVE_AGEB', '1347')])\n",
      "OrderedDict([('CVE_ENT', '09'), ('CVE_LOC', '0001'), ('CVE_MUN', '013'), ('CVE_AGEB', '0086')])\n",
      "OrderedDict([('CVE_ENT', '09'), ('CVE_LOC', '0001'), ('CVE_MUN', '013'), ('CVE_AGEB', '0090')])\n",
      "OrderedDict([('CVE_ENT', '09'), ('CVE_LOC', '0001'), ('CVE_MUN', '013'), ('CVE_AGEB', '0122')])\n",
      "OrderedDict([('CVE_ENT', '09'), ('CVE_LOC', '0001'), ('CVE_MUN', '013'), ('CVE_AGEB', '0137')])\n",
      "OrderedDict([('CVE_ENT', '09'), ('CVE_LOC', '0001'), ('CVE_MUN', '013'), ('CVE_AGEB', '0160')])\n",
      "OrderedDict([('CVE_ENT', '09'), ('CVE_LOC', '0001'), ('CVE_MUN', '013'), ('CVE_AGEB', '0480')])\n",
      "OrderedDict([('CVE_ENT', '09'), ('CVE_LOC', '0001'), ('CVE_MUN', '013'), ('CVE_AGEB', '0495')])\n",
      "OrderedDict([('CVE_ENT', '09'), ('CVE_LOC', '0001'), ('CVE_MUN', '013'), ('CVE_AGEB', '1328')])\n",
      "OrderedDict([('CVE_ENT', '09'), ('CVE_LOC', '0001'), ('CVE_MUN', '013'), ('CVE_AGEB', '1366')])\n",
      "OrderedDict([('CVE_ENT', '09'), ('CVE_LOC', '0001'), ('CVE_MUN', '013'), ('CVE_AGEB', '1370')])\n",
      "OrderedDict([('CVE_ENT', '09'), ('CVE_LOC', '0001'), ('CVE_MUN', '013'), ('CVE_AGEB', '139A')])\n",
      "OrderedDict([('CVE_ENT', '09'), ('CVE_LOC', '0001'), ('CVE_MUN', '013'), ('CVE_AGEB', '1402')])\n",
      "OrderedDict([('CVE_ENT', '09'), ('CVE_LOC', '0001'), ('CVE_MUN', '013'), ('CVE_AGEB', '1417')])\n",
      "OrderedDict([('CVE_ENT', '09'), ('CVE_LOC', '0001'), ('CVE_MUN', '013'), ('CVE_AGEB', '1421')])\n",
      "OrderedDict([('CVE_ENT', '09'), ('CVE_LOC', '0001'), ('CVE_MUN', '013'), ('CVE_AGEB', '0423')])\n",
      "OrderedDict([('CVE_ENT', '09'), ('CVE_LOC', '0001'), ('CVE_MUN', '013'), ('CVE_AGEB', '1544')])\n",
      "OrderedDict([('CVE_ENT', '09'), ('CVE_LOC', '0001'), ('CVE_MUN', '013'), ('CVE_AGEB', '0033')])\n",
      "OrderedDict([('CVE_ENT', '09'), ('CVE_LOC', '0001'), ('CVE_MUN', '013'), ('CVE_AGEB', '1309')])\n",
      "OrderedDict([('CVE_ENT', '09'), ('CVE_LOC', '0001'), ('CVE_MUN', '013'), ('CVE_AGEB', '0283')])\n",
      "OrderedDict([('CVE_ENT', '09'), ('CVE_LOC', '0001'), ('CVE_MUN', '013'), ('CVE_AGEB', '0298')])\n",
      "OrderedDict([('CVE_ENT', '09'), ('CVE_LOC', '0001'), ('CVE_MUN', '013'), ('CVE_AGEB', '0300')])\n",
      "OrderedDict([('CVE_ENT', '09'), ('CVE_LOC', '0001'), ('CVE_MUN', '013'), ('CVE_AGEB', '0315')])\n",
      "OrderedDict([('CVE_ENT', '09'), ('CVE_LOC', '0001'), ('CVE_MUN', '013'), ('CVE_AGEB', '032A')])\n",
      "OrderedDict([('CVE_ENT', '09'), ('CVE_LOC', '0001'), ('CVE_MUN', '013'), ('CVE_AGEB', '0353')])\n",
      "OrderedDict([('CVE_ENT', '09'), ('CVE_LOC', '0001'), ('CVE_MUN', '013'), ('CVE_AGEB', '1385')])\n",
      "OrderedDict([('CVE_ENT', '09'), ('CVE_LOC', '0001'), ('CVE_MUN', '013'), ('CVE_AGEB', '0442')])\n",
      "OrderedDict([('CVE_ENT', '09'), ('CVE_LOC', '0001'), ('CVE_MUN', '013'), ('CVE_AGEB', '0368')])\n",
      "OrderedDict([('CVE_ENT', '09'), ('CVE_LOC', '0001'), ('CVE_MUN', '013'), ('CVE_AGEB', '0372')])\n",
      "OrderedDict([('CVE_ENT', '09'), ('CVE_LOC', '0001'), ('CVE_MUN', '013'), ('CVE_AGEB', '0387')])\n",
      "OrderedDict([('CVE_ENT', '09'), ('CVE_LOC', '0001'), ('CVE_MUN', '013'), ('CVE_AGEB', '0391')])\n",
      "OrderedDict([('CVE_ENT', '09'), ('CVE_LOC', '0001'), ('CVE_MUN', '013'), ('CVE_AGEB', '0688')])\n",
      "OrderedDict([('CVE_ENT', '09'), ('CVE_LOC', '0001'), ('CVE_MUN', '013'), ('CVE_AGEB', '0866')])\n",
      "OrderedDict([('CVE_ENT', '09'), ('CVE_LOC', '0001'), ('CVE_MUN', '013'), ('CVE_AGEB', '0724')])\n",
      "OrderedDict([('CVE_ENT', '09'), ('CVE_LOC', '0001'), ('CVE_MUN', '013'), ('CVE_AGEB', '1027')])\n",
      "OrderedDict([('CVE_ENT', '09'), ('CVE_LOC', '0001'), ('CVE_MUN', '013'), ('CVE_AGEB', '0777')])\n",
      "OrderedDict([('CVE_ENT', '09'), ('CVE_LOC', '0001'), ('CVE_MUN', '013'), ('CVE_AGEB', '1084')])\n",
      "OrderedDict([('CVE_ENT', '09'), ('CVE_LOC', '0001'), ('CVE_MUN', '013'), ('CVE_AGEB', '0832')])\n",
      "OrderedDict([('CVE_ENT', '09'), ('CVE_LOC', '0001'), ('CVE_MUN', '013'), ('CVE_AGEB', '0847')])\n",
      "OrderedDict([('CVE_ENT', '09'), ('CVE_LOC', '0001'), ('CVE_MUN', '013'), ('CVE_AGEB', '107A')])\n",
      "OrderedDict([('CVE_ENT', '09'), ('CVE_LOC', '0001'), ('CVE_MUN', '013'), ('CVE_AGEB', '1050')])\n",
      "OrderedDict([('CVE_ENT', '09'), ('CVE_LOC', '0001'), ('CVE_MUN', '013'), ('CVE_AGEB', '1065')])\n",
      "OrderedDict([('CVE_ENT', '09'), ('CVE_LOC', '0001'), ('CVE_MUN', '013'), ('CVE_AGEB', '1154')])\n",
      "OrderedDict([('CVE_ENT', '09'), ('CVE_LOC', '0001'), ('CVE_MUN', '013'), ('CVE_AGEB', '1169')])\n",
      "OrderedDict([('CVE_ENT', '09'), ('CVE_LOC', '0001'), ('CVE_MUN', '013'), ('CVE_AGEB', '121A')])\n",
      "OrderedDict([('CVE_ENT', '09'), ('CVE_LOC', '0001'), ('CVE_MUN', '013'), ('CVE_AGEB', '1440')])\n",
      "OrderedDict([('CVE_ENT', '09'), ('CVE_LOC', '0001'), ('CVE_MUN', '013'), ('CVE_AGEB', '1436')])\n",
      "OrderedDict([('CVE_ENT', '09'), ('CVE_LOC', '0001'), ('CVE_MUN', '013'), ('CVE_AGEB', '1525')])\n",
      "OrderedDict([('CVE_ENT', '09'), ('CVE_LOC', '0001'), ('CVE_MUN', '013'), ('CVE_AGEB', '1559')])\n",
      "OrderedDict([('CVE_ENT', '09'), ('CVE_LOC', '0001'), ('CVE_MUN', '013'), ('CVE_AGEB', '1239')])\n",
      "OrderedDict([('CVE_ENT', '09'), ('CVE_LOC', '0001'), ('CVE_MUN', '013'), ('CVE_AGEB', '1120')])\n",
      "OrderedDict([('CVE_ENT', '09'), ('CVE_LOC', '0001'), ('CVE_MUN', '013'), ('CVE_AGEB', '0743')])\n",
      "OrderedDict([('CVE_ENT', '09'), ('CVE_LOC', '0001'), ('CVE_MUN', '013'), ('CVE_AGEB', '0762')])\n",
      "OrderedDict([('CVE_ENT', '09'), ('CVE_LOC', '0001'), ('CVE_MUN', '013'), ('CVE_AGEB', '1296')])\n",
      "OrderedDict([('CVE_ENT', '09'), ('CVE_LOC', '0001'), ('CVE_MUN', '013'), ('CVE_AGEB', '0194')])\n",
      "OrderedDict([('CVE_ENT', '09'), ('CVE_LOC', '0001'), ('CVE_MUN', '013'), ('CVE_AGEB', '0245')])\n",
      "OrderedDict([('CVE_ENT', '09'), ('CVE_LOC', '0001'), ('CVE_MUN', '013'), ('CVE_AGEB', '1332')])\n",
      "OrderedDict([('CVE_ENT', '09'), ('CVE_LOC', '0001'), ('CVE_MUN', '013'), ('CVE_AGEB', '1563')])\n",
      "OrderedDict([('CVE_ENT', '09'), ('CVE_LOC', '0001'), ('CVE_MUN', '013'), ('CVE_AGEB', '0175')])\n",
      "OrderedDict([('CVE_ENT', '09'), ('CVE_LOC', '0001'), ('CVE_MUN', '013'), ('CVE_AGEB', '0279')])\n",
      "OrderedDict([('CVE_ENT', '09'), ('CVE_LOC', '0001'), ('CVE_MUN', '013'), ('CVE_AGEB', '0211')])\n",
      "OrderedDict([('CVE_ENT', '09'), ('CVE_LOC', '0001'), ('CVE_MUN', '013'), ('CVE_AGEB', '0226')])\n",
      "OrderedDict([('CVE_ENT', '09'), ('CVE_LOC', '0001'), ('CVE_MUN', '013'), ('CVE_AGEB', '0230')])\n",
      "OrderedDict([('CVE_ENT', '09'), ('CVE_LOC', '0001'), ('CVE_MUN', '013'), ('CVE_AGEB', '1506')])\n",
      "OrderedDict([('CVE_ENT', '09'), ('CVE_LOC', '0001'), ('CVE_MUN', '013'), ('CVE_AGEB', '1578')])\n",
      "OrderedDict([('CVE_ENT', '09'), ('CVE_LOC', '0001'), ('CVE_MUN', '013'), ('CVE_AGEB', '1262')])\n",
      "OrderedDict([('CVE_ENT', '09'), ('CVE_LOC', '0001'), ('CVE_MUN', '013'), ('CVE_AGEB', '0207')])\n",
      "OrderedDict([('CVE_ENT', '09'), ('CVE_LOC', '0001'), ('CVE_MUN', '013'), ('CVE_AGEB', '0334')])\n",
      "OrderedDict([('CVE_ENT', '09'), ('CVE_LOC', '0001'), ('CVE_MUN', '013'), ('CVE_AGEB', '0419')])\n",
      "OrderedDict([('CVE_ENT', '09'), ('CVE_LOC', '0001'), ('CVE_MUN', '013'), ('CVE_AGEB', '0404')])\n",
      "OrderedDict([('CVE_ENT', '09'), ('CVE_LOC', '0001'), ('CVE_MUN', '013'), ('CVE_AGEB', '1101')])\n",
      "OrderedDict([('CVE_ENT', '09'), ('CVE_LOC', '0001'), ('CVE_MUN', '013'), ('CVE_AGEB', '0438')])\n",
      "OrderedDict([('CVE_ENT', '09'), ('CVE_LOC', '0001'), ('CVE_MUN', '013'), ('CVE_AGEB', '1116')])\n",
      "OrderedDict([('CVE_ENT', '09'), ('CVE_LOC', '0001'), ('CVE_MUN', '013'), ('CVE_AGEB', '1489')])\n",
      "OrderedDict([('CVE_ENT', '09'), ('CVE_LOC', '0001'), ('CVE_MUN', '013'), ('CVE_AGEB', '0669')])\n",
      "OrderedDict([('CVE_ENT', '09'), ('CVE_LOC', '0001'), ('CVE_MUN', '013'), ('CVE_AGEB', '0692')])\n",
      "OrderedDict([('CVE_ENT', '09'), ('CVE_LOC', '0001'), ('CVE_MUN', '013'), ('CVE_AGEB', '0705')])\n",
      "OrderedDict([('CVE_ENT', '09'), ('CVE_LOC', '0001'), ('CVE_MUN', '013'), ('CVE_AGEB', '0828')])\n",
      "OrderedDict([('CVE_ENT', '09'), ('CVE_LOC', '0001'), ('CVE_MUN', '013'), ('CVE_AGEB', '0870')])\n",
      "OrderedDict([('CVE_ENT', '09'), ('CVE_LOC', '0001'), ('CVE_MUN', '013'), ('CVE_AGEB', '1135')])\n",
      "OrderedDict([('CVE_ENT', '09'), ('CVE_LOC', '0001'), ('CVE_MUN', '013'), ('CVE_AGEB', '1493')])\n",
      "OrderedDict([('CVE_ENT', '09'), ('CVE_LOC', '0001'), ('CVE_MUN', '013'), ('CVE_AGEB', '1046')])\n",
      "OrderedDict([('CVE_ENT', '09'), ('CVE_LOC', '0001'), ('CVE_MUN', '013'), ('CVE_AGEB', '1099')])\n",
      "OrderedDict([('CVE_ENT', '09'), ('CVE_LOC', '0001'), ('CVE_MUN', '013'), ('CVE_AGEB', '1188')])\n",
      "OrderedDict([('CVE_ENT', '09'), ('CVE_LOC', '0001'), ('CVE_MUN', '013'), ('CVE_AGEB', '146A')])\n",
      "OrderedDict([('CVE_ENT', '09'), ('CVE_LOC', '0001'), ('CVE_MUN', '013'), ('CVE_AGEB', '1510')])\n",
      "OrderedDict([('CVE_ENT', '09'), ('CVE_LOC', '0001'), ('CVE_MUN', '013'), ('CVE_AGEB', '0508')])\n",
      "OrderedDict([('CVE_ENT', '09'), ('CVE_LOC', '0001'), ('CVE_MUN', '013'), ('CVE_AGEB', '114A')])\n",
      "OrderedDict([('CVE_ENT', '09'), ('CVE_LOC', '0001'), ('CVE_MUN', '013'), ('CVE_AGEB', '025A')])\n",
      "OrderedDict([('CVE_ENT', '09'), ('CVE_LOC', '0001'), ('CVE_MUN', '014'), ('CVE_AGEB', '0543')])\n",
      "OrderedDict([('CVE_ENT', '09'), ('CVE_LOC', '0001'), ('CVE_MUN', '014'), ('CVE_AGEB', '0967')])\n",
      "OrderedDict([('CVE_ENT', '09'), ('CVE_LOC', '0001'), ('CVE_MUN', '014'), ('CVE_AGEB', '0045')])\n",
      "OrderedDict([('CVE_ENT', '09'), ('CVE_LOC', '0001'), ('CVE_MUN', '014'), ('CVE_AGEB', '0168')])\n",
      "OrderedDict([('CVE_ENT', '09'), ('CVE_LOC', '0001'), ('CVE_MUN', '014'), ('CVE_AGEB', '0971')])\n",
      "OrderedDict([('CVE_ENT', '09'), ('CVE_LOC', '0001'), ('CVE_MUN', '014'), ('CVE_AGEB', '0878')])\n",
      "OrderedDict([('CVE_ENT', '09'), ('CVE_LOC', '0001'), ('CVE_MUN', '014'), ('CVE_AGEB', '051A')])\n",
      "OrderedDict([('CVE_ENT', '09'), ('CVE_LOC', '0001'), ('CVE_MUN', '014'), ('CVE_AGEB', '0524')])\n",
      "OrderedDict([('CVE_ENT', '09'), ('CVE_LOC', '0001'), ('CVE_MUN', '014'), ('CVE_AGEB', '0346')])\n",
      "OrderedDict([('CVE_ENT', '09'), ('CVE_LOC', '0001'), ('CVE_MUN', '014'), ('CVE_AGEB', '0670')])\n",
      "OrderedDict([('CVE_ENT', '09'), ('CVE_LOC', '0001'), ('CVE_MUN', '014'), ('CVE_AGEB', '0914')])\n",
      "OrderedDict([('CVE_ENT', '09'), ('CVE_LOC', '0001'), ('CVE_MUN', '014'), ('CVE_AGEB', '0115')])\n",
      "OrderedDict([('CVE_ENT', '09'), ('CVE_LOC', '0001'), ('CVE_MUN', '014'), ('CVE_AGEB', '1024')])\n",
      "OrderedDict([('CVE_ENT', '09'), ('CVE_LOC', '0001'), ('CVE_MUN', '014'), ('CVE_AGEB', '0153')])\n",
      "OrderedDict([('CVE_ENT', '09'), ('CVE_LOC', '0001'), ('CVE_MUN', '014'), ('CVE_AGEB', '0219')])\n",
      "OrderedDict([('CVE_ENT', '09'), ('CVE_LOC', '0001'), ('CVE_MUN', '014'), ('CVE_AGEB', '0666')])\n",
      "OrderedDict([('CVE_ENT', '09'), ('CVE_LOC', '0001'), ('CVE_MUN', '014'), ('CVE_AGEB', '0882')])\n",
      "OrderedDict([('CVE_ENT', '09'), ('CVE_LOC', '0001'), ('CVE_MUN', '014'), ('CVE_AGEB', '0187')])\n",
      "OrderedDict([('CVE_ENT', '09'), ('CVE_LOC', '0001'), ('CVE_MUN', '014'), ('CVE_AGEB', '0929')])\n",
      "OrderedDict([('CVE_ENT', '09'), ('CVE_LOC', '0001'), ('CVE_MUN', '014'), ('CVE_AGEB', '0933')])\n",
      "OrderedDict([('CVE_ENT', '09'), ('CVE_LOC', '0001'), ('CVE_MUN', '014'), ('CVE_AGEB', '0986')])\n",
      "OrderedDict([('CVE_ENT', '09'), ('CVE_LOC', '0001'), ('CVE_MUN', '014'), ('CVE_AGEB', '101A')])\n",
      "OrderedDict([('CVE_ENT', '09'), ('CVE_LOC', '0001'), ('CVE_MUN', '014'), ('CVE_AGEB', '0990')])\n",
      "OrderedDict([('CVE_ENT', '09'), ('CVE_LOC', '0001'), ('CVE_MUN', '014'), ('CVE_AGEB', '0312')])\n",
      "OrderedDict([('CVE_ENT', '09'), ('CVE_LOC', '0001'), ('CVE_MUN', '014'), ('CVE_AGEB', '0327')])\n",
      "OrderedDict([('CVE_ENT', '09'), ('CVE_LOC', '0001'), ('CVE_MUN', '014'), ('CVE_AGEB', '0331')])\n",
      "OrderedDict([('CVE_ENT', '09'), ('CVE_LOC', '0001'), ('CVE_MUN', '014'), ('CVE_AGEB', '0685')])\n",
      "OrderedDict([('CVE_ENT', '09'), ('CVE_LOC', '0001'), ('CVE_MUN', '014'), ('CVE_AGEB', '0717')])\n",
      "OrderedDict([('CVE_ENT', '09'), ('CVE_LOC', '0001'), ('CVE_MUN', '014'), ('CVE_AGEB', '0149')])\n",
      "OrderedDict([('CVE_ENT', '09'), ('CVE_LOC', '0001'), ('CVE_MUN', '014'), ('CVE_AGEB', '0172')])\n",
      "OrderedDict([('CVE_ENT', '09'), ('CVE_LOC', '0001'), ('CVE_MUN', '014'), ('CVE_AGEB', '0204')])\n",
      "OrderedDict([('CVE_ENT', '09'), ('CVE_LOC', '0001'), ('CVE_MUN', '014'), ('CVE_AGEB', '0011')])\n",
      "OrderedDict([('CVE_ENT', '09'), ('CVE_LOC', '0001'), ('CVE_MUN', '014'), ('CVE_AGEB', '0026')])\n",
      "OrderedDict([('CVE_ENT', '09'), ('CVE_LOC', '0001'), ('CVE_MUN', '014'), ('CVE_AGEB', '0030')])\n",
      "OrderedDict([('CVE_ENT', '09'), ('CVE_LOC', '0001'), ('CVE_MUN', '014'), ('CVE_AGEB', '005A')])\n",
      "OrderedDict([('CVE_ENT', '09'), ('CVE_LOC', '0001'), ('CVE_MUN', '014'), ('CVE_AGEB', '0492')])\n",
      "OrderedDict([('CVE_ENT', '09'), ('CVE_LOC', '0001'), ('CVE_MUN', '014'), ('CVE_AGEB', '0505')])\n",
      "OrderedDict([('CVE_ENT', '09'), ('CVE_LOC', '0001'), ('CVE_MUN', '014'), ('CVE_AGEB', '0539')])\n",
      "OrderedDict([('CVE_ENT', '09'), ('CVE_LOC', '0001'), ('CVE_MUN', '014'), ('CVE_AGEB', '0825')])\n",
      "OrderedDict([('CVE_ENT', '09'), ('CVE_LOC', '0001'), ('CVE_MUN', '014'), ('CVE_AGEB', '0435')])\n",
      "OrderedDict([('CVE_ENT', '09'), ('CVE_LOC', '0001'), ('CVE_MUN', '014'), ('CVE_AGEB', '0581')])\n",
      "OrderedDict([('CVE_ENT', '09'), ('CVE_LOC', '0001'), ('CVE_MUN', '014'), ('CVE_AGEB', '0562')])\n",
      "OrderedDict([('CVE_ENT', '09'), ('CVE_LOC', '0001'), ('CVE_MUN', '014'), ('CVE_AGEB', '0454')])\n",
      "OrderedDict([('CVE_ENT', '09'), ('CVE_LOC', '0001'), ('CVE_MUN', '014'), ('CVE_AGEB', '0863')])\n",
      "OrderedDict([('CVE_ENT', '09'), ('CVE_LOC', '0001'), ('CVE_MUN', '014'), ('CVE_AGEB', '0558')])\n",
      "OrderedDict([('CVE_ENT', '09'), ('CVE_LOC', '0001'), ('CVE_MUN', '014'), ('CVE_AGEB', '0083')])\n",
      "OrderedDict([('CVE_ENT', '09'), ('CVE_LOC', '0001'), ('CVE_MUN', '014'), ('CVE_AGEB', '0098')])\n",
      "OrderedDict([('CVE_ENT', '09'), ('CVE_LOC', '0001'), ('CVE_MUN', '014'), ('CVE_AGEB', '0100')])\n",
      "OrderedDict([('CVE_ENT', '09'), ('CVE_LOC', '0001'), ('CVE_MUN', '014'), ('CVE_AGEB', '0793')])\n",
      "OrderedDict([('CVE_ENT', '09'), ('CVE_LOC', '0001'), ('CVE_MUN', '014'), ('CVE_AGEB', '0365')])\n",
      "OrderedDict([('CVE_ENT', '09'), ('CVE_LOC', '0001'), ('CVE_MUN', '014'), ('CVE_AGEB', '083A')])\n",
      "OrderedDict([('CVE_ENT', '09'), ('CVE_LOC', '0001'), ('CVE_MUN', '014'), ('CVE_AGEB', '0628')])\n",
      "OrderedDict([('CVE_ENT', '09'), ('CVE_LOC', '0001'), ('CVE_MUN', '014'), ('CVE_AGEB', '0469')])\n",
      "OrderedDict([('CVE_ENT', '09'), ('CVE_LOC', '0001'), ('CVE_MUN', '014'), ('CVE_AGEB', '0473')])\n",
      "OrderedDict([('CVE_ENT', '09'), ('CVE_LOC', '0001'), ('CVE_MUN', '014'), ('CVE_AGEB', '0420')])\n",
      "OrderedDict([('CVE_ENT', '09'), ('CVE_LOC', '0001'), ('CVE_MUN', '014'), ('CVE_AGEB', '0191')])\n",
      "OrderedDict([('CVE_ENT', '09'), ('CVE_LOC', '0001'), ('CVE_MUN', '014'), ('CVE_AGEB', '0596')])\n",
      "OrderedDict([('CVE_ENT', '09'), ('CVE_LOC', '0001'), ('CVE_MUN', '014'), ('CVE_AGEB', '0609')])\n",
      "OrderedDict([('CVE_ENT', '09'), ('CVE_LOC', '0001'), ('CVE_MUN', '014'), ('CVE_AGEB', '0613')])\n",
      "OrderedDict([('CVE_ENT', '09'), ('CVE_LOC', '0001'), ('CVE_MUN', '014'), ('CVE_AGEB', '0632')])\n",
      "OrderedDict([('CVE_ENT', '09'), ('CVE_LOC', '0001'), ('CVE_MUN', '014'), ('CVE_AGEB', '0948')])\n",
      "OrderedDict([('CVE_ENT', '09'), ('CVE_LOC', '0001'), ('CVE_MUN', '014'), ('CVE_AGEB', '0647')])\n",
      "OrderedDict([('CVE_ENT', '09'), ('CVE_LOC', '0001'), ('CVE_MUN', '014'), ('CVE_AGEB', '0651')])\n",
      "OrderedDict([('CVE_ENT', '09'), ('CVE_LOC', '0001'), ('CVE_MUN', '014'), ('CVE_AGEB', '0844')])\n",
      "OrderedDict([('CVE_ENT', '09'), ('CVE_LOC', '0001'), ('CVE_MUN', '014'), ('CVE_AGEB', '0859')])\n",
      "OrderedDict([('CVE_ENT', '09'), ('CVE_LOC', '0001'), ('CVE_MUN', '014'), ('CVE_AGEB', '0350')])\n",
      "OrderedDict([('CVE_ENT', '09'), ('CVE_LOC', '0001'), ('CVE_MUN', '014'), ('CVE_AGEB', '0384')])\n",
      "OrderedDict([('CVE_ENT', '09'), ('CVE_LOC', '0001'), ('CVE_MUN', '014'), ('CVE_AGEB', '0399')])\n",
      "OrderedDict([('CVE_ENT', '09'), ('CVE_LOC', '0001'), ('CVE_MUN', '014'), ('CVE_AGEB', '069A')])\n",
      "OrderedDict([('CVE_ENT', '09'), ('CVE_LOC', '0001'), ('CVE_MUN', '014'), ('CVE_AGEB', '0702')])\n",
      "OrderedDict([('CVE_ENT', '09'), ('CVE_LOC', '0001'), ('CVE_MUN', '014'), ('CVE_AGEB', '0257')])\n",
      "OrderedDict([('CVE_ENT', '09'), ('CVE_LOC', '0001'), ('CVE_MUN', '014'), ('CVE_AGEB', '0261')])\n",
      "OrderedDict([('CVE_ENT', '09'), ('CVE_LOC', '0001'), ('CVE_MUN', '014'), ('CVE_AGEB', '0276')])\n",
      "OrderedDict([('CVE_ENT', '09'), ('CVE_LOC', '0001'), ('CVE_MUN', '014'), ('CVE_AGEB', '0755')])\n",
      "OrderedDict([('CVE_ENT', '09'), ('CVE_LOC', '0001'), ('CVE_MUN', '014'), ('CVE_AGEB', '037A')])\n",
      "OrderedDict([('CVE_ENT', '09'), ('CVE_LOC', '0001'), ('CVE_MUN', '014'), ('CVE_AGEB', '0488')])\n",
      "OrderedDict([('CVE_ENT', '09'), ('CVE_LOC', '0001'), ('CVE_MUN', '014'), ('CVE_AGEB', '0242')])\n",
      "OrderedDict([('CVE_ENT', '09'), ('CVE_LOC', '0001'), ('CVE_MUN', '014'), ('CVE_AGEB', '0064')])\n",
      "OrderedDict([('CVE_ENT', '09'), ('CVE_LOC', '0001'), ('CVE_MUN', '014'), ('CVE_AGEB', '012A')])\n",
      "OrderedDict([('CVE_ENT', '09'), ('CVE_LOC', '0001'), ('CVE_MUN', '014'), ('CVE_AGEB', '044A')])\n",
      "OrderedDict([('CVE_ENT', '09'), ('CVE_LOC', '0001'), ('CVE_MUN', '014'), ('CVE_AGEB', '0079')])\n",
      "OrderedDict([('CVE_ENT', '09'), ('CVE_LOC', '0001'), ('CVE_MUN', '014'), ('CVE_AGEB', '0577')])\n",
      "OrderedDict([('CVE_ENT', '09'), ('CVE_LOC', '0001'), ('CVE_MUN', '014'), ('CVE_AGEB', '0789')])\n",
      "OrderedDict([('CVE_ENT', '09'), ('CVE_LOC', '0001'), ('CVE_MUN', '014'), ('CVE_AGEB', '0897')])\n",
      "OrderedDict([('CVE_ENT', '09'), ('CVE_LOC', '0001'), ('CVE_MUN', '014'), ('CVE_AGEB', '090A')])\n",
      "OrderedDict([('CVE_ENT', '09'), ('CVE_LOC', '0001'), ('CVE_MUN', '014'), ('CVE_AGEB', '0134')])\n",
      "OrderedDict([('CVE_ENT', '09'), ('CVE_LOC', '0001'), ('CVE_MUN', '014'), ('CVE_AGEB', '0952')])\n",
      "OrderedDict([('CVE_ENT', '09'), ('CVE_LOC', '0001'), ('CVE_MUN', '014'), ('CVE_AGEB', '1005')])\n",
      "OrderedDict([('CVE_ENT', '09'), ('CVE_LOC', '0001'), ('CVE_MUN', '014'), ('CVE_AGEB', '0740')])\n",
      "OrderedDict([('CVE_ENT', '09'), ('CVE_LOC', '0001'), ('CVE_MUN', '014'), ('CVE_AGEB', '0401')])\n",
      "OrderedDict([('CVE_ENT', '09'), ('CVE_LOC', '0001'), ('CVE_MUN', '014'), ('CVE_AGEB', '0416')])\n",
      "OrderedDict([('CVE_ENT', '09'), ('CVE_LOC', '0001'), ('CVE_MUN', '014'), ('CVE_AGEB', '0280')])\n",
      "OrderedDict([('CVE_ENT', '09'), ('CVE_LOC', '0001'), ('CVE_MUN', '014'), ('CVE_AGEB', '0295')])\n",
      "OrderedDict([('CVE_ENT', '09'), ('CVE_LOC', '0001'), ('CVE_MUN', '014'), ('CVE_AGEB', '0308')])\n",
      "OrderedDict([('CVE_ENT', '09'), ('CVE_LOC', '0001'), ('CVE_MUN', '014'), ('CVE_AGEB', '0721')])\n",
      "OrderedDict([('CVE_ENT', '09'), ('CVE_LOC', '0001'), ('CVE_MUN', '014'), ('CVE_AGEB', '0736')])\n",
      "OrderedDict([('CVE_ENT', '09'), ('CVE_LOC', '0001'), ('CVE_MUN', '014'), ('CVE_AGEB', '076A')])\n",
      "OrderedDict([('CVE_ENT', '09'), ('CVE_LOC', '0001'), ('CVE_MUN', '014'), ('CVE_AGEB', '0774')])\n",
      "OrderedDict([('CVE_ENT', '09'), ('CVE_LOC', '0001'), ('CVE_MUN', '014'), ('CVE_AGEB', '0806')])\n",
      "OrderedDict([('CVE_ENT', '09'), ('CVE_LOC', '0001'), ('CVE_MUN', '014'), ('CVE_AGEB', '0810')])\n",
      "OrderedDict([('CVE_ENT', '09'), ('CVE_LOC', '0001'), ('CVE_MUN', '014'), ('CVE_AGEB', '0238')])\n",
      "OrderedDict([('CVE_ENT', '09'), ('CVE_LOC', '0001'), ('CVE_MUN', '014'), ('CVE_AGEB', '0223')])\n",
      "OrderedDict([('CVE_ENT', '09'), ('CVE_LOC', '0001'), ('CVE_MUN', '015'), ('CVE_AGEB', '1074')])\n",
      "OrderedDict([('CVE_ENT', '09'), ('CVE_LOC', '0001'), ('CVE_MUN', '015'), ('CVE_AGEB', '0127')])\n",
      "OrderedDict([('CVE_ENT', '09'), ('CVE_LOC', '0001'), ('CVE_MUN', '015'), ('CVE_AGEB', '0589')])\n",
      "OrderedDict([('CVE_ENT', '09'), ('CVE_LOC', '0001'), ('CVE_MUN', '015'), ('CVE_AGEB', '0358')])\n",
      "OrderedDict([('CVE_ENT', '09'), ('CVE_LOC', '0001'), ('CVE_MUN', '015'), ('CVE_AGEB', '1464')])\n",
      "OrderedDict([('CVE_ENT', '09'), ('CVE_LOC', '0001'), ('CVE_MUN', '015'), ('CVE_AGEB', '1479')])\n",
      "OrderedDict([('CVE_ENT', '09'), ('CVE_LOC', '0001'), ('CVE_MUN', '015'), ('CVE_AGEB', '0038')])\n",
      "OrderedDict([('CVE_ENT', '09'), ('CVE_LOC', '0001'), ('CVE_MUN', '015'), ('CVE_AGEB', '0911')])\n",
      "OrderedDict([('CVE_ENT', '09'), ('CVE_LOC', '0001'), ('CVE_MUN', '015'), ('CVE_AGEB', '0023')])\n",
      "OrderedDict([('CVE_ENT', '09'), ('CVE_LOC', '0001'), ('CVE_MUN', '015'), ('CVE_AGEB', '0466')])\n",
      "OrderedDict([('CVE_ENT', '09'), ('CVE_LOC', '0001'), ('CVE_MUN', '015'), ('CVE_AGEB', '0926')])\n",
      "OrderedDict([('CVE_ENT', '09'), ('CVE_LOC', '0001'), ('CVE_MUN', '015'), ('CVE_AGEB', '1229')])\n",
      "OrderedDict([('CVE_ENT', '09'), ('CVE_LOC', '0001'), ('CVE_MUN', '015'), ('CVE_AGEB', '1290')])\n",
      "OrderedDict([('CVE_ENT', '09'), ('CVE_LOC', '0001'), ('CVE_MUN', '015'), ('CVE_AGEB', '1303')])\n",
      "OrderedDict([('CVE_ENT', '09'), ('CVE_LOC', '0001'), ('CVE_MUN', '015'), ('CVE_AGEB', '1411')])\n",
      "OrderedDict([('CVE_ENT', '09'), ('CVE_LOC', '0001'), ('CVE_MUN', '015'), ('CVE_AGEB', '1430')])\n",
      "OrderedDict([('CVE_ENT', '09'), ('CVE_LOC', '0001'), ('CVE_MUN', '015'), ('CVE_AGEB', '145A')])\n",
      "OrderedDict([('CVE_ENT', '09'), ('CVE_LOC', '0001'), ('CVE_MUN', '015'), ('CVE_AGEB', '1498')])\n",
      "OrderedDict([('CVE_ENT', '09'), ('CVE_LOC', '0001'), ('CVE_MUN', '015'), ('CVE_AGEB', '1500')])\n",
      "OrderedDict([('CVE_ENT', '09'), ('CVE_LOC', '0001'), ('CVE_MUN', '015'), ('CVE_AGEB', '1515')])\n",
      "OrderedDict([('CVE_ENT', '09'), ('CVE_LOC', '0001'), ('CVE_MUN', '015'), ('CVE_AGEB', '152A')])\n",
      "OrderedDict([('CVE_ENT', '09'), ('CVE_LOC', '0001'), ('CVE_MUN', '015'), ('CVE_AGEB', '0945')])\n",
      "OrderedDict([('CVE_ENT', '09'), ('CVE_LOC', '0001'), ('CVE_MUN', '015'), ('CVE_AGEB', '0983')])\n",
      "OrderedDict([('CVE_ENT', '09'), ('CVE_LOC', '0001'), ('CVE_MUN', '015'), ('CVE_AGEB', '1089')])\n",
      "OrderedDict([('CVE_ENT', '09'), ('CVE_LOC', '0001'), ('CVE_MUN', '015'), ('CVE_AGEB', '0042')])\n",
      "OrderedDict([('CVE_ENT', '09'), ('CVE_LOC', '0001'), ('CVE_MUN', '015'), ('CVE_AGEB', '0057')])\n",
      "OrderedDict([('CVE_ENT', '09'), ('CVE_LOC', '0001'), ('CVE_MUN', '015'), ('CVE_AGEB', '0061')])\n",
      "OrderedDict([('CVE_ENT', '09'), ('CVE_LOC', '0001'), ('CVE_MUN', '015'), ('CVE_AGEB', '0080')])\n",
      "OrderedDict([('CVE_ENT', '09'), ('CVE_LOC', '0001'), ('CVE_MUN', '015'), ('CVE_AGEB', '0165')])\n",
      "OrderedDict([('CVE_ENT', '09'), ('CVE_LOC', '0001'), ('CVE_MUN', '015'), ('CVE_AGEB', '017A')])\n",
      "OrderedDict([('CVE_ENT', '09'), ('CVE_LOC', '0001'), ('CVE_MUN', '015'), ('CVE_AGEB', '0555')])\n",
      "OrderedDict([('CVE_ENT', '09'), ('CVE_LOC', '0001'), ('CVE_MUN', '015'), ('CVE_AGEB', '0593')])\n",
      "OrderedDict([('CVE_ENT', '09'), ('CVE_LOC', '0001'), ('CVE_MUN', '015'), ('CVE_AGEB', '0663')])\n",
      "OrderedDict([('CVE_ENT', '09'), ('CVE_LOC', '0001'), ('CVE_MUN', '015'), ('CVE_AGEB', '0930')])\n",
      "OrderedDict([('CVE_ENT', '09'), ('CVE_LOC', '0001'), ('CVE_MUN', '015'), ('CVE_AGEB', '1178')])\n",
      "OrderedDict([('CVE_ENT', '09'), ('CVE_LOC', '0001'), ('CVE_MUN', '015'), ('CVE_AGEB', '0678')])\n",
      "OrderedDict([('CVE_ENT', '09'), ('CVE_LOC', '0001'), ('CVE_MUN', '015'), ('CVE_AGEB', '1549')])\n",
      "OrderedDict([('CVE_ENT', '09'), ('CVE_LOC', '0001'), ('CVE_MUN', '015'), ('CVE_AGEB', '0112')])\n",
      "OrderedDict([('CVE_ENT', '09'), ('CVE_LOC', '0001'), ('CVE_MUN', '015'), ('CVE_AGEB', '0254')])\n",
      "OrderedDict([('CVE_ENT', '09'), ('CVE_LOC', '0001'), ('CVE_MUN', '015'), ('CVE_AGEB', '0216')])\n",
      "OrderedDict([('CVE_ENT', '09'), ('CVE_LOC', '0001'), ('CVE_MUN', '015'), ('CVE_AGEB', '0451')])\n",
      "OrderedDict([('CVE_ENT', '09'), ('CVE_LOC', '0001'), ('CVE_MUN', '015'), ('CVE_AGEB', '1286')])\n",
      "OrderedDict([('CVE_ENT', '09'), ('CVE_LOC', '0001'), ('CVE_MUN', '015'), ('CVE_AGEB', '1055')])\n",
      "OrderedDict([('CVE_ENT', '09'), ('CVE_LOC', '0001'), ('CVE_MUN', '015'), ('CVE_AGEB', '0377')])\n",
      "OrderedDict([('CVE_ENT', '09'), ('CVE_LOC', '0001'), ('CVE_MUN', '015'), ('CVE_AGEB', '1337')])\n",
      "OrderedDict([('CVE_ENT', '09'), ('CVE_LOC', '0001'), ('CVE_MUN', '015'), ('CVE_AGEB', '1110')])\n",
      "OrderedDict([('CVE_ENT', '09'), ('CVE_LOC', '0001'), ('CVE_MUN', '015'), ('CVE_AGEB', '0146')])\n",
      "OrderedDict([('CVE_ENT', '09'), ('CVE_LOC', '0001'), ('CVE_MUN', '015'), ('CVE_AGEB', '0184')])\n",
      "OrderedDict([('CVE_ENT', '09'), ('CVE_LOC', '0001'), ('CVE_MUN', '015'), ('CVE_AGEB', '0752')])\n",
      "OrderedDict([('CVE_ENT', '09'), ('CVE_LOC', '0001'), ('CVE_MUN', '015'), ('CVE_AGEB', '0536')])\n",
      "OrderedDict([('CVE_ENT', '09'), ('CVE_LOC', '0001'), ('CVE_MUN', '015'), ('CVE_AGEB', '0362')])\n",
      "OrderedDict([('CVE_ENT', '09'), ('CVE_LOC', '0001'), ('CVE_MUN', '015'), ('CVE_AGEB', '0413')])\n",
      "OrderedDict([('CVE_ENT', '09'), ('CVE_LOC', '0001'), ('CVE_MUN', '015'), ('CVE_AGEB', '0432')])\n",
      "OrderedDict([('CVE_ENT', '09'), ('CVE_LOC', '0001'), ('CVE_MUN', '015'), ('CVE_AGEB', '0447')])\n",
      "OrderedDict([('CVE_ENT', '09'), ('CVE_LOC', '0001'), ('CVE_MUN', '015'), ('CVE_AGEB', '0470')])\n",
      "OrderedDict([('CVE_ENT', '09'), ('CVE_LOC', '0001'), ('CVE_MUN', '015'), ('CVE_AGEB', '0485')])\n",
      "OrderedDict([('CVE_ENT', '09'), ('CVE_LOC', '0001'), ('CVE_MUN', '015'), ('CVE_AGEB', '0697')])\n",
      "OrderedDict([('CVE_ENT', '09'), ('CVE_LOC', '0001'), ('CVE_MUN', '015'), ('CVE_AGEB', '070A')])\n",
      "OrderedDict([('CVE_ENT', '09'), ('CVE_LOC', '0001'), ('CVE_MUN', '015'), ('CVE_AGEB', '0714')])\n",
      "OrderedDict([('CVE_ENT', '09'), ('CVE_LOC', '0001'), ('CVE_MUN', '015'), ('CVE_AGEB', '1144')])\n",
      "OrderedDict([('CVE_ENT', '09'), ('CVE_LOC', '0001'), ('CVE_MUN', '015'), ('CVE_AGEB', '1163')])\n",
      "OrderedDict([('CVE_ENT', '09'), ('CVE_LOC', '0001'), ('CVE_MUN', '015'), ('CVE_AGEB', '0748')])\n",
      "OrderedDict([('CVE_ENT', '09'), ('CVE_LOC', '0001'), ('CVE_MUN', '015'), ('CVE_AGEB', '1182')])\n",
      "OrderedDict([('CVE_ENT', '09'), ('CVE_LOC', '0001'), ('CVE_MUN', '015'), ('CVE_AGEB', '1197')])\n",
      "OrderedDict([('CVE_ENT', '09'), ('CVE_LOC', '0001'), ('CVE_MUN', '015'), ('CVE_AGEB', '120A')])\n",
      "OrderedDict([('CVE_ENT', '09'), ('CVE_LOC', '0001'), ('CVE_MUN', '015'), ('CVE_AGEB', '1214')])\n",
      "OrderedDict([('CVE_ENT', '09'), ('CVE_LOC', '0001'), ('CVE_MUN', '015'), ('CVE_AGEB', '1233')])\n",
      "OrderedDict([('CVE_ENT', '09'), ('CVE_LOC', '0001'), ('CVE_MUN', '015'), ('CVE_AGEB', '1267')])\n",
      "OrderedDict([('CVE_ENT', '09'), ('CVE_LOC', '0001'), ('CVE_MUN', '015'), ('CVE_AGEB', '1248')])\n",
      "OrderedDict([('CVE_ENT', '09'), ('CVE_LOC', '0001'), ('CVE_MUN', '015'), ('CVE_AGEB', '1252')])\n",
      "OrderedDict([('CVE_ENT', '09'), ('CVE_LOC', '0001'), ('CVE_MUN', '015'), ('CVE_AGEB', '1271')])\n",
      "OrderedDict([('CVE_ENT', '09'), ('CVE_LOC', '0001'), ('CVE_MUN', '015'), ('CVE_AGEB', '1360')])\n",
      "OrderedDict([('CVE_ENT', '09'), ('CVE_LOC', '0001'), ('CVE_MUN', '015'), ('CVE_AGEB', '1375')])\n",
      "OrderedDict([('CVE_ENT', '09'), ('CVE_LOC', '0001'), ('CVE_MUN', '015'), ('CVE_AGEB', '138A')])\n",
      "OrderedDict([('CVE_ENT', '09'), ('CVE_LOC', '0001'), ('CVE_MUN', '015'), ('CVE_AGEB', '1394')])\n",
      "OrderedDict([('CVE_ENT', '09'), ('CVE_LOC', '0001'), ('CVE_MUN', '015'), ('CVE_AGEB', '1407')])\n",
      "OrderedDict([('CVE_ENT', '09'), ('CVE_LOC', '0001'), ('CVE_MUN', '015'), ('CVE_AGEB', '1426')])\n",
      "OrderedDict([('CVE_ENT', '09'), ('CVE_LOC', '0001'), ('CVE_MUN', '015'), ('CVE_AGEB', '1445')])\n",
      "OrderedDict([('CVE_ENT', '09'), ('CVE_LOC', '0001'), ('CVE_MUN', '015'), ('CVE_AGEB', '1483')])\n",
      "OrderedDict([('CVE_ENT', '09'), ('CVE_LOC', '0001'), ('CVE_MUN', '015'), ('CVE_AGEB', '0998')])\n",
      "OrderedDict([('CVE_ENT', '09'), ('CVE_LOC', '0001'), ('CVE_MUN', '015'), ('CVE_AGEB', '1002')])\n",
      "OrderedDict([('CVE_ENT', '09'), ('CVE_LOC', '0001'), ('CVE_MUN', '015'), ('CVE_AGEB', '0076')])\n",
      "OrderedDict([('CVE_ENT', '09'), ('CVE_LOC', '0001'), ('CVE_MUN', '015'), ('CVE_AGEB', '0095')])\n",
      "OrderedDict([('CVE_ENT', '09'), ('CVE_LOC', '0001'), ('CVE_MUN', '015'), ('CVE_AGEB', '0199')])\n",
      "OrderedDict([('CVE_ENT', '09'), ('CVE_LOC', '0001'), ('CVE_MUN', '015'), ('CVE_AGEB', '0818')])\n",
      "OrderedDict([('CVE_ENT', '09'), ('CVE_LOC', '0001'), ('CVE_MUN', '015'), ('CVE_AGEB', '0339')])\n",
      "OrderedDict([('CVE_ENT', '09'), ('CVE_LOC', '0001'), ('CVE_MUN', '015'), ('CVE_AGEB', '049A')])\n",
      "OrderedDict([('CVE_ENT', '09'), ('CVE_LOC', '0001'), ('CVE_MUN', '015'), ('CVE_AGEB', '0502')])\n",
      "OrderedDict([('CVE_ENT', '09'), ('CVE_LOC', '0001'), ('CVE_MUN', '015'), ('CVE_AGEB', '0521')])\n",
      "OrderedDict([('CVE_ENT', '09'), ('CVE_LOC', '0001'), ('CVE_MUN', '015'), ('CVE_AGEB', '0540')])\n",
      "OrderedDict([('CVE_ENT', '09'), ('CVE_LOC', '0001'), ('CVE_MUN', '015'), ('CVE_AGEB', '056A')])\n",
      "OrderedDict([('CVE_ENT', '09'), ('CVE_LOC', '0001'), ('CVE_MUN', '015'), ('CVE_AGEB', '0574')])\n",
      "OrderedDict([('CVE_ENT', '09'), ('CVE_LOC', '0001'), ('CVE_MUN', '015'), ('CVE_AGEB', '063A')])\n",
      "OrderedDict([('CVE_ENT', '09'), ('CVE_LOC', '0001'), ('CVE_MUN', '015'), ('CVE_AGEB', '0644')])\n",
      "OrderedDict([('CVE_ENT', '09'), ('CVE_LOC', '0001'), ('CVE_MUN', '015'), ('CVE_AGEB', '0659')])\n",
      "OrderedDict([('CVE_ENT', '09'), ('CVE_LOC', '0001'), ('CVE_MUN', '015'), ('CVE_AGEB', '0729')])\n",
      "OrderedDict([('CVE_ENT', '09'), ('CVE_LOC', '0001'), ('CVE_MUN', '015'), ('CVE_AGEB', '0771')])\n",
      "OrderedDict([('CVE_ENT', '09'), ('CVE_LOC', '0001'), ('CVE_MUN', '015'), ('CVE_AGEB', '0786')])\n",
      "OrderedDict([('CVE_ENT', '09'), ('CVE_LOC', '0001'), ('CVE_MUN', '015'), ('CVE_AGEB', '0790')])\n",
      "OrderedDict([('CVE_ENT', '09'), ('CVE_LOC', '0001'), ('CVE_MUN', '015'), ('CVE_AGEB', '0803')])\n",
      "OrderedDict([('CVE_ENT', '09'), ('CVE_LOC', '0001'), ('CVE_MUN', '015'), ('CVE_AGEB', '1106')])\n",
      "OrderedDict([('CVE_ENT', '09'), ('CVE_LOC', '0001'), ('CVE_MUN', '015'), ('CVE_AGEB', '0841')])\n",
      "OrderedDict([('CVE_ENT', '09'), ('CVE_LOC', '0001'), ('CVE_MUN', '015'), ('CVE_AGEB', '0856')])\n",
      "OrderedDict([('CVE_ENT', '09'), ('CVE_LOC', '0001'), ('CVE_MUN', '015'), ('CVE_AGEB', '0860')])\n",
      "OrderedDict([('CVE_ENT', '09'), ('CVE_LOC', '0001'), ('CVE_MUN', '015'), ('CVE_AGEB', '0875')])\n",
      "OrderedDict([('CVE_ENT', '09'), ('CVE_LOC', '0001'), ('CVE_MUN', '015'), ('CVE_AGEB', '088A')])\n",
      "OrderedDict([('CVE_ENT', '09'), ('CVE_LOC', '0001'), ('CVE_MUN', '015'), ('CVE_AGEB', '0894')])\n",
      "OrderedDict([('CVE_ENT', '09'), ('CVE_LOC', '0001'), ('CVE_MUN', '015'), ('CVE_AGEB', '0220')])\n",
      "OrderedDict([('CVE_ENT', '09'), ('CVE_LOC', '0001'), ('CVE_MUN', '015'), ('CVE_AGEB', '0907')])\n",
      "OrderedDict([('CVE_ENT', '09'), ('CVE_LOC', '0001'), ('CVE_MUN', '015'), ('CVE_AGEB', '1159')])\n",
      "OrderedDict([('CVE_ENT', '09'), ('CVE_LOC', '0001'), ('CVE_MUN', '015'), ('CVE_AGEB', '0273')])\n",
      "OrderedDict([('CVE_ENT', '09'), ('CVE_LOC', '0001'), ('CVE_MUN', '015'), ('CVE_AGEB', '0288')])\n",
      "OrderedDict([('CVE_ENT', '09'), ('CVE_LOC', '0001'), ('CVE_MUN', '015'), ('CVE_AGEB', '0305')])\n",
      "OrderedDict([('CVE_ENT', '09'), ('CVE_LOC', '0001'), ('CVE_MUN', '015'), ('CVE_AGEB', '0517')])\n",
      "OrderedDict([('CVE_ENT', '09'), ('CVE_LOC', '0001'), ('CVE_MUN', '015'), ('CVE_AGEB', '0409')])\n",
      "OrderedDict([('CVE_ENT', '09'), ('CVE_LOC', '0001'), ('CVE_MUN', '015'), ('CVE_AGEB', '0682')])\n",
      "OrderedDict([('CVE_ENT', '09'), ('CVE_LOC', '0001'), ('CVE_MUN', '015'), ('CVE_AGEB', '113A')])\n",
      "OrderedDict([('CVE_ENT', '09'), ('CVE_LOC', '0001'), ('CVE_MUN', '015'), ('CVE_AGEB', '106A')])\n",
      "OrderedDict([('CVE_ENT', '09'), ('CVE_LOC', '0001'), ('CVE_MUN', '015'), ('CVE_AGEB', '0343')])\n",
      "OrderedDict([('CVE_ENT', '09'), ('CVE_LOC', '0001'), ('CVE_MUN', '015'), ('CVE_AGEB', '0269')])\n",
      "OrderedDict([('CVE_ENT', '09'), ('CVE_LOC', '0001'), ('CVE_MUN', '015'), ('CVE_AGEB', '0019')])\n",
      "OrderedDict([('CVE_ENT', '09'), ('CVE_LOC', '0001'), ('CVE_MUN', '015'), ('CVE_AGEB', '0396')])\n",
      "OrderedDict([('CVE_ENT', '09'), ('CVE_LOC', '0001'), ('CVE_MUN', '015'), ('CVE_AGEB', '0733')])\n",
      "OrderedDict([('CVE_ENT', '09'), ('CVE_LOC', '0001'), ('CVE_MUN', '015'), ('CVE_AGEB', '1125')])\n",
      "OrderedDict([('CVE_ENT', '09'), ('CVE_LOC', '0001'), ('CVE_MUN', '015'), ('CVE_AGEB', '1318')])\n",
      "OrderedDict([('CVE_ENT', '09'), ('CVE_LOC', '0001'), ('CVE_MUN', '015'), ('CVE_AGEB', '1322')])\n",
      "OrderedDict([('CVE_ENT', '09'), ('CVE_LOC', '0001'), ('CVE_MUN', '015'), ('CVE_AGEB', '1341')])\n",
      "OrderedDict([('CVE_ENT', '09'), ('CVE_LOC', '0001'), ('CVE_MUN', '015'), ('CVE_AGEB', '1356')])\n",
      "OrderedDict([('CVE_ENT', '09'), ('CVE_LOC', '0001'), ('CVE_MUN', '015'), ('CVE_AGEB', '1534')])\n",
      "OrderedDict([('CVE_ENT', '09'), ('CVE_LOC', '0001'), ('CVE_MUN', '015'), ('CVE_AGEB', '0235')])\n",
      "OrderedDict([('CVE_ENT', '09'), ('CVE_LOC', '0001'), ('CVE_MUN', '015'), ('CVE_AGEB', '0767')])\n",
      "OrderedDict([('CVE_ENT', '09'), ('CVE_LOC', '0001'), ('CVE_MUN', '015'), ('CVE_AGEB', '095A')])\n",
      "OrderedDict([('CVE_ENT', '09'), ('CVE_LOC', '0001'), ('CVE_MUN', '015'), ('CVE_AGEB', '0964')])\n",
      "OrderedDict([('CVE_ENT', '09'), ('CVE_LOC', '0001'), ('CVE_MUN', '015'), ('CVE_AGEB', '0979')])\n",
      "OrderedDict([('CVE_ENT', '09'), ('CVE_LOC', '0001'), ('CVE_MUN', '015'), ('CVE_AGEB', '1017')])\n",
      "OrderedDict([('CVE_ENT', '09'), ('CVE_LOC', '0001'), ('CVE_MUN', '015'), ('CVE_AGEB', '1036')])\n",
      "OrderedDict([('CVE_ENT', '09'), ('CVE_LOC', '0001'), ('CVE_MUN', '015'), ('CVE_AGEB', '1040')])\n",
      "OrderedDict([('CVE_ENT', '09'), ('CVE_LOC', '0001'), ('CVE_MUN', '015'), ('CVE_AGEB', '1093')])\n",
      "OrderedDict([('CVE_ENT', '09'), ('CVE_LOC', '0001'), ('CVE_MUN', '015'), ('CVE_AGEB', '0381')])\n",
      "OrderedDict([('CVE_ENT', '09'), ('CVE_LOC', '0001'), ('CVE_MUN', '015'), ('CVE_AGEB', '0292')])\n",
      "OrderedDict([('CVE_ENT', '09'), ('CVE_LOC', '0001'), ('CVE_MUN', '015'), ('CVE_AGEB', '024A')])\n",
      "OrderedDict([('CVE_ENT', '09'), ('CVE_LOC', '0001'), ('CVE_MUN', '015'), ('CVE_AGEB', '0108')])\n",
      "OrderedDict([('CVE_ENT', '09'), ('CVE_LOC', '0001'), ('CVE_MUN', '015'), ('CVE_AGEB', '0131')])\n",
      "OrderedDict([('CVE_ENT', '09'), ('CVE_LOC', '0001'), ('CVE_MUN', '015'), ('CVE_AGEB', '0150')])\n",
      "OrderedDict([('CVE_ENT', '09'), ('CVE_LOC', '0001'), ('CVE_MUN', '015'), ('CVE_AGEB', '031A')])\n",
      "OrderedDict([('CVE_ENT', '09'), ('CVE_LOC', '0001'), ('CVE_MUN', '015'), ('CVE_AGEB', '0324')])\n",
      "OrderedDict([('CVE_ENT', '09'), ('CVE_LOC', '0001'), ('CVE_MUN', '015'), ('CVE_AGEB', '0606')])\n",
      "OrderedDict([('CVE_ENT', '09'), ('CVE_LOC', '0001'), ('CVE_MUN', '015'), ('CVE_AGEB', '0610')])\n",
      "OrderedDict([('CVE_ENT', '09'), ('CVE_LOC', '0001'), ('CVE_MUN', '015'), ('CVE_AGEB', '0625')])\n",
      "OrderedDict([('CVE_ENT', '09'), ('CVE_LOC', '0001'), ('CVE_MUN', '015'), ('CVE_AGEB', '0822')])\n",
      "OrderedDict([('CVE_ENT', '09'), ('CVE_LOC', '0001'), ('CVE_MUN', '015'), ('CVE_AGEB', '0837')])\n",
      "OrderedDict([('CVE_ENT', '09'), ('CVE_LOC', '0001'), ('CVE_MUN', '015'), ('CVE_AGEB', '0428')])\n",
      "OrderedDict([('CVE_ENT', '09'), ('CVE_LOC', '0001'), ('CVE_MUN', '015'), ('CVE_AGEB', '0201')])\n",
      "OrderedDict([('CVE_ENT', '09'), ('CVE_LOC', '0001'), ('CVE_MUN', '016'), ('CVE_AGEB', '0020')])\n",
      "OrderedDict([('CVE_ENT', '09'), ('CVE_LOC', '0001'), ('CVE_MUN', '016'), ('CVE_AGEB', '0798')])\n",
      "OrderedDict([('CVE_ENT', '09'), ('CVE_LOC', '0001'), ('CVE_MUN', '016'), ('CVE_AGEB', '0891')])\n",
      "OrderedDict([('CVE_ENT', '09'), ('CVE_LOC', '0001'), ('CVE_MUN', '016'), ('CVE_AGEB', '068A')])\n",
      "OrderedDict([('CVE_ENT', '09'), ('CVE_LOC', '0001'), ('CVE_MUN', '016'), ('CVE_AGEB', '0302')])\n",
      "OrderedDict([('CVE_ENT', '09'), ('CVE_LOC', '0001'), ('CVE_MUN', '016'), ('CVE_AGEB', '0694')])\n",
      "OrderedDict([('CVE_ENT', '09'), ('CVE_LOC', '0001'), ('CVE_MUN', '016'), ('CVE_AGEB', '0016')])\n",
      "OrderedDict([('CVE_ENT', '09'), ('CVE_LOC', '0001'), ('CVE_MUN', '016'), ('CVE_AGEB', '0800')])\n",
      "OrderedDict([('CVE_ENT', '09'), ('CVE_LOC', '0001'), ('CVE_MUN', '016'), ('CVE_AGEB', '0073')])\n",
      "OrderedDict([('CVE_ENT', '09'), ('CVE_LOC', '0001'), ('CVE_MUN', '016'), ('CVE_AGEB', '0213')])\n",
      "OrderedDict([('CVE_ENT', '09'), ('CVE_LOC', '0001'), ('CVE_MUN', '016'), ('CVE_AGEB', '0228')])\n",
      "OrderedDict([('CVE_ENT', '09'), ('CVE_LOC', '0001'), ('CVE_MUN', '016'), ('CVE_AGEB', '0514')])\n",
      "OrderedDict([('CVE_ENT', '09'), ('CVE_LOC', '0001'), ('CVE_MUN', '016'), ('CVE_AGEB', '0054')])\n",
      "OrderedDict([('CVE_ENT', '09'), ('CVE_LOC', '0001'), ('CVE_MUN', '016'), ('CVE_AGEB', '0069')])\n",
      "OrderedDict([('CVE_ENT', '09'), ('CVE_LOC', '0001'), ('CVE_MUN', '016'), ('CVE_AGEB', '0092')])\n",
      "OrderedDict([('CVE_ENT', '09'), ('CVE_LOC', '0001'), ('CVE_MUN', '016'), ('CVE_AGEB', '0232')])\n",
      "OrderedDict([('CVE_ENT', '09'), ('CVE_LOC', '0001'), ('CVE_MUN', '016'), ('CVE_AGEB', '0711')])\n",
      "OrderedDict([('CVE_ENT', '09'), ('CVE_LOC', '0001'), ('CVE_MUN', '016'), ('CVE_AGEB', '0853')])\n",
      "OrderedDict([('CVE_ENT', '09'), ('CVE_LOC', '0001'), ('CVE_MUN', '016'), ('CVE_AGEB', '1029')])\n",
      "OrderedDict([('CVE_ENT', '09'), ('CVE_LOC', '0001'), ('CVE_MUN', '016'), ('CVE_AGEB', '118A')])\n",
      "OrderedDict([('CVE_ENT', '09'), ('CVE_LOC', '0001'), ('CVE_MUN', '016'), ('CVE_AGEB', '1211')])\n",
      "OrderedDict([('CVE_ENT', '09'), ('CVE_LOC', '0001'), ('CVE_MUN', '016'), ('CVE_AGEB', '1226')])\n",
      "OrderedDict([('CVE_ENT', '09'), ('CVE_LOC', '0001'), ('CVE_MUN', '016'), ('CVE_AGEB', '1071')])\n",
      "OrderedDict([('CVE_ENT', '09'), ('CVE_LOC', '0001'), ('CVE_MUN', '016'), ('CVE_AGEB', '1090')])\n",
      "OrderedDict([('CVE_ENT', '09'), ('CVE_LOC', '0001'), ('CVE_MUN', '016'), ('CVE_AGEB', '1103')])\n",
      "OrderedDict([('CVE_ENT', '09'), ('CVE_LOC', '0001'), ('CVE_MUN', '016'), ('CVE_AGEB', '1118')])\n",
      "OrderedDict([('CVE_ENT', '09'), ('CVE_LOC', '0001'), ('CVE_MUN', '016'), ('CVE_AGEB', '1137')])\n",
      "OrderedDict([('CVE_ENT', '09'), ('CVE_LOC', '0001'), ('CVE_MUN', '016'), ('CVE_AGEB', '1156')])\n",
      "OrderedDict([('CVE_ENT', '09'), ('CVE_LOC', '0001'), ('CVE_MUN', '016'), ('CVE_AGEB', '1230')])\n",
      "OrderedDict([('CVE_ENT', '09'), ('CVE_LOC', '0001'), ('CVE_MUN', '016'), ('CVE_AGEB', '125A')])\n",
      "OrderedDict([('CVE_ENT', '09'), ('CVE_LOC', '0001'), ('CVE_MUN', '016'), ('CVE_AGEB', '1283')])\n",
      "OrderedDict([('CVE_ENT', '09'), ('CVE_LOC', '0001'), ('CVE_MUN', '016'), ('CVE_AGEB', '1298')])\n",
      "OrderedDict([('CVE_ENT', '09'), ('CVE_LOC', '0001'), ('CVE_MUN', '016'), ('CVE_AGEB', '1300')])\n",
      "OrderedDict([('CVE_ENT', '09'), ('CVE_LOC', '0001'), ('CVE_MUN', '016'), ('CVE_AGEB', '0088')])\n",
      "OrderedDict([('CVE_ENT', '09'), ('CVE_LOC', '0001'), ('CVE_MUN', '016'), ('CVE_AGEB', '0815')])\n",
      "OrderedDict([('CVE_ENT', '09'), ('CVE_LOC', '0001'), ('CVE_MUN', '016'), ('CVE_AGEB', '0868')])\n",
      "OrderedDict([('CVE_ENT', '09'), ('CVE_LOC', '0001'), ('CVE_MUN', '016'), ('CVE_AGEB', '0529')])\n",
      "OrderedDict([('CVE_ENT', '09'), ('CVE_LOC', '0001'), ('CVE_MUN', '016'), ('CVE_AGEB', '100A')])\n",
      "OrderedDict([('CVE_ENT', '09'), ('CVE_LOC', '0001'), ('CVE_MUN', '016'), ('CVE_AGEB', '0143')])\n",
      "OrderedDict([('CVE_ENT', '09'), ('CVE_LOC', '0001'), ('CVE_MUN', '016'), ('CVE_AGEB', '0887')])\n",
      "OrderedDict([('CVE_ENT', '09'), ('CVE_LOC', '0001'), ('CVE_MUN', '016'), ('CVE_AGEB', '0425')])\n",
      "OrderedDict([('CVE_ENT', '09'), ('CVE_LOC', '0001'), ('CVE_MUN', '016'), ('CVE_AGEB', '0764')])\n",
      "OrderedDict([('CVE_ENT', '09'), ('CVE_LOC', '0001'), ('CVE_MUN', '016'), ('CVE_AGEB', '0139')])\n",
      "OrderedDict([('CVE_ENT', '09'), ('CVE_LOC', '0001'), ('CVE_MUN', '016'), ('CVE_AGEB', '0158')])\n",
      "OrderedDict([('CVE_ENT', '09'), ('CVE_LOC', '0001'), ('CVE_MUN', '016'), ('CVE_AGEB', '0196')])\n",
      "OrderedDict([('CVE_ENT', '09'), ('CVE_LOC', '0001'), ('CVE_MUN', '016'), ('CVE_AGEB', '0478')])\n",
      "OrderedDict([('CVE_ENT', '09'), ('CVE_LOC', '0001'), ('CVE_MUN', '016'), ('CVE_AGEB', '0548')])\n",
      "OrderedDict([('CVE_ENT', '09'), ('CVE_LOC', '0001'), ('CVE_MUN', '016'), ('CVE_AGEB', '0482')])\n",
      "OrderedDict([('CVE_ENT', '09'), ('CVE_LOC', '0001'), ('CVE_MUN', '016'), ('CVE_AGEB', '0533')])\n",
      "OrderedDict([('CVE_ENT', '09'), ('CVE_LOC', '0001'), ('CVE_MUN', '016'), ('CVE_AGEB', '0622')])\n",
      "OrderedDict([('CVE_ENT', '09'), ('CVE_LOC', '0001'), ('CVE_MUN', '016'), ('CVE_AGEB', '0035')])\n",
      "OrderedDict([('CVE_ENT', '09'), ('CVE_LOC', '0001'), ('CVE_MUN', '016'), ('CVE_AGEB', '0270')])\n",
      "OrderedDict([('CVE_ENT', '09'), ('CVE_LOC', '0001'), ('CVE_MUN', '016'), ('CVE_AGEB', '029A')])\n",
      "OrderedDict([('CVE_ENT', '09'), ('CVE_LOC', '0001'), ('CVE_MUN', '016'), ('CVE_AGEB', '0336')])\n",
      "OrderedDict([('CVE_ENT', '09'), ('CVE_LOC', '0001'), ('CVE_MUN', '016'), ('CVE_AGEB', '0340')])\n",
      "OrderedDict([('CVE_ENT', '09'), ('CVE_LOC', '0001'), ('CVE_MUN', '016'), ('CVE_AGEB', '036A')])\n",
      "OrderedDict([('CVE_ENT', '09'), ('CVE_LOC', '0001'), ('CVE_MUN', '016'), ('CVE_AGEB', '0374')])\n",
      "OrderedDict([('CVE_ENT', '09'), ('CVE_LOC', '0001'), ('CVE_MUN', '016'), ('CVE_AGEB', '0389')])\n",
      "OrderedDict([('CVE_ENT', '09'), ('CVE_LOC', '0001'), ('CVE_MUN', '016'), ('CVE_AGEB', '043A')])\n",
      "OrderedDict([('CVE_ENT', '09'), ('CVE_LOC', '0001'), ('CVE_MUN', '016'), ('CVE_AGEB', '0444')])\n",
      "OrderedDict([('CVE_ENT', '09'), ('CVE_LOC', '0001'), ('CVE_MUN', '016'), ('CVE_AGEB', '0603')])\n",
      "OrderedDict([('CVE_ENT', '09'), ('CVE_LOC', '0001'), ('CVE_MUN', '016'), ('CVE_AGEB', '0641')])\n",
      "OrderedDict([('CVE_ENT', '09'), ('CVE_LOC', '0001'), ('CVE_MUN', '016'), ('CVE_AGEB', '0707')])\n",
      "OrderedDict([('CVE_ENT', '09'), ('CVE_LOC', '0001'), ('CVE_MUN', '016'), ('CVE_AGEB', '0730')])\n",
      "OrderedDict([('CVE_ENT', '09'), ('CVE_LOC', '0001'), ('CVE_MUN', '016'), ('CVE_AGEB', '0745')])\n",
      "OrderedDict([('CVE_ENT', '09'), ('CVE_LOC', '0001'), ('CVE_MUN', '016'), ('CVE_AGEB', '075A')])\n",
      "OrderedDict([('CVE_ENT', '09'), ('CVE_LOC', '0001'), ('CVE_MUN', '016'), ('CVE_AGEB', '0961')])\n",
      "OrderedDict([('CVE_ENT', '09'), ('CVE_LOC', '0001'), ('CVE_MUN', '016'), ('CVE_AGEB', '0976')])\n",
      "OrderedDict([('CVE_ENT', '09'), ('CVE_LOC', '0001'), ('CVE_MUN', '016'), ('CVE_AGEB', '0980')])\n",
      "OrderedDict([('CVE_ENT', '09'), ('CVE_LOC', '0001'), ('CVE_MUN', '016'), ('CVE_AGEB', '0995')])\n",
      "OrderedDict([('CVE_ENT', '09'), ('CVE_LOC', '0001'), ('CVE_MUN', '016'), ('CVE_AGEB', '1207')])\n",
      "OrderedDict([('CVE_ENT', '09'), ('CVE_LOC', '0001'), ('CVE_MUN', '016'), ('CVE_AGEB', '1264')])\n",
      "OrderedDict([('CVE_ENT', '09'), ('CVE_LOC', '0001'), ('CVE_MUN', '016'), ('CVE_AGEB', '0783')])\n",
      "OrderedDict([('CVE_ENT', '09'), ('CVE_LOC', '0001'), ('CVE_MUN', '016'), ('CVE_AGEB', '1279')])\n",
      "OrderedDict([('CVE_ENT', '09'), ('CVE_LOC', '0001'), ('CVE_MUN', '016'), ('CVE_AGEB', '1122')])\n",
      "OrderedDict([('CVE_ENT', '09'), ('CVE_LOC', '0001'), ('CVE_MUN', '016'), ('CVE_AGEB', '0675')])\n",
      "OrderedDict([('CVE_ENT', '09'), ('CVE_LOC', '0001'), ('CVE_MUN', '016'), ('CVE_AGEB', '0779')])\n",
      "OrderedDict([('CVE_ENT', '09'), ('CVE_LOC', '0001'), ('CVE_MUN', '016'), ('CVE_AGEB', '0834')])\n",
      "OrderedDict([('CVE_ENT', '09'), ('CVE_LOC', '0001'), ('CVE_MUN', '016'), ('CVE_AGEB', '1349')])\n",
      "OrderedDict([('CVE_ENT', '09'), ('CVE_LOC', '0001'), ('CVE_MUN', '016'), ('CVE_AGEB', '0872')])\n",
      "OrderedDict([('CVE_ENT', '09'), ('CVE_LOC', '0001'), ('CVE_MUN', '016'), ('CVE_AGEB', '0919')])\n",
      "OrderedDict([('CVE_ENT', '09'), ('CVE_LOC', '0001'), ('CVE_MUN', '016'), ('CVE_AGEB', '0251')])\n",
      "OrderedDict([('CVE_ENT', '09'), ('CVE_LOC', '0001'), ('CVE_MUN', '016'), ('CVE_AGEB', '132A')])\n",
      "OrderedDict([('CVE_ENT', '09'), ('CVE_LOC', '0001'), ('CVE_MUN', '016'), ('CVE_AGEB', '004A')])\n",
      "OrderedDict([('CVE_ENT', '09'), ('CVE_LOC', '0001'), ('CVE_MUN', '016'), ('CVE_AGEB', '0497')])\n",
      "OrderedDict([('CVE_ENT', '09'), ('CVE_LOC', '0001'), ('CVE_MUN', '016'), ('CVE_AGEB', '0957')])\n",
      "OrderedDict([('CVE_ENT', '09'), ('CVE_LOC', '0001'), ('CVE_MUN', '016'), ('CVE_AGEB', '0410')])\n",
      "OrderedDict([('CVE_ENT', '09'), ('CVE_LOC', '0001'), ('CVE_MUN', '016'), ('CVE_AGEB', '0162')])\n",
      "OrderedDict([('CVE_ENT', '09'), ('CVE_LOC', '0001'), ('CVE_MUN', '016'), ('CVE_AGEB', '0459')])\n",
      "OrderedDict([('CVE_ENT', '09'), ('CVE_LOC', '0001'), ('CVE_MUN', '016'), ('CVE_AGEB', '0463')])\n",
      "OrderedDict([('CVE_ENT', '09'), ('CVE_LOC', '0001'), ('CVE_MUN', '016'), ('CVE_AGEB', '050A')])\n",
      "OrderedDict([('CVE_ENT', '09'), ('CVE_LOC', '0001'), ('CVE_MUN', '016'), ('CVE_AGEB', '0552')])\n",
      "OrderedDict([('CVE_ENT', '09'), ('CVE_LOC', '0001'), ('CVE_MUN', '016'), ('CVE_AGEB', '0393')])\n",
      "OrderedDict([('CVE_ENT', '09'), ('CVE_LOC', '0001'), ('CVE_MUN', '016'), ('CVE_AGEB', '082A')])\n",
      "OrderedDict([('CVE_ENT', '09'), ('CVE_LOC', '0001'), ('CVE_MUN', '016'), ('CVE_AGEB', '0317')])\n",
      "OrderedDict([('CVE_ENT', '09'), ('CVE_LOC', '0001'), ('CVE_MUN', '016'), ('CVE_AGEB', '0105')])\n",
      "OrderedDict([('CVE_ENT', '09'), ('CVE_LOC', '0001'), ('CVE_MUN', '016'), ('CVE_AGEB', '011A')])\n",
      "OrderedDict([('CVE_ENT', '09'), ('CVE_LOC', '0001'), ('CVE_MUN', '016'), ('CVE_AGEB', '0247')])\n",
      "OrderedDict([('CVE_ENT', '09'), ('CVE_LOC', '0001'), ('CVE_MUN', '016'), ('CVE_AGEB', '0321')])\n",
      "OrderedDict([('CVE_ENT', '09'), ('CVE_LOC', '0001'), ('CVE_MUN', '016'), ('CVE_AGEB', '0571')])\n",
      "OrderedDict([('CVE_ENT', '09'), ('CVE_LOC', '0001'), ('CVE_MUN', '016'), ('CVE_AGEB', '0586')])\n",
      "OrderedDict([('CVE_ENT', '09'), ('CVE_LOC', '0001'), ('CVE_MUN', '016'), ('CVE_AGEB', '0590')])\n",
      "OrderedDict([('CVE_ENT', '09'), ('CVE_LOC', '0001'), ('CVE_MUN', '016'), ('CVE_AGEB', '0618')])\n",
      "OrderedDict([('CVE_ENT', '09'), ('CVE_LOC', '0001'), ('CVE_MUN', '016'), ('CVE_AGEB', '0849')])\n",
      "OrderedDict([('CVE_ENT', '09'), ('CVE_LOC', '0001'), ('CVE_MUN', '016'), ('CVE_AGEB', '1052')])\n",
      "OrderedDict([('CVE_ENT', '09'), ('CVE_LOC', '0001'), ('CVE_MUN', '016'), ('CVE_AGEB', '0923')])\n",
      "OrderedDict([('CVE_ENT', '09'), ('CVE_LOC', '0001'), ('CVE_MUN', '016'), ('CVE_AGEB', '1048')])\n",
      "OrderedDict([('CVE_ENT', '09'), ('CVE_LOC', '0001'), ('CVE_MUN', '016'), ('CVE_AGEB', '1067')])\n",
      "OrderedDict([('CVE_ENT', '09'), ('CVE_LOC', '0001'), ('CVE_MUN', '016'), ('CVE_AGEB', '1014')])\n",
      "OrderedDict([('CVE_ENT', '09'), ('CVE_LOC', '0001'), ('CVE_MUN', '016'), ('CVE_AGEB', '1194')])\n",
      "OrderedDict([('CVE_ENT', '09'), ('CVE_LOC', '0001'), ('CVE_MUN', '016'), ('CVE_AGEB', '1086')])\n",
      "OrderedDict([('CVE_ENT', '09'), ('CVE_LOC', '0001'), ('CVE_MUN', '016'), ('CVE_AGEB', '1141')])\n",
      "OrderedDict([('CVE_ENT', '09'), ('CVE_LOC', '0001'), ('CVE_MUN', '016'), ('CVE_AGEB', '1160')])\n",
      "OrderedDict([('CVE_ENT', '09'), ('CVE_LOC', '0001'), ('CVE_MUN', '016'), ('CVE_AGEB', '1175')])\n",
      "OrderedDict([('CVE_ENT', '09'), ('CVE_LOC', '0001'), ('CVE_MUN', '016'), ('CVE_AGEB', '1245')])\n",
      "OrderedDict([('CVE_ENT', '09'), ('CVE_LOC', '0001'), ('CVE_MUN', '016'), ('CVE_AGEB', '1353')])\n",
      "OrderedDict([('CVE_ENT', '09'), ('CVE_LOC', '0001'), ('CVE_MUN', '016'), ('CVE_AGEB', '1368')])\n",
      "OrderedDict([('CVE_ENT', '09'), ('CVE_LOC', '0001'), ('CVE_MUN', '016'), ('CVE_AGEB', '0181')])\n",
      "OrderedDict([('CVE_ENT', '09'), ('CVE_LOC', '0001'), ('CVE_MUN', '016'), ('CVE_AGEB', '1315')])\n",
      "OrderedDict([('CVE_ENT', '09'), ('CVE_LOC', '0001'), ('CVE_MUN', '016'), ('CVE_AGEB', '1334')])\n",
      "OrderedDict([('CVE_ENT', '09'), ('CVE_LOC', '0001'), ('CVE_MUN', '016'), ('CVE_AGEB', '0177')])\n",
      "OrderedDict([('CVE_ENT', '09'), ('CVE_LOC', '0001'), ('CVE_MUN', '016'), ('CVE_AGEB', '0209')])\n",
      "OrderedDict([('CVE_ENT', '09'), ('CVE_LOC', '0001'), ('CVE_MUN', '016'), ('CVE_AGEB', '0285')])\n",
      "OrderedDict([('CVE_ENT', '09'), ('CVE_LOC', '0001'), ('CVE_MUN', '016'), ('CVE_AGEB', '0637')])\n",
      "OrderedDict([('CVE_ENT', '09'), ('CVE_LOC', '0001'), ('CVE_MUN', '016'), ('CVE_AGEB', '0656')])\n",
      "OrderedDict([('CVE_ENT', '09'), ('CVE_LOC', '0001'), ('CVE_MUN', '016'), ('CVE_AGEB', '0660')])\n",
      "OrderedDict([('CVE_ENT', '09'), ('CVE_LOC', '0001'), ('CVE_MUN', '016'), ('CVE_AGEB', '0942')])\n",
      "OrderedDict([('CVE_ENT', '09'), ('CVE_LOC', '0001'), ('CVE_MUN', '016'), ('CVE_AGEB', '0124')])\n",
      "OrderedDict([('CVE_ENT', '09'), ('CVE_LOC', '0001'), ('CVE_MUN', '016'), ('CVE_AGEB', '1033')])\n",
      "OrderedDict([('CVE_ENT', '09'), ('CVE_LOC', '0001'), ('CVE_MUN', '016'), ('CVE_AGEB', '0904')])\n",
      "OrderedDict([('CVE_ENT', '09'), ('CVE_LOC', '0001'), ('CVE_MUN', '017'), ('CVE_AGEB', '0070')])\n",
      "OrderedDict([('CVE_ENT', '09'), ('CVE_LOC', '0001'), ('CVE_MUN', '017'), ('CVE_AGEB', '0865')])\n",
      "OrderedDict([('CVE_ENT', '09'), ('CVE_LOC', '0001'), ('CVE_MUN', '017'), ('CVE_AGEB', '1045')])\n",
      "OrderedDict([('CVE_ENT', '09'), ('CVE_LOC', '0001'), ('CVE_MUN', '017'), ('CVE_AGEB', '0210')])\n",
      "OrderedDict([('CVE_ENT', '09'), ('CVE_LOC', '0001'), ('CVE_MUN', '017'), ('CVE_AGEB', '1308')])\n",
      "OrderedDict([('CVE_ENT', '09'), ('CVE_LOC', '0001'), ('CVE_MUN', '017'), ('CVE_AGEB', '0831')])\n",
      "OrderedDict([('CVE_ENT', '09'), ('CVE_LOC', '0001'), ('CVE_MUN', '017'), ('CVE_AGEB', '1191')])\n",
      "OrderedDict([('CVE_ENT', '09'), ('CVE_LOC', '0001'), ('CVE_MUN', '017'), ('CVE_AGEB', '1219')])\n",
      "OrderedDict([('CVE_ENT', '09'), ('CVE_LOC', '0001'), ('CVE_MUN', '017'), ('CVE_AGEB', '1223')])\n",
      "OrderedDict([('CVE_ENT', '09'), ('CVE_LOC', '0001'), ('CVE_MUN', '017'), ('CVE_AGEB', '0367')])\n",
      "OrderedDict([('CVE_ENT', '09'), ('CVE_LOC', '0001'), ('CVE_MUN', '017'), ('CVE_AGEB', '0047')])\n",
      "OrderedDict([('CVE_ENT', '09'), ('CVE_LOC', '0001'), ('CVE_MUN', '017'), ('CVE_AGEB', '0051')])\n",
      "OrderedDict([('CVE_ENT', '09'), ('CVE_LOC', '0001'), ('CVE_MUN', '017'), ('CVE_AGEB', '0140')])\n",
      "OrderedDict([('CVE_ENT', '09'), ('CVE_LOC', '0001'), ('CVE_MUN', '017'), ('CVE_AGEB', '0827')])\n",
      "OrderedDict([('CVE_ENT', '09'), ('CVE_LOC', '0001'), ('CVE_MUN', '017'), ('CVE_AGEB', '0013')])\n",
      "OrderedDict([('CVE_ENT', '09'), ('CVE_LOC', '0001'), ('CVE_MUN', '017'), ('CVE_AGEB', '0028')])\n",
      "OrderedDict([('CVE_ENT', '09'), ('CVE_LOC', '0001'), ('CVE_MUN', '017'), ('CVE_AGEB', '0032')])\n",
      "OrderedDict([('CVE_ENT', '09'), ('CVE_LOC', '0001'), ('CVE_MUN', '017'), ('CVE_AGEB', '048A')])\n",
      "OrderedDict([('CVE_ENT', '09'), ('CVE_LOC', '0001'), ('CVE_MUN', '017'), ('CVE_AGEB', '0687')])\n",
      "OrderedDict([('CVE_ENT', '09'), ('CVE_LOC', '0001'), ('CVE_MUN', '017'), ('CVE_AGEB', '0085')])\n",
      "OrderedDict([('CVE_ENT', '09'), ('CVE_LOC', '0001'), ('CVE_MUN', '017'), ('CVE_AGEB', '0102')])\n",
      "OrderedDict([('CVE_ENT', '09'), ('CVE_LOC', '0001'), ('CVE_MUN', '017'), ('CVE_AGEB', '0117')])\n",
      "OrderedDict([('CVE_ENT', '09'), ('CVE_LOC', '0001'), ('CVE_MUN', '017'), ('CVE_AGEB', '0121')])\n",
      "OrderedDict([('CVE_ENT', '09'), ('CVE_LOC', '0001'), ('CVE_MUN', '017'), ('CVE_AGEB', '0136')])\n",
      "OrderedDict([('CVE_ENT', '09'), ('CVE_LOC', '0001'), ('CVE_MUN', '017'), ('CVE_AGEB', '0155')])\n",
      "OrderedDict([('CVE_ENT', '09'), ('CVE_LOC', '0001'), ('CVE_MUN', '017'), ('CVE_AGEB', '0329')])\n",
      "OrderedDict([('CVE_ENT', '09'), ('CVE_LOC', '0001'), ('CVE_MUN', '017'), ('CVE_AGEB', '0884')])\n",
      "OrderedDict([('CVE_ENT', '09'), ('CVE_LOC', '0001'), ('CVE_MUN', '017'), ('CVE_AGEB', '0899')])\n",
      "OrderedDict([('CVE_ENT', '09'), ('CVE_LOC', '0001'), ('CVE_MUN', '017'), ('CVE_AGEB', '1030')])\n",
      "OrderedDict([('CVE_ENT', '09'), ('CVE_LOC', '0001'), ('CVE_MUN', '017'), ('CVE_AGEB', '1242')])\n",
      "OrderedDict([('CVE_ENT', '09'), ('CVE_LOC', '0001'), ('CVE_MUN', '017'), ('CVE_AGEB', '1261')])\n",
      "OrderedDict([('CVE_ENT', '09'), ('CVE_LOC', '0001'), ('CVE_MUN', '017'), ('CVE_AGEB', '1276')])\n",
      "OrderedDict([('CVE_ENT', '09'), ('CVE_LOC', '0001'), ('CVE_MUN', '017'), ('CVE_AGEB', '1312')])\n",
      "OrderedDict([('CVE_ENT', '09'), ('CVE_LOC', '0001'), ('CVE_MUN', '017'), ('CVE_AGEB', '1399')])\n",
      "OrderedDict([('CVE_ENT', '09'), ('CVE_LOC', '0001'), ('CVE_MUN', '017'), ('CVE_AGEB', '1416')])\n",
      "OrderedDict([('CVE_ENT', '09'), ('CVE_LOC', '0001'), ('CVE_MUN', '017'), ('CVE_AGEB', '1435')])\n",
      "OrderedDict([('CVE_ENT', '09'), ('CVE_LOC', '0001'), ('CVE_MUN', '017'), ('CVE_AGEB', '144A')])\n",
      "OrderedDict([('CVE_ENT', '09'), ('CVE_LOC', '0001'), ('CVE_MUN', '017'), ('CVE_AGEB', '1454')])\n",
      "OrderedDict([('CVE_ENT', '09'), ('CVE_LOC', '0001'), ('CVE_MUN', '017'), ('CVE_AGEB', '0206')])\n",
      "OrderedDict([('CVE_ENT', '09'), ('CVE_LOC', '0001'), ('CVE_MUN', '017'), ('CVE_AGEB', '1149')])\n",
      "OrderedDict([('CVE_ENT', '09'), ('CVE_LOC', '0001'), ('CVE_MUN', '017'), ('CVE_AGEB', '1204')])\n",
      "OrderedDict([('CVE_ENT', '09'), ('CVE_LOC', '0001'), ('CVE_MUN', '017'), ('CVE_AGEB', '1238')])\n",
      "OrderedDict([('CVE_ENT', '09'), ('CVE_LOC', '0001'), ('CVE_MUN', '017'), ('CVE_AGEB', '1098')])\n",
      "OrderedDict([('CVE_ENT', '09'), ('CVE_LOC', '0001'), ('CVE_MUN', '017'), ('CVE_AGEB', '1420')])\n",
      "OrderedDict([('CVE_ENT', '09'), ('CVE_LOC', '0001'), ('CVE_MUN', '017'), ('CVE_AGEB', '1505')])\n",
      "OrderedDict([('CVE_ENT', '09'), ('CVE_LOC', '0001'), ('CVE_MUN', '017'), ('CVE_AGEB', '0189')])\n",
      "OrderedDict([('CVE_ENT', '09'), ('CVE_LOC', '0001'), ('CVE_MUN', '017'), ('CVE_AGEB', '0193')])\n",
      "OrderedDict([('CVE_ENT', '09'), ('CVE_LOC', '0001'), ('CVE_MUN', '017'), ('CVE_AGEB', '0475')])\n",
      "OrderedDict([('CVE_ENT', '09'), ('CVE_LOC', '0001'), ('CVE_MUN', '017'), ('CVE_AGEB', '0511')])\n",
      "OrderedDict([('CVE_ENT', '09'), ('CVE_LOC', '0001'), ('CVE_MUN', '017'), ('CVE_AGEB', '0526')])\n",
      "OrderedDict([('CVE_ENT', '09'), ('CVE_LOC', '0001'), ('CVE_MUN', '017'), ('CVE_AGEB', '0530')])\n",
      "OrderedDict([('CVE_ENT', '09'), ('CVE_LOC', '0001'), ('CVE_MUN', '017'), ('CVE_AGEB', '0278')])\n",
      "OrderedDict([('CVE_ENT', '09'), ('CVE_LOC', '0001'), ('CVE_MUN', '017'), ('CVE_AGEB', '0244')])\n",
      "OrderedDict([('CVE_ENT', '09'), ('CVE_LOC', '0001'), ('CVE_MUN', '017'), ('CVE_AGEB', '0259')])\n",
      "OrderedDict([('CVE_ENT', '09'), ('CVE_LOC', '0001'), ('CVE_MUN', '017'), ('CVE_AGEB', '0282')])\n",
      "OrderedDict([('CVE_ENT', '09'), ('CVE_LOC', '0001'), ('CVE_MUN', '017'), ('CVE_AGEB', '0297')])\n",
      "OrderedDict([('CVE_ENT', '09'), ('CVE_LOC', '0001'), ('CVE_MUN', '017'), ('CVE_AGEB', '030A')])\n",
      "OrderedDict([('CVE_ENT', '09'), ('CVE_LOC', '0001'), ('CVE_MUN', '017'), ('CVE_AGEB', '0314')])\n",
      "OrderedDict([('CVE_ENT', '09'), ('CVE_LOC', '0001'), ('CVE_MUN', '017'), ('CVE_AGEB', '0333')])\n",
      "OrderedDict([('CVE_ENT', '09'), ('CVE_LOC', '0001'), ('CVE_MUN', '017'), ('CVE_AGEB', '0348')])\n",
      "OrderedDict([('CVE_ENT', '09'), ('CVE_LOC', '0001'), ('CVE_MUN', '017'), ('CVE_AGEB', '0352')])\n",
      "OrderedDict([('CVE_ENT', '09'), ('CVE_LOC', '0001'), ('CVE_MUN', '017'), ('CVE_AGEB', '0615')])\n",
      "OrderedDict([('CVE_ENT', '09'), ('CVE_LOC', '0001'), ('CVE_MUN', '017'), ('CVE_AGEB', '0371')])\n",
      "OrderedDict([('CVE_ENT', '09'), ('CVE_LOC', '0001'), ('CVE_MUN', '017'), ('CVE_AGEB', '0386')])\n",
      "OrderedDict([('CVE_ENT', '09'), ('CVE_LOC', '0001'), ('CVE_MUN', '017'), ('CVE_AGEB', '0390')])\n",
      "OrderedDict([('CVE_ENT', '09'), ('CVE_LOC', '0001'), ('CVE_MUN', '017'), ('CVE_AGEB', '0403')])\n",
      "OrderedDict([('CVE_ENT', '09'), ('CVE_LOC', '0001'), ('CVE_MUN', '017'), ('CVE_AGEB', '0653')])\n",
      "OrderedDict([('CVE_ENT', '09'), ('CVE_LOC', '0001'), ('CVE_MUN', '017'), ('CVE_AGEB', '0418')])\n",
      "OrderedDict([('CVE_ENT', '09'), ('CVE_LOC', '0001'), ('CVE_MUN', '017'), ('CVE_AGEB', '0422')])\n",
      "OrderedDict([('CVE_ENT', '09'), ('CVE_LOC', '0001'), ('CVE_MUN', '017'), ('CVE_AGEB', '0437')])\n",
      "OrderedDict([('CVE_ENT', '09'), ('CVE_LOC', '0001'), ('CVE_MUN', '017'), ('CVE_AGEB', '0441')])\n",
      "OrderedDict([('CVE_ENT', '09'), ('CVE_LOC', '0001'), ('CVE_MUN', '017'), ('CVE_AGEB', '0545')])\n",
      "OrderedDict([('CVE_ENT', '09'), ('CVE_LOC', '0001'), ('CVE_MUN', '017'), ('CVE_AGEB', '055A')])\n",
      "OrderedDict([('CVE_ENT', '09'), ('CVE_LOC', '0001'), ('CVE_MUN', '017'), ('CVE_AGEB', '0564')])\n",
      "OrderedDict([('CVE_ENT', '09'), ('CVE_LOC', '0001'), ('CVE_MUN', '017'), ('CVE_AGEB', '0579')])\n",
      "OrderedDict([('CVE_ENT', '09'), ('CVE_LOC', '0001'), ('CVE_MUN', '017'), ('CVE_AGEB', '0583')])\n",
      "OrderedDict([('CVE_ENT', '09'), ('CVE_LOC', '0001'), ('CVE_MUN', '017'), ('CVE_AGEB', '0598')])\n",
      "OrderedDict([('CVE_ENT', '09'), ('CVE_LOC', '0001'), ('CVE_MUN', '017'), ('CVE_AGEB', '062A')])\n",
      "OrderedDict([('CVE_ENT', '09'), ('CVE_LOC', '0001'), ('CVE_MUN', '017'), ('CVE_AGEB', '0649')])\n",
      "OrderedDict([('CVE_ENT', '09'), ('CVE_LOC', '0001'), ('CVE_MUN', '017'), ('CVE_AGEB', '0668')])\n",
      "OrderedDict([('CVE_ENT', '09'), ('CVE_LOC', '0001'), ('CVE_MUN', '017'), ('CVE_AGEB', '0672')])\n",
      "OrderedDict([('CVE_ENT', '09'), ('CVE_LOC', '0001'), ('CVE_MUN', '017'), ('CVE_AGEB', '0691')])\n",
      "OrderedDict([('CVE_ENT', '09'), ('CVE_LOC', '0001'), ('CVE_MUN', '017'), ('CVE_AGEB', '0704')])\n",
      "OrderedDict([('CVE_ENT', '09'), ('CVE_LOC', '0001'), ('CVE_MUN', '017'), ('CVE_AGEB', '0719')])\n",
      "OrderedDict([('CVE_ENT', '09'), ('CVE_LOC', '0001'), ('CVE_MUN', '017'), ('CVE_AGEB', '0723')])\n",
      "OrderedDict([('CVE_ENT', '09'), ('CVE_LOC', '0001'), ('CVE_MUN', '017'), ('CVE_AGEB', '0738')])\n",
      "OrderedDict([('CVE_ENT', '09'), ('CVE_LOC', '0001'), ('CVE_MUN', '017'), ('CVE_AGEB', '0776')])\n",
      "OrderedDict([('CVE_ENT', '09'), ('CVE_LOC', '0001'), ('CVE_MUN', '017'), ('CVE_AGEB', '0780')])\n",
      "OrderedDict([('CVE_ENT', '09'), ('CVE_LOC', '0001'), ('CVE_MUN', '017'), ('CVE_AGEB', '0808')])\n",
      "OrderedDict([('CVE_ENT', '09'), ('CVE_LOC', '0001'), ('CVE_MUN', '017'), ('CVE_AGEB', '0812')])\n",
      "OrderedDict([('CVE_ENT', '09'), ('CVE_LOC', '0001'), ('CVE_MUN', '017'), ('CVE_AGEB', '1079')])\n",
      "OrderedDict([('CVE_ENT', '09'), ('CVE_LOC', '0001'), ('CVE_MUN', '017'), ('CVE_AGEB', '1083')])\n",
      "OrderedDict([('CVE_ENT', '09'), ('CVE_LOC', '0001'), ('CVE_MUN', '017'), ('CVE_AGEB', '1346')])\n",
      "OrderedDict([('CVE_ENT', '09'), ('CVE_LOC', '0001'), ('CVE_MUN', '017'), ('CVE_AGEB', '1350')])\n",
      "OrderedDict([('CVE_ENT', '09'), ('CVE_LOC', '0001'), ('CVE_MUN', '017'), ('CVE_AGEB', '1365')])\n",
      "OrderedDict([('CVE_ENT', '09'), ('CVE_LOC', '0001'), ('CVE_MUN', '017'), ('CVE_AGEB', '137A')])\n",
      "OrderedDict([('CVE_ENT', '09'), ('CVE_LOC', '0001'), ('CVE_MUN', '017'), ('CVE_AGEB', '1384')])\n",
      "OrderedDict([('CVE_ENT', '09'), ('CVE_LOC', '0001'), ('CVE_MUN', '017'), ('CVE_AGEB', '151A')])\n",
      "OrderedDict([('CVE_ENT', '09'), ('CVE_LOC', '0001'), ('CVE_MUN', '017'), ('CVE_AGEB', '1524')])\n",
      "OrderedDict([('CVE_ENT', '09'), ('CVE_LOC', '0001'), ('CVE_MUN', '017'), ('CVE_AGEB', '0507')])\n",
      "OrderedDict([('CVE_ENT', '09'), ('CVE_LOC', '0001'), ('CVE_MUN', '017'), ('CVE_AGEB', '0494')])\n",
      "OrderedDict([('CVE_ENT', '09'), ('CVE_LOC', '0001'), ('CVE_MUN', '017'), ('CVE_AGEB', '0742')])\n",
      "OrderedDict([('CVE_ENT', '09'), ('CVE_LOC', '0001'), ('CVE_MUN', '017'), ('CVE_AGEB', '1011')])\n",
      "OrderedDict([('CVE_ENT', '09'), ('CVE_LOC', '0001'), ('CVE_MUN', '017'), ('CVE_AGEB', '1401')])\n",
      "OrderedDict([('CVE_ENT', '09'), ('CVE_LOC', '0001'), ('CVE_MUN', '017'), ('CVE_AGEB', '0600')])\n",
      "OrderedDict([('CVE_ENT', '09'), ('CVE_LOC', '0001'), ('CVE_MUN', '017'), ('CVE_AGEB', '0456')])\n",
      "OrderedDict([('CVE_ENT', '09'), ('CVE_LOC', '0001'), ('CVE_MUN', '017'), ('CVE_AGEB', '0901')])\n",
      "OrderedDict([('CVE_ENT', '09'), ('CVE_LOC', '0001'), ('CVE_MUN', '017'), ('CVE_AGEB', '0460')])\n",
      "OrderedDict([('CVE_ENT', '09'), ('CVE_LOC', '0001'), ('CVE_MUN', '017'), ('CVE_AGEB', '0263')])\n",
      "OrderedDict([('CVE_ENT', '09'), ('CVE_LOC', '0001'), ('CVE_MUN', '017'), ('CVE_AGEB', '0066')])\n",
      "OrderedDict([('CVE_ENT', '09'), ('CVE_LOC', '0001'), ('CVE_MUN', '017'), ('CVE_AGEB', '009A')])\n",
      "OrderedDict([('CVE_ENT', '09'), ('CVE_LOC', '0001'), ('CVE_MUN', '017'), ('CVE_AGEB', '016A')])\n",
      "OrderedDict([('CVE_ENT', '09'), ('CVE_LOC', '0001'), ('CVE_MUN', '017'), ('CVE_AGEB', '0174')])\n",
      "OrderedDict([('CVE_ENT', '09'), ('CVE_LOC', '0001'), ('CVE_MUN', '017'), ('CVE_AGEB', '0225')])\n",
      "OrderedDict([('CVE_ENT', '09'), ('CVE_LOC', '0001'), ('CVE_MUN', '017'), ('CVE_AGEB', '023A')])\n",
      "OrderedDict([('CVE_ENT', '09'), ('CVE_LOC', '0001'), ('CVE_MUN', '017'), ('CVE_AGEB', '0846')])\n",
      "OrderedDict([('CVE_ENT', '09'), ('CVE_LOC', '0001'), ('CVE_MUN', '017'), ('CVE_AGEB', '087A')])\n",
      "OrderedDict([('CVE_ENT', '09'), ('CVE_LOC', '0001'), ('CVE_MUN', '017'), ('CVE_AGEB', '0916')])\n",
      "OrderedDict([('CVE_ENT', '09'), ('CVE_LOC', '0001'), ('CVE_MUN', '017'), ('CVE_AGEB', '0920')])\n",
      "OrderedDict([('CVE_ENT', '09'), ('CVE_LOC', '0001'), ('CVE_MUN', '017'), ('CVE_AGEB', '0935')])\n",
      "OrderedDict([('CVE_ENT', '09'), ('CVE_LOC', '0001'), ('CVE_MUN', '017'), ('CVE_AGEB', '094A')])\n",
      "OrderedDict([('CVE_ENT', '09'), ('CVE_LOC', '0001'), ('CVE_MUN', '017'), ('CVE_AGEB', '105A')])\n",
      "OrderedDict([('CVE_ENT', '09'), ('CVE_LOC', '0001'), ('CVE_MUN', '017'), ('CVE_AGEB', '1064')])\n",
      "OrderedDict([('CVE_ENT', '09'), ('CVE_LOC', '0001'), ('CVE_MUN', '017'), ('CVE_AGEB', '1257')])\n",
      "OrderedDict([('CVE_ENT', '09'), ('CVE_LOC', '0001'), ('CVE_MUN', '017'), ('CVE_AGEB', '1280')])\n",
      "OrderedDict([('CVE_ENT', '09'), ('CVE_LOC', '0001'), ('CVE_MUN', '017'), ('CVE_AGEB', '1327')])\n",
      "OrderedDict([('CVE_ENT', '09'), ('CVE_LOC', '0001'), ('CVE_MUN', '017'), ('CVE_AGEB', '1331')])\n",
      "OrderedDict([('CVE_ENT', '09'), ('CVE_LOC', '0001'), ('CVE_MUN', '017'), ('CVE_AGEB', '1295')])\n",
      "OrderedDict([('CVE_ENT', '09'), ('CVE_LOC', '0001'), ('CVE_MUN', '017'), ('CVE_AGEB', '1026')])\n",
      "OrderedDict([('CVE_ENT', '09'), ('CVE_LOC', '0001'), ('CVE_MUN', '017'), ('CVE_AGEB', '1469')])\n",
      "OrderedDict([('CVE_ENT', '09'), ('CVE_LOC', '0001'), ('CVE_MUN', '017'), ('CVE_AGEB', '1473')])\n",
      "OrderedDict([('CVE_ENT', '09'), ('CVE_LOC', '0001'), ('CVE_MUN', '017'), ('CVE_AGEB', '1488')])\n",
      "OrderedDict([('CVE_ENT', '09'), ('CVE_LOC', '0001'), ('CVE_MUN', '017'), ('CVE_AGEB', '1492')])\n",
      "OrderedDict([('CVE_ENT', '09'), ('CVE_LOC', '0001'), ('CVE_MUN', '017'), ('CVE_AGEB', '0761')])\n",
      "OrderedDict([('CVE_ENT', '09'), ('CVE_LOC', '0001'), ('CVE_MUN', '017'), ('CVE_AGEB', '0954')])\n",
      "OrderedDict([('CVE_ENT', '09'), ('CVE_LOC', '0001'), ('CVE_MUN', '017'), ('CVE_AGEB', '0757')])\n",
      "OrderedDict([('CVE_ENT', '09'), ('CVE_LOC', '0001'), ('CVE_MUN', '017'), ('CVE_AGEB', '112A')])\n",
      "OrderedDict([('CVE_ENT', '09'), ('CVE_LOC', '0001'), ('CVE_MUN', '017'), ('CVE_AGEB', '1134')])\n",
      "OrderedDict([('CVE_ENT', '09'), ('CVE_LOC', '0001'), ('CVE_MUN', '017'), ('CVE_AGEB', '1115')])\n",
      "OrderedDict([('CVE_ENT', '09'), ('CVE_LOC', '0001'), ('CVE_MUN', '017'), ('CVE_AGEB', '1153')])\n",
      "OrderedDict([('CVE_ENT', '09'), ('CVE_LOC', '0001'), ('CVE_MUN', '017'), ('CVE_AGEB', '1168')])\n",
      "OrderedDict([('CVE_ENT', '09'), ('CVE_LOC', '0001'), ('CVE_MUN', '017'), ('CVE_AGEB', '0634')])\n",
      "OrderedDict([('CVE_ENT', '09'), ('CVE_LOC', '0001'), ('CVE_MUN', '017'), ('CVE_AGEB', '1172')])\n",
      "OrderedDict([('CVE_ENT', '09'), ('CVE_LOC', '0001'), ('CVE_MUN', '017'), ('CVE_AGEB', '0795')])\n",
      "OrderedDict([('CVE_ENT', '09'), ('CVE_LOC', '0001'), ('CVE_MUN', '017'), ('CVE_AGEB', '0992')])\n",
      "OrderedDict([('CVE_ENT', '09'), ('CVE_LOC', '0001'), ('CVE_MUN', '017'), ('CVE_AGEB', '1100')])\n",
      "OrderedDict([('CVE_ENT', '09'), ('CVE_LOC', '0001'), ('CVE_MUN', '017'), ('CVE_AGEB', '1187')])\n",
      "OrderedDict([('CVE_ENT', '09'), ('CVE_LOC', '0001'), ('CVE_MUN', '017'), ('CVE_AGEB', '0988')])\n",
      "OrderedDict([('CVE_ENT', '09'), ('CVE_LOC', '0001'), ('CVE_MUN', '017'), ('CVE_AGEB', '0969')])\n",
      "OrderedDict([('CVE_ENT', '09'), ('CVE_LOC', '0001'), ('CVE_MUN', '017'), ('CVE_AGEB', '0973')])\n",
      "OrderedDict([('CVE_ENT', '09'), ('CVE_LOC', '0001'), ('CVE_MUN', '017'), ('CVE_AGEB', '1007')])\n"
     ]
    },
    {
     "name": "stdout",
     "output_type": "stream",
     "text": [
      "OrderedDict([('CVE_ENT', '09'), ('CVE_MUN', '002'), ('CVE_LOC', '0001'), ('CVE_VIAL', '00854'), ('CVE_SEG', '00007'), ('NOMVIAL', 'Calzada de las Armas'), ('TIPOVIAL', 'Avenida'), ('SENTIDO', 'Dos sentidos')])\n",
      "OrderedDict([('CVE_ENT', '09'), ('CVE_MUN', '002'), ('CVE_LOC', '0001'), ('CVE_VIAL', '00854'), ('CVE_SEG', '00006'), ('NOMVIAL', 'Calzada de las Armas'), ('TIPOVIAL', 'Avenida'), ('SENTIDO', 'Dos sentidos')])\n",
      "OrderedDict([('CVE_ENT', '09'), ('CVE_MUN', '002'), ('CVE_LOC', '0001'), ('CVE_VIAL', '01091'), ('CVE_SEG', '00001'), ('NOMVIAL', 'Calzada de la Naranja'), ('TIPOVIAL', 'Avenida'), ('SENTIDO', 'Dos sentidos')])\n",
      "OrderedDict([('CVE_ENT', '09'), ('CVE_MUN', '002'), ('CVE_LOC', '0001'), ('CVE_VIAL', '00348'), ('CVE_SEG', '00001'), ('NOMVIAL', 'Poniente 150'), ('TIPOVIAL', 'Calle'), ('SENTIDO', 'Dos sentidos')])\n",
      "OrderedDict([('CVE_ENT', '09'), ('CVE_MUN', '002'), ('CVE_LOC', '0001'), ('CVE_VIAL', '00340'), ('CVE_SEG', '00002'), ('NOMVIAL', 'Maravillas'), ('TIPOVIAL', 'Avenida'), ('SENTIDO', 'Dos sentidos')])\n",
      "OrderedDict([('CVE_ENT', '09'), ('CVE_MUN', '002'), ('CVE_LOC', '0001'), ('CVE_VIAL', '00854'), ('CVE_SEG', '00028'), ('NOMVIAL', 'Calzada de las Armas'), ('TIPOVIAL', 'Avenida'), ('SENTIDO', 'Dos sentidos')])\n",
      "OrderedDict([('CVE_ENT', '09'), ('CVE_MUN', '002'), ('CVE_LOC', '0001'), ('CVE_VIAL', '01113'), ('CVE_SEG', '00010'), ('NOMVIAL', 'Santiago Ahuizotla'), ('TIPOVIAL', 'Calzada'), ('SENTIDO', 'Dos sentidos')])\n",
      "OrderedDict([('CVE_ENT', '09'), ('CVE_MUN', '002'), ('CVE_LOC', '0001'), ('CVE_VIAL', '00854'), ('CVE_SEG', '00016'), ('NOMVIAL', 'Calzada de las Armas'), ('TIPOVIAL', 'Avenida'), ('SENTIDO', 'Dos sentidos')])\n",
      "OrderedDict([('CVE_ENT', '09'), ('CVE_MUN', '002'), ('CVE_LOC', '0001'), ('CVE_VIAL', '00048'), ('CVE_SEG', '00021'), ('NOMVIAL', 'De las Granjas'), ('TIPOVIAL', 'Avenida'), ('SENTIDO', 'Dos sentidos')])\n",
      "OrderedDict([('CVE_ENT', '09'), ('CVE_MUN', '002'), ('CVE_LOC', '0001'), ('CVE_VIAL', '00854'), ('CVE_SEG', '00019'), ('NOMVIAL', 'Calzada de las Armas'), ('TIPOVIAL', 'Avenida'), ('SENTIDO', 'Dos sentidos')])\n",
      "OrderedDict([('CVE_ENT', '09'), ('CVE_MUN', '002'), ('CVE_LOC', '0001'), ('CVE_VIAL', '00686'), ('CVE_SEG', '00003'), ('NOMVIAL', 'Mayas'), ('TIPOVIAL', 'Calle'), ('SENTIDO', 'Dos sentidos')])\n",
      "OrderedDict([('CVE_ENT', '09'), ('CVE_MUN', '002'), ('CVE_LOC', '0001'), ('CVE_VIAL', '00854'), ('CVE_SEG', '00024'), ('NOMVIAL', 'Calzada de las Armas'), ('TIPOVIAL', 'Avenida'), ('SENTIDO', 'Dos sentidos')])\n",
      "OrderedDict([('CVE_ENT', '09'), ('CVE_MUN', '004'), ('CVEGEO', '090040157'), ('CVE_AGEB', '0157')])\n",
      "OrderedDict([('CVE_ENT', '09'), ('CVE_MUN', '004'), ('CVEGEO', '090040335'), ('CVE_AGEB', '0335')])\n",
      "OrderedDict([('CVE_ENT', '09'), ('CVE_MUN', '008'), ('CVEGEO', '090080368'), ('CVE_AGEB', '0368')])\n",
      "OrderedDict([('CVE_ENT', '09'), ('CVE_MUN', '009'), ('CVEGEO', '090090100'), ('CVE_AGEB', '0100')])\n",
      "OrderedDict([('CVE_ENT', '09'), ('CVE_MUN', '009'), ('CVEGEO', '090090524'), ('CVE_AGEB', '0524')])\n",
      "OrderedDict([('CVE_ENT', '09'), ('CVE_MUN', '009'), ('CVEGEO', '090090115'), ('CVE_AGEB', '0115')])\n",
      "OrderedDict([('CVE_ENT', '09'), ('CVE_MUN', '009'), ('CVEGEO', '090090539'), ('CVE_AGEB', '0539')])\n",
      "OrderedDict([('CVE_ENT', '09'), ('CVE_MUN', '010'), ('CVEGEO', '090101326'), ('CVE_AGEB', '1326')])\n",
      "OrderedDict([('CVE_ENT', '09'), ('CVE_MUN', '011'), ('CVEGEO', '090110838'), ('CVE_AGEB', '0838')])\n",
      "OrderedDict([('CVE_ENT', '09'), ('CVE_MUN', '011'), ('CVEGEO', '090111107'), ('CVE_AGEB', '1107')])\n",
      "OrderedDict([('CVE_ENT', '09'), ('CVE_MUN', '011'), ('CVEGEO', '090110471'), ('CVE_AGEB', '0471')])\n",
      "OrderedDict([('CVE_ENT', '09'), ('CVE_MUN', '011'), ('CVEGEO', '090111198'), ('CVE_AGEB', '1198')])\n",
      "OrderedDict([('CVE_ENT', '09'), ('CVE_MUN', '011'), ('CVEGEO', '090111179'), ('CVE_AGEB', '1179')])\n",
      "OrderedDict([('CVE_ENT', '09'), ('CVE_MUN', '012'), ('CVEGEO', '090121250'), ('CVE_AGEB', '1250')])\n",
      "OrderedDict([('CVE_ENT', '09'), ('CVE_MUN', '012'), ('CVEGEO', '090121829'), ('CVE_AGEB', '1829')])\n",
      "OrderedDict([('CVE_ENT', '09'), ('CVE_MUN', '012'), ('CVEGEO', '090121227'), ('CVE_AGEB', '1227')])\n",
      "OrderedDict([('CVE_ENT', '09'), ('CVE_MUN', '012'), ('CVEGEO', '090121231'), ('CVE_AGEB', '1231')])\n",
      "OrderedDict([('CVE_ENT', '09'), ('CVE_MUN', '012'), ('CVEGEO', '090121246'), ('CVE_AGEB', '1246')])\n",
      "OrderedDict([('CVE_ENT', '09'), ('CVE_MUN', '013'), ('CVEGEO', '090130620'), ('CVE_AGEB', '0620')])\n",
      "OrderedDict([('CVE_ENT', '09'), ('CVE_MUN', '013'), ('CVEGEO', '090130635'), ('CVE_AGEB', '0635')])\n",
      "OrderedDict([('CVE_ENT', '09'), ('CVE_MUN', '013'), ('CVEGEO', '090130902'), ('CVE_AGEB', '0902')])\n",
      "OrderedDict([('CVE_ENT', '09'), ('CVE_MUN', '013'), ('CVEGEO', '090131281'), ('CVE_AGEB', '1281')])\n",
      "OrderedDict([('CVE_ENT', '09'), ('CVE_MUN', '002'), ('CVE_LOC', '0001'), ('CVE_AGEB', '0985'), ('CVE_MZA', '032'), ('TIPOMZA', 'Contenedora')])\n"
     ]
    }
   ],
   "source": [
    "from dbfread import DBF\n",
    "for i in onlyfiles:\n",
    "    try:\n",
    "        for record in DBF(\"conjunto de datos/{}\".format(i)):\n",
    "            print(record)\n",
    "    except:\n",
    "        h=0"
   ]
  },
  {
   "cell_type": "code",
   "execution_count": 78,
   "metadata": {},
   "outputs": [],
   "source": [
    "import folium\n",
    "from folium import plugins\n",
    "from folium.plugins import HeatMap\n",
    "import numpy as np"
   ]
  },
  {
   "cell_type": "code",
   "execution_count": 79,
   "metadata": {},
   "outputs": [],
   "source": [
    "geografia=df.dropna(subset=[\"latitud\",\"longitud\"])"
   ]
  },
  {
   "cell_type": "code",
   "execution_count": 80,
   "metadata": {},
   "outputs": [],
   "source": [
    "latitud=[]\n",
    "lontitud=[]\n",
    "for i,j,k in zip(list(geografia[\"delito\"]),list(geografia[\"latitud\"]),list(geografia[\"longitud\"])):\n",
    "    if \"HOMICIDIO\" in i and \"CULPOSO\" not in i and \"TENTATIVA\" not in i:\n",
    "        latitud.append(j)\n",
    "        lontitud.append(k)"
   ]
  },
  {
   "cell_type": "code",
   "execution_count": 81,
   "metadata": {},
   "outputs": [],
   "source": [
    "homicidios=pd.DataFrame(columns=[\"latitud\",\"longitud\"])\n",
    "homicidios[\"latitud\"]=latitud\n",
    "homicidios[\"longitud\"]=lontitud"
   ]
  },
  {
   "cell_type": "code",
   "execution_count": 82,
   "metadata": {},
   "outputs": [
    {
     "data": {
      "text/plain": [
       "(19.38695277436042, -99.12107016887825)"
      ]
     },
     "execution_count": 82,
     "metadata": {},
     "output_type": "execute_result"
    }
   ],
   "source": [
    "np.average(homicidios[\"latitud\"]),np.average(homicidios[\"longitud\"])"
   ]
  },
  {
   "cell_type": "code",
   "execution_count": 83,
   "metadata": {},
   "outputs": [],
   "source": [
    "homicidios=homicidios.dropna()"
   ]
  },
  {
   "cell_type": "code",
   "execution_count": 84,
   "metadata": {},
   "outputs": [
    {
     "data": {
      "text/html": [
       "<div>\n",
       "<style scoped>\n",
       "    .dataframe tbody tr th:only-of-type {\n",
       "        vertical-align: middle;\n",
       "    }\n",
       "\n",
       "    .dataframe tbody tr th {\n",
       "        vertical-align: top;\n",
       "    }\n",
       "\n",
       "    .dataframe thead th {\n",
       "        text-align: right;\n",
       "    }\n",
       "</style>\n",
       "<table border=\"1\" class=\"dataframe\">\n",
       "  <thead>\n",
       "    <tr style=\"text-align: right;\">\n",
       "      <th></th>\n",
       "      <th>latitud</th>\n",
       "      <th>longitud</th>\n",
       "    </tr>\n",
       "  </thead>\n",
       "  <tbody>\n",
       "    <tr>\n",
       "      <th>0</th>\n",
       "      <td>19.371980</td>\n",
       "      <td>-99.201435</td>\n",
       "    </tr>\n",
       "    <tr>\n",
       "      <th>1</th>\n",
       "      <td>19.513461</td>\n",
       "      <td>-99.200244</td>\n",
       "    </tr>\n",
       "    <tr>\n",
       "      <th>2</th>\n",
       "      <td>19.491234</td>\n",
       "      <td>-99.210923</td>\n",
       "    </tr>\n",
       "    <tr>\n",
       "      <th>3</th>\n",
       "      <td>19.374306</td>\n",
       "      <td>-99.228027</td>\n",
       "    </tr>\n",
       "    <tr>\n",
       "      <th>4</th>\n",
       "      <td>19.379070</td>\n",
       "      <td>-99.208224</td>\n",
       "    </tr>\n",
       "    <tr>\n",
       "      <th>...</th>\n",
       "      <td>...</td>\n",
       "      <td>...</td>\n",
       "    </tr>\n",
       "    <tr>\n",
       "      <th>3669</th>\n",
       "      <td>19.239340</td>\n",
       "      <td>-99.147315</td>\n",
       "    </tr>\n",
       "    <tr>\n",
       "      <th>3670</th>\n",
       "      <td>19.441466</td>\n",
       "      <td>-99.122396</td>\n",
       "    </tr>\n",
       "    <tr>\n",
       "      <th>3671</th>\n",
       "      <td>19.216741</td>\n",
       "      <td>-99.205817</td>\n",
       "    </tr>\n",
       "    <tr>\n",
       "      <th>3672</th>\n",
       "      <td>19.236160</td>\n",
       "      <td>-99.158617</td>\n",
       "    </tr>\n",
       "    <tr>\n",
       "      <th>3673</th>\n",
       "      <td>19.270749</td>\n",
       "      <td>-99.238565</td>\n",
       "    </tr>\n",
       "  </tbody>\n",
       "</table>\n",
       "<p>3674 rows × 2 columns</p>\n",
       "</div>"
      ],
      "text/plain": [
       "        latitud   longitud\n",
       "0     19.371980 -99.201435\n",
       "1     19.513461 -99.200244\n",
       "2     19.491234 -99.210923\n",
       "3     19.374306 -99.228027\n",
       "4     19.379070 -99.208224\n",
       "...         ...        ...\n",
       "3669  19.239340 -99.147315\n",
       "3670  19.441466 -99.122396\n",
       "3671  19.216741 -99.205817\n",
       "3672  19.236160 -99.158617\n",
       "3673  19.270749 -99.238565\n",
       "\n",
       "[3674 rows x 2 columns]"
      ]
     },
     "execution_count": 84,
     "metadata": {},
     "output_type": "execute_result"
    }
   ],
   "source": [
    "homicidios"
   ]
  },
  {
   "cell_type": "code",
   "execution_count": 85,
   "metadata": {},
   "outputs": [],
   "source": [
    "map1 = folium.Map(\n",
    "    location=[19.3869460877355,-99.12103755971637],\n",
    "    tiles='cartodbpositron',\n",
    "    zoom_start=11,\n",
    ")"
   ]
  },
  {
   "cell_type": "code",
   "execution_count": 86,
   "metadata": {},
   "outputs": [],
   "source": [
    "HeatMap(homicidios).add_to(map1);"
   ]
  },
  {
   "cell_type": "code",
   "execution_count": 87,
   "metadata": {
    "scrolled": false
   },
   "outputs": [
    {
     "data": {
      "text/html": [
       "<div style=\"width:100%;\"><div style=\"position:relative;width:100%;height:0;padding-bottom:60%;\"><span style=\"color:#565656\">Make this Notebook Trusted to load map: File -> Trust Notebook</span><iframe src=\"about:blank\" style=\"position:absolute;width:100%;height:100%;left:0;top:0;border:none !important;\" data-html=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 onload=\"this.contentDocument.open();this.contentDocument.write(atob(this.getAttribute('data-html')));this.contentDocument.close();\" allowfullscreen webkitallowfullscreen mozallowfullscreen></iframe></div></div>"
      ],
      "text/plain": [
       "<folium.folium.Map at 0x7f9c1bbc29d0>"
      ]
     },
     "execution_count": 87,
     "metadata": {},
     "output_type": "execute_result"
    }
   ],
   "source": [
    "map1"
   ]
  },
  {
   "cell_type": "markdown",
   "metadata": {},
   "source": [
    "Los homicidios suceden más al centro y norte de la CDMX. En La parte sur hay partes seguras representadas por zonas vacias"
   ]
  },
  {
   "cell_type": "markdown",
   "metadata": {},
   "source": [
    "10)¿Cómo diseñarías un indicador que midiera el nivel “inseguridad”? Diséñalo al nivel de\n",
    "desagregación que te parezca más adecuado (ej. manzana, calle, AGEB, etc.)."
   ]
  },
  {
   "cell_type": "markdown",
   "metadata": {},
   "source": [
    "Contaría el número de homicidios por colonia ajustando el número con su población"
   ]
  },
  {
   "cell_type": "markdown",
   "metadata": {},
   "source": [
    "11) Con alguna de las medidas de crimen que calculaste en los incisos anteriores, encuentra\n",
    "patrones de concentración geográfica de delitos (hint: puedes usar algoritmos de\n",
    "Machine Learning no supervisados).\n",
    "\n",
    "a) ¿Qué caracteriza a cada punto de concentración de delitos y qué tienen en\n",
    "común?"
   ]
  },
  {
   "cell_type": "code",
   "execution_count": 88,
   "metadata": {},
   "outputs": [],
   "source": [
    "from sklearn.cluster import KMeans"
   ]
  },
  {
   "cell_type": "code",
   "execution_count": 89,
   "metadata": {},
   "outputs": [],
   "source": [
    "from sklearn.preprocessing import StandardScaler\n",
    "features = list(df.columns)\n",
    "# Separating out the features\n",
    "#x = df.loc[:, features].values\n",
    "# Standardizing the features\n",
    "#x = StandardScaler().fit_transform(x)"
   ]
  },
  {
   "cell_type": "markdown",
   "metadata": {},
   "source": [
    "12) Toma los delitos clasificados como “Robo a pasajero a bordo de transporte público con\n",
    "y sin violencia”. ¿Cuáles son las ruta de transporte público donde más ocurren estos\n",
    "delitos?"
   ]
  },
  {
   "cell_type": "code",
   "execution_count": 90,
   "metadata": {},
   "outputs": [
    {
     "data": {
      "text/plain": [
       "CALZADA IGNACIO ZARAGOZA    152\n",
       "PERIFERICO                   53\n",
       "ANILLO PERIFERICO            49\n",
       "CALZ. IGNACIO ZARAGOZA       39\n",
       "PERIFERICO SUR               30\n",
       "                           ... \n",
       "NAUTLA                        1\n",
       "PROL. MORELOS                 1\n",
       "CHIMALCOYOTL                  1\n",
       "AV. EFREN CARRILLO            1\n",
       "PUEBLA                        1\n",
       "Name: calle_hechos, Length: 2397, dtype: int64"
      ]
     },
     "execution_count": 90,
     "metadata": {},
     "output_type": "execute_result"
    }
   ],
   "source": [
    "df[(df[\"delito\"]==\"ROBO A PASAJERO A BORDO DE TRANSPORTE PÚBLICO CON VIOLENCIA\") | \\\n",
    "   (df[\"delito\"]==\"ROBO A PASAJERO A BORDO DE TRANSPORTE PÚBLICO SIN VIOLENCIA\")][\"calle_hechos\"].value_counts()"
   ]
  },
  {
   "cell_type": "markdown",
   "metadata": {},
   "source": [
    "1. CALZADA IGNACIO ZARAGOZA                        \n",
    "2. PERIFERICO                                     \n",
    "3. ANILLO PERIFERICO                                \n",
    "4. CALZ. IGNACIO ZARAGOZA                         \n",
    "5. PERIFERICO SUR"
   ]
  }
 ],
 "metadata": {
  "kernelspec": {
   "display_name": "Python 3",
   "language": "python",
   "name": "python3"
  },
  "language_info": {
   "codemirror_mode": {
    "name": "ipython",
    "version": 3
   },
   "file_extension": ".py",
   "mimetype": "text/x-python",
   "name": "python",
   "nbconvert_exporter": "python",
   "pygments_lexer": "ipython3",
   "version": "3.7.6"
  }
 },
 "nbformat": 4,
 "nbformat_minor": 4
}
